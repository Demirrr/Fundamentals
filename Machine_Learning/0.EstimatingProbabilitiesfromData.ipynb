{
 "cells": [
  {
   "cell_type": "markdown",
   "id": "96c10aa3",
   "metadata": {},
   "source": [
    "# Estimating Probabilities from Data\n",
    "\n",
    "\n",
    "Tutorial is based on \n",
    "1. [CORNELL CS4780 \"Machine Learning for Intelligent Systems\"](https://www.youtube.com/watch?v=VDK0nkjFh5U&list=PLl8OlHZGYOQ7bkVbuRthEsaLr7bONzbXS&index=9) by Killian Weinberger."
   ]
  },
  {
   "cell_type": "markdown",
   "id": "7c23cad6",
   "metadata": {},
   "source": [
    "## Estimating Probabilities from Data\n",
    "\n",
    "\n",
    "$$ \\mathbb P( \\mathcal D ) $$\n",
    "\n",
    "\n",
    "### Observation $$ \\mathcal D = H, T, T, H, H, H, T, T, T, T$$\n",
    "We have n=10 independent events/observations. \n",
    "Each observation is a binomial observation, i.e., can take one of two different values, e.g. 0/1, yes/no, H/T.\n",
    "\n",
    "### What is the probability of observing H ? $$ \\\\ \\mathbb P( \\mathcal D ) \\approx \\frac{n_H}{n_H + n_T}$$\n",
    "\n",
    "\n",
    "\n",
    "### MLE: $$ \\\\ \\mathbb P( \\mathcal D; \\Theta)$$\n",
    "\n",
    "$\\Theta$ denotes the probability of observing $H$. \n",
    "Our goal is to find $\\Theta$ that maximize the probability of observing this data $D$.\n",
    "\n",
    "$$ \\Theta = argmax_\\Theta \\mathbb P (\\mathcal D; \\Theta )$$\n",
    "\n",
    "also written as\n",
    "\n",
    "$$ \\Theta = argmax_\\Theta \\mathbb P_\\Theta  (\\mathcal D)$$\n",
    "\n",
    "### Binomial Distribution: $$ \\mathbb P( \\mathcal D; \\Theta) = {n_H + n_T \\choose n_H} \\Theta^{n_H} (1- \\Theta) ^{n_T}$$\n",
    "where \n",
    "+ $n_H$ and $n_T$ denote the number of observed heads and tails, respectively\n",
    "+ $\\Theta \\in [0,1]$"
   ]
  },
  {
   "cell_type": "markdown",
   "id": "88a0d508",
   "metadata": {},
   "source": [
    "### Compute MLE for $$ \\mathbb P( \\mathcal D = H, T, T, H, H, H, T, T, T, T; \\Theta=.5)$$\n",
    "\n",
    "$$ {4 + 6 \\choose 4} 0.5^4 (1-0.5)^6 $$"
   ]
  },
  {
   "cell_type": "code",
   "execution_count": 1,
   "id": "d7b81473",
   "metadata": {},
   "outputs": [
    {
     "data": {
      "text/plain": [
       "0.205078125"
      ]
     },
     "execution_count": 1,
     "metadata": {},
     "output_type": "execute_result"
    }
   ],
   "source": [
    "import math\n",
    "math.comb(4+6,4) * 0.5**4 *(1-0.5)**6"
   ]
  },
  {
   "cell_type": "markdown",
   "id": "0a0365d4",
   "metadata": {},
   "source": [
    "## How to solve this MLE problem\n",
    "\n",
    "\n",
    "### 1. $$ \\Theta = argmax_\\Theta \\mathbb P (\\mathcal D; \\Theta )$$\n",
    "\n",
    "\n",
    "### 2. $$ = argmax_\\Theta {n_H + n_T \\choose n_H} \\Theta^{n_H} (1- \\Theta) ^{n_T}$$\n",
    "\n",
    "\n",
    "### 3. $$ = argmax_\\Theta \\; log\\Big( {n_H + n_T \\choose n_H} \\Theta^{n_H} (1- \\Theta) ^{n_T} \\Big) $$\n",
    "\n",
    "\n",
    "### 4. $$ = log{n_H + n_T \\choose n_H} + log(\\Theta^{n_H}) + log((1- \\Theta) ^{n_T})$$\n",
    "Logarithm of a Product.\n",
    "\n",
    "\n",
    "### 5. $$ = log{n_H + n_T \\choose n_H} + n_H log\\Theta + n_T log(1- \\Theta)$$\n",
    "Logarithm of a Power.\n",
    "\n",
    "\n",
    "### 6. Take the derivative of 5 w.r.t. $\\Theta$ and set it to 0.\n",
    "\n",
    "+ The first term $log{n_H + n_T \\choose n_H}$ is gone\n",
    "+ The second term $\\frac{n_H}{\\Theta}$ due to logarithmic derivative\n",
    "+ The third term $-\\frac{n_T}{1-\\Theta}$ due to logarithmic derivative\n",
    "\n",
    "#### 6.1 $$ \\frac{n_H}{\\Theta} - \\frac{n_T}{1-\\Theta} = 0$$\n",
    "\n",
    "#### 6.2 $$ \\frac{n_H}{\\Theta} = \\frac{n_T}{1-\\Theta}$$\n",
    "\n",
    "#### 6.3 Solution:$$ \\Theta = \\frac{n_H}{n_H + n_T}$$"
   ]
  },
  {
   "cell_type": "markdown",
   "id": "9335bc27",
   "metadata": {},
   "source": [
    "## How to solve this MAP problem\n",
    "\n",
    "\n",
    "### 1. $$ \\Theta = argmax_\\Theta \\mathbb P (\\mathcal D | \\Theta )$$\n",
    "\n",
    "In MLE, we aim to find $\\Theta = argmax_\\Theta \\mathbb P (\\mathcal D ;\\Theta )$, i.e., find $\\Theta$ that maximize the probability of observing $\\mathcal D$. In MAP, we assume that $\\Theta$ is a random variable\n"
   ]
  },
  {
   "cell_type": "markdown",
   "id": "cd6f2ffe",
   "metadata": {},
   "source": [
    "### 2. $$ \\Theta = argmax_\\Theta \\frac{\\mathbb P(\\Theta | \\mathcal D) \\; \\mathbb P(\\mathcal D)}{\\mathbb P(\\Theta)}$$\n",
    "Applying Bayes rule.\n"
   ]
  },
  {
   "cell_type": "markdown",
   "id": "0cf09aec",
   "metadata": {},
   "source": [
    "### 3. $$ \\mathbb P(\\Theta | \\mathcal D) \\propto \\; \n",
    "\\mathbb P(\\mathcal D | \\Theta) \\mathbb P(\\mathcal D)$$\n",
    "\n",
    "### 3.1 $$ \\Theta = argmax_\\Theta \n",
    "\\mathbb P(\\mathcal D | \\Theta) \\mathbb P(\\mathcal D)$$\n",
    "Applying Bayes rule. Our goal is to maximize the conditional probability of observing $\\Theta$ given $\\mathcal D$.\n"
   ]
  },
  {
   "cell_type": "markdown",
   "id": "4f2bdf6f",
   "metadata": {},
   "source": [
    "### 4 $$ \\Theta = argmax_\\Theta \n",
    "log( \\mathbb P(\\mathcal D | \\Theta)) \\mathbb P(\\mathcal D))$$\n"
   ]
  },
  {
   "cell_type": "markdown",
   "id": "555ecc30",
   "metadata": {},
   "source": [
    "### 5 $$ \\Theta = argmax_\\Theta \n",
    "log( \\mathbb P(\\mathcal D | \\Theta)) + log(\\mathbb P(\\mathcal D))$$\n"
   ]
  },
  {
   "cell_type": "markdown",
   "id": "814de672",
   "metadata": {},
   "source": [
    "### 5.1. $$ \\mathbb P (\\Theta)^\\text{Beta} =\\frac{\\Theta^{\\alpha -1} (1-\\Theta)^{\\beta-1}}{B(\\alpha,\\beta)}$$\n",
    "**This is beta distribution** and returns values between 0 and 1\n",
    "Value between 0 and 1."
   ]
  },
  {
   "cell_type": "markdown",
   "id": "62cb1722",
   "metadata": {},
   "source": [
    "### 6.1. $$ \\mathbb P(\\mathcal D | \\Theta) = {n_H + n_T \\choose n_H} \\Theta^{n_H} (1- \\Theta) ^{n_T}$$\n",
    "where \n",
    "+ $n_H$ and $n_T$ denote the number of observed heads and tails, respectively\n",
    "+ $\\Theta \\in [0,1]$"
   ]
  },
  {
   "cell_type": "markdown",
   "id": "e0c928f9",
   "metadata": {},
   "source": [
    "### 7. $$ = {n_H + n_T \\choose n_H} \\Theta^{n_H} (1- \\Theta) ^{n_T}  \\cdot  \\Big( \\frac{\\Theta^{\\alpha -1} (1-\\Theta)^{\\beta-1}}{B(\\alpha,\\beta)}\\Big)$$\n",
    "\n",
    "**Puting 5.1 and 6.1 in the step 4**\n"
   ]
  },
  {
   "cell_type": "markdown",
   "id": "eab971ff",
   "metadata": {},
   "source": [
    "### 8. $$ =  {n_H + n_T \\choose n_H} \\Theta^{n_H} (1- \\Theta) ^{n_T} \\Theta^{\\alpha -1} (1-\\Theta)^{\\beta-1}$$\n",
    "\n",
    "**Remove the constant**"
   ]
  },
  {
   "cell_type": "markdown",
   "id": "4528c060",
   "metadata": {},
   "source": [
    "### 9. $$ \\Theta = argmax_\\Theta  {n_H + n_T \\choose n_H} \\Theta^{n_H + \\alpha -1} (1- \\Theta) ^{n_T + \\beta-1} $$\n",
    "\n",
    "**Group the terms through using Product rules of exponents**"
   ]
  },
  {
   "cell_type": "markdown",
   "id": "8f1a7995",
   "metadata": {},
   "source": [
    "### 10. $$ log\\Big({n_H + n_T \\choose n_H}\\Big) + log\\Big(\\Theta^{n_H + \\alpha -1}\\Big) + log\\Big((1- \\Theta) ^{n_T + \\beta-1} \\Big) $$\n",
    "\n",
    "**Take the log and distribute it over product**"
   ]
  },
  {
   "cell_type": "markdown",
   "id": "98c01e5f",
   "metadata": {},
   "source": [
    "### 11. $$ log\\Big({n_H + n_T \\choose n_H}\\Big) + \\Big((n_H + \\alpha -1) log\\Theta\\Big) + \\Big((n_T + \\beta-1) log(1- \\Theta) \\Big) $$\n",
    "\n",
    "**Apply the power rule of logarithm**"
   ]
  },
  {
   "cell_type": "markdown",
   "id": "777f2d66",
   "metadata": {},
   "source": [
    "### 12. Take the derivative of 11 w.r.t. $\\Theta$ and set it to 0.\n",
    "\n",
    "+ The first term $log{n_H + n_T \\choose n_H}$ is gone\n",
    "+ The second term $\\frac{n_H + \\alpha -1 }{\\Theta}$ due to the logarithmic derivative\n",
    "+ The third term $-\\frac{n_T+\\beta -1 }{1-\\Theta}$ due to the logarithmic derivative\n",
    "\n",
    "\n",
    "\n",
    "#### 12.1 $$ \\frac{n_H + \\alpha -1 }{\\Theta} -\\frac{n_T+\\beta -1 }{1-\\Theta} = 0$$\n",
    "\n",
    "#### 12.2 $$ \\frac{n_H + \\alpha -1 }{\\Theta} =\\frac{n_T+\\beta -1 }{1-\\Theta}$$\n"
   ]
  },
  {
   "cell_type": "markdown",
   "id": "30142528",
   "metadata": {},
   "source": [
    "#### 12.3 $$ (1-\\Theta) (n_H + \\alpha -1)= \\Theta (n_T + \\beta-1)$$"
   ]
  },
  {
   "cell_type": "markdown",
   "id": "b5109092",
   "metadata": {},
   "source": [
    "#### 12.4 $$ (n_H + \\alpha -1)-\\Theta(n_H + \\alpha -1)= \\Theta (n_T + \\beta-1)$$"
   ]
  },
  {
   "cell_type": "markdown",
   "id": "e3c60a9d",
   "metadata": {},
   "source": [
    "#### 12.5 $$ (n_H + \\alpha -1)= \\Theta (n_T + \\beta-1) +\\Theta(n_H + \\alpha -1) $$"
   ]
  },
  {
   "cell_type": "markdown",
   "id": "b4f55cb9",
   "metadata": {},
   "source": [
    "#### 12.6 $$ (n_H + \\alpha -1)= \\Theta (n_H + n_T + \\alpha + \\beta -2) $$"
   ]
  },
  {
   "cell_type": "markdown",
   "id": "0b5626b3",
   "metadata": {},
   "source": [
    "#### 12.7 $$ \\Theta= \\frac{n_H + \\alpha -1}{n_H + n_T + \\alpha + \\beta-2}$$"
   ]
  },
  {
   "cell_type": "markdown",
   "id": "acc29342",
   "metadata": {},
   "source": [
    "# Implementation of MLE Estimation"
   ]
  },
  {
   "cell_type": "code",
   "execution_count": 2,
   "id": "2beef8a3",
   "metadata": {},
   "outputs": [],
   "source": [
    "from collections import Counter\n",
    "import random\n",
    "import matplotlib.pyplot as plt\n",
    "import functools"
   ]
  },
  {
   "cell_type": "code",
   "execution_count": 3,
   "id": "7c20317e",
   "metadata": {},
   "outputs": [
    {
     "data": {
      "image/png": "[encoded data removed]",
      "text/plain": [
       "<Figure size 432x288 with 1 Axes>"
      ]
     },
     "metadata": {
      "needs_background": "light"
     },
     "output_type": "display_data"
    }
   ],
   "source": [
    "events = ['T', 'H']\n",
    "true_prob = [0.4, 0.6]\n",
    "num_of_samples=1000\n",
    "D=random.choices(population=events, \n",
    "               weights=true_prob,\n",
    "               k=num_of_samples)\n",
    "\n",
    "def mle(dataset):\n",
    "    counter=Counter(dataset)\n",
    "    if 'H' in counter:\n",
    "        return counter['H']/len(dataset)\n",
    "    else:\n",
    "        return 0.0\n",
    "def plotting(estimator,dataset,title_info=''):\n",
    "    x_axis_values=[]\n",
    "    y_axis_values=[]\n",
    "    for x in range(1,len(dataset),10):\n",
    "        estimate=estimator(dataset[:x])\n",
    "        x_axis_values.append(x)\n",
    "        y_axis_values.append(estimate)\n",
    "        \n",
    "    plt.plot(x_axis_values,y_axis_values,c='b')\n",
    "    plt.title(f'Probability of observing Head via {title_info}')\n",
    "    plt.ylabel(\"Probability\")\n",
    "    plt.xlabel(\"Number of Observations\")\n",
    "    plt.ylim(ymax = 1.1, ymin = 0.0)\n",
    "    plt.show()\n",
    "plotting(mle,D,'MLE')"
   ]
  },
  {
   "cell_type": "markdown",
   "id": "fe59b16b",
   "metadata": {},
   "source": [
    "# Implementation of MAP Estimation"
   ]
  },
  {
   "cell_type": "code",
   "execution_count": 4,
   "id": "cbb08b75",
   "metadata": {},
   "outputs": [],
   "source": [
    "def map_estimator(dataset,alpha=1,beta=1):\n",
    "    counter=Counter(dataset)\n",
    "    if 'H' in counter:\n",
    "        return (counter['H']+ alpha-1)/(len(dataset)+alpha+beta-2)\n",
    "    else:\n",
    "        return 0.0"
   ]
  },
  {
   "cell_type": "code",
   "execution_count": 5,
   "id": "93b5279d",
   "metadata": {},
   "outputs": [
    {
     "data": {
      "image/png": "[encoded data removed]",
      "text/plain": [
       "<Figure size 432x288 with 1 Axes>"
      ]
     },
     "metadata": {
      "needs_background": "light"
     },
     "output_type": "display_data"
    }
   ],
   "source": [
    "plotting(map_estimator,D,'MAP') # Same as MLE"
   ]
  },
  {
   "cell_type": "code",
   "execution_count": 6,
   "id": "4bb2ea1d",
   "metadata": {},
   "outputs": [
    {
     "data": {
      "image/png": "[encoded data removed]",
      "text/plain": [
       "<Figure size 432x288 with 1 Axes>"
      ]
     },
     "metadata": {
      "needs_background": "light"
     },
     "output_type": "display_data"
    }
   ],
   "source": [
    "plotting(functools.partial(map_estimator, alpha=0,beta=100),D,'MAP')"
   ]
  }
 ],
 "metadata": {
  "kernelspec": {
   "display_name": "Python (temp)",
   "language": "python",
   "name": "temp"
  },
  "language_info": {
   "codemirror_mode": {
    "name": "ipython",
    "version": 3
   },
   "file_extension": ".py",
   "mimetype": "text/x-python",
   "name": "python",
   "nbconvert_exporter": "python",
   "pygments_lexer": "ipython3",
   "version": "3.9.12"
  }
 },
 "nbformat": 4,
 "nbformat_minor": 5
}
