{
 "cells": [
  {
   "cell_type": "code",
   "execution_count": 1,
   "metadata": {},
   "outputs": [],
   "source": [
    "import numpy as np"
   ]
  },
  {
   "cell_type": "code",
   "execution_count": 2,
   "metadata": {},
   "outputs": [],
   "source": [
    "def fc_forward(x,w,b):\n",
    "    \"\"\"\n",
    "    \n",
    "    \"\"\"\n",
    "    \n",
    "    out=None\n",
    "    \n",
    "    N=x.shape[0]\n",
    "    \n",
    "    reshaped_input= x.reshape(N,-1)\n",
    "    \n",
    "    out = np.dot(reshaped_input,w) + b.T\n",
    "    \n",
    "    cache=(x,w,b)\n",
    "    return out, cache"
   ]
  },
  {
   "cell_type": "code",
   "execution_count": 3,
   "metadata": {},
   "outputs": [],
   "source": [
    "def fc_backward(dout,cache):\n",
    "    \n",
    "    x,w,b=cache\n",
    "    dx, dw, db= None,None,None\n",
    "    \n",
    "    N=x.shape[0]\n",
    "    \n",
    "    dx=np.dot(dout,w.T)\n",
    "    dx=dx.reshape(x.shape)\n",
    "    \n",
    "    reshaped_input = x.reshape(N,-1)\n",
    "    \n",
    "    dw= reshaped_input.T.dout(dout)\n",
    "    \n",
    "    db = np.sum(dout,axis=0)\n",
    "    \n",
    "    return dx,dw,db"
   ]
  },
  {
   "cell_type": "code",
   "execution_count": null,
   "metadata": {},
   "outputs": [],
   "source": []
  }
 ],
 "metadata": {
  "kernelspec": {
   "display_name": "Python (pl2vec)",
   "language": "python",
   "name": "pl2vec"
  },
  "language_info": {
   "codemirror_mode": {
    "name": "ipython",
    "version": 3
   },
   "file_extension": ".py",
   "mimetype": "text/x-python",
   "name": "python",
   "nbconvert_exporter": "python",
   "pygments_lexer": "ipython3",
   "version": "3.6.8"
  }
 },
 "nbformat": 4,
 "nbformat_minor": 2
}
