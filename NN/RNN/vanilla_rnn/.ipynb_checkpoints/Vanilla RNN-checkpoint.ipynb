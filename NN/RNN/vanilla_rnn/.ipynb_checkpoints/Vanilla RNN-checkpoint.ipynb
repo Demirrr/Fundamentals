{
 "cells": [
  {
   "cell_type": "markdown",
   "metadata": {},
   "source": [
    "# Vanilla recurrent neural network\n",
    "\n",
    "We will use many to one RNN as we perform positive or negative sentimen analysis\n",
    "\n",
    "Resouce:https://victorzhou.com/blog/intro-to-rnns/"
   ]
  },
  {
   "cell_type": "code",
   "execution_count": 1,
   "metadata": {},
   "outputs": [],
   "source": [
    "from data import train_data, test_data\n",
    "import numpy as np\n",
    "from numpy.random import randn\n",
    "import random"
   ]
  },
  {
   "cell_type": "code",
   "execution_count": 2,
   "metadata": {},
   "outputs": [
    {
     "name": "stdout",
     "output_type": "stream",
     "text": [
      "18 unique words found\n"
     ]
    }
   ],
   "source": [
    "\n",
    "\n",
    "# Create the vocabulary.\n",
    "vocab = list(set([w for text in train_data.keys() for w in text.split(' ')]))\n",
    "vocab_size = len(vocab)\n",
    "print('%d unique words found' % vocab_size)\n",
    "\n",
    "# Assign indices to each word.\n",
    "word_to_idx = { w: i for i, w in enumerate(vocab) }\n",
    "idx_to_word = { i: w for i, w in enumerate(vocab) }\n",
    "# print(word_to_idx['good'])\n",
    "# print(idx_to_word[0])"
   ]
  },
  {
   "cell_type": "code",
   "execution_count": 3,
   "metadata": {},
   "outputs": [],
   "source": [
    "def createInputs(text):\n",
    "    \"\"\"\n",
    "    Returns an array of one-hot vectors representing the words in the input text string.\n",
    "  - text is a string\n",
    "  - Each one-hot vector has shape (vocab_size, 1)\n",
    "    \"\"\"\n",
    "    \n",
    "    inputs = []\n",
    "    for w in text.split(' '):\n",
    "        v = np.zeros((vocab_size, 1))\n",
    "        v[word_to_idx[w]] = 1\n",
    "        inputs.append(v)\n",
    "    return inputs\n",
    "\n",
    "def softmax(xs):\n",
    "  # Applies the Softmax Function to the input array.\n",
    "  return np.exp(xs) / sum(np.exp(xs))"
   ]
  },
  {
   "cell_type": "code",
   "execution_count": 4,
   "metadata": {},
   "outputs": [],
   "source": [
    "class RNN:\n",
    "    def __init__(self, input_size, output_size, hidden_size=64):\n",
    "        # Weights\n",
    "        self.Whh = randn(hidden_size, hidden_size) / 1000\n",
    "        self.Wxh = randn(hidden_size, input_size) / 1000\n",
    "        self.Why = randn(output_size, hidden_size) / 1000\n",
    "\n",
    "        # Biases\n",
    "        self.bh = np.zeros((hidden_size, 1))\n",
    "        self.by = np.zeros((output_size, 1))\n",
    "    \n",
    "    def forward(self, inputs):\n",
    "        '''\n",
    "        Perform a forward pass of the RNN using the given inputs.\n",
    "        Returns the final output and hidden state.\n",
    "        - inputs is an array of one hot vectors with shape (input_size, 1).\n",
    "        '''\n",
    "        h = np.zeros((self.Whh.shape[0], 1))\n",
    "\n",
    "        self.last_inputs = inputs\n",
    "        self.last_hs = { 0: h }\n",
    "\n",
    "        # Perform each step of the RNN\n",
    "        for i, x in enumerate(inputs):\n",
    "            h = np.tanh(self.Wxh @ x + self.Whh @ h + self.bh)\n",
    "            self.last_hs[i + 1] = h\n",
    "\n",
    "        # Compute the output\n",
    "        y = self.Why @ h + self.by\n",
    "\n",
    "        return y, h\n",
    "\n",
    "    def backprop(self, d_y, learn_rate=2e-2):\n",
    "        \n",
    "        n = len(self.last_inputs)\n",
    "\n",
    "        # Calculate dL/dWhy and dL/dby.\n",
    "        d_Why = d_y @ self.last_hs[n].T\n",
    "        d_by = d_y\n",
    "\n",
    "        # Initialize dL/dWhh, dL/dWxh, and dL/dbh to zero.\n",
    "        d_Whh = np.zeros(self.Whh.shape)\n",
    "        d_Wxh = np.zeros(self.Wxh.shape)\n",
    "        d_bh = np.zeros(self.bh.shape)\n",
    "\n",
    "        # Calculate dL/dh for the last h.\n",
    "        # dL/dh = dL/dy * dy/dh\n",
    "        d_h = self.Why.T @ d_y\n",
    "\n",
    "        # Backpropagate through time.\n",
    "        for t in reversed(range(n)):\n",
    "            # An intermediate value: dL/dh * (1 - h^2)\n",
    "            temp = ((1 - self.last_hs[t + 1] ** 2) * d_h)\n",
    "            \n",
    "            # dL/db = dL/dh * (1 - h^2)\n",
    "            d_bh += temp\n",
    "            \n",
    "            # dL/dWhh = dL/dh * (1 - h^2) * h_{t-1}\n",
    "            d_Whh += temp @ self.last_hs[t].T\n",
    "            \n",
    "            # dL/dWxh = dL/dh * (1 - h^2) * x\n",
    "            d_Wxh += temp @ self.last_inputs[t].T\n",
    "\n",
    "            # Next dL/dh = dL/dh * (1 - h^2) * Whh\n",
    "            d_h = self.Whh @ temp\n",
    "\n",
    "        # Clip to prevent exploding gradients.\n",
    "        for d in [d_Wxh, d_Whh, d_Why, d_bh, d_by]:\n",
    "            np.clip(d, -1, 1, out=d)\n",
    "\n",
    "        # Update weights and biases using gradient descent.\n",
    "        self.Whh -= learn_rate * d_Whh\n",
    "        self.Wxh -= learn_rate * d_Wxh\n",
    "        self.Why -= learn_rate * d_Why\n",
    "        self.bh -= learn_rate * d_bh\n",
    "        self.by -= learn_rate * d_by"
   ]
  },
  {
   "cell_type": "code",
   "execution_count": 5,
   "metadata": {},
   "outputs": [
    {
     "name": "stdout",
     "output_type": "stream",
     "text": [
      "[[0.49999639]\n",
      " [0.50000361]]\n"
     ]
    }
   ],
   "source": [
    "# Initialize our RNN!\n",
    "rnn = RNN(vocab_size, 2)\n",
    "\n",
    "inputs = createInputs('i am very good')\n",
    "out, h = rnn.forward(inputs)\n",
    "probs = softmax(out)\n",
    "print(probs)"
   ]
  },
  {
   "cell_type": "code",
   "execution_count": null,
   "metadata": {},
   "outputs": [],
   "source": []
  },
  {
   "cell_type": "code",
   "execution_count": null,
   "metadata": {},
   "outputs": [],
   "source": []
  },
  {
   "cell_type": "code",
   "execution_count": null,
   "metadata": {},
   "outputs": [],
   "source": []
  },
  {
   "cell_type": "code",
   "execution_count": 6,
   "metadata": {},
   "outputs": [
    {
     "name": "stdout",
     "output_type": "stream",
     "text": [
      "--- Epoch 100\n",
      "Train:\tLoss 0.687 | Accuracy: 0.483\n",
      "Test:\tLoss 0.704 | Accuracy: 0.500\n",
      "--- Epoch 200\n",
      "Train:\tLoss 0.670 | Accuracy: 0.690\n",
      "Test:\tLoss 0.735 | Accuracy: 0.550\n",
      "--- Epoch 300\n",
      "Train:\tLoss 0.582 | Accuracy: 0.690\n",
      "Test:\tLoss 0.724 | Accuracy: 0.550\n",
      "--- Epoch 400\n",
      "Train:\tLoss 0.423 | Accuracy: 0.776\n",
      "Test:\tLoss 0.707 | Accuracy: 0.600\n",
      "--- Epoch 500\n",
      "Train:\tLoss 0.315 | Accuracy: 0.862\n",
      "Test:\tLoss 0.611 | Accuracy: 0.650\n",
      "--- Epoch 600\n",
      "Train:\tLoss 0.103 | Accuracy: 0.966\n",
      "Test:\tLoss 0.698 | Accuracy: 0.850\n",
      "--- Epoch 700\n",
      "Train:\tLoss 0.025 | Accuracy: 1.000\n",
      "Test:\tLoss 0.531 | Accuracy: 0.900\n",
      "--- Epoch 800\n",
      "Train:\tLoss 0.006 | Accuracy: 1.000\n",
      "Test:\tLoss 0.459 | Accuracy: 0.900\n",
      "--- Epoch 900\n",
      "Train:\tLoss 0.004 | Accuracy: 1.000\n",
      "Test:\tLoss 0.350 | Accuracy: 0.950\n",
      "--- Epoch 1000\n",
      "Train:\tLoss 0.002 | Accuracy: 1.000\n",
      "Test:\tLoss 0.329 | Accuracy: 0.950\n",
      "--- Epoch 1100\n",
      "Train:\tLoss 0.002 | Accuracy: 1.000\n",
      "Test:\tLoss 0.313 | Accuracy: 0.950\n",
      "--- Epoch 1200\n",
      "Train:\tLoss 0.001 | Accuracy: 1.000\n",
      "Test:\tLoss 0.300 | Accuracy: 0.950\n",
      "--- Epoch 1300\n",
      "Train:\tLoss 0.001 | Accuracy: 1.000\n",
      "Test:\tLoss 0.292 | Accuracy: 0.950\n",
      "--- Epoch 1400\n",
      "Train:\tLoss 0.001 | Accuracy: 1.000\n",
      "Test:\tLoss 0.258 | Accuracy: 0.950\n",
      "--- Epoch 1500\n",
      "Train:\tLoss 0.001 | Accuracy: 1.000\n",
      "Test:\tLoss 0.244 | Accuracy: 0.950\n",
      "--- Epoch 1600\n",
      "Train:\tLoss 0.001 | Accuracy: 1.000\n",
      "Test:\tLoss 0.227 | Accuracy: 0.950\n",
      "--- Epoch 1700\n",
      "Train:\tLoss 0.001 | Accuracy: 1.000\n",
      "Test:\tLoss 0.205 | Accuracy: 0.950\n",
      "--- Epoch 1800\n",
      "Train:\tLoss 0.001 | Accuracy: 1.000\n",
      "Test:\tLoss 0.183 | Accuracy: 0.950\n",
      "--- Epoch 1900\n",
      "Train:\tLoss 0.001 | Accuracy: 1.000\n",
      "Test:\tLoss 0.157 | Accuracy: 0.950\n",
      "--- Epoch 2000\n",
      "Train:\tLoss 0.000 | Accuracy: 1.000\n",
      "Test:\tLoss 0.128 | Accuracy: 0.950\n",
      "--- Epoch 2100\n",
      "Train:\tLoss 0.000 | Accuracy: 1.000\n",
      "Test:\tLoss 0.102 | Accuracy: 0.950\n",
      "--- Epoch 2200\n",
      "Train:\tLoss 0.000 | Accuracy: 1.000\n",
      "Test:\tLoss 0.085 | Accuracy: 0.950\n",
      "--- Epoch 2300\n",
      "Train:\tLoss 0.000 | Accuracy: 1.000\n",
      "Test:\tLoss 0.054 | Accuracy: 0.950\n",
      "--- Epoch 2400\n",
      "Train:\tLoss 0.000 | Accuracy: 1.000\n",
      "Test:\tLoss 0.039 | Accuracy: 0.950\n",
      "--- Epoch 2500\n",
      "Train:\tLoss 0.000 | Accuracy: 1.000\n",
      "Test:\tLoss 0.028 | Accuracy: 1.000\n",
      "--- Epoch 2600\n",
      "Train:\tLoss 0.000 | Accuracy: 1.000\n",
      "Test:\tLoss 0.022 | Accuracy: 1.000\n",
      "--- Epoch 2700\n",
      "Train:\tLoss 0.000 | Accuracy: 1.000\n",
      "Test:\tLoss 0.018 | Accuracy: 1.000\n",
      "--- Epoch 2800\n",
      "Train:\tLoss 0.000 | Accuracy: 1.000\n",
      "Test:\tLoss 0.015 | Accuracy: 1.000\n",
      "--- Epoch 2900\n",
      "Train:\tLoss 0.000 | Accuracy: 1.000\n",
      "Test:\tLoss 0.013 | Accuracy: 1.000\n",
      "--- Epoch 3000\n",
      "Train:\tLoss 0.000 | Accuracy: 1.000\n",
      "Test:\tLoss 0.011 | Accuracy: 1.000\n"
     ]
    }
   ],
   "source": [
    "def processData(data, backprop=True):\n",
    "    items = list(data.items())\n",
    "    random.shuffle(items)\n",
    "\n",
    "    loss = 0\n",
    "    num_correct = 0\n",
    "\n",
    "    for x, y in items:\n",
    "        inputs = createInputs(x)\n",
    "        target = int(y)\n",
    "\n",
    "        # Forward\n",
    "        out, _ = rnn.forward(inputs)\n",
    "        probs = softmax(out)\n",
    "\n",
    "        # Calculate loss / accuracy\n",
    "        loss -= np.log(probs[target])\n",
    "        num_correct += int(np.argmax(probs) == target)\n",
    "\n",
    "        if backprop:\n",
    "            # Build dL/dy\n",
    "            d_L_d_y = probs\n",
    "            d_L_d_y[target] -= 1\n",
    "\n",
    "            # Backward\n",
    "            rnn.backprop(d_L_d_y)\n",
    "\n",
    "    return loss / len(data), num_correct / len(data)\n",
    "\n",
    "# Training loop\n",
    "for epoch in range(3000):\n",
    "    train_loss, train_acc = processData(train_data)\n",
    "    if epoch % 100 == 99:\n",
    "        print('--- Epoch %d' % (epoch + 1))\n",
    "        print('Train:\\tLoss %.3f | Accuracy: %.3f' % (train_loss, train_acc))\n",
    "\n",
    "        test_loss, test_acc = processData(test_data, backprop=True)\n",
    "        print('Test:\\tLoss %.3f | Accuracy: %.3f' % (test_loss, test_acc))"
   ]
  },
  {
   "cell_type": "code",
   "execution_count": 7,
   "metadata": {},
   "outputs": [
    {
     "name": "stdout",
     "output_type": "stream",
     "text": [
      "[[9.65972376e-04]\n",
      " [9.99034028e-01]]\n"
     ]
    }
   ],
   "source": [
    "inputs = createInputs('i am very good')\n",
    "out, h = rnn.forward(inputs)\n",
    "probs = softmax(out)\n",
    "print(probs)"
   ]
  },
  {
   "cell_type": "code",
   "execution_count": 12,
   "metadata": {},
   "outputs": [
    {
     "data": {
      "text/plain": [
       "array([[False],\n",
       "       [ True]])"
      ]
     },
     "execution_count": 12,
     "metadata": {},
     "output_type": "execute_result"
    }
   ],
   "source": [
    "probs>.9"
   ]
  },
  {
   "cell_type": "code",
   "execution_count": null,
   "metadata": {},
   "outputs": [],
   "source": []
  }
 ],
 "metadata": {
  "kernelspec": {
   "display_name": "Python [conda env:pDL] *",
   "language": "python",
   "name": "conda-env-pDL-py"
  },
  "language_info": {
   "codemirror_mode": {
    "name": "ipython",
    "version": 3
   },
   "file_extension": ".py",
   "mimetype": "text/x-python",
   "name": "python",
   "nbconvert_exporter": "python",
   "pygments_lexer": "ipython3",
   "version": "3.8.6"
  }
 },
 "nbformat": 4,
 "nbformat_minor": 2
}
