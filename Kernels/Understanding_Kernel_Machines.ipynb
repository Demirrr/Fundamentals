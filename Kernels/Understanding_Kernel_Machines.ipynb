{
 "cells": [
  {
   "cell_type": "markdown",
   "metadata": {},
   "source": [
    "# Understanding Kernels in Machine Learning"
   ]
  },
  {
   "cell_type": "markdown",
   "metadata": {},
   "source": [
    "# Not yet completed"
   ]
  },
  {
   "cell_type": "markdown",
   "metadata": {},
   "source": [
    "The kernel corresponds to a dot product in a (usually\n",
    "high-dimensional) feature space [1]. In this space, our estimation methods are linear, but as long as we can formulate everything in terms of kernel evaluations, we never explicitly have to compute in the high-dimensional feature\n",
    "space [1]."
   ]
  },
  {
   "cell_type": "code",
   "execution_count": null,
   "metadata": {},
   "outputs": [],
   "source": []
  },
  {
   "cell_type": "markdown",
   "metadata": {},
   "source": [
    "## Prerequisites\n",
    "\n",
    "\n",
    "Suppose we are given emperical data \n",
    "$$ (x_1,y_1), \\dots,(x_n,y_n) \\in \\mathcal{X} \\times \\mathcal{Y}$$.\n",
    "\n",
    "Here, $x_i \\in \\mathcal{X} $ is called  a input/predictor variable while and $y_i \\in \\mathcal{Y}$ is called target/response variable.\n",
    "\n",
    "In learning, we want to be able to $\\textit{generalize}$ to unseen datapoints. In the case of binary classification, given some unseen input $x\\in\\mathcal{X}$, we would like to predict the correcsponding target $y \\in \\{ \\pm 1 \\}$. Loosely speaking, we would like to chose $y$ such that $(x,y)$ is some sense similar to the training examples. \n",
    "\n",
    "To this end, we need similarity measures in $\\mathcal{X}$ and in $\\{ \\pm 1 \\}$. For the former, we require a function \n",
    "\n",
    "$$ k: \\mathcal{X} \\times \\mathcal{X} \\rightarrow \\mathbb{R}$$\n",
    "\n",
    "satisfying for all $ x,x^{'} \\in \\mathcal{X}$,\n",
    "\n",
    "$$ k(x,x^{'}) = < \\Phi(x), \\Phi(x^{'}) >$$, where $\\Phi$ maps into some dot product space $\\mathcal{H}$, that is also called the $\\textit{feature space}$. $k$ and $\\Phi$ are called a kernel and its feature map.\n",
    "\n",
    "### Definition\n",
    "\n",
    "#### 1. Gram matrix\n",
    "Given a kernel $k$ and inputs $x_1 , \\dots , x_n \\in \\mathcal{X}$, the  $ n \\times n $ matrix is called the Gram matrix\n",
    "\n",
    "$$ K:= ( k (x_i,x_j))_{ij} $$\n",
    "\n",
    "\n",
    "\n",
    "#### 2. Positive Definite Matrix.\n",
    "A real $ n \\times n $ symmetric matrix $K_{ij}$ satisfiying\n",
    "\n",
    "$$ \\Sigma_{i,j} c_i c_j K_{ij} \\geq 0$$ for all $c_i \\in \\mathbb{R}$ is called positive definite.\n",
    "\n",
    "\n",
    "and many other in [1]."
   ]
  },
  {
   "cell_type": "markdown",
   "metadata": {},
   "source": []
  },
  {
   "cell_type": "code",
   "execution_count": 331,
   "metadata": {},
   "outputs": [],
   "source": [
    "import numpy as np\n",
    "import numpy as np\n",
    "import matplotlib.pyplot as plt\n",
    "import seaborn as sns\n",
    "sns.set(style=\"darkgrid\")"
   ]
  },
  {
   "cell_type": "code",
   "execution_count": null,
   "metadata": {},
   "outputs": [],
   "source": [
    "## Define a true function \n",
    "def f(x):\n",
    "    return np.sin(x/10)+(x/50)**2"
   ]
  },
  {
   "cell_type": "code",
   "execution_count": 347,
   "metadata": {},
   "outputs": [],
   "source": [
    "N = 100    # number of training points.\n",
    "n = 30     # number of testing points.\n",
    "s = 0.3    # noise variance."
   ]
  },
  {
   "cell_type": "code",
   "execution_count": 348,
   "metadata": {},
   "outputs": [],
   "source": [
    "X = np.arange(N).reshape(N,1)\n",
    "y = f(X)+s*np.random.randn(N,1)"
   ]
  },
  {
   "cell_type": "code",
   "execution_count": 349,
   "metadata": {},
   "outputs": [],
   "source": [
    "Xtest = np.linspace(0, N, 30).reshape(-1,1)\n",
    "ytest=f(Xtest)+s*np.random.randn(30,1)"
   ]
  },
  {
   "cell_type": "code",
   "execution_count": 350,
   "metadata": {},
   "outputs": [
    {
     "data": {
      "text/plain": [
       "<matplotlib.collections.PathCollection at 0x7f705d502320>"
      ]
     },
     "execution_count": 350,
     "metadata": {},
     "output_type": "execute_result"
    },
    {
     "data": {
      "image/png": "[encoded data removed]",
      "text/plain": [
       "<Figure size 432x288 with 1 Axes>"
      ]
     },
     "metadata": {},
     "output_type": "display_data"
    }
   ],
   "source": [
    "plt.scatter(X,y)"
   ]
  },
  {
   "cell_type": "markdown",
   "metadata": {},
   "source": [
    "# Computing Coeffiecients\n",
    "\n",
    "To compute coefficents we use gaussian function seen below. Gaussian function/kernel has desired properties/characteristics for finding coefficients of such problem. If we assume that the input of a gaussian function is the difference between true value and a prediction, then Gaussian function yields highest result **1** when such difference equals to **0**. \n",
    "\n",
    "\n",
    "In other words, as the discrepancy between prediction and true value diminishes, gaussian function approaches its global maximum/ maximum value.\n",
    "\n"
   ]
  },
  {
   "cell_type": "code",
   "execution_count": 351,
   "metadata": {},
   "outputs": [],
   "source": [
    "def gaussian_function(x):\n",
    "    \"\"\"\n",
    "    1/(sigma*np.sqrt(2*np.pi)) is threated as constant\n",
    "    as it is same for all x values\n",
    "    first term is threated as constant as it is same for all x values\n",
    "    \"\"\"\n",
    "    sigma=1\n",
    "    mu=0\n",
    "    second_term=np.exp(-0.5 * ( 1/np.power(sigma,2) ) * ( np.power(x-mu,2)))\n",
    "    return second_term\n",
    "#input_=np.linspace(-6, 6,1000)\n",
    "#plt.plot(input_,gaussian_function(input_))    "
   ]
  },
  {
   "cell_type": "code",
   "execution_count": 352,
   "metadata": {},
   "outputs": [],
   "source": [
    "predictions=[]\n",
    "for point in Xtest:\n",
    "    weights=[]\n",
    "    for index in range(len(X)):\n",
    "        w=gaussian_function(point-X[index])\n",
    "        weights.append(w)\n",
    "\n",
    "    weights=np.array(weights).reshape(1,len(weights))\n",
    "\n",
    "    p=weights@y/weights.sum()\n",
    "    predictions.append(p[0])\n",
    "    "
   ]
  },
  {
   "cell_type": "code",
   "execution_count": 353,
   "metadata": {},
   "outputs": [
    {
     "data": {
      "text/plain": [
       "<matplotlib.collections.PathCollection at 0x7f705d435c88>"
      ]
     },
     "execution_count": 353,
     "metadata": {},
     "output_type": "execute_result"
    },
    {
     "data": {
      "image/png": "[encoded data removed]",
      "text/plain": [
       "<Figure size 432x288 with 1 Axes>"
      ]
     },
     "metadata": {},
     "output_type": "display_data"
    }
   ],
   "source": [
    "plt.scatter(Xtest,ytest)\n",
    "plt.scatter(Xtest,predictions,color='red')"
   ]
  },
  {
   "cell_type": "markdown",
   "metadata": {},
   "source": [
    "# Faster implementation"
   ]
  },
  {
   "cell_type": "code",
   "execution_count": 325,
   "metadata": {},
   "outputs": [],
   "source": [
    "def kernel(a, b):\n",
    "    \"\"\" GP squared exponential kernel \"\"\"\n",
    "    kernelParameter = 1\n",
    "    sqdist = np.sum(a**2,1).reshape(-1,1) + np.sum(b**2,1) - 2*np.dot(a, b.T)\n",
    "    return np.exp(-.5 * (1/kernelParameter) * sqdist)"
   ]
  },
  {
   "cell_type": "code",
   "execution_count": 354,
   "metadata": {},
   "outputs": [],
   "source": [
    "gram_matrix=kernel(Xtest,X)"
   ]
  },
  {
   "cell_type": "code",
   "execution_count": 355,
   "metadata": {},
   "outputs": [
    {
     "data": {
      "text/plain": [
       "array([[1.00000000e+00, 6.06530660e-01, 1.35335283e-01, ...,\n",
       "        0.00000000e+00, 0.00000000e+00, 0.00000000e+00],\n",
       "       [2.61810839e-03, 4.99352882e-02, 3.50374924e-01, ...,\n",
       "        0.00000000e+00, 0.00000000e+00, 0.00000000e+00],\n",
       "       [4.69840543e-11, 2.81797806e-08, 6.21770685e-06, ...,\n",
       "        0.00000000e+00, 0.00000000e+00, 0.00000000e+00],\n",
       "       ...,\n",
       "       [0.00000000e+00, 0.00000000e+00, 0.00000000e+00, ...,\n",
       "        5.04694294e-04, 6.21770685e-06, 2.81797806e-08],\n",
       "       [0.00000000e+00, 0.00000000e+00, 0.00000000e+00, ...,\n",
       "        9.04407158e-01, 3.50374924e-01, 4.99352882e-02],\n",
       "       [0.00000000e+00, 0.00000000e+00, 0.00000000e+00, ...,\n",
       "        1.11089965e-02, 1.35335283e-01, 6.06530660e-01]])"
      ]
     },
     "execution_count": 355,
     "metadata": {},
     "output_type": "execute_result"
    }
   ],
   "source": [
    "gram_matrix"
   ]
  },
  {
   "cell_type": "code",
   "execution_count": 356,
   "metadata": {},
   "outputs": [],
   "source": [
    "predictions=[]\n",
    "for index in range(len(Xtest)):\n",
    "    p=gram_matrix[index]@y/gram_matrix[index].sum()\n",
    "    predictions.append(p)"
   ]
  },
  {
   "cell_type": "code",
   "execution_count": 357,
   "metadata": {},
   "outputs": [
    {
     "data": {
      "text/plain": [
       "<matplotlib.collections.PathCollection at 0x7f705d2641d0>"
      ]
     },
     "execution_count": 357,
     "metadata": {},
     "output_type": "execute_result"
    },
    {
     "data": {
      "image/png": "[encoded data removed]",
      "text/plain": [
       "<Figure size 432x288 with 1 Axes>"
      ]
     },
     "metadata": {},
     "output_type": "display_data"
    }
   ],
   "source": [
    "plt.scatter(Xtest,ytest)\n",
    "plt.scatter(Xtest,predictions,color='red')"
   ]
  },
  {
   "cell_type": "code",
   "execution_count": null,
   "metadata": {},
   "outputs": [],
   "source": [
    "# References\n",
    "\n",
    "[1]\n",
    "@book{Scholkopf:2001:LKS:559923,\n",
    " author = {Scholkopf, Bernhard and Smola, Alexander J.},\n",
    " title = {Learning with Kernels: Support Vector Machines, Regularization, Optimization, and Beyond},\n",
    " year = {2001},\n",
    " isbn = {0262194759},\n",
    " publisher = {MIT Press},\n",
    " address = {Cambridge, MA, USA},\n",
    "} "
   ]
  }
 ],
 "metadata": {
  "kernelspec": {
   "display_name": "Python 3",
   "language": "python",
   "name": "python3"
  },
  "language_info": {
   "codemirror_mode": {
    "name": "ipython",
    "version": 3
   },
   "file_extension": ".py",
   "mimetype": "text/x-python",
   "name": "python",
   "nbconvert_exporter": "python",
   "pygments_lexer": "ipython3",
   "version": "3.6.8"
  }
 },
 "nbformat": 4,
 "nbformat_minor": 2
}
