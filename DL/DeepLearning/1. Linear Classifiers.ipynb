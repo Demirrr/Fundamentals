{
 "cells": [
  {
   "cell_type": "markdown",
   "metadata": {},
   "source": [
    "# Linear Classifer\n",
    "$$ f(\\mathbf{x},\\mathbf{W},\\mathbf{b})= \\mathbf{W}\\mathbf{x}+\\mathbf{b},$$\n",
    "\n",
    "where $\\mathbf{x} \\in \\mathbb{R}^{D \\times 1}$, $\\mathbf{W} \\in \\mathbb{R}^{K \\times D}$ and $\\mathbf{b} \\in \\mathbb{R}^{K \\times 1}$. $D$ denotes the number of dimensions and $K$ denotes the number of classes."
   ]
  },
  {
   "cell_type": "code",
   "execution_count": 1,
   "metadata": {},
   "outputs": [],
   "source": [
    "import numpy as np\n",
    "from sklearn.datasets import *\n",
    "from sklearn.metrics import classification_report\n",
    "import matplotlib.pyplot as plt\n",
    "np.random.seed(0)\n",
    "\n",
    "D=2 # num of input dim\n",
    "N=4 # num of data\n",
    "K=3 # num of classes\n",
    "\n",
    "X=np.random.randn(D,N) # a column vector -including biases =1.\n",
    "W=np.random.randn(K,D) # \n",
    "b=np.random.randn(K,1) # \n",
    "y=np.random.randint(K, size=N)"
   ]
  },
  {
   "cell_type": "code",
   "execution_count": 2,
   "metadata": {},
   "outputs": [],
   "source": [
    "def f(W,x,b=0):\n",
    "    return W.dot(x)+b"
   ]
  },
  {
   "cell_type": "markdown",
   "metadata": {},
   "source": [
    "# Maximum Margin Classifier\n",
    "\n",
    "Given $(\\mathbf{x}_i,y_i)$ where $\\mathbf{x} \\in \\mathbb{R}^{D \\times 1}$ is an input and $y_i$ is the integer label indicating the true class. Predictions/Scores are computed as \n",
    "\n",
    "$$\\mathbf{s}_i=f(\\mathbf{x}_i,\\mathbf{W})=\\mathbf{W}\\mathbf{x}_i +\\mathbf{b}$$ where $\\mathbf{s}_i \\in \\mathbb{R}^{k \\times 1}$ denotes scores for each class. The multiclass maximum largin (also called SVM) loss has the form:\n",
    "\n",
    "$$ L_i = \\Sigma_{j \\not = y_i} max(0, s_j - s_{y_i} +1)$$ where $s_j$ notes the score of the j.th class / $j.th$ item in the $s$ wherase $s_{y_i}$ denotes the score of the correct class.\n",
    "\n",
    "Finally, the cost of $W$ with respect to the SVM loss function over all datapoints computed as\n",
    "\n",
    "$$ L = \\frac{1}{n} \\Sigma_{i=1} ^n \\Sigma_{j \\not = y_i} max(0, s_j - s_{y_i} +1)$$\n",
    "\n",
    "where $n$ denotes the number of data points. Note that $max(0,-)$ function is also known as the **hingle loss**.\n"
   ]
  },
  {
   "cell_type": "markdown",
   "metadata": {},
   "source": [
    "# Softmax  classifier - Multinomial Logistic Regression\n",
    "\n",
    "\n",
    "### Softmax function\n",
    "\n",
    "The softmax function is a vector valued function that is defined as $S(\\mathbf{a}):\\mathbb{R}^{K}\\rightarrow \\mathbb{R}^{K}$:\n",
    "\n",
    "\n",
    "$$\n",
    "S(\\mathbf{a}):\\begin{bmatrix}\n",
    "a_1\\\\\n",
    "a_2\\\\\n",
    "\\cdots\\\\\n",
    "a_K\n",
    "\\end{bmatrix}\n",
    "\\rightarrow\n",
    "\\begin{bmatrix}\n",
    "S_1\\\\\n",
    "S_2\\\\\n",
    "\\cdots\\\\\n",
    "S_K\n",
    "\\end{bmatrix}$$\n",
    "\n",
    "\n",
    "$$ S_j=\\frac{e^{a_j}}{\\sum_{k=1}^{K}e^{a_k}} \\qquad \\forall j \\in 1..K $$\n",
    "\n",
    "### Softmax Classifier\n",
    "\n",
    "The softmax classifier considers the output of $f(\\mathbf{x}_i,\\mathbf{W})$ as **unnormalized log probabilities of the classes**. \n",
    "\n",
    "\n",
    "Given $(\\mathbf{x}_i,y_i)$, predictions/scores are computed as \n",
    "\n",
    "$$ S_j=\\frac{e^{f_j(\\mathbf{x}_i,\\mathbf{W})}}{\\sum_{k=1}^{K}e^{f_k(\\mathbf{x}_i,\\mathbf{W})}} \\qquad \\forall j \\in 1..K $$ \n",
    "\n",
    "where $f_j(\\mathbf{x}_i,\\mathbf{W})$ denotes the score of the $j.$th class given $\\mathbf{x}_i$.\n",
    "\n",
    "\n",
    "### Probability interpretation\n",
    "\n",
    "Given $(\\mathbf{x}_i,y_i)$, $S(f(\\mathbf{x}_i,\\mathbf{W}))_j$ is considered as the predicted probability of the $j.$th class given $\\mathbf{x}_i$.\n",
    "\n",
    "\n",
    "$$ \\mathbb{P}(\\mathbf{Y}=j| \\mathbf{X}= \\mathbf{x}_i)=S_j$$\n",
    "\n",
    "\n",
    "\n",
    "\n",
    "### How to calculate loss\n",
    "\n",
    "\n",
    "$$ L_i= - \\text{log} \\bigg( S_{y_i} \\bigg)$$ \n",
    "where $S_{y_i}$ denotes the predicted probability of the correct class $y_i$. $L_i$ is **the negative log of predicted probability of the correct class**. This intuitvely makes sense due to the softmax function. Increasing the predicted probability of true class decreases the predicted probability of other classes due to the denominator in the softmax.\n",
    "\n",
    "\n",
    "* 1.0 to the correct class than -np.log(1)=0.0. \n",
    "* .999 to correct class, than -np.log(.999)=.001. \n",
    "* .4 to the correct class than -np.log(.4)=.916\n",
    "\n",
    "\n",
    "This loss calculation is motivated by the cross entropy:\n",
    "\n",
    "$$ \\mathbb{H}(\\mathbf{p},\\mathbf{q}) = - \\sum_i \\mathbf{p}(i) \\, log\\mathbf{q}(i)$$\n",
    "\n"
   ]
  },
  {
   "cell_type": "code",
   "execution_count": 3,
   "metadata": {},
   "outputs": [
    {
     "name": "stdout",
     "output_type": "stream",
     "text": [
      "SVM cost of random W and b: 2.4688215408150276\n",
      "Softmax cost of random W and b: 1.680147023887217\n"
     ]
    }
   ],
   "source": [
    "def multi_svm_loss(y,scores):\n",
    "    margins=np.maximum(0,scores-scores[y,range(len(y))]+1)\n",
    "    margins[y,range(len(y))]=0\n",
    "    return np.sum(margins)\n",
    "def cost_multi_svm(X,y,W,b=0):\n",
    "    return multi_svm_loss(y,f(W,X,b))/len(y)\n",
    "def softmax(s):\n",
    "    assert s.shape[0]>1\n",
    "    s-=np.max(s,axis=0,keepdims=True)\n",
    "    exp_scores=np.exp(s)\n",
    "    probs=exp_scores/np.sum(exp_scores,axis=0,keepdims=True)\n",
    "    return probs\n",
    "def cost_softmax(x,y,W,b=0): # binary cross_entropy loss.\n",
    "    probs =softmax(f(W,x,b))\n",
    "    return -np.log(probs[y,range(len(y))]).mean()\n",
    "\n",
    "print('SVM cost of random W and b:',cost_multi_svm(X,y,W,b))\n",
    "print('Softmax cost of random W and b:',cost_softmax(X,y,W,b))"
   ]
  },
  {
   "cell_type": "markdown",
   "metadata": {},
   "source": [
    "# Optimization"
   ]
  },
  {
   "cell_type": "code",
   "execution_count": 4,
   "metadata": {},
   "outputs": [],
   "source": [
    "def SoftmaxClassiferWithNegLog(X,y,num_epoch=5_000,l2_reg=.01,step_size=.01):\n",
    "    \"\"\"\n",
    "    X is of N \\times D where N =>number of data points, D is num of dim.\n",
    "    y is a numpy array of (N \\times 1), (N)\n",
    "    \"\"\"\n",
    "    assert len(X)==len(y)\n",
    "    N,D=X.shape\n",
    "    K=len(np.unique(y))\n",
    "    X=X.T\n",
    "    X=np.vstack((X,np.ones(N)))# add 1's as rows indicating a new dim for bias\n",
    "    W=np.random.randn(K,D+1) * 0.0001 # generate random parameters\n",
    "\n",
    "    mode=num_epoch//10\n",
    "    print('Softmax training starts.')\n",
    "    #################### Training starts #####################\n",
    "    for epoch in range(num_epoch):\n",
    "        # Compute predictions\n",
    "        Z = softmax(f(W,X))\n",
    "        # Compute loss\n",
    "        correct_logprobs = (-np.log( Z[y,range(N)]+.0001))+.01\n",
    "        data_loss = np.sum(correct_logprobs)/N\n",
    "\n",
    "        reg_loss = 0.5*l2_reg*np.sum(W*W) # multiplying reg with .5 simplifies gradient of reg.\n",
    "        loss = data_loss + reg_loss\n",
    "        \n",
    "        if epoch % mode == 0:\n",
    "            print (\"Epoch {0}: Cost:{1}\".format(epoch, loss))    \n",
    "        \n",
    "        # Compute Gradients and backpropagate them\n",
    "        \n",
    "        # dZ => dLoss/dZ i.e. derivative of the loss funcion w.r.t. predictions\n",
    "        # 1 - predicted probability of correct classes.\n",
    "        dZ = Z\n",
    "        dZ[y,range(N)] -= 1 \n",
    "        # backpropate the gradient to the parameters (W)    \n",
    "        dW = dZ.dot(X.T)\n",
    "        dW += l2_reg*W # regularization gradient\n",
    "            \n",
    "        # perform a parameter update\n",
    "        W += -step_size * dW\n",
    "    #################### Training ends #####################\n",
    "    predicted_class = np.argmax(softmax(f(W,X)), axis=0)\n",
    "    print('training accuracy: %.2f' % (np.mean(predicted_class == y)))\n",
    "    print(classification_report(y, predicted_class))\n",
    "    return W"
   ]
  },
  {
   "cell_type": "code",
   "execution_count": 5,
   "metadata": {},
   "outputs": [
    {
     "name": "stdout",
     "output_type": "stream",
     "text": [
      "Softmax training starts.\n",
      "Epoch 0: Cost:1.1083938709017087\n",
      "Epoch 500: Cost:7.419022298072725\n",
      "Epoch 1000: Cost:6.6290046608744575\n",
      "Epoch 1500: Cost:6.050148062644665\n",
      "Epoch 2000: Cost:5.660508665510824\n",
      "Epoch 2500: Cost:5.420401590362073\n",
      "Epoch 3000: Cost:5.274719716899551\n",
      "Epoch 3500: Cost:5.1907704560844445\n",
      "Epoch 4000: Cost:5.150287729313219\n",
      "Epoch 4500: Cost:5.141928798367107\n",
      "training accuracy: 0.95\n",
      "              precision    recall  f1-score   support\n",
      "\n",
      "           0       1.00      1.00      1.00        50\n",
      "           1       0.89      0.98      0.93        50\n",
      "           2       0.98      0.88      0.93        50\n",
      "\n",
      "    accuracy                           0.95       150\n",
      "   macro avg       0.96      0.95      0.95       150\n",
      "weighted avg       0.96      0.95      0.95       150\n",
      "\n",
      "####\n",
      "Softmax training starts.\n",
      "Epoch 0: Cost:0.6948145891984251\n",
      "Epoch 500: Cost:2297748.240666281\n",
      "Epoch 1000: Cost:3373317.3489976907\n",
      "Epoch 1500: Cost:3590524.80840004\n",
      "Epoch 2000: Cost:3650176.3010281855\n",
      "Epoch 2500: Cost:3811213.5480406717\n",
      "Epoch 3000: Cost:3940161.0887419367\n",
      "Epoch 3500: Cost:3878437.6775300284\n",
      "Epoch 4000: Cost:3762834.0197125757\n",
      "Epoch 4500: Cost:3615562.081729541\n",
      "training accuracy: 0.92\n",
      "              precision    recall  f1-score   support\n",
      "\n",
      "           0       0.91      0.87      0.89       212\n",
      "           1       0.92      0.95      0.93       357\n",
      "\n",
      "    accuracy                           0.92       569\n",
      "   macro avg       0.91      0.91      0.91       569\n",
      "weighted avg       0.92      0.92      0.92       569\n",
      "\n",
      "####\n",
      "Softmax training starts.\n",
      "Epoch 0: Cost:2.3106373761715635\n",
      "Epoch 500: Cost:2869.9615045165133\n",
      "Epoch 1000: Cost:2596.8365573534747\n",
      "Epoch 1500: Cost:2349.704112514553\n",
      "Epoch 2000: Cost:2126.0905485262806\n",
      "Epoch 2500: Cost:1923.7576425859615\n",
      "Epoch 3000: Cost:1740.6801758423476\n",
      "Epoch 3500: Cost:1575.0256634675893\n",
      "Epoch 4000: Cost:1425.1360130291505\n",
      "Epoch 4500: Cost:1289.5109281405835\n",
      "training accuracy: 1.00\n",
      "              precision    recall  f1-score   support\n",
      "\n",
      "           0       1.00      1.00      1.00       178\n",
      "           1       1.00      1.00      1.00       182\n",
      "           2       1.00      1.00      1.00       177\n",
      "           3       1.00      1.00      1.00       183\n",
      "           4       1.00      1.00      1.00       181\n",
      "           5       1.00      1.00      1.00       182\n",
      "           6       1.00      1.00      1.00       181\n",
      "           7       1.00      1.00      1.00       179\n",
      "           8       1.00      1.00      1.00       174\n",
      "           9       1.00      1.00      1.00       180\n",
      "\n",
      "    accuracy                           1.00      1797\n",
      "   macro avg       1.00      1.00      1.00      1797\n",
      "weighted avg       1.00      1.00      1.00      1797\n",
      "\n",
      "####\n",
      "Softmax training starts.\n",
      "Epoch 0: Cost:1.0946244312054665\n",
      "Epoch 500: Cost:168092.4033089425\n",
      "Epoch 1000: Cost:194299.77761469551\n",
      "Epoch 1500: Cost:216159.0275249799\n",
      "Epoch 2000: Cost:239165.72378576203\n",
      "Epoch 2500: Cost:266361.70630052616\n",
      "Epoch 3000: Cost:311151.5492663867\n",
      "Epoch 3500: Cost:341283.703359109\n",
      "Epoch 4000: Cost:377254.23713280674\n",
      "Epoch 4500: Cost:406856.71361221775\n",
      "training accuracy: 0.66\n",
      "              precision    recall  f1-score   support\n",
      "\n",
      "           0       0.65      0.92      0.76        59\n",
      "           1       0.65      0.80      0.72        71\n",
      "           2       1.00      0.15      0.25        48\n",
      "\n",
      "    accuracy                           0.66       178\n",
      "   macro avg       0.77      0.62      0.58       178\n",
      "weighted avg       0.74      0.66      0.61       178\n",
      "\n"
     ]
    }
   ],
   "source": [
    "data = load_iris()\n",
    "_=SoftmaxClassiferWithNegLog(data['data'],data['target'])\n",
    "print('####')\n",
    "data = load_breast_cancer()\n",
    "_=SoftmaxClassiferWithNegLog(data['data'],data['target'])\n",
    "print('####')\n",
    "data = load_digits()\n",
    "_=SoftmaxClassiferWithNegLog(data['data'],data['target'])\n",
    "print('####')\n",
    "data = load_wine()\n",
    "_=SoftmaxClassiferWithNegLog(data['data'],data['target'])"
   ]
  },
  {
   "cell_type": "code",
   "execution_count": 6,
   "metadata": {},
   "outputs": [
    {
     "name": "stdout",
     "output_type": "stream",
     "text": [
      "MaximumMarginClassifier training starts\n",
      "training accuracy: 0.99\n",
      "              precision    recall  f1-score   support\n",
      "\n",
      "           0       1.00      1.00      1.00        50\n",
      "           1       0.98      0.98      0.98        50\n",
      "           2       0.98      0.98      0.98        50\n",
      "\n",
      "    accuracy                           0.99       150\n",
      "   macro avg       0.99      0.99      0.99       150\n",
      "weighted avg       0.99      0.99      0.99       150\n",
      "\n",
      "####\n",
      "MaximumMarginClassifier training starts\n",
      "training accuracy: 0.91\n",
      "              precision    recall  f1-score   support\n",
      "\n",
      "           0       0.86      0.90      0.88       212\n",
      "           1       0.94      0.91      0.92       357\n",
      "\n",
      "    accuracy                           0.91       569\n",
      "   macro avg       0.90      0.90      0.90       569\n",
      "weighted avg       0.91      0.91      0.91       569\n",
      "\n",
      "####\n",
      "MaximumMarginClassifier training starts\n",
      "training accuracy: 1.00\n",
      "              precision    recall  f1-score   support\n",
      "\n",
      "           0       1.00      1.00      1.00       178\n",
      "           1       1.00      1.00      1.00       182\n",
      "           2       1.00      1.00      1.00       177\n",
      "           3       1.00      1.00      1.00       183\n",
      "           4       1.00      1.00      1.00       181\n",
      "           5       1.00      1.00      1.00       182\n",
      "           6       1.00      1.00      1.00       181\n",
      "           7       1.00      1.00      1.00       179\n",
      "           8       1.00      1.00      1.00       174\n",
      "           9       1.00      1.00      1.00       180\n",
      "\n",
      "    accuracy                           1.00      1797\n",
      "   macro avg       1.00      1.00      1.00      1797\n",
      "weighted avg       1.00      1.00      1.00      1797\n",
      "\n",
      "####\n",
      "MaximumMarginClassifier training starts\n",
      "training accuracy: 0.67\n",
      "              precision    recall  f1-score   support\n",
      "\n",
      "           0       0.89      0.86      0.88        59\n",
      "           1       0.56      0.96      0.71        71\n",
      "           2       0.00      0.00      0.00        48\n",
      "\n",
      "    accuracy                           0.67       178\n",
      "   macro avg       0.49      0.61      0.53       178\n",
      "weighted avg       0.52      0.67      0.57       178\n",
      "\n"
     ]
    },
    {
     "name": "stderr",
     "output_type": "stream",
     "text": [
      "/home/demir/anaconda3/envs/conex/lib/python3.6/site-packages/sklearn/metrics/classification.py:1437: UndefinedMetricWarning: Precision and F-score are ill-defined and being set to 0.0 in labels with no predicted samples.\n",
      "  'precision', 'predicted', average, warn_for)\n"
     ]
    }
   ],
   "source": [
    "def MaximumMarginClassifier(X,y,num_epoch=5_000,l2_reg=.01,step_size=.01):\n",
    "    \"\"\"\n",
    "    X is of N \\times D where N =>number of data points, D is num of dim.\n",
    "    y is a numpy array of (N \\times 1), (N)\n",
    "    \"\"\"\n",
    "    assert len(X)==len(y)\n",
    "\n",
    "    N,D=X.shape\n",
    "    K=len(np.unique(y))\n",
    "    X=X.T\n",
    "    X=np.vstack((X,np.ones(N)))# add 1's as rows indicating a new dim for bias\n",
    "    W=np.random.randn(K,D+1) * 0.0001 # generate random parameters\n",
    "        \n",
    "    mode=num_epoch//10\n",
    "    \n",
    "    print('MaximumMarginClassifier training starts')\n",
    "    #################### Training starts #####################\n",
    "    for epoch in range(num_epoch):\n",
    "        \n",
    "        # Compute Scores\n",
    "        Z =f(W,X)   \n",
    "        y_true_scores=Z[y,range(len(y))]\n",
    "        # Compute margin for all classes\n",
    "        margins=np.maximum(0,Z-y_true_scores+1)\n",
    "        margins[y,range(len(y))]=0\n",
    "        loss=margins.sum()\n",
    "        \n",
    "        # Compute the derivative of loss w.r.t. weights.\n",
    "        binary=margins\n",
    "        binary[margins > 0] = 1\n",
    "    \n",
    "        sum_of_error= np.sum(binary, axis=0)\n",
    "        binary[y,range(len(y))] = -sum_of_error.T\n",
    "        dW = binary.dot(X.T)\n",
    "\n",
    "        \n",
    "        # perform a parameter update\n",
    "        W += -step_size * dW\n",
    "    \n",
    "    #################### Training ends #####################\n",
    "    predicted_class = np.argmax(f(W,X), axis=0)\n",
    "    print('training accuracy: %.2f' % (np.mean(predicted_class == y)))\n",
    "    print(classification_report(y, predicted_class))\n",
    "    return W\n",
    "    \n",
    "data = load_iris()\n",
    "_=MaximumMarginClassifier(data['data'],data['target'])\n",
    "print('####')\n",
    "data = load_breast_cancer()\n",
    "_=MaximumMarginClassifier(data['data'],data['target'])\n",
    "print('####')\n",
    "data = load_digits()\n",
    "_=MaximumMarginClassifier(data['data'],data['target'])\n",
    "print('####')\n",
    "data = load_wine()\n",
    "_=MaximumMarginClassifier(data['data'],data['target'])"
   ]
  },
  {
   "cell_type": "code",
   "execution_count": 7,
   "metadata": {},
   "outputs": [],
   "source": [
    "def eval_numerical_gradient(f, x):\n",
    "    fx = f(x) # evaluate function value at original point\n",
    "    grad = np.zeros(x.shape)\n",
    "    h = 0.001\n",
    "    \n",
    "    # iterate over all indexes in x\n",
    "    it = np.nditer(x, flags=['multi_index'], op_flags=['readwrite'])\n",
    "    while not it.finished:\n",
    "\n",
    "        # evaluate function at x+h\n",
    "        ix = it.multi_index\n",
    "        old_value = x[ix]\n",
    "        x[ix] = old_value + h # increment by h\n",
    "        fxh = f(x) # evalute f(x + h)\n",
    "        x[ix] = old_value # restore to previous value (very important!)\n",
    "\n",
    "        # compute the partial derivative\n",
    "        grad[ix] = (fxh - fx) / h # the slope\n",
    "        it.iternext() # step to next dimension\n",
    "\n",
    "    return grad"
   ]
  },
  {
   "cell_type": "code",
   "execution_count": 8,
   "metadata": {},
   "outputs": [],
   "source": [
    "def MaximumMarginClassifierNumericalGradient(X,y,num_epoch=5_000,l2_reg=.01,step_size=.01):\n",
    "    \"\"\"\n",
    "    X is of N \\times D where N =>number of data points, D is num of dim.\n",
    "    y is a numpy array of (N \\times 1), (N)\n",
    "    \"\"\"\n",
    "    assert len(X)==len(y)\n",
    "    def L(W):  \n",
    "        Z = W.dot(X)\n",
    "        # Compute the margins for all classes\n",
    "        margins=np.maximum(0,Z-Z[y,range(N)]+1)\n",
    "        # Set all margins for true class to 0.\n",
    "        margins[y,range(N)] = 0\n",
    "        return margins.sum()\n",
    "\n",
    "\n",
    "    N,D=X.shape\n",
    "    K=len(np.unique(y))\n",
    "    X=X.T\n",
    "    X=np.vstack((X,np.ones(N)))# add 1's as rows indicating a new dim for bias\n",
    "    W=np.random.randn(K,D+1) * 0.0001 # generate random parameters\n",
    "    mode=num_epoch//10\n",
    "    #################### Training starts #####################\n",
    "    for epoch in range(num_epoch):\n",
    "        # Compute Scores\n",
    "        Z =f(W,X)\n",
    "        # Compute loss\n",
    "        loss = L(W)\n",
    "        loss/=N\n",
    "        reg_loss = 0.5*l2_reg*np.sum(W*W) # multiplying reg with .5 simplifies gradient of reg.\n",
    "        \n",
    "        loss+=reg_loss\n",
    "        \n",
    "        if epoch % mode == 0:\n",
    "            print (\"Epoch {0}: Cost:{1}\".format(epoch, loss))    \n",
    "        \n",
    "        dW = eval_numerical_gradient(L,W) \n",
    "        \n",
    "        dW += l2_reg*W # regularization gradient            \n",
    "        # perform a parameter update\n",
    "        W += -step_size * dW\n",
    "    #################### Training ends #####################\n",
    "    predicted_class = np.argmax(f(W,X), axis=0)\n",
    "    print('training accuracy: %.2f' % (np.mean(predicted_class == y)))\n",
    "    print(classification_report(y, predicted_class))\n",
    "    return W"
   ]
  },
  {
   "cell_type": "code",
   "execution_count": 9,
   "metadata": {},
   "outputs": [
    {
     "name": "stdout",
     "output_type": "stream",
     "text": [
      "Epoch 0: Cost:2.0001392345775253\n",
      "Epoch 500: Cost:11.315864041191842\n",
      "Epoch 1000: Cost:10.409262206296228\n",
      "Epoch 1500: Cost:9.785576145117668\n",
      "Epoch 2000: Cost:9.176447650391909\n",
      "Epoch 2500: Cost:8.574894395795429\n",
      "Epoch 3000: Cost:8.068590355461804\n",
      "Epoch 3500: Cost:7.768447452252812\n",
      "Epoch 4000: Cost:7.536402221121282\n",
      "Epoch 4500: Cost:7.344013532804974\n",
      "training accuracy: 0.95\n",
      "              precision    recall  f1-score   support\n",
      "\n",
      "           0       1.00      1.00      1.00        50\n",
      "           1       0.88      0.98      0.92        50\n",
      "           2       0.98      0.86      0.91        50\n",
      "\n",
      "    accuracy                           0.95       150\n",
      "   macro avg       0.95      0.95      0.95       150\n",
      "weighted avg       0.95      0.95      0.95       150\n",
      "\n",
      "Epoch 0: Cost:0.9928180305791737\n",
      "Epoch 500: Cost:2302082.3025991544\n",
      "Epoch 1000: Cost:3363426.956597723\n",
      "Epoch 1500: Cost:3559811.0037397197\n",
      "Epoch 2000: Cost:3559306.586491032\n",
      "Epoch 2500: Cost:3747996.1319369106\n",
      "Epoch 3000: Cost:3880680.1333214133\n",
      "Epoch 3500: Cost:3833943.237849752\n",
      "Epoch 4000: Cost:3728154.327518508\n",
      "Epoch 4500: Cost:3602545.105818667\n",
      "training accuracy: 0.51\n",
      "              precision    recall  f1-score   support\n",
      "\n",
      "           0       0.43      1.00      0.60       212\n",
      "           1       1.00      0.22      0.35       357\n",
      "\n",
      "    accuracy                           0.51       569\n",
      "   macro avg       0.72      0.61      0.48       569\n",
      "weighted avg       0.79      0.51      0.45       569\n",
      "\n"
     ]
    }
   ],
   "source": [
    "data = load_iris()\n",
    "_=MaximumMarginClassifierNumericalGradient(data['data'],data['target'])\n",
    "\n",
    "data = load_breast_cancer()\n",
    "_=MaximumMarginClassifierNumericalGradient(data['data'],data['target'])\n",
    "\n",
    "# Numerical Gradient Calculation is very slow."
   ]
  },
  {
   "cell_type": "code",
   "execution_count": 10,
   "metadata": {},
   "outputs": [],
   "source": [
    "def spiral_data_gen():\n",
    "\n",
    "    N = 100 # number of points per class\n",
    "    D = 2 # dimensionality\n",
    "    K = 3 # number of classes\n",
    "    X = np.zeros((N*K,D)) # data matrix (each row = single example)\n",
    "    y = np.zeros(N*K, dtype='uint8') # class labels\n",
    "    for j in range(K):\n",
    "        ix = range(N*j,N*(j+1))\n",
    "        r = np.linspace(0.0,1,N) # radius\n",
    "        t = np.linspace(j*4,(j+1)*4,N) + np.random.randn(N)*0.2 # theta\n",
    "        X[ix] = np.c_[r*np.sin(t), r*np.cos(t)]\n",
    "        y[ix] = j\n",
    "        # lets visualize the data:\n",
    "        plt.scatter(X[:, 0], X[:, 1], c=y, s=40, cmap=plt.cm.Spectral)\n",
    "    plt.show()\n",
    "    return X,y"
   ]
  },
  {
   "cell_type": "code",
   "execution_count": 11,
   "metadata": {},
   "outputs": [
    {
     "data": {
      "image/png": "[encoded data removed]",
      "text/plain": [
       "<Figure size 432x288 with 1 Axes>"
      ]
     },
     "metadata": {
      "needs_background": "light"
     },
     "output_type": "display_data"
    }
   ],
   "source": [
    "X,y=spiral_data_gen()"
   ]
  },
  {
   "cell_type": "code",
   "execution_count": 12,
   "metadata": {},
   "outputs": [
    {
     "name": "stdout",
     "output_type": "stream",
     "text": [
      "Softmax training starts.\n",
      "Epoch 0: Cost:1.108310747353944\n",
      "Epoch 500: Cost:0.9006708543401296\n",
      "Epoch 1000: Cost:0.9006708674869438\n",
      "Epoch 1500: Cost:0.9006708674825634\n",
      "Epoch 2000: Cost:0.9006708674785985\n",
      "Epoch 2500: Cost:0.9006708674750109\n",
      "Epoch 3000: Cost:0.9006708674717648\n",
      "Epoch 3500: Cost:0.9006708674688277\n",
      "Epoch 4000: Cost:0.90067086746617\n",
      "Epoch 4500: Cost:0.9006708674637653\n",
      "training accuracy: 0.50\n",
      "              precision    recall  f1-score   support\n",
      "\n",
      "           0       0.49      0.50      0.50       100\n",
      "           1       0.56      0.57      0.56       100\n",
      "           2       0.45      0.43      0.44       100\n",
      "\n",
      "    accuracy                           0.50       300\n",
      "   macro avg       0.50      0.50      0.50       300\n",
      "weighted avg       0.50      0.50      0.50       300\n",
      "\n"
     ]
    }
   ],
   "source": [
    "W_softmax=SoftmaxClassiferWithNegLog(X,y)"
   ]
  },
  {
   "cell_type": "code",
   "execution_count": 13,
   "metadata": {},
   "outputs": [
    {
     "name": "stdout",
     "output_type": "stream",
     "text": [
      "MaximumMarginClassifier training starts\n",
      "training accuracy: 0.53\n",
      "              precision    recall  f1-score   support\n",
      "\n",
      "           0       0.49      0.50      0.50       100\n",
      "           1       0.60      0.62      0.61       100\n",
      "           2       0.51      0.48      0.49       100\n",
      "\n",
      "    accuracy                           0.53       300\n",
      "   macro avg       0.53      0.53      0.53       300\n",
      "weighted avg       0.53      0.53      0.53       300\n",
      "\n"
     ]
    }
   ],
   "source": [
    "W_max_margin=MaximumMarginClassifier(X,y)"
   ]
  },
  {
   "cell_type": "code",
   "execution_count": 14,
   "metadata": {},
   "outputs": [],
   "source": [
    "def plot_decision_boundries(X,y,W):\n",
    "    \"\"\"\n",
    "    X.shape(N,D)\n",
    "    y.shape(N,)\n",
    "    K=number of class\n",
    "    \"\"\"\n",
    "    \n",
    "    WW=W[:,:2]\n",
    "    b=W[:,2].reshape(3,1)\n",
    "    \n",
    "    \n",
    "    predicted_probabilities=softmax(WW.dot(X.T)+b).T\n",
    "    # evaluate training set accuracy\n",
    "    #scores =softmax(WW.dot(X.T)+b).T\n",
    "    predicted_class = np.argmax(predicted_probabilities, axis=1)\n",
    "    print ('training accuracy: %.2f' % (np.mean(predicted_class == y)))\n",
    "\n",
    "\n",
    "    WW=WW.T\n",
    "    b=b.T\n",
    "\n",
    "    # plot the resulting classifier\n",
    "    h = 0.02\n",
    "    x_min, x_max = X[:, 0].min() - 1, X[:, 0].max() + 1\n",
    "    y_min, y_max = X[:, 1].min() - 1, X[:, 1].max() + 1\n",
    "    xx, yy = np.meshgrid(np.arange(x_min, x_max, h),\n",
    "                         np.arange(y_min, y_max, h))\n",
    "    Z = np.dot(np.c_[xx.ravel(), yy.ravel()], WW) + b\n",
    "    Z = np.argmax(Z, axis=1)\n",
    "    Z = Z.reshape(xx.shape)\n",
    "    fig = plt.figure()\n",
    "    plt.contourf(xx, yy, Z, cmap=plt.cm.Spectral, alpha=0.8)\n",
    "    plt.scatter(X[:, 0], X[:, 1], c=y, s=40, cmap=plt.cm.Spectral)\n",
    "    plt.xlim(xx.min(), xx.max())\n",
    "    plt.ylim(yy.min(), yy.max())\n",
    "    #fig.savefig('spiral_linear.png')"
   ]
  },
  {
   "cell_type": "code",
   "execution_count": 15,
   "metadata": {},
   "outputs": [
    {
     "name": "stdout",
     "output_type": "stream",
     "text": [
      "training accuracy: 0.53\n"
     ]
    },
    {
     "data": {
      "image/png": "[encoded data removed]",
      "text/plain": [
       "<Figure size 432x288 with 1 Axes>"
      ]
     },
     "metadata": {
      "needs_background": "light"
     },
     "output_type": "display_data"
    }
   ],
   "source": [
    "plot_decision_boundries(X,y,W_max_margin)"
   ]
  },
  {
   "cell_type": "code",
   "execution_count": 16,
   "metadata": {},
   "outputs": [
    {
     "name": "stdout",
     "output_type": "stream",
     "text": [
      "training accuracy: 0.50\n"
     ]
    },
    {
     "data": {
      "image/png": "[encoded data removed]",
      "text/plain": [
       "<Figure size 432x288 with 1 Axes>"
      ]
     },
     "metadata": {
      "needs_background": "light"
     },
     "output_type": "display_data"
    }
   ],
   "source": [
    "plot_decision_boundries(X,y,W_softmax)"
   ]
  },
  {
   "cell_type": "code",
   "execution_count": 17,
   "metadata": {},
   "outputs": [],
   "source": [
    "# Thank your Andrej Karpathy for CS231n Winter 2016"
   ]
  }
 ],
 "metadata": {
  "kernelspec": {
   "display_name": "Python (conex)",
   "language": "python",
   "name": "conex"
  },
  "language_info": {
   "codemirror_mode": {
    "name": "ipython",
    "version": 3
   },
   "file_extension": ".py",
   "mimetype": "text/x-python",
   "name": "python",
   "nbconvert_exporter": "python",
   "pygments_lexer": "ipython3",
   "version": "3.6.4"
  }
 },
 "nbformat": 4,
 "nbformat_minor": 2
}
