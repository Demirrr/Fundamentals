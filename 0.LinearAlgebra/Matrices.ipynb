{
 "cells": [
  {
   "cell_type": "markdown",
   "id": "64966b66",
   "metadata": {},
   "source": [
    "# Paths in directed graph"
   ]
  },
  {
   "cell_type": "code",
   "execution_count": 1,
   "id": "0fe6ba96",
   "metadata": {},
   "outputs": [],
   "source": [
    "import networkx as nx\n",
    "import matplotlib.pyplot as plt\n",
    "import numpy as np\n"
   ]
  },
  {
   "cell_type": "markdown",
   "id": "412292ca",
   "metadata": {},
   "source": [
    "# Adjacency matrix"
   ]
  },
  {
   "cell_type": "code",
   "execution_count": 2,
   "id": "a6f534a7",
   "metadata": {},
   "outputs": [
    {
     "data": {
      "text/plain": [
       "array([[0, 1, 0, 0, 1],\n",
       "       [1, 0, 1, 0, 0],\n",
       "       [0, 0, 0, 1, 1],\n",
       "       [1, 0, 0, 0, 0],\n",
       "       [0, 0, 0, 1, 0]])"
      ]
     },
     "execution_count": 2,
     "metadata": {},
     "output_type": "execute_result"
    }
   ],
   "source": [
    "# A_ij =1 if from j to i\n",
    "A = np.array([[0, 1, 0, 0, 1],\n",
    "              [1, 0, 1, 0, 0],\n",
    "              [0, 0, 0, 1, 1],\n",
    "              [1, 0, 0, 0, 0],\n",
    "              [0, 0, 0, 1, 0]])\n",
    "A"
   ]
  },
  {
   "cell_type": "code",
   "execution_count": 3,
   "id": "17943855",
   "metadata": {},
   "outputs": [
    {
     "data": {
      "text/plain": [
       "array([[0, 1, 0, 1, 0],\n",
       "       [1, 0, 0, 0, 0],\n",
       "       [0, 1, 0, 0, 0],\n",
       "       [0, 0, 1, 0, 1],\n",
       "       [1, 0, 1, 0, 0]])"
      ]
     },
     "execution_count": 3,
     "metadata": {},
     "output_type": "execute_result"
    }
   ],
   "source": [
    "A.T"
   ]
  },
  {
   "cell_type": "code",
   "execution_count": 4,
   "id": "f7125b8d",
   "metadata": {},
   "outputs": [
    {
     "data": {
      "image/png": "[encoded data removed]",
      "text/plain": [
       "<Figure size 432x288 with 1 Axes>"
      ]
     },
     "metadata": {},
     "output_type": "display_data"
    }
   ],
   "source": [
    "G = nx.from_numpy_array(A.T,create_using=nx.DiGraph)\n",
    "pos = nx.spring_layout(G)\n",
    "nx.draw_networkx_nodes(G, pos)\n",
    "nx.draw_networkx_labels(G, pos)\n",
    "nx.draw_networkx_edges(G, pos, edge_color='r', arrows = True)\n",
    "plt.show()"
   ]
  },
  {
   "cell_type": "code",
   "execution_count": 5,
   "id": "7c943219",
   "metadata": {},
   "outputs": [],
   "source": [
    "Apow=A.T@A.T"
   ]
  },
  {
   "cell_type": "code",
   "execution_count": 6,
   "id": "e7624880",
   "metadata": {},
   "outputs": [
    {
     "data": {
      "image/png": "[encoded data removed]",
      "text/plain": [
       "<Figure size 432x288 with 1 Axes>"
      ]
     },
     "metadata": {},
     "output_type": "display_data"
    }
   ],
   "source": [
    "G = nx.from_numpy_array(Apow,create_using=nx.DiGraph)\n",
    "pos = nx.spring_layout(G)\n",
    "nx.draw_networkx_nodes(G, pos)\n",
    "nx.draw_networkx_labels(G, pos)\n",
    "nx.draw_networkx_edges(G, pos, edge_color='r', arrows = True)\n",
    "plt.show()"
   ]
  },
  {
   "cell_type": "markdown",
   "id": "fe838e89",
   "metadata": {},
   "source": [
    "# Node-arc incidence matrix"
   ]
  },
  {
   "cell_type": "markdown",
   "id": "dc06d51c",
   "metadata": {},
   "source": [
    "$ Let A be \\in \\{0, 1, -1 \\}^{m \\times n}$ representing a directed graph with $m$ vectices and $n$ directed edges\n",
    "\n",
    "$$ A_{ij} =    \\begin{cases} \n",
    "      1 & \\text{if edge $j$ enters node $i$}\\\\\n",
    "      -1 & \\text{if edge $i$ leaves node $i$}\\\\\n",
    "      0 & \\text{otherwise}\n",
    "\\end{cases} $$"
   ]
  },
  {
   "cell_type": "code",
   "execution_count": 7,
   "id": "cffa1be6",
   "metadata": {},
   "outputs": [
    {
     "data": {
      "text/plain": [
       "array([[-1, -1,  0,  1,  0],\n",
       "       [ 1,  0, -1,  0,  0],\n",
       "       [ 0,  0,  0,  1,  1],\n",
       "       [ 0,  0,  1, -1, -1],\n",
       "       [ 0,  1,  0,  0,  1]])"
      ]
     },
     "execution_count": 7,
     "metadata": {},
     "output_type": "execute_result"
    }
   ],
   "source": [
    "A = np.array([[-1, -1, 0, 1, 0],\n",
    "              [1, 0, -1, 0, 0],\n",
    "              [0, 0, 0, 1, 1],\n",
    "              [0, 0, 1, -1, -1],\n",
    "              [0, 1, 0, 0, 1]])\n",
    "A"
   ]
  },
  {
   "cell_type": "markdown",
   "id": "a5f182e0",
   "metadata": {},
   "source": [
    "__Kirchhoff’s current and voltage law can be computed via A__"
   ]
  },
  {
   "cell_type": "markdown",
   "id": "00550b36",
   "metadata": {},
   "source": [
    "# Convolution\n",
    "\n",
    "\n",
    "The convolution of an $n$-vector a and an m-vector b is the $n+m-1) vector c:\n",
    "\n",
    "# $$c_k = \\sum_{\\forall i, j s.t. i+j=k+1} a_i b_j$$\n",
    "\n",
    "\n",
    "Let\n",
    "$\n",
    "a=\\begin{bmatrix}\n",
    "a_1 & a_2 & a_3 & a_4\n",
    "\\end{bmatrix}\n",
    "$ and \n",
    "$\n",
    "b=\\begin{bmatrix}\n",
    "b_1 & b_2 & b_3 \n",
    "\\end{bmatrix}\n",
    "$\n",
    "be given\n",
    "\n",
    "\n",
    "###### $\\begin{bmatrix}\n",
    "a_1 b_1 & a_1 b_2 + a_2 b_1 & a_1 b_3 + a_2 b_2 + a_3 b_1 & a_2 b_3 + a_3 b_2 + a_4 b_1 & a_3 b_3 + a_4 b_2 & a_4 b_3\n",
    "\\end{bmatrix}$\n"
   ]
  },
  {
   "cell_type": "code",
   "execution_count": null,
   "id": "d549f4aa",
   "metadata": {},
   "outputs": [],
   "source": []
  }
 ],
 "metadata": {
  "kernelspec": {
   "display_name": "pDL",
   "language": "python",
   "name": "pdl"
  },
  "language_info": {
   "codemirror_mode": {
    "name": "ipython",
    "version": 3
   },
   "file_extension": ".py",
   "mimetype": "text/x-python",
   "name": "python",
   "nbconvert_exporter": "python",
   "pygments_lexer": "ipython3",
   "version": "3.8.10"
  }
 },
 "nbformat": 4,
 "nbformat_minor": 5
}
