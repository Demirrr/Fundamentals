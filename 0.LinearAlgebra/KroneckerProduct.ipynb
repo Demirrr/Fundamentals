{
 "cells": [
  {
   "cell_type": "markdown",
   "id": "74298a02",
   "metadata": {},
   "source": [
    "# Kronecker Product & Decomposition\n",
    "\n",
    "\n",
    "For any matrix $\\mathbf{X} \\in \\mathbb{R}^{m \\times n}$ and $\\mathbf{Y} \\in \\mathbb{R}^{m \\times n}$, the Hadamard product $\\mathbf{X} \\circ \\mathbf{Y}$ is defined as \n",
    "$$\n",
    "\\begin{equation}\n",
    "\\mathbf{X} \\circ \\mathbf{Y} = \\begin{bmatrix} \n",
    "    \\mathbf{X}_{11}\\mathbf{Y}_{11} & \\dots  & \\mathbf{X}_{1n}\\mathbf{Y}_{1n} \\\\\n",
    "    \\vdots & \\ddots & \\vdots \\\\\n",
    "    \\mathbf{X}_{m1}\\mathbf{Y}_{m1} & \\dots  & \\mathbf{X}_{mn}\\mathbf{Y}_{mn} \n",
    "    \\end{bmatrix} \\in \\mathbb{R}^{m\\times n},\n",
    "\\end{equation}\n",
    "$$\n",
    "where $\\mathbf{X}_{ij}$ **only interacts** with $\\mathbf{Y}_{ij}$. \n",
    "\n"
   ]
  },
  {
   "cell_type": "markdown",
   "id": "af46a3e7",
   "metadata": {},
   "source": [
    "For any matrix $\\mathbf{Z} \\in \\mathbb{R}^{p \\times q}$, the \\ac{KP}  $\\mathbf{X} \\otimes \\mathbf{Z}$ is a block matrix:\n",
    "$$\n",
    "\\begin{equation}\n",
    "\\mathbf{X} \\otimes \\mathbf{Z} = \\begin{bmatrix} \n",
    "    \\mathbf{X}_{11}\\mathbf{Z} & \\dots  & \\mathbf{X}_{1n}\\mathbf{Z} \\\\\n",
    "    \\vdots & \\ddots & \\vdots \\\\\n",
    "    \\mathbf{X}_{m1}\\mathbf{Z} & \\dots  & \\mathbf{X}_{mn}\\mathbf{Z} \n",
    "    \\end{bmatrix} \\in \\mathbf{R}^{mp \\times nq},\n",
    "\\end{equation}\n",
    "$$\n",
    "where \\textbf{every element} of $\\mathbf{X}$ \\textbf{interacts with every element} of $\\mathbf{Z}$. \n",
    "In contrast to the Hadamard product, the Kronecker product is not commutative, i.e., $\\mathbf{X} \\otimes \\mathbf{Z} \\not = \\mathbf{Z} \\otimes \\mathbf{X}$ most commonly holds. For more details, we refer to~\\cite{van2000ubiquitous,graham2018kronecker}. "
   ]
  },
  {
   "cell_type": "markdown",
   "id": "86afc353",
   "metadata": {},
   "source": [
    "Numerous works have shown that Kronecker Product can be effectively applied to decompose a large matrix into two smaller matrices. A large weight matrix of $\\mathbf{W}\\in \\mathbb R^{mp\\times nq}$ can be decomposed into any $\\mathbf{X} \\in \\mathbb{R}^{m_1  \\times n_1} $ and $ \\mathbf{Z} \\in \\mathbb{R}^{ \\frac{mp}{m_1} \\times \\frac{nq}{n_1}}$. Different compression factors can be achieved through different shape configurations of smaller matrices. Tahaei et. al. have shown that the following formulation can be effectively used to compute a linear transformation encoded in a weight matrix $\\mathbf{W}$: \n",
    "$$\n",
    "\\begin{equation}\n",
    "\\Big( \\mathbf{X}\\otimes \\mathbf{Z} \\Big)x=\\mathcal{V} \\Big(\\mathbf{Z} \\; \\mathcal{R}_{\\frac{nq}{n_1} \\times n_1}(x) \\mathbf{X}^\\top \\Big), \\label{eq:implicit_kronecker_decomposition}\n",
    "\\end{equation}\n",
    "$$\n",
    "where $x \\in \\mathbb{R}^{nq}$ represent input feature vector, $\\mathcal{V}: \\mathbb{R} \\to \\mathbb{R}^{mp}$ flattens an input matrix into a vector, $ \\mathcal{R}_{ \\frac{nq}{n_1} \\times n_1} $ converts x to a $\\frac{nq}{n_1}$ by $n_1$ matrix by dividing the vector to columns of size $\\frac{nq}{n_1}$ and concatenating the resulting columns together. This computation reduces the number of floating point operations from $(2 m_1 m_2 -1) n_1 n2 $ to $min((2n_2 -1)m_2 n_1 + (2n_1 -1) m_2 m_1 ,(2 n_1 -1)n_2 m_1 + (2 n_2 -1) m_2 m_1 )$, where $n_1= \\frac{mp}{m1}$ and $n_2= \\frac{nq}{n_1}$\n",
    "\n",
    "\n",
    "**Disclaimer: Please refer to our research paper [Kronecker Decomposition for Knowledge Graph Embeddings](https://arxiv.org/abs/2205.06560) for more details and references.**"
   ]
  },
  {
   "cell_type": "markdown",
   "id": "e9fa5f58",
   "metadata": {},
   "source": [
    "# Kronecker product\n",
    "\n",
    "\n",
    "1. $W \\in R^{m \\times n}$\n",
    "\n",
    "2. $X \\in R^{m_1 \\times n_1}$\n",
    "\n",
    "3. $Z \\in R^{m2 \\times n_2 }$\n",
    "\n",
    "3. $m_2= m \\ m_1$ and $n_2 = n \\ n_1$\n",
    "\n",
    "For any matrix $X \\in R^{m \\times n}$ and $Y \\in R^{p \\times q}$, the Kronecker product $X \\otimes Y$ is a block matrix:\n",
    "\n",
    "\\begin{align*}\n",
    "W=X \\otimes Y = \\begin{bmatrix} \n",
    "x_{11}Y & \\dots  & x_{1n}Y \\\\\n",
    "\\vdots & \\ddots & \\vdots \\\\\n",
    "x_{m1}Y & \\dots  & x_{mn}Y \n",
    "\\end{bmatrix} \\in R^{mp \\times nq},\n",
    "\\end{align*}\n",
    "\n",
    "where $x_{ij}$ is the element of $X$ at its $i^{\\text{th}}$ row and $j^{\\text{th}}$ column."
   ]
  },
  {
   "cell_type": "code",
   "execution_count": 1,
   "id": "483390d7",
   "metadata": {},
   "outputs": [
    {
     "data": {
      "text/plain": [
       "torch.Size([6, 4])"
      ]
     },
     "execution_count": 1,
     "metadata": {},
     "output_type": "execute_result"
    }
   ],
   "source": [
    "import torch\n",
    "m, n = 6,4\n",
    "m1, n1 = 3, 2\n",
    "m2, n2 = m//m1, n//n1\n",
    "A=torch.randn(m1,n1)\n",
    "B=torch.randn(m2,n2)\n",
    "W=torch.kron(A,B)\n",
    "W.shape"
   ]
  },
  {
   "cell_type": "markdown",
   "id": "6d87ebe6",
   "metadata": {},
   "source": [
    "# Implicit Linear Transformation via KP"
   ]
  },
  {
   "cell_type": "code",
   "execution_count": 2,
   "id": "c1f2f4c1",
   "metadata": {},
   "outputs": [],
   "source": [
    "def V(x):\n",
    "    return x.flatten()\n",
    "def R(x,n2,n1):\n",
    "    return x.reshape(n2,n1)\n",
    "def implicit_linear_transformation(A,B,x):\n",
    "    _,n2 = B.shape\n",
    "    _,n1 = A.shape    \n",
    "    return V(B @ R(x,n2,n1)@A.T)"
   ]
  },
  {
   "cell_type": "code",
   "execution_count": 3,
   "id": "0bb9603d",
   "metadata": {},
   "outputs": [
    {
     "name": "stdout",
     "output_type": "stream",
     "text": [
      "tensor([-0.7271, -0.4136,  0.2200,  0.0842]) torch.float32\n",
      "tensor([ 1.5665, -2.2056, -0.1857,  0.2525,  0.2263, -0.3015])\n",
      "tensor([ 0.1762, -0.0911,  0.1599, -0.7084,  0.2867, -0.4906])\n"
     ]
    }
   ],
   "source": [
    "x=torch.randn(n)*1.\n",
    "print(x,x.dtype)\n",
    "print(W@x)\n",
    "print(implicit_linear_transformation(A,B,x))"
   ]
  },
  {
   "cell_type": "code",
   "execution_count": 4,
   "id": "3d2863d8",
   "metadata": {},
   "outputs": [
    {
     "name": "stdout",
     "output_type": "stream",
     "text": [
      "tensor([3.1000, 3.1000, 3.1000, 3.1000]) torch.float32\n",
      "tensor([-1.6691,  1.9497,  1.9045, -2.2247, -3.5096,  4.0996])\n",
      "tensor([-1.6691,  1.9045, -3.5096,  1.9497, -2.2247,  4.0996])\n"
     ]
    }
   ],
   "source": [
    "x=torch.ones(n)* 3.1\n",
    "print(x,x.dtype)\n",
    "print(W@x)\n",
    "print(implicit_linear_transformation(A,B,x))"
   ]
  },
  {
   "cell_type": "code",
   "execution_count": 5,
   "id": "03739e52",
   "metadata": {},
   "outputs": [],
   "source": [
    "batch_x=torch.randn(100).reshape(5,1,20)"
   ]
  },
  {
   "cell_type": "markdown",
   "id": "a644b1f3",
   "metadata": {},
   "source": [
    "# Batch Kronecker Product Implementations"
   ]
  },
  {
   "cell_type": "code",
   "execution_count": 6,
   "id": "e64ffeef",
   "metadata": {},
   "outputs": [],
   "source": [
    "def kron(a, b):\n",
    "    \"\"\"\n",
    "    Kronecker product of matrices a and b with leading batch dimensions.\n",
    "    Batch dimensions are broadcast. The number of them mush\n",
    "    :type a: torch.Tensor\n",
    "    :type b: torch.Tensor\n",
    "    :rtype: torch.Tensor\n",
    "    \"\"\"\n",
    "    siz1 = torch.Size(torch.tensor(a.shape[-2:]) * torch.tensor(b.shape[-2:]))\n",
    "    res = a.unsqueeze(-1).unsqueeze(-3) * b.unsqueeze(-2).unsqueeze(-4)\n",
    "    siz0 = res.shape[:-4]\n",
    "    return res.reshape(siz0 + siz1)"
   ]
  },
  {
   "cell_type": "code",
   "execution_count": 7,
   "id": "4203f5a0",
   "metadata": {},
   "outputs": [
    {
     "data": {
      "text/plain": [
       "torch.Size([5, 1, 400])"
      ]
     },
     "execution_count": 7,
     "metadata": {},
     "output_type": "execute_result"
    }
   ],
   "source": [
    "kron(batch_x,batch_x).shape"
   ]
  },
  {
   "cell_type": "code",
   "execution_count": 8,
   "id": "d22ceb0a",
   "metadata": {},
   "outputs": [],
   "source": [
    "def kronecker_product_einsum_batched(A: torch.Tensor, B: torch.Tensor):\n",
    "    \"\"\"\n",
    "    Batched Version of Kronecker Products\n",
    "    :param A: has shape (b, a, c)\n",
    "    :param B: has shape (b, k, p)\n",
    "    :return: (b, ak, cp)\n",
    "    \"\"\"\n",
    "    assert A.dim() == 3 and B.dim() == 3\n",
    "\n",
    "    res = torch.einsum('bac,bkp->bakcp', A, B).view(A.size(0),\n",
    "                                                    A.size(1) * B.size(1),\n",
    "                                                    A.size(2) * B.size(2)\n",
    "                                                    )\n",
    "    return res"
   ]
  },
  {
   "cell_type": "code",
   "execution_count": 9,
   "id": "5d8e39a7",
   "metadata": {},
   "outputs": [
    {
     "data": {
      "text/plain": [
       "torch.Size([5, 1, 400])"
      ]
     },
     "execution_count": 9,
     "metadata": {},
     "output_type": "execute_result"
    }
   ],
   "source": [
    "kronecker_product_einsum_batched(batch_x,batch_x).shape"
   ]
  }
 ],
 "metadata": {
  "kernelspec": {
   "display_name": "pDL",
   "language": "python",
   "name": "pdl"
  },
  "language_info": {
   "codemirror_mode": {
    "name": "ipython",
    "version": 3
   },
   "file_extension": ".py",
   "mimetype": "text/x-python",
   "name": "python",
   "nbconvert_exporter": "python",
   "pygments_lexer": "ipython3",
   "version": "3.10.4"
  }
 },
 "nbformat": 4,
 "nbformat_minor": 5
}
