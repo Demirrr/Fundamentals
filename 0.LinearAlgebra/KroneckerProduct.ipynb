{
 "cells": [
  {
   "cell_type": "markdown",
   "id": "e9fa5f58",
   "metadata": {},
   "source": [
    "# Kronecker product\n",
    "\n",
    "\n",
    "1. $W \\in R^{m \\times n}$\n",
    "\n",
    "2. $X \\in R^{m_1 \\times n_1}$\n",
    "\n",
    "3. $Z \\in R^{m2 \\times n_2 }$\n",
    "\n",
    "3. $m_2= m \\ m_1$ and $n_2 = n \\ n_1$\n",
    "\n",
    "For any matrix $X \\in R^{m \\times n}$ and $Y \\in R^{p \\times q}$, the Kronecker product $X \\otimes Y$ is a block matrix:\n",
    "\n",
    "\\begin{align*}\n",
    "W=X \\otimes Y = \\begin{bmatrix} \n",
    "x_{11}Y & \\dots  & x_{1n}Y \\\\\n",
    "\\vdots & \\ddots & \\vdots \\\\\n",
    "x_{m1}Y & \\dots  & x_{mn}Y \n",
    "\\end{bmatrix} \\in R^{mp \\times nq},\n",
    "\\end{align*}\n",
    "\n",
    "where $x_{ij}$ is the element of $X$ at its $i^{\\text{th}}$ row and $j^{\\text{th}}$ column."
   ]
  },
  {
   "cell_type": "code",
   "execution_count": 16,
   "id": "483390d7",
   "metadata": {},
   "outputs": [
    {
     "data": {
      "text/plain": [
       "torch.Size([6, 4])"
      ]
     },
     "execution_count": 16,
     "metadata": {},
     "output_type": "execute_result"
    }
   ],
   "source": [
    "import torch\n",
    "\n",
    "m, n = 6,4\n",
    "\n",
    "\n",
    "m1, n1 = 3, 2\n",
    "m2, n2 = m//m1, n//n1\n",
    "\n",
    "A=torch.randn(m1,n1)\n",
    "B=torch.randn(m2,n2)\n",
    "W=torch.kron(A,B)\n",
    "W.shape"
   ]
  },
  {
   "cell_type": "markdown",
   "id": "6d87ebe6",
   "metadata": {},
   "source": [
    "# Implicit Linear Transformation via KP"
   ]
  },
  {
   "cell_type": "code",
   "execution_count": 51,
   "id": "c1f2f4c1",
   "metadata": {},
   "outputs": [],
   "source": [
    "def V(x):\n",
    "    return x.flatten()\n",
    "\n",
    "def R(x,n2,n1):\n",
    "    return x.reshape(n2,n1)\n",
    "def implicit_kp_liearn(A,B,x):\n",
    "    _,n2 = B.shape\n",
    "    _,n1 = A.shape    \n",
    "    return V(B @ R(x,n2,n1)@A.T)\n"
   ]
  },
  {
   "cell_type": "code",
   "execution_count": 53,
   "id": "0bb9603d",
   "metadata": {},
   "outputs": [
    {
     "name": "stdout",
     "output_type": "stream",
     "text": [
      "tensor([ 2.0599, -0.9393, -0.6693,  1.4027]) torch.float32\n",
      "tensor([ 0.3651, -1.0217, -2.1914, 11.6564,  0.3861, -3.7857])\n",
      "tensor([ 0.3762, -1.7712,  0.1594, -1.1943, 10.9832, -3.1313])\n"
     ]
    }
   ],
   "source": [
    "x=torch.randn(n)*1.\n",
    "print(x,x.dtype)\n",
    "\n",
    "print(W@x)\n",
    "\n",
    "print(implicit_kp_liearn(A,B,x))"
   ]
  },
  {
   "cell_type": "code",
   "execution_count": 55,
   "id": "3d2863d8",
   "metadata": {},
   "outputs": [
    {
     "name": "stdout",
     "output_type": "stream",
     "text": [
      "tensor([3.1000, 3.1000, 3.1000, 3.1000]) torch.float32\n",
      "tensor([ 0.7731,  0.3164,  3.6897,  1.5100, -3.2618, -1.3348])\n",
      "tensor([ 0.7731,  3.6897, -3.2618,  0.3164,  1.5100, -1.3348])\n"
     ]
    }
   ],
   "source": [
    "x=torch.ones(n)* 3.1\n",
    "print(x,x.dtype)\n",
    "\n",
    "print(W@x)\n",
    "\n",
    "print(implicit_kp_liearn(A,B,x))"
   ]
  },
  {
   "cell_type": "code",
   "execution_count": null,
   "id": "a9becdb7",
   "metadata": {},
   "outputs": [],
   "source": []
  },
  {
   "cell_type": "code",
   "execution_count": null,
   "id": "d9025648",
   "metadata": {},
   "outputs": [],
   "source": []
  },
  {
   "cell_type": "code",
   "execution_count": 60,
   "id": "b5b571c9",
   "metadata": {},
   "outputs": [
    {
     "data": {
      "text/plain": [
       "torch.Size([1024, 2, 18])"
      ]
     },
     "execution_count": 60,
     "metadata": {},
     "output_type": "execute_result"
    }
   ],
   "source": [
    "torch.matmul(torch.randn(1024, 2, 18), \n",
    "             torch.randn(18, 18)).size()"
   ]
  },
  {
   "cell_type": "code",
   "execution_count": null,
   "id": "a1c81e3e",
   "metadata": {},
   "outputs": [],
   "source": []
  },
  {
   "cell_type": "code",
   "execution_count": null,
   "id": "a53c5b15",
   "metadata": {},
   "outputs": [],
   "source": []
  },
  {
   "cell_type": "code",
   "execution_count": null,
   "id": "011d6526",
   "metadata": {},
   "outputs": [],
   "source": []
  },
  {
   "cell_type": "code",
   "execution_count": null,
   "id": "bc265985",
   "metadata": {},
   "outputs": [],
   "source": [
    "x=torch.randn(10,nq) # batch row vector\n",
    "x.shape,W.shape"
   ]
  },
  {
   "cell_type": "code",
   "execution_count": null,
   "id": "60e1ba20",
   "metadata": {},
   "outputs": [],
   "source": [
    "torch.matmul(x,W.T)"
   ]
  },
  {
   "cell_type": "code",
   "execution_count": null,
   "id": "c7721d53",
   "metadata": {},
   "outputs": [],
   "source": [
    "B.T.shape"
   ]
  },
  {
   "cell_type": "code",
   "execution_count": null,
   "id": "9bd48e09",
   "metadata": {},
   "outputs": [],
   "source": [
    "(B.T@x.reshape(len(x),nq//n1,n1)@A)"
   ]
  },
  {
   "cell_type": "markdown",
   "id": "c1b45efd",
   "metadata": {},
   "source": [
    "# Batch-wise Implicit Linear Transformation via KP"
   ]
  },
  {
   "cell_type": "code",
   "execution_count": null,
   "id": "0b4f120e",
   "metadata": {},
   "outputs": [],
   "source": [
    "x=torch.ones(10,nq)*x\n",
    "x"
   ]
  },
  {
   "cell_type": "code",
   "execution_count": null,
   "id": "6f0ce9ca",
   "metadata": {},
   "outputs": [],
   "source": [
    "x.shape"
   ]
  },
  {
   "cell_type": "code",
   "execution_count": null,
   "id": "f8d3ea96",
   "metadata": {},
   "outputs": [],
   "source": [
    "W.shape"
   ]
  },
  {
   "cell_type": "code",
   "execution_count": null,
   "id": "8083b806",
   "metadata": {},
   "outputs": [],
   "source": [
    "torch.mm(x,W.T)"
   ]
  },
  {
   "cell_type": "code",
   "execution_count": null,
   "id": "97c7db50",
   "metadata": {},
   "outputs": [],
   "source": [
    "((B@x.reshape(len(x),nq//n1,n1))@A.T).flatten(1)"
   ]
  },
  {
   "cell_type": "code",
   "execution_count": null,
   "id": "faa25ed7",
   "metadata": {},
   "outputs": [],
   "source": [
    "B.shape"
   ]
  },
  {
   "cell_type": "code",
   "execution_count": null,
   "id": "0cbcd80a",
   "metadata": {},
   "outputs": [],
   "source": []
  },
  {
   "cell_type": "code",
   "execution_count": null,
   "id": "26b365d1",
   "metadata": {},
   "outputs": [],
   "source": []
  },
  {
   "cell_type": "code",
   "execution_count": null,
   "id": "e64ffeef",
   "metadata": {},
   "outputs": [],
   "source": [
    "def kron(a, b):\n",
    "    \"\"\"\n",
    "    Kronecker product of matrices a and b with leading batch dimensions.\n",
    "    Batch dimensions are broadcast. The number of them mush\n",
    "    :type a: torch.Tensor\n",
    "    :type b: torch.Tensor\n",
    "    :rtype: torch.Tensor\n",
    "    \"\"\"\n",
    "    siz1 = torch.Size(torch.tensor(a.shape[-2:]) * torch.tensor(b.shape[-2:]))\n",
    "    res = a.unsqueeze(-1).unsqueeze(-3) * b.unsqueeze(-2).unsqueeze(-4)\n",
    "    siz0 = res.shape[:-4]\n",
    "    return res.reshape(siz0 + siz1)"
   ]
  },
  {
   "cell_type": "code",
   "execution_count": null,
   "id": "4203f5a0",
   "metadata": {},
   "outputs": [],
   "source": [
    "kron(x,x).shape"
   ]
  },
  {
   "cell_type": "code",
   "execution_count": null,
   "id": "d22ceb0a",
   "metadata": {},
   "outputs": [],
   "source": [
    "def kronecker_product_einsum_batched(A: torch.Tensor, B: torch.Tensor):\n",
    "    \"\"\"\n",
    "    Batched Version of Kronecker Products\n",
    "    :param A: has shape (b, a, c)\n",
    "    :param B: has shape (b, k, p)\n",
    "    :return: (b, ak, cp)\n",
    "    \"\"\"\n",
    "    assert A.dim() == 3 and B.dim() == 3\n",
    "\n",
    "    res = torch.einsum('bac,bkp->bakcp', A, B).view(A.size(0),\n",
    "                                                    A.size(1) * B.size(1),\n",
    "                                                    A.size(2) * B.size(2)\n",
    "                                                    )\n",
    "    return res"
   ]
  },
  {
   "cell_type": "code",
   "execution_count": null,
   "id": "5d8e39a7",
   "metadata": {},
   "outputs": [],
   "source": [
    "kronecker_product_einsum_batched(x,x).shape"
   ]
  }
 ],
 "metadata": {
  "kernelspec": {
   "display_name": "pDL",
   "language": "python",
   "name": "pdl"
  },
  "language_info": {
   "codemirror_mode": {
    "name": "ipython",
    "version": 3
   },
   "file_extension": ".py",
   "mimetype": "text/x-python",
   "name": "python",
   "nbconvert_exporter": "python",
   "pygments_lexer": "ipython3",
   "version": "3.8.10"
  }
 },
 "nbformat": 4,
 "nbformat_minor": 5
}
