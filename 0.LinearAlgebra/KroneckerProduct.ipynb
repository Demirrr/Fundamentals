{
 "cells": [
  {
   "cell_type": "markdown",
   "id": "e9fa5f58",
   "metadata": {},
   "source": [
    "# Kronecker product\n",
    "For any matrix $X \\in R^{m \\times n}$ and $Y \\in R^{p \\times q}$, the Kronecker product $X \\otimes Y$ is a block matrix:\n",
    "\n",
    "\\begin{align*}\n",
    "X \\otimes Y = \\begin{bmatrix} \n",
    "x_{11}Y & \\dots  & x_{1n}Y \\\\\n",
    "\\vdots & \\ddots & \\vdots \\\\\n",
    "x_{m1}Y & \\dots  & x_{mn}Y \n",
    "\\end{bmatrix} \\in R^{mp \\times nq},\n",
    "\\end{align*}\n",
    "\n",
    "where $x_{ij}$ is the element of $X$ at its $i^{\\text{th}}$ row and $j^{\\text{th}}$ column."
   ]
  },
  {
   "cell_type": "code",
   "execution_count": 1,
   "id": "483390d7",
   "metadata": {},
   "outputs": [],
   "source": [
    "import torch\n",
    "e=torch.randn(10,4)\n",
    "r=torch.randn(10,4)"
   ]
  },
  {
   "cell_type": "code",
   "execution_count": 2,
   "id": "b11e5b38",
   "metadata": {},
   "outputs": [
    {
     "data": {
      "text/plain": [
       "torch.Size([10, 2, 4])"
      ]
     },
     "execution_count": 2,
     "metadata": {},
     "output_type": "execute_result"
    }
   ],
   "source": [
    "x=torch.stack([e, r], 1)\n",
    "x.shape"
   ]
  },
  {
   "cell_type": "code",
   "execution_count": 3,
   "id": "bc265985",
   "metadata": {},
   "outputs": [
    {
     "data": {
      "text/plain": [
       "torch.Size([100, 4, 16])"
      ]
     },
     "execution_count": 3,
     "metadata": {},
     "output_type": "execute_result"
    }
   ],
   "source": [
    "torch.kron(x,x).shape"
   ]
  },
  {
   "cell_type": "code",
   "execution_count": 4,
   "id": "e64ffeef",
   "metadata": {},
   "outputs": [],
   "source": [
    "def kron(a, b):\n",
    "    \"\"\"\n",
    "    Kronecker product of matrices a and b with leading batch dimensions.\n",
    "    Batch dimensions are broadcast. The number of them mush\n",
    "    :type a: torch.Tensor\n",
    "    :type b: torch.Tensor\n",
    "    :rtype: torch.Tensor\n",
    "    \"\"\"\n",
    "    siz1 = torch.Size(torch.tensor(a.shape[-2:]) * torch.tensor(b.shape[-2:]))\n",
    "    res = a.unsqueeze(-1).unsqueeze(-3) * b.unsqueeze(-2).unsqueeze(-4)\n",
    "    siz0 = res.shape[:-4]\n",
    "    return res.reshape(siz0 + siz1)"
   ]
  },
  {
   "cell_type": "code",
   "execution_count": 5,
   "id": "4203f5a0",
   "metadata": {},
   "outputs": [
    {
     "data": {
      "text/plain": [
       "torch.Size([10, 4, 16])"
      ]
     },
     "execution_count": 5,
     "metadata": {},
     "output_type": "execute_result"
    }
   ],
   "source": [
    "kron(x,x).shape"
   ]
  },
  {
   "cell_type": "code",
   "execution_count": 6,
   "id": "d22ceb0a",
   "metadata": {},
   "outputs": [],
   "source": [
    "def kronecker_product_einsum_batched(A: torch.Tensor, B: torch.Tensor):\n",
    "    \"\"\"\n",
    "    Batched Version of Kronecker Products\n",
    "    :param A: has shape (b, a, c)\n",
    "    :param B: has shape (b, k, p)\n",
    "    :return: (b, ak, cp)\n",
    "    \"\"\"\n",
    "    assert A.dim() == 3 and B.dim() == 3\n",
    "\n",
    "    res = torch.einsum('bac,bkp->bakcp', A, B).view(A.size(0),\n",
    "                                                    A.size(1) * B.size(1),\n",
    "                                                    A.size(2) * B.size(2)\n",
    "                                                    )\n",
    "    return res"
   ]
  },
  {
   "cell_type": "code",
   "execution_count": 7,
   "id": "5d8e39a7",
   "metadata": {},
   "outputs": [
    {
     "data": {
      "text/plain": [
       "torch.Size([10, 4, 16])"
      ]
     },
     "execution_count": 7,
     "metadata": {},
     "output_type": "execute_result"
    }
   ],
   "source": [
    "kronecker_product_einsum_batched(x,x).shape"
   ]
  }
 ],
 "metadata": {
  "kernelspec": {
   "display_name": "pDL",
   "language": "python",
   "name": "pdl"
  },
  "language_info": {
   "codemirror_mode": {
    "name": "ipython",
    "version": 3
   },
   "file_extension": ".py",
   "mimetype": "text/x-python",
   "name": "python",
   "nbconvert_exporter": "python",
   "pygments_lexer": "ipython3",
   "version": "3.8.10"
  }
 },
 "nbformat": 4,
 "nbformat_minor": 5
}
