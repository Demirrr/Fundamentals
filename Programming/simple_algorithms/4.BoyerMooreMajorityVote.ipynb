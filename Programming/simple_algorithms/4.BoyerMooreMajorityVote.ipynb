{
 "cells": [
  {
   "cell_type": "markdown",
   "id": "b21a6494",
   "metadata": {},
   "source": [
    "# Boyer–Moore Majority Vote Algorithm\n",
    "\n",
    "Find the majority element among the given elements that have more than 50% of 2 occurrences. \n",
    "O(N) time complexity and O(1) space complexity.\n"
   ]
  },
  {
   "cell_type": "code",
   "execution_count": 1,
   "id": "29bb12d0",
   "metadata": {},
   "outputs": [
    {
     "name": "stdout",
     "output_type": "stream",
     "text": [
      "4\n"
     ]
    }
   ],
   "source": [
    "def majority_voting(seq):\n",
    "    candidate = -1\n",
    "    count = 0\n",
    "    for item in seq:\n",
    "\n",
    "        if count == 0:\n",
    "            candidate = item\n",
    "\n",
    "        if item == candidate:\n",
    "            count += 1\n",
    "        else:\n",
    "            count -= 1\n",
    "    return candidate\n",
    "\n",
    "# 4 is the most frequent\n",
    "s = majority_voting([1, 4, 2, 4, 3, 4, 3, 4,4])\n",
    "print(s)\n"
   ]
  }
 ],
 "metadata": {
  "kernelspec": {
   "display_name": "Python (temp)",
   "language": "python",
   "name": "temp"
  },
  "language_info": {
   "codemirror_mode": {
    "name": "ipython",
    "version": 3
   },
   "file_extension": ".py",
   "mimetype": "text/x-python",
   "name": "python",
   "nbconvert_exporter": "python",
   "pygments_lexer": "ipython3",
   "version": "3.9.12"
  }
 },
 "nbformat": 4,
 "nbformat_minor": 5
}
