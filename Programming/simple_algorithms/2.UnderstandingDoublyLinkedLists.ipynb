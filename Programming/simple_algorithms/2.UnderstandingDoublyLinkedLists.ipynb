{
 "cells": [
  {
   "cell_type": "code",
   "execution_count": 1,
   "id": "5b64b892",
   "metadata": {},
   "outputs": [],
   "source": [
    "class Node:\n",
    "    def __init__(self, data):\n",
    "        self.data = data\n",
    "        self.next = None\n",
    "        self.previous = None\n",
    "    def __repr__(self):\n",
    "        return self.data\n",
    "class CircularLinkedList:\n",
    "    def __init__(self):\n",
    "        self.head = None\n",
    "\n",
    "    def traverse(self, starting_point=None):\n",
    "        if starting_point is None:\n",
    "            starting_point = self.head\n",
    "        node = starting_point\n",
    "        while node is not None and (node.next != starting_point):\n",
    "            yield node\n",
    "            node = node.next\n",
    "        yield node\n",
    "\n",
    "    def print_list(self, starting_point=None):\n",
    "        nodes = []\n",
    "        for node in self.traverse(starting_point):\n",
    "            nodes.append(str(node))\n",
    "        print(\" -> \".join(nodes))"
   ]
  },
  {
   "cell_type": "code",
   "execution_count": 2,
   "id": "43e91c6e",
   "metadata": {},
   "outputs": [
    {
     "name": "stdout",
     "output_type": "stream",
     "text": [
      "None\n"
     ]
    }
   ],
   "source": [
    "circular_llist = CircularLinkedList()\n",
    "circular_llist.print_list()"
   ]
  },
  {
   "cell_type": "code",
   "execution_count": 3,
   "id": "fbd808f1",
   "metadata": {},
   "outputs": [],
   "source": [
    "a = Node(\"a\")\n",
    "b = Node(\"b\")\n",
    "c = Node(\"c\")\n",
    "d = Node(\"d\")\n",
    "\n",
    "a.next = b\n",
    "b.next = c\n",
    "c.next = d\n",
    "d.next = a"
   ]
  },
  {
   "cell_type": "code",
   "execution_count": 4,
   "id": "6f6d130b",
   "metadata": {},
   "outputs": [],
   "source": [
    "circular_llist.head = a"
   ]
  },
  {
   "cell_type": "code",
   "execution_count": 5,
   "id": "ee4a1616",
   "metadata": {},
   "outputs": [
    {
     "name": "stdout",
     "output_type": "stream",
     "text": [
      "a -> b -> c -> d\n"
     ]
    }
   ],
   "source": [
    "circular_llist.print_list()"
   ]
  },
  {
   "cell_type": "code",
   "execution_count": 6,
   "id": "61b4a593",
   "metadata": {},
   "outputs": [
    {
     "name": "stdout",
     "output_type": "stream",
     "text": [
      "b -> c -> d -> a\n"
     ]
    }
   ],
   "source": [
    "circular_llist.print_list(b)"
   ]
  },
  {
   "cell_type": "code",
   "execution_count": 7,
   "id": "e803f286",
   "metadata": {},
   "outputs": [
    {
     "name": "stdout",
     "output_type": "stream",
     "text": [
      "d -> a -> b -> c\n"
     ]
    }
   ],
   "source": [
    "circular_llist.print_list(d)"
   ]
  }
 ],
 "metadata": {
  "kernelspec": {
   "display_name": "Python (temp)",
   "language": "python",
   "name": "temp"
  },
  "language_info": {
   "codemirror_mode": {
    "name": "ipython",
    "version": 3
   },
   "file_extension": ".py",
   "mimetype": "text/x-python",
   "name": "python",
   "nbconvert_exporter": "python",
   "pygments_lexer": "ipython3",
   "version": "3.9.12"
  }
 },
 "nbformat": 4,
 "nbformat_minor": 5
}
