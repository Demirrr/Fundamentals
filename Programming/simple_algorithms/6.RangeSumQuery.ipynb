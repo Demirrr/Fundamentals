{
 "cells": [
  {
   "cell_type": "code",
   "execution_count": 11,
   "id": "224adabf",
   "metadata": {},
   "outputs": [
    {
     "data": {
      "text/plain": [
       "5"
      ]
     },
     "execution_count": 11,
     "metadata": {},
     "output_type": "execute_result"
    }
   ],
   "source": [
    "def range_sum(lst,low,high,stride=1):\n",
    "    result=0\n",
    "    for item in lst[low:high:stride]:\n",
    "        result+=item\n",
    "    return result"
   ]
  },
  {
   "cell_type": "code",
   "execution_count": 12,
   "id": "fe319490",
   "metadata": {},
   "outputs": [
    {
     "data": {
      "text/plain": [
       "5"
      ]
     },
     "execution_count": 12,
     "metadata": {},
     "output_type": "execute_result"
    }
   ],
   "source": [
    "# sum([1,4])\n",
    "range_sum([1,4,3,7,9],0,2)"
   ]
  },
  {
   "cell_type": "code",
   "execution_count": 14,
   "id": "ee7dfa9d",
   "metadata": {},
   "outputs": [
    {
     "data": {
      "text/plain": [
       "1"
      ]
     },
     "execution_count": 14,
     "metadata": {},
     "output_type": "execute_result"
    }
   ],
   "source": [
    "# sum([1])\n",
    "range_sum([1,4,3,7,9],0,2,2)"
   ]
  },
  {
   "cell_type": "code",
   "execution_count": 15,
   "id": "81378641",
   "metadata": {},
   "outputs": [
    {
     "data": {
      "text/plain": [
       "24"
      ]
     },
     "execution_count": 15,
     "metadata": {},
     "output_type": "execute_result"
    }
   ],
   "source": [
    "# sum([1,4,3,7,9])\n",
    "range_sum([1,4,3,7,9],0,5,1)"
   ]
  },
  {
   "cell_type": "code",
   "execution_count": 16,
   "id": "580210d9",
   "metadata": {},
   "outputs": [
    {
     "data": {
      "text/plain": [
       "24"
      ]
     },
     "execution_count": 16,
     "metadata": {},
     "output_type": "execute_result"
    }
   ],
   "source": [
    "# sum([1,4,3,7,9])\n",
    "range_sum([1,4,3,7,9],0,50,1)"
   ]
  },
  {
   "cell_type": "code",
   "execution_count": 17,
   "id": "0bd884b7",
   "metadata": {},
   "outputs": [
    {
     "data": {
      "text/plain": [
       "13"
      ]
     },
     "execution_count": 17,
     "metadata": {},
     "output_type": "execute_result"
    }
   ],
   "source": [
    "# sum([1,3,9])\n",
    "range_sum([1,4,3,7,9],0,50,2)"
   ]
  }
 ],
 "metadata": {
  "kernelspec": {
   "display_name": "Python (temp)",
   "language": "python",
   "name": "temp"
  },
  "language_info": {
   "codemirror_mode": {
    "name": "ipython",
    "version": 3
   },
   "file_extension": ".py",
   "mimetype": "text/x-python",
   "name": "python",
   "nbconvert_exporter": "python",
   "pygments_lexer": "ipython3",
   "version": "3.9.12"
  }
 },
 "nbformat": 4,
 "nbformat_minor": 5
}
