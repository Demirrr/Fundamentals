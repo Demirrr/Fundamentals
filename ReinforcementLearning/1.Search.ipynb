{
 "cells": [
  {
   "cell_type": "markdown",
   "id": "83ad0426",
   "metadata": {},
   "source": [
    "# Search\n",
    "\n",
    "\n",
    "This tutorial is motivated by the awesome lecture of Dorsa Sadigh and Percy Liang [Stanford CS221: Artificial Intelligence: Principles and Techniques | Autumn 2019](\n",
    "https://www.youtube.com/playlist?list=PLoROMvodv4rO1NB9TD4iUZ3qghGEGtqNX).\n",
    "\n",
    "## Motivating Example :Transportation Problem\n",
    "**Problem Setup:**\n",
    "1. Street with blocks numbered 1 to n\n",
    "2. Walking from s to s+1 takes 1 minute.\n",
    "3. Taking a magic tram from s to 2s takes 2 minutes.\n",
    "**Question: How to go  from 1 to n in the least time ?**"
   ]
  },
  {
   "cell_type": "code",
   "execution_count": 1,
   "id": "eb78acad",
   "metadata": {},
   "outputs": [
    {
     "name": "stdout",
     "output_type": "stream",
     "text": [
      "[('walk', 2, 1), ('tram', 2, 2)]\n",
      "[('walk', 3, 1), ('tram', 4, 2)]\n",
      "[('walk', 4, 1), ('tram', 6, 2)]\n",
      "[]\n"
     ]
    }
   ],
   "source": [
    "from typing import List,Tuple\n",
    "import sys\n",
    "sys.setrecursionlimit(10000)\n",
    "\n",
    "## Implementation of Problem Setup\n",
    "class TransportationProblem:\n",
    "    def __init__(self, N):\n",
    "        # N = number of blocks\n",
    "        self.N = N\n",
    "    def startState(self)-> int:\n",
    "        return 1\n",
    "    def isEnd(self, state)-> bool:\n",
    "        return state == self.N\n",
    "    def succAndCost(self, state)->List[Tuple]:\n",
    "        #(action, newState, cost) triples\n",
    "        result = []\n",
    "        if state+1<=self.N:\n",
    "            result.append(('walk', state+1, 1))\n",
    "        if state*2<=self.N:\n",
    "            result.append(('tram', state*2, 2))\n",
    "        return result\n",
    "    \n",
    "problem = TransportationProblem(N=10)\n",
    "print(problem.succAndCost(1))  # [('walk', 2, 1), ('tram', 2, 2)]\n",
    "print(problem.succAndCost(2))  # [('walk', 3, 1), ('tram', 4, 2)]\n",
    "print(problem.succAndCost(3))  # [('walk', 4, 1), ('tram', 6, 2)]\n",
    "print(problem.succAndCost(10)) # []"
   ]
  },
  {
   "cell_type": "markdown",
   "id": "6a65a5f1",
   "metadata": {},
   "source": [
    "### Setup\n",
    "\n",
    "Search space is considered as a search tree with $b$ branching factor and $D$ depth"
   ]
  },
  {
   "cell_type": "markdown",
   "id": "2410c2f2",
   "metadata": {},
   "source": [
    "## 1. Backtracking Search\n",
    "\n",
    "#### Time Compleixty $O(b^D)$\n",
    "\n",
    "#### Space Compleixty $O(D)$\n",
    "Remember only the best solution"
   ]
  },
  {
   "cell_type": "code",
   "execution_count": 2,
   "id": "0e097694",
   "metadata": {},
   "outputs": [],
   "source": [
    "def backtrackingSearch(problem):\n",
    "    best = { 'cost': float('+inf'), 'history': None }    \n",
    "    def recurse(state, history, totalCost):\n",
    "        if problem.isEnd(state):\n",
    "            if totalCost<best['cost']:\n",
    "                best['cost'] = totalCost\n",
    "                best['history'] = history\n",
    "            return\n",
    "        for action, newState, cost in problem.succAndCost(state):\n",
    "            recurse(newState, history+[(action, newState, cost)], totalCost+cost)\n",
    "    \n",
    "    recurse(problem.startState(), history=[], totalCost=0)\n",
    "    return (best['cost'], best['history'])"
   ]
  },
  {
   "cell_type": "code",
   "execution_count": 3,
   "id": "7298d186",
   "metadata": {},
   "outputs": [],
   "source": [
    "def printSolution(solution):\n",
    "    totalCost, history = solution\n",
    "    print('totalCost: {}'.format(totalCost))\n",
    "    for item in history:\n",
    "        print(item)"
   ]
  },
  {
   "cell_type": "code",
   "execution_count": 4,
   "id": "8bf6113b",
   "metadata": {},
   "outputs": [
    {
     "name": "stdout",
     "output_type": "stream",
     "text": [
      "totalCost: 6\n",
      "('walk', 2, 1)\n",
      "('walk', 3, 1)\n",
      "('walk', 4, 1)\n",
      "('walk', 5, 1)\n",
      "('tram', 10, 2)\n"
     ]
    }
   ],
   "source": [
    "problem = TransportationProblem(N=10)\n",
    "printSolution(backtrackingSearch(problem))"
   ]
  },
  {
   "cell_type": "markdown",
   "id": "ad4483ce",
   "metadata": {},
   "source": [
    "## 2. Depth-First Search\n",
    "\n",
    "**Idea:** Backtracking search until you find a goal state. Hence, stop exploring three for \"the right side\".\n",
    "\n",
    "**Reqirement:** Cost of reaching goal must be __0__. In practice the time compleixty is better than the backtracing search but in terms of worst time compleixty they are same\n",
    "\n",
    "\n",
    "#### Time Compleixty $O(b^D)$\n",
    "\n",
    "#### Space Compleixty $O(D)$\n",
    "Remember only the best solution"
   ]
  },
  {
   "cell_type": "markdown",
   "id": "a2904ba6",
   "metadata": {},
   "source": [
    "## 3. Breadth-First Search\n",
    "\n",
    "**Idea:** Explore solutions close to the root state at first.\n",
    "\n",
    "**Reqirement:** __C>=0__ and __constant__ over edges.\n",
    "\n",
    "#### Time Compleixty $O(b^d)$\n",
    "\n",
    "1. $d<<D$\n",
    "\n",
    "#### Space Compleixty $O(b^d)$\n"
   ]
  },
  {
   "cell_type": "markdown",
   "id": "41668272",
   "metadata": {},
   "source": [
    "# Dynamic Programmig\n",
    "\n",
    "\n",
    "__Idea:__ Backtracking search with memoization\n",
    "\n",
    "__A state is a summary of all past actions sufficient to choose future actions optimally__.\n",
    "\n",
    "__Requirement:__ The state graph is defined by A(s) and Succ(s,a) is acyclic.\n",
    "\n",
    "$$\n",
    "FC(s)  = \\begin{cases}\n",
    "0 & \\text{ if } IsEnd(s)\\\\\n",
    "min_a \\{ C(s,a) + FC(s') \\} & \\text{otherwise} \\\\\n",
    "\\end{cases}\n",
    "$$\n",
    "\n",
    "1. $C(\\cdot,\\cdot)$ cost function\n",
    "2. $FC(\\cdot)$ minimum future cost function\n",
    "\n"
   ]
  },
  {
   "cell_type": "code",
   "execution_count": 5,
   "id": "6185b1d9",
   "metadata": {},
   "outputs": [],
   "source": [
    "def dynamicProgramming(problem):\n",
    "    cache = {}\n",
    "    id_succ={}\n",
    "    def futureCost(state):\n",
    "        # (1) Return zero cost for an end state\n",
    "        if problem.isEnd(state):\n",
    "            return 0\n",
    "        # (2) Return previously computed minimum cost of a given state\n",
    "        if state in cache:\n",
    "            return cache[state]\n",
    "        # (3) Compute current cost and future cost of each successor state\n",
    "        costs=[cost+futureCost(newState) \\\n",
    "                for action, newState, cost in problem.succAndCost(state)]\n",
    "        # (4) Mininum cost\n",
    "        min_cost=min(costs)\n",
    "        # (5) Store min cost and index of successor\n",
    "        cache[state] = min_cost\n",
    "        id_succ[state]=costs.index(min_cost)\n",
    "        return min_cost\n",
    "    \n",
    "    optimal_future_cost=futureCost(problem.startState())\n",
    "    # To Recover history\n",
    "    s=problem.startState()\n",
    "    path=[]\n",
    "    while True:\n",
    "        if problem.isEnd(s):\n",
    "            break        \n",
    "        next_= [(action, newState, cost) for action, newState, cost in problem.succAndCost(s)][id_succ[s]]\n",
    "        path.append(next_)\n",
    "        _,s,_=next_\n",
    "    return optimal_future_cost,path"
   ]
  },
  {
   "cell_type": "code",
   "execution_count": 6,
   "id": "62cdd9f6",
   "metadata": {},
   "outputs": [
    {
     "name": "stdout",
     "output_type": "stream",
     "text": [
      "totalCost: 6\n",
      "('walk', 2, 1)\n",
      "('walk', 3, 1)\n",
      "('walk', 4, 1)\n",
      "('walk', 5, 1)\n",
      "('tram', 10, 2)\n"
     ]
    }
   ],
   "source": [
    "problem = TransportationProblem(N=10)\n",
    "printSolution(dynamicProgramming(problem)) # optimal cost."
   ]
  },
  {
   "cell_type": "markdown",
   "id": "a1982d84",
   "metadata": {},
   "source": [
    "# Uniform Cost Search\n",
    "\n",
    "__Idea:__ UCS enumerates state in order of increasing past cost.\n",
    "\n",
    "__Requriement:__ Cost is non-negative.\n",
    "\n",
    "\n",
    "#### Time Compleixty $O( nlog(n))$\n",
    "\n",
    "$n$ is the number of states explored . \n",
    "\n",
    "#### Space Compleixty $O( b^d )$\n"
   ]
  },
  {
   "cell_type": "code",
   "execution_count": 7,
   "id": "0721d61e",
   "metadata": {},
   "outputs": [],
   "source": [
    "import heapq\n",
    "from queue import PriorityQueue as PQ\n",
    "# Data structure for supporting uniform cost search.\n",
    "class PriorityQueueWithHeapq:\n",
    "    def  __init__(self):\n",
    "        self.DONE = -100000\n",
    "        self.heap = []\n",
    "        self.priorities = {}  # Map from state to priority\n",
    "\n",
    "    # Insert |state| into the heap with priority |newPriority| if\n",
    "    # |state| isn't in the heap or |newPriority| is smaller than the existing\n",
    "    # priority.\n",
    "    # Return whether the priority queue was updated.\n",
    "    def update(self, state, newPriority):\n",
    "        oldPriority = self.priorities.get(state)\n",
    "        if oldPriority == None or newPriority < oldPriority:\n",
    "            self.priorities[state] = newPriority\n",
    "            heapq.heappush(self.heap, (newPriority, state))\n",
    "            return True\n",
    "        return False\n",
    "\n",
    "    # Returns (state with minimum priority, priority)\n",
    "    # or (None, None) if the priority queue is empty.\n",
    "    def removeMin(self):\n",
    "        while len(self.heap) > 0:\n",
    "            priority, state = heapq.heappop(self.heap)\n",
    "            if self.priorities[state] == self.DONE: continue  # Outdated priority, skip\n",
    "            self.priorities[state] = self.DONE\n",
    "            return (state, priority)\n",
    "        return (None, None) # Nothing left...\n",
    "    \n",
    "class PriorityQueue:\n",
    "    def __init__(self, maxsize=0):\n",
    "        self.pq = PQ(maxsize)\n",
    "        self.priorities = dict() # Map from state to priority\n",
    "        self.DONE = -100000\n",
    "            \n",
    "    def update(self,state,new_cost):\n",
    "        \"\"\" (1) If the cost is lower \"\"\"\n",
    "        old_cost = self.priorities.get(state)\n",
    "        if old_cost == None or new_cost < old_cost:\n",
    "            \"\"\" (1.1) Update priorty of the state \"\"\"\n",
    "            self.priorities[state] = new_cost\n",
    "            self.pq.put((new_cost,state))\n",
    "            return True\n",
    "        return False\n",
    "    def removeMin(self):\n",
    "        \"\"\" Fetch most promissing state \"\"\"\n",
    "        while self.pq.qsize() > 0:\n",
    "            new_cost,state = self.pq.get(timeout=1)\n",
    "            if self.priorities[state] == self.DONE: \n",
    "                continue  # Outdated priority, skip\n",
    "            \"\"\" Mark a state as explored \"\"\"\n",
    "            self.priorities[state] = self.DONE\n",
    "            return new_cost,state\n",
    "        return (None, None) # Nothing left..."
   ]
  },
  {
   "cell_type": "code",
   "execution_count": 8,
   "id": "0c3f1fbd",
   "metadata": {},
   "outputs": [],
   "source": [
    "def uniformCostSearch(problem):\n",
    "    # Explored, Frontier, and Unexplored states\n",
    "    frontier = PriorityQueue()\n",
    "    frontier.update(problem.startState(),0)\n",
    "    book_keeping=dict() # map from next state to predecessor\n",
    "\n",
    "    while True:\n",
    "        # Move from frontier to explored\n",
    "        pastCost,state = frontier.removeMin()\n",
    "        if problem.isEnd(state):\n",
    "            break\n",
    "        # Push out on the frontier\n",
    "        for action, newState, cost in problem.succAndCost(state):\n",
    "            if frontier.update(newState,pastCost+cost):\n",
    "                book_keeping[newState]=state\n",
    "                \n",
    "    s_prime=problem.N\n",
    "    state_to_state=dict()\n",
    "    while True:\n",
    "        s = book_keeping.get(s_prime)\n",
    "        if s:\n",
    "            state_to_state[s]=s_prime\n",
    "            s_prime=s\n",
    "        else:\n",
    "            break\n",
    "    del book_keeping,frontier\n",
    "    s=problem.startState()\n",
    "    path=[]\n",
    "    while True:\n",
    "        if problem.isEnd(s):\n",
    "            break        \n",
    "        next_= [(action, newState, cost) for action, newState, cost in problem.succAndCost(s) if state_to_state[s]==newState][0]\n",
    "        path.append(next_)\n",
    "        _,s,_=next_\n",
    "    return (pastCost, path)"
   ]
  },
  {
   "cell_type": "code",
   "execution_count": 9,
   "id": "7a878dae",
   "metadata": {},
   "outputs": [
    {
     "name": "stdout",
     "output_type": "stream",
     "text": [
      "totalCost: 6\n",
      "('walk', 2, 1)\n",
      "('tram', 4, 2)\n",
      "('walk', 5, 1)\n",
      "('tram', 10, 2)\n"
     ]
    }
   ],
   "source": [
    "problem = TransportationProblem(N=10)\n",
    "printSolution(uniformCostSearch(problem))"
   ]
  },
  {
   "cell_type": "markdown",
   "id": "b79acb99",
   "metadata": {},
   "source": [
    "## Analysis of UCS, Theorem:correctness\n",
    "__When a state $s$ is popped from the frontier and moved to explored. its priorty is PastCost(s), the minimum cost to s.__"
   ]
  },
  {
   "cell_type": "markdown",
   "id": "2dc5e1b1",
   "metadata": {},
   "source": [
    "# Learning as an inverse search problem\n",
    "\n",
    "\n",
    "\n",
    "## Forward Problem (search)\n",
    "\n",
    "$x=\\mathbb R $ and $y=\\mathbb R^k$\n",
    "$$ C(s,a) \\rightarrow (a_1, \\dots, a_k) $$\n",
    "\n",
    "\n",
    "## Inverse Problem (learning)\n",
    "$x=\\mathbb R^k $ and $y=\\mathbb R$\n",
    "$$ (a_1, \\dots, a_k) \\rightarrow C(s,a) $$"
   ]
  },
  {
   "cell_type": "markdown",
   "id": "4101382c",
   "metadata": {},
   "source": [
    "## Transportation Problem with Weighted Costs"
   ]
  },
  {
   "cell_type": "code",
   "execution_count": 10,
   "id": "adf89f15",
   "metadata": {},
   "outputs": [
    {
     "name": "stdout",
     "output_type": "stream",
     "text": [
      "[('walk', 2, 1), ('tram', 2, 3)]\n",
      "[('walk', 3, 1), ('tram', 4, 3)]\n",
      "[('walk', 4, 1), ('tram', 6, 3)]\n",
      "[]\n"
     ]
    }
   ],
   "source": [
    "class TransportationProblemWithWeightedCosts:\n",
    "    def __init__(self, N, weights):\n",
    "        # N = number of blocks\n",
    "        # weights = weights of different actions\n",
    "        self.N = N\n",
    "        self.weights = weights\n",
    "    def startState(self):\n",
    "        return 1\n",
    "    def isEnd(self, state):\n",
    "        return state == self.N\n",
    "    def succAndCost(self, state):\n",
    "        # return list of (action, newState, cost) triples\n",
    "        result = []\n",
    "        if state+1<=self.N:\n",
    "            result.append(('walk', state+1, self.weights['walk']))\n",
    "        if state*2<=self.N:\n",
    "            result.append(('tram', state*2, self.weights['tram']))\n",
    "        return result\n",
    "    \n",
    "problem = TransportationProblemWithWeightedCosts(10, {'walk': 1, 'tram': 3})\n",
    "print(problem.succAndCost(1))  # [('walk', 2, 1), ('tram', 2, 3)]\n",
    "print(problem.succAndCost(2))  # [('walk', 3, 1), ('tram', 4, 3)]\n",
    "print(problem.succAndCost(3))  # [('walk', 4, 1), ('tram', 6, 3)]\n",
    "print(problem.succAndCost(10)) # []"
   ]
  },
  {
   "cell_type": "code",
   "execution_count": 11,
   "id": "18785dc0",
   "metadata": {},
   "outputs": [],
   "source": [
    "def predict(N, weights,f=uniformCostSearch)->List[str]:\n",
    "    problem = TransportationProblemWithWeightedCosts(N, weights)\n",
    "    totalCost, history = f(problem)\n",
    "    return [action for action, newState, cost in history]\n",
    "\n",
    "def generateExamples(n,f,trueWeights = {'walk': 1, 'tram': 3}):\n",
    "    return [(N, predict(N, trueWeights,f)) for N in range(1, n)]"
   ]
  },
  {
   "cell_type": "code",
   "execution_count": 12,
   "id": "87c6101d",
   "metadata": {},
   "outputs": [
    {
     "name": "stdout",
     "output_type": "stream",
     "text": [
      "1 []\n",
      "2 ['walk']\n",
      "3 ['walk', 'walk']\n",
      "4 ['walk', 'walk', 'walk']\n",
      "5 ['walk', 'walk', 'walk', 'walk']\n",
      "6 ['walk', 'walk', 'walk', 'walk', 'walk']\n",
      "7 ['walk', 'walk', 'walk', 'walk', 'walk', 'walk']\n",
      "8 ['walk', 'walk', 'walk', 'tram']\n",
      "9 ['walk', 'walk', 'walk', 'tram', 'walk']\n"
     ]
    }
   ],
   "source": [
    "for n, actions in generateExamples(10,f=dynamicProgramming):\n",
    "    print(n,actions)"
   ]
  },
  {
   "cell_type": "code",
   "execution_count": 13,
   "id": "dbb96378",
   "metadata": {},
   "outputs": [
    {
     "name": "stdout",
     "output_type": "stream",
     "text": [
      "1 []\n",
      "2 ['walk']\n",
      "3 ['walk', 'walk']\n",
      "4 ['walk', 'walk', 'walk']\n",
      "5 ['walk', 'walk', 'walk', 'walk']\n",
      "6 ['walk', 'walk', 'tram']\n",
      "7 ['walk', 'walk', 'tram', 'walk']\n",
      "8 ['walk', 'walk', 'walk', 'tram']\n",
      "9 ['walk', 'walk', 'walk', 'tram', 'walk']\n"
     ]
    }
   ],
   "source": [
    "for n,actions in generateExamples(10,f=uniformCostSearch):\n",
    "    print(n,actions)"
   ]
  },
  {
   "cell_type": "code",
   "execution_count": 14,
   "id": "07f911ae",
   "metadata": {},
   "outputs": [],
   "source": [
    "def structuredPerceptron(examples):\n",
    "    weights = {'walk': 0, 'tram': 0}\n",
    "    print('Dataset')\n",
    "    for n in examples:\n",
    "        print(n)\n",
    "    for t in range(100):\n",
    "        numMistakes = 0\n",
    "        for N, trueActions in examples:\n",
    "            # Make a prediction\n",
    "            predActions = predict(N, weights)\n",
    "            if predActions != trueActions:\n",
    "                numMistakes += 1\n",
    "            # Update weights\n",
    "            for action in trueActions:\n",
    "                weights[action] -= 1\n",
    "            for action in predActions:\n",
    "                weights[action] += 1\n",
    "        print('Iteration {}, numMistakes = {}, weights = {}'.format(t, numMistakes, weights))\n",
    "        if numMistakes == 0:\n",
    "            print('Done!')\n",
    "            break"
   ]
  },
  {
   "cell_type": "code",
   "execution_count": 15,
   "id": "ee222a8f",
   "metadata": {},
   "outputs": [
    {
     "name": "stdout",
     "output_type": "stream",
     "text": [
      "Dataset\n",
      "(1, [])\n",
      "(2, ['walk'])\n",
      "(3, ['walk', 'walk'])\n",
      "(4, ['walk', 'walk', 'walk'])\n",
      "(5, ['walk', 'walk', 'walk', 'walk'])\n",
      "(6, ['walk', 'walk', 'tram'])\n",
      "(7, ['walk', 'walk', 'tram', 'walk'])\n",
      "(8, ['walk', 'walk', 'walk', 'tram'])\n",
      "(9, ['walk', 'walk', 'walk', 'tram', 'walk'])\n",
      "Iteration 0, numMistakes = 4, weights = {'walk': 3, 'tram': 0}\n",
      "Iteration 1, numMistakes = 5, weights = {'walk': 4, 'tram': 1}\n",
      "Iteration 2, numMistakes = 4, weights = {'walk': 1, 'tram': 3}\n",
      "Iteration 3, numMistakes = 0, weights = {'walk': 1, 'tram': 3}\n",
      "Done!\n"
     ]
    }
   ],
   "source": [
    "structuredPerceptron(generateExamples(10,f=uniformCostSearch))"
   ]
  },
  {
   "cell_type": "markdown",
   "id": "bd14a0bf",
   "metadata": {},
   "source": [
    "# A* Search\n",
    "\n",
    "Run UCS with modified edge costs\n",
    "\n",
    "$$ \\hat{C}(s,a) = C(s,a) + h(Succ(s,a))-h(s) $$\n",
    "where $h(\\cdot)$ is a heuristic function."
   ]
  },
  {
   "cell_type": "markdown",
   "id": "eaf6803a",
   "metadata": {},
   "source": [
    "### Heuristic $h$\n",
    "\n",
    "1. $h$ must be __consistent__, i.e., fulfill the triangle inequality\n",
    "\n",
    "$$ \\hat C (s,a) = C(s,a) + h(s') - h (s) \\ge 0, $$\n",
    "\n",
    "where $s':=Succ(s,a)$\n",
    "\n",
    "2. $h(s_{end})=0$"
   ]
  },
  {
   "cell_type": "markdown",
   "id": "dd23f6f6",
   "metadata": {},
   "source": [
    "## Correctness of A*\n",
    "\n",
    "If h is consistent, A* returns the minimum cost path\n",
    "\n",
    "\n",
    "## Efficiency  of A*\n",
    "\n",
    "UCS explores all states $s$ satisfiying\n",
    "$$ PastCost(s) \\leq PastCost(EndState)$$\n",
    "\n",
    "A* explores all states $s$ satisfiying\n",
    "$$ PastCost(s) \\leq PastCost(s_{end}) - h (s)$$\n"
   ]
  },
  {
   "cell_type": "markdown",
   "id": "7d6d1bb7",
   "metadata": {},
   "source": [
    "### Admissibility\n",
    "\n",
    "A heuristic $h(s)$ is admissble if \n",
    "\n",
    "$$ h(s) \\leq FutureCost(s) $$\n",
    "Admissible heuristics are optimistic. Note that __consistency implies admissibility__"
   ]
  }
 ],
 "metadata": {
  "kernelspec": {
   "display_name": "pDL",
   "language": "python",
   "name": "pdl"
  },
  "language_info": {
   "codemirror_mode": {
    "name": "ipython",
    "version": 3
   },
   "file_extension": ".py",
   "mimetype": "text/x-python",
   "name": "python",
   "nbconvert_exporter": "python",
   "pygments_lexer": "ipython3",
   "version": "3.8.10"
  }
 },
 "nbformat": 4,
 "nbformat_minor": 5
}
