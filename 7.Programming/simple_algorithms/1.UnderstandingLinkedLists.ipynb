{
 "cells": [
  {
   "cell_type": "markdown",
   "id": "abe9402a",
   "metadata": {},
   "source": [
    "# Understanding Linked Lists\n",
    "\n",
    "Also known as singly linked lists\n",
    "\n",
    "This is based on https://realpython.com/linked-lists-python/\n",
    "\n",
    "Each element of a linked list is called a node containing two fields:\n",
    "\n",
    "1. Data denotes the value to be stored.\n",
    "2. Next denotes a reference to the next node.\n",
    "\n",
    "\n",
    "The first node in a linked list called the head.\n",
    "\n",
    "\n",
    "## When to use linked lists\n",
    "\n",
    "For queues, stacks as well as graphs.\n",
    "\n",
    "#### Queues\n",
    "FIFO\n",
    "\n",
    "#### Stacks\n",
    "LIFO\n",
    "\n",
    "#### Graphs\n",
    "A directed acyclic graph."
   ]
  },
  {
   "cell_type": "markdown",
   "id": "0d51e2f9",
   "metadata": {},
   "source": [
    "# Implementation"
   ]
  },
  {
   "cell_type": "code",
   "execution_count": 1,
   "id": "71c04759",
   "metadata": {},
   "outputs": [],
   "source": [
    "class Node:\n",
    "    def __init__(self, data):\n",
    "        self.data = data\n",
    "        self.next = None\n",
    "    def __repr__(self):\n",
    "        return self.data\n",
    "\n",
    "class LinkedList:\n",
    "    def __init__(self, nodes=None):\n",
    "        self.head = None\n",
    "        if nodes is not None:\n",
    "            node = Node(data=nodes.pop(0))\n",
    "            self.head = node\n",
    "            for elem in nodes:\n",
    "                node.next = Node(data=elem)\n",
    "                node = node.next\n",
    "    def add_first(self, node):\n",
    "        node.next = self.head\n",
    "        self.head = node\n",
    "    def add_last(self, node):\n",
    "        if self.head is None:\n",
    "            self.head = node\n",
    "            return\n",
    "        for current_node in self:\n",
    "            pass\n",
    "        current_node.next = node\n",
    "    def add_after(self, target_node_data, new_node):\n",
    "        if self.head is None:\n",
    "            raise Exception(\"List is empty\")\n",
    "\n",
    "        for node in self:\n",
    "            if node.data == target_node_data:\n",
    "                new_node.next = node.next\n",
    "                node.next = new_node\n",
    "                return\n",
    "\n",
    "        raise Exception(\"Node with data '%s' not found\" % target_node_data)\n",
    "    \n",
    "    def remove_node(self, target_node_data):\n",
    "        if self.head is None:\n",
    "            raise Exception(\"List is empty\")\n",
    "\n",
    "        if self.head.data == target_node_data:\n",
    "            self.head = self.head.next\n",
    "            return\n",
    "\n",
    "        previous_node = self.head\n",
    "        for node in self:\n",
    "            if node.data == target_node_data:\n",
    "                previous_node.next = node.next\n",
    "                return\n",
    "            previous_node = node\n",
    "\n",
    "        raise Exception(\"Node with data '%s' not found\" % target_node_data)\n",
    "\n",
    "    def __repr__(self):\n",
    "        node = self.head\n",
    "        nodes = []\n",
    "        while node is not None:\n",
    "            nodes.append(str(node.data)\n",
    "            node = node.next\n",
    "        nodes.append(\"None\")\n",
    "        return \" -> \".join(nodes)\n",
    "    \n",
    "    def __iter__(self):\n",
    "        node = self.head\n",
    "        while node is not None:\n",
    "            yield node\n",
    "            node = node.next"
   ]
  },
  {
   "cell_type": "code",
   "execution_count": 2,
   "id": "2832da16",
   "metadata": {},
   "outputs": [
    {
     "data": {
      "text/plain": [
       "a -> b -> c -> d -> e -> None"
      ]
     },
     "execution_count": 2,
     "metadata": {},
     "output_type": "execute_result"
    }
   ],
   "source": [
    "llist = LinkedList([\"a\", \"b\", \"c\", \"d\", \"e\"])\n",
    "llist"
   ]
  },
  {
   "cell_type": "code",
   "execution_count": 3,
   "id": "783b8364",
   "metadata": {},
   "outputs": [
    {
     "name": "stdout",
     "output_type": "stream",
     "text": [
      "a\n",
      "b\n",
      "c\n",
      "d\n",
      "e\n"
     ]
    }
   ],
   "source": [
    "for node in llist:\n",
    "    print(node)"
   ]
  },
  {
   "cell_type": "code",
   "execution_count": 4,
   "id": "e009a4c1",
   "metadata": {},
   "outputs": [],
   "source": [
    "llist.add_last(Node(\"f\"))"
   ]
  },
  {
   "cell_type": "code",
   "execution_count": 5,
   "id": "29e546ed",
   "metadata": {},
   "outputs": [
    {
     "data": {
      "text/plain": [
       "a -> b -> c -> d -> e -> f -> None"
      ]
     },
     "execution_count": 5,
     "metadata": {},
     "output_type": "execute_result"
    }
   ],
   "source": [
    "llist"
   ]
  },
  {
   "cell_type": "code",
   "execution_count": 6,
   "id": "46adbc97",
   "metadata": {},
   "outputs": [
    {
     "data": {
      "text/plain": [
       "a -> b -> c -> d -> e -> f -> f -> None"
      ]
     },
     "execution_count": 6,
     "metadata": {},
     "output_type": "execute_result"
    }
   ],
   "source": [
    "llist.add_last(Node(\"f\"))\n",
    "llist"
   ]
  },
  {
   "cell_type": "code",
   "execution_count": 7,
   "id": "1127d1a7",
   "metadata": {},
   "outputs": [
    {
     "data": {
      "text/plain": [
       "a -> b -> c -> cc -> d -> e -> f -> f -> None"
      ]
     },
     "execution_count": 7,
     "metadata": {},
     "output_type": "execute_result"
    }
   ],
   "source": [
    "llist.add_after(\"c\", Node(\"cc\"))\n",
    "llist"
   ]
  },
  {
   "cell_type": "code",
   "execution_count": 8,
   "id": "0aa12980",
   "metadata": {},
   "outputs": [],
   "source": [
    "llist.remove_node('f')"
   ]
  },
  {
   "cell_type": "code",
   "execution_count": 9,
   "id": "6b9ccaea",
   "metadata": {},
   "outputs": [
    {
     "data": {
      "text/plain": [
       "a -> b -> c -> cc -> d -> e -> f -> None"
      ]
     },
     "execution_count": 9,
     "metadata": {},
     "output_type": "execute_result"
    }
   ],
   "source": [
    "llist"
   ]
  }
 ],
 "metadata": {
  "kernelspec": {
   "display_name": "Python (temp)",
   "language": "python",
   "name": "temp"
  },
  "language_info": {
   "codemirror_mode": {
    "name": "ipython",
    "version": 3
   },
   "file_extension": ".py",
   "mimetype": "text/x-python",
   "name": "python",
   "nbconvert_exporter": "python",
   "pygments_lexer": "ipython3",
   "version": "3.9.12"
  }
 },
 "nbformat": 4,
 "nbformat_minor": 5
}
