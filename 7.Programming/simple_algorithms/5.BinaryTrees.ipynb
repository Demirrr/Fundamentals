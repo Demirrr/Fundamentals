{
 "cells": [
  {
   "cell_type": "markdown",
   "id": "87dbf5a3",
   "metadata": {},
   "source": [
    "## Binary Trees\n",
    "\n",
    "A tree data structure in which each node has at most two child nodes.\n",
    "\n",
    "### Binary Tree Traversals:\n",
    "\n",
    "+ **Preorder Traversal**: root – left child – right child\n",
    "\n",
    "+ **Inorder Traversal**:  left child – root – right child\n",
    "\n",
    "+ **Postorder Traversal**: left child – right child – root\n",
    "\n",
    "h: Height of BST\n",
    "n: Number of nodes in BST\n",
    "\n",
    "\n",
    "### Search :  O(h) or O(Log n)\n",
    "\n",
    "If BT is balanced => O(Log n) otherwise O(h)\n",
    "Self-Balancing BSTs such as AVL Tree, Red-Black\n",
    "Tree and Splay Tree make sure that height of BST \n",
    "remains O(Log n)\n",
    "\n",
    "### Insertion : O(h)\n",
    "### Deletion : O(h)\n",
    "### Extra Space : O(n) for pointers\n",
    "\n",
    "\n",
    "\n",
    "### Binary Heap ?"
   ]
  },
  {
   "cell_type": "markdown",
   "id": "efcfe7e9",
   "metadata": {},
   "source": [
    "\n",
    "\n",
    "Using Stack is the obvious way to traverse tree without recursion.\n",
    "\n",
    "\n",
    "* Create an empty stack S.\n",
    "* Initialize current node as root\n",
    "* Push the current node to S and set current = current->left until current is NULL\n",
    "* If current is NULL and stack is not empty then \n",
    "** Pop the top item from stack.\n",
    "** Print the popped item, set current = popped_item->right \n",
    "** Go to step 3.\n",
    "* If current is NULL and stack is empty then we are done."
   ]
  },
  {
   "cell_type": "markdown",
   "id": "19553967",
   "metadata": {},
   "source": [
    "## Do inorder traversal without recursion"
   ]
  },
  {
   "cell_type": "code",
   "execution_count": 1,
   "id": "156eb53f",
   "metadata": {},
   "outputs": [
    {
     "name": "stdout",
     "output_type": "stream",
     "text": [
      "4 2 5 1 3 \n"
     ]
    }
   ],
   "source": [
    "  \n",
    "# A binary tree node\n",
    "class Node:\n",
    "      \n",
    "    # Constructor to create a new node\n",
    "    def __init__(self, data):\n",
    "        self.data = data \n",
    "        self.left = None\n",
    "        self.right = None\n",
    "  \n",
    "# Iterative function for inorder tree traversal\n",
    "def inOrder(root):\n",
    "      \n",
    "    # Set current to root of binary tree\n",
    "    current = root \n",
    "    stack = [] # initialize stack\n",
    "      \n",
    "    while True:\n",
    "          \n",
    "        # Reach the left most Node of the current Node\n",
    "        if current is not None:\n",
    "              \n",
    "            # Place pointer to a tree node on the stack \n",
    "            # before traversing the node's left subtree\n",
    "            stack.append(current)\n",
    "          \n",
    "            current = current.left \n",
    "  \n",
    "          \n",
    "        # BackTrack from the empty subtree and visit the Node\n",
    "        # at the top of the stack; however, if the stack is \n",
    "        # empty you are done\n",
    "        elif(stack):\n",
    "            current = stack.pop()\n",
    "            print(current.data, end=\" \") # Python 3 printing\n",
    "          \n",
    "            # We have visited the node and its left \n",
    "            # subtree. Now, it's right subtree's turn\n",
    "            current = current.right \n",
    "  \n",
    "        else:\n",
    "            break\n",
    "       \n",
    "    print()\n",
    "  \n",
    "\"\"\" Constructed binary tree is\n",
    "            1\n",
    "          /   \\\n",
    "         2     3\n",
    "       /  \\\n",
    "      4    5   \"\"\"\n",
    "  \n",
    "root = Node(1)\n",
    "root.left = Node(2)\n",
    "root.right = Node(3)\n",
    "root.left.left = Node(4)\n",
    "root.left.right = Node(5)\n",
    "  \n",
    "inOrder(root)\n",
    "  "
   ]
  },
  {
   "cell_type": "code",
   "execution_count": null,
   "id": "48b1136c",
   "metadata": {},
   "outputs": [],
   "source": []
  },
  {
   "cell_type": "code",
   "execution_count": 2,
   "id": "492453f5",
   "metadata": {},
   "outputs": [],
   "source": [
    "# Python program for iterative postorder traversal using two stacks\n",
    " \n",
    "# A binary tree node\n",
    "class Node:\n",
    "    # Constructor to create a new node\n",
    "    def __init__(self, data):\n",
    "        self.data = data\n",
    "        self.left = None\n",
    "        self.right = None\n"
   ]
  },
  {
   "cell_type": "code",
   "execution_count": 3,
   "id": "1ffd30e8",
   "metadata": {},
   "outputs": [],
   "source": [
    " # An iterative function to do postorder traversal of a given binary tree\n",
    "def postOrderIterative(root):\n",
    " \n",
    "    if root is None:\n",
    "        return       \n",
    "     \n",
    "    # Create two stacks\n",
    "    s1 = []\n",
    "    s2 = []\n",
    "     \n",
    "    # Push root to first stack\n",
    "    s1.append(root)\n",
    "     \n",
    "    # Run while first stack is not empty\n",
    "    while s1:\n",
    "         \n",
    "        # Pop an item from s1 and\n",
    "        # append it to s2\n",
    "        node = s1.pop()\n",
    "        s2.append(node)\n",
    "     \n",
    "        # Push left and right children of\n",
    "        # removed item to s1\n",
    "        if node.left:\n",
    "            s1.append(node.left)\n",
    "        if node.right:\n",
    "            s1.append(node.right)\n",
    " \n",
    "        # Print all elements of second stack\n",
    "    while s2:\n",
    "        node = s2.pop()\n",
    "        print(node.data,end=\" \")"
   ]
  },
  {
   "cell_type": "code",
   "execution_count": 4,
   "id": "a0ba0f29",
   "metadata": {},
   "outputs": [
    {
     "name": "stdout",
     "output_type": "stream",
     "text": [
      "4 5 2 6 7 3 1 "
     ]
    }
   ],
   "source": [
    "\n",
    " \n",
    "# Driver program to test above function\n",
    "root = Node(1)\n",
    "root.left = Node(2)\n",
    "root.right = Node(3)\n",
    "root.left.left = Node(4)\n",
    "root.left.right = Node(5)\n",
    "root.right.left = Node(6)\n",
    "root.right.right = Node(7)\n",
    "postOrderIterative(root)"
   ]
  },
  {
   "cell_type": "code",
   "execution_count": null,
   "id": "1da39d7a",
   "metadata": {},
   "outputs": [],
   "source": []
  }
 ],
 "metadata": {
  "kernelspec": {
   "display_name": "Python (temp)",
   "language": "python",
   "name": "temp"
  },
  "language_info": {
   "codemirror_mode": {
    "name": "ipython",
    "version": 3
   },
   "file_extension": ".py",
   "mimetype": "text/x-python",
   "name": "python",
   "nbconvert_exporter": "python",
   "pygments_lexer": "ipython3",
   "version": "3.9.12"
  }
 },
 "nbformat": 4,
 "nbformat_minor": 5
}
