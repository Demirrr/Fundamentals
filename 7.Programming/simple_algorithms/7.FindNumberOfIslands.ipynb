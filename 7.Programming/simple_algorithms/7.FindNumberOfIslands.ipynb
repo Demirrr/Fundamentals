{
 "cells": [
  {
   "cell_type": "markdown",
   "id": "ebe3cfe0",
   "metadata": {},
   "source": [
    "# Finding the number of islands via DFS\n",
    "\n",
    "\n",
    "A group of connected 1s forms an island\n",
    "\n",
    "More scarry name of this problem  is the problem of counting the number of connected components in an undirected graph. \n"
   ]
  },
  {
   "cell_type": "markdown",
   "id": "9654e144",
   "metadata": {},
   "source": [
    "# 1. Implementation"
   ]
  },
  {
   "cell_type": "code",
   "execution_count": 1,
   "id": "0940eae2",
   "metadata": {},
   "outputs": [],
   "source": [
    "def dfs_util(temp, v, visited, adj):\n",
    "    # (1) We visited the current node.\n",
    "    visited[v] = True\n",
    "    # (2) Store the current node.\n",
    "    temp.append(v)\n",
    "    # (3) Visit all adjacent nodes.\n",
    "    for i in adj[v]:\n",
    "    # (4) Ignore all adjacent nodes that are marked as visited\n",
    "        if visited[i] == False:\n",
    "            temp = dfs_util(temp, i, visited,adj)\n",
    "    return temp"
   ]
  },
  {
   "cell_type": "code",
   "execution_count": 2,
   "id": "34383d5b",
   "metadata": {},
   "outputs": [
    {
     "name": "stdout",
     "output_type": "stream",
     "text": [
      "[[1], [0], [3], [2, 4], [3]]\n",
      "Connected components:[[0, 1], [2, 3, 4]]\n"
     ]
    }
   ],
   "source": [
    "class Graph:\n",
    "    def __init__(self, num_nodes):\n",
    "        self.num_nodes = num_nodes\n",
    "        # mapping from node to adjacent nodes.\n",
    "        self.adj = [[] for i in range(num_nodes)]\n",
    "    def add_unidirected_edge(self, v, w):\n",
    "        self.adj[v].append(w)\n",
    "        self.adj[w].append(v)\n",
    "    def count_connected_num_components(self):\n",
    "        visited = [ False for i in range(self.num_nodes)]\n",
    "        cc=[]\n",
    "        for v in range(self.num_nodes):\n",
    "            if visited[v]==False:\n",
    "                temp = []\n",
    "                cc.append(dfs_util(temp,v,visited,self.adj))\n",
    "        return cc\n",
    "g = Graph(5)\n",
    "g.add_unidirected_edge(1, 0)\n",
    "g.add_unidirected_edge(2, 3)\n",
    "g.add_unidirected_edge(3, 4)\n",
    "print(g.adj)\n",
    "comp=g.count_connected_num_components()\n",
    "print(f'Connected components:{comp}')"
   ]
  },
  {
   "cell_type": "markdown",
   "id": "82840c63",
   "metadata": {},
   "source": [
    "# 2. Implementation"
   ]
  },
  {
   "cell_type": "code",
   "execution_count": 3,
   "id": "fa551cda",
   "metadata": {},
   "outputs": [
    {
     "name": "stdout",
     "output_type": "stream",
     "text": [
      "Num of rows:5\tNum of cols:5\n",
      "4\n"
     ]
    }
   ],
   "source": [
    "class IslandFinder:\n",
    "    def __init__(self):\n",
    "        self.graph = None\n",
    "        self.num_rows = None\n",
    "        self.num_columns = None\n",
    "        self.num_directions = 8\n",
    "        self.rowNbr = [-1, -1, -1, 0, 0, 1, 1, 1]\n",
    "        self.colNbr = [-1, 0, 1, -1, 1, -1, 0, 1]\n",
    "\n",
    "    def apply(self, g):\n",
    "        self.graph = g\n",
    "        self.num_rows = len(g)\n",
    "        self.num_columns = len(g[0])\n",
    "        print(f'Num of rows:{self.num_rows}\\tNum of cols:{self.num_columns}')\n",
    "\n",
    "        visited = [[False for _ in range(self.num_rows)] for __ in range(self.num_columns)]\n",
    "        num_islands = 0\n",
    "\n",
    "        def dfs(i, j):\n",
    "            # Mark this cell as visited\n",
    "            visited[i][j] = True\n",
    "            # Recur for all connected neighbours\n",
    "            for k in range(self.num_directions):\n",
    "                temp_i = i + self.rowNbr[k]\n",
    "                tem_j = j + self.colNbr[k]\n",
    "                # Is it a valid movement ?\n",
    "                if (0 <= temp_i < self.num_rows) and (0 <= tem_j < self.num_columns):\n",
    "                    if not visited[temp_i][tem_j] and self.graph[temp_i][tem_j]:\n",
    "                        dfs(temp_i, tem_j)\n",
    "\n",
    "        for i in range(self.num_rows):\n",
    "            for j in range(self.num_columns):\n",
    "                if visited[i][j] == False and self.graph[i][j] == 1:\n",
    "                    dfs(i, j)\n",
    "                    num_islands += 1\n",
    "        return num_islands\n",
    "\n",
    "\n",
    "graph = [[1, 0, 0, 0, 0],\n",
    "         [1, 1, 0, 0, 0],\n",
    "         [0, 0, 0, 1, 0],\n",
    "         [0, 0, 0, 0, 0],\n",
    "         [0, 1, 0, 0, 1]]\n",
    "print(IslandFinder().apply(graph))\n"
   ]
  }
 ],
 "metadata": {
  "kernelspec": {
   "display_name": "Python (temp)",
   "language": "python",
   "name": "temp"
  },
  "language_info": {
   "codemirror_mode": {
    "name": "ipython",
    "version": 3
   },
   "file_extension": ".py",
   "mimetype": "text/x-python",
   "name": "python",
   "nbconvert_exporter": "python",
   "pygments_lexer": "ipython3",
   "version": "3.9.12"
  }
 },
 "nbformat": 4,
 "nbformat_minor": 5
}
