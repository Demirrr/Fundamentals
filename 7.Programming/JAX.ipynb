{
 "cells": [
  {
   "cell_type": "markdown",
   "id": "077bb9b3",
   "metadata": {},
   "source": [
    "# MLP with JAX"
   ]
  },
  {
   "cell_type": "code",
   "execution_count": 1,
   "id": "cc501971",
   "metadata": {},
   "outputs": [],
   "source": [
    "import jax\n",
    "from jax import random\n",
    "import jax.numpy as jnp\n",
    "import numpy as np\n",
    "import matplotlib.pyplot as plt"
   ]
  },
  {
   "cell_type": "markdown",
   "id": "b2076ec7",
   "metadata": {},
   "source": [
    "### Using Random Number Generator in Numpy and JAX"
   ]
  },
  {
   "cell_type": "code",
   "execution_count": 2,
   "id": "1a2e786d",
   "metadata": {},
   "outputs": [
    {
     "name": "stdout",
     "output_type": "stream",
     "text": [
      "-0.9655518973066672\n",
      "0.36887883936257826\n"
     ]
    }
   ],
   "source": [
    "np.random.seed(927)\n",
    "# Different values\n",
    "print(np.random.normal());print(np.random.normal())"
   ]
  },
  {
   "cell_type": "code",
   "execution_count": 3,
   "id": "7776f380",
   "metadata": {},
   "outputs": [
    {
     "name": "stderr",
     "output_type": "stream",
     "text": [
      "WARNING:absl:No GPU/TPU found, falling back to CPU. (Set TF_CPP_MIN_LOG_LEVEL=0 and rerun for more info.)\n"
     ]
    },
    {
     "name": "stdout",
     "output_type": "stream",
     "text": [
      "-1.1837974\n",
      "-1.1837974\n"
     ]
    }
   ],
   "source": [
    "test_key = random.PRNGKey(205)\n",
    "# Same values\n",
    "print(random.normal(test_key));print(random.normal(test_key))"
   ]
  },
  {
   "cell_type": "code",
   "execution_count": 4,
   "id": "e6594ab9",
   "metadata": {},
   "outputs": [
    {
     "name": "stdout",
     "output_type": "stream",
     "text": [
      "0.7935604\n",
      "-0.03299528\n"
     ]
    }
   ],
   "source": [
    "# To generate independent samples\n",
    "key1, key2 = random.split(test_key)\n",
    "print(random.normal(key1));print(random.normal(key2))"
   ]
  },
  {
   "cell_type": "markdown",
   "id": "5332ad94",
   "metadata": {},
   "source": [
    "For more details, consider reading [_Pseudo Random Numbers in JAX_](https://jax.readthedocs.io/en/latest/jax-101/05-random-numbers.html)."
   ]
  },
  {
   "cell_type": "markdown",
   "id": "fbb4ebcd",
   "metadata": {},
   "source": [
    "## Creating a Regression Dataset"
   ]
  },
  {
   "cell_type": "code",
   "execution_count": 5,
   "id": "3c4f56ad",
   "metadata": {},
   "outputs": [],
   "source": [
    "key = random.PRNGKey(3985)\n",
    "data_rng, param_rng = random.split(key, 2)"
   ]
  },
  {
   "cell_type": "code",
   "execution_count": 6,
   "id": "8d839e83",
   "metadata": {},
   "outputs": [],
   "source": [
    "X = random.normal(data_rng, [128, 1])\n",
    "Y = 3.9 * X ** 2.0 + 8.5 * X + 3.09\n",
    "\n",
    "BS = 32\n",
    "batchify = lambda z: z.split([*range(BS, X.shape[0], BS)], 0) \n",
    "XBS, YBS = batchify(X), batchify(Y)"
   ]
  },
  {
   "cell_type": "code",
   "execution_count": null,
   "id": "634bcbad",
   "metadata": {},
   "outputs": [],
   "source": []
  },
  {
   "cell_type": "code",
   "execution_count": 7,
   "id": "ba7c949b",
   "metadata": {},
   "outputs": [],
   "source": [
    "# Initialize a neural network, i.e., list of params.\n",
    "def init_params(rng, layer_width):\n",
    "    keys = random.split(rng, len(layer_width))\n",
    "    dims = zip(layer_width[:-1], layer_width[1:], keys)\n",
    "    return [dense_layer(n_in, n_out, key) for n_in, n_out, key in dims]\n",
    "\n",
    "def dense_layer(n_in, n_out, key):\n",
    "    W = random.normal(key, [n_out, n_in]) * jnp.sqrt(2.0 / n_in)\n",
    "    b = jnp.zeros([n_out, ])\n",
    "    return W, b\n",
    "\n",
    "def forward(params, x):\n",
    "    *hidden, (W_out, b_out) = params\n",
    "    for W, b in hidden:\n",
    "        x = jax.nn.relu(W @ x + b)\n",
    "    pred = W_out @ x + b_out\n",
    "    return pred"
   ]
  },
  {
   "cell_type": "code",
   "execution_count": null,
   "id": "97d6086a",
   "metadata": {},
   "outputs": [],
   "source": []
  },
  {
   "cell_type": "code",
   "execution_count": 8,
   "id": "2d44a9c6",
   "metadata": {},
   "outputs": [],
   "source": [
    "# Vectorize forward function\n",
    "batch_forward = jax.vmap(forward, in_axes=[None, 0])"
   ]
  },
  {
   "cell_type": "code",
   "execution_count": 9,
   "id": "8365673c",
   "metadata": {},
   "outputs": [
    {
     "data": {
      "text/plain": [
       "((1,), (39, 1))"
      ]
     },
     "execution_count": 9,
     "metadata": {},
     "output_type": "execute_result"
    }
   ],
   "source": [
    "test_params = init_params(random.PRNGKey(309), [1, 128, 1])\n",
    "single = forward(test_params, jnp.ones([1]))           # Expected ( 1,  )\n",
    "batch = batch_forward(test_params, jnp.ones([39, 1]))  # Expected (39, 1)\n",
    "single.shape, batch.shape"
   ]
  },
  {
   "cell_type": "code",
   "execution_count": 10,
   "id": "ae81b6e5",
   "metadata": {},
   "outputs": [],
   "source": [
    "# MSE loss function\n",
    "def loss_fn(params, x, y):\n",
    "    pred = batch_forward(params, x)\n",
    "    loss = jnp.mean((y - pred) ** 2.0)\n",
    "    return loss"
   ]
  },
  {
   "cell_type": "code",
   "execution_count": 11,
   "id": "9dbc7804",
   "metadata": {},
   "outputs": [
    {
     "data": {
      "text/plain": [
       "[((128, 1), (128,))]"
      ]
     },
     "execution_count": 11,
     "metadata": {},
     "output_type": "execute_result"
    }
   ],
   "source": [
    "# params_tree is a list of tuples, each containing 2 jnp arrays.\n",
    "params_tree = init_params(random.PRNGKey(929), [1, 128])\n",
    "\n",
    "# shape_tree is a list of tuples, each containing 2 tuples,\n",
    "# which are mappings from an array to its shape.\n",
    "shape_tree = jax.tree_map(lambda leaf: leaf.shape, params_tree)\n",
    "shape_tree"
   ]
  },
  {
   "cell_type": "code",
   "execution_count": 12,
   "id": "9c705871",
   "metadata": {},
   "outputs": [
    {
     "data": {
      "text/plain": [
       "[(1989, 1999), ('Kim Taeyeon', 'Choi Yena')]"
      ]
     },
     "execution_count": 12,
     "metadata": {},
     "output_type": "execute_result"
    }
   ],
   "source": [
    "# Nested data doesn't need to be the same type.\n",
    "a_tree = [(2021, 2021), ('Kim ', 'Choi ')]\n",
    "b_tree = [(-32, -22), ('Taeyeon', 'Yena')]\n",
    "\n",
    "# Maps elements from a_tree and b_tree to added / concatenated elements\n",
    "jax.tree_multimap(lambda a, b: a + b, a_tree, b_tree)"
   ]
  },
  {
   "cell_type": "code",
   "execution_count": 13,
   "id": "6cc9d02f",
   "metadata": {},
   "outputs": [
    {
     "data": {
      "text/plain": [
       "(DeviceArray(2., dtype=float32), DeviceArray(3., dtype=float32))"
      ]
     },
     "execution_count": 13,
     "metadata": {},
     "output_type": "execute_result"
    }
   ],
   "source": [
    "f = lambda x: x ** 2 + x + 1\n",
    "dfdx = jax.grad(f)       # First derivative\n",
    "d2fdx2 = jax.grad(dfdx)  # Second derivative\n",
    "d2fdx2(1.0), dfdx(1.0)   # Expected 2, 3"
   ]
  },
  {
   "cell_type": "code",
   "execution_count": 14,
   "id": "f7b69825",
   "metadata": {},
   "outputs": [],
   "source": [
    "test2_params = init_params(random.PRNGKey(805), [1, 128])\n",
    "test2_x, test2_y = jnp.zeros([39, 1]), jnp.ones([39, 1])\n",
    "\n",
    "# Create a derivative function and call the function to calculate derivatives\n",
    "grad_fn = jax.grad(loss_fn)\n",
    "grads = grad_fn(test2_params, test2_x, test2_y)\n",
    "\n",
    "# One-liner\n",
    "grads2 = jax.grad(loss_fn)(test2_params, test2_x, test2_y)"
   ]
  },
  {
   "cell_type": "code",
   "execution_count": 15,
   "id": "98755857",
   "metadata": {},
   "outputs": [
    {
     "data": {
      "text/plain": [
       "DeviceArray(1., dtype=float32)"
      ]
     },
     "execution_count": 15,
     "metadata": {},
     "output_type": "execute_result"
    }
   ],
   "source": [
    "test2_loss, grads3 = jax.value_and_grad(loss_fn)(test2_params, test2_x, test2_y)\n",
    "test2_loss"
   ]
  },
  {
   "cell_type": "code",
   "execution_count": 16,
   "id": "44574ca7",
   "metadata": {},
   "outputs": [
    {
     "name": "stdout",
     "output_type": "stream",
     "text": [
      "[((128, 1), (128,))]\n",
      "[((128, 1), (128,))]\n"
     ]
    }
   ],
   "source": [
    "get_shape = lambda leaf: leaf.shape \n",
    "params_shape = jax.tree_map(get_shape, test2_params)\n",
    "grads_shape = jax.tree_map(get_shape, grads)\n",
    "print(params_shape, grads_shape, sep='\\n')"
   ]
  },
  {
   "cell_type": "code",
   "execution_count": 17,
   "id": "3ae679fc",
   "metadata": {},
   "outputs": [],
   "source": [
    "@jax.jit\n",
    "def optimizer(params, xbs, ybs):\n",
    "    epoch_loss = []\n",
    "\n",
    "    for xb, yb in zip(xbs, ybs):\n",
    "        loss, grads = jax.value_and_grad(loss_fn)(params, xb, yb)\n",
    "        params = jax.tree_multimap(lambda p, g: p - LR * g, params, grads)\n",
    "        epoch_loss.append(loss)\n",
    "\n",
    "    avg_loss = jnp.mean(jnp.asarray(epoch_loss))\n",
    "\n",
    "    return params, avg_loss"
   ]
  },
  {
   "cell_type": "code",
   "execution_count": 18,
   "id": "640355b3",
   "metadata": {},
   "outputs": [],
   "source": [
    "LR = 3e-4\n",
    "num_epochs = 25\n",
    "layer_width = [1, 128, 128, 1]"
   ]
  },
  {
   "cell_type": "code",
   "execution_count": 19,
   "id": "6bc03b3a",
   "metadata": {},
   "outputs": [],
   "source": [
    "warmup_params = init_params(param_rng, layer_width)\n",
    "warmup_loss, warmup_params = optimizer(warmup_params, XBS, YBS)"
   ]
  },
  {
   "cell_type": "code",
   "execution_count": 20,
   "id": "391bc37d",
   "metadata": {},
   "outputs": [
    {
     "name": "stderr",
     "output_type": "stream",
     "text": [
      "<ipython-input-20-7f2f7e683ce4>:10: UserWarning: Matplotlib is currently using module://ipykernel.pylab.backend_inline, which is a non-GUI backend, so cannot show the figure.\n",
      "  fig.show()\n"
     ]
    },
    {
     "data": {
      "image/png": "[encoded data removed]",
      "text/plain": [
       "<Figure size 576x576 with 1 Axes>"
      ]
     },
     "metadata": {
      "needs_background": "light"
     },
     "output_type": "display_data"
    }
   ],
   "source": [
    "params = init_params(param_rng, layer_width)\n",
    "loss_hist = []\n",
    "\n",
    "for epoch in range(num_epochs):\n",
    "    params, avg_loss = optimizer(params, XBS, YBS)\n",
    "    loss_hist.append(avg_loss)\n",
    "\n",
    "fig, ax = plt.subplots(1, 1, figsize=[8, 8])\n",
    "ax.plot(loss_hist)\n",
    "fig.show()"
   ]
  },
  {
   "cell_type": "code",
   "execution_count": null,
   "id": "af5921b6",
   "metadata": {},
   "outputs": [],
   "source": []
  }
 ],
 "metadata": {
  "kernelspec": {
   "display_name": "pDL",
   "language": "python",
   "name": "pdl"
  },
  "language_info": {
   "codemirror_mode": {
    "name": "ipython",
    "version": 3
   },
   "file_extension": ".py",
   "mimetype": "text/x-python",
   "name": "python",
   "nbconvert_exporter": "python",
   "pygments_lexer": "ipython3",
   "version": "3.8.10"
  }
 },
 "nbformat": 4,
 "nbformat_minor": 5
}
