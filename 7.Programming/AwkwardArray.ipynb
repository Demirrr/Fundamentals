{
 "cells": [
  {
   "cell_type": "markdown",
   "id": "37b0e632",
   "metadata": {},
   "source": [
    "# [Awkward-array](https://awkward-array.org/quickstart.html)"
   ]
  },
  {
   "cell_type": "code",
   "execution_count": 1,
   "id": "7be25f0c",
   "metadata": {},
   "outputs": [],
   "source": [
    "import awkward as ak\n",
    "import numpy as np"
   ]
  },
  {
   "cell_type": "code",
   "execution_count": 2,
   "id": "652178c3",
   "metadata": {},
   "outputs": [],
   "source": [
    "# list of \n",
    "dataset = [\n",
    "    [{'x':1, \"y\":[101]}],\n",
    "    [{'x':4, \"y\":[101,202]}],\n",
    "    [{'x':9, \"y\":[103,203,303]}],\n",
    "    [],\n",
    "    [{'x':33, \"y\":[104,102,3034]}]]\n",
    "\n",
    "array=ak.Array(dataset)\n"
   ]
  },
  {
   "cell_type": "code",
   "execution_count": 3,
   "id": "878e6cf1",
   "metadata": {},
   "outputs": [
    {
     "data": {
      "text/plain": [
       "<Array [[{x: 1, y: [101], ... 102, 3034]}]] type='5 * var * {\"x\": int64, \"y\": va...'>"
      ]
     },
     "execution_count": 3,
     "metadata": {},
     "output_type": "execute_result"
    }
   ],
   "source": [
    "array[:]"
   ]
  },
  {
   "cell_type": "code",
   "execution_count": 4,
   "id": "86d48f9a",
   "metadata": {},
   "outputs": [
    {
     "data": {
      "text/plain": [
       "<Array [[{x: 1, y: [101], ... 102, 3034]}]] type='5 * var * {\"x\": int64, \"y\": va...'>"
      ]
     },
     "execution_count": 4,
     "metadata": {},
     "output_type": "execute_result"
    }
   ],
   "source": [
    "array[:,:]"
   ]
  },
  {
   "cell_type": "code",
   "execution_count": 5,
   "id": "e3c4d704",
   "metadata": {},
   "outputs": [
    {
     "data": {
      "text/plain": [
       "<Array [[[101]], [[101, ... [[104, 102, 3034]]] type='5 * var * var * int64'>"
      ]
     },
     "execution_count": 5,
     "metadata": {},
     "output_type": "execute_result"
    }
   ],
   "source": [
    "array[:,:,'y']"
   ]
  },
  {
   "cell_type": "code",
   "execution_count": 6,
   "id": "168d5d0a",
   "metadata": {},
   "outputs": [
    {
     "data": {
      "text/plain": [
       "<Array [[1], [4], [9], [], [33]] type='5 * var * int64'>"
      ]
     },
     "execution_count": 6,
     "metadata": {},
     "output_type": "execute_result"
    }
   ],
   "source": [
    "array[:,:,'x']"
   ]
  },
  {
   "cell_type": "code",
   "execution_count": 7,
   "id": "a8d8fd89",
   "metadata": {},
   "outputs": [
    {
     "data": {
      "text/plain": [
       "<Array [[101], [101], [103], [], [104]] type='5 * var * int64'>"
      ]
     },
     "execution_count": 7,
     "metadata": {},
     "output_type": "execute_result"
    }
   ],
   "source": [
    "array[:,:,'y',0]"
   ]
  },
  {
   "cell_type": "code",
   "execution_count": 8,
   "id": "8569bf3c",
   "metadata": {},
   "outputs": [
    {
     "data": {
      "text/plain": [
       "<Array [[102], [103], [106], [], [110]] type='5 * var * float64'>"
      ]
     },
     "execution_count": 8,
     "metadata": {},
     "output_type": "execute_result"
    }
   ],
   "source": [
    "array[:,:,'y',0]+np.sqrt(array[:,:,'x'])"
   ]
  },
  {
   "cell_type": "code",
   "execution_count": 9,
   "id": "077ac043",
   "metadata": {},
   "outputs": [
    {
     "data": {
      "text/plain": [
       "<Array [303] type='1 * int64'>"
      ]
     },
     "execution_count": 9,
     "metadata": {},
     "output_type": "execute_result"
    }
   ],
   "source": [
    "# second item,all items, y field/key, last item\n",
    "array[2,:,\"y\",-1]"
   ]
  },
  {
   "cell_type": "code",
   "execution_count": 10,
   "id": "62ba1f9d",
   "metadata": {},
   "outputs": [
    {
     "name": "stdout",
     "output_type": "stream",
     "text": [
      "ar => [[1, 2, 3], [1, 2], [1, 2, 3, 9]]\n",
      "ar*2 => [[2, 4, 6], [2, 4], [2, 4, 6, 18]]\n",
      "ar+1 => [[2, 3, 4], [2, 3], [2, 3, 4, 10]]\n",
      "ar**2 => [[1, 4, 9], [1, 4], [1, 4, 9, 81]]\n"
     ]
    }
   ],
   "source": [
    "#  Working with variable-length-numerical arrays\n",
    "ar=ak.Array([[1,2,3],[1,2],[1,2,3,9]])\n",
    "\n",
    "print(f'ar => {ar}')\n",
    "print(f'ar*2 => {ar*2}')\n",
    "\n",
    "print(f'ar+1 => {ar+1}')\n",
    "\n",
    "print(f'ar**2 => {ar**2}')"
   ]
  },
  {
   "cell_type": "markdown",
   "id": "1a98a967",
   "metadata": {},
   "source": [
    "# Play Data"
   ]
  },
  {
   "cell_type": "code",
   "execution_count": 11,
   "id": "0b6dfb91",
   "metadata": {},
   "outputs": [],
   "source": [
    "\n",
    "\n",
    "import urllib.request\n",
    "import json\n",
    "url = \"https://raw.githubusercontent.com/Chicago/osd-bike-routes/master/data/Bikeroutes.geojson\"\n",
    "bikeroutes_json = urllib.request.urlopen(url).read()\n",
    "bikeroutes_pyobj = json.loads(bikeroutes_json)"
   ]
  },
  {
   "cell_type": "code",
   "execution_count": 12,
   "id": "c22a00e5",
   "metadata": {},
   "outputs": [
    {
     "data": {
      "text/plain": [
       "<Record ... [-87.7, 42], [-87.7, 42]]]}}]} type='{\"type\": string, \"crs\": {\"type\"...'>"
      ]
     },
     "execution_count": 12,
     "metadata": {},
     "output_type": "execute_result"
    }
   ],
   "source": [
    "bikeroutes = ak.from_json(bikeroutes_json)\n",
    "# Alternatively, bikeroutes = ak.Record(bikeroutes_pyobj)\n",
    "bikeroutes"
   ]
  },
  {
   "cell_type": "code",
   "execution_count": 13,
   "id": "cb50dd9e",
   "metadata": {},
   "outputs": [
    {
     "data": {
      "text/plain": [
       "{\"type\": string, \"crs\": {\"type\": string, \"properties\": {\"name\": string}}, \"features\": var * {\"type\": string, \"properties\": {\"STREET\": string, \"TYPE\": string, \"BIKEROUTE\": string, \"F_STREET\": string, \"T_STREET\": option[string]}, \"geometry\": {\"type\": string, \"coordinates\": var * var * var * float64}}}"
      ]
     },
     "execution_count": 13,
     "metadata": {},
     "output_type": "execute_result"
    }
   ],
   "source": [
    "ak.type(bikeroutes)"
   ]
  },
  {
   "cell_type": "code",
   "execution_count": 14,
   "id": "f1dc58b2",
   "metadata": {},
   "outputs": [
    {
     "data": {
      "text/plain": [
       "<Array [[[[-87.8, 41.9], ... [-87.7, 42]]]] type='1061 * var * var * var * float64'>"
      ]
     },
     "execution_count": 14,
     "metadata": {},
     "output_type": "execute_result"
    }
   ],
   "source": [
    "# Slicing \n",
    "# or bikeroutes.features.geometry.coordinates\n",
    "bikeroutes[\"features\", \"geometry\", \"coordinates\"]"
   ]
  },
  {
   "cell_type": "code",
   "execution_count": 15,
   "id": "7ada33a0",
   "metadata": {},
   "outputs": [
    {
     "data": {
      "text/plain": [
       "{'type': 'Feature',\n",
       " 'properties': {'STREET': 'E 26TH ST',\n",
       "  'TYPE': '1',\n",
       "  'BIKEROUTE': 'EXISTING BIKE LANE',\n",
       "  'F_STREET': 'S STATE ST',\n",
       "  'T_STREET': 'S DR MARTIN LUTHER KING JR DR'},\n",
       " 'geometry': {'type': 'MultiLineString',\n",
       "  'coordinates': [[[-87.62685625163756, 41.845587148411795],\n",
       "    [-87.62675996392576, 41.84558902593194],\n",
       "    [-87.62637708895348, 41.845596494328554],\n",
       "    [-87.62626461651281, 41.845598326696425],\n",
       "    [-87.62618268489399, 41.84559966093136],\n",
       "    [-87.6261438116618, 41.84560027230502],\n",
       "    [-87.62613206507362, 41.845600474403334],\n",
       "    [-87.6261027723024, 41.8456009526551],\n",
       "    [-87.62579736038116, 41.84560626159298],\n",
       "    [-87.62553890383363, 41.845610239979905],\n",
       "    [-87.62532611036139, 41.845613593674],\n",
       "    [-87.6247932635836, 41.84562202574476]],\n",
       "   [[-87.62532611036139, 41.845613593674],\n",
       "    [-87.6247932635836, 41.84562202574476]],\n",
       "   [[-87.6247932635836, 41.84562202574476],\n",
       "    [-87.62446484629729, 41.84562675013391],\n",
       "    [-87.62444032614908, 41.845627092762086]],\n",
       "   [[-87.6247932635836, 41.84562202574476],\n",
       "    [-87.62446484629729, 41.84562675013391],\n",
       "    [-87.62444032614908, 41.845627092762086]],\n",
       "   [[-87.62444032614908, 41.845627092762086],\n",
       "    [-87.62417259047609, 41.84563048939241]],\n",
       "   [[-87.62417259047609, 41.84563048939241],\n",
       "    [-87.62407957610536, 41.845631726253856],\n",
       "    [-87.62363619038386, 41.84563829041728],\n",
       "    [-87.62339190417225, 41.845641912449615],\n",
       "    [-87.62213773032211, 41.8456604706941],\n",
       "    [-87.620481318361, 41.84568497173672],\n",
       "    [-87.62033059867875, 41.84568719208078],\n",
       "    [-87.61886420422526, 41.84571018731772],\n",
       "    [-87.61783987848477, 41.845726258794926],\n",
       "    [-87.61768559736353, 41.84572529758383],\n",
       "    [-87.61767695024436, 41.84572400878766]],\n",
       "   [[-87.62417259047609, 41.84563048939241],\n",
       "    [-87.62407957610536, 41.845631726253856],\n",
       "    [-87.62363619038386, 41.84563829041728]]]}}"
      ]
     },
     "execution_count": 15,
     "metadata": {},
     "output_type": "execute_result"
    }
   ],
   "source": [
    "ak.to_list(bikeroutes.features[751])"
   ]
  },
  {
   "cell_type": "code",
   "execution_count": 16,
   "id": "16cff53f",
   "metadata": {},
   "outputs": [
    {
     "data": {
      "text/plain": [
       "<Array [[[-87.8, -87.8, ... -87.7, -87.7]]] type='1061 * var * var * float64'>"
      ]
     },
     "execution_count": 16,
     "metadata": {},
     "output_type": "execute_result"
    }
   ],
   "source": [
    "# Array Math\n",
    "longitude = bikeroutes.features.geometry.coordinates[..., 0]\n",
    "longitude"
   ]
  },
  {
   "cell_type": "code",
   "execution_count": 17,
   "id": "b4bc84e4",
   "metadata": {},
   "outputs": [
    {
     "data": {
      "text/plain": [
       "<Array [[[41.9, 41.9, 41.9, ... 42, 42, 42]]] type='1061 * var * var * float64'>"
      ]
     },
     "execution_count": 17,
     "metadata": {},
     "output_type": "execute_result"
    }
   ],
   "source": [
    "latitude = bikeroutes.features.geometry.coordinates[..., 1]\n",
    "latitude"
   ]
  },
  {
   "cell_type": "code",
   "execution_count": 18,
   "id": "a136a403",
   "metadata": {},
   "outputs": [
    {
     "data": {
      "text/plain": [
       "41.86357020732942"
      ]
     },
     "execution_count": 18,
     "metadata": {},
     "output_type": "execute_result"
    }
   ],
   "source": [
    "# Use numpy extension package\n",
    "np.mean(latitude)"
   ]
  },
  {
   "cell_type": "markdown",
   "id": "f2a600ad",
   "metadata": {},
   "source": [
    "# Benchmarking Performance"
   ]
  },
  {
   "cell_type": "code",
   "execution_count": 19,
   "id": "c344167e",
   "metadata": {},
   "outputs": [
    {
     "name": "stdout",
     "output_type": "stream",
     "text": [
      "70.3 ms ± 13.8 ms per loop (mean ± std. dev. of 7 runs, 10 loops each)\n"
     ]
    }
   ],
   "source": [
    "%%timeit\n",
    "\n",
    "route_length = []\n",
    "for route in bikeroutes_pyobj[\"features\"]:\n",
    "    path_length = []\n",
    "    for segment in route[\"geometry\"][\"coordinates\"]:\n",
    "        segment_length = []\n",
    "        last = None\n",
    "        for lng, lat in segment:\n",
    "            km_east = lng * 82.7\n",
    "            km_north = lat * 111.1\n",
    "            if last is not None:\n",
    "                dx2 = (km_east - last[0])**2\n",
    "                dy2 = (km_north - last[1])**2\n",
    "                segment_length.append(np.sqrt(dx2 + dy2))\n",
    "            last = (km_east, km_north)\n",
    "        path_length.append(sum(segment_length))\n",
    "    route_length.append(sum(route_length))"
   ]
  },
  {
   "cell_type": "code",
   "execution_count": 20,
   "id": "aa08bfbd",
   "metadata": {},
   "outputs": [
    {
     "name": "stdout",
     "output_type": "stream",
     "text": [
      "13.1 ms ± 492 µs per loop (mean ± std. dev. of 7 runs, 100 loops each)\n"
     ]
    }
   ],
   "source": [
    "%%timeit\n",
    "\n",
    "km_east = bikeroutes.features.geometry.coordinates[..., 0] * 82.7\n",
    "km_north = bikeroutes.features.geometry.coordinates[..., 1] * 111.1\n",
    "\n",
    "segment_length = np.sqrt((km_east[:, :, 1:] - km_east[:, :, :-1])**2 +\n",
    "                         (km_north[:, :, 1:] - km_north[:, :, :-1])**2)\n",
    "\n",
    "path_length = np.sum(segment_length, axis=-1)\n",
    "route_length = np.sum(path_length, axis=-1)"
   ]
  },
  {
   "cell_type": "code",
   "execution_count": 21,
   "id": "353b3057",
   "metadata": {},
   "outputs": [
    {
     "data": {
      "text/plain": [
       "array([0.24076035, 0.09706818, 0.2025815 , ..., 1.42737517, 0.34667691,\n",
       "       0.28063495])"
      ]
     },
     "execution_count": 21,
     "metadata": {},
     "output_type": "execute_result"
    }
   ],
   "source": [
    "import numba as nb\n",
    "\n",
    "@nb.jit\n",
    "def compute_lengths(bikeroutes):\n",
    "    route_length = np.zeros(len(bikeroutes.features))\n",
    "    for i in range(len(bikeroutes.features)):\n",
    "        for path in bikeroutes.features[i].geometry.coordinates:\n",
    "            first = True\n",
    "            last_east, last_north = 0.0, 0.0\n",
    "            for lng_lat in path:\n",
    "                km_east = lng_lat[0] * 82.7\n",
    "                km_north = lng_lat[1] * 111.1\n",
    "                if not first:\n",
    "                    dx2 = (km_east - last_east)**2\n",
    "                    dy2 = (km_north - last_north)**2\n",
    "                    route_length[i] += np.sqrt(dx2 + dy2)\n",
    "                first = False\n",
    "                last_east, last_north = km_east, km_north\n",
    "    return route_length\n",
    "\n",
    "compute_lengths(bikeroutes)"
   ]
  },
  {
   "cell_type": "code",
   "execution_count": null,
   "id": "4f55326c",
   "metadata": {},
   "outputs": [],
   "source": []
  }
 ],
 "metadata": {
  "kernelspec": {
   "display_name": "pDL",
   "language": "python",
   "name": "pdl"
  },
  "language_info": {
   "codemirror_mode": {
    "name": "ipython",
    "version": 3
   },
   "file_extension": ".py",
   "mimetype": "text/x-python",
   "name": "python",
   "nbconvert_exporter": "python",
   "pygments_lexer": "ipython3",
   "version": "3.8.10"
  }
 },
 "nbformat": 4,
 "nbformat_minor": 5
}
