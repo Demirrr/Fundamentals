{
 "cells": [
  {
   "cell_type": "code",
   "execution_count": 31,
   "metadata": {},
   "outputs": [],
   "source": [
    "import gym\n",
    "from collections import deque\n",
    "from keras.models import Sequential\n",
    "from keras.layers import Dense\n",
    "from keras.optimizers import Adam\n",
    "import random\n",
    "import numpy as np\n",
    "\n",
    "import gym\n",
    "import sys\n",
    "import keras\n",
    "import numpy as np\n",
    "import random\n",
    "import matplotlib.pyplot as plt\n",
    "from random import shuffle\n",
    "from keras.models import Sequential\n",
    "from keras.layers import Dense\n",
    "from keras.optimizers import Adam\n",
    "from collections import deque"
   ]
  },
  {
   "cell_type": "code",
   "execution_count": 32,
   "metadata": {},
   "outputs": [],
   "source": [
    "class Agent():\n",
    "    def __init__(self, obs_space, action_space):\n",
    "        self.obs_space = obs_space\n",
    "        self.action_space = action_space\n",
    "        self.memory = deque(maxlen=10000)\n",
    "        self.gamma = 0.99\n",
    "        self.batch_size = 64\n",
    "        self.model = self._build_model()\n",
    "\n",
    "    def remember(self, observation, action, reward, next_observation):\n",
    "        if len(self.memory) > self.memory.maxlen:\n",
    "            if np.random.random() < 0.5:\n",
    "                shuffle(self.memory)\n",
    "            self.memory.popleft()\n",
    "        self.memory.append((observation, action, reward, next_observation))\n",
    "\n",
    "    def get_q(self, observation):\n",
    "        np_obs = np.reshape(observation, [-1, self.obs_space])\n",
    "        return self.model.predict(np_obs)\n",
    "\n",
    "    def _build_model(self):\n",
    "        model = Sequential()\n",
    "        model.add(Dense(24, input_shape=(self.obs_space,), activation='relu'))\n",
    "        model.add(Dense(24, activation='relu'))\n",
    "        model.add(Dense(self.action_space, activation='linear'))\n",
    "        model.compile(optimizer=Adam(lr=0.001), loss='mse', metrics=[])\n",
    "        return model\n",
    "\n",
    "    def update_action(self, action_model, target_model):\n",
    "        sample_transitions = random.sample(self.memory, self.batch_size)\n",
    "        random.shuffle(sample_transitions)\n",
    "        batch_observations = []\n",
    "        batch_targets = []\n",
    "\n",
    "        for old_observation, action, reward, observation in sample_transitions:\n",
    "            # Reshape targets to output dimension(=2)\n",
    "            targets = np.reshape(\n",
    "                self.get_q(old_observation),\n",
    "                self.action_space)\n",
    "            targets[action] = reward  # Set Target Value\n",
    "            if observation is not None:\n",
    "                # If the old state is not a final state, also consider the\n",
    "                # discounted future reward\n",
    "                predictions = self.get_q(observation)\n",
    "                new_action = np.argmax(predictions)\n",
    "                targets[action] += self.gamma * predictions[0, new_action]\n",
    "\n",
    "            # Add Old State to observations batch\n",
    "            batch_observations.append(old_observation)\n",
    "            batch_targets.append(targets)  # Add target to targets batch\n",
    "\n",
    "        # Update the model using Observations and their corresponding Targets\n",
    "        np_obs = np.reshape(batch_observations, [-1, self.obs_space])\n",
    "        np_targets = np.reshape(batch_targets, [-1, self.action_space])\n",
    "        self.model.fit(np_obs, np_targets, epochs=1, verbose=0)\n",
    "\n",
    "    def save(self, path):\n",
    "        self.model.save_weights(path)\n",
    "\n",
    "    def load(self, path):\n",
    "        self.model.load_weights(path)"
   ]
  },
  {
   "cell_type": "code",
   "execution_count": 33,
   "metadata": {},
   "outputs": [
    {
     "name": "stdout",
     "output_type": "stream",
     "text": [
      "\r",
      "Episode 000 , epsilon = 1.0000, score = 014"
     ]
    },
    {
     "name": "stderr",
     "output_type": "stream",
     "text": [
      "/home/demir/anaconda3/envs/temp/lib/python3.6/site-packages/numpy/core/fromnumeric.py:3118: RuntimeWarning: Mean of empty slice.\n",
      "  out=out, **kwargs)\n",
      "/home/demir/anaconda3/envs/temp/lib/python3.6/site-packages/numpy/core/_methods.py:85: RuntimeWarning: invalid value encountered in double_scalars\n",
      "  ret = ret.dtype.type(ret / rcount)\n",
      "W0930 13:49:08.995202 140624050845504 deprecation_wrapper.py:119] From /home/demir/.local/lib/python3.6/site-packages/Keras-2.0.2-py3.6.egg/keras/backend/tensorflow_backend.py:140: The name tf.get_default_session is deprecated. Please use tf.compat.v1.get_default_session instead.\n",
      "\n",
      "W0930 13:49:08.995885 140624050845504 deprecation_wrapper.py:119] From /home/demir/.local/lib/python3.6/site-packages/Keras-2.0.2-py3.6.egg/keras/backend/tensorflow_backend.py:145: The name tf.ConfigProto is deprecated. Please use tf.compat.v1.ConfigProto instead.\n",
      "\n"
     ]
    },
    {
     "name": "stdout",
     "output_type": "stream",
     "text": [
      "Episode 002 , epsilon = 0.9801, score = 009"
     ]
    },
    {
     "name": "stderr",
     "output_type": "stream",
     "text": [
      "W0930 13:49:09.483739 140624050845504 deprecation.py:506] From /home/demir/.local/lib/python3.6/site-packages/Keras-2.0.2-py3.6.egg/keras/backend/tensorflow_backend.py:519: calling Constant.__init__ (from tensorflow.python.ops.init_ops) with dtype is deprecated and will be removed in a future version.\n",
      "Instructions for updating:\n",
      "Call initializer instance with the dtype argument instead of passing it to the constructor\n"
     ]
    },
    {
     "name": "stdout",
     "output_type": "stream",
     "text": [
      "Episode 257 , epsilon = 0.0756, score = 499\n",
      "Environment solved in 257 episodes."
     ]
    },
    {
     "data": {
      "image/png": "[encoded data removed]",
      "text/plain": [
       "<Figure size 432x288 with 1 Axes>"
      ]
     },
     "metadata": {
      "needs_background": "light"
     },
     "output_type": "display_data"
    }
   ],
   "source": [
    "\n",
    "def train():\n",
    "    env = gym.make('CartPole-v1')\n",
    "    action_space = env.action_space.n\n",
    "    observation_space = env.observation_space.shape[0]\n",
    "    agent = Agent(observation_space, action_space)\n",
    "\n",
    "    episodes = 600  # Games played in training phase\n",
    "    max_steps = 500\n",
    "    epsilon = 1\n",
    "    epsilon_decay = 0.99\n",
    "    epsilon_min = 0.05\n",
    "    scores = []  # A list of all game scores\n",
    "    recent_scores = []  # List that hold most recent 100 game scores\n",
    "\n",
    "    for episode in range(episodes):\n",
    "        observation = env.reset()\n",
    "        for iteration in range(max_steps):\n",
    "            old_observation = observation\n",
    "\n",
    "            if np.random.random() < epsilon:\n",
    "                # Take random action (explore)\n",
    "                action = np.random.choice(range(action_space))\n",
    "            else:\n",
    "                # Query the model and get Q-values for possible actions\n",
    "                q_values = agent.get_q(observation)\n",
    "                action = np.argmax(q_values)\n",
    "            # Take the selected action and observe next state\n",
    "            observation, reward, done, _ = env.step(action)\n",
    "            if done:\n",
    "                scores.append(iteration + 1)  # Append final score\n",
    "                # Calculate recent scores\n",
    "                if len(scores) > 100:\n",
    "                    recent_scores = scores[-100:]\n",
    "                # Print end-of-game information\n",
    "                print(\n",
    "                    \"\\rEpisode {:03d} , epsilon = {:.4f}, score = {:03d}\".format(\n",
    "                        episode, epsilon, iteration), end=\"\")\n",
    "                sys.stdout.flush()\n",
    "                # Give reward on episode end to accelerate learning\n",
    "                if iteration != 499:\n",
    "                    reward = -5  # Give -5 reward for taking wrong action leading to failure\n",
    "                if iteration == 499:\n",
    "                    reward = 5  # Give +5 reward for completing the game successfully\n",
    "                # Add the observation to replay memory\n",
    "                agent.remember(old_observation, action, reward, None)\n",
    "                break\n",
    "            # Add the observation to replay memory\n",
    "            agent.remember(old_observation, action, reward, observation)\n",
    "            # Update the Deep Q-Network Model (only with a chance of 25% and\n",
    "            # when the last score was worse than 495)\n",
    "            if len(agent.memory) >= agent.batch_size and np.random.random(\n",
    "            ) < 0.25 and scores[-1] < 495:\n",
    "                agent.update_action(agent.model, agent.model)\n",
    "\n",
    "        # If mean over the last 100 Games is >495, then success\n",
    "        if np.mean(recent_scores) > 495 and iteration > 495:\n",
    "            print(\"\\nEnvironment solved in {} episodes.\".format(episode), end=\"\")\n",
    "            break\n",
    "        epsilon = max(epsilon_min, epsilon_decay * epsilon)\n",
    "\n",
    "    # Saving the model\n",
    "    agent.model.save('cartpole_model.h5')\n",
    "\n",
    "    # Plotting\n",
    "    plt.plot(scores)\n",
    "    plt.title('Training Phase')\n",
    "    plt.ylabel('Time Steps')\n",
    "    plt.ylim(ymax=510)\n",
    "    plt.xlabel('Trial')\n",
    "    plt.savefig('CartPoleTraining.png', bbox_inches='tight')\n",
    "    plt.show()\n",
    "\n",
    "\n",
    "def test():\n",
    "    env = gym.make(\"CartPole-v1\")\n",
    "    action_space = env.action_space.n\n",
    "    observation_space = env.observation_space.shape[0]\n",
    "    agent = Agent(observation_space, action_space)\n",
    "    agent.load(\"cartpole_model.h5\")\n",
    "    scores = []\n",
    "\n",
    "    # Playing 100 games\n",
    "    for _ in range(100):\n",
    "        obs = env.reset()\n",
    "        episode_reward = 0\n",
    "        while True:\n",
    "            q_values = agent.get_q(obs)\n",
    "            action = np.argmax(q_values)\n",
    "            obs, reward, done, _ = env.step(action)\n",
    "            episode_reward += reward\n",
    "            if done:\n",
    "                break\n",
    "        scores.append(episode_reward)\n",
    "\n",
    "    # Plot the Performance\n",
    "    plt.plot(scores)\n",
    "    plt.title('Testing Phase')\n",
    "    plt.ylabel('Time Steps')\n",
    "    plt.ylim(ymax=510)\n",
    "    plt.xlabel('Trial')\n",
    "    plt.savefig('CartPoleTesting.png', bbox_inches='tight')\n",
    "    plt.show()\n",
    "\n",
    "\n",
    "\n",
    "train()  # Train new weights"
   ]
  },
  {
   "cell_type": "code",
   "execution_count": 34,
   "metadata": {},
   "outputs": [
    {
     "data": {
      "image/png": "[encoded data removed]",
      "text/plain": [
       "<Figure size 432x288 with 1 Axes>"
      ]
     },
     "metadata": {
      "needs_background": "light"
     },
     "output_type": "display_data"
    }
   ],
   "source": [
    "test()  # Use existing weights to play"
   ]
  },
  {
   "cell_type": "code",
   "execution_count": null,
   "metadata": {},
   "outputs": [],
   "source": []
  },
  {
   "cell_type": "code",
   "execution_count": 26,
   "metadata": {},
   "outputs": [],
   "source": [
    "\n",
    "class DQNAgent():\n",
    "    def __init__(self, env_id, path, episodes, max_env_steps, win_threshold, epsilon_decay,\n",
    "                 state_size=None, action_size=None, epsilon=1.0, epsilon_min=0.01, \n",
    "                 gamma=1, alpha=.01, alpha_decay=.01, batch_size=16, prints=True):\n",
    "        self.memory = deque(maxlen=100000)\n",
    "        self.env = gym.make(env_id)\n",
    " \n",
    "        if state_size is None: \n",
    "            self.state_size = self.env.observation_space.n \n",
    "        else: \n",
    "            self.state_size = state_size\n",
    " \n",
    "        if action_size is None: \n",
    "            self.action_size = self.env.action_space.n \n",
    "        else: \n",
    "            self.action_size = action_size\n",
    " \n",
    "        self.episodes = episodes\n",
    "        self.env._max_episode_steps = max_env_steps\n",
    "        self.win_threshold = win_threshold\n",
    "        self.epsilon = epsilon\n",
    "        self.epsilon_decay = epsilon_decay\n",
    "        self.epsilon_min = epsilon_min\n",
    "        self.gamma = gamma\n",
    "        self.alpha = alpha\n",
    "        self.alpha_decay = alpha_decay\n",
    "        self.batch_size = batch_size\n",
    "        self.path = path                     #location where the model is saved to\n",
    "        self.prints = prints                 #if true, the agent will print his scores\n",
    " \n",
    "        self.model = self._build_model()\n",
    "        \n",
    "        print(self.state_size)\n",
    "  \n",
    "    def _build_model(self):\n",
    "        model = Sequential()\n",
    "        model.add(Dense(24, input_dim=self.state_size, activation='tanh'))\n",
    "        model.add(Dense(48, activation='tanh'))\n",
    "        model.add(Dense(self.action_size, activation='linear'))\n",
    "        model.compile(loss='mse',\n",
    "                      optimizer=Adam(lr=self.alpha, decay=self.alpha_decay))\n",
    "        return model\n",
    "    \n",
    "    def act(self, state):\n",
    "        if (np.random.random() <= self.epsilon):\n",
    "            return self.env.action_space.sample()\n",
    "        return np.argmax(self.model.predict(state))\n",
    "\n",
    "    def remember(self, state, action, reward, next_state, done):      \n",
    "        self.memory.append((state, action, reward, next_state, done))\n",
    "        \n",
    "    def replay(self, batch_size):\n",
    "        x_batch, y_batch = [], []\n",
    "        minibatch = random.sample(\n",
    "            self.memory, min(len(self.memory), batch_size))\n",
    "        for state, action, reward, next_state, done in minibatch:\n",
    "            y_target = self.model.predict(state)\n",
    "            y_target[0][action] = reward if done else reward + self.gamma * np.max(self.model.predict(next_state)[0])\n",
    "            x_batch.append(state[0])\n",
    "            y_batch.append(y_target[0])\n",
    "\n",
    "        self.model.fit(np.array(x_batch), np.array(y_batch), batch_size=len(x_batch), verbose=0)\n",
    "        if self.epsilon > self.epsilon_min:\n",
    "            self.epsilon *= self.epsilon_decay\n",
    "            \n",
    "    def fit(self):\n",
    "        done=False\n",
    "        score=0\n",
    "        # Initialize the simulation\n",
    "        self.env.reset()\n",
    "        # Reset the game-state, done and score before every episode\n",
    "        state = self.env.reset()\n",
    "        \n",
    "        #state, reward, done, _ = self.env.step(self.env.action_space.sample())\n",
    "\n",
    "        for i in range(self.episodes):\n",
    "            action = self.act(state)\n",
    "            next_state, reward, done, _ = self.env.step(action)\n",
    "            #print(\"s:{0} \\t--->\\t a{1} \\t--->\\t s':{2} \\t-->\\t REWARD:{3}\".format(state,action,next_state,reward))\n",
    "            self.remember(state, action, reward, next_state, done)\n",
    "            \n",
    "            if i % 10 ==0:\n",
    "                print('hello')\n",
    "                self.replay(10)"
   ]
  },
  {
   "cell_type": "code",
   "execution_count": null,
   "metadata": {},
   "outputs": [],
   "source": []
  },
  {
   "cell_type": "code",
   "execution_count": 28,
   "metadata": {},
   "outputs": [
    {
     "name": "stdout",
     "output_type": "stream",
     "text": [
      "500\n"
     ]
    }
   ],
   "source": [
    "agent=DQNAgent(env_id=\"Taxi-v2\",path='',episodes=10,max_env_steps=20,win_threshold=9.7,epsilon_decay=0.1)"
   ]
  },
  {
   "cell_type": "code",
   "execution_count": 25,
   "metadata": {},
   "outputs": [
    {
     "name": "stdout",
     "output_type": "stream",
     "text": [
      "hello\n"
     ]
    },
    {
     "ename": "ValueError",
     "evalue": "Error when checking : expected dense_22_input to have 2 dimensions, but got array with shape ()",
     "output_type": "error",
     "traceback": [
      "\u001b[0;31m---------------------------------------------------------------------------\u001b[0m",
      "\u001b[0;31mValueError\u001b[0m                                Traceback (most recent call last)",
      "\u001b[0;32m<ipython-input-25-97d74a977fdb>\u001b[0m in \u001b[0;36m<module>\u001b[0;34m\u001b[0m\n\u001b[0;32m----> 1\u001b[0;31m \u001b[0magent\u001b[0m\u001b[0;34m.\u001b[0m\u001b[0mfit\u001b[0m\u001b[0;34m(\u001b[0m\u001b[0;34m)\u001b[0m\u001b[0;34m\u001b[0m\u001b[0;34m\u001b[0m\u001b[0m\n\u001b[0m",
      "\u001b[0;32m<ipython-input-23-f3b8a7e8181f>\u001b[0m in \u001b[0;36mfit\u001b[0;34m(self)\u001b[0m\n\u001b[1;32m     81\u001b[0m             \u001b[0;32mif\u001b[0m \u001b[0mi\u001b[0m \u001b[0;34m%\u001b[0m \u001b[0;36m10\u001b[0m \u001b[0;34m==\u001b[0m\u001b[0;36m0\u001b[0m\u001b[0;34m:\u001b[0m\u001b[0;34m\u001b[0m\u001b[0;34m\u001b[0m\u001b[0m\n\u001b[1;32m     82\u001b[0m                 \u001b[0mprint\u001b[0m\u001b[0;34m(\u001b[0m\u001b[0;34m'hello'\u001b[0m\u001b[0;34m)\u001b[0m\u001b[0;34m\u001b[0m\u001b[0;34m\u001b[0m\u001b[0m\n\u001b[0;32m---> 83\u001b[0;31m                 \u001b[0mself\u001b[0m\u001b[0;34m.\u001b[0m\u001b[0mreplay\u001b[0m\u001b[0;34m(\u001b[0m\u001b[0;36m10\u001b[0m\u001b[0;34m)\u001b[0m\u001b[0;34m\u001b[0m\u001b[0;34m\u001b[0m\u001b[0m\n\u001b[0m",
      "\u001b[0;32m<ipython-input-23-f3b8a7e8181f>\u001b[0m in \u001b[0;36mreplay\u001b[0;34m(self, batch_size)\u001b[0m\n\u001b[1;32m     54\u001b[0m             self.memory, min(len(self.memory), batch_size))\n\u001b[1;32m     55\u001b[0m         \u001b[0;32mfor\u001b[0m \u001b[0mstate\u001b[0m\u001b[0;34m,\u001b[0m \u001b[0maction\u001b[0m\u001b[0;34m,\u001b[0m \u001b[0mreward\u001b[0m\u001b[0;34m,\u001b[0m \u001b[0mnext_state\u001b[0m\u001b[0;34m,\u001b[0m \u001b[0mdone\u001b[0m \u001b[0;32min\u001b[0m \u001b[0mminibatch\u001b[0m\u001b[0;34m:\u001b[0m\u001b[0;34m\u001b[0m\u001b[0;34m\u001b[0m\u001b[0m\n\u001b[0;32m---> 56\u001b[0;31m             \u001b[0my_target\u001b[0m \u001b[0;34m=\u001b[0m \u001b[0mself\u001b[0m\u001b[0;34m.\u001b[0m\u001b[0mmodel\u001b[0m\u001b[0;34m.\u001b[0m\u001b[0mpredict\u001b[0m\u001b[0;34m(\u001b[0m\u001b[0mstate\u001b[0m\u001b[0;34m)\u001b[0m\u001b[0;34m\u001b[0m\u001b[0;34m\u001b[0m\u001b[0m\n\u001b[0m\u001b[1;32m     57\u001b[0m             \u001b[0my_target\u001b[0m\u001b[0;34m[\u001b[0m\u001b[0;36m0\u001b[0m\u001b[0;34m]\u001b[0m\u001b[0;34m[\u001b[0m\u001b[0maction\u001b[0m\u001b[0;34m]\u001b[0m \u001b[0;34m=\u001b[0m \u001b[0mreward\u001b[0m \u001b[0;32mif\u001b[0m \u001b[0mdone\u001b[0m \u001b[0;32melse\u001b[0m \u001b[0mreward\u001b[0m \u001b[0;34m+\u001b[0m \u001b[0mself\u001b[0m\u001b[0;34m.\u001b[0m\u001b[0mgamma\u001b[0m \u001b[0;34m*\u001b[0m \u001b[0mnp\u001b[0m\u001b[0;34m.\u001b[0m\u001b[0mmax\u001b[0m\u001b[0;34m(\u001b[0m\u001b[0mself\u001b[0m\u001b[0;34m.\u001b[0m\u001b[0mmodel\u001b[0m\u001b[0;34m.\u001b[0m\u001b[0mpredict\u001b[0m\u001b[0;34m(\u001b[0m\u001b[0mnext_state\u001b[0m\u001b[0;34m)\u001b[0m\u001b[0;34m[\u001b[0m\u001b[0;36m0\u001b[0m\u001b[0;34m]\u001b[0m\u001b[0;34m)\u001b[0m\u001b[0;34m\u001b[0m\u001b[0;34m\u001b[0m\u001b[0m\n\u001b[1;32m     58\u001b[0m             \u001b[0mx_batch\u001b[0m\u001b[0;34m.\u001b[0m\u001b[0mappend\u001b[0m\u001b[0;34m(\u001b[0m\u001b[0mstate\u001b[0m\u001b[0;34m[\u001b[0m\u001b[0;36m0\u001b[0m\u001b[0;34m]\u001b[0m\u001b[0;34m)\u001b[0m\u001b[0;34m\u001b[0m\u001b[0;34m\u001b[0m\u001b[0m\n",
      "\u001b[0;32m~/.local/lib/python3.6/site-packages/Keras-2.0.2-py3.6.egg/keras/models.py\u001b[0m in \u001b[0;36mpredict\u001b[0;34m(self, x, batch_size, verbose)\u001b[0m\n\u001b[1;32m    889\u001b[0m         \u001b[0;32mif\u001b[0m \u001b[0mself\u001b[0m\u001b[0;34m.\u001b[0m\u001b[0mmodel\u001b[0m \u001b[0;32mis\u001b[0m \u001b[0;32mNone\u001b[0m\u001b[0;34m:\u001b[0m\u001b[0;34m\u001b[0m\u001b[0;34m\u001b[0m\u001b[0m\n\u001b[1;32m    890\u001b[0m             \u001b[0mself\u001b[0m\u001b[0;34m.\u001b[0m\u001b[0mbuild\u001b[0m\u001b[0;34m(\u001b[0m\u001b[0;34m)\u001b[0m\u001b[0;34m\u001b[0m\u001b[0;34m\u001b[0m\u001b[0m\n\u001b[0;32m--> 891\u001b[0;31m         \u001b[0;32mreturn\u001b[0m \u001b[0mself\u001b[0m\u001b[0;34m.\u001b[0m\u001b[0mmodel\u001b[0m\u001b[0;34m.\u001b[0m\u001b[0mpredict\u001b[0m\u001b[0;34m(\u001b[0m\u001b[0mx\u001b[0m\u001b[0;34m,\u001b[0m \u001b[0mbatch_size\u001b[0m\u001b[0;34m=\u001b[0m\u001b[0mbatch_size\u001b[0m\u001b[0;34m,\u001b[0m \u001b[0mverbose\u001b[0m\u001b[0;34m=\u001b[0m\u001b[0mverbose\u001b[0m\u001b[0;34m)\u001b[0m\u001b[0;34m\u001b[0m\u001b[0;34m\u001b[0m\u001b[0m\n\u001b[0m\u001b[1;32m    892\u001b[0m \u001b[0;34m\u001b[0m\u001b[0m\n\u001b[1;32m    893\u001b[0m     \u001b[0;32mdef\u001b[0m \u001b[0mpredict_on_batch\u001b[0m\u001b[0;34m(\u001b[0m\u001b[0mself\u001b[0m\u001b[0;34m,\u001b[0m \u001b[0mx\u001b[0m\u001b[0;34m)\u001b[0m\u001b[0;34m:\u001b[0m\u001b[0;34m\u001b[0m\u001b[0;34m\u001b[0m\u001b[0m\n",
      "\u001b[0;32m~/.local/lib/python3.6/site-packages/Keras-2.0.2-py3.6.egg/keras/engine/training.py\u001b[0m in \u001b[0;36mpredict\u001b[0;34m(self, x, batch_size, verbose)\u001b[0m\n\u001b[1;32m   1552\u001b[0m         x = _standardize_input_data(x, self._feed_input_names,\n\u001b[1;32m   1553\u001b[0m                                     \u001b[0mself\u001b[0m\u001b[0;34m.\u001b[0m\u001b[0m_feed_input_shapes\u001b[0m\u001b[0;34m,\u001b[0m\u001b[0;34m\u001b[0m\u001b[0;34m\u001b[0m\u001b[0m\n\u001b[0;32m-> 1554\u001b[0;31m                                     check_batch_axis=False)\n\u001b[0m\u001b[1;32m   1555\u001b[0m         \u001b[0;32mif\u001b[0m \u001b[0mself\u001b[0m\u001b[0;34m.\u001b[0m\u001b[0mstateful\u001b[0m\u001b[0;34m:\u001b[0m\u001b[0;34m\u001b[0m\u001b[0;34m\u001b[0m\u001b[0m\n\u001b[1;32m   1556\u001b[0m             \u001b[0;32mif\u001b[0m \u001b[0mx\u001b[0m\u001b[0;34m[\u001b[0m\u001b[0;36m0\u001b[0m\u001b[0;34m]\u001b[0m\u001b[0;34m.\u001b[0m\u001b[0mshape\u001b[0m\u001b[0;34m[\u001b[0m\u001b[0;36m0\u001b[0m\u001b[0;34m]\u001b[0m \u001b[0;34m>\u001b[0m \u001b[0mbatch_size\u001b[0m \u001b[0;32mand\u001b[0m \u001b[0mx\u001b[0m\u001b[0;34m[\u001b[0m\u001b[0;36m0\u001b[0m\u001b[0;34m]\u001b[0m\u001b[0;34m.\u001b[0m\u001b[0mshape\u001b[0m\u001b[0;34m[\u001b[0m\u001b[0;36m0\u001b[0m\u001b[0;34m]\u001b[0m \u001b[0;34m%\u001b[0m \u001b[0mbatch_size\u001b[0m \u001b[0;34m!=\u001b[0m \u001b[0;36m0\u001b[0m\u001b[0;34m:\u001b[0m\u001b[0;34m\u001b[0m\u001b[0;34m\u001b[0m\u001b[0m\n",
      "\u001b[0;32m~/.local/lib/python3.6/site-packages/Keras-2.0.2-py3.6.egg/keras/engine/training.py\u001b[0m in \u001b[0;36m_standardize_input_data\u001b[0;34m(data, names, shapes, check_batch_axis, exception_prefix)\u001b[0m\n\u001b[1;32m    119\u001b[0m                                  \u001b[0;34m' to have '\u001b[0m \u001b[0;34m+\u001b[0m \u001b[0mstr\u001b[0m\u001b[0;34m(\u001b[0m\u001b[0mlen\u001b[0m\u001b[0;34m(\u001b[0m\u001b[0mshapes\u001b[0m\u001b[0;34m[\u001b[0m\u001b[0mi\u001b[0m\u001b[0;34m]\u001b[0m\u001b[0;34m)\u001b[0m\u001b[0;34m)\u001b[0m \u001b[0;34m+\u001b[0m\u001b[0;34m\u001b[0m\u001b[0;34m\u001b[0m\u001b[0m\n\u001b[1;32m    120\u001b[0m                                  \u001b[0;34m' dimensions, but got array with shape '\u001b[0m \u001b[0;34m+\u001b[0m\u001b[0;34m\u001b[0m\u001b[0;34m\u001b[0m\u001b[0m\n\u001b[0;32m--> 121\u001b[0;31m                                  str(array.shape))\n\u001b[0m\u001b[1;32m    122\u001b[0m             \u001b[0;32mfor\u001b[0m \u001b[0mj\u001b[0m\u001b[0;34m,\u001b[0m \u001b[0;34m(\u001b[0m\u001b[0mdim\u001b[0m\u001b[0;34m,\u001b[0m \u001b[0mref_dim\u001b[0m\u001b[0;34m)\u001b[0m \u001b[0;32min\u001b[0m \u001b[0menumerate\u001b[0m\u001b[0;34m(\u001b[0m\u001b[0mzip\u001b[0m\u001b[0;34m(\u001b[0m\u001b[0marray\u001b[0m\u001b[0;34m.\u001b[0m\u001b[0mshape\u001b[0m\u001b[0;34m,\u001b[0m \u001b[0mshapes\u001b[0m\u001b[0;34m[\u001b[0m\u001b[0mi\u001b[0m\u001b[0;34m]\u001b[0m\u001b[0;34m)\u001b[0m\u001b[0;34m)\u001b[0m\u001b[0;34m:\u001b[0m\u001b[0;34m\u001b[0m\u001b[0;34m\u001b[0m\u001b[0m\n\u001b[1;32m    123\u001b[0m                 \u001b[0;32mif\u001b[0m \u001b[0;32mnot\u001b[0m \u001b[0mj\u001b[0m \u001b[0;32mand\u001b[0m \u001b[0;32mnot\u001b[0m \u001b[0mcheck_batch_axis\u001b[0m\u001b[0;34m:\u001b[0m\u001b[0;34m\u001b[0m\u001b[0;34m\u001b[0m\u001b[0m\n",
      "\u001b[0;31mValueError\u001b[0m: Error when checking : expected dense_22_input to have 2 dimensions, but got array with shape ()"
     ]
    }
   ],
   "source": [
    "agent.fit()"
   ]
  },
  {
   "cell_type": "code",
   "execution_count": null,
   "metadata": {},
   "outputs": [],
   "source": []
  }
 ],
 "metadata": {
  "kernelspec": {
   "display_name": "Python (temp)",
   "language": "python",
   "name": "temp"
  },
  "language_info": {
   "codemirror_mode": {
    "name": "ipython",
    "version": 3
   },
   "file_extension": ".py",
   "mimetype": "text/x-python",
   "name": "python",
   "nbconvert_exporter": "python",
   "pygments_lexer": "ipython3",
   "version": "3.6.8"
  }
 },
 "nbformat": 4,
 "nbformat_minor": 2
}
