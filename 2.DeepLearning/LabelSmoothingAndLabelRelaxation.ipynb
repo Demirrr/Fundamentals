{
 "cells": [
  {
   "cell_type": "markdown",
   "id": "b864ea44",
   "metadata": {},
   "source": [
    "# Label Smoothing\n",
    "\n",
    "\n",
    "\n",
    "## $$ p_k = \\frac{e^{x^T w_k} }{ \\sum_l ^L e^{x^T w_l}}$$\n",
    "\n",
    "where $p_k$ is the likelihood the model assigns to the $k$-th class, $w_k$ represents the weights and bias of the last layer, x is the input vector of the last layer.\n",
    "\n",
    "\n",
    "We minimize the expected value of the cross-entropy between hard targets $y_k$ and $p_k$ as in\n",
    "\n",
    "\n",
    "## $$H(\\mathbf{y},\\mathbf{p}) = \\sum_k ^K -y_k log(p_k),$$\n",
    "\n",
    "where $y_k$ is 1 of the correct class and 0 for the rest.\n",
    "\n",
    "\n",
    "\n",
    "Targets via label smoothing\n",
    "\n",
    "\n",
    "## $$ y_k = y_k (1- \\alpha) + \\frac{\\alpha}{K}$$"
   ]
  },
  {
   "cell_type": "markdown",
   "id": "3e44bbde",
   "metadata": {},
   "source": [
    "# Label Relaxation\n",
    "\n",
    "TODO:\n"
   ]
  },
  {
   "cell_type": "code",
   "execution_count": 30,
   "id": "31de3a2c",
   "metadata": {},
   "outputs": [],
   "source": [
    "import torch\n",
    "import torch.nn as nn\n",
    "import torch.nn.functional as F"
   ]
  },
  {
   "cell_type": "code",
   "execution_count": 37,
   "id": "3b06f9e2",
   "metadata": {},
   "outputs": [],
   "source": [
    "batch_size,dim=3,3\n",
    "yhat=torch.randn(batch_size,dim).uniform_(0, 1)\n",
    "y=torch.bernoulli(torch.randn(batch_size,dim).uniform_(0, 1))"
   ]
  },
  {
   "cell_type": "code",
   "execution_count": 38,
   "id": "31359b9c",
   "metadata": {},
   "outputs": [],
   "source": [
    "def label_smoothing(y,alpha):\n",
    "    return (1.0-alpha)*y + (1.0/y.size(1)) "
   ]
  },
  {
   "cell_type": "code",
   "execution_count": 39,
   "id": "ea151d23",
   "metadata": {},
   "outputs": [
    {
     "data": {
      "text/plain": [
       "tensor([[1.2333, 0.3333, 0.3333],\n",
       "        [1.2333, 0.3333, 0.3333],\n",
       "        [0.3333, 0.3333, 1.2333]])"
      ]
     },
     "execution_count": 39,
     "metadata": {},
     "output_type": "execute_result"
    }
   ],
   "source": [
    "label_smoothing(y,alpha=.1)"
   ]
  },
  {
   "cell_type": "code",
   "execution_count": 40,
   "id": "0bbf85ec",
   "metadata": {},
   "outputs": [],
   "source": [
    "def label_relaxation(yhat,y,gz_threshold,alpha):\n",
    "    return torch.where(y > gz_threshold, torch.ones_like(y) - alpha, alpha * yhat / torch.unsqueeze(torch.sum((torch.ones_like(y)-y)*yhat,dim=-1), dim=-1))"
   ]
  },
  {
   "cell_type": "code",
   "execution_count": 41,
   "id": "50d39fca",
   "metadata": {},
   "outputs": [],
   "source": [
    "y_lr=label_relaxation(yhat,y,gz_threshold=.1,alpha=.1)"
   ]
  },
  {
   "cell_type": "code",
   "execution_count": 42,
   "id": "ad462c32",
   "metadata": {},
   "outputs": [
    {
     "data": {
      "text/plain": [
       "tensor([[0.9000, 0.0315, 0.0685],\n",
       "        [0.9000, 0.0258, 0.0742],\n",
       "        [0.0328, 0.0672, 0.9000]])"
      ]
     },
     "execution_count": 42,
     "metadata": {},
     "output_type": "execute_result"
    }
   ],
   "source": [
    "y_lr"
   ]
  }
 ],
 "metadata": {
  "kernelspec": {
   "display_name": "pDL",
   "language": "python",
   "name": "pdl"
  },
  "language_info": {
   "codemirror_mode": {
    "name": "ipython",
    "version": 3
   },
   "file_extension": ".py",
   "mimetype": "text/x-python",
   "name": "python",
   "nbconvert_exporter": "python",
   "pygments_lexer": "ipython3",
   "version": "3.8.10"
  }
 },
 "nbformat": 4,
 "nbformat_minor": 5
}
