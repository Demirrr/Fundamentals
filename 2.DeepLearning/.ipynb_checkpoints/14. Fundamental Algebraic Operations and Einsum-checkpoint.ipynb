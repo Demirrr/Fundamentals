{
 "cells": [
  {
   "cell_type": "markdown",
   "id": "b3c51b63",
   "metadata": {},
   "source": [
    "# 14. Fundamental Algebraic Operations and Einsum\n",
    "\n",
    "This tutorial is based on [EINSUM IS ALL YOU NEED](https://rockt.github.io/2018/04/30/einsum) and surves as a algebra refresher"
   ]
  },
  {
   "cell_type": "code",
   "execution_count": 1,
   "id": "f828d4e0",
   "metadata": {},
   "outputs": [],
   "source": [
    "import numpy as np"
   ]
  },
  {
   "cell_type": "markdown",
   "id": "a0d3bd44",
   "metadata": {},
   "source": [
    "# Vector Operations"
   ]
  },
  {
   "cell_type": "code",
   "execution_count": 2,
   "id": "569c1abf",
   "metadata": {},
   "outputs": [
    {
     "data": {
      "text/plain": [
       "array([0, 1, 2])"
      ]
     },
     "execution_count": 2,
     "metadata": {},
     "output_type": "execute_result"
    }
   ],
   "source": [
    "x = np.arange(3)\n",
    "x"
   ]
  },
  {
   "cell_type": "markdown",
   "id": "09cdd27f",
   "metadata": {},
   "source": [
    "### Identity"
   ]
  },
  {
   "cell_type": "code",
   "execution_count": 3,
   "id": "b3676fbd",
   "metadata": {},
   "outputs": [
    {
     "data": {
      "text/plain": [
       "array([0, 1, 2])"
      ]
     },
     "execution_count": 3,
     "metadata": {},
     "output_type": "execute_result"
    }
   ],
   "source": [
    "np.einsum('i', x)  "
   ]
  },
  {
   "cell_type": "markdown",
   "id": "3f082816",
   "metadata": {},
   "source": [
    "### Summation"
   ]
  },
  {
   "cell_type": "code",
   "execution_count": 4,
   "id": "c56d186e",
   "metadata": {},
   "outputs": [
    {
     "data": {
      "text/plain": [
       "3"
      ]
     },
     "execution_count": 4,
     "metadata": {},
     "output_type": "execute_result"
    }
   ],
   "source": [
    "np.einsum('i->', x)"
   ]
  },
  {
   "cell_type": "markdown",
   "id": "3a81946e",
   "metadata": {},
   "source": [
    "### Elementwise Multiplication"
   ]
  },
  {
   "cell_type": "code",
   "execution_count": 5,
   "id": "ba4d5937",
   "metadata": {},
   "outputs": [
    {
     "data": {
      "text/plain": [
       "array([0, 1, 4])"
      ]
     },
     "execution_count": 5,
     "metadata": {},
     "output_type": "execute_result"
    }
   ],
   "source": [
    "np.einsum('i,i -> i', x,x)"
   ]
  },
  {
   "cell_type": "markdown",
   "id": "0b5ce94a",
   "metadata": {},
   "source": [
    "### Elementwise Multiplication and Summation"
   ]
  },
  {
   "cell_type": "code",
   "execution_count": 6,
   "id": "985e8f61",
   "metadata": {},
   "outputs": [
    {
     "data": {
      "text/plain": [
       "5"
      ]
     },
     "execution_count": 6,
     "metadata": {},
     "output_type": "execute_result"
    }
   ],
   "source": [
    "np.einsum('i,i ->', x,x)"
   ]
  },
  {
   "cell_type": "code",
   "execution_count": 7,
   "id": "d5fca7f1",
   "metadata": {},
   "outputs": [
    {
     "data": {
      "text/plain": [
       "5"
      ]
     },
     "execution_count": 7,
     "metadata": {},
     "output_type": "execute_result"
    }
   ],
   "source": [
    "x@x"
   ]
  },
  {
   "cell_type": "code",
   "execution_count": 8,
   "id": "d4c14ee4",
   "metadata": {},
   "outputs": [
    {
     "data": {
      "text/plain": [
       "100"
      ]
     },
     "execution_count": 8,
     "metadata": {},
     "output_type": "execute_result"
    }
   ],
   "source": [
    "# Three or more possible\n",
    "np.einsum('i,i,i,i ->', x,x**2,x+1,x*2)"
   ]
  },
  {
   "cell_type": "markdown",
   "id": "5930ccb5",
   "metadata": {},
   "source": [
    "### Inner Product\n",
    "\n",
    "The dot product, or scalar product is a scalar valued function (\n",
    "$f(\\mathbb{R}^n,\\mathbb{R}^n) \\mapsto \\mathbb{R}$) that takes two equal-length vector and returns a single number. Algebraicly is defined as \n",
    "$$ f(\\textbf{a}, \\textbf{b}) = \\sum_{i=1} ^n \\textbf{a}_i  \\textbf{b}_i .$$\n",
    "Equivalently\n",
    "$$ f(\\textbf{a}, \\textbf{b}) = \\textbf{a}\\textbf{b}^T.$$\n",
    "\n",
    "Geometrically\n",
    "$$ f(\\textbf{a}, \\textbf{b}) = ||\\textbf{a}|| ||\\textbf{b}|| \\, \\text{cos} \\, \\Theta$$\n"
   ]
  },
  {
   "cell_type": "code",
   "execution_count": 9,
   "id": "8abdc20d",
   "metadata": {},
   "outputs": [
    {
     "name": "stdout",
     "output_type": "stream",
     "text": [
      "Commutative: True\n",
      "Distributive over vector addition: True\n"
     ]
    }
   ],
   "source": [
    "# Commutative\n",
    "a=np.random.randn(3)\n",
    "b=np.random.randn(3)\n",
    "c=np.random.randn(3)\n",
    "\n",
    "print('Commutative:',np.allclose(a@b.T,b@a.T))\n",
    "\n",
    "print('Distributive over vector addition:',np.allclose(a@(c+b),a@c + a@b))\n"
   ]
  },
  {
   "cell_type": "code",
   "execution_count": 10,
   "id": "e64864dd",
   "metadata": {},
   "outputs": [
    {
     "data": {
      "text/plain": [
       "True"
      ]
     },
     "execution_count": 10,
     "metadata": {},
     "output_type": "execute_result"
    }
   ],
   "source": [
    "# Triple product\n",
    "\n",
    "np.allclose(a@(b*c),b@(c*a))"
   ]
  },
  {
   "cell_type": "markdown",
   "id": "d3a36b61",
   "metadata": {},
   "source": [
    "### Outer Product"
   ]
  },
  {
   "cell_type": "code",
   "execution_count": 11,
   "id": "79bcf742",
   "metadata": {},
   "outputs": [
    {
     "data": {
      "text/plain": [
       "array([[0, 0, 0],\n",
       "       [0, 1, 2],\n",
       "       [0, 2, 4]])"
      ]
     },
     "execution_count": 11,
     "metadata": {},
     "output_type": "execute_result"
    }
   ],
   "source": [
    "np.einsum('i,j',x,x)"
   ]
  },
  {
   "cell_type": "code",
   "execution_count": 12,
   "id": "f384be42",
   "metadata": {},
   "outputs": [
    {
     "data": {
      "text/plain": [
       "array([[0, 0, 0],\n",
       "       [0, 1, 2],\n",
       "       [0, 2, 4]])"
      ]
     },
     "execution_count": 12,
     "metadata": {},
     "output_type": "execute_result"
    }
   ],
   "source": [
    "np.outer(x,x)"
   ]
  },
  {
   "cell_type": "markdown",
   "id": "3a732d9a",
   "metadata": {},
   "source": [
    "## MATRIX OPERATIONS"
   ]
  },
  {
   "cell_type": "code",
   "execution_count": 13,
   "id": "3a497e0c",
   "metadata": {},
   "outputs": [],
   "source": [
    "W = np.arange(9).reshape(3,3)"
   ]
  },
  {
   "cell_type": "markdown",
   "id": "f1ed9d5c",
   "metadata": {},
   "source": [
    "### Identity"
   ]
  },
  {
   "cell_type": "code",
   "execution_count": 14,
   "id": "ac5e4940",
   "metadata": {},
   "outputs": [
    {
     "data": {
      "text/plain": [
       "array([[0, 1, 2],\n",
       "       [3, 4, 5],\n",
       "       [6, 7, 8]])"
      ]
     },
     "execution_count": 14,
     "metadata": {},
     "output_type": "execute_result"
    }
   ],
   "source": [
    "np.einsum('ij', W) "
   ]
  },
  {
   "cell_type": "markdown",
   "id": "47afbc0b",
   "metadata": {},
   "source": [
    "### Transpose $W_{ji}=W_{ij}$"
   ]
  },
  {
   "cell_type": "code",
   "execution_count": 15,
   "id": "047ae4b5",
   "metadata": {},
   "outputs": [
    {
     "data": {
      "text/plain": [
       "array([[0, 3, 6],\n",
       "       [1, 4, 7],\n",
       "       [2, 5, 8]])"
      ]
     },
     "execution_count": 15,
     "metadata": {},
     "output_type": "execute_result"
    }
   ],
   "source": [
    "np.einsum('ij->ji', W)"
   ]
  },
  {
   "cell_type": "markdown",
   "id": "045c0836",
   "metadata": {},
   "source": [
    "###  Diagonal $b_{i}=W_{ii}$"
   ]
  },
  {
   "cell_type": "code",
   "execution_count": 16,
   "id": "b07a3761",
   "metadata": {},
   "outputs": [
    {
     "data": {
      "text/plain": [
       "array([0, 4, 8])"
      ]
     },
     "execution_count": 16,
     "metadata": {},
     "output_type": "execute_result"
    }
   ],
   "source": [
    "np.einsum('ii->i', W)"
   ]
  },
  {
   "cell_type": "markdown",
   "id": "073a253f",
   "metadata": {},
   "source": [
    "###  Summation  $b= \\sum_i \\sum_j W_{ij}$"
   ]
  },
  {
   "cell_type": "code",
   "execution_count": 17,
   "id": "aac36a3d",
   "metadata": {},
   "outputs": [
    {
     "data": {
      "text/plain": [
       "36"
      ]
     },
     "execution_count": 17,
     "metadata": {},
     "output_type": "execute_result"
    }
   ],
   "source": [
    "np.einsum('ij->', W)"
   ]
  },
  {
   "cell_type": "markdown",
   "id": "67a8bef6",
   "metadata": {},
   "source": [
    "###  Row Summation  $b_i= \\sum_j W_{ij}$"
   ]
  },
  {
   "cell_type": "code",
   "execution_count": 18,
   "id": "32b9d828",
   "metadata": {},
   "outputs": [
    {
     "data": {
      "text/plain": [
       "array([ 3, 12, 21])"
      ]
     },
     "execution_count": 18,
     "metadata": {},
     "output_type": "execute_result"
    }
   ],
   "source": [
    "np.einsum('ij->i', W)"
   ]
  },
  {
   "cell_type": "markdown",
   "id": "7c9d2d64",
   "metadata": {},
   "source": [
    "###  Column Summation  $b_j= \\sum_i W_{ij}$"
   ]
  },
  {
   "cell_type": "code",
   "execution_count": 19,
   "id": "66ff7767",
   "metadata": {},
   "outputs": [
    {
     "data": {
      "text/plain": [
       "array([ 9, 12, 15])"
      ]
     },
     "execution_count": 19,
     "metadata": {},
     "output_type": "execute_result"
    }
   ],
   "source": [
    "np.einsum('ij->j', W) #  COLUMN SUM *** b_j = Σ_i W_ij ***"
   ]
  },
  {
   "cell_type": "markdown",
   "id": "a440c0e3",
   "metadata": {},
   "source": [
    "### Scalar Matrix Multiplication $W_{ij}= c W_{ij}$"
   ]
  },
  {
   "cell_type": "code",
   "execution_count": 20,
   "id": "4f703e23",
   "metadata": {},
   "outputs": [
    {
     "data": {
      "text/plain": [
       "array([[ 0,  3,  6],\n",
       "       [ 9, 12, 15],\n",
       "       [18, 21, 24]])"
      ]
     },
     "execution_count": 20,
     "metadata": {},
     "output_type": "execute_result"
    }
   ],
   "source": [
    "np.einsum('..., ...', 3, W)"
   ]
  },
  {
   "cell_type": "markdown",
   "id": "77431776",
   "metadata": {},
   "source": [
    "### Matrix Vector Multiplication $ b_i = \\sum_j W_{ij}  x_{j} $"
   ]
  },
  {
   "cell_type": "code",
   "execution_count": 21,
   "id": "4b7cb2fe",
   "metadata": {},
   "outputs": [
    {
     "data": {
      "text/plain": [
       "array([[0, 1, 2],\n",
       "       [3, 4, 5],\n",
       "       [6, 7, 8]])"
      ]
     },
     "execution_count": 21,
     "metadata": {},
     "output_type": "execute_result"
    }
   ],
   "source": [
    "W"
   ]
  },
  {
   "cell_type": "code",
   "execution_count": 22,
   "id": "92136b37",
   "metadata": {},
   "outputs": [
    {
     "data": {
      "text/plain": [
       "array([0, 1, 2])"
      ]
     },
     "execution_count": 22,
     "metadata": {},
     "output_type": "execute_result"
    }
   ],
   "source": [
    "x"
   ]
  },
  {
   "cell_type": "code",
   "execution_count": 23,
   "id": "a9b67706",
   "metadata": {},
   "outputs": [
    {
     "data": {
      "text/plain": [
       "array([ 5, 14, 23])"
      ]
     },
     "execution_count": 23,
     "metadata": {},
     "output_type": "execute_result"
    }
   ],
   "source": [
    "np.einsum('ij,j', W, x)"
   ]
  },
  {
   "cell_type": "code",
   "execution_count": 24,
   "id": "41a761b4",
   "metadata": {},
   "outputs": [
    {
     "data": {
      "text/plain": [
       "array([17, 44, 71])"
      ]
     },
     "execution_count": 24,
     "metadata": {},
     "output_type": "execute_result"
    }
   ],
   "source": [
    "np.einsum('ij,j,j', W, x,x**2)"
   ]
  },
  {
   "cell_type": "code",
   "execution_count": 25,
   "id": "ba971608",
   "metadata": {},
   "outputs": [
    {
     "data": {
      "text/plain": [
       "array([17, 44, 71])"
      ]
     },
     "execution_count": 25,
     "metadata": {},
     "output_type": "execute_result"
    }
   ],
   "source": [
    "W@(x*x**2)"
   ]
  },
  {
   "cell_type": "markdown",
   "id": "c4ad6cf7",
   "metadata": {},
   "source": [
    "### Matrix Multiplication\n",
    "\n",
    "### $$ Y_{ij} = \\sum_k W_{ik} X_{kj} $$ "
   ]
  },
  {
   "cell_type": "code",
   "execution_count": 26,
   "id": "3eade447",
   "metadata": {},
   "outputs": [
    {
     "name": "stdout",
     "output_type": "stream",
     "text": [
      "[[ 15  18  21]\n",
      " [ 42  54  66]\n",
      " [ 69  90 111]]\n"
     ]
    }
   ],
   "source": [
    "def matrix_mul_three_loops(A,B):\n",
    "    assert A.shape[1]==B.shape[0]\n",
    "    \n",
    "    Y=np.zeros((A.shape[0],B.shape[1]),dtype=int)\n",
    "    \n",
    "    for i in range(Y.shape[0]):\n",
    "        for j in range(Y.shape[1]):\n",
    "            for k in range(A.shape[1]):\n",
    "                Y[i][j]+=A[i][k] * B[k][j]\n",
    "    return Y\n",
    "\n",
    "print(matrix_mul_three_loops(W,W))"
   ]
  },
  {
   "cell_type": "code",
   "execution_count": 27,
   "id": "9b47736a",
   "metadata": {},
   "outputs": [
    {
     "name": "stdout",
     "output_type": "stream",
     "text": [
      "[[ 15  18  21]\n",
      " [ 42  54  66]\n",
      " [ 69  90 111]]\n"
     ]
    }
   ],
   "source": [
    "def matrix_mul_two_loops(A,B):\n",
    "    assert A.shape[1]==B.shape[0]\n",
    "    \n",
    "    Y=np.zeros((A.shape[0],B.shape[1]),dtype=int)\n",
    "    \n",
    "    for i in range(Y.shape[0]):\n",
    "        for j in range(Y.shape[1]):\n",
    "            Y[i][j]= (A[i,:] * B[:,j]).sum()\n",
    "    return Y\n",
    "\n",
    "print(matrix_mul_two_loops(W,W))"
   ]
  },
  {
   "cell_type": "code",
   "execution_count": 28,
   "id": "2888e367",
   "metadata": {},
   "outputs": [
    {
     "data": {
      "text/plain": [
       "array([[ 15,  18,  21],\n",
       "       [ 42,  54,  66],\n",
       "       [ 69,  90, 111]])"
      ]
     },
     "execution_count": 28,
     "metadata": {},
     "output_type": "execute_result"
    }
   ],
   "source": [
    "np.einsum('ik, kj ->ij', W, W)"
   ]
  },
  {
   "cell_type": "code",
   "execution_count": 29,
   "id": "7ed29ee5",
   "metadata": {},
   "outputs": [
    {
     "data": {
      "text/plain": [
       "array([[ 15,  18,  21],\n",
       "       [ 42,  54,  66],\n",
       "       [ 69,  90, 111]])"
      ]
     },
     "execution_count": 29,
     "metadata": {},
     "output_type": "execute_result"
    }
   ],
   "source": [
    "W@W"
   ]
  },
  {
   "cell_type": "code",
   "execution_count": 30,
   "id": "f5f4fd5e",
   "metadata": {},
   "outputs": [
    {
     "data": {
      "text/plain": [
       "array([[ 15,  18,  21],\n",
       "       [ 42,  54,  66],\n",
       "       [ 69,  90, 111]])"
      ]
     },
     "execution_count": 30,
     "metadata": {},
     "output_type": "execute_result"
    }
   ],
   "source": [
    "np.inner(W,W.T)"
   ]
  },
  {
   "cell_type": "markdown",
   "id": "21b83c55",
   "metadata": {},
   "source": [
    "# Properties of MM"
   ]
  },
  {
   "cell_type": "code",
   "execution_count": 31,
   "id": "5127ba5a",
   "metadata": {},
   "outputs": [],
   "source": [
    "A=np.random.randn(3,3)\n",
    "B=np.random.randn(3,3)\n",
    "C=np.random.randn(3,3)"
   ]
  },
  {
   "cell_type": "markdown",
   "id": "9995236f",
   "metadata": {},
   "source": [
    "### 1. Non-commutativity of MM"
   ]
  },
  {
   "cell_type": "code",
   "execution_count": 32,
   "id": "75e395e6",
   "metadata": {},
   "outputs": [
    {
     "data": {
      "text/plain": [
       "False"
      ]
     },
     "execution_count": 32,
     "metadata": {},
     "output_type": "execute_result"
    }
   ],
   "source": [
    "np.allclose(A@B,B@A)"
   ]
  },
  {
   "cell_type": "markdown",
   "id": "7b8289bd",
   "metadata": {},
   "source": [
    "### 2. Distributivtiy"
   ]
  },
  {
   "cell_type": "code",
   "execution_count": 33,
   "id": "e5ab3441",
   "metadata": {},
   "outputs": [
    {
     "data": {
      "text/plain": [
       "True"
      ]
     },
     "execution_count": 33,
     "metadata": {},
     "output_type": "execute_result"
    }
   ],
   "source": [
    "np.allclose(A@(B+C),A@B + A@C)"
   ]
  },
  {
   "cell_type": "markdown",
   "id": "4c32ef37",
   "metadata": {},
   "source": [
    "### 3. Associativity"
   ]
  },
  {
   "cell_type": "code",
   "execution_count": 34,
   "id": "1fb9107e",
   "metadata": {},
   "outputs": [
    {
     "data": {
      "text/plain": [
       "True"
      ]
     },
     "execution_count": 34,
     "metadata": {},
     "output_type": "execute_result"
    }
   ],
   "source": [
    "np.allclose((A@B)@C,A@(B@C))"
   ]
  },
  {
   "cell_type": "markdown",
   "id": "c1285bfd",
   "metadata": {},
   "source": [
    "### 4. Transpose"
   ]
  },
  {
   "cell_type": "code",
   "execution_count": 35,
   "id": "ee9119e6",
   "metadata": {},
   "outputs": [
    {
     "data": {
      "text/plain": [
       "True"
      ]
     },
     "execution_count": 35,
     "metadata": {},
     "output_type": "execute_result"
    }
   ],
   "source": [
    "np.allclose((A@B).T,B.T @ A.T)"
   ]
  },
  {
   "cell_type": "markdown",
   "id": "6d2db059",
   "metadata": {},
   "source": [
    "# Kronecker product"
   ]
  },
  {
   "cell_type": "code",
   "execution_count": 36,
   "id": "4ea046ab",
   "metadata": {},
   "outputs": [
    {
     "data": {
      "text/plain": [
       "array([[1, 2],\n",
       "       [3, 4]])"
      ]
     },
     "execution_count": 36,
     "metadata": {},
     "output_type": "execute_result"
    }
   ],
   "source": [
    "A=(np.arange(4)+1).reshape(2,2)\n",
    "B=np.array([[0,5],[6,7]])\n",
    "A"
   ]
  },
  {
   "cell_type": "code",
   "execution_count": 37,
   "id": "f05e1b2e",
   "metadata": {},
   "outputs": [
    {
     "data": {
      "text/plain": [
       "array([[0, 5],\n",
       "       [6, 7]])"
      ]
     },
     "execution_count": 37,
     "metadata": {},
     "output_type": "execute_result"
    }
   ],
   "source": [
    "B"
   ]
  },
  {
   "cell_type": "code",
   "execution_count": 38,
   "id": "7892cffe",
   "metadata": {},
   "outputs": [
    {
     "data": {
      "text/plain": [
       "array([[ 0,  5,  0, 10],\n",
       "       [ 6,  7, 12, 14],\n",
       "       [ 0, 15,  0, 20],\n",
       "       [18, 21, 24, 28]])"
      ]
     },
     "execution_count": 38,
     "metadata": {},
     "output_type": "execute_result"
    }
   ],
   "source": [
    "np.kron(A,B)"
   ]
  },
  {
   "cell_type": "code",
   "execution_count": 39,
   "id": "87048733",
   "metadata": {},
   "outputs": [
    {
     "data": {
      "text/plain": [
       "array([[ 0,  0,  5, 10],\n",
       "       [ 0,  0, 15, 20],\n",
       "       [ 6, 12,  7, 14],\n",
       "       [18, 24, 21, 28]])"
      ]
     },
     "execution_count": 39,
     "metadata": {},
     "output_type": "execute_result"
    }
   ],
   "source": [
    "np.kron(B,A)"
   ]
  }
 ],
 "metadata": {
  "kernelspec": {
   "display_name": "pDL",
   "language": "python",
   "name": "pdl"
  },
  "language_info": {
   "codemirror_mode": {
    "name": "ipython",
    "version": 3
   },
   "file_extension": ".py",
   "mimetype": "text/x-python",
   "name": "python",
   "nbconvert_exporter": "python",
   "pygments_lexer": "ipython3",
   "version": "3.8.10"
  }
 },
 "nbformat": 4,
 "nbformat_minor": 5
}
