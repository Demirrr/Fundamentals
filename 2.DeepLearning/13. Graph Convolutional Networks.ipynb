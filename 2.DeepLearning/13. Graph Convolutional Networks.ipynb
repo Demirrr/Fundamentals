{
 "cells": [
  {
   "cell_type": "markdown",
   "metadata": {},
   "source": [
    "# Graph convolutional Network\n",
    "\n",
    "This tutorial based on \n",
    "1. [Theoretical Foundations of Graph Neural Networks](https://www.youtube.com/watch?v=uF53xsT7mjc) and \n",
    "2. [Graph Neural Networks](https://www.youtube.com/playlist?list=PLSgGvve8UweGx4_6hhrF3n4wpHf_RV76_)"
   ]
  },
  {
   "cell_type": "markdown",
   "metadata": {},
   "source": [
    "## Convolutional Graph Neural Network in Detail\n",
    "\n",
    "\n",
    "Let \n",
    "+ $X \\in \\mathbb{R}^{N \\times d}$ be a matrix of node feature vectors.\n",
    "+ $A \\in \\mathbb{R}^{N \\times N}$ be an adjacency matrix\n",
    "+ $D$ be a degree matrix ,i.e., $D_{ii}= \\sum_j A_{ij}$\n",
    "\n",
    "$$ H^{l+1} = \\sigma \\,( \\tilde{D}^{-\\frac{1}{2}} \\, \\tilde{A} \\, \\tilde{D}^{-\\frac{1}{2}} \\, H^l \\, W^l)$$\n",
    "\n",
    "\n",
    "+ $\\tilde{A} = A + I$ is the adjacency matrix of the undirected graph G with added self-connections,i.e., $I$ is the indendity matrix.\n",
    "\n",
    "\n",
    "+ $\\tilde{D}_{ii}=\\sum_j \\tilde{A}_{ij}$\n",
    "\n",
    "\n",
    "+ $H^l \\in \\mathbb{R}^{N \\times D}$ is the matrix in the l.th layer. Hence $H^0$= X is a matrix of node feature vectors.\n",
    "\n",
    "$$ \n",
    "A=\\begin{bmatrix} \n",
    "0 \\quad 1 \\quad 0 \\quad 0 \\quad 0 \\\\\n",
    "1 \\quad 0 \\quad 1 \\quad 0 \\quad 0 \\\\\n",
    "0 \\quad 1 \\quad 0 \\quad 1 \\quad 1 \\\\\n",
    "0 \\quad 0 \\quad 1 \\quad 0 \\quad 0 \\\\\n",
    "0 \\quad 0 \\quad 1 \\quad 0 \\quad 0 \\\\\n",
    "\\end{bmatrix} \n",
    "$$\n",
    "$$\n",
    "D=\\begin{bmatrix} \n",
    "1 \\quad 0 \\quad 0 \\quad 0 \\quad 0 \\\\\n",
    "0 \\quad 2 \\quad 0 \\quad 0 \\quad 0 \\\\\n",
    "0 \\quad 0 \\quad 3 \\quad 0 \\quad 0 \\\\\n",
    "0 \\quad 0 \\quad 0 \\quad 1 \\quad 0 \\\\\n",
    "0 \\quad 0 \\quad 0 \\quad 0 \\quad 1 \\\\\n",
    "\\end{bmatrix} \n",
    "$$ and $D^{-1}$ denotes the inverse of $D$.\n",
    "$$\n",
    "D^{-1}=\\begin{bmatrix} \n",
    "1.0 \\quad 0 \\quad 0 \\quad 0 \\quad 0 \\\\\n",
    "0 \\quad .5 \\quad 0 \\quad 0 \\quad 0 \\\\\n",
    "0 \\quad 0 \\quad .3 \\quad 0 \\quad 0 \\\\\n",
    "0 \\quad 0 \\quad 0 \\quad 1. \\quad 0 \\\\\n",
    "0 \\quad 0 \\quad 0 \\quad 0 \\quad 1. \\\\\n",
    "\\end{bmatrix} \n",
    "$$\n",
    "\n",
    "$$ D^{-1} \\cdot A \\cdot x=y,$$\n",
    "\n",
    "$$ \n",
    "\\begin{bmatrix} \n",
    "1.0 \\quad 0 \\quad 0 \\quad 0 \\quad 0 \\\\\n",
    "0 \\quad .5 \\quad 0 \\quad 0 \\quad 0 \\\\\n",
    "0 \\quad 0 \\quad .3 \\quad 0 \\quad 0 \\\\\n",
    "0 \\quad 0 \\quad 0 \\quad 1. \\quad 0 \\\\\n",
    "0 \\quad 0 \\quad 0 \\quad 0 \\quad 1. \\\\\n",
    "\\end{bmatrix} \n",
    "\\cdot\n",
    "\\begin{bmatrix} \n",
    "0 \\quad 1 \\quad 0 \\quad 0 \\quad 0 \\\\\n",
    "1 \\quad 0 \\quad 1 \\quad 0 \\quad 0 \\\\\n",
    "0 \\quad 1 \\quad 0 \\quad 1 \\quad 1 \\\\\n",
    "0 \\quad 0 \\quad 1 \\quad 0 \\quad 0 \\\\\n",
    "0 \\quad 0 \\quad 1 \\quad 0 \\quad 0 \\\\\n",
    "\\end{bmatrix} \n",
    "\\cdot\n",
    "\\begin{bmatrix} 1 \\\\\n",
    "2 \\\\\n",
    "3 \\\\\n",
    "4 \\\\\n",
    "5 \\\\\n",
    "\\end{bmatrix}\n",
    "=\n",
    "\\begin{bmatrix} \n",
    "2. \\\\\n",
    "2. \\\\\n",
    "3.3 \\\\\n",
    "3.0 \\\\\n",
    "3.0 \\\\\n",
    "\\end{bmatrix}\n",
    "$$\n",
    "\n",
    "+ The vector representation of the $i-$th node is represented with $x_i$.\n",
    "+ $A_{i:} \\cdot x=y_i$ update the vector representation of the $i-$th node.\n",
    "+ This means that $y_i$ is a sum of the features of the neighbouring nodes.\n"
   ]
  },
  {
   "cell_type": "code",
   "execution_count": 1,
   "metadata": {},
   "outputs": [],
   "source": [
    "import numpy as np\n",
    "from scipy.linalg import sqrtm \n",
    "\n",
    "import networkx as nx\n",
    "from scipy.linalg import sqrtm \n",
    "import matplotlib.pyplot as plt\n",
    "from matplotlib import animation\n",
    "%matplotlib inline\n",
    "from IPython.display import HTML\n",
    "\n",
    "# (1) A is given\n",
    "A = np.array(\n",
    "    [[0, 1, 0, 0, 0], \n",
    "     [1, 0, 1, 0, 0], \n",
    "     [0, 1, 0, 1, 1], \n",
    "     [0, 0, 1, 0, 0], \n",
    "     [0, 0, 1, 0, 0]])\n",
    "\n",
    "# (2) Compute A tilde.\n",
    "A_tilda = A + np.identity(len(A))\n",
    "\n",
    "# (3) Compute D and D tilde.\n",
    "D = np.zeros(A.shape)\n",
    "np.fill_diagonal(D, A.sum(axis=0))\n",
    "D_tilda = D + np.identity(len(D))\n",
    "D_tilda_inv_sqrt=sqrtm(np.linalg.inv(D_tilda))"
   ]
  },
  {
   "cell_type": "markdown",
   "metadata": {},
   "source": [
    "$$ \\tilde A = A + I$$\n",
    "$$ \\tilde D = D + I$$\n",
    "\n",
    "\n",
    "$$ \\hat A = \\tilde D ^{-\\frac{1}{2}} \\tilde A \\tilde D ^{-\\frac{1}{2}}$$\n"
   ]
  },
  {
   "cell_type": "code",
   "execution_count": 2,
   "metadata": {},
   "outputs": [
    {
     "data": {
      "text/plain": [
       "array([[0.5       , 0.40824829, 0.        , 0.        , 0.        ],\n",
       "       [0.40824829, 0.33333333, 0.28867513, 0.        , 0.        ],\n",
       "       [0.        , 0.28867513, 0.25      , 0.35355339, 0.35355339],\n",
       "       [0.        , 0.        , 0.35355339, 0.5       , 0.        ],\n",
       "       [0.        , 0.        , 0.35355339, 0.        , 0.5       ]])"
      ]
     },
     "execution_count": 2,
     "metadata": {},
     "output_type": "execute_result"
    }
   ],
   "source": [
    "D_tilda_inv_sqrt @ A_tilda @ D_tilda_inv_sqrt "
   ]
  },
  {
   "cell_type": "markdown",
   "metadata": {},
   "source": [
    "$$\\sigma \\,( \\tilde{D}^{-\\frac{1}{2}} \\, \\tilde{A} \\, \\tilde{D}^{-\\frac{1}{2}} \\, X \\, W)$$\n"
   ]
  },
  {
   "cell_type": "code",
   "execution_count": 3,
   "metadata": {},
   "outputs": [
    {
     "data": {
      "text/plain": [
       "array([[ 0.04669446],\n",
       "       [ 1.08883771],\n",
       "       [-0.19833822],\n",
       "       [ 1.12762852],\n",
       "       [ 0.41792461]])"
      ]
     },
     "execution_count": 3,
     "metadata": {},
     "output_type": "execute_result"
    }
   ],
   "source": [
    "X=np.random.randn(5,5)\n",
    "W=np.random.randn(5,1)\n",
    "\n",
    "# New Representation of input.\n",
    "D_tilda_inv_sqrt @ A_tilda @ D_tilda_inv_sqrt @ X @ W"
   ]
  },
  {
   "cell_type": "markdown",
   "metadata": {},
   "source": [
    "# Visualising feature updates"
   ]
  },
  {
   "cell_type": "code",
   "execution_count": 4,
   "metadata": {},
   "outputs": [
    {
     "data": {
      "image/png": "[encoded data removed]",
      "text/plain": [
       "<Figure size 720x720 with 1 Axes>"
      ]
     },
     "metadata": {},
     "output_type": "display_data"
    }
   ],
   "source": [
    "# (1) Create nx Network\n",
    "g = nx.from_numpy_array(A)\n",
    "# (2) Compute tilda\n",
    "A_mod = A + np.eye(g.number_of_nodes())\n",
    "\n",
    "# D for A_mod:\n",
    "D_mod = np.zeros_like(A_mod)\n",
    "np.fill_diagonal(D_mod, A_mod.sum(axis=1).flatten())\n",
    "\n",
    "# Inverse square root of D:\n",
    "D_mod_invroot = np.linalg.inv(sqrtm(D_mod))\n",
    "node_labels = {i: i+1 for i in range(g.number_of_nodes())}\n",
    "pos = nx.planar_layout(g)\n",
    "fig, ax = plt.subplots(figsize=(10,10))\n",
    "nx.draw(g, pos, with_labels=True, labels=node_labels, node_color='#83C167', edge_color='gray', node_size=1500, font_size=30, font_family='serif')\n"
   ]
  },
  {
   "cell_type": "code",
   "execution_count": 5,
   "metadata": {
    "scrolled": false
   },
   "outputs": [
    {
     "name": "stdout",
     "output_type": "stream",
     "text": [
      "Initial signal input: [1. 0. 0. 0. 0.]\n",
      "Final signal output after running 20 steps of message-passing:  [0.1559171  0.18976912 0.21665888 0.15263111 0.15263111]\n"
     ]
    }
   ],
   "source": [
    "\n",
    "A_hat = D_mod_invroot @ A_mod @ D_mod_invroot\n",
    "A_hat\n",
    "\n",
    "\n",
    "H = np.zeros((g.number_of_nodes(), 1))\n",
    "H\n",
    "\n",
    "H[0,0] = 1 # the \"water drop\"\n",
    "iters = 20\n",
    "results = [H.flatten()]\n",
    "for i in range(iters):\n",
    "    H = A_hat @ H\n",
    "    results.append(H.flatten())\n",
    "print(f\"Initial signal input: {results[0]}\")\n",
    "print(f\"Final signal output after running {iters} steps of message-passing:  {results[-1]}\")"
   ]
  },
  {
   "cell_type": "code",
   "execution_count": 6,
   "metadata": {},
   "outputs": [
    {
     "data": {
      "text/html": [
       "<video width=\"720\" height=\"720\" controls autoplay loop>\n",
       "  <source type=\"video/mp4\" src=\"data:video/mp4;base64,AAAAIGZ0eXBNNFYgAAACAE00ViBpc29taXNvMmF2YzEAAAAIZnJlZQAAZRdtZGF0AAAAnmW4AAQA\n",
       "ABHkxQABC0k5OTk5OTk5OTk5OTk5OTk5OTk5OTk5OTk5OTk5OTk5OTk5OTk5OTk5OTk5Ouuuuuuu\n",
       "uuuuuuuuuuuuuuuuuuuuuuuuuuuuuuuuuuuuuuuuuuuuuuuuuuuuuuuuuuuuuuuuuuuuuuuuuuuu\n",
       "uuuuuuuuuuuuuuuuuuuuuuuuuuuuuuuuuuuuuuuuuuuuuuuuuuuvAAACamUBauAAEAAAR5MUAAQt\n",
       "JOTk5OTk5OTk5OTk5OTk5OTk5OT4h4fGtwAUxpzMK9RDT1et4lMZxXBaJg9XvBlPHHIjfu9aTxh8\n",
       "KozTz1eD1JAKk9o5lwf38DfIwFNx3u93uRMcF8ADkHFg2pNqDrQS+cQmcq37+dpQnvgXEnDvhEYI\n",
       "4TwEd4jRK/3//rwZny2U99/AQHeXZUAi1COH/4C5YTh9RRToG+/A/GiBopTIYBVbR5qANCxRozAO\n",
       "rGU0II1zUROgQkTJ5QqeGU2QyHP3Q1/DDMT+/oc67a7AGm2sHFENyI9eelIYFawFPoHlRJAzxDJr\n",
       "mOdCgLGs9QcZ7nmN4AEQW4imPonACJfJlmP1OFyhWRhg/56i8IeYliZ3/mN2WAFwj1klP/+Y/9jU\n",
       "vdgABAMP9IcRQT7IjeQMAoA5HCcSQfkrt3sAhTM1IZTqWhmJ4qI4QlewZqr2dANphPMXUwim3ct4\n",
       "+pAxBiPbP/EwAABB2k5OTk5OTk5OTk5OTk5OTk5OTk66666666666666666666677w33hrrrrrrr\n",
       "rrrrrrrrrrrrrrrrrrrrrrrrrrrrrrrrrrrrrrrrrrrrrrrrrrrrrrrrrrrrrrrrrrrrrrrrrrrr\n",
       "rrrjsABDZnd2Zmd3Zn//s4APwtY8FSoMPve8XErOvl4AEm2hJFOpCOkE2WC3QOvoAC/KLgY4zTO7\n",
       "DUB5NjmeAf6bbtTFnfzgw/G186n/oJdR8AJho0QWfc9Z8O0yMmf+e2tcB//PBZT6s6Ep393HD6T+\n",
       "wQQAFIaSYukiFOHc5Rhfw5HPXXXXXXXXXXXXXXXXXXXXgAAAAaFlALS4AAQAABHkxQABC0k5OTk5\n",
       "OTk5OTk5OTk5OTk5OTk5P/h/OFMAWCpsgAQAlJrFpiAsKDvveZHoIbE8xYlCPcEZ4ABvx8n8PtD4\n",
       "XwBEhi9hIAMj2+pkIx82PgAOozumBGFHtX/iwmLxGrycnJycnJycnJycnJycnJycnJyddddddddd\n",
       "ddddddddddddd+lTzx1HioAHnYtUyyPjPzv4QAWD8W1juZ5tw/Vnt7FkagQuw8Vx//tf3XQzAAzb\n",
       "b0SM0AA+T/aAmDtItZEpH4eUQ/7aynzAEITO4fE1S/ozLWlgRV7DAb8APB3eM6jn1yUv4j7BF4kl\n",
       "V7OZvgw71111111111111111111111111111111111111111110seoAEL3d338HrXNTBft//ph5o\n",
       "I/CfRDADxJnCflPrnhbpziM++WiHwA6IvyPyh3ui666666666666666666666666666666666666\n",
       "6666666+ekfmnFYr7omfbv6IYAdRekLSh3unhXzrJ0sR34NA8hRwL1i66666666666666666668A\n",
       "AAE/ZQBDrgABAAAEeTFAAELSTk5OTk5OTk5OTk5OTk5OTk5OTk5OTk4QwAIXu7vv4CWZGKj3/++H\n",
       "mn8J75thQa8/gZMB5CuBv1ntQ2nHpDQ6XeArF4QsUO90JuTk5OTk5OTk5OTk5OTk5OTk5Ouuuuuu\n",
       "uuuuuuuuuuuuuuuuuuvnp/NOK2obTj36DB0vAVIviPnDvdPahWuPD/Qvz4B5JlidHPri66666666\n",
       "666666666666666666666666666666666664//GIZlsjP/9MPNP4Tifdj+twDwztWdHPrntTdx4f\n",
       "di/B8BYaSo7OguLrrrrrrrrrrrrrrrrrrrrrrrrrrrrrrrrrrrrrrrrrrr56fzTiuH7Sb5y7z/5c\n",
       "AovwrlI7vfPzHYFGfn/wYOJ+FcpHd74uuuuuuuuuuuuuuuuuvAAAAo5lAFouAAEAAAR5MUAAQtJO\n",
       "Tk5OTk5OTk5OTk5OTk5OTk5OTk5OTk5OEMABGRGZkREZmRH8Aie+9v/wA6KEoeTBB/HpxByB4ayA\n",
       "yFlkO/uBwpPCs5nEa8/AE2NkmPB9zlgJj5RGQDKGjfsBvvT2xRVvXjVbbP/2g1+/j+mXD4LnU4vg\n",
       "JGTTx58nVnAEP8rKn/0/AbNfSZN/B7v606c+BG1/plo/39QjF0qJycnJycnJycnJycnJycnXXXXX\n",
       "XXXXXXXXXXXXXXXXXXXXX/Jg8EjDEAGNq31np3kkS68GvkDWI/VBvkoALRFSzw4KEsnQ5+9NEYP3\n",
       "8//Qf+CWasnoNn4/Cnw/sJ/gApUhlseN+PGcAC0kU9jw8ozZkUe9dddddddddddddddddddddddd\n",
       "dddddddddddddddcdgARH6r+v//gBx1GxI+GfMBTu7uyGQekND5OGfS8Y8bEij7wCLMsfm/l//+g\n",
       "A6oPxM0FemCwfSQiK6e3CuStLn4/529U1ifKZXI7w/+dV1BhXJLdemPjn/4AVBnt72n5h9mJhdY/\n",
       "Nc/+DlpGeAB9meQVYgcLLPX7AECRLGpH4CsKWT1SHH/AA6p+k7feP+LeZmh9QDBTGiwmQ64O0v/7\n",
       "D0F9GZuY1M8OuuuuuuuuuuuuuuuuuuuuuuuuuuuuuuuuuuuuuuuOwAEg/SaeyLSIX/4AWkm54STY\n",
       "AM+t9D8HAr3pERz29m+QWmhb+sH+5E/+Jwh21gA55WeEhX9pLGCyZ7x3QBUPLWzCh9e6sZn7T/2H\n",
       "jwcZW/QcfMH8mG1/iafzQUhYM7xncc+ueFrTXEZ98v8APBTrGdRz65C3TuJn3yHYfUz/+Key0ef6\n",
       "666666666666668AAAKoZQBwrgABAAAEeTFAAELSTk5OTk5OTk5OTk5OTk5OTk5OTk5OEMACI7Sr\n",
       "bSf//ACssPyEyvb/Td3LjMAMxt6WPgAdRZuwse+2WkElTwqlXABmNmyTHwmZgmKBOpDpU/D7u0OP\n",
       "j/Se6g/3d//8PYKMwkL4H3DtfvL7oH5OTk5OEMAHWO/HnOP/7oALEX5H6908JvXMjC/64p2RDz3/\n",
       "x1F+QtO90hlPzIwvz75TmRDz3k1JycnJycnJycnJycnJydddddddddddddddddddddcdgAs+zP9u\n",
       "bH2+/+AFTwfTNHfQAY9GxI/WB4P7QiKj28rKjw1ftA/c3N3PlxOAG2zZEYOAA/VIPzQkFfrQVT9y\n",
       "dA4mZBNzh945/v0b3IPz8XC/kw11111/yNP5wpG4H0hXA38s8ZbrJ0sR34NA8hXAvWQI7tPfDsAC\n",
       "D677v//DNrMiD/Pv9ddddddddddddddddddddddddddddddddcdgAJpNtJJtpP//ADPrfQ/Bwmzw\n",
       "kzntx2API3G54E6nASP02gBx1mxI+EB4fS0iIj28Y5savhgAOeS88JP3SBOCyYtd0fImxqc8DD/3\n",
       "y//D0Og0kbO4fXuFcDrrrrrrrv4Gn89MXDsXhCxw73T2obTj1Bg6X4CpF8R84d7pHGa1x74/cLL1\n",
       "1111111111111111111111111111111x2AE8EfyGgr33P4AzG3pA9gDMbNkgeFzMEwzqAG5LH4TO\n",
       "/+IcoWhev/ifj5tsHg/eW/+JwAfkm54SFtgujPBNDh946G7/1/9NP5QWmhb++LCh4L+T9ddddddd\n",
       "dcfgALGrS1JZKY/8BZJlifXrnjEMy2RgPtW1IH+3+Hh3as6XrkYhmW0YOwAIPrvu///wfNJukD/b\n",
       "/XXXXXXXXXXXXXgAAAMKZQAhy4AAQAABHkxQABC0k5OTk5OTk5OTk5OTk5OThDAAiOZFWZkR//4A\n",
       "x6NiR+sDwf2hEVHt/97uRHxPgBts2RGDoAOxYfkJhWvYOCZoEncPvHN99G45ABepB+aEgp9aTKn7\n",
       "ntCqML7uX/+HsFKn8nXBhybk5OTk5OTk5OTk5OEMAHsHVVCorj/+6ACw9qjsgueMQ2towLmkfIHe\n",
       "1/8KH8K5Wb3yMTa+M+FAdnlkP+95NScnJycnJycnJycnJ111111111111x2AAmk20km2k//+AKpB\n",
       "CrIUn5/9x6wrwUvhz8isf+wVgbDeOvzDyZY8rPwIYA9paJC94O//gUhprZNM/x2ABeoKC7ERCIbr\n",
       "+AFHVmwkftICR+mwAKeS3PCT9aROC0SFrpg8PpaRER7ecfNjV+sD/3e9+XhKyACoaWtmg45YHQaS\n",
       "NncPr3Jillat7If8mDDl8nXXXXXXXXXXXXH4ACw+SW6XbmP/ChfhXKRvfPMT33sFAdHlkP+7/Dl4\n",
       "VnIjXmX72HYACS1pabWm///AUBkLLDp3X+uuuuuuuuuuuuuuuuuuuuuuuv+5FaC+XwAJshWfxxyh\n",
       "jv/4AD2oWOXQoDCDb8/Tre89H9uz9/+krj/v0AQkhqhHjxjm0xNCahgguBfAuBf/2pz0f0pis685\n",
       "w/9gRtfy7z/U8Zlac2u7CPrfWPwUJs8JMKOe3XaiFZlUUz+PGqBYno1mRz3hyxmThWHPfefw/sPa\n",
       "yv36c9wYdd9ddddddddddddd+KU/0oEXCR4VnphXZ9+kQCq54G7xBw5SWymFb3f+AYtvA3Y11111\n",
       "11111111111111111114Q/Sedi93l9hC3crAxKdHNI94bHIuWI9Og5c5rWvffDCXOs35vT/h/aVj\n",
       "PMAOgsImvW4NPfwAEK+rawlxkHhJwF0Xp9tf+/4dPXXXXXXXXXXXXXXXXH4ACaDpJbN9OQvgHQdW\n",
       "tlN+4x+79vCgvg5lK3vnwqDu1spv3vjsAietNrTf/+Mf1zM8ODwcRXRPn+uuuuuuuuuuvAAABW1l\n",
       "ACdrgABAAAEeTFAAELSTk5OTk5OTk5OTk/4//D8ADbTEs5nKR1lMTFkcBtcCXff8f3/4Swwy0UyC\n",
       "5wMPsiMaK/BA0GPCZkAG0Y/DEO5L4LZxkLoPAO7//8JZE6ymYQ4vw+CiU/P8F777777777777777\n",
       "7774/AB7B5VRSFUf/3QALTTLpgv2nZ9aZnh4M7xHe9cD/g9aadMF+3xjOy0zPDwd3jOt65777777\n",
       "77777666666666666666666666666666666666/zQR+fCkLWncRn3y0Q+AIEmYn5V7pC3TdEz7d8\n",
       "dgAQT1ptab/+KeyyPPHUX5C073T/XXXXXXXXXXXXXXXXXXXXXXXXXXXXXXXXXXXXXXXXXXXXmnhn\n",
       "p4uFbnWR0tEPgCcD6QtcO90jLdZOl+112DQPIVwL1muuuuuuuuuuuuuuuuuuuuuuuuuuuuuuuuuu\n",
       "uuuuuuuuuv80/nwpARWdZNRZiV+AmA+ELHDvdLUK0498dgAhD1kZlkZ//hmNbIg/z7x2L4hYd7p/\n",
       "rrrrrrrrrrrrrrrrrrrrrrrrrrrrrrrrrrrrrrrrrrrvzTDz08XahWuPUGDpfgLJMgnzr3SOM1rj\n",
       "3x/oX5wDw7pWdHPrnrrrrrrrrrrrrrrrrrrrrrrrrrrrrrrrrrrrrrrrrrrrrj8AK5kZGJ7z3jEM\n",
       "y2RgPtTdIH+3h4Z2qO1658Yhmtoz47DyRmRGce//wfNI+kD/bw8NpKjtT5/rrrrrrrrrrrrrrrrr\n",
       "rrrrrrrrrrrrrrrrrrrrrrrrrrvxT0+mkXDE2vWYJu/H+DwCi/CuUgrvfIYm19mfON+P8jgHLwrF\n",
       "IKI156666666666666664rBa+CEhO2cJCpb/H8PkG93S78AgR8GmMHHeutv+f+cwgqlFBU4/BPRt\n",
       "N6euuuuuuuuuuuuuuuuuuuuuuuuv+l+BFxEyt97C2fl5EBiLQknOpGdZTPWSkAZ6foAEQXxEjH0R\n",
       "eyXu4qzIYQG+/oFtKUw/vsDDtxfO/+gtAWohqyK/BJwYkLoXY+h8BI6m19Gn3vzwKSjWhoy5e9T+\n",
       "cApi/xAZCWc+ef+AIY7mwLnt/8ALocnkXv+9enrrrrrrrrrrrrhZxD+v1/43Cu52s0/MsyQsoAEX\n",
       "d6daf3gC1ENW08/3iCrKzuRvNk/j/H7D35vvvvvvvvvvvvvvvvvvvvvvvvv7QH9PYX4GpB/oBWcR\n",
       "7q42pu480+7b/ge0+4XlL99zV/p/2wpCvNiZTkbPeJnwTh2A45Ew2j3g43yIph/z3p6666666666\n",
       "664XUNPeu3/hWm4LJbH+H9VwDgqglbwlGwHR7/2Iid8vBbrgWIIsOuJVb8bvz/by999999999999\n",
       "999999999999/PSZ/XQrBs2L9Ipin/T/wAsy+lwi7qALN667r21+fn//6hg/CsF8YpEV1JrAlgfl\n",
       "MmLef4eJFGzJ+AjsJGmo8N3n/tc5XX8hcAFab4p84ADaY/hue1hnsIiSg/zmUI/9tb/ez2254d/v\n",
       "6P/nof3p66666666666666Wlrrrrrrrrrrrrrrrrrrrrrrrrrrrpb66666666666666666666666\n",
       "6666666666666666666666666666666666666666666666666666666666666666666666666666\n",
       "6666666666666666666666666666666666666666666666666666666666666666666666666666\n",
       "6666666666666666666666666666666666666666666666666666666666666666666666666666\n",
       "66666666666666666666666668AAAAAKYeAAQACcgjwFrAAAAJBhAWuAAQACcgjwtxMIsHvHg4Vq\n",
       "JmDhWomYOFaiZri/Ahfhu1jwVySwOCuSWsIsFyGYAdJGA+I5uwDBKcCsWnGavUVjsLUk4YUf/Qc8\n",
       "AAVDqoiDfTvJ/oA+psB5UCPIfp4wpWQfGQxnkgslLMNUwJFPRiErGpevXB9KTPqwpii2TrRRJWxX\n",
       "j7EcAyQsb8TwE1AAAAAMYQC04ABAAJyCPAWsAAAAEGEAQ7gAEAAnII8DpyYrwIMAAAASYQBaOAAQ\n",
       "ACcgjwO3L4T4ZoD+AAAADGEAcLgAEAAnII8BawAAABxhACHOAAQACcgjweBP/+ACENNbJpn+CwYv\n",
       "oE2AAAADYWEAJ24ABAAJyCPAKHwv4AUeg+YhR8MACXlMMhiv/TVjSqAAEBk7GaQmMADmPAAACAzC\n",
       "VYQAEcl3wELXvpOWYyrWm3cfX8g3AFaYyZ34M7VRj4uoDrfLANVI2n5+D8DMDA4aMC4ZcDxaWsta\n",
       "aD4XgVEHczwssLmCp/5zSDD8BZOOeAEK07Erv7mAD/avQcEfS7veAcD5gK8XmPwEjpD9sBExoDQv\n",
       "p/gEqpjETtg3sEGPg9wN0D5heuAmMwzLfABtjcEAhHgAHp4AB6KAAehCIhwgACAFEvQXww998BGi\n",
       "Qro2ADjkJXz0/ff52mi+EPjoNQG02Sb8EnGSPQf3/hgrfSICGu8eeGIaNJofDRQgERD7Rgz5pD9v\n",
       "gFkP6+C7Lyy+w/+HtuDQnx54AB6AYoZBBeBQAD08AA94Ca2JEDvCInKEAARBRDSJHreQKIB3w86D\n",
       "vGjltZhkGRzRg41oF+HsfgEZRvJ9ZZ6YhI3qPQxDNbTM+EX07od44waUNlcs2Y2wDUrGHtmBKXPP\n",
       "bMRj3zfSnw2HOAIGRpsVHTMEmZiL+qbcAGBBWQGBGqqYSnwk4FJSBq5BZra7Fl3poG9elrobNYQ/\n",
       "p7De4oAIhk91bqJzfbU5gB7fFzP60NGBATE25pS2NACWqeF24A7YluWz2W5PrN6EH9rDkcWiY2j3\n",
       "rS0zERzSTeDn9JTP+e8sCkFluNjBxXCRfizyq4If5Fnh3DUP+FChhaf4eAAIDPwAX/j0sCqHnXgC\n",
       "QgEhSY0g/gCaf4R4+/Nh9QGAcOxkNEBw+Lx35+PEUeWAWko2yfn4fNhDBTgkE7YVQ5fwB/ZBfYMC\n",
       "NFE3yI3fLxvgAun1iw63bcADTfSEcKQb7YFX75/9/km2ZuDHj34FgjAaEChI/JIs1rV354BJ3pAd\n",
       "H2QmZ8JiSpU8DiXxHiPEeI8R4jxHiPEeI8R4jxHiPEeI8R4jxHiPEeI8R4jxH6CuK866N9uawAC2\n",
       "x4AB6ZZxGnAJ+mABFARGzhAAEwQs7Brdxl86zG1FyOin7o5sPqGD6DsAJsqTbFrCgDWkd+P8Qkpt\n",
       "PzBuUVBx1/t/jBQgCMo0wanLC6fhwJBAziGm4O0ISrjoMxQAD0BEmiAAgNrAFBxICeHxlQ4ITMwg\n",
       "ACQYooFlmX/A3jpjDR/wChQAAAAKYeAAgAEchvAWsAAAAINhAWuAAgAEchvDLUIxmABrkpu2U/oC\n",
       "XWt/tVmUa3v/W2ihuFpE/xEpteNkiBDfexq57HI0kykCSwARVgGRnM5/0I9L+vgZqGCvp7//qgKx\n",
       "UTraTsQrBD/4EGgTDRNdUeYPl3sULGlFFzdccf/bSIkFBl+S80CSv1eAAXClAqvFBYYBOQAAAAxh\n",
       "ALTgAIABHIbwFrAAAAAMYQBDuAAgAEchvAWsAAABBmEAWjgAIABHIbw5w/DCCUf41kLosYsDLAM8\n",
       "AwFAMsAMUAxCaAwABHhvwjBcn4YigGB2EooBlgB8QAeGSHhAN2EIGxvwhbg1MjIFfC9AIPgH4IVe\n",
       "DwDKKQFgGVFDBLAMS4EgAiVkhCoCglRHcjeRx2YfP/0CzAGsaYlqCqPy+v6Wi/hb8ITHmUqmPXoD\n",
       "fdSDJXMFXBfVULANSOwdF6UkQCQhIy+mAEkP42KAYoBlgGKAYoBigGKAYoBiQDywDJgoUmhQDFAM\n",
       "eLCsXhoAoKTAAEAb+B4uYJcvxsUAxQDFAMUAxQDFADFAMFoqBQDFAMmD4w1AcA0f8DOGEIJgG+Ee\n",
       "NgqlYD8kMH0AAAAMYQBwuAAgAEchvAWsAAAAH2EAIc4ACAARyG8HgTwAIPrvu//wAMJaRlsSsofg\n",
       "eYAAAAKKYQAnbgAIABHIbwCh8L+AhHU+ADXRMEwaoBu/wAZ/VUgN/54AAAjCvgrZfCPO75BdjkvG\n",
       "4A7t0ivjSgM2HgAEZAEsagtnG5ZYABGeAAwAACMUAAjFAAIxQACMUABigAMUAAjFAAIxEBIDjgCF\n",
       "WJdzQHsD3f+H/ALtYDcTCzNI8AAjPAAIxQACMUAAjARZGZ2S8xtWA3xiixP8DqEEjYjeagRCqPAj\n",
       "+W9g3wWY8LimbXO3DAgAoJE7+DwZ4MUZoSp+NpE/2GHOnpPGWDEe8D/ZPngw0DshRijFBigxRlgx\n",
       "QYoMaUJAa8Wxb/BXyEzOyWeDD4g4BFBlg+G0AjoECxxrQL8NLH4AS4mLI/J8RYKRFOQFqJzYo9BS\n",
       "0aMVVlc+Mv6bXzvHUCCCDZXHwS0VgFRC1FzzxYK2RoeeesRfYzeKQ/2HPgDpyxCpHUhVBqyE6Fcx\n",
       "hx9G0V4BQQlyCIvsBlOcIcv8PQKASQONXILNbXbcAE8q3nQ6Zifpbzwb43QAJOEsGWDFBigxQaEF\n",
       "xMpKDOFgxQZYMUGNMSA/i8Thnf42KDFBigxQZsLGozgcigxQYoMUGlBTMlFBjDEBF/PCeA7hqU8x\n",
       "Oe8HgAEfgBmXWaB32QlNf8CPoxwsf8bFAAIxQACM8AAjFAAIxQACMUAAjFAAIxQACMBDm82zoscK\n",
       "ZD/XCDlhwS5xAiIGAIy/4TeQms/DsUAAjFAAIxQACMAnqPB/wAGXdMwfucGv3wHv8Sp7SgfwpIgo\n",
       "kT46VdSiCQNBeG+GogRglgxsUSAEvg6AQ/KGBhB4zcbFBigywYoMUGKDFBigwkExnIlH3vwEv+Tj\n",
       "KEENfv0++FooMUGHwQdCoH9vnoS2/DiUIh8AoUAAAAAKYeAAwAGcgS8BawAAAT5hAWuAAwAGcgS8\n",
       "Kif4yAM7Xf97jQA40yRWx3qrBDcfclfS8+1aZ9q/g8IuDeCwEB8IcgtDsEmLakaYDc9VZnWzTDeo\n",
       "wTCbjerGBd/hDh1eoXgr4zTh0mImoCf4+5I5KX31DEZgDpM4sz3QJHsDXfAYluejQlS/xV1WA/d2\n",
       "rtfgJpHAoRRm/SAHlyg1DKLt982n/ntgYsr0ABhmKFKfTPZMWLYwQIgOLI27cZ7aJnzx40A/IgJu\n",
       "SFaqLT9hKDrU39GjYY6VnCjRBpnoPv8CoR4j4jgsPwWaNooC22OnnxvImHSESBJ5+0qCY/ws04Qq\n",
       "HhnhihlhimKGKGVAdYLxvj3f42JF6Lya33IK48zzBS+nXR/vs93lCF6O2oKYpihihlndA8KGWGMU\n",
       "BmAvEug1u/huoQYD93If/y9Ab/C/sKwAAADFYQC04ADAAZyBLwtwvjgARd4ZCDsNFP6IivxDCWHh\n",
       "SXimWYpimKYpimWYplmKYpimKYpjjHAAKYn+FophiGBFPEh5RcETIu8eeIb4pxTgqEL8PQSdHZB+\n",
       "ZMXvUWmFxcJ96rdH+owuH86A4a3gzmP+Ni4uLi4uGguMASPyAuLxYlSNWEPQ5PwFS2v0vNnsPHQY\n",
       "GN+DdxNwW8mEKxtr+JhK/683P1uPZOJda/NYxS+mQyQLePyK2B+wujkt2h6UFBqSK8Kz8KQAAABV\n",
       "YQBDuAAwAGcgS8M8mEjA+d/iepTHCtyL4D/LoBx0rAW8ftljgGA5k4y90MOoCTQw98F3Ey5Dctjm\n",
       "ru9EB828NGgnwLeP1QOvaMGhwi5egAjXF6XwnAAAAKlhAFo4ADAAZyBLw3wvhxDIPwEStwEsl/gR\n",
       "722BcNUXGAKG16jsfBVzeGZXJcbVVVVVWArAwR+XwC7UGRVNBwGViVL/xtVVVJBepiw/DM8DZoI8\n",
       "AMvcI/aNs9YydJpoqn3CA3z4KOL3h1FeEYDwPqV+OwJ/698DJOjbwIWqnltx/5D+sfP+JXEL8VQW\n",
       "BE9p//vIZvIezjITwAIPrvu///ALOwlKakFM/whAAAAA3WEAcLgAMABnIEvC/NxcJODEvCOBI3gf\n",
       "9IH4OjkAfIpGxf4SrQezlx/+/IyBoYbHeQT/EwTtgeXvRwEhO27XhgbwhBLxfCHbWihRxuHaBLKX\n",
       "E/HY2ABzFSBs/d5ngdw9Avm7D+b+fio6TOrDATHBzrWkxSxcGCPm4IMzyKgqeEsEWgNPSWENBHTg\n",
       "sBdCF/jd2f73Fm3JDecTxMoelkOAYDRoZLggP/CPhE4erxcErZ3+EyK4gk84RX+IwW4b8rF7mCDa\n",
       "poJ5/i+KgJG7A/bP0DQZizVGhmFY/L4gRAY6AAABS2EAIc4ADAAZyBLwlxnjwIaEuBlswwLN9Ag3\n",
       "e8gN5uHxHaT+f0hOO4mEeLbHokH4pJd2ZMHLaWGWhrm8EToDbseGOEv9VmmPABtpS1Bgw8kiKX4h\n",
       "0Q6uXD8F3OCCG17+B8RhuewMzvol3Px/FcJMMkKQD8Jn7tUtPl9X0XzAfq7HYc+GD/wQTBgNgIPw\n",
       "CATv+nwR5xweCBLuHecH55imKYpjBgdMC+eoo+GF/i4uKL/+ReNhiDAhF8BMcF7ggACRPAftXDVB\n",
       "3fWBRcsxcXIHnpvnMm1ng4SfGu8RgERH8Thtw+/XzX2erTuwoRNtYYP/GxjZW0OFo87UE8SAQhgU\n",
       "xTLMU93hFweRlmKZIQIBLMYMCBAXiBYjvc7/DsXFxcXtEmzILR/o4uLi4cxh4MEn4jA1cJcVDSA4\n",
       "MHmhvvRJZOggX8s0wbSyO5j+TGQAAAMaYQAnbgAMABnIEvG8NQ2iFWIi/X4738K2xqI/b0AfQyCg\n",
       "phU0EO7tMgpDoQLLyyxS/wzMGD2zRD9fGO+E+E5wyrDxpZ7DceDNgt4rRhG5S6JtYH0v2UJL+Wjd\n",
       "GR+Z9gwW90sH+ViXrwaCC3io0GJDFmugoaup/lqgRtUGBwW8J4IwGgSP4H2winYahWMFvJsBXcP5\n",
       "5MwjyyiUI5gnDhA/n4c4TqwUjBxmJ3hgIIfAfa+Qmx08RzvH8L9QAx69Lf3AEwqz8T41Ad7saDUD\n",
       "aAABgSoJS468q8QsfB5rmXjcCX2bg0aoHoPABqJOWEIr0ULAGeADAAGKAMUAYoAxQBigAxQBigDE\n",
       "QkJAaLWJd59KDMv+H/CgIekH3uGNrLYoPAGeAMUAYoAwCB6Zhmt7sAFIAlbvBDUUDFjDeV4TNCiB\n",
       "VeJSDO8NcEEwxakwvRm3JmmlDjoNrAAns9isA4dH+OKCR8/5ddg+G8bZhu44kEHgJ42CwTvlFjJV\n",
       "iWxWKxWKy2KxWNoSGmw60cuwwyf4f9WuWwmdIVlvj9MWQN38xw+J0s/7DHcKYE/sfnliYgIAAxQA\n",
       "ZYAMUAHIzY9ZeiPABigAyQAEEELABiAtEAnxnSqYfSH+w5wPBzXEHRCUkLoHWNiC89bnEr6HsQF1\n",
       "ABwEJcgaUa3cHeSSKJH/hPAoBaHBiXIFhrWegEwABAWJtN4hUMUhfWX8DfG5hc0iKTxlsVisVkDi\n",
       "QSSRM1m3WKz2KxuJDvEMLgwHw+Vrjff42KxWKxWQewK43KYxWKxWKzOw6QzVwsZIiHi9cVxLg7hq\n",
       "RBR7w8AHICZzjA+9AFMwkJmv/jYoAMUAGeAMUAGKADFABigAxQAYBFvuUsEcBfh5h+NhGB8vDOKI\n",
       "CdcR0KGXh9EubXw7FABigAxQAYSiGyBI420HXdznCBtmb+bA+/wNRAcczqrxLBjzCW/p4b4e7ikc\n",
       "iOY+lOzHgEHioz5iqFcx1FZvTJWhaEjcT8bFYrLYrFYrFYrqDq0uUXkhSleMoQQ1jEtm9sOifPwr\n",
       "FYrCrhXWoHX+gO+ET1rAeuHgFCgAAAAKYeABAAIcge8BawAAASZhAWuABAAIcge8KieRjWFg2MuA\n",
       "C8UrqyRVzgAOxi4tERLXd8/zKD7oxso+qRfAIdqOvnUaB+RBsx6ywYc3leA4IEZKer3kGAF1MiIi\n",
       "Enx0UmauHynzYAg46B9I2DolA0CIUcEzSnvRoucN6BANh4n2BWHaaVQIieAqwQ2iUyseRdPfEP/3\n",
       "sJBox5lpFFCInDf4copJoqOdx6VbfhwlhqAIh/MSA8GIin2kOKJdZNE4uO/3G4VA9h1k/Hwjqx+B\n",
       "aIwwWH4LON4SsACED6AvVAAXtUl7bi/2WKACgDLMyVTjzLMUxTFMUxTA2GEngJMm4ZRmY9Bu/6f4\n",
       "2Iu4COaJ+O30eZ50mG4tEQcxKQCQpimKYplmkDeAplmAoIVwCJpflXlmo0wPC0AAAACzYQC04AEA\n",
       "AhyB7wtwvhMMJEnggMzGfKiQcJLAX8QMIeFV4UnmKZZimKYpimKZZimWYpimKYpimODHAAJYn+Fo\n",
       "IeXbAAoXsZC1MCf0B3bNpVrzwIJCuK4nDDxbGCvh6CF0xQeYETf4fNtQUGiKYpnkAAJZggeA0NrM\n",
       "2XgZsDh7eFlB4a0/jYpimKYoYpghxAVAWkKdpmDLAl0aYP0X0eLaxnroCDHcDAY3w1MWGf3qYVV9\n",
       "wN8AAAAYYQBDuABAAIcge8CQfgWwn//ATN22/wlAAAABTmEAWjgAQACHIHvDnG0Dglb32tO82Zqj\n",
       "JnDASPWi70Y1+ydk9yAu3AA3IEGguw+LDLDA4YoUDpMFMPhxpwQJ4yL/D/Nc65wz/vxO/kZt8IsP\n",
       "DPDguoc18/iA+sADDuahaClsITgtmClmXwj95QnPOMYCvheBNrA0KukKxOtVw8wIWpoODqPOQtB4\n",
       "8MCiYMCxE1EYuQJHzWmqPkchF/Pn/paWbxP/0CzgKjCh4SKInUHmfoaATp+EHO1tD3wV8EEI/zOG\n",
       "e8H1nA7ACjuukyfwBI/XsZHuw/43kx8Bl1+8vPW3d1W2lvgHffX4qYC6EJIeFFNzFEnd+NimKYBi\n",
       "mKYpimKcXZLJHnUw/zMwUxTM6IsdwYMDcAv8ROKjLFjU/jYpimKYpi4aCSwKYjZIAWFMUzKq9G1R\n",
       "UHCFl+cXBwDEJJAWXXh6wkVoYKmJkCsSuE4AAAATYQBwuABAAIcge8CEfsTwKh+HIAAAANdhACHO\n",
       "ABAAIcge8PieHOGOF/jNIuNpyEFLh4JUZZtTxDoTNgCs/8b4EzcN1Q0CBGanXDsjwTz2wlIEzhWr\n",
       "5MTzFM48swa4OCbJUXw6ojd+GiyWfGr41UfGwSYnlMswoRkCLDL64Fus4NG6D4plmKYpkVUfEfNY\n",
       "ilYicHCaX7hCNJ4QqTAqP/G0kuITmisFM2kBIOPLM8xT0pEBrREnB5eYKpFmBcwIEEL0ctwypSHO\n",
       "/xsUxQxTFDtBdmPXimKGKGEtPwCM0hyv/AoOnAoCaK+cYBC35WKIPwAAAz5hACduABAAIcge8dwr\n",
       "C0AYWbxIgaH5oUw2WZWwfjrsDLYjoQkhVirwrMyuMeFRPifE+J8T4nxPifE+J8TwJ5+BbEcCAfz8\n",
       "NCOj8fwv4TdQIWTjSMGAsSMMOPAYBwlEfyAmDK7xuADtNkuc/v7gJNQziBYDg8AAgPqJYAXX8F9H\n",
       "uf/+cWAzwGeAMsBigMUAYoDFAYoAxQBgsDDMAA4zOv/CUDPwiCIL1MwLw/u7rpQBEQJM2OJFgN4B\n",
       "oKAMsAYBB5Nhl6+dwwDwAT1d/vr/5A6iAwEoo8QfBA8a0REux+E5YQg3wQSOBE0faYJW1zo+mNSj\n",
       "QATF7cDw88ZYxQYuhCRDjoKoct/Y7uHowEz1ZsgbvGxN7/pN3rA/E4EAIfBwIaZJQ/j/fND3n7/t\n",
       "8HIrwwP/mCwZYMUGKDLBngxQYoxEkJANViVLyWVpISt/w//I7KFAzxhOtwhRlg7goucwGhUNRqa0\n",
       "y54Rr+88bcmWau3RWLIdxuAUesPUHWEYeAxQGWAxQHBjabtErWZqHgMUB3gECoLAYiKIAEPErF4Z\n",
       "DrPRVxYaYx8742KAxQGKAxQGeA2ViAigMotRQGKAxQGKAxQGVFsRQGEb3gJ+MAxBAAP+cMIVHC4i\n",
       "77vzY/x/D3fEeI8R4jxHiPEeI8R4jxHiPEeI8R4jxHiPEeI8R4jxH8bkg0D68R4ywYoxRijVg4TC\n",
       "MORpARCFgxQZYMUYiUCwjrUx5n286KUNnSNFPwcXnYr42KDFBigxQZgmEHITmyzFBigxQYo7YPYs\n",
       "8AxIoMCOf7XoxI5IY7boO4aiHoxwgeA4rfvvRJ8BVBEyP8gkwjDj+NigMUBlgMUBigMUBigMUBgg\n",
       "bNZOGMXH2QEMEBK0exX4hEgcAEFWEe2dm8FVDHT3w7FAYoDFAYIhzNEEljTp9d4DcFf0/4AQgSuU\n",
       "ItfBhghr08jx00BR2OCPd8N8PYTN2frfsAg4BLBmPZE4gAJiZ7VfFiCtMyd+uaFegiZjFWluFfGx\n",
       "QYoMsGKDFBigxQYoOZZiuTS3GZi/mO2USvmeJJA4CKv4NXLAlb/Mt4dijDoIQgUEfBtiQrOmf+MM\n",
       "3C4GqCWzClfhtEhQz6LE/vwChQAAAAth4AFAApyAq8BawAAAAS5hAWuABQAKcgKvDOhlIAHnAMJY\n",
       "iyCJYaGN3gA4bAzAqnRvIxiK7XlrC2OKgCwZ+DDHaPuBOCOHQwbERyZ8Qk4CgmidVmdXIa3EAgAZ\n",
       "KCgkDeqc7LQYaIn3NYwYwP8VwLJWQYFTA5NmsAAQAaAeG7vcBqAOCmk4jECeq0pG564MEDHbbbl/\n",
       "fn8B8bhanV37ARZDj1//2kExgOIpDDQaBHMJFuAGigDy0AvL4A1ioEb1WcEeKIqF2uiAABBwmB//\n",
       "7wBeo5WAgAKdBhE4lJrAELxvCZ7xkF0KQSsPJGwwcyPDLDEL6H5Q866SRYYoYoYoYpjEAODxh70f\n",
       "AjzxrHYy76+X/Gz+AqwAUWZZgDNr/6fue7PjcZ1IUMUMUxTLDJiIIKZZjUAMKAF5qDYGQxnhaAAA\n",
       "AKJhALTgAUACnICrwvwpFDFMUxTFMUxTFMUxTFMUxTFMUxTGjHAALYn+NihkZFMQet2SvKiTS5N6\n",
       "C9CE/VtTxCUj8rEErprPEbSS54K+HoIOgCR4cAYYNSFDFDOCEASzIiEGkfx3wSoJFWDvY+AMB/03\n",
       "b3+HHDxsUMUxTBNi3YKYVgwLo5JIeGpFVtQzwL9wgXVlECdBhxqYMfvBIqG9EDWzwOEAAAAdYQBD\n",
       "uABQAKcgKvA6cmGEXS4Lwn//ABCa712f4SgAAADkYQBaOABQAKcgKvDnGxkPBl4gWKNAIMzaDq0y\n",
       "eIEbpZzkh+V4H5+Lghhji4T6YTwiewAhd79f/G1XVVWZQas9YvZ3TkkEIlk2ngcUsyIIcJ11R4/H\n",
       "I8ABXwvYg+QdCG4Nk/xUYLMSbgPuxyWGmvw6khfCN/TPwpFy8XFy+RcXFxcXFxcXFxfjgGCzjYuL\n",
       "i4uLi4uLgSegNtY88IDpNAKFMXOkFLDRAWoEgEPCbjsvBA8fZlWheNi4uLi4uF5gXREjApi5nRDk\n",
       "EmQI2htpHo7cASOMA0BADKJw1ZHCXRpHNNPoXQPoAAAAE2EAcLgAUACnICrwJnLwUwNlgaYAAAEF\n",
       "YQAhzgAUACnICrwjzYa5YCFdUnDRusC/5K4yAD+pXv33r64quf99u7rW7u4LOI1Wqqs/BPxvh1SY\n",
       "BE9ck/OySLwEAYPObq+AAbT7RNG1/eFhoeYplmKYAAgdGbwELV+3wH2fbPogPw4vW3tt/+dRbb+p\n",
       "r8bAkeI9iDuK5jw6ahMtQwEEDQH2+wCz4xQyzFDFDWLiLSAuceDPDERI+RPPAIlS3hSMnuBVq175\n",
       "/4KT/xsBkFr02kZfFJnBsGnkxLMUyzFOESqjSLMUw+FOCzEuBoxjMR7GEszzIzcOETd/Zzv8bFMU\n",
       "xTF7RTM1k/RimIwFyLoDgrmj4HFYB4hPpi2BzoGr3cPwAAADQ2EAJ24AFAApyAq8dwrEBDASzGhT\n",
       "GBhFhBIJKTZQwu2gwjsQki7Xhcy04bn64i7u7u7xPifE+J8T4nxPifE+J8T4nxPifE+J8TwHsfgs\n",
       "4XqsBJ9aE6AjawMM2NAwahDZHgAwDIQLM8fH1Sr4YfX+okpK7eNwEhboDemkUOoeANRuWNOG+RYA\n",
       "zwAYHgDFAGKAMUAYgAcLAGWAMUAYOhIDAYApR2JKvn4ycNaYCVP/w/IPzv4OGVhzIKswJw8AHaAB\n",
       "iQoAywBha2FjCZ6DrXdGB2QUIo6VOp9QJnsm+z/AReQzX6DfBBAlbzR0/U8xgymCDQwiQkfM6ChP\n",
       "ajwZ4MUYqAkhPKlhiwwAzbvl+kHvgR+NlBAgAsVdYJKFzGH++DxnjuIo8xaeCWMzm6oKDFGKMUYo\n",
       "ywYoxQY0oQgGg+zuA/1w1MeY1VeN7ilhVGPGbDvbkw6R3jX6RYM8exyzFx4lmQUmMpaOPyoCH3V+\n",
       "YEFIvveO43BvpFrYjwBigDLAGKAOQFcfkh/XmzwBigDPAGKAMQSg4ABAODCX63qQGOlzzZjZggMY\n",
       "/d8bFAGKAMUAYoAzwBgmtgJwKANYjsBQBigDFAGKAMUAYi7GevAsAJskuzswHhRBAAEAHC3pLEJN\n",
       "zRkNFptx4jb7u7uGuNvIxgcqATU+P2+HwaHjFBlgxQej04IHwyCz9FjFGeMUGNxCAf6YKGSkQHjO\n",
       "kXjYoMUGKDFBhXslmlBEJigxRijFBkfsBPOkmC4OPg4I/B6hAl9Z7SA+K9CDCg7hqAh2RgdaPAHY\n",
       "i+gEu3DC5wTcFaeFlB8Aj1Mt9/xsUAYoA7QANULAGKAMUAYoAxQBgTbdhWTExmaX7f0Y+noF4x/H\n",
       "/A3EBwAYD8vBnX4QC4Tkdx+/w7FAGKAMUBgSl420IuxjiVjU29/zl17S73+BkYfhVIIQ3Oe1AQIx\n",
       "Fgh+NBKLYgVd7M8N8PVwRvLBigwju4JgQ0DoWqcrCJkanDkYehFeN8IWYeii7fjYoMUGWDFGKDFB\n",
       "ijFGhXaI3e9u6i52ILsbpX4lIMGD9mglqZVyVMyURA/GxQYgYAE9XnHYSttokL90y4fGdH3e8Akz\n",
       "YYiqf+BS8uKRsfc1iLG8AoUAAAALYeABgAMcgNvAWsAAAAFWYQFrgAYADHIDbwyrLGYAFRZQOcsT\n",
       "RYCFh+I1zwARSg6I0pbzdzhDMAAIAkQeA1dxdQSjp+5FTgACAgDgvzV1LrL5R7zDOABDF+MNiKb+\n",
       "ZFsp1jYCqBZ+GQNzr6N/XAwP2hE/SX8WVDH7f/gBmACIB5h6zBs2sda9l8gqBLQd4Q8WAEgdfQDI\n",
       "CHrx5JS1sO0zgEADrDCr2hnjsHVk73rLghlEbpfiTI3e3EqX2jEKZSAi6uKYWh28CAEQNU7EEm9/\n",
       "pGTNXbHgBl0BaSaXEqNd3//AQvG7IyEzUyCJ75mKqR5l4k8/FMUxTFMUxTDKHCfBDoKZ8hUHvDqE\n",
       "CQsBkd9K/+NlVIRRXizLM1YCJZx4Azv3Q+mFMUxTFMs7IXqBTLMSDQbAoUyzJU77oL2YTe4nem+G\n",
       "4A5dRPMJD3rwitstkACP2vCrwhNLgRKRr7f3APUfiVRL7bwrAAAA0mEAtOABgAMcgNvC3C+BB2Eh\n",
       "0YQ5gluJuxhJZAZlfGXoCbAoSg6FCESSaAWVYeehqyxfL++8bPMUM8xTFMUxTFM8xTtBqCzFMUxT\n",
       "FMcBjgAEL4e8P/xP8LQuRIMUHHDHBBBHiXfnAGImlrOMB0CChXDK3OJMMErJ74wV8PQga0BpI8/C\n",
       "BTgFxTSm+Cw14yoIEXhs4Ya0eBAeMYNAE/WscNkfmIfGxTFMUMKkhChhAkMrEhCxqYQST2l9aO7Q\n",
       "D42CiGO4YYSU0PkFfL2wEv5Spm+BwgAAABhhAEO4AGAAxyA28BRhP/+ACE0160z/CUAAAAFMYQBa\n",
       "OABgAMcgNvDnGwwnc+tcUSHUjRwnoZyKkIMtUxiebDzOCAAE+QTuFmB8YGBrF2onzbBAuvzy3h/j\n",
       "oPOYxDdAJdoDwqJzg8O1MciORuEEsQoDfCTQsxCXmIMYk/Pic6MSieCrhewEFySAlYtAfka46kHm\n",
       "KqPiWYniAphbSdYgJPZn7DxTds3eif8bLMUxTFM8ycioRTPMBTFMUxTFMsxTFxwAGOAAWwJ9fXH/\n",
       "M+Pef2FoAIS6a9NNhyhZyB8tY//BmGTW8Rn5vgwxmAXzHgQsCwJLFtcOjLcwC2h5rHhnhlYISJhR\n",
       "zwV8bFDFMUxTFMUxTFMEnIijzgGEyhBCmKZsrhjVTDQFA0AkxwTPCuHdYQHJkQXV9fjYpimKYpih\n",
       "imLgpmEXFM7gm1OAwWHRVaQJZBYMDhw0Mvg6yYwQGBD+OuoEXyjWj5bIH0AAAAASYQBwuABgAMcg\n",
       "NvA8COCQTwzAAAABGWEAIc4AGAAxyA28HfDHAeHWoCMbYR902YH3CDPQcvxxjLQloDgxsMhnYoqn\n",
       "wDVEH7gCP5Bw34BZxvhKp6A1Sm6RPJ4pDzpw5AjwvRdIkCzFMsMUwacC0EHVu1HkxTPOGQjckwQJ\n",
       "nWkIcX+Pj+Pj/86He2u36+v+NheAgrMFmQmJ3QIcGFMaKo2sUzzFMU1lAEWZ0cw7ODhJE61DysAQ\n",
       "tOR7Wg74SKjgFfGwDwBhEESnVH3U7KQHPOWjpn4QBLDFM48s+kBG9tBb7mgZ5imgCaRZg8cCBBKE\n",
       "jwzOqkBfYzI5dhDE3zv8bFDFxQxTIzIRdypihiAsCmRsgBDfDszwNR+7/wcQ4OQRHXABfP83V2QA\n",
       "GLf0pUMXch+AAAADMWEAJ24AGAAxyA28dwrDpPoPNSMNDAAQqR8EzlEq282ULgjoDZeEp7BbpzwC\n",
       "a8EHgnrINA41GAQMtbVgBE+QNDQuR4MO2whIRYwIMNTl2UjMMb/CbSVDxuAIABGVi7Sh+BM0hgR7\n",
       "isE4Ai8BhmVxOrUbtVS3rAANKAItRPBlgxQGKDFAZYDFBigxoUDAQFTYna81hRFgwAUA3Dh1+H60\n",
       "GS66GB5glK81IsHYAFyAoMsGEDTM16+wAIbIkuODUUKEUUCFncX+FYwQJ/ZM1T/AGb6kf7BvggoB\n",
       "jYF4ftbHyZhrAoTFkwKR+PBngxQGBlwQiR5dDyLhUEV/h6MIajRg1Vfx43hlefJwZt0HgxErwHiz\n",
       "Jq+A0SADWjwYoMUGKDLBlgxQYoMaFCBB0GhTklRO/mcimYR6LP7joW5nw/uJFbAPmpK2AM4RSzAJ\n",
       "Fg6CG5YItxvhfoi36MDqQUjDNWEabamSTm+cjOVBp/odxuQdmoi5PQeAxQZYMUHAme5o7sydi2Hg\n",
       "xQdwASIWDEEUHAAIA9MwD4JsE7JzR6A6hNLfxnACA742KDFBigxQZYMCd/Nv54FB0ATEKFBigxQY\n",
       "oMUGEezYF0BEjdZLXuw4GIAgHslI1zfS7AdGP/eW3THoG+NzgePgoHAMCwYoMsGKDwuAhMmJGRCw\n",
       "GKDLAYoMRKIEFoBDUPILNe7NOEKI8Cb9EY/dKM6A3xsUGWDFBigMiLNjx3gFJYoMUBigMUGQFjOJ\n",
       "tm20s8CSQOAh7sx10Iwlfj/VkLbN4P42KDFBiQEYJYDFBigxQYoMBJ+YZWF5b81nQaCc+vEkgwAG\n",
       "AXhqjxoUAj1mjMlCO3Tw7FBigxQGAMLV4xzaE140TcAy+XHEa3n+2Bl8G0IQynQaD4cEF8Agevun\n",
       "RhftoiVP+mA8b0B0NcPYRtzAyb06KN3YSgnABg1fiM/ORBgfRIQHgUoKZDYGQzy5HbGheI3kfy0w\n",
       "Jn/l7vGywYoMsGKAxQYoMUBigM1FiFhVMGAvCrmJAos9XYkSEAEOlKJ4I1BnfTJ2BDfkPC0UGBI+\n",
       "MfiAqD5of2fDX3H74NTCFs0BG7vy/BJbg3VYA4DgFCgAAAALYeABwAOcgOvAWsAAAAEyYQFrgAcA\n",
       "DnIDrwywiwWEGYALABmAIAMD6dKJ9DQ7EM3aAATyGgIsLraRzFycLa+NZDmvvEHQPwoFWqDxPPGs\n",
       "Td+AdQBhzoHaDFCWOvgFSCEvxgARgHAbz/g907H/AskAkeEEH45SZYBJMsbXJQFYI/kgCYY8JA7J\n",
       "lctUCpveLBRAYiQilEIkHPAkDMUA8yBGqSo5mHnchaITSEGxhXOIUcABiADmUkMABHJ3V4Lofxxm\n",
       "YAAgMlOUcAJbA3aZu2P/aHwXAIKNvFgDD894J7//YEEYohSncpHOfAQnG6ZjFCQkhjQ2YdKPMsME\n",
       "LpkjwyzFMUxTFMUxggBweEIMIY03Ahrx9NLXixfRRn+NrhAlRCLMsNcEFk8pFgwRTFMUxTLMsxTF\n",
       "DAUQpwAvk7LETuQzfhaAAAAAlmEAtOABwAOcgOvC/GxTFMUxTFMUxTFMUxTCpHIWYpimKYpjjHAA\n",
       "MXl/4n+FopkZFNBTBJSKDAJ8RB3eI8GCnw+EjnpAi4HBXw9EraXR58AxgICFDFM8kEs4wR8NuBwP\n",
       "YeMRxH0IDhRQHhvdfGxTFDFMUxcSEAAITSSqadxbGZQX/7AXoGxnDILUBgMJSPccGYgqGmoDhAAA\n",
       "AA1hAEO4AHAA5yA68BawAAABBWEAWjgAcADnIDrw5wQcEutckPQWhVBAROVODjsmRZlhinEDDl+E\n",
       "DlQleR+GImGAmwsy8cABskOFwykIOpegWhB/iBXwvh84BCyDw1VCzVULDQcVhFi5mEoQvYMnwjfy\n",
       "oBfhSKYpimKZZkkgimcRARTFMUxTFMsxTFDRwDBXxvl0JC5oA2vgAFMqA9n8oYfUYJ9AIWj/vbiD\n",
       "UECR72jmGd+oO/ZnN5WtNJNvm7wSKCBZ2cOneLh2ADvcvcDXeTG1LP2XjZZim8FgsMUxTFMUN/yz\n",
       "xxqKYoZJySHKwHwX/C4J2H42KYpihimKYksChoCgKGKGs8oAAYnDnw6C/D9lGDhE1LIH0AAAAA1h\n",
       "AHC4AHAA5yA68BawAAAApmEAIc4AHAA5yA68DPxvhCyQ8yPJieZYZg0+YFZSAWUeFgsy8UwQgFgi\n",
       "eBNvDT1/Lo2Lg4RWdJtNvW3+H4UOAIm+g70izPMUxTFMUxxcm0zw0I3wSLkTQ7hkrgK+Nl0sykzz\n",
       "xcUyzFOGSw1ZtLMUMyUpZjBgQCE85YwRNnhkSHIT/xsUxQxTEHCY0zMoozFMsxTDRcBpmX8XwPCE\n",
       "+ROTvBK1m6AgCH4AAAKmYQAnbgAcADnIDrx3DsUxASCceQZYswqWyA++PkQkjpSRM+FzGownT8Am\n",
       "vBB4ED2BCdYKNIwI3mBh1CDHcjdpBgaA8AYBkIFmfhtOsgBkf/r/4mfSiN53jalJUIauwARcCCQV\n",
       "qpiA3Tx4AN4AaHgDLAGKADFAGKADLABigAxQBg6EgwwBYdToPSH7wEIBDAG58f4ftAAGI6w5kVtu\n",
       "w8Ab4AhgIoAywBgitgCu2ACsCdrwC4DqIDAXHLHCZhigjOW8v8CJkZoMG+CCQCowTaHzNifo2lzA\n",
       "sGA1JtUeM8YoML6CSIP4GKjICJ6PHWNv8bDs85EmZ4eWMydyjLGFRMFjFGKMUYoyxijFGCwMSANe\n",
       "Q5TEEB2f/h/kqqoUhwiAmy3AWM8ExexNHSwO0EUN26mVCT2VH3a6JWsdcO43BZ16yal6w8AGKADL\n",
       "AGKAOVulGgbBYAxQBk4A5FgDEEUQACH/BRk89ek8Z0B3xsUAYoAxQBigDLAGuXgKAMomICKAMUAY\n",
       "oAxQBigDFhMQQUAZu54BEIRAAEAHRksifUVVHXkWmcgN8boAEnApsnGEFjFGWMUcsaiEAAIoMUZY\n",
       "MUY0MCyAP7IRfgc5NNUo47iP42KMsYoxQZgmGszgQQBijFGKDFGjGwzVdRiRQcEPi8kN8TGE6csO\n",
       "4aglGQMKBYABW0DgTjY8Km9A5bCAJzHhKWPItV4AwAlcDN87/jYoAxQBuwBZFgAxQBigDFAGKAMw\n",
       "HcUUEZC8oj8LCeN4G4gcAEHXLAYZ/CJYWcdPfDsUAYoAwqADgjLDaQCLbGgm+e+BKvlu2lsB+Bsg\n",
       "hDc4QM7JWxMsI7fBHuPdV36G/i44g5xsUYoxRigxRijFBigwkXNIlH3lF+IL/XiESEAQqxxnGe0Y\n",
       "TrumYphLgFDgAAAAC2HgAgAEHIDrwFrAAAABHWEBa4AIABByA68Ml+EzjpA+QZgANCYKJfaFFVyU\n",
       "xZkhA7AATyHgYYTrSRw6MJWPgOAJJ44ii14ImvhcGRL0gAXA4IHVtEOgspx6ffcgABAHsABCx21b\n",
       "AYTHInTP+4DC77QBjcFRHIxBAhkfuCAAQIQihQOlFtV89mH/+BAfgAMIsDDmbC6nnM7RDgRBX+AE\n",
       "LAEvIIjKzncwVDEXh38EAQigQLKXUMeMorGXGLPEAAY5YANikMTjAVbGMdef94FWwAEeHjHttcMo\n",
       "DTGGPgANmA4PK+ufPjhJiaXwCF43ohPmwHVhZlmF6AsyzFMUxTFMUygB1hePmEaadF+NieBqMsy/\n",
       "cKmITeFMUxTFMsyWHgEUy/gEAWY4i5fEeGDwtAAAAG9hALTgAgAEHIDrwtwvghWJJRixVk2BEXJI\n",
       "L1uCxBL8JiZfokJ2j3hSeYplmKYpimKYplmKbk+LMUxTFMU0cAOJ4LOHruWcMmgUxTODhZpDA8H8\n",
       "HkvPDfw7FMXFMUxQxcKUJRGYx7nQkl89hjREBwgAAAANYQBDuACAAQcgOvAWsAAAAHJhAFo4AIAB\n",
       "ByA68CSF8LFAh0PZWSHQ9lZDAFAKAAU8KVVVUTxTRWwqqqyqjjHAAIQWcbVVVVWFNycYLCqrPF40\n",
       "QAEADnGE14K8QRVL8bVaqRhSeABFJQK3xWRiQhoXPcaKA+Ao29lCAVYm4ZpyT/2IwfQAAAANYQBw\n",
       "uACAAQcgOvAWsAAAAKhhACHOACAAQcgOvB3wxwUSgIqIvZVF4OyUqEElmqX4LznZiTIuCzggh+wk\n",
       "5uFmXliHyodUWZZimKGKcgWkOFaxI0M5CRzx/wivt/AoF+H4VKFUWYS1OCmWYpimMAgOVlTwDxRs\n",
       "QTziAkCAOMDICvjcU4gwFDFMsxTheY5Zi4XNCzQIEXiuNCPHP/DsUxTFMUM752kUxTFMMGQoCRYy\n",
       "NhE8QNkA7bRiMPwAAAJpYQAnbgAgAEHIDrxvDUAL12lxkWaMCKAgbsP9MAJCASFJAYWPc8AQtGBm\n",
       "CJRs+ATbhfwk4uASNZpJwArYAVh4MA4SkdA4/0ZPc2MWLxtwhe+gbhhATwGt8Z+A5YAywGeAxQGK\n",
       "AMUBigMUAYoDFAYLAwMYAP5sG3Bx3/h/ChNGEOGd8WDPARgigMsBgh+zHeAEBqBgrAxMMYZeCB5q\n",
       "gI+t6f4EDRu9Bvgg2Y+SFplGTE2vZE6BwBLGeMUHkJRHP0B0qBlVqA8HxsNIgSJlnhYLGYPSyxij\n",
       "LGKMUYoxRijFGKNEgaPpTPExhDBiv+H+FEECaBiwZO4FGWPhtBQOSFTP1hp0SQY0fTDuNww7EyLC\n",
       "IeAMUBlgxQHK+mEWDFAYYAWgsBiCKIBFhxXPfSEqgjnmOayFCD3+tfjYoDFAYoDFAZYDBdZEFAZR\n",
       "aAUBigMUBigMUBlFyCQQgCVeg4GNAAK7oRoZLhxTAtYG+NyRWehAEsYoyxijiB7mxMOQWDFGWDFG\n",
       "iEDiUYOPujE2MNy6HEfxsUYoxRigyVXNF+WKMUYoMUaUHRjv6IIP+ToyW4P42KAxQGKAxQGKAxQG\n",
       "KAxQGEfUWWKF46PCieXEIkDgI60xiXhK2BknePw7FAYoDCwDCBBmZzcQXPH9HEa/Y/4WkEj7/jsp\n",
       "R8gp75cfqDfD2QdtYvW8ACwcACQQgZpgTirQMtE6JC1fA/gglYvxPudWkJoU3w/GxRijLGKDFGKM\n",
       "UGKDXyiVIXoRKUne8iEBFX7Q8qdo8OxQBhsAB4NgDxgXvw3YE7/5vD5wGuLhaggSlcPR0fBGWY3r\n",
       "pdOAUKAAAAALYeACQAScgOvAWsAAAADtYQFrgAkAEnIDrwyX1bzRmAC8iM6Fndj/mAAPmSHGVr3/\n",
       "neQwOI1nywKoX2GaCVrQEFAufs6CUFP9dwAB4Bi/Ys5AnXE9+/fLDSgO4lwY6BwzbDzkAAICIhAu\n",
       "w5PZcHsjB8n7oHwKAoA+sxbzDED7mP+v1++AOMAIFtLmpvdAD+4EjuUuGDKAc4zyfgPAAEJ4BZdV\n",
       "bwEIAKJAWogpEnmpomlM+GfWc4YfmEJRza17zDkAAZXDFoxXmugaAQvG+FZCHWvKmyRcXVVUqBYU\n",
       "qacOJnLWvNfxs2MKRcoopeNGSqqqXqLjFAyEvPoWTPhaAAAAOmEAtOACQAScgOvC/ClVVVVVVRcX\n",
       "VVUcY4AcT/C0UMYoKBoKYKBxB4IhPQYLAaW489DAYV+yaOjgJyAAAAANYQBDuACQAScgOvAWsAAA\n",
       "AJthAFo4AJABJyA68OcEHaHWo3mecPNCzLMsxcUwOZgYGkhndI8DQ/YQNdaF4YimBrEMUyw6opjS\n",
       "ECWEmi+EHgCnTHUYS/ccEAr4XqFzgOwqHmS0BZiyrAvBrgwKEcQVQxIgVEfuRvlQDvhSqqqs6yqq\n",
       "qqqjjQWcKVVVVVFxz04ZjVZJgLVnxtVF1UXUyVVZkROglGzgtmCdmVvg+gAAAA1hAHC4AJABJyA6\n",
       "8BawAAAAeGEAIc4AJABJyA68DPxvjWBg2F8i8vQDVRdVGMHRY8HhXQINogQRWHrHxqzp8bMkIZUm\n",
       "mxKrHDqXqrPZ4rg8vhAwwvCdrAFfG1F4uqqs3oci6qJcGQqxxE0y2miUThmd/jaqtiiHOGouLhqE\n",
       "IRNCc/iLgUS/MYKQfgAAAYFhACduACQAScgOvHcKxAHCwNAwxlhQMNAaQzQ/EdCBZeJ6KGFgeATb\n",
       "jaw0JchYy4XC2WMsYoxRijFBisUYoxkBAh0KsS7heZi/E5/h/iRGCGlWLBljFGKMbXJxwqEcBoGJ\n",
       "h+KfJ4RcOEHON2YoxWa9uKxWKxWKxWK3G0MBXphbO8fxuEXaKkAASxijLBijolMpnAsGKMsYoxFQ\n",
       "cAink8eQPrGcAJ/jYoxRijFGWMUWgKM94oxRijFGKNCOwKDTvD4EoA/kzckTtpg3xuFG5LZbd3hV\n",
       "uKrSC2Ky243EhysXhekaE2jiP424rcVj6DLcVisVuFEmNC7GPiI8cuZnhDYsg7hqBNyNPw8AB9Bg\n",
       "DO9Ghjm8CbgiZHDwoWRwBmdUyddf8bFGKM8YoxRijFGKNAIS5pR+M11HjKBwEdcaix/CFuL/+HYo\n",
       "xRijC6QQTdm9nz31im/PFEITMyJThNiTDqKUwX8am74g5xtxWKxWK3FYow6hZJWW9sFZC9DHH0yb\n",
       "4BQ4AAAAC2HgAoAFHIDrwFrAAAADRmEBa4AKABRyA68K8VgDwABAUAAUAAQKQA4CA2l0o4AAieAA\n",
       "CJCxBwABE8AAESFiDgACJ4AAIkLFqPQyB1AOQaUR61P6uAaRTEVTY9XvCA5jwBsXMvKCExd/ml4A\n",
       "ANYAAICcAFU4SAlGCjHML7xRgHQKKWMqGgHOxyWSt5IwDXE4co4tfmK8AAgGGGQlHmmq2JTMpHR1\n",
       "Ch4Qg1hMLmLXhJCKvhmkVzAABAaAA4eOJhgABwMK0mAA6DDnDObfNnkQts5Fr1xBAHHJpiTl0+J0\n",
       "YGCMKdxMEGTCSQWEo7Kul/73sxqAAIGe+GHMgACAgo4AR+GMGuQ7j2o8Hk8pbpoAgSjWJoAERJBH\n",
       "SbX/2m1DAB7HO4f0AAIAwphvYBx/o0nIM7VvgGDHjSjqx04FBj9ybCY4/gQAAgHAQu9gGSfXtmLp\n",
       "iGjkjyAFXBhhAD0MyHkRR2Nt0ZAYHgKyvsBJGMWhv+ZcL0nLGOV+73AMEdAwIk/deDgUe6MzDbGg\n",
       "iTTDAEg2wgYFrH8+SgsSRvN5tkNL9PIyEVlMdCiJShODCMy4+Tfge+dPV2QAFCILEuaeHId6fLVf\n",
       "X/e+vWH3IAOULI2OI+X5FT/4wAAQFQA5wKllr4zv9c/sBBJwcWnXS+kkjdoPDDGQAEQAAgBwCgwL\n",
       "aL1uyBrFaTVeIBiAGtBspTIyLwRYHR1JPIXBCSBrk1j6yxVLcEwDeIrkPEn6KNOvs/gwAEACBxOk\n",
       "K+MeiuAq3GzQ3h+wB0Dg9KLUtAAHhdFjzQY/EAAaj+CDkDEeDIGKLDC57BqAMp/oKAAQA2gjXHpJ\n",
       "wEAwC32agIe8GQt0z7Wq4oAAQBwAK7feAwY1YgFk4LPB2bEbmAoKAA1uEYLf/vPewAjlcFApUTEl\n",
       "NWYVfwBwAnuMPACQBqcRf/ieUgy+J8wABAAwAo8CqC6OWvABxACrvEBCnC2FDppMqFk7hyx8QZBC\n",
       "WJMNUSMRVWR8NxYTXcAHjxc7qsASgoh2SGfFBgIABjYNQW//ecAxVqARI2L4yb7AOLAZ//3gBjnA\n",
       "UJW2sPrE5/0NxJFUBCcbzhAI9oNYdkybyLi6qqjFAsrz8IXsb+Nmw2SX3C1seGKqqyXqLjRjD9Gi\n",
       "do6U8LQAAABZYQC04AKABRyA68L8KVVVVVVVFxdVVRxjnE8FnD0Iktgs8RwUxTPLBZwZvcGTQYe3\n",
       "wlOTxBYey/h2KYoYpimLhQKhNIhaaUrxpkvAdDDGy1P4kgjNLM3wOEAAAAANYQBDuACgAUcgOvAW\n",
       "sAAAABFhAFo4AKABRyA68CT1RwDA2QAAAA1hAHC4AKABRyA68BawAAAATmEAIc4AKABRyA68DPwQ\n",
       "R5S+RebtzIuqjGC57x0cnDChjLNNbTX/nVBZw9KyXxdVVVFw5ABUgpkD1NN9M/8O1VRcXk9VFxhC\n",
       "GsZ/U1Iw/AAAARBhACduACgAUcgOvAKHwv4ceCbpWAE8wiYbSPAGF+CBZn+nAm0XxvG3SQCjWGmW\n",
       "aQS2Wz2K3FYrFYrFYikDQ15OFLP8OcEGjQgmt0TNhwQhBBo6HjPGKDNCUj+CVoWBzGAh+FMpBsto\n",
       "HcJuQ4VisVisVlsVvEd+H+QPl4zwYUZQoyx8PKb8hUzNTKyOruETjQ7gg2KxRvDCcGCLG4rcbiE/\n",
       "lf5p4zgBP8bcVu4rufu7u7+K8kcByMV8N8KbRAUItlt3dhlEBdEqFsVlt0S8R/ClxW4raxXoMVis\n",
       "VvXejWP42K3FYrd3cf8/OvZLyF5EDiNejj8s1HxB3jbisVisVuK3aDKEK78+IOtfh0ac90AocAAA\n",
       "AAth4ALABZyA68BawAAAAKhhAWuACwAWcgOvDPH5QGh14ACABsAgnDTbYvc6mmfQE/yAAEADAMA5\n",
       "O7frgAOi+XNlAobJDPjgQFgAb2CIFr/3kBQIA5CU8AAoAFYSduIx2vvVhogn4YAYkINqhmYj3PMU\n",
       "RJoZh0IABoQIaCBwyI9N95BVaXeEQwyfYYAoOKR/Sf/vFa9/5whw4AAgNpACbaAeqMwDB+HH6yCA\n",
       "DrWNNAGPwsIJNN2gE3AAAAARYQC04ALABZyA68MdUcAwE7AAAAANYQBDuACwAWcgOvAWsAAAAG5h\n",
       "AFo4ALABZyA68CSHFC4BZMJhbCYX/jAUIIEmEwkkm2/xtVVVEYKXqqqqqo4xwACH4I/Pu4LONqqq\n",
       "qqLmBAGaGqqFbQOMaAB/hCeEOj42qi6qLqFspVZi4uENlKaDHvBbDwW8/oMPRATbB4QPoAAAAA1h\n",
       "AHC4ALABZyA68BawAAAAM2EAIc4ALABZyA68DR1RwA/GxGA02LPK2ouqqDGqTGC0Bwkh6K2+Wgf3\n",
       "DxDhIwRwFh3gggAAAS5hACduACwAWcgOvAKJwpVmPnC0DLMVlstitxWKxWKxXRgK8P8Jk8TYlgyx\n",
       "ijFGAha2B+l7wpB/gVh2OPkX1BArKHghzMoOcbpOKw803bisVisVisVitxzGKFWDWxxyXHx/BVhp\n",
       "SLfYrt3cVujHGEyN8bcVu5bf3f3d3exWPl7o1/bCWAb43EKhMtit3eK1KkFYrLbmjB+TzCA4j+Nu\n",
       "K3FYVRAc5YisVitzmGuMxx/LSOhIH8bFbuK3d3nzs+aNFZel/h2KMUYowyD8EqyF+4QGv9/D1A4s\n",
       "fhxzDMcgkZ/dvUG+HsdV8sGKDCypOCbMjfAzU4sQRMjGCiUEXwSPj6ZEw3M30LwpcVlsVitxW/bW\n",
       "N+X+8PqO/DMUBhCjSCgDpfVAbIIWz8BFp9FuW+AUKAAAAAth4AMABhyA68BawAAAAPNhAWuADAAY\n",
       "cgOvDPH5wwFjgsABuhsAywb2mhKLRHv8TCM5+F/vP3378xMUVPEEc01pBDfgBUCBIbYoq3PygHHT\n",
       "P+CHY2MifDJIAAQO1AAEBh+u8oHpmrwAgEJseSaL2xBgilvOAAWAWgIgCEliGEFp4PUAAcB2AHVi\n",
       "tMABcBCvXiAAEAYBCwANzYfd9BsMm7EPKH4YrxbqPSpsg0N+r5IPGAxSQnM+5isABk3TAIyZ6YQA\n",
       "74MCQsII7ZKadZaAQnG86oN2GPemROEi4uqquQ1ij+3GlA+dGPy2F+Nuw2SXhvUpk2qqqpeoucQU\n",
       "Bk19Vx6MPC0AAAAvYQC04AMABhyA68L8KVVVVVVVFxdVVUcAOJ/haKcUwxTBTgw4ezwaR4nDCemz\n",
       "ATkAAAANYQBDuADAAYcgOvAWsAAAABBhAFo4AMABhyA68CT1aBsgAAAADWEAcLgAwAGHIDrwFrAA\n",
       "AABnYQAhzgAwAGHIDrwM/G+G+EXkXl6JVF1Xg4iJKGhjIxVZGrIPDihjLNNbTX/uU0/4LONsQvCk\n",
       "yVZWf8OfpFy9URFMxHdaK5IlFJ/42qqLjlNJFwOouLh7kQQAH+g0X4Q4tIGkmxagPwAAAKNhACdu\n",
       "ADAAYcgOvHcKxTFMaVBlhTCxygOFkQkhCQrwQHgt7h3nfAJtxt3DiIKsd9EWxWWxW4rFYrFYrGlC\n",
       "Q0NmK+EqQ99Lvgs43HoatpYrt6ZIntxCY2NxAl40n40kcrGcAIDvjbit3FY2xd/d3d6xWG0AIOYi\n",
       "A8r5BgwskilBEQHOqOAMIcbFbuK3d3CDuoTNHq/IWm8ZQOCVegOCB6IPdALBAAAAC2HgA0AGnIDr\n",
       "wFrAAAAAsmEBa4ANABpyA68M8VgAUQd4KhPKJHM8Q3QPAU+TArDM6HilN+gCAgOoKTJNrDdWZVm7\n",
       "2z6AACAEAKDHgXQKqMwtjIBBEJqcKITpzSdPTsYUa59lt/+XgIK+DFAROCazoMhVDW+KGAMRvimp\n",
       "ifeSPr//cAwAckeG1JPLRUEy6vnzveABBuASa5oINUE5UsFwhi75wDOAQOiH7kTOmNMTN/AAYdQC\n",
       "j3ejzDL8vVDEUxnATcAAAAANYQC04ANABpyA68BawAAAAA1hAEO4ANABpyA68BawAAAAl2EAWjgA\n",
       "0AGnIDrw5wxDmqGapYsyzPMBTLDFMS0DAJl8ughXvn+GIgwCvIsy9N7LMaCCg3QSaF9OHdwRl0eg\n",
       "V8L4VgAECL34eZRSAs0pEQWGWDiL8Ejs1xTinkb5U+FKqqq4AAKyqqqqqo5gs42qqqqouNGJxypV\n",
       "brMQRWQxGTP/G1UXVRdU1VZ5QpNgc8gqfshppWEUH0AAAAANYQBwuADQAacgOvAWsAAAABBhACHO\n",
       "ADQAacgOvA0dXIE2AAABg2EAJ24ANABpyA68AofC/gSNY4kHEQGwAOoQAKh4MVIJRHYcLvQE3+fX\n",
       "VaRBeFKjQQXu4nFYrLYrcVisVisVgsoYK8P3iREBHSEWDLGKMUYSOUGkBNwa5y4DqIKJzlBAOPGA\n",
       "I/b0/w4KIN8EGzDXHIWYDVSk4ReEHPPGeMUGBngPRzIxvqoejDNONE/G0n7FaVzmIrFYrFYrLYrc\n",
       "bQwBXl2D//w/wyNGWDBF2ugUZ4+GRECwlqCpmgKbogm/bITceiDtqh3BBsVu8dBDe3dxuMfw8uV9\n",
       "LGdAd8bcVu5bobn7u7urQCvHxx+PZ/DfG7WIrLbu8VuXisVltx8SHuK7mM3xH8bcVuK2sbisVitw\n",
       "6tG/I5gyM/ueA7hqAU7Qz0HgD8EYoc8ALCJkcEav2wBwELQ0vfn/CkVv2K3d3Pb87fGUIteHYoxR\n",
       "ijD4sIXV+hQjcQX8PQEmZjjFJMmVwwscgPmai9C4g5xtxWKxWK3Fbnst5wAAq5XIhBNeQzDqaZi8\n",
       "7gFDgAAAAAth4AOABxyA68BawAAAARphAWuADgAccgOvDLxIIxXgAIEUFLCI0KoFBGDyn7H4QAUC\n",
       "XXRssPDDIcckclcwfQAG7ACOVwUClRMSU1ZhV5QAAgPySAACBaAAIA8AMl2ECCYACAANwCEnAKNp\n",
       "n7GgFeQMn4XbDFEI9MNmxRQ3Vnq94KgBA4GGSh2oRAt20QRWYk+Y0KInXPBob1qxOyvgEcQSjMaj\n",
       "US0raLEf/3AADKDClhx7jM8EjuYK6q8NjAAhoIKjzudPchWHy/yACHLxYSVzMkAyRhrEugITjeGr\n",
       "lODAWjZMrlkvF1VVAAQWFeNrWvGD+NmweykvcMLrqnGKqqyXqLjFAoOGnDn0Owsf4bgLLITtjC3M\n",
       "gBKveIuEJkXCj3wAV1/J5gn28KwAAAB5YQC04AOABxyA68LcL4KiLRF0JMlUjETM7zIFCUK7kFW6\n",
       "JoH48QkbjC+8KeVlVVVlT8XVVUcY4AcTwWcPQ3Awlngi9sFMU3RjCzeNMzDbhIqQHbtSlwIum/4/\n",
       "qGoD4dimLimKYoYfJdAXWDJKPEWgwON+CdoSMM+BwgAAAA1hAEO4AOABxyA68BawAAAADWEAWjgA\n",
       "4AHHIDrwFrAAAAANYQBwuADgAccgOvAWsAAAAJphACHOADgAccgOvB3wxwMHIQEqhezURY4gzKaZ\n",
       "EEljiqiHgmI7ICZQ46AWcEFRMYKl8P0xhzIuqjFBuX2Efivhxd5p5r7mtzX/nSXcf//h+FqtaWZN\n",
       "UUyzFMUw0VMrJcVweV87wiaW8cEICvjbYvC8aCrKzfDkV4ckXlRjAhEtpsVypGU7/G1VRea1UXUj\n",
       "HgtgxLPAtHjWStw/AAAADmEAJ24AOABxyA68AX9AAAAAC2HgA8AHnIDrwFrAAAAA0mEBa4APAB5y\n",
       "A68M8VgAIBIdwQDgX5N7DYx0AiXBZ+AAYCAcIkdcCBJ+AMrk3TjG34gABAYAAEAgDBRQYi/jBX0X\n",
       "wYcgNHgCAZZ5KQcXcNBccAmZiP+0QT8wDBQp74A2ZfZtVCSkR5PABgHpWASX0tlcphoq/wAwFQJd\n",
       "NPPMAPBAxgnHUpXiE5BUcS4IENK8GSjwaOEsywBUVof0AAIDpWAFnhijSpXjAhAYavywQk958AwE\n",
       "JEJR4dKqKGFAABAoBb18GFEHmJeJUPRB1Efjd9ATcAAAAA1hALTgA8AHnIDrwFrAAAAADWEAQ7gA\n",
       "8AHnIDrwFrAAAAANYQBaOADwAecgOvAWsAAAAA1hAHC4APAB5yA68BawAAAADWEAIc4APAB5yA68\n",
       "BawAAAAOYQAnbgA8AHnIDrwBf0AAAAALYeAEAAgcgOvAWsAAAAC8YQFrgBAAIHIDrwy+LFYAFiBv\n",
       "BdCtAg39Vd8Yd9AEDhwABAhAJy4xokH1kRJFz4E4CQX8gACAOmAOdohYohT+AAtgYg1eRL5cKROi\n",
       "kj1xgAhqGB05BhbQupUEUxH/1nFGQnwQE2BpQ8Z5NQV2nn/7QAfBMBR43GthGiSLv1s1YVf+2917\n",
       "+nIHovtH/fviA44W/Wlou8/3/7QoQExCjAGoUsfk+9ADSiGpFQjWcpXroAB8MiLCeG3cxV1oBNwA\n",
       "AAANYQC04AQACByA68BawAAAAA1hAEO4AQACByA68BawAAAANGEAWjgBAAIHIDrwOvBBATNte8fA\n",
       "IYD4CuwnYfAu/ELWBCf8CeEJDaHyyeARDWg0Z7naAIEAAAANYQBwuAEAAgcgOvAWsAAAAA1hACHO\n",
       "AEAAgcgOvAWsAAAAamEAJ24AQACByA68AsPG6RYFvcQ4KxWKxWKy2K3IhI15Ongs43Cis5YLb28V\n",
       "qOsRWKy26JD+Lxw0cR/G3Fbisfx1xWKxW7z+iI9YjCN3L6As424rFYrFbitz4vld+NIdETVsYlwJ\n",
       "K2fgFDgAAAALYeAEQAicgOvAWsAAAAC3YQFrgBEAInIDrwy8IgSxWAAgCARIn5QAjmn8XMyQFnoV\n",
       "YeAA3MAI7uCgUmIiSmrL6vzuTR6ORP/+5RP3IxqAAIL/dXrAGAAEJgC3gESgHWBI/IkhDSUWiya/\n",
       "7nAAYABhW8XJrARdlACYWf/2hYDDr5wufAqYlIIyf3+8NqAOAkp1MdtAsM06fuBd51mGArKloYTw\n",
       "1/3jAAEAYGCBzBKV10JwKddQ6+OOAXAxYKXx9ILAfThYAJuAAAAADWEAtOAEQAicgOvAWsAAAAAN\n",
       "YQBDuAEQAicgOvAWsAAAAA1hAFo4ARACJyA68BawAAAADWEAcLgBEAInIDrwFrAAAAANYQAhzgBE\n",
       "AInIDrwFrAAAAHVhACduAEQAicgOvAKJxt0nc9DWWy2KxW4rFYrFYrHwYhrwZmJ3eCzjcdpW0sV2\n",
       "9EgBKCUbbryRY3ByMHUjs8DQjiJxH8bcVu4rG8O/u7u78Fa/MfHAfx25TLrAWcbFbuK3d3YMbIXq\n",
       "axuGMH0xbw605OywCwQAAAALYeAEgAkcgOvAWsAAAADiYQFrgBIAJHIDrwy9lFWQAFoAAQDQphgK\n",
       "JdOkZGyhb6GKcwACCuAJXSCREAuYY2BCBZ/5QmfAAUAI0AeusiAvYOC5i1dg4gBEYThK7yX1ZEI9\n",
       "rvAQqQQbLHQi4rBYtrizaD7ZZonwACnAcSF/LoJ8RtVjV3DAQ4a4Y6DlBvDwLYjNeIeESwAKgqq8\n",
       "cC4036eCFaOGda70qSNPlHb///GAAIBQKC3j4zSeIP5wnC6Lap4yAB0IMYDSUgLjR4FxJFfkAB8G\n",
       "ACjp0H+wWutMJxY/febAMAQVv4WLNplbYViiEsBNwAAAAA1hALTgBIAJHIDrwFrAAAAADWEAQ7gB\n",
       "IAJHIDrwFrAAAAANYQBaOAEgAkcgOvAWsAAAAA1hAHC4ASACRyA68BawAAAADWEAIc4ASACRyA68\n",
       "BawAAAAOYQAnbgBIAJHIDrwBf0AAAAALYeAEwAmcgOvAWsAAAADCYQFrgBMAJnIDrwzxWABbxfE7\n",
       "qkaP/1A0AAwHABjBEiSPgHJNwL4tyGAIADFC/AGJKROM0fOX7Al7tTAPGAAIBhRxivQoFqjuRxOo\n",
       "Gr/skTxWuPgo9f/nWCxyfK+dmP+rhkAAIAXAFAXzrYg0Mg/QS594wg4SyQcInxYafsLZvIPpAACA\n",
       "cABgBs0gGC3HY2ACg7b8/34AAgUuUAAQFxwsEi3xIusw6YAF6VQB3+wChJXB3/vAEEHZrzBkrmap\n",
       "Wog2ATcAAAANYQC04ATACZyA68BawAAAAA1hAEO4ATACZyA68BawAAAADWEAWjgBMAJnIDrwFrAA\n",
       "AAANYQBwuAEwAmcgOvAWsAAAAA1hACHOAEwAmcgOvAWsAAAADmEAJ24ATACZyA68AX9AAAAAC2Hg\n",
       "BQAKHIDrwFrAAAABRGEBa4AUAChyA68MtWxkAChKM8Vsyh3olZGn///ABhOCicA43Sugrwsjsx+8\n",
       "YM45P200GqI1uI5c4AAQDygCWdx4B8itwABEqIPvVppGKqToq8AFAdVpwiy/U/FfrAVBhUQVCuHU\n",
       "gm0mucYGzgAHgSTVPNWwD1n3GCMCiVVDhroZTutt//eCAUL6BG20gKC8WC5w3jpx4MAAQAyQA2bg\n",
       "LCD72L1hltjz3M6AUkvgWI5Cb+rFo8f772bZmzDVV+gK4/AAEEIAAQGSgHtisIhn+vrsXpGKekX9\n",
       "/+ABgUKgs5EBcCKvuxMA7oT/L7SspInRZrr577tAYbeLYH/+Z1vYcsX/5sIkAWIAqh+mbc+7gIFk\n",
       "W+8FkC6GglBSSwwf/7QDMD/rwYsKLr0S5wcAaiTweP5TxbMo07f/aAZcnX0F5Za5//YCbgAAAA1h\n",
       "ALTgBQAKHIDrwFrAAAAADWEAQ7gBQAKHIDrwFrAAAAANYQBaOAFAAocgOvAWsAAAAA1hAHC4AUAC\n",
       "hyA68BawAAAADWEAIc4AUAChyA68BawAAAAOYQAnbgBQAKHIDrwBf0AAAANnbW9vdgAAAGxtdmhk\n",
       "AAAAAAAAAAAAAAAAAAAD6AAAUggAAQAAAQAAAAAAAAAAAAAAAAEAAAAAAAAAAAAAAAAAAAABAAAA\n",
       "AAAAAAAAAAAAAABAAAAAAAAAAAAAAAAAAAAAAAAAAAAAAAAAAAAAAAAAAgAAApF0cmFrAAAAXHRr\n",
       "aGQAAAADAAAAAAAAAAAAAAABAAAAAAAAUggAAAAAAAAAAAAAAAAAAAAAAAEAAAAAAAAAAAAAAAAA\n",
       "AAABAAAAAAAAAAAAAAAAAABAAAAAAtAAAALQAAAAAAAkZWR0cwAAABxlbHN0AAAAAAAAAAEAAFII\n",
       "AAAAAAABAAAAAAIJbWRpYQAAACBtZGhkAAAAAAAAAAAAAAAAAABAAAAFQABVxAAAAAAALWhkbHIA\n",
       "AAAAAAAAAHZpZGUAAAAAAAAAAAAAAABWaWRlb0hhbmRsZXIAAAABtG1pbmYAAAAUdm1oZAAAAAEA\n",
       "AAAAAAAAAAAAACRkaW5mAAAAHGRyZWYAAAAAAAAAAQAAAAx1cmwgAAAAAQAAAXRzdGJsAAAAqHN0\n",
       "c2QAAAAAAAAAAQAAAJhhdmMxAAAAAAAAAAEAAAAAAAAAAAAAAAAAAAAAAtAC0ABIAAAASAAAAAAA\n",
       "AAABAAAAAAAAAAAAAAAAAAAAAAAAAAAAAAAAAAAAAAAAAAAAGP//AAAAJmF2Y0MBQsAf/+EAD2dC\n",
       "wB+MjUBaC2QDwiEagAEABGjOPIAAAAAcdXVpZGtoQPJfJE/FujmlG88DI/MAAAAAAAAAGHN0dHMA\n",
       "AAAAAAAAAQAAABUAAEAAAAAAFHN0c3MAAAAAAAAAAQAAAAEAAAAcc3RzYwAAAAAAAAABAAAAAQAA\n",
       "ABUAAAABAAAAaHN0c3oAAAAAAAAAAAAAABUAABO1AAAEcQAABIAAAAhtAAAHkQAAB1cAAAgTAAAG\n",
       "XgAABVQAAAQAAAAFUwAAAs0AAAKBAAADLgAAAo0AAAFMAAABuQAAAZgAAAFcAAABPAAAAb4AAAAU\n",
       "c3RjbwAAAAAAAAABAAAAMAAAAGJ1ZHRhAAAAWm1ldGEAAAAAAAAAIWhkbHIAAAAAAAAAAG1kaXJh\n",
       "cHBsAAAAAAAAAAAAAAAALWlsc3QAAAAlqXRvbwAAAB1kYXRhAAAAAQAAAABMYXZmNTguNDUuMTAw\n",
       "\">\n",
       "  Your browser does not support the video tag.\n",
       "</video>"
      ],
      "text/plain": [
       "<IPython.core.display.HTML object>"
      ]
     },
     "execution_count": 6,
     "metadata": {},
     "output_type": "execute_result"
    },
    {
     "data": {
      "image/png": "[encoded data removed]",
      "text/plain": [
       "<Figure size 720x720 with 1 Axes>"
      ]
     },
     "metadata": {},
     "output_type": "display_data"
    }
   ],
   "source": [
    "\n",
    "fig, ax = plt.subplots(figsize=(10, 10))\n",
    "kwargs = {'cmap': 'hot', 'node_size': 1500, 'edge_color': 'gray', \n",
    "          'vmin': np.array(results).min(), 'vmax': np.array(results).max()*1.1}\n",
    "def update(idx):\n",
    "    ax.clear()\n",
    "    colors = results[idx]\n",
    "    nx.draw(g, pos, node_color=colors, ax=ax, **kwargs)\n",
    "    ax.set_title(f\"Iter={idx}\", fontsize=20)\n",
    "HTML(animation.FuncAnimation(fig, update, frames=len(results), interval=1000, repeat=True).to_html5_video())"
   ]
  },
  {
   "cell_type": "markdown",
   "metadata": {},
   "source": [
    "# More theoretical preliminaries"
   ]
  },
  {
   "cell_type": "markdown",
   "metadata": {},
   "source": [
    "\n",
    "##  1. Permutation Invariance Property\n",
    "\n",
    "We require that our algorithms to satisfiy the permutation invariance property. This requirement stems from the fact that graph structured data does not involve ordering. Hence, the order of nodes should not matter for us. \n",
    "\n",
    "\n",
    "\n",
    "Let $X \\in \\mathbb{R}^{n \\times d}$ represent node features and $P$ be a permutation. A function $f$ permutation invariant if\n",
    "\n",
    "## $$ f(\\textbf{P} \\textbf{X}) = f(\\textbf{X})$$\n",
    "\n",
    "Let's take a look at some permutation invariant functions"
   ]
  },
  {
   "cell_type": "markdown",
   "metadata": {},
   "source": [
    "## Deep Sets by Zaheer et al. NeurIPS 2017\n",
    "\n",
    "A generic form:\n",
    "## $$ f(\\textbf{X}) = f(\\textbf{P}\\textbf{X})$$\n",
    "## $$ f(\\textbf{X}) = \\phi \\Bigg(\\Sigma_i \\psi(x_i) \\Bigg),$$\n",
    "\n",
    "where $\\phi$ and $ \\psi $ are learnable functions. $\\phi$ is a __permutation invariant aggregation function__ (e.g. summation, averagining, maximization).\n",
    "\n",
    "##  2. Permutation Equivariance Property\n",
    "\n",
    "\n",
    "## $$ f(\\textbf{P}\\textbf{X}) = \\textbf{P}f(\\textbf{X})$$\n",
    "\n",
    "## $$ f(\\textbf{X}) = \\phi \\Bigg( \\Phi_i \\psi(x_i) \\Bigg),$$\n",
    "\n",
    "where $\\Phi$ is a permutation-invariant aggregator (such as sum, avg or max)"
   ]
  },
  {
   "cell_type": "code",
   "execution_count": 7,
   "metadata": {},
   "outputs": [
    {
     "name": "stdout",
     "output_type": "stream",
     "text": [
      "X:\n",
      "[[ 0.23130674 -0.17238292]\n",
      " [ 1.7595618  -0.71230477]\n",
      " [-0.30582224  0.31453775]\n",
      " [-1.16573429 -0.58862348]]\n",
      "\n",
      "PX:\n",
      "[[-0.30582224  0.31453775]\n",
      " [ 1.7595618  -0.71230477]\n",
      " [-1.16573429 -0.58862348]\n",
      " [ 0.23130674 -0.17238292]]\n",
      "\t\t\t\t Only order is changed.\n",
      "Σ_i Σ_j X_ij=> True, -0.639\n",
      "Σ_i X_ij=> True, [ 0.51931201 -1.15877342]\n",
      "Σ_j X_ij=> True, [ 0.05892382  1.04725703  0.00871551 -1.75435777]\n"
     ]
    }
   ],
   "source": [
    "import numpy as np\n",
    "# Number of nodes and size of features\n",
    "n,d=4,2\n",
    "# (1) Node Representation\n",
    "X=np.random.randn(n,d)\n",
    "# (2) Permutation Matrix\n",
    "P=np.identity(n)[np.random.permutation(n)]\n",
    "print(f'X:\\n{X}\\n')\n",
    "print(f'PX:\\n{P@X}')\n",
    "print('\\t\\t\\t\\t Only order is changed.')\n",
    "# Sum\n",
    "sumX=np.einsum(\"ij->\",X)\n",
    "sumPX=np.einsum(\"ij->\",P@X)\n",
    "print(f'Σ_i Σ_j X_ij=> {np.allclose(sumX,sumPX,atol=1e4)}, {sumX:.3f}')\n",
    "\n",
    "# Column Sum\n",
    "colsumX=np.einsum(\"ij-> j \",X)\n",
    "colsumPX=np.einsum(\"ij-> j \",P@X)\n",
    "print(f'Σ_i X_ij=> {np.allclose(colsumX,colsumPX,atol=1e4)}, {colsumX}')\n",
    "\n",
    "# Row Sum\n",
    "rowsumX=np.einsum(\"ij-> i \",X)\n",
    "rowsumPX=np.einsum(\"ij-> i \",P@X)\n",
    "print(f'Σ_j X_ij=> {np.allclose(rowsumX,rowsumPX,atol=1e4)}, {rowsumX}')"
   ]
  },
  {
   "cell_type": "markdown",
   "metadata": {},
   "source": [
    "# Learning on Graphs\n",
    "\n",
    "We can represent edges with a __A__ be a binary adjacency matrix.\n",
    "\n",
    "## Invariance: $$ f(\\textbf{P}\\textbf{X},\\textbf{P} \\textbf{A} \\textbf{P}^T) = f(\\textbf{X},\\textbf{A})$$\n",
    "\n",
    "\n",
    "## Equivariance: $$ f(\\textbf{P}\\textbf{X},\\textbf{P} \\textbf{A} \\textbf{P}^T) = \\textbf{P}f(\\textbf{X},\\textbf{A})$$\n",
    "\n",
    "\n",
    "\n",
    "## Neighbourhood:\n",
    "$$ \\mathcal{N}_i = \\{ j, (i,j) \\in \\mathcal{E} \\vee (j,i) \\in \\mathcal{E} \\} $$\n",
    "\n",
    "\n",
    "$$ \n",
    "f(\\textbf{X},\\textbf{A})=\\begin{bmatrix} \n",
    "- \\quad g( \\textbf{x}_1, \\textbf{X}_{\\mathcal{N}_1} ) \\quad-\\\\\n",
    "- \\quad g( \\textbf{x}_2, \\textbf{X}_{\\mathcal{N}_2} ) \\quad-\\\\\n",
    "\\cdots \\\\\n",
    "- \\quad g( \\textbf{x}_n, \\textbf{X}_{\\mathcal{N}_n} ) \\quad-\\\\\n",
    "\\end{bmatrix} \n",
    "$$\n",
    "\n",
    "g should be also permutation invariant.\n",
    "\n"
   ]
  },
  {
   "cell_type": "markdown",
   "metadata": {},
   "source": [
    "# Graph Convolutional Neural Network\n",
    "\n",
    "\n",
    "### $$ h_i = \\phi \\, \\Big( x_i , \\Phi_{j \\in \\mathcal{N}_i} c_{ij} \\, \\psi(x_j) \\Big)$$\n",
    "where __features of neighbours aggregated with fixed weight $c_{ij}$__. Useful for homophilous graphs and scaling up: when edges encode label similarity."
   ]
  },
  {
   "cell_type": "markdown",
   "metadata": {},
   "source": [
    "# Attention Graph Neural Network\n",
    "\n",
    "### $$ h_i = \\phi \\, \\big( x_i , \\Phi_{j \\in \\mathcal{N}_i} a(x_i,x_j) \\, \\psi(x_j) \\big)$$\n",
    "where __features of neighbours aggregated with implicit weights (via attention)__. Usefull: Edges need not encode homophily."
   ]
  },
  {
   "cell_type": "markdown",
   "metadata": {},
   "source": [
    "# Mesage-passing Graph Neural Network\n",
    "\n",
    "### $$ h_i = \\phi \\, \\big( x_i , \\Phi_{j \\in \\mathcal{N}_i} \\psi(x_i,x_j) \\big)$$\n"
   ]
  },
  {
   "cell_type": "markdown",
   "metadata": {},
   "source": [
    "# Implementation"
   ]
  },
  {
   "cell_type": "markdown",
   "metadata": {},
   "source": [
    "### 1. What does matrix product of A and X imply ?\n",
    "\n",
    "Matrix product of an adjecency matrix $A$ with node representations $X$ \"updates\" each node representations $X_i$ with its neighbours $A_i$. \n",
    "\n",
    "Let's understand this computation in detail. Assume that $A$ is a idendity matrix, hence, the impact of neighbors of $i$th node is __zero__."
   ]
  },
  {
   "cell_type": "code",
   "execution_count": 8,
   "metadata": {},
   "outputs": [
    {
     "name": "stdout",
     "output_type": "stream",
     "text": [
      "A:\n",
      "[[1. 0. 0. 0.]\n",
      " [0. 1. 0. 0.]\n",
      " [0. 0. 1. 0.]\n",
      " [0. 0. 0. 1.]]\n",
      "\n",
      "X:\n",
      "[[ 0.28889537  1.09321337]\n",
      " [ 1.83892694  0.18605693]\n",
      " [ 1.14810484 -1.63348288]\n",
      " [-1.01341867 -0.04361163]]\n",
      "\n",
      "AX:\n",
      "[[ 0.28889537  1.09321337]\n",
      " [ 1.83892694  0.18605693]\n",
      " [ 1.14810484 -1.63348288]\n",
      " [-1.01341867 -0.04361163]]\n",
      "\n"
     ]
    }
   ],
   "source": [
    "n,d=4,2\n",
    "A=np.eye(n)\n",
    "X=np.random.randn(n,d)\n",
    "AX=np.einsum('ik,kj->ij', A, X)\n",
    "print(f'A:\\n{A}\\n')\n",
    "print(f'X:\\n{X}\\n')\n",
    "print(f'AX:\\n{AX}\\n')"
   ]
  },
  {
   "cell_type": "markdown",
   "metadata": {},
   "source": [
    "### 2. Why don't we extend the neighbourhood?"
   ]
  },
  {
   "cell_type": "code",
   "execution_count": 9,
   "metadata": {},
   "outputs": [
    {
     "data": {
      "text/plain": [
       "array([[1., 1., 0., 0.],\n",
       "       [1., 1., 1., 0.],\n",
       "       [0., 1., 1., 0.],\n",
       "       [0., 0., 0., 1.]])"
      ]
     },
     "execution_count": 9,
     "metadata": {},
     "output_type": "execute_result"
    }
   ],
   "source": [
    "# Let's connect \n",
    "A[0][1]=1 # n_0 => n_1\n",
    "A[1][0]=1 # n_1 => n_0\n",
    "\n",
    "A[2][1]=1 # n_2 => n_1\n",
    "A[1][2]=1 # n_1 => n_2\n",
    "\n",
    "A"
   ]
  },
  {
   "cell_type": "code",
   "execution_count": 10,
   "metadata": {},
   "outputs": [],
   "source": [
    "# Node 0 and Node 2 are not connected\n",
    "assert A[0][2]==A[2][0]==0.0"
   ]
  },
  {
   "cell_type": "code",
   "execution_count": 11,
   "metadata": {},
   "outputs": [
    {
     "name": "stdout",
     "output_type": "stream",
     "text": [
      "A:\n",
      "[[1.  1.  0.5 0. ]\n",
      " [1.  1.  1.  0. ]\n",
      " [0.5 1.  1.  0. ]\n",
      " [0.  0.  0.  1. ]]\n",
      "\n",
      "0.5\n",
      "0.5\n"
     ]
    }
   ],
   "source": [
    "# Neigbours of neighbours\n",
    "neighbours_of_neighbours_scalar=.5\n",
    "A+= ((A+A@A ==1) *1.0) * neighbours_of_neighbours_scalar \n",
    "print(f'A:\\n{A}\\n')\n",
    "print(A[0][2])\n",
    "print(A[2][0])"
   ]
  },
  {
   "cell_type": "code",
   "execution_count": 12,
   "metadata": {},
   "outputs": [
    {
     "name": "stdout",
     "output_type": "stream",
     "text": [
      "A:\n",
      "[[1.  1.  0.5 0. ]\n",
      " [1.  1.  1.  0. ]\n",
      " [0.5 1.  1.  0. ]\n",
      " [0.  0.  0.  1. ]]\n",
      "\n",
      "AX:\n",
      "[[ 2.70187473  0.46252885]\n",
      " [ 3.27592715 -0.35421259]\n",
      " [ 3.13147947 -0.90081927]\n",
      " [-1.01341867 -0.04361163]]\n",
      "\n"
     ]
    }
   ],
   "source": [
    "AX=np.einsum('ik,kj->ij', A, X)\n",
    "print(f'A:\\n{A}\\n')\n",
    "print(f'AX:\\n{AX}\\n')"
   ]
  },
  {
   "cell_type": "markdown",
   "metadata": {},
   "source": [
    "# Node Classification"
   ]
  },
  {
   "cell_type": "code",
   "execution_count": 13,
   "metadata": {},
   "outputs": [],
   "source": [
    "import tensorflow as tf\n",
    "import spektral"
   ]
  },
  {
   "cell_type": "code",
   "execution_count": 14,
   "metadata": {},
   "outputs": [
    {
     "name": "stdout",
     "output_type": "stream",
     "text": [
      "Loading cora dataset\n",
      "Pre-processing node features\n"
     ]
    }
   ],
   "source": [
    "A, X, labels, train_mask, val_mask, test_mask = spektral.datasets.citation.load_data(dataset_name='cora')"
   ]
  },
  {
   "cell_type": "code",
   "execution_count": 15,
   "metadata": {},
   "outputs": [
    {
     "name": "stdout",
     "output_type": "stream",
     "text": [
      "X: (2708, 1433)\n",
      "A: (2708, 2708)\n",
      "Y: (2708, 7)\n"
     ]
    }
   ],
   "source": [
    "X,A = X.todense(),A.todense()\n",
    "\n",
    "A = A + np.eye(A.shape[0])\n",
    "X = X.astype('float32')\n",
    "A = A.astype('float32')\n",
    "\n",
    "print('X:',X.shape)\n",
    "print('A:',A.shape)\n",
    "# Labels\n",
    "print('Y:',labels.shape)"
   ]
  },
  {
   "cell_type": "code",
   "execution_count": 16,
   "metadata": {},
   "outputs": [
    {
     "name": "stdout",
     "output_type": "stream",
     "text": [
      "[[0. 0. 0. ... 0. 0. 0.]]\n",
      "[[1. 0. 0. ... 0. 0. 0.]]\n",
      "[0 0 0 1 0 0 0]\n"
     ]
    }
   ],
   "source": [
    "print(X[0])\n",
    "print(A[0])\n",
    "print(labels[0])"
   ]
  },
  {
   "cell_type": "code",
   "execution_count": 17,
   "metadata": {},
   "outputs": [
    {
     "name": "stdout",
     "output_type": "stream",
     "text": [
      "True\n",
      "(2708,)\n",
      "140\n"
     ]
    }
   ],
   "source": [
    "print(train_mask[0])\n",
    "print(train_mask.shape)\n",
    "print(np.sum(train_mask)) # True"
   ]
  },
  {
   "cell_type": "code",
   "execution_count": 18,
   "metadata": {},
   "outputs": [
    {
     "name": "stdout",
     "output_type": "stream",
     "text": [
      "False\n",
      "(2708,)\n",
      "500\n"
     ]
    }
   ],
   "source": [
    "print(val_mask[0])\n",
    "print(val_mask.shape)\n",
    "print(np.sum(val_mask)) # True"
   ]
  },
  {
   "cell_type": "code",
   "execution_count": 19,
   "metadata": {},
   "outputs": [
    {
     "name": "stdout",
     "output_type": "stream",
     "text": [
      "False\n",
      "(2708,)\n",
      "1000\n"
     ]
    }
   ],
   "source": [
    "print(test_mask[0])\n",
    "print(test_mask.shape)\n",
    "print(np.sum(test_mask)) # True"
   ]
  },
  {
   "cell_type": "code",
   "execution_count": 20,
   "metadata": {},
   "outputs": [],
   "source": [
    "def masked_softmax_cross_entropy(logits, labels, masks):\n",
    "    loss = tf.nn.softmax_cross_entropy_with_logits(logits=logits, labels=labels)\n",
    "    masks = tf.cast(masks, dtype=tf.float32)\n",
    "    masks /= tf.reduce_mean(masks)\n",
    "    loss *= masks\n",
    "    return tf.reduce_mean(loss)"
   ]
  },
  {
   "cell_type": "code",
   "execution_count": 21,
   "metadata": {},
   "outputs": [],
   "source": [
    "def masked_accuracy(logits, labels, masks):\n",
    "    correct_prediction = tf.equal(tf.argmax(logits, 1), tf.argmax(labels, 1))\n",
    "    accuracy_all = tf.cast(correct_prediction, tf.float32)\n",
    "    masks = tf.cast(masks, dtype=tf.float32)\n",
    "    masks /= tf.reduce_mean(masks)\n",
    "    accuracy_all *= masks\n",
    "    return tf.reduce_mean(accuracy_all)"
   ]
  },
  {
   "cell_type": "code",
   "execution_count": 22,
   "metadata": {},
   "outputs": [],
   "source": [
    "def gnn(fts, adj, transform, activation):\n",
    "    seq_fts = transform(fts)\n",
    "    ret_fts = tf.matmul(adj, seq_fts)\n",
    "    return activation(ret_fts)"
   ]
  },
  {
   "cell_type": "code",
   "execution_count": 23,
   "metadata": {},
   "outputs": [],
   "source": [
    "def train_cora(fts, adj, gnn_fn, units=32, epochs=200, lr=.01):\n",
    "    lyr_1 = tf.keras.layers.Dense(units)\n",
    "    lyr_2 = tf.keras.layers.Dense(7)  # for 7 classes\n",
    "\n",
    "    def cora_gnn(fts, adj):\n",
    "        hidden = gnn_fn(fts, adj, lyr_1, tf.nn.relu)\n",
    "        logits = gnn_fn(hidden, adj, lyr_2, tf.identity)\n",
    "        return logits\n",
    "\n",
    "    optimizer = tf.keras.optimizers.Adam(learning_rate=lr)\n",
    "    best_accuracy = 0.0\n",
    "\n",
    "    for ep in range(epochs + 1):\n",
    "        with tf.GradientTape() as t:\n",
    "            logits = cora_gnn(fts, adj)\n",
    "            loss = masked_softmax_cross_entropy(logits, labels, train_mask)\n",
    "        variables = t.watched_variables()\n",
    "        grad = t.gradient(loss, variables)\n",
    "        optimizer.apply_gradients(zip(grad, variables))\n",
    "\n",
    "        logits = cora_gnn(fts, adj)\n",
    "        val_accuracy = masked_accuracy(logits, labels, val_mask)\n",
    "        test_accuracy = masked_accuracy(logits, labels, test_mask)\n",
    "\n",
    "        if val_accuracy > best_accuracy:\n",
    "            best_accuracy = val_accuracy\n",
    "            print(f'Epoch {ep} | Traninng Loss: {loss.numpy():.3f} | Val acc: {val_accuracy.numpy():.3f} Test Acc: {test_accuracy.numpy():.3f}| ')\n",
    "    print('Completed')"
   ]
  },
  {
   "cell_type": "code",
   "execution_count": 24,
   "metadata": {},
   "outputs": [
    {
     "name": "stdout",
     "output_type": "stream",
     "text": [
      "Sum Pooling of neighbours\n",
      "Epoch 0 | Traninng Loss: 2.013 | Val acc: 0.074 Test Acc: 0.097| \n",
      "Epoch 1 | Traninng Loss: 2.036 | Val acc: 0.424 Test Acc: 0.443| \n",
      "Epoch 2 | Traninng Loss: 1.687 | Val acc: 0.432 Test Acc: 0.436| \n",
      "Epoch 3 | Traninng Loss: 1.500 | Val acc: 0.540 Test Acc: 0.566| \n",
      "Epoch 4 | Traninng Loss: 1.375 | Val acc: 0.598 Test Acc: 0.618| \n",
      "Epoch 5 | Traninng Loss: 1.242 | Val acc: 0.680 Test Acc: 0.668| \n",
      "Epoch 6 | Traninng Loss: 1.146 | Val acc: 0.718 Test Acc: 0.716| \n",
      "Epoch 7 | Traninng Loss: 1.050 | Val acc: 0.746 Test Acc: 0.742| \n",
      "Epoch 8 | Traninng Loss: 0.954 | Val acc: 0.758 Test Acc: 0.760| \n",
      "Epoch 9 | Traninng Loss: 0.865 | Val acc: 0.770 Test Acc: 0.771| \n",
      "Completed\n"
     ]
    }
   ],
   "source": [
    "print('Sum Pooling of neighbours')\n",
    "train_cora(X, A, gnn)"
   ]
  },
  {
   "cell_type": "code",
   "execution_count": 25,
   "metadata": {},
   "outputs": [],
   "source": [
    "# neighbours of neighbours\n",
    "neighbours_of_neighbours_scalar=.1\n",
    "A_neg= A+((A+A@A ==1) *1.0) * neighbours_of_neighbours_scalar \n",
    "A_neg = A_neg.astype('float32')"
   ]
  },
  {
   "cell_type": "code",
   "execution_count": 26,
   "metadata": {},
   "outputs": [
    {
     "name": "stdout",
     "output_type": "stream",
     "text": [
      "Sum Pooling of neighbours\n",
      "Epoch 0 | Traninng Loss: 1.872 | Val acc: 0.112 Test Acc: 0.144| \n",
      "Epoch 1 | Traninng Loss: 1.867 | Val acc: 0.382 Test Acc: 0.387| \n",
      "Epoch 2 | Traninng Loss: 1.913 | Val acc: 0.422 Test Acc: 0.435| \n",
      "Epoch 3 | Traninng Loss: 1.869 | Val acc: 0.646 Test Acc: 0.636| \n",
      "Epoch 4 | Traninng Loss: 1.491 | Val acc: 0.700 Test Acc: 0.706| \n",
      "Epoch 5 | Traninng Loss: 1.250 | Val acc: 0.702 Test Acc: 0.696| \n",
      "Epoch 14 | Traninng Loss: 0.770 | Val acc: 0.708 Test Acc: 0.722| \n",
      "Epoch 17 | Traninng Loss: 0.627 | Val acc: 0.732 Test Acc: 0.753| \n",
      "Epoch 19 | Traninng Loss: 0.580 | Val acc: 0.742 Test Acc: 0.752| \n",
      "Epoch 20 | Traninng Loss: 0.567 | Val acc: 0.748 Test Acc: 0.756| \n",
      "Epoch 73 | Traninng Loss: 0.106 | Val acc: 0.752 Test Acc: 0.738| \n",
      "Completed\n"
     ]
    }
   ],
   "source": [
    "print('Sum Pooling of neighbours')\n",
    "train_cora(X, A_neg, gnn)"
   ]
  },
  {
   "cell_type": "code",
   "execution_count": 27,
   "metadata": {},
   "outputs": [
    {
     "name": "stdout",
     "output_type": "stream",
     "text": [
      "Only itself\n",
      "Epoch 0 | Traninng Loss: 1.947 | Val acc: 0.166 Test Acc: 0.167| \n",
      "Epoch 1 | Traninng Loss: 1.933 | Val acc: 0.304 Test Acc: 0.282| \n",
      "Epoch 2 | Traninng Loss: 1.914 | Val acc: 0.452 Test Acc: 0.416| \n",
      "Epoch 3 | Traninng Loss: 1.888 | Val acc: 0.498 Test Acc: 0.451| \n",
      "Epoch 8 | Traninng Loss: 1.713 | Val acc: 0.516 Test Acc: 0.468| \n",
      "Epoch 9 | Traninng Loss: 1.668 | Val acc: 0.530 Test Acc: 0.484| \n",
      "Epoch 10 | Traninng Loss: 1.621 | Val acc: 0.542 Test Acc: 0.490| \n",
      "Epoch 11 | Traninng Loss: 1.571 | Val acc: 0.550 Test Acc: 0.491| \n",
      "Epoch 16 | Traninng Loss: 1.290 | Val acc: 0.550 Test Acc: 0.502| \n",
      "Epoch 19 | Traninng Loss: 1.103 | Val acc: 0.554 Test Acc: 0.509| \n",
      "Epoch 20 | Traninng Loss: 1.039 | Val acc: 0.556 Test Acc: 0.513| \n",
      "Epoch 22 | Traninng Loss: 0.912 | Val acc: 0.558 Test Acc: 0.515| \n",
      "Epoch 31 | Traninng Loss: 0.420 | Val acc: 0.560 Test Acc: 0.526| \n",
      "Completed\n"
     ]
    }
   ],
   "source": [
    "# (2) Rely on yourself; Do not make use of your first neighbours: Node feature + Identity  matrix + GNN\n",
    "print('Only itself')\n",
    "train_cora(X, tf.eye(A.shape[0]), gnn)"
   ]
  },
  {
   "cell_type": "code",
   "execution_count": 28,
   "metadata": {},
   "outputs": [
    {
     "name": "stdout",
     "output_type": "stream",
     "text": [
      "Average Pooling\n",
      "Epoch 0 | Traninng Loss: 1.945 | Val acc: 0.180 Test Acc: 0.199| \n",
      "Epoch 1 | Traninng Loss: 1.931 | Val acc: 0.200 Test Acc: 0.231| \n",
      "Epoch 2 | Traninng Loss: 1.914 | Val acc: 0.204 Test Acc: 0.229| \n",
      "Epoch 5 | Traninng Loss: 1.846 | Val acc: 0.210 Test Acc: 0.246| \n",
      "Epoch 6 | Traninng Loss: 1.821 | Val acc: 0.238 Test Acc: 0.269| \n",
      "Epoch 7 | Traninng Loss: 1.794 | Val acc: 0.270 Test Acc: 0.297| \n",
      "Epoch 8 | Traninng Loss: 1.765 | Val acc: 0.288 Test Acc: 0.324| \n",
      "Epoch 9 | Traninng Loss: 1.735 | Val acc: 0.330 Test Acc: 0.364| \n",
      "Epoch 10 | Traninng Loss: 1.702 | Val acc: 0.394 Test Acc: 0.410| \n",
      "Epoch 11 | Traninng Loss: 1.667 | Val acc: 0.444 Test Acc: 0.458| \n",
      "Epoch 12 | Traninng Loss: 1.630 | Val acc: 0.520 Test Acc: 0.532| \n",
      "Epoch 13 | Traninng Loss: 1.592 | Val acc: 0.586 Test Acc: 0.590| \n",
      "Epoch 14 | Traninng Loss: 1.552 | Val acc: 0.642 Test Acc: 0.630| \n",
      "Epoch 15 | Traninng Loss: 1.511 | Val acc: 0.672 Test Acc: 0.668| \n",
      "Epoch 16 | Traninng Loss: 1.469 | Val acc: 0.686 Test Acc: 0.700| \n",
      "Epoch 17 | Traninng Loss: 1.425 | Val acc: 0.710 Test Acc: 0.717| \n",
      "Epoch 18 | Traninng Loss: 1.380 | Val acc: 0.722 Test Acc: 0.734| \n",
      "Epoch 19 | Traninng Loss: 1.333 | Val acc: 0.734 Test Acc: 0.748| \n",
      "Epoch 20 | Traninng Loss: 1.287 | Val acc: 0.738 Test Acc: 0.763| \n",
      "Epoch 21 | Traninng Loss: 1.239 | Val acc: 0.746 Test Acc: 0.768| \n",
      "Epoch 22 | Traninng Loss: 1.191 | Val acc: 0.752 Test Acc: 0.780| \n",
      "Epoch 23 | Traninng Loss: 1.143 | Val acc: 0.762 Test Acc: 0.792| \n",
      "Epoch 24 | Traninng Loss: 1.096 | Val acc: 0.768 Test Acc: 0.801| \n",
      "Epoch 25 | Traninng Loss: 1.048 | Val acc: 0.778 Test Acc: 0.802| \n",
      "Epoch 26 | Traninng Loss: 1.000 | Val acc: 0.780 Test Acc: 0.806| \n",
      "Epoch 28 | Traninng Loss: 0.908 | Val acc: 0.786 Test Acc: 0.812| \n",
      "Epoch 29 | Traninng Loss: 0.863 | Val acc: 0.788 Test Acc: 0.815| \n",
      "Epoch 31 | Traninng Loss: 0.777 | Val acc: 0.792 Test Acc: 0.815| \n",
      "Epoch 34 | Traninng Loss: 0.658 | Val acc: 0.796 Test Acc: 0.822| \n",
      "Epoch 38 | Traninng Loss: 0.522 | Val acc: 0.798 Test Acc: 0.824| \n",
      "Epoch 40 | Traninng Loss: 0.464 | Val acc: 0.800 Test Acc: 0.824| \n",
      "Epoch 41 | Traninng Loss: 0.437 | Val acc: 0.802 Test Acc: 0.826| \n",
      "Completed\n"
     ]
    }
   ],
   "source": [
    "# (3) Make use of average of  your first neighbours (1) Node feature + Degree normalized ADJ matrix + GNN\n",
    "print('Average Pooling')\n",
    "degree_matrix = tf.reduce_sum(A, axis=-1)\n",
    "train_cora(X, A / degree_matrix, gnn)"
   ]
  },
  {
   "cell_type": "code",
   "execution_count": 29,
   "metadata": {},
   "outputs": [
    {
     "name": "stdout",
     "output_type": "stream",
     "text": [
      "Epoch 0 | Traninng Loss: 1.946 | Val acc: 0.130 Test Acc: 0.139| \n",
      "Epoch 6 | Traninng Loss: 1.885 | Val acc: 0.134 Test Acc: 0.146| \n",
      "Epoch 7 | Traninng Loss: 1.870 | Val acc: 0.202 Test Acc: 0.213| \n",
      "Epoch 8 | Traninng Loss: 1.854 | Val acc: 0.262 Test Acc: 0.300| \n",
      "Epoch 9 | Traninng Loss: 1.837 | Val acc: 0.356 Test Acc: 0.398| \n",
      "Epoch 10 | Traninng Loss: 1.820 | Val acc: 0.502 Test Acc: 0.516| \n",
      "Epoch 11 | Traninng Loss: 1.801 | Val acc: 0.574 Test Acc: 0.582| \n",
      "Epoch 12 | Traninng Loss: 1.780 | Val acc: 0.626 Test Acc: 0.625| \n",
      "Epoch 13 | Traninng Loss: 1.758 | Val acc: 0.654 Test Acc: 0.652| \n",
      "Epoch 14 | Traninng Loss: 1.735 | Val acc: 0.678 Test Acc: 0.681| \n",
      "Epoch 15 | Traninng Loss: 1.710 | Val acc: 0.692 Test Acc: 0.698| \n",
      "Epoch 16 | Traninng Loss: 1.683 | Val acc: 0.712 Test Acc: 0.718| \n",
      "Epoch 17 | Traninng Loss: 1.654 | Val acc: 0.718 Test Acc: 0.735| \n",
      "Epoch 18 | Traninng Loss: 1.624 | Val acc: 0.734 Test Acc: 0.751| \n",
      "Epoch 19 | Traninng Loss: 1.594 | Val acc: 0.750 Test Acc: 0.760| \n",
      "Epoch 20 | Traninng Loss: 1.562 | Val acc: 0.752 Test Acc: 0.772| \n",
      "Epoch 21 | Traninng Loss: 1.528 | Val acc: 0.756 Test Acc: 0.777| \n",
      "Epoch 22 | Traninng Loss: 1.494 | Val acc: 0.764 Test Acc: 0.778| \n",
      "Epoch 23 | Traninng Loss: 1.458 | Val acc: 0.770 Test Acc: 0.778| \n",
      "Epoch 27 | Traninng Loss: 1.308 | Val acc: 0.772 Test Acc: 0.780| \n",
      "Epoch 28 | Traninng Loss: 1.269 | Val acc: 0.774 Test Acc: 0.785| \n",
      "Epoch 41 | Traninng Loss: 0.806 | Val acc: 0.776 Test Acc: 0.787| \n",
      "Epoch 48 | Traninng Loss: 0.625 | Val acc: 0.778 Test Acc: 0.784| \n",
      "Epoch 57 | Traninng Loss: 0.462 | Val acc: 0.782 Test Acc: 0.789| \n",
      "Completed\n"
     ]
    }
   ],
   "source": [
    "# neighbours of neighbours\n",
    "neighbours_of_neighbours_scalar=1.0\n",
    "A_neg= A+((A+A@A ==1) *1.0) * neighbours_of_neighbours_scalar \n",
    "A_neg = A_neg.astype('float32')\n",
    "\n",
    "degree_matrix_A_neg = tf.reduce_sum(A_neg, axis=-1)\n",
    "train_cora(X, A_neg / degree_matrix_A_neg, gnn)"
   ]
  },
  {
   "cell_type": "code",
   "execution_count": 30,
   "metadata": {},
   "outputs": [
    {
     "name": "stdout",
     "output_type": "stream",
     "text": [
      "Normalized Pooling\n",
      "Epoch 0 | Traninng Loss: 1.946 | Val acc: 0.358 Test Acc: 0.395| \n",
      "Epoch 1 | Traninng Loss: 1.935 | Val acc: 0.378 Test Acc: 0.429| \n",
      "Epoch 2 | Traninng Loss: 1.921 | Val acc: 0.414 Test Acc: 0.443| \n",
      "Epoch 3 | Traninng Loss: 1.901 | Val acc: 0.446 Test Acc: 0.475| \n",
      "Epoch 4 | Traninng Loss: 1.881 | Val acc: 0.482 Test Acc: 0.524| \n",
      "Epoch 5 | Traninng Loss: 1.860 | Val acc: 0.522 Test Acc: 0.555| \n",
      "Epoch 6 | Traninng Loss: 1.838 | Val acc: 0.554 Test Acc: 0.578| \n",
      "Epoch 7 | Traninng Loss: 1.814 | Val acc: 0.580 Test Acc: 0.622| \n",
      "Epoch 8 | Traninng Loss: 1.788 | Val acc: 0.620 Test Acc: 0.644| \n",
      "Epoch 9 | Traninng Loss: 1.760 | Val acc: 0.648 Test Acc: 0.677| \n",
      "Epoch 10 | Traninng Loss: 1.730 | Val acc: 0.664 Test Acc: 0.710| \n",
      "Epoch 11 | Traninng Loss: 1.698 | Val acc: 0.694 Test Acc: 0.720| \n",
      "Epoch 12 | Traninng Loss: 1.665 | Val acc: 0.712 Test Acc: 0.741| \n",
      "Epoch 13 | Traninng Loss: 1.630 | Val acc: 0.720 Test Acc: 0.756| \n",
      "Epoch 14 | Traninng Loss: 1.594 | Val acc: 0.740 Test Acc: 0.765| \n",
      "Epoch 15 | Traninng Loss: 1.556 | Val acc: 0.746 Test Acc: 0.774| \n",
      "Epoch 16 | Traninng Loss: 1.516 | Val acc: 0.750 Test Acc: 0.777| \n",
      "Epoch 17 | Traninng Loss: 1.474 | Val acc: 0.760 Test Acc: 0.780| \n",
      "Epoch 18 | Traninng Loss: 1.431 | Val acc: 0.764 Test Acc: 0.783| \n",
      "Epoch 19 | Traninng Loss: 1.387 | Val acc: 0.768 Test Acc: 0.784| \n",
      "Epoch 20 | Traninng Loss: 1.343 | Val acc: 0.776 Test Acc: 0.786| \n",
      "Epoch 21 | Traninng Loss: 1.297 | Val acc: 0.780 Test Acc: 0.788| \n",
      "Epoch 22 | Traninng Loss: 1.250 | Val acc: 0.788 Test Acc: 0.793| \n",
      "Epoch 23 | Traninng Loss: 1.203 | Val acc: 0.792 Test Acc: 0.800| \n",
      "Epoch 26 | Traninng Loss: 1.060 | Val acc: 0.800 Test Acc: 0.800| \n",
      "Completed\n"
     ]
    }
   ],
   "source": [
    "# (4) It is a good idea to normalize adjesonsy matrix\n",
    "norm_degr = tf.linalg.diag(1.0 / tf.sqrt(degree_matrix))\n",
    "norm_A = tf.linalg.matmul(norm_degr, tf.matmul(A, norm_degr))\n",
    "print('Normalized Pooling')\n",
    "train_cora(X, norm_A, gnn)"
   ]
  }
 ],
 "metadata": {
  "kernelspec": {
   "display_name": "pDL",
   "language": "python",
   "name": "pdl"
  },
  "language_info": {
   "codemirror_mode": {
    "name": "ipython",
    "version": 3
   },
   "file_extension": ".py",
   "mimetype": "text/x-python",
   "name": "python",
   "nbconvert_exporter": "python",
   "pygments_lexer": "ipython3",
   "version": "3.8.10"
  }
 },
 "nbformat": 4,
 "nbformat_minor": 4
}
