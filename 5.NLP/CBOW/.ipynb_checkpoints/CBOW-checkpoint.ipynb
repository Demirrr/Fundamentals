{
 "cells": [
  {
   "cell_type": "code",
   "execution_count": 1,
   "metadata": {},
   "outputs": [],
   "source": [
    "from collections import defaultdict\n",
    "import time\n",
    "import random\n",
    "import numpy as np\n",
    "import torch\n",
    "from torch import nn\n",
    "from torch.autograd import Variable"
   ]
  },
  {
   "cell_type": "code",
   "execution_count": 2,
   "metadata": {},
   "outputs": [],
   "source": [
    "class BoW(torch.nn.Module):\n",
    "    def __init__(self, nwords, ntags):\n",
    "        super(BoW, self).__init__()\n",
    "        self.bias = Variable(torch.zeros(ntags),\n",
    "                             requires_grad=True)\n",
    "        self.embedding = nn.Embedding(nwords, ntags)\n",
    "        # initialize the weights with xavier uniform (Glorot, X. & Bengio, Y. (2010))\n",
    "        nn.init.xavier_uniform_(self.embedding.weight)\n",
    "\n",
    "    def forward(self, words):\n",
    "        emb = self.embedding(words)\n",
    "        out = torch.sum(emb, dim=0) + self.bias # size(out) = N\n",
    "        out = out.view(1, -1) # size(out) = 1 x N\n",
    "        return out"
   ]
  },
  {
   "cell_type": "code",
   "execution_count": 3,
   "metadata": {},
   "outputs": [],
   "source": [
    "class CBoW(torch.nn.Module):\n",
    "    def __init__(self, nwords, ntags, emb_size):\n",
    "        super(CBoW, self).__init__()\n",
    "        self.embedding = nn.Embedding(nwords, emb_size)\n",
    "        self.linear = nn.Linear(emb_size, ntags)\n",
    "        \n",
    "        nn.init.xavier_uniform_(self.embedding.weight)\n",
    "        nn.init.xavier_uniform_(self.linear.weight)\n",
    "\n",
    "    def forward(self, words):\n",
    "        emb = self.embedding(words)\n",
    "        emb_sum = torch.sum(emb, dim=0) # size(emb_sum) = emb_size\n",
    "        emb_sum = emb_sum.view(1, -1) # size(emb_sum) = 1 x emb_size\n",
    "        out = self.linear(emb_sum) # size(out) = 1 x ntags \n",
    "        return out"
   ]
  },
  {
   "cell_type": "code",
   "execution_count": 4,
   "metadata": {},
   "outputs": [],
   "source": [
    "class DeepCBoW(torch.nn.Module):\n",
    "    def __init__(self, nwords, ntags, nlayers, emb_size, hid_size):\n",
    "        super(DeepCBoW, self).__init__()\n",
    "        self.nlayers = nlayers\n",
    "\n",
    "        self.embedding = nn.Embedding(nwords, emb_size)\n",
    "        \n",
    "        nn.init.xavier_uniform_(self.embedding.weight)\n",
    "\n",
    "        # add nlayers number of layers\n",
    "        self.linears = nn.ModuleList([\n",
    "                nn.Linear(emb_size if i == 0 else hid_size, hid_size) \\\n",
    "                for i in range(nlayers)])\n",
    "        for i in range(nlayers):\n",
    "            nn.init.xavier_uniform_(self.linears[i].weight)\n",
    "\n",
    "        self.output_layer = nn.Linear(hid_size, ntags)\n",
    "        # initialize the weights with xavier uniform (Glorot, X. & Bengio, Y. (2010))\n",
    "        nn.init.xavier_uniform_(self.output_layer.weight)\n",
    "\n",
    "    def forward(self, words):\n",
    "        emb = self.embedding(words)\n",
    "        emb_sum = torch.sum(emb, dim=0) # size(emb_sum) = emb_size\n",
    "        h = emb_sum.view(1, -1) # size(h) = 1 x emb_size\n",
    "        for i in range(self.nlayers):\n",
    "            h = torch.tanh(self.linears[i](h))\n",
    "        out = self.output_layer(h)\n",
    "        return out\n"
   ]
  },
  {
   "cell_type": "markdown",
   "metadata": {},
   "source": [
    "# Data Preprocessing"
   ]
  },
  {
   "cell_type": "code",
   "execution_count": 5,
   "metadata": {},
   "outputs": [],
   "source": [
    "# Functions to read in the corpus\n",
    "w2i = defaultdict(lambda: len(w2i))\n",
    "t2i = defaultdict(lambda: len(t2i))\n",
    "UNK = w2i[\"<unk>\"]\n",
    "def read_dataset(filename):\n",
    "    with open(filename, \"r\") as f:\n",
    "        for line in f:\n",
    "            tag, words = line.lower().strip().split(\" ||| \")\n",
    "            yield ([w2i[x] for x in words.split(\" \")], t2i[tag])"
   ]
  },
  {
   "cell_type": "code",
   "execution_count": 6,
   "metadata": {},
   "outputs": [],
   "source": [
    "# Read in the data\n",
    "train = list(read_dataset(\"data/train.txt\"))\n",
    "w2i = defaultdict(lambda: UNK, w2i)\n",
    "dev = list(read_dataset(\"data/test.txt\"))\n",
    "nwords = len(w2i)\n",
    "ntags = len(t2i)"
   ]
  },
  {
   "cell_type": "markdown",
   "metadata": {},
   "source": [
    "# Bag of worlds"
   ]
  },
  {
   "cell_type": "code",
   "execution_count": 16,
   "metadata": {},
   "outputs": [],
   "source": [
    "def testing(model,test):\n",
    "    # Perform testing\n",
    "    test_correct = 0.0\n",
    "    for words, tag in test:\n",
    "        words = torch.tensor(words)\n",
    "        scores = model(words)[0].detach().cpu().numpy()\n",
    "        predict = np.argmax(scores)\n",
    "        if predict == tag:\n",
    "            test_correct += 1\n",
    "    print(\"Test acc=%.4f\" % (test_correct/len(test)))\n",
    "\n",
    "\n",
    "def training(model,criterion,optimizer,train,test):\n",
    "    for ITER in range(0,16):\n",
    "        # Perform training\n",
    "        random.shuffle(train)\n",
    "        train_loss = 0.0\n",
    "        start = time.time()\n",
    "        for words, tag in train:\n",
    "            tag = torch.tensor([tag])\n",
    "            scores = model(torch.tensor(words))\n",
    "            loss = criterion(scores, tag)\n",
    "            train_loss += loss.item()\n",
    "            optimizer.zero_grad()\n",
    "            loss.backward()\n",
    "            optimizer.step()\n",
    "\n",
    "        print(\"iter %r: train loss/sent=%.4f, time=%.2fs\" % (ITER, train_loss/len(train), time.time()-start))\n",
    "        if ITER%5==0:\n",
    "            testing(model,test)\n"
   ]
  },
  {
   "cell_type": "code",
   "execution_count": 17,
   "metadata": {},
   "outputs": [],
   "source": [
    "# initialize the model\n",
    "model = BoW(nwords, ntags)\n",
    "optimizer = torch.optim.Adam(model.parameters())"
   ]
  },
  {
   "cell_type": "code",
   "execution_count": 18,
   "metadata": {},
   "outputs": [
    {
     "name": "stdout",
     "output_type": "stream",
     "text": [
      "iter 0: train loss/sent=1.4740, time=9.54s\n",
      "Test acc=0.4027\n",
      "iter 1: train loss/sent=1.1225, time=9.45s\n",
      "iter 2: train loss/sent=0.9127, time=9.42s\n",
      "iter 3: train loss/sent=0.7692, time=9.48s\n",
      "iter 4: train loss/sent=0.6637, time=9.53s\n",
      "iter 5: train loss/sent=0.5814, time=9.50s\n",
      "Test acc=0.4109\n",
      "iter 6: train loss/sent=0.5169, time=9.44s\n",
      "iter 7: train loss/sent=0.4634, time=9.43s\n",
      "iter 8: train loss/sent=0.4193, time=9.44s\n",
      "iter 9: train loss/sent=0.3807, time=9.43s\n",
      "iter 10: train loss/sent=0.3490, time=9.73s\n",
      "Test acc=0.3964\n",
      "iter 11: train loss/sent=0.3210, time=9.62s\n",
      "iter 12: train loss/sent=0.2964, time=9.97s\n",
      "iter 13: train loss/sent=0.2755, time=9.75s\n",
      "iter 14: train loss/sent=0.2553, time=9.73s\n",
      "iter 15: train loss/sent=0.2385, time=9.66s\n",
      "Test acc=0.3864\n"
     ]
    }
   ],
   "source": [
    "training(model,nn.CrossEntropyLoss(),optimizer,train,dev)"
   ]
  },
  {
   "cell_type": "markdown",
   "metadata": {},
   "source": [
    "# CBOW"
   ]
  },
  {
   "cell_type": "code",
   "execution_count": 19,
   "metadata": {},
   "outputs": [],
   "source": [
    "# initialize the model\n",
    "EMB_SIZE=20\n",
    "model = CBoW(nwords, ntags, EMB_SIZE)"
   ]
  },
  {
   "cell_type": "code",
   "execution_count": 20,
   "metadata": {},
   "outputs": [
    {
     "name": "stdout",
     "output_type": "stream",
     "text": [
      "iter 0: train loss/sent=1.4213, time=31.05s\n",
      "Test acc=0.4253\n",
      "iter 1: train loss/sent=0.8960, time=34.74s\n",
      "iter 2: train loss/sent=0.5288, time=34.72s\n",
      "iter 3: train loss/sent=0.3330, time=34.18s\n",
      "iter 4: train loss/sent=0.2265, time=34.39s\n",
      "iter 5: train loss/sent=0.1597, time=37.12s\n",
      "Test acc=0.3738\n",
      "iter 6: train loss/sent=0.1194, time=34.40s\n",
      "iter 7: train loss/sent=0.0876, time=36.41s\n",
      "iter 8: train loss/sent=0.0648, time=35.29s\n",
      "iter 9: train loss/sent=0.0496, time=37.03s\n",
      "iter 10: train loss/sent=0.0371, time=34.62s\n",
      "Test acc=0.3643\n",
      "iter 11: train loss/sent=0.0274, time=35.08s\n",
      "iter 12: train loss/sent=0.0229, time=34.77s\n",
      "iter 13: train loss/sent=0.0163, time=35.57s\n",
      "iter 14: train loss/sent=0.0140, time=36.26s\n",
      "iter 15: train loss/sent=0.0112, time=35.42s\n",
      "Test acc=0.3471\n"
     ]
    }
   ],
   "source": [
    "training(model,nn.CrossEntropyLoss(),torch.optim.Adam(model.parameters()),train,dev)"
   ]
  },
  {
   "cell_type": "code",
   "execution_count": 21,
   "metadata": {},
   "outputs": [
    {
     "name": "stdout",
     "output_type": "stream",
     "text": [
      "Test acc=0.9981\n"
     ]
    }
   ],
   "source": [
    "testing(model,train)"
   ]
  },
  {
   "cell_type": "markdown",
   "metadata": {},
   "source": [
    "# Deep CBOW"
   ]
  },
  {
   "cell_type": "code",
   "execution_count": null,
   "metadata": {},
   "outputs": [
    {
     "name": "stdout",
     "output_type": "stream",
     "text": [
      "iter 0: train loss/sent=1.4338, time=93.87s\n",
      "Test acc=0.4000\n",
      "iter 1: train loss/sent=1.0111, time=104.94s\n",
      "iter 2: train loss/sent=0.6412, time=104.80s\n",
      "iter 3: train loss/sent=0.3960, time=104.48s\n"
     ]
    }
   ],
   "source": [
    "# initialize the model\n",
    "EMB_SIZE = 64\n",
    "HID_SIZE = 64\n",
    "NLAYERS = 2\n",
    "model = DeepCBoW(nwords, ntags, NLAYERS, EMB_SIZE, HID_SIZE)\n",
    "\n",
    "training(model,nn.CrossEntropyLoss(),torch.optim.Adam(model.parameters()),train,dev)"
   ]
  }
 ],
 "metadata": {
  "kernelspec": {
   "display_name": "Python [conda env:pDL] *",
   "language": "python",
   "name": "conda-env-pDL-py"
  },
  "language_info": {
   "codemirror_mode": {
    "name": "ipython",
    "version": 3
   },
   "file_extension": ".py",
   "mimetype": "text/x-python",
   "name": "python",
   "nbconvert_exporter": "python",
   "pygments_lexer": "ipython3",
   "version": "3.8.6"
  }
 },
 "nbformat": 4,
 "nbformat_minor": 4
}
