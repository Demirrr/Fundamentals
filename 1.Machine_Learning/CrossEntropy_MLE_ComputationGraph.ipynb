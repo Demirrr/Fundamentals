{
 "cells": [
  {
   "cell_type": "markdown",
   "id": "038e3bbb",
   "metadata": {},
   "source": [
    "# Cross Entropy, MLE, Logistic Regression, Computation Graph\n",
    "\n",
    "In this tutorial, we explained the following concepts\n",
    "1. Maximum Likelihood Estimation\n",
    "2. Cross Entropy\n",
    "3. Logistic Regression\n",
    "4. Sigmoid function\n",
    "5. Backpropagation\n",
    "\n",
    "\n",
    "This tutorial is based on [Deep-Learning Andreas Gieger](https://www.youtube.com/watch?v=_Z50ROXYs6s&list=PL05umP7R6ij3NTWIdtMbfvX7Z-4WEXRqD&index=4)"
   ]
  },
  {
   "cell_type": "markdown",
   "id": "8b94fa76",
   "metadata": {},
   "source": [
    "\n",
    "\n",
    "## 1. $$ w = argmax_w P(\\mathcal D ; w) $$\n",
    "$w$ is our estimate that maximizes the likelihood of observing $\\mathcal D$.\n"
   ]
  },
  {
   "cell_type": "markdown",
   "id": "f829d7e0",
   "metadata": {},
   "source": [
    "\n",
    "\n",
    "## 2. $$ w=argmax_{\\mathbf{w}} \\prod_{i=1}^n P(y_i, x_i;w)$$\n",
    "\n",
    "\n",
    "$x_i\\in \\mathbb R$ ,$y_i \\in {0,1}$"
   ]
  },
  {
   "cell_type": "markdown",
   "id": "a32f84fc",
   "metadata": {},
   "source": [
    "## 3. $$ w=argmax_{\\mathbf{w}} \\prod_{i=1}^n P(y_i | x_i;w) P(x_i;w)$$\n"
   ]
  },
  {
   "cell_type": "markdown",
   "id": "2d996ac4",
   "metadata": {},
   "source": [
    "## 4. $$ w=argmax_{\\mathbf{w}} \\prod_{i=1}^n P(y_i | x_i;w)$$\n"
   ]
  },
  {
   "cell_type": "markdown",
   "id": "2d4f9ed5",
   "metadata": {},
   "source": [
    "## 5. $$ w=argmax_{\\mathbf{w}} \\sum_{i=1}^n P(y_i | x_i;w)$$\n"
   ]
  },
  {
   "cell_type": "markdown",
   "id": "4a0e61b9",
   "metadata": {},
   "source": [
    "## 6. $$ w=argmax_{\\mathbf{w}} \\sum_{i=1}^n log P(y_i | x_i;w)$$\n"
   ]
  },
  {
   "cell_type": "markdown",
   "id": "86cd4246",
   "metadata": {},
   "source": [
    "## 7. $$ w=argmin_{\\mathbf{w}} \\sum_{i=1}^n -log P(y_i | x_i;w)$$\n",
    "\n",
    "\n",
    "**Objective: Minimite the negative log likelihood function**"
   ]
  },
  {
   "cell_type": "markdown",
   "id": "49cb7f68",
   "metadata": {},
   "source": [
    "## 8. $$ w=argmin_{\\mathbf{w}} \\sum_{i=1}^n -log P(y_i | x_i;w)$$\n",
    "\n",
    "\n",
    "**Insert model's assumption over labels** \n",
    "\n",
    "### Bernoulli Distribution $$ P(y | x;w)=\\hat y^y (1 - \\hat y)^{(1-y)},$$\n",
    "\n",
    "where $\\hat y = f_w (x)$\n"
   ]
  },
  {
   "cell_type": "markdown",
   "id": "45dd0b93",
   "metadata": {},
   "source": [
    "## 9. $$ w=argmin_{\\mathbf{w}} \\sum_{i=1}^n -log \\big(\\hat y^y (1 - \\hat y)^{(1-y)} \\big)$$\n",
    "\n"
   ]
  },
  {
   "cell_type": "markdown",
   "id": "1ed234b8",
   "metadata": {},
   "source": [
    "## 10. $$ w=argmin_{\\mathbf{w}} \\sum_{i=1}^n - y_i log\\hat y - (1-y) log(1-\\hat y)$$\n",
    "\n",
    "\n",
    "**Binary Cross Entropy Loss function**"
   ]
  },
  {
   "cell_type": "code",
   "execution_count": 1,
   "id": "d13c5a1c",
   "metadata": {},
   "outputs": [
    {
     "data": {
      "image/png": "[encoded data removed]",
      "text/plain": [
       "<Figure size 432x288 with 1 Axes>"
      ]
     },
     "metadata": {
      "needs_background": "light"
     },
     "output_type": "display_data"
    }
   ],
   "source": [
    "import numpy as np\n",
    "import matplotlib.pyplot as plt\n",
    "yhat=np.linspace(0.01,0.99,50)\n",
    "plt.plot(yhat,-np.log(yhat),label =r'y = 1 : -log($\\hat{y}$)')\n",
    "plt.plot(yhat,-np.log(1-yhat),label=r'y = 0 : -log(1-$\\hat y$)')\n",
    "plt.ylabel(r'L(y,$\\hat y$)',rotation=0)\n",
    "plt.xlabel(r'$\\hat y$')\n",
    "plt.title('Binary Cross Entropy Loss')\n",
    "plt.legend()\n",
    "plt.show()"
   ]
  },
  {
   "cell_type": "markdown",
   "id": "9418ed6c",
   "metadata": {},
   "source": [
    "### 11. $$ w=argmin_{\\mathbf{w}} \\sum_{i=1}^n - y_i log \\Big( \\frac{1}{1+exp(-\\mathbf{w}^T \\mathbf{x} w_0)}\\Big)  - (1-y_i) log \\Big( 1- \\frac{1}{1+exp(-\\mathbf{w}^T \\mathbf{x} + w_0)} \\Big)$$\n"
   ]
  },
  {
   "cell_type": "markdown",
   "id": "24ec4e38",
   "metadata": {},
   "source": [
    "# Compute gradients w.r.r. $ \\mathbf w , b$\n",
    "\n",
    "## 1.  $$ \\nabla_\\mathbf{w} \\mathcal L (\\mathbf y , \\mathbf X , \\mathbf w , b)$$\n",
    "\n",
    "## 2. $$ \\nabla_\\mathbf{w} \\sum_i ^n \\mathcal L (y_i , \\mathbf{x}_i , \\mathbf{w} , b)$$\n",
    "\n",
    "## 3. $$ \\sum_i ^n \\mathcal \\nabla_\\mathbf{w} \\mathcal L (y_i , \\mathbf{x}_i , \\mathbf{w} , b)$$\n",
    "\n",
    "## 4. $$ \\sum_i ^n \\mathcal \\nabla_\\mathbf{w} ( -y_i log \\Big( \\frac{1}{1+exp(-\\mathbf{w}^T \\mathbf{x}_i w_0)}\\Big)  - (1-y_i) log \\Big( 1- \\frac{1}{1+exp(-\\mathbf{w}^T \\mathbf{x}_i + w_0)} \\Big) )$$"
   ]
  },
  {
   "cell_type": "markdown",
   "id": "154a9039",
   "metadata": {},
   "source": [
    "# Computation Graph \n",
    "\n",
    "Complex computations are decomposed into sequence of atomic computations.\n",
    "\n",
    "## Forward\n",
    "### 1. $$ u = \\mathbf w \\mathbf x_i +b $$\n",
    "### 2. $$ \\hat y_i = \\frac{1}{1+exp(-u)}$$\n",
    "### 3. $$ \\mathcal L = -y_i log \\hat y_i - (1-y_i) log (1-\\hat y)$$\n",
    "\n"
   ]
  },
  {
   "cell_type": "markdown",
   "id": "6b74f061",
   "metadata": {},
   "source": [
    "## Backward\n",
    "\n",
    "### 3. $$ \\frac{\\partial \\mathcal L}{\\partial \\hat y} = \\frac{\\hat y - y}{\\hat y (1-\\hat y)}$$\n",
    "\n",
    "### 2. $$ \\frac{\\partial \\mathcal L}{\\partial u} = \\frac{\\partial \\mathcal L}{\\partial \\hat y} \\frac{\\partial \\hat y}{ \\partial u} =  \\frac{\\hat{y} - y}{\\hat{y} (1-\\hat{y})} \\times \\Big( \\frac{1}{1+exp(-u)} \\times 1-\\frac{1}{1+exp(-u)}  \\Big)$$\n",
    "\n",
    "\n",
    "### 1. $$ \\frac{\\partial \\mathcal L}{\\partial b} = \\frac{\\partial \\mathcal L}{\\partial u} \\frac{\\partial u}{\\partial b} = \\frac{\\partial \\mathcal L}{\\partial u} $$\n",
    "\n",
    "\n",
    "### 1. $$ \\frac{\\partial \\mathcal L}{\\partial \\mathbf w} = \\frac{\\partial \\mathcal L}{\\partial u} \\frac{\\partial u}{\\partial \\mathbf w} = \\frac{\\partial \\mathcal L}{\\partial u} \\times \\mathbf x$$"
   ]
  },
  {
   "cell_type": "code",
   "execution_count": 2,
   "id": "6bfd1794",
   "metadata": {},
   "outputs": [],
   "source": [
    "class Sigmoid:\n",
    "    def __init__(self):\n",
    "        self.out=None\n",
    "    def __call__(self,u):\n",
    "        out=1/ (1+ np.exp(-u))\n",
    "        self.out=out\n",
    "        return out\n",
    "    def backward(self,dout):\n",
    "        return dout * (self.out * (1-self.out))\n",
    "\n",
    "class BCE:\n",
    "    def __init__(self):\n",
    "        self.y,self.yhat=None,None\n",
    "    def __call__(self,y,yhat):\n",
    "        assert y.shape==yhat.shape\n",
    "        assert y.shape[1]==1\n",
    "        self.y=y\n",
    "        self.yhat=yhat\n",
    "        return -self.y * np.log(self.yhat) - (1 - self.y ) * np.log(1-self.yhat)\n",
    "\n",
    "    def backward(self):\n",
    "        return (self.yhat - self.y)/(self.yhat*(1-self.yhat))\n",
    "\n",
    "class Layer:\n",
    "    def __init__(self,input_dim,output_dim):\n",
    "        self.w = np.random.randn(input_dim,output_dim)\n",
    "        self.b=np.zeros(output_dim).reshape(1,output_dim)\n",
    "        self.db=None\n",
    "        self.dw=None\n",
    "    def __call__(self,X):\n",
    "        self.X=X\n",
    "        return X@self.w + self.b\n",
    "    \n",
    "    def backward(self,ds):\n",
    "        self.db = np.sum(ds,keepdims=True)\n",
    "        self.dw = self.X.T @ ds \n",
    "        return ds @ self.w.T\n",
    "    \n",
    "    def update(self,lr=0.1):\n",
    "        self.w -= lr* self.dw\n",
    "        self.b -= lr*self.db    \n",
    "    "
   ]
  },
  {
   "cell_type": "markdown",
   "id": "7c65a6ac",
   "metadata": {},
   "source": [
    "# OR Problem"
   ]
  },
  {
   "cell_type": "code",
   "execution_count": 3,
   "id": "7d0aa9f9",
   "metadata": {},
   "outputs": [
    {
     "data": {
      "image/png": "[encoded data removed]",
      "text/plain": [
       "<Figure size 432x288 with 1 Axes>"
      ]
     },
     "metadata": {
      "needs_background": "light"
     },
     "output_type": "display_data"
    },
    {
     "name": "stdout",
     "output_type": "stream",
     "text": [
      "1.7778158165500177\n",
      "0.024267115293919\n",
      "0.011833861162723544\n",
      "0.007795555499732685\n",
      "0.005805529679573631\n",
      "0.004622606801075243\n",
      "0.003839149696924759\n",
      "0.0032822714619102763\n",
      "0.0028662020522665066\n",
      "0.002543582027442145\n"
     ]
    },
    {
     "data": {
      "text/plain": [
       "(array([[0.00507162],\n",
       "        [0.99797204],\n",
       "        [0.99797207],\n",
       "        [0.99999998]]),\n",
       " array([[0],\n",
       "        [1],\n",
       "        [1],\n",
       "        [1]]))"
      ]
     },
     "execution_count": 3,
     "metadata": {},
     "output_type": "execute_result"
    }
   ],
   "source": [
    "X=np.array([[0,0],[0,1],[1,0],[1,1]])\n",
    "y=np.array([0,1,1,1]).reshape(len(X),1)\n",
    "plt.scatter(X[:,0],X[:,1],c=['g' if i==1 else 'r' for i in y])\n",
    "plt.show()\n",
    "\n",
    "l1=Layer(input_dim=2,output_dim=1)\n",
    "sigma=Sigmoid()\n",
    "bce=BCE()\n",
    "\n",
    "\n",
    "for i in range(10000):\n",
    "    \n",
    "    yhat = sigma(l1(X))\n",
    "    loss = bce(y,yhat).mean()\n",
    "    if i%1000==0:\n",
    "        print(loss)    \n",
    " \n",
    "    l1.backward(sigma.backward(bce.backward()))\n",
    "    l1.update(0.1)\n",
    "    \n",
    "sigma(l1(X)),y"
   ]
  },
  {
   "cell_type": "markdown",
   "id": "72db1186",
   "metadata": {},
   "source": [
    "# AND Problem"
   ]
  },
  {
   "cell_type": "code",
   "execution_count": 4,
   "id": "31fe4ac3",
   "metadata": {},
   "outputs": [
    {
     "data": {
      "image/png": "[encoded data removed]",
      "text/plain": [
       "<Figure size 432x288 with 1 Axes>"
      ]
     },
     "metadata": {
      "needs_background": "light"
     },
     "output_type": "display_data"
    },
    {
     "name": "stdout",
     "output_type": "stream",
     "text": [
      "0.7608204492969763\n",
      "0.042676602581151066\n",
      "0.021701179838078424\n",
      "0.014477674280740569\n",
      "0.010844284078345649\n",
      "0.008662351384025588\n",
      "0.007208549607579662\n",
      "0.0061711607065438445\n",
      "0.005393981766765294\n",
      "0.004790170258644427\n"
     ]
    },
    {
     "data": {
      "text/plain": [
       "(array([[1.83739122e-07],\n",
       "        [5.05265866e-03],\n",
       "        [5.05265866e-03],\n",
       "        [9.92925777e-01]]),\n",
       " array([[0],\n",
       "        [0],\n",
       "        [0],\n",
       "        [1]]))"
      ]
     },
     "execution_count": 4,
     "metadata": {},
     "output_type": "execute_result"
    }
   ],
   "source": [
    "X=np.array([[0,0],[0,1],[1,0],[1,1]])\n",
    "y=np.array([0,0,0,1]).reshape(len(X),1)\n",
    "plt.scatter(X[:,0],X[:,1],c=['g' if i==1 else 'r' for i in y])\n",
    "plt.show()\n",
    "\n",
    "l1=Layer(input_dim=2,output_dim=1)\n",
    "sigma=Sigmoid()\n",
    "bce=BCE()\n",
    "\n",
    "for i in range(10000):\n",
    "    \n",
    "    yhat = sigma(l1(X))\n",
    "    loss = bce(y,yhat).mean()\n",
    "    if i%1000==0:\n",
    "        print(loss)    \n",
    " \n",
    "    l1.backward(sigma.backward(bce.backward()))\n",
    "    l1.update(0.1)\n",
    "    \n",
    "sigma(l1(X)),y"
   ]
  },
  {
   "cell_type": "markdown",
   "id": "9eb76324",
   "metadata": {},
   "source": [
    "# XOR Problem"
   ]
  },
  {
   "cell_type": "code",
   "execution_count": 5,
   "id": "40da6d4f",
   "metadata": {},
   "outputs": [
    {
     "data": {
      "image/png": "[encoded data removed]",
      "text/plain": [
       "<Figure size 432x288 with 1 Axes>"
      ]
     },
     "metadata": {
      "needs_background": "light"
     },
     "output_type": "display_data"
    },
    {
     "name": "stdout",
     "output_type": "stream",
     "text": [
      "0.9146086840832177\n",
      "0.6931471805599457\n",
      "0.6931471805599452\n",
      "0.6931471805599453\n",
      "0.6931471805599453\n",
      "0.6931471805599453\n",
      "0.6931471805599453\n",
      "0.6931471805599453\n",
      "0.6931471805599453\n",
      "0.6931471805599453\n"
     ]
    },
    {
     "data": {
      "text/plain": [
       "(array([[0.5],\n",
       "        [0.5],\n",
       "        [0.5],\n",
       "        [0.5]]),\n",
       " array([[0],\n",
       "        [1],\n",
       "        [1],\n",
       "        [0]]))"
      ]
     },
     "execution_count": 5,
     "metadata": {},
     "output_type": "execute_result"
    }
   ],
   "source": [
    "X=np.array([[0,0],[0,1],[1,0],[1,1]])\n",
    "y=np.array([0,1,1,0]).reshape(len(X),1)\n",
    "plt.scatter(X[:,0],X[:,1],c=['g' if i==1 else 'r' for i in y])\n",
    "plt.show()\n",
    "\n",
    "l1=Layer(input_dim=2,output_dim=1)\n",
    "sigma=Sigmoid()\n",
    "bce=BCE()\n",
    "\n",
    "for i in range(10000):\n",
    "    \n",
    "    yhat = sigma(l1(X))\n",
    "    loss = bce(y,yhat).mean()\n",
    "    if i%1000==0:\n",
    "        print(loss)    \n",
    " \n",
    "    l1.backward(sigma.backward(bce.backward()))\n",
    "    l1.update(0.1)\n",
    "    \n",
    "sigma(l1(X)),y"
   ]
  },
  {
   "cell_type": "markdown",
   "id": "20543a54",
   "metadata": {},
   "source": [
    "# Problem: LR can not solve nonlinear problems \n",
    "\n",
    "# 1. Solution: Non-linear Feature Generation\n",
    "\n",
    "Non-linear features allow linear classifier to solve non-linear class. problems."
   ]
  },
  {
   "cell_type": "code",
   "execution_count": 6,
   "id": "c6cf726b",
   "metadata": {},
   "outputs": [
    {
     "name": "stdout",
     "output_type": "stream",
     "text": [
      "0.5860601985077812\n",
      "0.06582277051948623\n",
      "0.032864714835201106\n",
      "0.021749405110216558\n",
      "0.016217949978629145\n",
      "0.012917571018537886\n",
      "0.01072808197972416\n",
      "0.009170608075556842\n",
      "0.008006556785348283\n",
      "0.007103852024559324\n"
     ]
    },
    {
     "data": {
      "text/plain": [
       "(array([[0.00916455],\n",
       "        [0.99389364],\n",
       "        [0.99389364],\n",
       "        [0.0040688 ]]),\n",
       " array([[0],\n",
       "        [1],\n",
       "        [1],\n",
       "        [0]]))"
      ]
     },
     "execution_count": 6,
     "metadata": {},
     "output_type": "execute_result"
    }
   ],
   "source": [
    "# Adding a non-linear feature => x1,x2,x1x2\n",
    "X=np.array([[0,0,0],\n",
    "   [0,1,0],\n",
    "   [1,0,0],\n",
    "   [1,1,1]])\n",
    "y=np.array([0,1,1,0]).reshape(len(X),1)\n",
    "\n",
    "l1=Layer(input_dim=3,output_dim=1)\n",
    "sigma=Sigmoid()\n",
    "bce=BCE()\n",
    "\n",
    "for i in range(10000):\n",
    "    \n",
    "    yhat = sigma(l1(X))\n",
    "    loss = bce(y,yhat).mean()\n",
    "    if i%1000==0:\n",
    "        print(loss)    \n",
    " \n",
    "    l1.backward(sigma.backward(bce.backward()))\n",
    "    l1.update(0.1)\n",
    "    \n",
    "sigma(l1(X)),y"
   ]
  },
  {
   "cell_type": "markdown",
   "id": "9680dff6",
   "metadata": {},
   "source": [
    "# 2. Solution: Combining Multiple Logistic Regressions\n",
    "\n",
    "\n",
    "\n",
    "### The XOR  Problem ####\n",
    "\n",
    "| x1   x2 |XOR(x1,x2)|\n",
    "|---------|---------:|\n",
    "| 0     0 |    0     |\n",
    "| 0     1 |    1     |\n",
    "| 1     0 |    1     |\n",
    "| 1     1 |    1     |\n",
    "\n",
    "\n",
    "\n",
    "\n",
    "## $$ \\text{XOR}(x_1,x_2) = \\text{AND}( \\text{OR}(x_1,x_2), \\text{NAND}(x_1,x_2))$$\n",
    "\n",
    "This expression can be rewritten as a program of logistic regressors\n",
    "\n",
    "\n",
    "### $$h_1 = \\sigma(\\mathbf w_\\text{OR} ^T \\mathbf x + w_\\text{OR} )$$\n",
    "### $$h_2 = \\sigma(\\mathbf w_\\text{NAND} ^T \\mathbf x + w_\\text{NAND} )$$\n",
    "\n",
    "### $$\\hat y = \\sigma(\\mathbf w_\\text{AND} \\mathbf h + w_\\text{AND} )$$\n",
    "\n",
    "$\\mathbf h$ is a non-linear representation of $\\mathbf x$\n",
    "### Combine: $$ \\mathbf h =\\sigma \\Bigg( \\begin{bmatrix} \\mathbf w_\\text{OR} \\\\ \\mathbf w_\\text{NAND}\\end{bmatrix} \\mathbf x + \\begin{bmatrix}  w_\\text{OR} \\\\ w_\\text{NAND}\\end{bmatrix}\\Bigg)$$"
   ]
  },
  {
   "cell_type": "code",
   "execution_count": 7,
   "id": "a5cf9bb5",
   "metadata": {},
   "outputs": [
    {
     "data": {
      "image/png": "[encoded data removed]",
      "text/plain": [
       "<Figure size 432x288 with 1 Axes>"
      ]
     },
     "metadata": {
      "needs_background": "light"
     },
     "output_type": "display_data"
    },
    {
     "name": "stdout",
     "output_type": "stream",
     "text": [
      "0.7062161544679337\n",
      "0.3917861383279716\n",
      "0.3589147781493118\n",
      "0.353372404629145\n",
      "0.3512053006998447\n",
      "0.35006599476304734\n",
      "0.34936786190477087\n",
      "0.34889786585065574\n",
      "0.34856063041808133\n",
      "0.3483072464998801\n"
     ]
    },
    {
     "data": {
      "text/plain": [
       "(array([[0.00142225],\n",
       "        [0.49948307],\n",
       "        [0.99810176],\n",
       "        [0.5008934 ]]),\n",
       " array([[0],\n",
       "        [1],\n",
       "        [1],\n",
       "        [0]]))"
      ]
     },
     "execution_count": 7,
     "metadata": {},
     "output_type": "execute_result"
    }
   ],
   "source": [
    "X=np.array([[0,0],[0,1],[1,0],[1,1]])\n",
    "y=np.array([0,1,1,0]).reshape(len(X),1)\n",
    "plt.scatter(X[:,0],X[:,1],c=['g' if i==1 else 'r' for i in y])\n",
    "plt.show()\n",
    "\n",
    "h1=Layer(input_dim=2,output_dim=1)\n",
    "h2=Layer(input_dim=2,output_dim=1)\n",
    "h3=Layer(input_dim=2,output_dim=1)\n",
    "\n",
    "\n",
    "sigma1=Sigmoid()\n",
    "sigma2=Sigmoid()\n",
    "sigma3=Sigmoid()\n",
    "\n",
    "bce=BCE()\n",
    "\n",
    "for i in range(10000):\n",
    "    out_h1=sigma1(h1(X))\n",
    "\n",
    "    out_h2=sigma2(h2(X))\n",
    "    \n",
    "    bold_h=np.hstack((out_h1,out_h2))\n",
    "    \n",
    "    yhat=sigma3(h3(bold_h))\n",
    "    \n",
    "    loss = bce(y,yhat).mean()\n",
    "    if i%1000==0:\n",
    "        print(loss)    \n",
    " \n",
    "\n",
    "    \n",
    "    dl_bold_h=h3.backward(sigma3.backward(bce.backward()))\n",
    "    \n",
    "    \n",
    "    h1.backward(sigma1.backward(dl_bold_h[:,0][:,np.newaxis]))\n",
    "    h2.backward(sigma2.backward(dl_bold_h[:,1][:,np.newaxis]))\n",
    "    \n",
    "    \n",
    "    h1.update(0.1)\n",
    "    h2.update(0.1)\n",
    "    h3.update(0.1)\n",
    "\n",
    "sigma3(h3(np.hstack((sigma1(h1(X)),sigma2(h2(X)))))),y"
   ]
  }
 ],
 "metadata": {
  "kernelspec": {
   "display_name": "Python (temp)",
   "language": "python",
   "name": "temp"
  },
  "language_info": {
   "codemirror_mode": {
    "name": "ipython",
    "version": 3
   },
   "file_extension": ".py",
   "mimetype": "text/x-python",
   "name": "python",
   "nbconvert_exporter": "python",
   "pygments_lexer": "ipython3",
   "version": "3.9.12"
  }
 },
 "nbformat": 4,
 "nbformat_minor": 5
}
