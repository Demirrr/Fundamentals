{
 "cells": [
  {
   "cell_type": "markdown",
   "id": "94ea5b9e",
   "metadata": {},
   "source": [
    "https://github.com/gpleiss/temperature_scaling\n",
    "https://geoffpleiss.com/nn_calibration\n",
    "https://scikit-learn.org/stable/modules/calibration.html\n",
    "https://colab.research.google.com/drive/1H_XlTbNvjxlAXMW5NuBDWhxF3F2Osg1F?usp=sharing\n",
    "https://gist.github.com/huberl/56ac1a18a95a7a87730e36df781afb5f#file-t_scaling_optim-py\n",
    "https://geoffpleiss.com/nn_calibration\n",
    "\n",
    "\n",
    "https://scikit-learn.org/stable/auto_examples/calibration/plot_calibration_multiclass.html#sphx-glr-auto-examples-calibration-plot-calibration-multiclass-py"
   ]
  },
  {
   "cell_type": "code",
   "execution_count": null,
   "id": "8505a7d3",
   "metadata": {},
   "outputs": [],
   "source": []
  }
 ],
 "metadata": {
  "kernelspec": {
   "display_name": "pDL",
   "language": "python",
   "name": "pdl"
  },
  "language_info": {
   "codemirror_mode": {
    "name": "ipython",
    "version": 3
   },
   "file_extension": ".py",
   "mimetype": "text/x-python",
   "name": "python",
   "nbconvert_exporter": "python",
   "pygments_lexer": "ipython3",
   "version": "3.8.10"
  }
 },
 "nbformat": 4,
 "nbformat_minor": 5
}
