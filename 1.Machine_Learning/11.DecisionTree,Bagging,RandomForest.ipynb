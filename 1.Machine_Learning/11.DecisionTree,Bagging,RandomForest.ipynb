{
 "cells": [
  {
   "cell_type": "markdown",
   "id": "56ede5a4",
   "metadata": {},
   "source": [
    "## Decision Trees, Bagging, and Random Forest \n",
    "\n",
    "In this tutorial, we will implement Decision Trees for Classification and Regression from scratch. Next, we will highlight their shortcommings through the Bias-Variance Decomposition. Finaly, we will show how the Random Forest algoorthm emerges from Bagging and Decision Trees.\n",
    "\n",
    "\n",
    "This tutorial is based on amazing lectures of Kilian Weinberger\n",
    "[Lecture 17](https://www.cs.cornell.edu/courses/cs4780/2018fa/lectures/lecturenote17.html) and \n",
    "[Lecture 18](https://www.cs.cornell.edu/courses/cs4780/2018fa/lectures/lecturenote18.html). "
   ]
  },
  {
   "cell_type": "markdown",
   "id": "9bae0d17",
   "metadata": {},
   "source": [
    "### Motivation for Decision Trees\n",
    "Advantages of kNN\n",
    "In low dimensions kNN is actually quite powerful \n",
    "1. It can learn non-linear decision boundaries and \n",
    "2. It can handle multi-class problems. \n",
    "Disadvantages\n",
    "1. kNN needs the entire training data stored, i.e,. it requires a lot of storage\n",
    "2. As the size of training data increases$ testing time increases as we need to compute distances to all training inputs, \n",
    "3. We need to find a good distance metric.\n",
    "\n",
    "\n",
    "__Decision trees__ do not need even a single training data stored. Instead, we store learned rules. More specifically, we use the training data to build a tree structure that recursively divides the space into regions with similar labels."
   ]
  },
  {
   "cell_type": "markdown",
   "id": "dcbc9248",
   "metadata": {},
   "source": [
    "# Decision Tree"
   ]
  },
  {
   "cell_type": "markdown",
   "id": "bbc823b9",
   "metadata": {},
   "source": [
    "### SETUP\n",
    "$\\mathcal D = \\{ (x_i,y_i) \\}_{i=1} ^n ,$ where $y_i \\in \\{1,\\dots,c\\}$. Let $\\mathcal D_k \\subseteq \\mathcal D$, where $\\mathcal D_k = \\{(x,y) \\in \\mathcal D : y=k \\}$ all inputs with label $k$.\n",
    "\n",
    "The fract of inputs in the dataset with label $k$ is computed as \n",
    "$$ p_k = \\frac{|\\mathcal D_k |}{ | \\mathcal D |}$$\n",
    "\n",
    "\n",
    "## Gini Impurity\n",
    "\n",
    "$$ G(\\mathcal D) = \\sum_{k=1} ^c p_k (1 - p_k)$$\n",
    "Note that $c$ is the number of classes."
   ]
  },
  {
   "cell_type": "code",
   "execution_count": 1,
   "id": "3be4270e",
   "metadata": {},
   "outputs": [
    {
     "data": {
      "text/plain": [
       "Text(0.5, 1.0, 'Gini Impurity Binary 2p(1-p)')"
      ]
     },
     "execution_count": 1,
     "metadata": {},
     "output_type": "execute_result"
    },
    {
     "data": {
      "image/png": "[encoded data removed]",
      "text/plain": [
       "<Figure size 640x480 with 1 Axes>"
      ]
     },
     "metadata": {},
     "output_type": "display_data"
    }
   ],
   "source": [
    "%matplotlib inline\n",
    "import numpy as np\n",
    "import matplotlib.pyplot as plt\n",
    "from sklearn.datasets import load_iris,load_diabetes\n",
    "import pandas as pd\n",
    "\n",
    "p=np.linspace(0, 1, 100, endpoint=True)\n",
    "np.sum(p*(1-p))\n",
    "plt.plot(p,2*p*(1-p))\n",
    "plt.title('Gini Impurity Binary 2p(1-p)')"
   ]
  },
  {
   "cell_type": "code",
   "execution_count": 2,
   "id": "9af428e4",
   "metadata": {},
   "outputs": [
    {
     "data": {
      "text/html": [
       "<div>\n",
       "<style scoped>\n",
       "    .dataframe tbody tr th:only-of-type {\n",
       "        vertical-align: middle;\n",
       "    }\n",
       "\n",
       "    .dataframe tbody tr th {\n",
       "        vertical-align: top;\n",
       "    }\n",
       "\n",
       "    .dataframe thead th {\n",
       "        text-align: right;\n",
       "    }\n",
       "</style>\n",
       "<table border=\"1\" class=\"dataframe\">\n",
       "  <thead>\n",
       "    <tr style=\"text-align: right;\">\n",
       "      <th></th>\n",
       "      <th>sepal_length</th>\n",
       "      <th>sepal_width</th>\n",
       "      <th>petal_length</th>\n",
       "      <th>petal_width</th>\n",
       "    </tr>\n",
       "  </thead>\n",
       "  <tbody>\n",
       "    <tr>\n",
       "      <th>0</th>\n",
       "      <td>5.1</td>\n",
       "      <td>3.5</td>\n",
       "      <td>1.4</td>\n",
       "      <td>0.2</td>\n",
       "    </tr>\n",
       "    <tr>\n",
       "      <th>1</th>\n",
       "      <td>4.9</td>\n",
       "      <td>3.0</td>\n",
       "      <td>1.4</td>\n",
       "      <td>0.2</td>\n",
       "    </tr>\n",
       "    <tr>\n",
       "      <th>2</th>\n",
       "      <td>4.7</td>\n",
       "      <td>3.2</td>\n",
       "      <td>1.3</td>\n",
       "      <td>0.2</td>\n",
       "    </tr>\n",
       "    <tr>\n",
       "      <th>3</th>\n",
       "      <td>4.6</td>\n",
       "      <td>3.1</td>\n",
       "      <td>1.5</td>\n",
       "      <td>0.2</td>\n",
       "    </tr>\n",
       "    <tr>\n",
       "      <th>4</th>\n",
       "      <td>5.0</td>\n",
       "      <td>3.6</td>\n",
       "      <td>1.4</td>\n",
       "      <td>0.2</td>\n",
       "    </tr>\n",
       "  </tbody>\n",
       "</table>\n",
       "</div>"
      ],
      "text/plain": [
       "   sepal_length  sepal_width  petal_length  petal_width\n",
       "0           5.1          3.5           1.4          0.2\n",
       "1           4.9          3.0           1.4          0.2\n",
       "2           4.7          3.2           1.3          0.2\n",
       "3           4.6          3.1           1.5          0.2\n",
       "4           5.0          3.6           1.4          0.2"
      ]
     },
     "execution_count": 2,
     "metadata": {},
     "output_type": "execute_result"
    }
   ],
   "source": [
    "data=load_iris()\n",
    "data.keys()\n",
    "X=pd.DataFrame(data['data'],columns=data['feature_names'])\n",
    "y=pd.Series(data['target'])\n",
    "del data\n",
    "# Easy selecting\n",
    "def rename_columns(x):\n",
    "    x=x.replace(' (cm)','')\n",
    "    return x.replace(\" \", \"_\")\n",
    "X.columns=pd.Index(rename_columns(x) for x in X.columns) \n",
    "X.head()"
   ]
  },
  {
   "cell_type": "code",
   "execution_count": 3,
   "id": "d153254e",
   "metadata": {},
   "outputs": [
    {
     "data": {
      "image/png": "[encoded data removed]",
      "text/plain": [
       "<Figure size 640x480 with 1 Axes>"
      ]
     },
     "metadata": {},
     "output_type": "display_data"
    }
   ],
   "source": [
    "plt.scatter(X.sepal_width,X.sepal_length,c=y)\n",
    "plt.xlabel('Sepal Width')\n",
    "plt.ylabel('Sepal Length')\n",
    "plt.grid()"
   ]
  },
  {
   "cell_type": "code",
   "execution_count": 4,
   "id": "8c458a45",
   "metadata": {},
   "outputs": [
    {
     "data": {
      "image/png": "[encoded data removed]",
      "text/plain": [
       "<Figure size 640x480 with 1 Axes>"
      ]
     },
     "metadata": {},
     "output_type": "display_data"
    }
   ],
   "source": [
    "# The spliting cretarion and the value \n",
    "sepal_length_split = 6.0\n",
    "\n",
    "# Ploting the original plot\n",
    "plt.scatter(X.sepal_width,X.sepal_length,c=y)\n",
    "plt.xlabel('Sepal Width')\n",
    "plt.ylabel('Sepal Length')\n",
    "plt.grid()\n",
    "\n",
    "plt.axhline(sepal_length_split, label='Spliting criteria', color='red')\n",
    "plt.legend()\n",
    "plt.show()"
   ]
  },
  {
   "cell_type": "code",
   "execution_count": 5,
   "id": "822a576a",
   "metadata": {},
   "outputs": [],
   "source": [
    "def gini_impurity(y):\n",
    "  '''\n",
    "  Given a Pandas Series, it calculates the Gini Impurity. \n",
    "  y: variable with which calculate Gini Impurity.\n",
    "  '''\n",
    "  if isinstance(y, pd.Series):\n",
    "    # Probability of class label k\n",
    "    p_k=y.value_counts()/y.shape[0]\n",
    "    return (p_k*(1-p_k)).sum()\n",
    "  else:\n",
    "    raise('Object must be a Pandas Series.')"
   ]
  },
  {
   "cell_type": "code",
   "execution_count": 6,
   "id": "4996d1a1",
   "metadata": {},
   "outputs": [
    {
     "data": {
      "text/plain": [
       "0.6666666666666667"
      ]
     },
     "execution_count": 6,
     "metadata": {},
     "output_type": "execute_result"
    }
   ],
   "source": [
    "gini_impurity(y)"
   ]
  },
  {
   "cell_type": "code",
   "execution_count": 7,
   "id": "08d79550",
   "metadata": {},
   "outputs": [
    {
     "data": {
      "text/plain": [
       "0.5605352859487438"
      ]
     },
     "execution_count": 7,
     "metadata": {},
     "output_type": "execute_result"
    }
   ],
   "source": [
    "# Left Split\n",
    "gini_impurity(y[X[X['sepal_length']<=sepal_length_split].index])"
   ]
  },
  {
   "cell_type": "code",
   "execution_count": 8,
   "id": "b131c37f",
   "metadata": {},
   "outputs": [
    {
     "data": {
      "text/plain": [
       "0.44074173609244827"
      ]
     },
     "execution_count": 8,
     "metadata": {},
     "output_type": "execute_result"
    }
   ],
   "source": [
    "# Right Split\n",
    "gini_impurity(y[X[X['sepal_length']>sepal_length_split].index])"
   ]
  },
  {
   "cell_type": "markdown",
   "id": "114284ec",
   "metadata": {},
   "source": [
    "$$ \\text{Going on direction where sepal length is larger than its mean is advantages}$$"
   ]
  },
  {
   "cell_type": "code",
   "execution_count": 9,
   "id": "a602e649",
   "metadata": {},
   "outputs": [],
   "source": [
    "class DecisionClassificationNode:\n",
    "    def __init__(self, *, id, max_depth, depth):\n",
    "        self.id = id\n",
    "        self.max_depth = max_depth\n",
    "        self.depth = depth\n",
    "        self.left, self.right = None, None\n",
    "        self.best_feature, self.feature_val = None, None\n",
    "        self.gini_gain = None\n",
    "        self.class_probability = dict()\n",
    "        self.yhat = None\n",
    "\n",
    "    def __str__(self):\n",
    "        m = f'{self.id}\\tDepth:{self.depth}\\tFeature:{self.best_feature}\\t'\n",
    "        if self.feature_val is not None:\n",
    "            m += f'Val:{self.feature_val:.3f}\\tGiniGain:{self.gini_gain:.3f}\\tPred:{self.class_probability}'\n",
    "        return m\n",
    "\n",
    "    @staticmethod\n",
    "    def best_split(X, y):\n",
    "        features = list(X.columns)\n",
    "\n",
    "        df = X.copy()\n",
    "        y = y.copy()\n",
    "        df['y'] = y\n",
    "\n",
    "        max_gain = 0\n",
    "        best_feature = None\n",
    "        best_feature_avg = None\n",
    "\n",
    "        for feature in features:\n",
    "\n",
    "            gini_base = gini_impurity(y)\n",
    "            mean_of_feature = df[feature].mean()\n",
    "\n",
    "            dfleft, dfright = df[df[feature] <= mean_of_feature], df[df[feature] > mean_of_feature]\n",
    "\n",
    "            lleft, lright = len(dfleft), len(dfright)\n",
    "            lenght = lleft + lright\n",
    "\n",
    "            w_left, w_right = lleft / lenght, lright / lenght\n",
    "\n",
    "            gini_left, gini_right = gini_impurity(dfleft['y']), gini_impurity(dfright['y'])\n",
    "            # Calculating the weighted GINI impurity\n",
    "            weighted_gini = w_left * gini_left + w_right * gini_right\n",
    "            gini_gain = gini_base - weighted_gini\n",
    "            # print(\n",
    "            #    f'Feature:{feature}\\t Mean Value:{mean_of_feature:.3f},\\t Weighted Gini:{weighted_gini:.3f},\\t Gini Gain:{gini_gain:.3f}')\n",
    "            if gini_gain > max_gain:\n",
    "                best_feature = feature\n",
    "                best_feature_avg = mean_of_feature\n",
    "                # Setting the best gain to the current one\n",
    "                max_gain = gini_gain\n",
    "        return best_feature, best_feature_avg, max_gain\n",
    "\n",
    "    def fit(self, X, y):\n",
    "        features = list(X.columns)\n",
    "        self.best_feature, self.feature_val, self.gini_gain = self.best_split(X, y)\n",
    "        self.yhat = y.value_counts() / len(y)\n",
    "\n",
    "        # print(f'Feature:{feature}\\t Mean Value:{mean_of_feature:.3f},\\t Weighted Gini:{weighted_gini:.3f},\\t Gini Gain:{gini_gain:.3f}')\n",
    "\n",
    "        df = X.copy()\n",
    "        y = y.copy()\n",
    "        df['y'] = y\n",
    "        if self.depth > self.max_depth or (self.best_feature is None):\n",
    "            return self\n",
    "\n",
    "        dfleft, dfright = df[df[self.best_feature] <= self.feature_val], df[\n",
    "            df[self.best_feature] > self.feature_val]\n",
    "\n",
    "        left_classes = dfleft['y'].value_counts().index.to_list()\n",
    "        left_probs = (dfleft['y'].value_counts() / len(dfleft)).to_list()\n",
    "        self.class_probability['Left'] = dict(zip(left_classes, left_probs))\n",
    "\n",
    "        right_classes = dfright['y'].value_counts().index.to_list()\n",
    "        right_probs = (dfright['y'].value_counts() / len(dfright)).to_list()\n",
    "\n",
    "        self.class_probability['Right'] = dict(zip(right_classes, right_probs))\n",
    "        self.left = DecisionClassificationNode(id=self.id + '_left', max_depth=self.max_depth, depth=self.depth + 1).fit(\n",
    "            dfleft[features], dfleft['y'])\n",
    "        self.right = DecisionClassificationNode(id=self.id + '_right', max_depth=self.max_depth, depth=self.depth + 1).fit(\n",
    "            dfright[features], dfright['y'])\n",
    "        # IF we reach here, then stopping criteria is fulfilled\n",
    "        return self\n",
    "\n",
    "    def predict(self, x):\n",
    "        if self.best_feature is None:\n",
    "            label, prob = self.yhat.index.values, self.yhat.values\n",
    "            return label[prob.argmax()]\n",
    "\n",
    "        boolean_output = x[self.best_feature] <= self.feature_val\n",
    "\n",
    "        if boolean_output and self.left is not None:\n",
    "            # Turn Left\n",
    "            return self.left.predict(x)\n",
    "        elif (boolean_output == False) and self.right is not None:\n",
    "            # turn Right\n",
    "            return self.right.predict(x)\n",
    "        else:\n",
    "            label, prob = self.yhat.index.values, self.yhat.values\n",
    "            return label[prob.argmax()]"
   ]
  },
  {
   "cell_type": "code",
   "execution_count": 10,
   "id": "2adc4046",
   "metadata": {},
   "outputs": [],
   "source": [
    "class DecisionTree:\n",
    "    def __init__(self, max_depth=None):\n",
    "        self.X, self.y = None, None\n",
    "        self.features = None\n",
    "        # Saving the hyper parameters\n",
    "        self.max_depth = max_depth if max_depth else 200\n",
    "        self.root = None\n",
    "\n",
    "    def fit(self, X, y,type_of_node=None):\n",
    "        self.root = type_of_node(id='Root', max_depth=self.max_depth, depth=0).fit(X.copy(), y.copy())\n",
    "        return self\n",
    "\n",
    "    def __str__(self):\n",
    "        return str(self.root)\n",
    "\n",
    "    def predict(self, X):\n",
    "        preds = []\n",
    "        for index, x in X.iterrows():\n",
    "            preds.append(self.root.predict(x))\n",
    "        return np.array(preds).flatten()"
   ]
  },
  {
   "cell_type": "markdown",
   "id": "fb49fc45",
   "metadata": {},
   "source": [
    "#### Max depth = 1"
   ]
  },
  {
   "cell_type": "code",
   "execution_count": 11,
   "id": "a6b562b5",
   "metadata": {},
   "outputs": [
    {
     "name": "stdout",
     "output_type": "stream",
     "text": [
      "0.9466666666666667\n"
     ]
    }
   ],
   "source": [
    "preds = DecisionTree(max_depth=1).fit(X, y,DecisionClassificationNode).predict(X)\n",
    "print((preds == y).mean())"
   ]
  },
  {
   "cell_type": "markdown",
   "id": "76314ad2",
   "metadata": {},
   "source": [
    "#### Max depth = 2"
   ]
  },
  {
   "cell_type": "code",
   "execution_count": 12,
   "id": "b299fe3f",
   "metadata": {},
   "outputs": [
    {
     "name": "stdout",
     "output_type": "stream",
     "text": [
      "0.96\n"
     ]
    }
   ],
   "source": [
    "preds = DecisionTree(max_depth=3).fit(X, y,DecisionClassificationNode).predict(X)\n",
    "print((preds == y).mean())"
   ]
  },
  {
   "cell_type": "markdown",
   "id": "a63c0aae",
   "metadata": {},
   "source": [
    "#### Max depth = 3"
   ]
  },
  {
   "cell_type": "code",
   "execution_count": 13,
   "id": "f8588aea",
   "metadata": {},
   "outputs": [
    {
     "name": "stdout",
     "output_type": "stream",
     "text": [
      "0.96\n"
     ]
    }
   ],
   "source": [
    "preds = DecisionTree(max_depth=3).fit(X, y,DecisionClassificationNode).predict(X)\n",
    "print((preds == y).mean())"
   ]
  },
  {
   "cell_type": "markdown",
   "id": "137af579",
   "metadata": {},
   "source": [
    "#### Max depth = 5"
   ]
  },
  {
   "cell_type": "code",
   "execution_count": 14,
   "id": "5156397f",
   "metadata": {},
   "outputs": [
    {
     "name": "stdout",
     "output_type": "stream",
     "text": [
      "0.98\n"
     ]
    }
   ],
   "source": [
    "preds = DecisionTree(max_depth=5).fit(X, y,DecisionClassificationNode).predict(X)\n",
    "print((preds == y).mean())"
   ]
  },
  {
   "cell_type": "markdown",
   "id": "2b5c76bf",
   "metadata": {},
   "source": [
    "#### Max depth = 10"
   ]
  },
  {
   "cell_type": "code",
   "execution_count": 15,
   "id": "712b90df",
   "metadata": {},
   "outputs": [
    {
     "name": "stdout",
     "output_type": "stream",
     "text": [
      "1.0\n"
     ]
    }
   ],
   "source": [
    "preds = DecisionTree(max_depth=10).fit(X, y,DecisionClassificationNode).predict(X)\n",
    "print((preds == y).mean())"
   ]
  },
  {
   "cell_type": "markdown",
   "id": "c788484a",
   "metadata": {},
   "source": [
    "### Using scikit-learn for Visualization"
   ]
  },
  {
   "cell_type": "code",
   "execution_count": 16,
   "id": "05439c47",
   "metadata": {},
   "outputs": [
    {
     "data": {
      "image/png": "[encoded data removed]",
      "text/plain": [
       "<Figure size 640x480 with 1 Axes>"
      ]
     },
     "metadata": {},
     "output_type": "display_data"
    }
   ],
   "source": [
    "from sklearn import tree\n",
    "iris = load_iris()\n",
    "X, y = iris.data, iris.target\n",
    "clf = tree.DecisionTreeClassifier()\n",
    "clf = clf.fit(X, y)\n",
    "tree.plot_tree(clf);"
   ]
  },
  {
   "cell_type": "code",
   "execution_count": 17,
   "id": "ef24d1b3",
   "metadata": {},
   "outputs": [
    {
     "data": {
      "image/svg+xml": [
       "<?xml version=\"1.0\" encoding=\"UTF-8\" standalone=\"no\"?>\n",
       "<!DOCTYPE svg PUBLIC \"-//W3C//DTD SVG 1.1//EN\"\n",
       " \"http://www.w3.org/Graphics/SVG/1.1/DTD/svg11.dtd\">\n",
       "<!-- Generated by graphviz version 2.40.1 (20161225.0304)\n",
       " -->\n",
       "<!-- Title: Tree Pages: 1 -->\n",
       "<svg width=\"855pt\" height=\"671pt\"\n",
       " viewBox=\"0.00 0.00 855.00 671.00\" xmlns=\"http://www.w3.org/2000/svg\" xmlns:xlink=\"http://www.w3.org/1999/xlink\">\n",
       "<g id=\"graph0\" class=\"graph\" transform=\"scale(1 1) rotate(0) translate(4 667)\">\n",
       "<title>Tree</title>\n",
       "<polygon fill=\"#ffffff\" stroke=\"transparent\" points=\"-4,4 -4,-667 851,-667 851,4 -4,4\"/>\n",
       "<!-- 0 -->\n",
       "<g id=\"node1\" class=\"node\">\n",
       "<title>0</title>\n",
       "<path fill=\"#ffffff\" stroke=\"#000000\" d=\"M515.5,-663C515.5,-663 379.5,-663 379.5,-663 373.5,-663 367.5,-657 367.5,-651 367.5,-651 367.5,-592 367.5,-592 367.5,-586 373.5,-580 379.5,-580 379.5,-580 515.5,-580 515.5,-580 521.5,-580 527.5,-586 527.5,-592 527.5,-592 527.5,-651 527.5,-651 527.5,-657 521.5,-663 515.5,-663\"/>\n",
       "<text text-anchor=\"start\" x=\"375.5\" y=\"-647.8\" font-family=\"Helvetica,sans-Serif\" font-size=\"14.00\" fill=\"#000000\">petal length (cm) ≤ 2.45</text>\n",
       "<text text-anchor=\"start\" x=\"412\" y=\"-632.8\" font-family=\"Helvetica,sans-Serif\" font-size=\"14.00\" fill=\"#000000\">gini = 0.667</text>\n",
       "<text text-anchor=\"start\" x=\"402.5\" y=\"-617.8\" font-family=\"Helvetica,sans-Serif\" font-size=\"14.00\" fill=\"#000000\">samples = 150</text>\n",
       "<text text-anchor=\"start\" x=\"389.5\" y=\"-602.8\" font-family=\"Helvetica,sans-Serif\" font-size=\"14.00\" fill=\"#000000\">value = [50, 50, 50]</text>\n",
       "<text text-anchor=\"start\" x=\"404\" y=\"-587.8\" font-family=\"Helvetica,sans-Serif\" font-size=\"14.00\" fill=\"#000000\">class = setosa</text>\n",
       "</g>\n",
       "<!-- 1 -->\n",
       "<g id=\"node2\" class=\"node\">\n",
       "<title>1</title>\n",
       "<path fill=\"#e58139\" stroke=\"#000000\" d=\"M417,-536.5C417,-536.5 324,-536.5 324,-536.5 318,-536.5 312,-530.5 312,-524.5 312,-524.5 312,-480.5 312,-480.5 312,-474.5 318,-468.5 324,-468.5 324,-468.5 417,-468.5 417,-468.5 423,-468.5 429,-474.5 429,-480.5 429,-480.5 429,-524.5 429,-524.5 429,-530.5 423,-536.5 417,-536.5\"/>\n",
       "<text text-anchor=\"start\" x=\"342.5\" y=\"-521.3\" font-family=\"Helvetica,sans-Serif\" font-size=\"14.00\" fill=\"#000000\">gini = 0.0</text>\n",
       "<text text-anchor=\"start\" x=\"329.5\" y=\"-506.3\" font-family=\"Helvetica,sans-Serif\" font-size=\"14.00\" fill=\"#000000\">samples = 50</text>\n",
       "<text text-anchor=\"start\" x=\"320\" y=\"-491.3\" font-family=\"Helvetica,sans-Serif\" font-size=\"14.00\" fill=\"#000000\">value = [50, 0, 0]</text>\n",
       "<text text-anchor=\"start\" x=\"327\" y=\"-476.3\" font-family=\"Helvetica,sans-Serif\" font-size=\"14.00\" fill=\"#000000\">class = setosa</text>\n",
       "</g>\n",
       "<!-- 0&#45;&gt;1 -->\n",
       "<g id=\"edge1\" class=\"edge\">\n",
       "<title>0&#45;&gt;1</title>\n",
       "<path fill=\"none\" stroke=\"#000000\" d=\"M420.5691,-579.8796C413.3117,-568.6636 405.4497,-556.5131 398.1535,-545.2372\"/>\n",
       "<polygon fill=\"#000000\" stroke=\"#000000\" points=\"401.0748,-543.3093 392.7038,-536.8149 395.1978,-547.112 401.0748,-543.3093\"/>\n",
       "<text text-anchor=\"middle\" x=\"387.4656\" y=\"-557.56\" font-family=\"Helvetica,sans-Serif\" font-size=\"14.00\" fill=\"#000000\">True</text>\n",
       "</g>\n",
       "<!-- 2 -->\n",
       "<g id=\"node3\" class=\"node\">\n",
       "<title>2</title>\n",
       "<path fill=\"#ffffff\" stroke=\"#000000\" d=\"M590,-544C590,-544 459,-544 459,-544 453,-544 447,-538 447,-532 447,-532 447,-473 447,-473 447,-467 453,-461 459,-461 459,-461 590,-461 590,-461 596,-461 602,-467 602,-473 602,-473 602,-532 602,-532 602,-538 596,-544 590,-544\"/>\n",
       "<text text-anchor=\"start\" x=\"455\" y=\"-528.8\" font-family=\"Helvetica,sans-Serif\" font-size=\"14.00\" fill=\"#000000\">petal width (cm) ≤ 1.75</text>\n",
       "<text text-anchor=\"start\" x=\"496.5\" y=\"-513.8\" font-family=\"Helvetica,sans-Serif\" font-size=\"14.00\" fill=\"#000000\">gini = 0.5</text>\n",
       "<text text-anchor=\"start\" x=\"479.5\" y=\"-498.8\" font-family=\"Helvetica,sans-Serif\" font-size=\"14.00\" fill=\"#000000\">samples = 100</text>\n",
       "<text text-anchor=\"start\" x=\"470\" y=\"-483.8\" font-family=\"Helvetica,sans-Serif\" font-size=\"14.00\" fill=\"#000000\">value = [0, 50, 50]</text>\n",
       "<text text-anchor=\"start\" x=\"472\" y=\"-468.8\" font-family=\"Helvetica,sans-Serif\" font-size=\"14.00\" fill=\"#000000\">class = versicolor</text>\n",
       "</g>\n",
       "<!-- 0&#45;&gt;2 -->\n",
       "<g id=\"edge2\" class=\"edge\">\n",
       "<title>0&#45;&gt;2</title>\n",
       "<path fill=\"none\" stroke=\"#000000\" d=\"M474.4309,-579.8796C480.0837,-571.1434 486.1033,-561.8404 491.9366,-552.8253\"/>\n",
       "<polygon fill=\"#000000\" stroke=\"#000000\" points=\"494.9601,-554.5952 497.4542,-544.2981 489.0831,-550.7924 494.9601,-554.5952\"/>\n",
       "<text text-anchor=\"middle\" x=\"502.6924\" y=\"-565.0431\" font-family=\"Helvetica,sans-Serif\" font-size=\"14.00\" fill=\"#000000\">False</text>\n",
       "</g>\n",
       "<!-- 3 -->\n",
       "<g id=\"node4\" class=\"node\">\n",
       "<title>3</title>\n",
       "<path fill=\"#4de88e\" stroke=\"#000000\" d=\"M481.5,-425C481.5,-425 345.5,-425 345.5,-425 339.5,-425 333.5,-419 333.5,-413 333.5,-413 333.5,-354 333.5,-354 333.5,-348 339.5,-342 345.5,-342 345.5,-342 481.5,-342 481.5,-342 487.5,-342 493.5,-348 493.5,-354 493.5,-354 493.5,-413 493.5,-413 493.5,-419 487.5,-425 481.5,-425\"/>\n",
       "<text text-anchor=\"start\" x=\"341.5\" y=\"-409.8\" font-family=\"Helvetica,sans-Serif\" font-size=\"14.00\" fill=\"#000000\">petal length (cm) ≤ 4.95</text>\n",
       "<text text-anchor=\"start\" x=\"378\" y=\"-394.8\" font-family=\"Helvetica,sans-Serif\" font-size=\"14.00\" fill=\"#000000\">gini = 0.168</text>\n",
       "<text text-anchor=\"start\" x=\"372.5\" y=\"-379.8\" font-family=\"Helvetica,sans-Serif\" font-size=\"14.00\" fill=\"#000000\">samples = 54</text>\n",
       "<text text-anchor=\"start\" x=\"363\" y=\"-364.8\" font-family=\"Helvetica,sans-Serif\" font-size=\"14.00\" fill=\"#000000\">value = [0, 49, 5]</text>\n",
       "<text text-anchor=\"start\" x=\"361\" y=\"-349.8\" font-family=\"Helvetica,sans-Serif\" font-size=\"14.00\" fill=\"#000000\">class = versicolor</text>\n",
       "</g>\n",
       "<!-- 2&#45;&gt;3 -->\n",
       "<g id=\"edge3\" class=\"edge\">\n",
       "<title>2&#45;&gt;3</title>\n",
       "<path fill=\"none\" stroke=\"#000000\" d=\"M485.6776,-460.8796C477.1927,-451.7832 468.1346,-442.0722 459.4032,-432.7116\"/>\n",
       "<polygon fill=\"#000000\" stroke=\"#000000\" points=\"461.8686,-430.2233 452.4881,-425.2981 456.7497,-434.9981 461.8686,-430.2233\"/>\n",
       "</g>\n",
       "<!-- 12 -->\n",
       "<g id=\"node13\" class=\"node\">\n",
       "<title>12</title>\n",
       "<path fill=\"#843de6\" stroke=\"#000000\" d=\"M704.5,-425C704.5,-425 568.5,-425 568.5,-425 562.5,-425 556.5,-419 556.5,-413 556.5,-413 556.5,-354 556.5,-354 556.5,-348 562.5,-342 568.5,-342 568.5,-342 704.5,-342 704.5,-342 710.5,-342 716.5,-348 716.5,-354 716.5,-354 716.5,-413 716.5,-413 716.5,-419 710.5,-425 704.5,-425\"/>\n",
       "<text text-anchor=\"start\" x=\"564.5\" y=\"-409.8\" font-family=\"Helvetica,sans-Serif\" font-size=\"14.00\" fill=\"#000000\">petal length (cm) ≤ 4.85</text>\n",
       "<text text-anchor=\"start\" x=\"601\" y=\"-394.8\" font-family=\"Helvetica,sans-Serif\" font-size=\"14.00\" fill=\"#000000\">gini = 0.043</text>\n",
       "<text text-anchor=\"start\" x=\"595.5\" y=\"-379.8\" font-family=\"Helvetica,sans-Serif\" font-size=\"14.00\" fill=\"#000000\">samples = 46</text>\n",
       "<text text-anchor=\"start\" x=\"586\" y=\"-364.8\" font-family=\"Helvetica,sans-Serif\" font-size=\"14.00\" fill=\"#000000\">value = [0, 1, 45]</text>\n",
       "<text text-anchor=\"start\" x=\"588\" y=\"-349.8\" font-family=\"Helvetica,sans-Serif\" font-size=\"14.00\" fill=\"#000000\">class = virginica</text>\n",
       "</g>\n",
       "<!-- 2&#45;&gt;12 -->\n",
       "<g id=\"edge12\" class=\"edge\">\n",
       "<title>2&#45;&gt;12</title>\n",
       "<path fill=\"none\" stroke=\"#000000\" d=\"M563.6722,-460.8796C572.2335,-451.7832 581.3732,-442.0722 590.1832,-432.7116\"/>\n",
       "<polygon fill=\"#000000\" stroke=\"#000000\" points=\"592.8557,-434.9789 597.1606,-425.2981 587.7583,-430.1813 592.8557,-434.9789\"/>\n",
       "</g>\n",
       "<!-- 4 -->\n",
       "<g id=\"node5\" class=\"node\">\n",
       "<title>4</title>\n",
       "<path fill=\"#3de684\" stroke=\"#000000\" d=\"M261,-306C261,-306 130,-306 130,-306 124,-306 118,-300 118,-294 118,-294 118,-235 118,-235 118,-229 124,-223 130,-223 130,-223 261,-223 261,-223 267,-223 273,-229 273,-235 273,-235 273,-294 273,-294 273,-300 267,-306 261,-306\"/>\n",
       "<text text-anchor=\"start\" x=\"126\" y=\"-290.8\" font-family=\"Helvetica,sans-Serif\" font-size=\"14.00\" fill=\"#000000\">petal width (cm) ≤ 1.65</text>\n",
       "<text text-anchor=\"start\" x=\"160\" y=\"-275.8\" font-family=\"Helvetica,sans-Serif\" font-size=\"14.00\" fill=\"#000000\">gini = 0.041</text>\n",
       "<text text-anchor=\"start\" x=\"154.5\" y=\"-260.8\" font-family=\"Helvetica,sans-Serif\" font-size=\"14.00\" fill=\"#000000\">samples = 48</text>\n",
       "<text text-anchor=\"start\" x=\"145\" y=\"-245.8\" font-family=\"Helvetica,sans-Serif\" font-size=\"14.00\" fill=\"#000000\">value = [0, 47, 1]</text>\n",
       "<text text-anchor=\"start\" x=\"143\" y=\"-230.8\" font-family=\"Helvetica,sans-Serif\" font-size=\"14.00\" fill=\"#000000\">class = versicolor</text>\n",
       "</g>\n",
       "<!-- 3&#45;&gt;4 -->\n",
       "<g id=\"edge4\" class=\"edge\">\n",
       "<title>3&#45;&gt;4</title>\n",
       "<path fill=\"none\" stroke=\"#000000\" d=\"M337.2542,-341.8796C318.9168,-331.8697 299.216,-321.1156 280.5074,-310.9031\"/>\n",
       "<polygon fill=\"#000000\" stroke=\"#000000\" points=\"282.1572,-307.8162 271.7028,-306.0969 278.8032,-313.9604 282.1572,-307.8162\"/>\n",
       "</g>\n",
       "<!-- 7 -->\n",
       "<g id=\"node8\" class=\"node\">\n",
       "<title>7</title>\n",
       "<path fill=\"#c09cf2\" stroke=\"#000000\" d=\"M479,-306C479,-306 348,-306 348,-306 342,-306 336,-300 336,-294 336,-294 336,-235 336,-235 336,-229 342,-223 348,-223 348,-223 479,-223 479,-223 485,-223 491,-229 491,-235 491,-235 491,-294 491,-294 491,-300 485,-306 479,-306\"/>\n",
       "<text text-anchor=\"start\" x=\"344\" y=\"-290.8\" font-family=\"Helvetica,sans-Serif\" font-size=\"14.00\" fill=\"#000000\">petal width (cm) ≤ 1.55</text>\n",
       "<text text-anchor=\"start\" x=\"378\" y=\"-275.8\" font-family=\"Helvetica,sans-Serif\" font-size=\"14.00\" fill=\"#000000\">gini = 0.444</text>\n",
       "<text text-anchor=\"start\" x=\"376\" y=\"-260.8\" font-family=\"Helvetica,sans-Serif\" font-size=\"14.00\" fill=\"#000000\">samples = 6</text>\n",
       "<text text-anchor=\"start\" x=\"366.5\" y=\"-245.8\" font-family=\"Helvetica,sans-Serif\" font-size=\"14.00\" fill=\"#000000\">value = [0, 2, 4]</text>\n",
       "<text text-anchor=\"start\" x=\"365\" y=\"-230.8\" font-family=\"Helvetica,sans-Serif\" font-size=\"14.00\" fill=\"#000000\">class = virginica</text>\n",
       "</g>\n",
       "<!-- 3&#45;&gt;7 -->\n",
       "<g id=\"edge7\" class=\"edge\">\n",
       "<title>3&#45;&gt;7</title>\n",
       "<path fill=\"none\" stroke=\"#000000\" d=\"M413.5,-341.8796C413.5,-333.6838 413.5,-324.9891 413.5,-316.5013\"/>\n",
       "<polygon fill=\"#000000\" stroke=\"#000000\" points=\"417.0001,-316.298 413.5,-306.2981 410.0001,-316.2981 417.0001,-316.298\"/>\n",
       "</g>\n",
       "<!-- 5 -->\n",
       "<g id=\"node6\" class=\"node\">\n",
       "<title>5</title>\n",
       "<path fill=\"#39e581\" stroke=\"#000000\" d=\"M109,-179.5C109,-179.5 12,-179.5 12,-179.5 6,-179.5 0,-173.5 0,-167.5 0,-167.5 0,-123.5 0,-123.5 0,-117.5 6,-111.5 12,-111.5 12,-111.5 109,-111.5 109,-111.5 115,-111.5 121,-117.5 121,-123.5 121,-123.5 121,-167.5 121,-167.5 121,-173.5 115,-179.5 109,-179.5\"/>\n",
       "<text text-anchor=\"start\" x=\"32.5\" y=\"-164.3\" font-family=\"Helvetica,sans-Serif\" font-size=\"14.00\" fill=\"#000000\">gini = 0.0</text>\n",
       "<text text-anchor=\"start\" x=\"19.5\" y=\"-149.3\" font-family=\"Helvetica,sans-Serif\" font-size=\"14.00\" fill=\"#000000\">samples = 47</text>\n",
       "<text text-anchor=\"start\" x=\"10\" y=\"-134.3\" font-family=\"Helvetica,sans-Serif\" font-size=\"14.00\" fill=\"#000000\">value = [0, 47, 0]</text>\n",
       "<text text-anchor=\"start\" x=\"8\" y=\"-119.3\" font-family=\"Helvetica,sans-Serif\" font-size=\"14.00\" fill=\"#000000\">class = versicolor</text>\n",
       "</g>\n",
       "<!-- 4&#45;&gt;5 -->\n",
       "<g id=\"edge5\" class=\"edge\">\n",
       "<title>4&#45;&gt;5</title>\n",
       "<path fill=\"none\" stroke=\"#000000\" d=\"M148.2836,-222.8796C134.9358,-211.1138 120.4215,-198.3197 107.1096,-186.5855\"/>\n",
       "<polygon fill=\"#000000\" stroke=\"#000000\" points=\"109.2448,-183.8019 99.4287,-179.8149 104.616,-189.0531 109.2448,-183.8019\"/>\n",
       "</g>\n",
       "<!-- 6 -->\n",
       "<g id=\"node7\" class=\"node\">\n",
       "<title>6</title>\n",
       "<path fill=\"#8139e5\" stroke=\"#000000\" d=\"M240,-179.5C240,-179.5 151,-179.5 151,-179.5 145,-179.5 139,-173.5 139,-167.5 139,-167.5 139,-123.5 139,-123.5 139,-117.5 145,-111.5 151,-111.5 151,-111.5 240,-111.5 240,-111.5 246,-111.5 252,-117.5 252,-123.5 252,-123.5 252,-167.5 252,-167.5 252,-173.5 246,-179.5 240,-179.5\"/>\n",
       "<text text-anchor=\"start\" x=\"167.5\" y=\"-164.3\" font-family=\"Helvetica,sans-Serif\" font-size=\"14.00\" fill=\"#000000\">gini = 0.0</text>\n",
       "<text text-anchor=\"start\" x=\"158\" y=\"-149.3\" font-family=\"Helvetica,sans-Serif\" font-size=\"14.00\" fill=\"#000000\">samples = 1</text>\n",
       "<text text-anchor=\"start\" x=\"148.5\" y=\"-134.3\" font-family=\"Helvetica,sans-Serif\" font-size=\"14.00\" fill=\"#000000\">value = [0, 0, 1]</text>\n",
       "<text text-anchor=\"start\" x=\"147\" y=\"-119.3\" font-family=\"Helvetica,sans-Serif\" font-size=\"14.00\" fill=\"#000000\">class = virginica</text>\n",
       "</g>\n",
       "<!-- 4&#45;&gt;6 -->\n",
       "<g id=\"edge6\" class=\"edge\">\n",
       "<title>4&#45;&gt;6</title>\n",
       "<path fill=\"none\" stroke=\"#000000\" d=\"M195.5,-222.8796C195.5,-212.2134 195.5,-200.7021 195.5,-189.9015\"/>\n",
       "<polygon fill=\"#000000\" stroke=\"#000000\" points=\"199.0001,-189.8149 195.5,-179.8149 192.0001,-189.815 199.0001,-189.8149\"/>\n",
       "</g>\n",
       "<!-- 8 -->\n",
       "<g id=\"node9\" class=\"node\">\n",
       "<title>8</title>\n",
       "<path fill=\"#8139e5\" stroke=\"#000000\" d=\"M371,-179.5C371,-179.5 282,-179.5 282,-179.5 276,-179.5 270,-173.5 270,-167.5 270,-167.5 270,-123.5 270,-123.5 270,-117.5 276,-111.5 282,-111.5 282,-111.5 371,-111.5 371,-111.5 377,-111.5 383,-117.5 383,-123.5 383,-123.5 383,-167.5 383,-167.5 383,-173.5 377,-179.5 371,-179.5\"/>\n",
       "<text text-anchor=\"start\" x=\"298.5\" y=\"-164.3\" font-family=\"Helvetica,sans-Serif\" font-size=\"14.00\" fill=\"#000000\">gini = 0.0</text>\n",
       "<text text-anchor=\"start\" x=\"289\" y=\"-149.3\" font-family=\"Helvetica,sans-Serif\" font-size=\"14.00\" fill=\"#000000\">samples = 3</text>\n",
       "<text text-anchor=\"start\" x=\"279.5\" y=\"-134.3\" font-family=\"Helvetica,sans-Serif\" font-size=\"14.00\" fill=\"#000000\">value = [0, 0, 3]</text>\n",
       "<text text-anchor=\"start\" x=\"278\" y=\"-119.3\" font-family=\"Helvetica,sans-Serif\" font-size=\"14.00\" fill=\"#000000\">class = virginica</text>\n",
       "</g>\n",
       "<!-- 7&#45;&gt;8 -->\n",
       "<g id=\"edge8\" class=\"edge\">\n",
       "<title>7&#45;&gt;8</title>\n",
       "<path fill=\"none\" stroke=\"#000000\" d=\"M383.0716,-222.8796C374.7913,-211.5536 365.8143,-199.2748 357.5026,-187.9058\"/>\n",
       "<polygon fill=\"#000000\" stroke=\"#000000\" points=\"360.3147,-185.822 351.5874,-179.8149 354.6639,-189.9533 360.3147,-185.822\"/>\n",
       "</g>\n",
       "<!-- 9 -->\n",
       "<g id=\"node10\" class=\"node\">\n",
       "<title>9</title>\n",
       "<path fill=\"#9cf2c0\" stroke=\"#000000\" d=\"M549.5,-187C549.5,-187 413.5,-187 413.5,-187 407.5,-187 401.5,-181 401.5,-175 401.5,-175 401.5,-116 401.5,-116 401.5,-110 407.5,-104 413.5,-104 413.5,-104 549.5,-104 549.5,-104 555.5,-104 561.5,-110 561.5,-116 561.5,-116 561.5,-175 561.5,-175 561.5,-181 555.5,-187 549.5,-187\"/>\n",
       "<text text-anchor=\"start\" x=\"409.5\" y=\"-171.8\" font-family=\"Helvetica,sans-Serif\" font-size=\"14.00\" fill=\"#000000\">petal length (cm) ≤ 5.45</text>\n",
       "<text text-anchor=\"start\" x=\"446\" y=\"-156.8\" font-family=\"Helvetica,sans-Serif\" font-size=\"14.00\" fill=\"#000000\">gini = 0.444</text>\n",
       "<text text-anchor=\"start\" x=\"444\" y=\"-141.8\" font-family=\"Helvetica,sans-Serif\" font-size=\"14.00\" fill=\"#000000\">samples = 3</text>\n",
       "<text text-anchor=\"start\" x=\"434.5\" y=\"-126.8\" font-family=\"Helvetica,sans-Serif\" font-size=\"14.00\" fill=\"#000000\">value = [0, 2, 1]</text>\n",
       "<text text-anchor=\"start\" x=\"429\" y=\"-111.8\" font-family=\"Helvetica,sans-Serif\" font-size=\"14.00\" fill=\"#000000\">class = versicolor</text>\n",
       "</g>\n",
       "<!-- 7&#45;&gt;9 -->\n",
       "<g id=\"edge9\" class=\"edge\">\n",
       "<title>7&#45;&gt;9</title>\n",
       "<path fill=\"none\" stroke=\"#000000\" d=\"M437.2831,-222.8796C442.2237,-214.2335 447.4816,-205.0322 452.5833,-196.1042\"/>\n",
       "<polygon fill=\"#000000\" stroke=\"#000000\" points=\"455.6928,-197.717 457.6154,-187.2981 449.6151,-194.244 455.6928,-197.717\"/>\n",
       "</g>\n",
       "<!-- 10 -->\n",
       "<g id=\"node11\" class=\"node\">\n",
       "<title>10</title>\n",
       "<path fill=\"#39e581\" stroke=\"#000000\" d=\"M462,-68C462,-68 365,-68 365,-68 359,-68 353,-62 353,-56 353,-56 353,-12 353,-12 353,-6 359,0 365,0 365,0 462,0 462,0 468,0 474,-6 474,-12 474,-12 474,-56 474,-56 474,-62 468,-68 462,-68\"/>\n",
       "<text text-anchor=\"start\" x=\"385.5\" y=\"-52.8\" font-family=\"Helvetica,sans-Serif\" font-size=\"14.00\" fill=\"#000000\">gini = 0.0</text>\n",
       "<text text-anchor=\"start\" x=\"376\" y=\"-37.8\" font-family=\"Helvetica,sans-Serif\" font-size=\"14.00\" fill=\"#000000\">samples = 2</text>\n",
       "<text text-anchor=\"start\" x=\"366.5\" y=\"-22.8\" font-family=\"Helvetica,sans-Serif\" font-size=\"14.00\" fill=\"#000000\">value = [0, 2, 0]</text>\n",
       "<text text-anchor=\"start\" x=\"361\" y=\"-7.8\" font-family=\"Helvetica,sans-Serif\" font-size=\"14.00\" fill=\"#000000\">class = versicolor</text>\n",
       "</g>\n",
       "<!-- 9&#45;&gt;10 -->\n",
       "<g id=\"edge10\" class=\"edge\">\n",
       "<title>9&#45;&gt;10</title>\n",
       "<path fill=\"none\" stroke=\"#000000\" d=\"M456.1793,-103.9815C450.7984,-95.1585 445.1068,-85.8258 439.6941,-76.9506\"/>\n",
       "<polygon fill=\"#000000\" stroke=\"#000000\" points=\"442.5912,-74.9789 434.3962,-68.2637 436.6149,-78.6236 442.5912,-74.9789\"/>\n",
       "</g>\n",
       "<!-- 11 -->\n",
       "<g id=\"node12\" class=\"node\">\n",
       "<title>11</title>\n",
       "<path fill=\"#8139e5\" stroke=\"#000000\" d=\"M593,-68C593,-68 504,-68 504,-68 498,-68 492,-62 492,-56 492,-56 492,-12 492,-12 492,-6 498,0 504,0 504,0 593,0 593,0 599,0 605,-6 605,-12 605,-12 605,-56 605,-56 605,-62 599,-68 593,-68\"/>\n",
       "<text text-anchor=\"start\" x=\"520.5\" y=\"-52.8\" font-family=\"Helvetica,sans-Serif\" font-size=\"14.00\" fill=\"#000000\">gini = 0.0</text>\n",
       "<text text-anchor=\"start\" x=\"511\" y=\"-37.8\" font-family=\"Helvetica,sans-Serif\" font-size=\"14.00\" fill=\"#000000\">samples = 1</text>\n",
       "<text text-anchor=\"start\" x=\"501.5\" y=\"-22.8\" font-family=\"Helvetica,sans-Serif\" font-size=\"14.00\" fill=\"#000000\">value = [0, 0, 1]</text>\n",
       "<text text-anchor=\"start\" x=\"500\" y=\"-7.8\" font-family=\"Helvetica,sans-Serif\" font-size=\"14.00\" fill=\"#000000\">class = virginica</text>\n",
       "</g>\n",
       "<!-- 9&#45;&gt;11 -->\n",
       "<g id=\"edge11\" class=\"edge\">\n",
       "<title>9&#45;&gt;11</title>\n",
       "<path fill=\"none\" stroke=\"#000000\" d=\"M506.4483,-103.9815C511.7501,-95.1585 517.3581,-85.8258 522.6911,-76.9506\"/>\n",
       "<polygon fill=\"#000000\" stroke=\"#000000\" points=\"525.7605,-78.638 527.9111,-68.2637 519.7604,-75.0325 525.7605,-78.638\"/>\n",
       "</g>\n",
       "<!-- 13 -->\n",
       "<g id=\"node14\" class=\"node\">\n",
       "<title>13</title>\n",
       "<path fill=\"#c09cf2\" stroke=\"#000000\" d=\"M699.5,-306C699.5,-306 573.5,-306 573.5,-306 567.5,-306 561.5,-300 561.5,-294 561.5,-294 561.5,-235 561.5,-235 561.5,-229 567.5,-223 573.5,-223 573.5,-223 699.5,-223 699.5,-223 705.5,-223 711.5,-229 711.5,-235 711.5,-235 711.5,-294 711.5,-294 711.5,-300 705.5,-306 699.5,-306\"/>\n",
       "<text text-anchor=\"start\" x=\"569.5\" y=\"-290.8\" font-family=\"Helvetica,sans-Serif\" font-size=\"14.00\" fill=\"#000000\">sepal width (cm) ≤ 3.1</text>\n",
       "<text text-anchor=\"start\" x=\"601\" y=\"-275.8\" font-family=\"Helvetica,sans-Serif\" font-size=\"14.00\" fill=\"#000000\">gini = 0.444</text>\n",
       "<text text-anchor=\"start\" x=\"599\" y=\"-260.8\" font-family=\"Helvetica,sans-Serif\" font-size=\"14.00\" fill=\"#000000\">samples = 3</text>\n",
       "<text text-anchor=\"start\" x=\"589.5\" y=\"-245.8\" font-family=\"Helvetica,sans-Serif\" font-size=\"14.00\" fill=\"#000000\">value = [0, 1, 2]</text>\n",
       "<text text-anchor=\"start\" x=\"588\" y=\"-230.8\" font-family=\"Helvetica,sans-Serif\" font-size=\"14.00\" fill=\"#000000\">class = virginica</text>\n",
       "</g>\n",
       "<!-- 12&#45;&gt;13 -->\n",
       "<g id=\"edge13\" class=\"edge\">\n",
       "<title>12&#45;&gt;13</title>\n",
       "<path fill=\"none\" stroke=\"#000000\" d=\"M636.5,-341.8796C636.5,-333.6838 636.5,-324.9891 636.5,-316.5013\"/>\n",
       "<polygon fill=\"#000000\" stroke=\"#000000\" points=\"640.0001,-316.298 636.5,-306.2981 633.0001,-316.2981 640.0001,-316.298\"/>\n",
       "</g>\n",
       "<!-- 16 -->\n",
       "<g id=\"node17\" class=\"node\">\n",
       "<title>16</title>\n",
       "<path fill=\"#8139e5\" stroke=\"#000000\" d=\"M835,-298.5C835,-298.5 742,-298.5 742,-298.5 736,-298.5 730,-292.5 730,-286.5 730,-286.5 730,-242.5 730,-242.5 730,-236.5 736,-230.5 742,-230.5 742,-230.5 835,-230.5 835,-230.5 841,-230.5 847,-236.5 847,-242.5 847,-242.5 847,-286.5 847,-286.5 847,-292.5 841,-298.5 835,-298.5\"/>\n",
       "<text text-anchor=\"start\" x=\"760.5\" y=\"-283.3\" font-family=\"Helvetica,sans-Serif\" font-size=\"14.00\" fill=\"#000000\">gini = 0.0</text>\n",
       "<text text-anchor=\"start\" x=\"747.5\" y=\"-268.3\" font-family=\"Helvetica,sans-Serif\" font-size=\"14.00\" fill=\"#000000\">samples = 43</text>\n",
       "<text text-anchor=\"start\" x=\"738\" y=\"-253.3\" font-family=\"Helvetica,sans-Serif\" font-size=\"14.00\" fill=\"#000000\">value = [0, 0, 43]</text>\n",
       "<text text-anchor=\"start\" x=\"740\" y=\"-238.3\" font-family=\"Helvetica,sans-Serif\" font-size=\"14.00\" fill=\"#000000\">class = virginica</text>\n",
       "</g>\n",
       "<!-- 12&#45;&gt;16 -->\n",
       "<g id=\"edge16\" class=\"edge\">\n",
       "<title>12&#45;&gt;16</title>\n",
       "<path fill=\"none\" stroke=\"#000000\" d=\"M689.6622,-341.8796C704.8313,-330.0038 721.3384,-317.0804 736.4409,-305.2568\"/>\n",
       "<polygon fill=\"#000000\" stroke=\"#000000\" points=\"738.9528,-307.7353 744.6692,-298.8149 734.6376,-302.2236 738.9528,-307.7353\"/>\n",
       "</g>\n",
       "<!-- 14 -->\n",
       "<g id=\"node15\" class=\"node\">\n",
       "<title>14</title>\n",
       "<path fill=\"#8139e5\" stroke=\"#000000\" d=\"M681,-179.5C681,-179.5 592,-179.5 592,-179.5 586,-179.5 580,-173.5 580,-167.5 580,-167.5 580,-123.5 580,-123.5 580,-117.5 586,-111.5 592,-111.5 592,-111.5 681,-111.5 681,-111.5 687,-111.5 693,-117.5 693,-123.5 693,-123.5 693,-167.5 693,-167.5 693,-173.5 687,-179.5 681,-179.5\"/>\n",
       "<text text-anchor=\"start\" x=\"608.5\" y=\"-164.3\" font-family=\"Helvetica,sans-Serif\" font-size=\"14.00\" fill=\"#000000\">gini = 0.0</text>\n",
       "<text text-anchor=\"start\" x=\"599\" y=\"-149.3\" font-family=\"Helvetica,sans-Serif\" font-size=\"14.00\" fill=\"#000000\">samples = 2</text>\n",
       "<text text-anchor=\"start\" x=\"589.5\" y=\"-134.3\" font-family=\"Helvetica,sans-Serif\" font-size=\"14.00\" fill=\"#000000\">value = [0, 0, 2]</text>\n",
       "<text text-anchor=\"start\" x=\"588\" y=\"-119.3\" font-family=\"Helvetica,sans-Serif\" font-size=\"14.00\" fill=\"#000000\">class = virginica</text>\n",
       "</g>\n",
       "<!-- 13&#45;&gt;14 -->\n",
       "<g id=\"edge14\" class=\"edge\">\n",
       "<title>13&#45;&gt;14</title>\n",
       "<path fill=\"none\" stroke=\"#000000\" d=\"M636.5,-222.8796C636.5,-212.2134 636.5,-200.7021 636.5,-189.9015\"/>\n",
       "<polygon fill=\"#000000\" stroke=\"#000000\" points=\"640.0001,-189.8149 636.5,-179.8149 633.0001,-189.815 640.0001,-189.8149\"/>\n",
       "</g>\n",
       "<!-- 15 -->\n",
       "<g id=\"node16\" class=\"node\">\n",
       "<title>15</title>\n",
       "<path fill=\"#39e581\" stroke=\"#000000\" d=\"M820,-179.5C820,-179.5 723,-179.5 723,-179.5 717,-179.5 711,-173.5 711,-167.5 711,-167.5 711,-123.5 711,-123.5 711,-117.5 717,-111.5 723,-111.5 723,-111.5 820,-111.5 820,-111.5 826,-111.5 832,-117.5 832,-123.5 832,-123.5 832,-167.5 832,-167.5 832,-173.5 826,-179.5 820,-179.5\"/>\n",
       "<text text-anchor=\"start\" x=\"743.5\" y=\"-164.3\" font-family=\"Helvetica,sans-Serif\" font-size=\"14.00\" fill=\"#000000\">gini = 0.0</text>\n",
       "<text text-anchor=\"start\" x=\"734\" y=\"-149.3\" font-family=\"Helvetica,sans-Serif\" font-size=\"14.00\" fill=\"#000000\">samples = 1</text>\n",
       "<text text-anchor=\"start\" x=\"724.5\" y=\"-134.3\" font-family=\"Helvetica,sans-Serif\" font-size=\"14.00\" fill=\"#000000\">value = [0, 1, 0]</text>\n",
       "<text text-anchor=\"start\" x=\"719\" y=\"-119.3\" font-family=\"Helvetica,sans-Serif\" font-size=\"14.00\" fill=\"#000000\">class = versicolor</text>\n",
       "</g>\n",
       "<!-- 13&#45;&gt;15 -->\n",
       "<g id=\"edge15\" class=\"edge\">\n",
       "<title>13&#45;&gt;15</title>\n",
       "<path fill=\"none\" stroke=\"#000000\" d=\"M683.7164,-222.8796C697.0642,-211.1138 711.5785,-198.3197 724.8904,-186.5855\"/>\n",
       "<polygon fill=\"#000000\" stroke=\"#000000\" points=\"727.384,-189.0531 732.5713,-179.8149 722.7552,-183.8019 727.384,-189.0531\"/>\n",
       "</g>\n",
       "</g>\n",
       "</svg>\n"
      ],
      "text/plain": [
       "<graphviz.files.Source at 0x7f173a329850>"
      ]
     },
     "execution_count": 17,
     "metadata": {},
     "output_type": "execute_result"
    }
   ],
   "source": [
    "import graphviz \n",
    "dot_data = tree.export_graphviz(clf, out_file=None) \n",
    "graph = graphviz.Source(dot_data) \n",
    "graph.render(\"iris\") \n",
    "dot_data = tree.export_graphviz(clf, out_file=None, feature_names=iris.feature_names,  \n",
    "                                class_names=iris.target_names,  \n",
    "                                filled=True, rounded=True,  special_characters=True)  \n",
    "graph = graphviz.Source(dot_data)  \n",
    "graph "
   ]
  },
  {
   "cell_type": "markdown",
   "id": "a1dc6c3a",
   "metadata": {},
   "source": [
    "### Predictions are very interpretable aren't they :) "
   ]
  },
  {
   "cell_type": "markdown",
   "id": "fec74b62",
   "metadata": {},
   "source": [
    "# Decision Regression Tree\n",
    "\n",
    "$$ \\mathcal L (S) = \\frac{1}{|S|} \\sum_{(x_i, y_i ) \\in S} (y - \\mu)^2$$\n",
    "where $\\mu = \\frac{1}{|S|} \\sum_{(x_i, y_i ) \\in S} y_i$"
   ]
  },
  {
   "cell_type": "markdown",
   "id": "71cbf069",
   "metadata": {},
   "source": [
    "### Runtime Complexity in training\n",
    "\n",
    "Cost of constructing a decision $$ \\mathcal O (|\\mathcal D| \\times |d| \\times log(|\\mathcal D|)),\\; \\text{ where } \\forall i x_i \\in \\mathbb R ^d $$\n",
    "\n",
    "Cost of constructing a decision Tree $$ \\mathcal O (|\\mathcal D|^2 \\times |d| \\times log(|\\mathcal D|)),\\; \\text{ where } \\forall i x_i \\in \\mathbb R ^d $$\n",
    "\n",
    "\n",
    "[By using this heuristic](https://youtu.be/0LB1cy2sCXc?t=1027), we would get $$ \\mathcal O (|\\mathcal D| \\times |d| \\times log(|\\mathcal D|))$$\n",
    "\n",
    "### Runtime Prediction \n",
    "\n",
    "$$ \\mathcal O (log(|\\mathcal D|))$$\n",
    "\n"
   ]
  },
  {
   "cell_type": "code",
   "execution_count": 18,
   "id": "728c1fe6",
   "metadata": {},
   "outputs": [
    {
     "data": {
      "text/html": [
       "<div>\n",
       "<style scoped>\n",
       "    .dataframe tbody tr th:only-of-type {\n",
       "        vertical-align: middle;\n",
       "    }\n",
       "\n",
       "    .dataframe tbody tr th {\n",
       "        vertical-align: top;\n",
       "    }\n",
       "\n",
       "    .dataframe thead th {\n",
       "        text-align: right;\n",
       "    }\n",
       "</style>\n",
       "<table border=\"1\" class=\"dataframe\">\n",
       "  <thead>\n",
       "    <tr style=\"text-align: right;\">\n",
       "      <th></th>\n",
       "      <th>age</th>\n",
       "      <th>sex</th>\n",
       "      <th>bmi</th>\n",
       "      <th>bp</th>\n",
       "      <th>s1</th>\n",
       "      <th>s2</th>\n",
       "      <th>s3</th>\n",
       "      <th>s4</th>\n",
       "      <th>s5</th>\n",
       "      <th>s6</th>\n",
       "    </tr>\n",
       "  </thead>\n",
       "  <tbody>\n",
       "    <tr>\n",
       "      <th>0</th>\n",
       "      <td>0.038076</td>\n",
       "      <td>0.050680</td>\n",
       "      <td>0.061696</td>\n",
       "      <td>0.021872</td>\n",
       "      <td>-0.044223</td>\n",
       "      <td>-0.034821</td>\n",
       "      <td>-0.043401</td>\n",
       "      <td>-0.002592</td>\n",
       "      <td>0.019908</td>\n",
       "      <td>-0.017646</td>\n",
       "    </tr>\n",
       "    <tr>\n",
       "      <th>1</th>\n",
       "      <td>-0.001882</td>\n",
       "      <td>-0.044642</td>\n",
       "      <td>-0.051474</td>\n",
       "      <td>-0.026328</td>\n",
       "      <td>-0.008449</td>\n",
       "      <td>-0.019163</td>\n",
       "      <td>0.074412</td>\n",
       "      <td>-0.039493</td>\n",
       "      <td>-0.068330</td>\n",
       "      <td>-0.092204</td>\n",
       "    </tr>\n",
       "    <tr>\n",
       "      <th>2</th>\n",
       "      <td>0.085299</td>\n",
       "      <td>0.050680</td>\n",
       "      <td>0.044451</td>\n",
       "      <td>-0.005671</td>\n",
       "      <td>-0.045599</td>\n",
       "      <td>-0.034194</td>\n",
       "      <td>-0.032356</td>\n",
       "      <td>-0.002592</td>\n",
       "      <td>0.002864</td>\n",
       "      <td>-0.025930</td>\n",
       "    </tr>\n",
       "    <tr>\n",
       "      <th>3</th>\n",
       "      <td>-0.089063</td>\n",
       "      <td>-0.044642</td>\n",
       "      <td>-0.011595</td>\n",
       "      <td>-0.036656</td>\n",
       "      <td>0.012191</td>\n",
       "      <td>0.024991</td>\n",
       "      <td>-0.036038</td>\n",
       "      <td>0.034309</td>\n",
       "      <td>0.022692</td>\n",
       "      <td>-0.009362</td>\n",
       "    </tr>\n",
       "    <tr>\n",
       "      <th>4</th>\n",
       "      <td>0.005383</td>\n",
       "      <td>-0.044642</td>\n",
       "      <td>-0.036385</td>\n",
       "      <td>0.021872</td>\n",
       "      <td>0.003935</td>\n",
       "      <td>0.015596</td>\n",
       "      <td>0.008142</td>\n",
       "      <td>-0.002592</td>\n",
       "      <td>-0.031991</td>\n",
       "      <td>-0.046641</td>\n",
       "    </tr>\n",
       "  </tbody>\n",
       "</table>\n",
       "</div>"
      ],
      "text/plain": [
       "        age       sex       bmi        bp        s1        s2        s3  \\\n",
       "0  0.038076  0.050680  0.061696  0.021872 -0.044223 -0.034821 -0.043401   \n",
       "1 -0.001882 -0.044642 -0.051474 -0.026328 -0.008449 -0.019163  0.074412   \n",
       "2  0.085299  0.050680  0.044451 -0.005671 -0.045599 -0.034194 -0.032356   \n",
       "3 -0.089063 -0.044642 -0.011595 -0.036656  0.012191  0.024991 -0.036038   \n",
       "4  0.005383 -0.044642 -0.036385  0.021872  0.003935  0.015596  0.008142   \n",
       "\n",
       "         s4        s5        s6  \n",
       "0 -0.002592  0.019908 -0.017646  \n",
       "1 -0.039493 -0.068330 -0.092204  \n",
       "2 -0.002592  0.002864 -0.025930  \n",
       "3  0.034309  0.022692 -0.009362  \n",
       "4 -0.002592 -0.031991 -0.046641  "
      ]
     },
     "execution_count": 18,
     "metadata": {},
     "output_type": "execute_result"
    }
   ],
   "source": [
    "data = load_diabetes()\n",
    "data.keys()\n",
    "X = pd.DataFrame(data['data'], columns=data['feature_names'])\n",
    "y = pd.Series(data['target'])\n",
    "del data\n",
    "X.head()"
   ]
  },
  {
   "cell_type": "code",
   "execution_count": 19,
   "id": "88b1a25a",
   "metadata": {},
   "outputs": [],
   "source": [
    "def avg_squared_difference(y):\n",
    "    if isinstance(y, pd.Series):\n",
    "        return np.mean((y - y.mean()) ** 2)\n",
    "    else:\n",
    "        raise ('Object must be a Pandas Series.')\n",
    "\n",
    "\n",
    "class DecisionRegressionNode:\n",
    "    def __init__(self, *, id, max_depth, depth):\n",
    "        self.id = id\n",
    "        self.max_depth = max_depth\n",
    "        self.depth = depth\n",
    "        self.left, self.right = None, None\n",
    "        self.best_feature, self.feature_val = None, None\n",
    "        self.gini_gain = None\n",
    "        self.class_probability = dict()\n",
    "        self.yhat = None\n",
    "\n",
    "    def __str__(self):\n",
    "        m = f'{self.id}\\tDepth:{self.depth}\\tFeature:{self.best_feature}\\t'\n",
    "        if self.feature_val is not None:\n",
    "            m += f'Val:{self.feature_val:.3f}\\tGiniGain:{self.gini_gain:.3f}\\tPred:{self.class_probability}'\n",
    "        return m\n",
    "\n",
    "    @staticmethod\n",
    "    def best_split(X, y):\n",
    "        features = list(X.columns)\n",
    "\n",
    "        df = X.copy()\n",
    "        y = y.copy()\n",
    "        df['y'] = y\n",
    "\n",
    "        max_gain = 0\n",
    "        best_feature = None\n",
    "        best_feature_avg = None\n",
    "\n",
    "        for feature in features:\n",
    "\n",
    "            gini_base = avg_squared_difference(y)\n",
    "            mean_of_feature = df[feature].mean()\n",
    "\n",
    "            dfleft, dfright = df[df[feature] <= mean_of_feature], df[df[feature] > mean_of_feature]\n",
    "\n",
    "            lleft, lright = len(dfleft), len(dfright)\n",
    "            lenght = lleft + lright\n",
    "\n",
    "            w_left, w_right = lleft / lenght, lright / lenght\n",
    "\n",
    "            gini_left, gini_right = avg_squared_difference(dfleft['y']), avg_squared_difference(dfright['y'])\n",
    "            # Calculating the weighted GINI impurity\n",
    "            weighted_gini = w_left * gini_left + w_right * gini_right\n",
    "            gini_gain = gini_base - weighted_gini\n",
    "            # print(\n",
    "            #    f'Feature:{feature}\\t Mean Value:{mean_of_feature:.3f},\\t Weighted Gini:{weighted_gini:.3f},\\t Gini Gain:{gini_gain:.3f}')\n",
    "            if gini_gain > max_gain:\n",
    "                best_feature = feature\n",
    "                best_feature_avg = mean_of_feature\n",
    "                # Setting the best gain to the current one\n",
    "                max_gain = gini_gain\n",
    "        return best_feature, best_feature_avg, max_gain\n",
    "\n",
    "    def fit(self, X, y):\n",
    "        features = list(X.columns)\n",
    "        self.best_feature, self.feature_val, self.gini_gain = self.best_split(X, y)\n",
    "        self.yhat = y.mean()\n",
    "\n",
    "        df = X.copy()\n",
    "        y = y.copy()\n",
    "        df['y'] = y\n",
    "        if self.depth > self.max_depth or (self.best_feature is None):\n",
    "            return self\n",
    "\n",
    "        dfleft, dfright = df[df[self.best_feature] <= self.feature_val], df[\n",
    "            df[self.best_feature] > self.feature_val]\n",
    "\n",
    "        left_classes = dfleft['y'].value_counts().index.to_list()\n",
    "        left_probs = (dfleft['y'].value_counts() / len(dfleft)).to_list()\n",
    "        self.class_probability['Left'] = dict(zip(left_classes, left_probs))\n",
    "\n",
    "        right_classes = dfright['y'].value_counts().index.to_list()\n",
    "        right_probs = (dfright['y'].value_counts() / len(dfright)).to_list()\n",
    "\n",
    "        self.class_probability['Right'] = dict(zip(right_classes, right_probs))\n",
    "        self.left = DecisionRegressionNode(id=self.id + '_left', max_depth=self.max_depth, depth=self.depth + 1).fit(\n",
    "            dfleft[features], dfleft['y'])\n",
    "        self.right = DecisionRegressionNode(id=self.id + '_right', max_depth=self.max_depth, depth=self.depth + 1).fit(\n",
    "            dfright[features], dfright['y'])\n",
    "        # IF we reach here, then stopping criteria is fulfilled\n",
    "        return self\n",
    "\n",
    "    def predict(self, x):\n",
    "        if self.best_feature is None:\n",
    "            return  self.yhat.mean()\n",
    "\n",
    "        boolean_output = x[self.best_feature] <= self.feature_val\n",
    "\n",
    "        if boolean_output and self.left is not None:\n",
    "            # Turn Left\n",
    "            return self.left.predict(x)\n",
    "        elif (boolean_output == False) and self.right is not None:\n",
    "            # turn Right\n",
    "            return self.right.predict(x)\n",
    "        else:\n",
    "            return self.yhat.mean()\n"
   ]
  },
  {
   "cell_type": "code",
   "execution_count": 20,
   "id": "9e383932",
   "metadata": {},
   "outputs": [
    {
     "data": {
      "text/html": [
       "<div>\n",
       "<style scoped>\n",
       "    .dataframe tbody tr th:only-of-type {\n",
       "        vertical-align: middle;\n",
       "    }\n",
       "\n",
       "    .dataframe tbody tr th {\n",
       "        vertical-align: top;\n",
       "    }\n",
       "\n",
       "    .dataframe thead th {\n",
       "        text-align: right;\n",
       "    }\n",
       "</style>\n",
       "<table border=\"1\" class=\"dataframe\">\n",
       "  <thead>\n",
       "    <tr style=\"text-align: right;\">\n",
       "      <th></th>\n",
       "      <th>age</th>\n",
       "      <th>sex</th>\n",
       "      <th>bmi</th>\n",
       "      <th>bp</th>\n",
       "      <th>s1</th>\n",
       "      <th>s2</th>\n",
       "      <th>s3</th>\n",
       "      <th>s4</th>\n",
       "      <th>s5</th>\n",
       "      <th>s6</th>\n",
       "    </tr>\n",
       "  </thead>\n",
       "  <tbody>\n",
       "    <tr>\n",
       "      <th>0</th>\n",
       "      <td>0.038076</td>\n",
       "      <td>0.050680</td>\n",
       "      <td>0.061696</td>\n",
       "      <td>0.021872</td>\n",
       "      <td>-0.044223</td>\n",
       "      <td>-0.034821</td>\n",
       "      <td>-0.043401</td>\n",
       "      <td>-0.002592</td>\n",
       "      <td>0.019908</td>\n",
       "      <td>-0.017646</td>\n",
       "    </tr>\n",
       "    <tr>\n",
       "      <th>1</th>\n",
       "      <td>-0.001882</td>\n",
       "      <td>-0.044642</td>\n",
       "      <td>-0.051474</td>\n",
       "      <td>-0.026328</td>\n",
       "      <td>-0.008449</td>\n",
       "      <td>-0.019163</td>\n",
       "      <td>0.074412</td>\n",
       "      <td>-0.039493</td>\n",
       "      <td>-0.068330</td>\n",
       "      <td>-0.092204</td>\n",
       "    </tr>\n",
       "    <tr>\n",
       "      <th>2</th>\n",
       "      <td>0.085299</td>\n",
       "      <td>0.050680</td>\n",
       "      <td>0.044451</td>\n",
       "      <td>-0.005671</td>\n",
       "      <td>-0.045599</td>\n",
       "      <td>-0.034194</td>\n",
       "      <td>-0.032356</td>\n",
       "      <td>-0.002592</td>\n",
       "      <td>0.002864</td>\n",
       "      <td>-0.025930</td>\n",
       "    </tr>\n",
       "    <tr>\n",
       "      <th>3</th>\n",
       "      <td>-0.089063</td>\n",
       "      <td>-0.044642</td>\n",
       "      <td>-0.011595</td>\n",
       "      <td>-0.036656</td>\n",
       "      <td>0.012191</td>\n",
       "      <td>0.024991</td>\n",
       "      <td>-0.036038</td>\n",
       "      <td>0.034309</td>\n",
       "      <td>0.022692</td>\n",
       "      <td>-0.009362</td>\n",
       "    </tr>\n",
       "    <tr>\n",
       "      <th>4</th>\n",
       "      <td>0.005383</td>\n",
       "      <td>-0.044642</td>\n",
       "      <td>-0.036385</td>\n",
       "      <td>0.021872</td>\n",
       "      <td>0.003935</td>\n",
       "      <td>0.015596</td>\n",
       "      <td>0.008142</td>\n",
       "      <td>-0.002592</td>\n",
       "      <td>-0.031991</td>\n",
       "      <td>-0.046641</td>\n",
       "    </tr>\n",
       "  </tbody>\n",
       "</table>\n",
       "</div>"
      ],
      "text/plain": [
       "        age       sex       bmi        bp        s1        s2        s3  \\\n",
       "0  0.038076  0.050680  0.061696  0.021872 -0.044223 -0.034821 -0.043401   \n",
       "1 -0.001882 -0.044642 -0.051474 -0.026328 -0.008449 -0.019163  0.074412   \n",
       "2  0.085299  0.050680  0.044451 -0.005671 -0.045599 -0.034194 -0.032356   \n",
       "3 -0.089063 -0.044642 -0.011595 -0.036656  0.012191  0.024991 -0.036038   \n",
       "4  0.005383 -0.044642 -0.036385  0.021872  0.003935  0.015596  0.008142   \n",
       "\n",
       "         s4        s5        s6  \n",
       "0 -0.002592  0.019908 -0.017646  \n",
       "1 -0.039493 -0.068330 -0.092204  \n",
       "2 -0.002592  0.002864 -0.025930  \n",
       "3  0.034309  0.022692 -0.009362  \n",
       "4 -0.002592 -0.031991 -0.046641  "
      ]
     },
     "execution_count": 20,
     "metadata": {},
     "output_type": "execute_result"
    }
   ],
   "source": [
    "data = load_diabetes()\n",
    "data.keys()\n",
    "X = pd.DataFrame(data['data'], columns=data['feature_names'])\n",
    "y = pd.Series(data['target'])\n",
    "del data\n",
    "X.columns = pd.Index(rename_columns(x) for x in X.columns)\n",
    "X.head()"
   ]
  },
  {
   "cell_type": "code",
   "execution_count": 21,
   "id": "da7ff9c9",
   "metadata": {},
   "outputs": [
    {
     "data": {
      "text/plain": [
       "0      151.0\n",
       "1       75.0\n",
       "2      141.0\n",
       "3      206.0\n",
       "4      135.0\n",
       "       ...  \n",
       "437    178.0\n",
       "438    104.0\n",
       "439    132.0\n",
       "440    220.0\n",
       "441     57.0\n",
       "Length: 442, dtype: float64"
      ]
     },
     "execution_count": 21,
     "metadata": {},
     "output_type": "execute_result"
    }
   ],
   "source": [
    "y"
   ]
  },
  {
   "cell_type": "markdown",
   "id": "17bad8bd",
   "metadata": {},
   "source": [
    "#### Max depth = 1"
   ]
  },
  {
   "cell_type": "code",
   "execution_count": 22,
   "id": "af0739ac",
   "metadata": {},
   "outputs": [
    {
     "data": {
      "text/plain": [
       "3622.711742378153"
      ]
     },
     "execution_count": 22,
     "metadata": {},
     "output_type": "execute_result"
    }
   ],
   "source": [
    "preds = DecisionTree(max_depth=1).fit(X, y,type_of_node=DecisionRegressionNode).predict(X)\n",
    "avg_squared_difference(y-preds)"
   ]
  },
  {
   "cell_type": "markdown",
   "id": "13e82667",
   "metadata": {},
   "source": [
    "#### Max depth = 3"
   ]
  },
  {
   "cell_type": "code",
   "execution_count": 23,
   "id": "05903353",
   "metadata": {},
   "outputs": [
    {
     "data": {
      "text/plain": [
       "2910.8226603045914"
      ]
     },
     "execution_count": 23,
     "metadata": {},
     "output_type": "execute_result"
    }
   ],
   "source": [
    "preds = DecisionTree(max_depth=3).fit(X, y,type_of_node=DecisionRegressionNode).predict(X)\n",
    "avg_squared_difference(y-preds)"
   ]
  },
  {
   "cell_type": "markdown",
   "id": "6259b629",
   "metadata": {},
   "source": [
    "#### Max depth = 5"
   ]
  },
  {
   "cell_type": "code",
   "execution_count": 24,
   "id": "9ac41f0b",
   "metadata": {},
   "outputs": [
    {
     "data": {
      "text/plain": [
       "1958.2496839949893"
      ]
     },
     "execution_count": 24,
     "metadata": {},
     "output_type": "execute_result"
    }
   ],
   "source": [
    "preds = DecisionTree(max_depth=5).fit(X, y,type_of_node=DecisionRegressionNode).predict(X)\n",
    "avg_squared_difference(y-preds)"
   ]
  },
  {
   "cell_type": "markdown",
   "id": "a4376152",
   "metadata": {},
   "source": [
    "#### Max depth = 10"
   ]
  },
  {
   "cell_type": "code",
   "execution_count": 25,
   "id": "15d2c21c",
   "metadata": {},
   "outputs": [
    {
     "data": {
      "text/plain": [
       "2.1006787330316743"
      ]
     },
     "execution_count": 25,
     "metadata": {},
     "output_type": "execute_result"
    }
   ],
   "source": [
    "preds = DecisionTree(max_depth=10).fit(X, y,type_of_node=DecisionRegressionNode).predict(X)\n",
    "avg_squared_difference(y-preds)"
   ]
  },
  {
   "cell_type": "markdown",
   "id": "3afd18a8",
   "metadata": {},
   "source": [
    "#### Max depth = 15"
   ]
  },
  {
   "cell_type": "code",
   "execution_count": 26,
   "id": "68207b59",
   "metadata": {},
   "outputs": [
    {
     "data": {
      "text/plain": [
       "0.0"
      ]
     },
     "execution_count": 26,
     "metadata": {},
     "output_type": "execute_result"
    }
   ],
   "source": [
    "preds = DecisionTree(max_depth=15).fit(X, y,type_of_node=DecisionRegressionNode).predict(X)\n",
    "avg_squared_difference(y-preds)"
   ]
  },
  {
   "cell_type": "markdown",
   "id": "64cc7783",
   "metadata": {},
   "source": [
    "# Bias-Variance Decomposition\n",
    "\n",
    "\n",
    "\n",
    "Increasing max depth in Decision Trees should ring bells for overfitting, i.e,. __increasing the variance part of bias-variance decomposition__.\n",
    "\n",
    "\n",
    "1- Predictions of decision trees are neither __smooth__ nor __continuous__, but piecewise constant approximations\n",
    "2. There are concepts that are hard to learn because decision trees do not express them easily, such as XOR, parity or multiplexer problems"
   ]
  },
  {
   "cell_type": "markdown",
   "id": "28c57544",
   "metadata": {},
   "source": [
    "# Bagging (Bootstraph Aggregating)"
   ]
  },
  {
   "cell_type": "markdown",
   "id": "e8deeca9",
   "metadata": {},
   "source": [
    "### Recall The Bias-Variance Decomposition\n",
    "\n",
    "$$\n",
    "\\begin{equation*}\n",
    "    \\underbrace{\\mathbb{E}[(h_D(x) - y)^2]}_\\mathrm{Error} = \\underbrace{\\mathbb{E}[(h_D(x)-\\bar{h}(x))^2]}_\\mathrm{Variance} + \\underbrace{\\mathbb{E}[(\\bar{h}(x)-\\bar{y}(x))^2]}_\\mathrm{Bias} + \\underbrace{\\mathbb{E}[(\\bar{y}(x)-y(x))^2]}_\\mathrm{Noise}\n",
    "\\end{equation*}\n",
    "$$\n",
    "\n",
    "Our goal is to reduce the variance term: $\\mathbb{E}[(h_D(x)-\\bar{h}(x))^2]$. Hence, $ h_D \\to \\bar{h}$"
   ]
  },
  {
   "cell_type": "markdown",
   "id": "13382d9e",
   "metadata": {},
   "source": [
    "### Weak law of large numbers\n",
    "\n",
    "the weak law of large numbers says (roughly) for i.i.d. random variables $x_i$ with mean  $\\bar{x}$\n",
    "$$ \\frac{1}{m}\\sum_{i = 1}^{m}x_i \\rightarrow \\bar{x} \\textrm{ as }  m\\rightarrow \\infty$$\n",
    "\n",
    "Assume that we have $\\mathcal D_i, \\dots \\mathcal D_n$ drawn from $\\mathbb P ^n(\\mathcal X, \\mathcal Y)$\n",
    "\n",
    "$$ \\hat{h} = \\frac{1}{m}\\sum_{i = 1}^m h_{D_i} \\to \\bar{h} \\qquad as\\  m \\to \\infty $$"
   ]
  },
  {
   "cell_type": "markdown",
   "id": "8a2acf9b",
   "metadata": {},
   "source": [
    "### Prediction: Averaging m classifiers\n",
    "\n",
    "\n",
    "$$ \\hat{h}_D(x) = \\frac{1}{m}\\sum_{i = 1}^{m}h_{D_i}(x) $$"
   ]
  },
  {
   "cell_type": "markdown",
   "id": "a112bd2a",
   "metadata": {},
   "source": [
    "## Creating bootstraph dataset\n",
    "\n",
    "Create them by drawing uniformly with replacement from the origially given set $\\mathcal D$"
   ]
  },
  {
   "cell_type": "markdown",
   "id": "0454bd46",
   "metadata": {},
   "source": [
    "\n",
    "1. Reduces variance, so has a strong beneficial effect on high variance classifiers.\n",
    "2. As the prediction is an average of many classifiers, you obtain a mean score and variance.\n",
    "3. Bagging provides an unbiased estimate of the test error, which we refer to as the __out-of-bag error__. \n",
    "\n",
    "\n",
    "\n",
    "### Out-of-Bag Error\n",
    "$$ \\forall (\\mathbf{x}_i,y_i)\\in D \\\\ \\tilde \n",
    "S_i=\\{k| (\\mathbf{x}_i,y_i)\\notin D_k\\}$$\n",
    "\n",
    "\n",
    "$S_i$ is a set of all the training sets $D_k$ not containing $(x_k ,y_k)$\n",
    "\n",
    "$$ \\\\\n",
    "h_i(\\mathbf{x})=\\frac{1}{|S_i|}\\sum_{k\\in S_i}h_k(\\mathbf{x}). $$\n",
    "\n",
    "$$ \\\\ \\epsilon_\\mathrm{OOB}=\\frac{1}{n}\\sum_{(\\mathbf{x}_i, y_i) \\in D}l(\\tilde h_i(\\mathbf{x_i}),y_i) $$\n",
    "The idea is that each training point was not picked and all the data sets Dk. If we average the classifiers hk of all such data sets, we obtain a classifier (with a slightly smaller m) that was not trained on (xi,yi) ever and it is therefore equivalent to a test sample. If we compute the error of all these classifiers, we obtain an estimate of the true test error. The beauty is that we can do this without reducing the training set. We just run bagging as it is intended and obtain this so called out-of-bag error for free\n",
    "\n",
    "### Feature Selection\n",
    "\n",
    "1. Train Random Forest.\n",
    "2. Look at whenever you split a feature how much impurity goes down.\n",
    "3. Rank those splits.\n",
    "4. You got the most important features."
   ]
  },
  {
   "cell_type": "markdown",
   "id": "11b3fa85",
   "metadata": {},
   "source": [
    "# Random Forest\n",
    "\n",
    "https://link.springer.com/article/10.1023/A:1010933404324"
   ]
  },
  {
   "cell_type": "markdown",
   "id": "457fa496",
   "metadata": {},
   "source": [
    "1. Create m datasest with replacement\n",
    "2. Train $m$ decision tree. Perform each split by considering only $k=\\sqrt{d}$ randomly selected features\n",
    "3. Final classifier : $ h(\\mathbf{x})=\\frac{1}{m}\\sum_{j=1}^m h_j(\\mathbf{x})$"
   ]
  },
  {
   "cell_type": "markdown",
   "id": "4b4fe96d",
   "metadata": {},
   "source": [
    "Set m as big as you can store in your machine."
   ]
  },
  {
   "cell_type": "markdown",
   "id": "d88a8473",
   "metadata": {},
   "source": [
    "## [Kilian Weinberger](https://www.youtube.com/watch?v=4EOCQJgqAOY&list=PLl8OlHZGYOQ7bkVbuRthEsaLr7bONzbXS&index=31) $$ \\text{Most of the time RF is the second best algorithm}$$"
   ]
  },
  {
   "cell_type": "markdown",
   "id": "d994f465",
   "metadata": {},
   "source": [
    "# TODOs\n",
    "Intread key messages from scikit learn blogs\n",
    "\n",
    "1. https://scikit-learn.org/stable/auto_examples/release_highlights/plot_release_highlights_0_24_0.html#individual-conditional-expectation-plots\n",
    "\n",
    "2. https://scikit-learn.org/stable/auto_examples/calibration/plot_compare_calibration.html#sphx-glr-auto-examples-calibration-plot-compare-calibration-py\n",
    "\n",
    "3. https://scikit-learn.org/stable/auto_examples/ensemble/plot_ensemble_oob.html#sphx-glr-auto-examples-ensemble-plot-ensemble-oob-py\n",
    "\n",
    "4. https://scikit-learn.org/stable/auto_examples/inspection/plot_permutation_importance_multicollinear.html#sphx-glr-auto-examples-inspection-plot-permutation-importance-multicollinear-py\n",
    "\n",
    "5. https://scikit-learn.org/stable/common_pitfalls.html#common-pitfalls"
   ]
  }
 ],
 "metadata": {
  "kernelspec": {
   "display_name": "pDL",
   "language": "python",
   "name": "pdl"
  },
  "language_info": {
   "codemirror_mode": {
    "name": "ipython",
    "version": 3
   },
   "file_extension": ".py",
   "mimetype": "text/x-python",
   "name": "python",
   "nbconvert_exporter": "python",
   "pygments_lexer": "ipython3",
   "version": "3.8.10"
  }
 },
 "nbformat": 4,
 "nbformat_minor": 5
}
