{
 "cells": [
  {
   "cell_type": "markdown",
   "id": "f3f1150b",
   "metadata": {},
   "source": [
    "# Naive Bayes\n",
    "\n",
    "\n",
    "Tutorial is based on \n",
    "\n",
    "1. GENERATIVE AND DISCRIMINATIVE CLASSIFIERS: NAIVE BAYES AND LOGISTIC REGRESSION by Tom M. Mitchell\n",
    "\n",
    "2. [CORNELL CS4780 \"Machine Learning for Intelligent Systems\"](https://www.youtube.com/watch?v=VDK0nkjFh5U&list=PLl8OlHZGYOQ7bkVbuRthEsaLr7bONzbXS&index=9) by Killian Weinberger."
   ]
  },
  {
   "cell_type": "markdown",
   "id": "7186390c",
   "metadata": {},
   "source": [
    "# Learning Problem\n",
    "\n",
    "## Setup $\\mathcal D = \\{(x_i,y_i) \\}_{i=1} ^n \\; \\text{ s.t. } \\; \\mathcal D \\sim \\mathbb P(\\mathcal X , \\mathcal Y)$\n",
    "\n",
    "\n",
    "## Desining Learning Algorithm based on Bayes Rule\n",
    "\n",
    "### 1. Bayes Rule: $$\\mathbb P(\\mathcal Y = x | \\mathcal X = x) = \\frac{\\mathbb P(\\mathcal X = x | \\mathcal Y = y)  \\mathbb P(\\mathcal Y = y)  }{\\mathbb P(\\mathcal X = x)}$$\n",
    "In short:\n",
    "### $$ \\mathbb p \\left(y|x\\right) = \\frac{ \\mathbb p \\left( x | y\\right) \\mathbb p \\left(y\\right)}{ \\mathbb p \\left(x\\right)}$$\n",
    "\n",
    "### $$ \\mathbb p \\left(y|x\\right) = \\frac{ \\mathbb p \\left( x | y\\right) \\mathbb p \\left(y\\right)}{ \\sum_j \\mathbb P (x | y_j ) \\mathbb P(y_j)}$$\n",
    "\n"
   ]
  },
  {
   "cell_type": "markdown",
   "id": "991408e9",
   "metadata": {},
   "source": [
    "## Unbiased Learning of Bayes Classifiers is Impractical\n",
    "\n",
    "\n",
    "1. A maximum likelihood estimate of $\\mathbb P(\\mathcal Y)$ can be estimated within a few percent of its correct value provided that $\\mathcal Y$ is a boolean variable (Why?\n",
    "See Chapter 5 of edition 1 of Machine Learning.Tom M. Mitchell)\n",
    "\n",
    "2. Estimating $\\mathbb P( \\mathcal X \\mid \\mathcal Y)$ is impractical. Here is why\n",
    "\n",
    "\n",
    "\n",
    "### $$ \\Theta_{ij} = \\mathbb{P}(x_i | y_j)$$\n",
    "\n",
    "\n",
    "1. $ x \\in \\mathcal X$, $x_i$ denotes the i.th feature of $x$.\n",
    "2. $ y \\in \\mathcal y$, $y_j$ denotes the j.th possible value.\n",
    "\n",
    "\n",
    "For any particular __label__, there are $2^d$ number of unique $x$, where $d$ stands for the number of features describing $x$. \n",
    "\n",
    "\n",
    "\n"
   ]
  },
  {
   "cell_type": "markdown",
   "id": "3f91e468",
   "metadata": {},
   "source": [
    "### Let's assume that a label can take on only 2 unique values (e.g. $\\{ 1,0 \\}$), we need to estimate $2(2^d -1)$ parameters as each unique $x$ can have two different labels."
   ]
  },
  {
   "cell_type": "markdown",
   "id": "a005fbc5",
   "metadata": {},
   "source": [
    "### Quote: Worse yet, to obtain reliable estimates of each of these parameters, we will need to observe each of these distinct instances multiple times! For example, __if x is a vector containing 30 boolean features, then we will need to estimate more than 3 billion parameters.__ \n"
   ]
  },
  {
   "cell_type": "markdown",
   "id": "ff87b727",
   "metadata": {},
   "source": [
    "# Naive Bayes $$\\text{From } 2(2^d -1) \\; \\text{ to } 2d $$\n",
    "\n",
    "## Conditional independence $$\\mathbb P (x_1, \\dots, x_d \\mid y) = \\prod_{i=1} ^d \\mathbb P( x_i \\mid y) $$\n",
    "\n",
    "\n",
    "### 1. $$ \\mathbb P \\left(y|x\\right) = \\frac{ \\mathbb P \\left( x | y\\right) \\mathbb P \\left(y\\right)}{ \\mathbb P \\left(x\\right)}$$\n",
    "\n",
    "\n",
    "\n",
    "### 2. $$ \\mathbb p \\left(y|x\\right) = \\frac{\\prod^{d}_{i=1} \\mathbb P \\left( x_i | y\\right) \\mathbb P \\left(y\\right)}{ \\mathbb P \\left(x\\right)}$$\n",
    "__The conditional independence assumpion is applied__"
   ]
  },
  {
   "cell_type": "markdown",
   "id": "e5b6de55",
   "metadata": {},
   "source": [
    "## Naive Bayes on Discrete-Valued Inputs\n",
    "\n",
    "\n",
    "From $\\mathcal D$, we can estimate\n",
    "\n",
    "$$ \\hat{\\mathbb P}(\\mathcal X = x) = \\frac{\\sum_i I(x_i=x)}{n}$$\n",
    "\n",
    "\n",
    "$$ \\hat{\\mathbb P}(\\mathcal X = x , \\mathcal Y = y) = \\frac{\\sum_i I(x_i=x \\wedge y_i= y)}{n}$$\n",
    "\n",
    "\n",
    "$$ \\hat{\\mathbb P}(\\mathcal Y = x | \\mathcal X = x) = \\frac{\\hat{\\mathbb P}(\\mathcal X = x , \\mathcal Y = y)}{\\hat{\\mathbb P}(\\mathcal X = x)}=\\frac{\\sum_i I(x_i=x \\wedge y_i= y)}{\\sum_i I(x_i=x)}$$\n",
    "\n",
    "\n",
    "When the input attributes $X_i$ can take on $J$ possible discrete values, and $Y$ is a discrete variable taking on $K$ possible values, learning problem is to estimate\n",
    "\n",
    "### 1.  $$ \\Theta_{ijk} \\equiv \\mathbb P (x_{ij} \\mid y_j)$$\n",
    "\n",
    "\n",
    "$x_{ij}$ denotes i.th feature of $x$ takes j.th value $y$ can take on $K$ possible values. Hence, __we have $dJK$ parameters__. Only $n(J-1)K$ params are independent given that they must satisfiy $1 =\\sum_j \\Theta_{ijk}$ for each pair of i,k.\n",
    "\n",
    "### 2. $$ \\pi_k = \\mathbb P (Y=y_k)$$\n",
    "\n",
    "\n",
    "\n",
    "We can estimate these parameters using either maximum likelihood estimates\n",
    "(based on calculating the relative frequencies of the different events in the data),\n",
    "or using Bayesian MAP estimates (augmenting this observed data with prior dis-\n",
    "tributions over the values of these parameters)\n",
    "\n"
   ]
  },
  {
   "cell_type": "markdown",
   "id": "7b34d475",
   "metadata": {},
   "source": [
    "### 3. Maximum Likelihood Estimate (MLE)\n",
    "\n",
    "\n",
    "### $$ \\hat \\Theta_{ijk} = \\hat{\\mathbb{P}} (X_i = x_{ij} \\mid Y=y_k) = \\frac{ \\mid \\{X_i = x_{ij} \\wedge Y=y_k \\} \\mid }{  \\mid\\{ Y=y_k\\} \\mid }$$\n",
    "\n",
    "\n",
    "### 4. Smooted MLE $$ \\hat \\Theta_{ijk} = \\hat{\\mathbb{P}} (X_i = x_{ij} \\mid Y=y_k) = \\frac{ \\mid \\{X_i = x_{ij} \\wedge Y=y_k \\} \\mid I }{  \\mid\\{ Y=y_k\\} \\mid + IJ }$$\n",
    "\n",
    "\n",
    "$$ \\hat{\\pi}_k = \\hat{\\mathbb{P}}(Y=y_k) = \\frac{\\mid \\{Y=y_k \\}\\mid}{ \\mid D \\mid}$$\n",
    "\n",
    "$$ \\hat{\\pi}_k = \\hat{\\mathbb{P}}(Y=y_k) = \\frac{\\mid \\{Y=y_k \\}\\mid + l}{ \\mid D \\mid + lK}$$\n",
    "\n",
    "$J$ is hte number of distinct values $X_i$ can take on and $l$ determines the strength of this smoothing.\n"
   ]
  },
  {
   "cell_type": "markdown",
   "id": "169a9803",
   "metadata": {},
   "source": [
    "# Naive Bayes (MLE) Implementation\n",
    "\n",
    "The above problem is actually a naive Bayes problem with Bernoulli distributed features\n",
    "\n",
    "what is the lael of  x=[H, H, T, H ] is Red or Blue"
   ]
  },
  {
   "cell_type": "code",
   "execution_count": 1,
   "id": "9c310676",
   "metadata": {},
   "outputs": [
    {
     "data": {
      "text/html": [
       "<div>\n",
       "<style scoped>\n",
       "    .dataframe tbody tr th:only-of-type {\n",
       "        vertical-align: middle;\n",
       "    }\n",
       "\n",
       "    .dataframe tbody tr th {\n",
       "        vertical-align: top;\n",
       "    }\n",
       "\n",
       "    .dataframe thead th {\n",
       "        text-align: right;\n",
       "    }\n",
       "</style>\n",
       "<table border=\"1\" class=\"dataframe\">\n",
       "  <thead>\n",
       "    <tr style=\"text-align: right;\">\n",
       "      <th></th>\n",
       "      <th>penny</th>\n",
       "      <th>nickel</th>\n",
       "      <th>dime</th>\n",
       "      <th>quarter</th>\n",
       "      <th>hat</th>\n",
       "    </tr>\n",
       "    <tr>\n",
       "      <th>game</th>\n",
       "      <th></th>\n",
       "      <th></th>\n",
       "      <th></th>\n",
       "      <th></th>\n",
       "      <th></th>\n",
       "    </tr>\n",
       "  </thead>\n",
       "  <tbody>\n",
       "    <tr>\n",
       "      <th>1</th>\n",
       "      <td>T</td>\n",
       "      <td>H</td>\n",
       "      <td>T</td>\n",
       "      <td>T</td>\n",
       "      <td>Red</td>\n",
       "    </tr>\n",
       "    <tr>\n",
       "      <th>2</th>\n",
       "      <td>T</td>\n",
       "      <td>T</td>\n",
       "      <td>H</td>\n",
       "      <td>T</td>\n",
       "      <td>Blue</td>\n",
       "    </tr>\n",
       "    <tr>\n",
       "      <th>3</th>\n",
       "      <td>T</td>\n",
       "      <td>H</td>\n",
       "      <td>T</td>\n",
       "      <td>H</td>\n",
       "      <td>Blue</td>\n",
       "    </tr>\n",
       "    <tr>\n",
       "      <th>4</th>\n",
       "      <td>H</td>\n",
       "      <td>H</td>\n",
       "      <td>H</td>\n",
       "      <td>T</td>\n",
       "      <td>Red</td>\n",
       "    </tr>\n",
       "    <tr>\n",
       "      <th>5</th>\n",
       "      <td>H</td>\n",
       "      <td>H</td>\n",
       "      <td>T</td>\n",
       "      <td>T</td>\n",
       "      <td>Red</td>\n",
       "    </tr>\n",
       "    <tr>\n",
       "      <th>6</th>\n",
       "      <td>T</td>\n",
       "      <td>T</td>\n",
       "      <td>H</td>\n",
       "      <td>H</td>\n",
       "      <td>Blue</td>\n",
       "    </tr>\n",
       "    <tr>\n",
       "      <th>7</th>\n",
       "      <td>H</td>\n",
       "      <td>H</td>\n",
       "      <td>T</td>\n",
       "      <td>T</td>\n",
       "      <td>Red</td>\n",
       "    </tr>\n",
       "    <tr>\n",
       "      <th>8</th>\n",
       "      <td>T</td>\n",
       "      <td>T</td>\n",
       "      <td>H</td>\n",
       "      <td>T</td>\n",
       "      <td>Blue</td>\n",
       "    </tr>\n",
       "    <tr>\n",
       "      <th>9</th>\n",
       "      <td>T</td>\n",
       "      <td>H</td>\n",
       "      <td>H</td>\n",
       "      <td>T</td>\n",
       "      <td>Blue</td>\n",
       "    </tr>\n",
       "    <tr>\n",
       "      <th>10</th>\n",
       "      <td>H</td>\n",
       "      <td>H</td>\n",
       "      <td>H</td>\n",
       "      <td>T</td>\n",
       "      <td>Red</td>\n",
       "    </tr>\n",
       "    <tr>\n",
       "      <th>11</th>\n",
       "      <td>T</td>\n",
       "      <td>T</td>\n",
       "      <td>H</td>\n",
       "      <td>T</td>\n",
       "      <td>Blue</td>\n",
       "    </tr>\n",
       "    <tr>\n",
       "      <th>12</th>\n",
       "      <td>T</td>\n",
       "      <td>H</td>\n",
       "      <td>H</td>\n",
       "      <td>T</td>\n",
       "      <td>Red</td>\n",
       "    </tr>\n",
       "    <tr>\n",
       "      <th>13</th>\n",
       "      <td>H</td>\n",
       "      <td>H</td>\n",
       "      <td>T</td>\n",
       "      <td>T</td>\n",
       "      <td>Red</td>\n",
       "    </tr>\n",
       "    <tr>\n",
       "      <th>14</th>\n",
       "      <td>T</td>\n",
       "      <td>T</td>\n",
       "      <td>H</td>\n",
       "      <td>H</td>\n",
       "      <td>Blue</td>\n",
       "    </tr>\n",
       "    <tr>\n",
       "      <th>15</th>\n",
       "      <td>T</td>\n",
       "      <td>H</td>\n",
       "      <td>H</td>\n",
       "      <td>T</td>\n",
       "      <td>Blue</td>\n",
       "    </tr>\n",
       "    <tr>\n",
       "      <th>16</th>\n",
       "      <td>T</td>\n",
       "      <td>T</td>\n",
       "      <td>H</td>\n",
       "      <td>H</td>\n",
       "      <td>Blue</td>\n",
       "    </tr>\n",
       "    <tr>\n",
       "      <th>17</th>\n",
       "      <td>H</td>\n",
       "      <td>T</td>\n",
       "      <td>H</td>\n",
       "      <td>H</td>\n",
       "      <td>Red</td>\n",
       "    </tr>\n",
       "    <tr>\n",
       "      <th>18</th>\n",
       "      <td>H</td>\n",
       "      <td>T</td>\n",
       "      <td>H</td>\n",
       "      <td>T</td>\n",
       "      <td>Blue</td>\n",
       "    </tr>\n",
       "  </tbody>\n",
       "</table>\n",
       "</div>"
      ],
      "text/plain": [
       "     penny nickel dime quarter   hat\n",
       "game                                \n",
       "1        T      H    T       T   Red\n",
       "2        T      T    H       T  Blue\n",
       "3        T      H    T       H  Blue\n",
       "4        H      H    H       T   Red\n",
       "5        H      H    T       T   Red\n",
       "6        T      T    H       H  Blue\n",
       "7        H      H    T       T   Red\n",
       "8        T      T    H       T  Blue\n",
       "9        T      H    H       T  Blue\n",
       "10       H      H    H       T   Red\n",
       "11       T      T    H       T  Blue\n",
       "12       T      H    H       T   Red\n",
       "13       H      H    T       T   Red\n",
       "14       T      T    H       H  Blue\n",
       "15       T      H    H       T  Blue\n",
       "16       T      T    H       H  Blue\n",
       "17       H      T    H       H   Red\n",
       "18       H      T    H       T  Blue"
      ]
     },
     "execution_count": 1,
     "metadata": {},
     "output_type": "execute_result"
    }
   ],
   "source": [
    "import pandas as pd\n",
    "import numpy as np\n",
    "import io\n",
    "game=\"\"\"game penny nickel dime quarter hat\n",
    "1 T H T T Red\n",
    "2 T T H T Blue\n",
    "3 T H T H Blue\n",
    "4 H H H T Red\n",
    "5 H H T T Red\n",
    "6 T T H H Blue\n",
    "7 H H T T Red\n",
    "8 T T H T Blue\n",
    "9 T H H T Blue\n",
    "10 H H H T Red\n",
    "11 T T H T Blue\n",
    "12 T H H T Red\n",
    "13 H H T T Red\n",
    "14 T T H H Blue\n",
    "15 T H H T Blue\n",
    "16 T T H H Blue\n",
    "17 H T H H Red\n",
    "18 H T H T Blue\"\"\"\n",
    "df = pd.read_table(io.StringIO(game),sep=' ',index_col=0)\n",
    "df"
   ]
  },
  {
   "cell_type": "markdown",
   "id": "d4b76d87",
   "metadata": {},
   "source": [
    "# Estimating probabilities\n",
    "\n",
    "\n",
    "\n",
    "### 1. $$ \\mathbb P (y=RED | \\vec x =[Penny=H,Nickel=H,Dime=T,Quarter=H ]) = \\frac{\\mathbb P (\\vec x | y)} {\\mathbb P (\\vec x )} $$\n",
    "\n"
   ]
  },
  {
   "cell_type": "markdown",
   "id": "40606e4a",
   "metadata": {},
   "source": [
    "### 2. Compute Probabilities $$\\hat{\\theta}_{i,j,k} = \\frac{\\sum_{i = 1}^{18}I(y_i = c)I(x_{ia} = j)}{\\sum_{i=1}^{18}I(y_i = c)}$$\n",
    "### $$\\hat{\\theta}_{penny,H,R} = \\frac{3}{4} = 0.75 \\; \\text{ and } \\; \\hat{\\theta}_{penny, H,B} = \\frac{1}{10} = 0.1 $$\n",
    "\n",
    "### $$ \\hat{\\theta}_{nickel,H,R} = \\frac{7}{8} = 0.875 \\; \\text{ and } \\; \\hat{\\theta}_{nickel,H,B} = \\frac{3}{10} = 0.3$$\n",
    "\n",
    "### $$\\hat{\\theta}_{dime,T,R} = \\frac{1}{2} = 0.5 \\; \\text{ and } \\; \\hat{\\theta}_{dime,T,B} = \\frac{1}{10} = 0.1 $$\n",
    "\n",
    "### $$\\hat{\\theta}_{quarter,H,R} = \\frac{1}{8} = 0.125  \\; \\text{ and } \\; \\hat{\\theta}_{quarter,H,B} = \\frac{4}{10} = 0.4$$"
   ]
  },
  {
   "cell_type": "code",
   "execution_count": 2,
   "id": "1f6dc8f2",
   "metadata": {},
   "outputs": [
    {
     "name": "stdout",
     "output_type": "stream",
     "text": [
      "P(penny=H | hat=Red) 0.75\n",
      "P(nickel=H | hat=Red) 0.875\n",
      "P(dime=T | hat=Red) 0.5\n",
      "P(quarter=H | hat=Red) 0.125\n"
     ]
    }
   ],
   "source": [
    "# x=[H,H,T,H]\n",
    "penny_h_given_red=sum(df[df.penny=='H'].hat=='Red')/sum(df.hat=='Red')\n",
    "print('P(penny=H | hat=Red)',penny_h_given_red)\n",
    "nickel_h_given_red=sum(df[df.nickel=='H'].hat=='Red')/sum(df.hat=='Red')\n",
    "print('P(nickel=H | hat=Red)',nickel_h_given_red)\n",
    "dime_t_given_red=sum(df[df.dime=='T'].hat=='Red')/sum(df.hat=='Red')\n",
    "print('P(dime=T | hat=Red)',dime_t_given_red)\n",
    "quarter_h_given_red=sum(df[df.quarter=='H'].hat=='Red')/sum(df.hat=='Red')\n",
    "print('P(quarter=H | hat=Red)',quarter_h_given_red)"
   ]
  },
  {
   "cell_type": "code",
   "execution_count": 3,
   "id": "7742869b",
   "metadata": {},
   "outputs": [
    {
     "name": "stdout",
     "output_type": "stream",
     "text": [
      "P(penny=H | hat=Blue) 0.1\n",
      "P(nickel=H | Hat=Blue) 0.3\n",
      "P(dime=T | Hat=Blue) 0.1\n",
      "P(quarter=H | hat=Blue) 0.4\n"
     ]
    }
   ],
   "source": [
    "nominator=penny_h_given_red * nickel_h_given_red * dime_t_given_red * quarter_h_given_red\n",
    "\n",
    "penny_h_given_blue=sum(df[df.penny=='H'].hat=='Blue')/sum(df.hat=='Blue')\n",
    "print('P(penny=H | hat=Blue)',penny_h_given_blue)\n",
    "\n",
    "nickel_h_given_blue=sum(df[df.nickel=='H'].hat=='Blue')/sum(df.hat=='Blue')\n",
    "print('P(nickel=H | Hat=Blue)',nickel_h_given_blue)\n",
    "\n",
    "dime_t_given_blue=sum(df[df.dime=='T'].hat=='Blue')/sum(df.hat=='Blue')\n",
    "print('P(dime=T | Hat=Blue)',dime_t_given_blue)\n",
    "\n",
    "quarter_h_given_blue=sum(df[df.quarter=='H'].hat=='Blue')/sum(df.hat=='Blue')\n",
    "print('P(quarter=H | hat=Blue)',quarter_h_given_blue)"
   ]
  },
  {
   "cell_type": "markdown",
   "id": "77d0690f",
   "metadata": {},
   "source": [
    "\n",
    "###  2. $$ \\mathbb P \\left(y|x\\right) = \\frac{\\prod^{d}_{i=1} \\mathbb P \\left( x_i | y\\right) \\mathbb P \\left(y\\right)}{ \\mathbb P \\left(x\\right)}$$\n"
   ]
  },
  {
   "cell_type": "markdown",
   "id": "bd90de8e",
   "metadata": {},
   "source": [
    "### 3. $$ \\mathbb P \\left(y|x\\right) =  \\frac{\\prod_{i = 1}^{d} \\hat{\\theta}_{ijR} \\; \\mathbb P(y = R)}{\\prod_{i = 1}^ d \\hat{\\theta}_{ijR} \\; \\mathbb P(y=R) + \\prod_{i = 1}^d  \\hat{\\theta}_{ijB} \\; \\mathbb P(y=B)}$$\n",
    "\n",
    "__where__\n",
    "\n",
    "### $$ \\hat \\Theta_{ijk} = \\hat{\\mathbb{P}} (X_i = x_{ij} \\mid Y=y_k) = \\frac{ \\mid \\{X_i = x_{ij} \\wedge Y=y_k \\} \\mid }{  \\mid\\{ Y=y_k\\} \\mid }$$\n",
    "\n",
    "### 4. Remove constats $$ \\mathbb P \\left(y|x\\right) =  \\frac{\\prod_{i = 1}^{d} \\hat{\\theta}_{ijR}}{\\prod_{i = 1}^ d \\hat{\\theta}_{ijR} \\;  + \\prod_{i = 1}^d  \\hat{\\theta}_{ijB} }$$"
   ]
  },
  {
   "cell_type": "markdown",
   "id": "4b69561b",
   "metadata": {},
   "source": [
    "## 5. Putting (2) in (4) $$\\frac{4375}{4503} = 0.972$$"
   ]
  },
  {
   "cell_type": "code",
   "execution_count": 4,
   "id": "6b9ba00f",
   "metadata": {},
   "outputs": [
    {
     "name": "stdout",
     "output_type": "stream",
     "text": [
      "P(HAT=Red | penny=H,nickel=H,dime=T,quarter=H  )= 0.9715745058849656\n"
     ]
    }
   ],
   "source": [
    "denominator= nominator +(penny_h_given_blue*nickel_h_given_blue*dime_t_given_blue*quarter_h_given_blue)\n",
    "prob_red_given_h_h_t_h=nominator/denominator\n",
    "print('P(HAT=Red | penny=H,nickel=H,dime=T,quarter=H  )=',prob_red_given_h_h_t_h)"
   ]
  },
  {
   "cell_type": "markdown",
   "id": "24eb5c96",
   "metadata": {},
   "source": [
    "# Naive Bayes in OOP fashion"
   ]
  },
  {
   "cell_type": "code",
   "execution_count": 5,
   "id": "ca549454",
   "metadata": {},
   "outputs": [],
   "source": [
    "class NaiveBayes:\n",
    "    def __init__(self):\n",
    "        self.conditional_probs=dict()\n",
    "        self.class_probs=dict()\n",
    "        \n",
    "    def fit(self,df):\n",
    "        # Number of points and dimensions\n",
    "        self.features=list(df.columns[:-1])\n",
    "        self.label_name=df.columns[-1]\n",
    "        self.unique_labels=df[self.label_name].unique()\n",
    "        # Compute class probabilities\n",
    "        for c in self.unique_labels:\n",
    "            self.class_probs[c]=(df[self.label_name]==c).mean()\n",
    "        # Dimensions\n",
    "        for x_a in self.features:\n",
    "            # Unique Values in a dimension\n",
    "            for j in df[x_a].unique():\n",
    "                # Prob of unique value given label\n",
    "                for c in self.unique_labels:\n",
    "                    # P(x_a = j | y) = P(x_a = j, y) / P(y)\n",
    "                    prob=sum(df[df[x_a]==j][self.label_name]==c)/sum(df[self.label_name]==c)\n",
    "                    self.conditional_probs[x_a+'_'+j+'_'+self.label_name+'_'+c]=prob\n",
    "\n",
    "    def predict_proba(self,x):\n",
    "        results={}\n",
    "        probs={}\n",
    "        for c in self.unique_labels:\n",
    "            probs_given_c=1\n",
    "            for x_a, j in zip(self.features,x):            \n",
    "                probs_given_c*=self.conditional_probs[x_a+'_'+j+'_'+self.label_name+'_'+c]\n",
    "            probs[c]=probs_given_c\n",
    "        \n",
    "        for c in self.unique_labels:\n",
    "            nominator=probs[c]\n",
    "            denominator=0\n",
    "            for cc in self.unique_labels:\n",
    "                if c == cc:\n",
    "                    continue\n",
    "                denominator+=probs[cc]\n",
    "            results[c]=nominator/(nominator+denominator)\n",
    "        return results"
   ]
  },
  {
   "cell_type": "code",
   "execution_count": 6,
   "id": "cc47ec04",
   "metadata": {},
   "outputs": [
    {
     "data": {
      "text/plain": [
       "{'Red': 0.9715745058849656, 'Blue': 0.028425494115034425}"
      ]
     },
     "execution_count": 6,
     "metadata": {},
     "output_type": "execute_result"
    }
   ],
   "source": [
    "h=NaiveBayes()\n",
    "h.fit(df)\n",
    "h.predict_proba(['H','H','T','H'])"
   ]
  },
  {
   "cell_type": "code",
   "execution_count": 7,
   "id": "4cb2fcb3",
   "metadata": {},
   "outputs": [
    {
     "name": "stdout",
     "output_type": "stream",
     "text": [
      "{'Red': 0.2656183595410115, 'Blue': 0.7343816404589886}\n",
      "{'Red': 0.07193002647024974, 'Blue': 0.9280699735297503}\n",
      "{'Red': 0.008538134724935451, 'Blue': 0.9914618652750645}\n",
      "{'Red': 0.12331238197243438, 'Blue': 0.8766876180275656}\n"
     ]
    }
   ],
   "source": [
    "print(h.predict_proba(['T','T','T','T']))\n",
    "print(h.predict_proba(['T','T','T','H']))\n",
    "print(h.predict_proba(['T','T','H','H']))\n",
    "print(h.predict_proba(['T','H','H','H']))"
   ]
  },
  {
   "cell_type": "markdown",
   "id": "27222ce6",
   "metadata": {},
   "source": [
    "# Naive Bayes with Continues Features\n",
    "\n",
    "\n",
    "## $$ \\mathbb P \\left(y|x\\right) = \\frac{\\prod^{d}_{i=1} \\mathbb P \\left(\\left[x\\right]_{i} \\mid y\\right) \\mathbb P \\left(y\\right)}{ \\mathbb P \\left(x\\right)}$$\n",
    "with:\n",
    "## $$ \\mathbb P \\left(\\left[x\\right]_{i} \\mid y\\right) = \\mathcal{N}\\left(\\left[\\mu_y\\right]_{i}, \\left[\\sigma\\right]_{i}\\right)$$\n",
    "\n",
    "That is, there is a separate mean value for each feature $\\left[x\\right]_{i}$ and each class $y \\in \\{0, 1\\}$. However, variances are shared across classes, so that there is only one variance $\\left[\\sigma\\right]_{i}$ per feature."
   ]
  },
  {
   "cell_type": "markdown",
   "id": "35fc5065",
   "metadata": {},
   "source": [
    "\n",
    "# Naive Bayes $$ \\mathbb P \\left(y|x\\right) = \\frac{\\prod^{d}_{i=1} \\mathbb P \\left( x_i \\mid y\\right) \\mathbb P \\left(y\\right)}{ \\mathbb P \\left(x\\right)}$$\n",
    "__Conditional independence assumpion__ on (1)\n",
    "\n",
    "with:\n",
    "### $$ \\mathbb P (x_i | y ) = \\mathcal{N} (\\mu_{y,i}, \\sigma_i)$$\n"
   ]
  },
  {
   "cell_type": "markdown",
   "id": "72a34428",
   "metadata": {},
   "source": [
    "### 1. $$ \\mathbb P (y =1 |x) = \\frac{\\prod^{d}_{i=1} \\mathbb P ( x_i \\mid y=1) \\mathbb P (y=1)}{ \\mathbb P (x)}$$\n",
    "\n",
    "#### 2. $$ \\mathbb P (y =1 |x) = \\frac{\\prod^{d}_{i=1} \\mathbb P ( x_i \\mid y=1) \\mathbb p (y=1)}{ \\prod^{d}_{i=1} \\mathbb P ( x_i | y=1) \\mathbb P (y=1) + \\prod^{d}_{i=1} \\mathbb P ( x_i \\mid y=0) \\mathbb P (y=0)}$$"
   ]
  },
  {
   "cell_type": "markdown",
   "id": "f7d9b857",
   "metadata": {},
   "source": [
    "### 5. $$ \\mathbb P (y =1 \\mid x) = \\frac{1}{1 + \\frac{\\prod^{d}_{\\alpha=1} \\mathbb P ( x_i \\mid y=0) \\mathbb P (y=0)}{\\prod^{d}_{i=1} \\mathbb P ( x_i \\mid y=1) \\mathbb P (y=1)}}$$\n",
    "\n",
    "Because $$\\frac{A}{A+B} = \\frac{1}{1 + \\frac{B}{A}}$$"
   ]
  },
  {
   "cell_type": "markdown",
   "id": "830b70b4",
   "metadata": {},
   "source": [
    "\n",
    "### 6. $$ \\mathbb P (y =1 \\mid x) = \\frac{1}{1 + exp\\Big(log\\big( \\frac{\\prod^{d}_{i=1} \\mathbb p ( x_i \\mid y=0) \\mathbb P (y=0)}{\\prod^{d}_{i=1} \\mathbb P ( x_i \\mid y=1) \\mathbb P (y=1)}\\big)\\Big)}$$\n",
    "\n",
    "1. $exp(ln(x))=x $"
   ]
  },
  {
   "cell_type": "markdown",
   "id": "5a5ae703",
   "metadata": {},
   "source": [
    "\n",
    "### 7. $$ \\frac{1}{1+ exp \\Big (-log \\mathbb P (y = 1) + log\\mathbb P (y=0) - log\\prod^{d}_{i=1} \\mathbb P ( x_i \\mid y=1)+ log \\prod^{d}_{i=1} \\mathbb P ( x_i \\mid y = 0) \\Big )}$$\n",
    "\n",
    "1. Apply the quotient rule $ ln(x/y)=ln(x)−ln(y)$\n",
    "2. Product rule $ln(xy)=ln(x)+ln(y)$\n"
   ]
  },
  {
   "cell_type": "markdown",
   "id": "4530afe0",
   "metadata": {},
   "source": [
    "\n",
    "### 8. $$ \\frac{1}{1+ exp \\Big (log \\Big( \\frac{\\mathbb P (y=0)}{\\mathbb P (y=1)} \\Big) + \\sum^{d}_{i=1} log\\big( \\frac{\\mathbb P ( x_i | y=0)}{\\mathbb P ( x_i | y=1)} \\Big) \\Big) }$$\n",
    "\n",
    "\n",
    "Group the terms . Distribute log\n",
    "1. Apply the quotient rule $ ln(x/y)=ln(x)−ln(y)$\n",
    "2. Apply $ln(\\prod)=\\sum$\n",
    "3. $log(x^1)=-1 log(x)$\n",
    "4. $log(\\frac{a}{b})=-1 log(\\frac{b}{a})$\n"
   ]
  },
  {
   "cell_type": "markdown",
   "id": "b7401b54",
   "metadata": {},
   "source": [
    "\n",
    "### 9. Plug the model assumption into the second term of the denominator\n",
    "### $$ \\sum^{d}_{i=1} log\\Big( \\frac{\\frac{\\exp\\big( -\\frac{\\big(x_i-\\mu_{0,i }\\big)^2}{2\\sigma^2}\\big)}{\\sqrt{2\\pi \\sigma^2}}}{\\frac{\\exp\\big( -\\frac{\\big(x_i - \\mu_{1,i }\\big)^2}{2\\sigma^2}\\big)}{\\sqrt{2\\pi \\sigma^2}}} \\Big) $$\n",
    "\n",
    "$\\mu_0 $ and $\\mu_1$ are $y=0$ and $y=1$, respectively"
   ]
  },
  {
   "cell_type": "markdown",
   "id": "090b6790",
   "metadata": {},
   "source": [
    "### 10. Cancel out constants $$ \\sum^{d}_{i=1} log\\Big(exp\\Big( \\frac{(x_i-\\mu_{1,i }\\big)^2 -(x_i -\\mu_{0,i}\\big)^2 }{2 \\sigma^2}\\Big)\\Big) $$\n",
    "$\\sqrt{2\\pi \\sigma^2}$ in the denominators are canceled out. Note that $ \\frac{exp(a)}{exp(b)} = exp(a-b)$."
   ]
  },
  {
   "cell_type": "markdown",
   "id": "726ee63e",
   "metadata": {},
   "source": [
    "### 11. $$ \\sum^{d}_{i=1} \\frac{(x_i - \\mu_{1, i }\\big)^2 -(x_i - \\mu_{0, i }\\big)^2 }{2 \\sigma_i ^2} $$\n",
    "log(exp(x))=x\n"
   ]
  },
  {
   "cell_type": "markdown",
   "id": "49ce1b58",
   "metadata": {},
   "source": [
    "### 12. Completing the square $$\\sum^{d}_{i =1} \\frac{(\\mu_{0,i } - \\mu_{1, i }) x_i } {\\sigma_i ^2 } + \\frac{\\mu_{1,i}^2-\\mu_{0,i}^2}{2 \\sigma_i ^2}$$"
   ]
  },
  {
   "cell_type": "markdown",
   "id": "8e625192",
   "metadata": {},
   "source": [
    "### 13. Putting all together. $$ \\mathbb P (y =1 |x) = \\frac{1}{ 1+ \\Big( \\frac{\\mathbb P (y=0)}{\\mathbb P (y=1)}  + \\sum^{d}_{i=1} \\frac{(\\mu_{0,i } - \\mu_{1, i }) x_i } {\\sigma_i ^2 } + \\frac{\\mu_{1,i}^2-\\mu_{0,i}^2}{2 \\sigma_i ^2}\\Big)}$$\n",
    "\n",
    "$P=\\mathbb P (y =0)$ and $1-P=\\mathbb P (y=1)$\n"
   ]
  },
  {
   "cell_type": "markdown",
   "id": "e8b473e9",
   "metadata": {},
   "source": [
    "\n",
    "### 14. $$ \\mathbb p (y =1 |x) = \\frac{1}{1 + exp\\Big( b + w^T x \\Big)}$$\n",
    "\n",
    "### where $$ b = log\\frac{1-P}{P} + \\sum^{d}_{i=1} + \\frac{\\mu_{1,i}^2-\\mu_{0,i}^2}{2 \\sigma_i ^2}$$\n",
    "\n",
    "### $$ w = \\sum^{d}_{i=1} \\frac{(\\mu_{0,i } - \\mu_{1,i }) x_i } {\\sigma_i^2 }$$\n"
   ]
  },
  {
   "cell_type": "code",
   "execution_count": 8,
   "id": "d36d4693",
   "metadata": {},
   "outputs": [],
   "source": [
    "import numpy as np\n",
    "import matplotlib.pyplot as plt\n",
    "import seaborn as sns; sns.set()\n",
    "%matplotlib inline"
   ]
  },
  {
   "cell_type": "code",
   "execution_count": 9,
   "id": "124b0e5e",
   "metadata": {},
   "outputs": [],
   "source": [
    "from sklearn.datasets import make_blobs\n",
    "X, y = make_blobs(100, 2, centers=2, random_state=2, cluster_std=1.5)"
   ]
  },
  {
   "cell_type": "code",
   "execution_count": 10,
   "id": "6fbc4864",
   "metadata": {},
   "outputs": [
    {
     "data": {
      "text/plain": [
       "[(-8.0, 8.0), (-15.0, 5.0)]"
      ]
     },
     "execution_count": 10,
     "metadata": {},
     "output_type": "execute_result"
    },
    {
     "data": {
      "image/png": "[encoded data removed]",
      "text/plain": [
       "<Figure size 432x288 with 1 Axes>"
      ]
     },
     "metadata": {
      "needs_background": "light"
     },
     "output_type": "display_data"
    }
   ],
   "source": [
    "class GaussianNaiveBayes:\n",
    "    def __init__(self):\n",
    "        self.mu=dict()\n",
    "        self.std=dict()\n",
    "        \n",
    "    def fit(self,X,y):\n",
    "        unique_labels=np.unique(y)\n",
    "        for c in np.unique(y):\n",
    "            self.mu[c]=X[y==c].mean(axis=0)\n",
    "            self.std[c]=X[y==c].std(axis=0)\n",
    "    def predict_prob(self,X,label):\n",
    "        return np.exp(-0.5 * (X - self.mu[label]) ** 2 / self.std[label] ** 2).prod(1)\n",
    "        \n",
    "\n",
    "h=GaussianNaiveBayes()\n",
    "h.fit(X,y)\n",
    "\n",
    "# Visualize obtained from https://jakevdp.github.io/PythonDataScienceHandbook/05.05-naive-bayes.html\n",
    "fig, ax = plt.subplots()\n",
    "ax.scatter(X[:, 0], X[:, 1], c=y, s=50, cmap='RdBu')\n",
    "ax.set_title('Gaussian Naive Bayes Model', size=14)\n",
    "\n",
    "# Create GRID\n",
    "xlim,ylim = (-8, 8), (-15, 5)\n",
    "xg = np.linspace(xlim[0], xlim[1], 60)\n",
    "yg = np.linspace(ylim[0], ylim[1], 40)\n",
    "xx, yy = np.meshgrid(xg, yg)\n",
    "Xgrid = np.vstack([xx.ravel(), yy.ravel()]).T\n",
    "\n",
    "\n",
    "for label, color in enumerate(['red', 'blue']):\n",
    "    mask = (y == label)\n",
    "    # Predict P(y=label|X) \n",
    "    P=h.predict_prob(Xgrid,label)\n",
    "    Pm = np.ma.masked_array(P, P < 0.03)\n",
    "    ax.pcolorfast(xg, yg, Pm.reshape(xx.shape), alpha=0.5,cmap=color.title() + 's')\n",
    "    ax.contour(xx, yy, P.reshape(xx.shape),levels=[0.01, 0.1, 0.5, 0.9],colors=color, alpha=0.2)\n",
    "ax.set(xlim=xlim, ylim=ylim)"
   ]
  },
  {
   "cell_type": "markdown",
   "id": "b70b6703",
   "metadata": {},
   "source": [
    "# Gaussian Naive Bayes and Logistic Regression\n",
    "\n",
    "### 1. Naive bayes estimates $\\mathbb P (X|Y)$ and $\\mathbb P(Y)$ and obtain $\\mathbb P(Y|X)$ via bayes rule\n",
    "### 2. Logistic Regression estimates $\\mathbb P(Y|X)$\n",
    "\n",
    "### 3. If the GNB modeling assumptions do not hold, the asymptotic (as the number of training examples approach infinity) classification accuracy for LR is often better than the asymptotic accuracy of GNB.\n",
    "\n",
    "### 4. GBN learns faster\n",
    "\n",
    "\"As Ng & Jordan (2002) show, GNB parameter estimates\n",
    "converge toward their asymptotic values in order log n examples, where n is the dimension of X.\", wherase LR requires order n examples\n"
   ]
  }
 ],
 "metadata": {
  "kernelspec": {
   "display_name": "pDL",
   "language": "python",
   "name": "pdl"
  },
  "language_info": {
   "codemirror_mode": {
    "name": "ipython",
    "version": 3
   },
   "file_extension": ".py",
   "mimetype": "text/x-python",
   "name": "python",
   "nbconvert_exporter": "python",
   "pygments_lexer": "ipython3",
   "version": "3.10.4"
  }
 },
 "nbformat": 4,
 "nbformat_minor": 5
}
