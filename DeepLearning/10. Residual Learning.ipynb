{
 "cells": [
  {
   "cell_type": "markdown",
   "metadata": {},
   "source": [
    "# Residual Learning\n",
    "\n",
    "[He et. al (2015) ](https://arxiv.org/abs/1512.03385) proposed the residual learning framework to make training deep neural network easier. To thos end, they proposed the residual learning block as shown\n",
    "\n",
    "$$ F(x)+x $$"
   ]
  },
  {
   "cell_type": "code",
   "execution_count": 1,
   "metadata": {},
   "outputs": [],
   "source": [
    "from sklearn import datasets\n",
    "import numpy as np\n",
    "import matplotlib.pyplot as plt\n",
    "from net import Net\n",
    "from gates import *\n",
    "from optim import ADAM\n",
    "from util import plot_images"
   ]
  },
  {
   "cell_type": "code",
   "execution_count": 2,
   "metadata": {},
   "outputs": [
    {
     "name": "stdout",
     "output_type": "stream",
     "text": [
      "(1797, 8, 8)\n",
      "(1797, 1, 8, 8) (1797,)\n"
     ]
    },
    {
     "data": {
      "image/png": "[encoded data removed]",
      "text/plain": [
       "<Figure size 720x216 with 4 Axes>"
      ]
     },
     "metadata": {
      "needs_background": "light"
     },
     "output_type": "display_data"
    }
   ],
   "source": [
    "# Digit Recognition\n",
    "digits = datasets.load_digits()\n",
    "_, axes = plt.subplots(nrows=1, ncols=4, figsize=(10, 3))\n",
    "for ax, image, label in zip(axes, digits.images, digits.target):\n",
    "    ax.set_axis_off()\n",
    "    ax.imshow(image, cmap=plt.cm.gray_r, interpolation='nearest')\n",
    "    ax.set_title('Training: %i' % label)\n",
    "    X=digits.images\n",
    "y=digits.target\n",
    "#Descritive stats; distribution of labels.\n",
    "#print(np.histogram(y, density=True))\n",
    "print(X.shape)\n",
    "\n",
    "X_images=np.expand_dims(X, axis=1)\n",
    "print(X_images.shape, y.shape)"
   ]
  },
  {
   "cell_type": "markdown",
   "metadata": {},
   "source": [
    "# Let's demonstrate the residual learning framework"
   ]
  },
  {
   "cell_type": "code",
   "execution_count": 3,
   "metadata": {},
   "outputs": [
    {
     "data": {
      "text/plain": [
       "10"
      ]
     },
     "execution_count": 3,
     "metadata": {},
     "output_type": "execute_result"
    }
   ],
   "source": [
    "n=int(8*8)\n",
    "num_labels=len(np.unique(y))\n",
    "num_labels"
   ]
  },
  {
   "cell_type": "code",
   "execution_count": 4,
   "metadata": {},
   "outputs": [
    {
     "name": "stdout",
     "output_type": "stream",
     "text": [
      "[1. layer] => Reshape: Flatten:True, OutShape: None\n",
      "[2. layer] => Linear: W:(64, 10):Params. 650\n",
      "[3. layer] => Softmax\n",
      "Total param.:650\n",
      "<optim.ADAM object at 0x7f08d23c7790>\n",
      "Training starts.\n",
      "[Epoch:100]-[Avg.Loss:0.715]-[Avg.Acc:0.501]\n",
      "[Epoch:200]-[Avg.Loss:0.480]-[Avg.Acc:0.523]\n",
      "[Epoch:300]-[Avg.Loss:0.365]-[Avg.Acc:0.523]\n",
      "[Epoch:400]-[Avg.Loss:0.281]-[Avg.Acc:0.533]\n",
      "[Epoch:500]-[Avg.Loss:0.241]-[Avg.Acc:0.530]\n",
      "[Epoch:600]-[Avg.Loss:0.218]-[Avg.Acc:0.529]\n",
      "[Epoch:700]-[Avg.Loss:0.188]-[Avg.Acc:0.533]\n",
      "[Epoch:800]-[Avg.Loss:0.169]-[Avg.Acc:0.538]\n",
      "[Epoch:900]-[Avg.Loss:0.167]-[Avg.Acc:0.535]\n",
      "[Epoch:1000]-[Avg.Loss:0.152]-[Avg.Acc:0.540]\n",
      "[Elapsed time :1.990]\n"
     ]
    }
   ],
   "source": [
    "# Model with 1 layer.\n",
    "net=Net()\n",
    "net.add_from_iter([Reshape(flatten=True),\n",
    "                   Linear(in_features=64, out_features=num_labels),\n",
    "                   Softmax()])\n",
    "net.describe()\n",
    "net.train(X,y,epoch=1000,print_out_per_epoch=100,batchsize=1024)"
   ]
  },
  {
   "cell_type": "code",
   "execution_count": 5,
   "metadata": {},
   "outputs": [
    {
     "name": "stdout",
     "output_type": "stream",
     "text": [
      "[1. layer] => Reshape: Flatten:True, OutShape: None\n",
      "[2. layer] => Linear: W:(64, 256):Params. 16640\n",
      "[3. layer] => ReLU\n",
      "[4. layer] => Linear: W:(256, 10):Params. 2570\n",
      "[5. layer] => Softmax\n",
      "Total param.:19210\n",
      "<optim.ADAM object at 0x7f08d23c7790>\n",
      "Training starts.\n",
      "[Epoch:500]-[Avg.Loss:0.037]-[Avg.Acc:0.564]\n",
      "[Epoch:1000]-[Avg.Loss:0.017]-[Avg.Acc:0.569]\n",
      "[Epoch:1500]-[Avg.Loss:0.010]-[Avg.Acc:0.568]\n",
      "[Epoch:2000]-[Avg.Loss:0.004]-[Avg.Acc:0.570]\n",
      "[Elapsed time :23.874]\n"
     ]
    }
   ],
   "source": [
    "# Model with two layers.\n",
    "net=Net()\n",
    "net.add_from_iter([Reshape(flatten=True),\n",
    "                   Linear(in_features=64, out_features=256),ReLU(),\n",
    "                   Linear(in_features=256, out_features=num_labels),\n",
    "                   Softmax()])\n",
    "net.describe()\n",
    "net.train(X,y,epoch=2000,print_out_per_epoch=500,batchsize=1024)"
   ]
  },
  {
   "cell_type": "code",
   "execution_count": 6,
   "metadata": {},
   "outputs": [
    {
     "name": "stdout",
     "output_type": "stream",
     "text": [
      "[1. layer] => Reshape: Flatten:True, OutShape: None\n",
      "[2. layer] => Linear: W:(64, 128):Params. 8320\n",
      "[3. layer] => ReLU\n",
      "[4. layer] => Linear: W:(128, 256):Params. 33024\n",
      "[5. layer] => ReLU\n",
      "[6. layer] => Linear: W:(256, 10):Params. 2570\n",
      "[7. layer] => Softmax\n",
      "Total param.:43914\n",
      "<optim.ADAM object at 0x7f08d23c7790>\n",
      "Training starts.\n",
      "[Epoch:500]-[Avg.Loss:0.074]-[Avg.Acc:0.550]\n",
      "[Epoch:1000]-[Avg.Loss:0.023]-[Avg.Acc:0.565]\n",
      "[Epoch:1500]-[Avg.Loss:0.009]-[Avg.Acc:0.570]\n",
      "[Epoch:2000]-[Avg.Loss:0.004]-[Avg.Acc:0.570]\n",
      "[Elapsed time :49.535]\n"
     ]
    }
   ],
   "source": [
    "# Model with three layers.\n",
    "net=Net()\n",
    "net.add_from_iter([Reshape(flatten=True),\n",
    "                   Linear(in_features=64, out_features=128),ReLU(),\n",
    "                   Linear(in_features=128, out_features=256),ReLU(),\n",
    "                   Linear(in_features=256, out_features=num_labels),\n",
    "                   Softmax()])\n",
    "net.describe()\n",
    "net.train(X,y,epoch=2000,print_out_per_epoch=500,batchsize=1024)"
   ]
  },
  {
   "cell_type": "code",
   "execution_count": 7,
   "metadata": {},
   "outputs": [
    {
     "name": "stdout",
     "output_type": "stream",
     "text": [
      "[1. layer] => Reshape: Flatten:True, OutShape: None\n",
      "[2. layer] => Linear: W:(64, 128):Params. 8320\n",
      "[3. layer] => Batch Norm.:epsilon:0.001, Param.256\n",
      "[4. layer] => ReLU\n",
      "[5. layer] => Linear: W:(128, 256):Params. 33024\n",
      "[6. layer] => Batch Norm.:epsilon:0.001, Param.512\n",
      "[7. layer] => ReLU\n",
      "[8. layer] => Linear: W:(256, 10):Params. 2570\n",
      "[9. layer] => Softmax\n",
      "Total param.:44682\n",
      "<optim.ADAM object at 0x7f08d23c7790>\n",
      "Training starts.\n",
      "[Epoch:500]-[Avg.Loss:0.005]-[Avg.Acc:0.570]\n",
      "[Epoch:1000]-[Avg.Loss:0.002]-[Avg.Acc:0.570]\n",
      "[Epoch:1500]-[Avg.Loss:0.001]-[Avg.Acc:0.570]\n",
      "[Epoch:2000]-[Avg.Loss:0.000]-[Avg.Acc:0.570]\n",
      "[Elapsed time :105.753]\n"
     ]
    }
   ],
   "source": [
    "# Model with four layers.\n",
    "net=Net()\n",
    "net.add_from_iter([Reshape(flatten=True),\n",
    "                   Linear(in_features=64, out_features=128),BatchNorm(128),ReLU(),\n",
    "                   Linear(in_features=128, out_features=256),BatchNorm(256),ReLU(),\n",
    "                   Linear(in_features=256, out_features=num_labels),\n",
    "                   Softmax()])\n",
    "net.describe()\n",
    "net.train(X,y,epoch=2000,print_out_per_epoch=500,batchsize=1024)"
   ]
  },
  {
   "cell_type": "code",
   "execution_count": 8,
   "metadata": {},
   "outputs": [],
   "source": [
    "# As you can see"
   ]
  },
  {
   "cell_type": "code",
   "execution_count": 9,
   "metadata": {},
   "outputs": [],
   "source": [
    "def benchmarking_with_fnn(X,y,num_hidden=64,num_labels=10,num_epoch=30,num_run=10,batchsize=256):\n",
    "    \n",
    "    loss=[]\n",
    "    acc=[]\n",
    "    for i in range(num_run):\n",
    "        net=Net(optimizer=ADAM(),verbose=0)\n",
    "        net.add_from_iter([Reshape(flatten=True),\n",
    "                           Linear(in_features=num_hidden,out_features=num_labels),\n",
    "                           Softmax()])\n",
    "        net.train(X,y,epoch=num_epoch,batchsize=batchsize)\n",
    "        acc.append(net.acc)\n",
    "        loss.append(net.losses)\n",
    "\n",
    "    net.describe()\n",
    "    _, axes = plt.subplots(nrows=1, ncols=2,figsize=(12, 8))\n",
    "\n",
    "    for l, ac in zip(loss, acc):\n",
    "        axes[0].plot(ac)\n",
    "        axes[0].set_title('Avg. Acc.')\n",
    "\n",
    "        axes[1].plot(l)\n",
    "        axes[1].set_title('Avg. Loss')\n",
    "        \n"
   ]
  },
  {
   "cell_type": "code",
   "execution_count": 10,
   "metadata": {},
   "outputs": [
    {
     "name": "stdout",
     "output_type": "stream",
     "text": [
      "[1. layer] => Reshape: Flatten:True, OutShape: (256, 64)\n",
      "[2. layer] => Linear: W:(64, 10):Params. 650\n",
      "[3. layer] => Softmax\n",
      "Total param.:650\n",
      "<optim.ADAM object at 0x7f08d2191c70>\n"
     ]
    },
    {
     "data": {
      "image/png": "[encoded data removed]",
      "text/plain": [
       "<Figure size 864x576 with 2 Axes>"
      ]
     },
     "metadata": {
      "needs_background": "light"
     },
     "output_type": "display_data"
    }
   ],
   "source": [
    "benchmarking_with_fnn(X=X,y=y,num_epoch=30,num_run=10,batchsize=256)"
   ]
  },
  {
   "cell_type": "code",
   "execution_count": 11,
   "metadata": {},
   "outputs": [
    {
     "name": "stdout",
     "output_type": "stream",
     "text": [
      "[1. layer] => Reshape: Flatten:True, OutShape: None\n",
      "[2. layer] => Linear: W:(64, 256):Params. 16640\n",
      "[3. layer] => Batch Norm.:epsilon:0.001, Param.512\n",
      "[4. layer] => ReLU\n",
      "[5. layer] => Linear: W:(256, 10):Params. 2570\n",
      "[6. layer] => Batch Norm.:epsilon:0.001, Param.20\n",
      "[7. layer] => Softmax\n",
      "Total param.:19742\n",
      "<optim.ADAM object at 0x7f08d23c7790>\n",
      "Training starts.\n",
      "[Epoch:100]-[Avg.Loss:0.661]-[Avg.Acc:0.248]\n",
      "[Epoch:200]-[Avg.Loss:0.603]-[Avg.Acc:0.274]\n",
      "[Epoch:300]-[Avg.Loss:0.567]-[Avg.Acc:0.331]\n",
      "[Epoch:400]-[Avg.Loss:0.537]-[Avg.Acc:0.391]\n",
      "[Epoch:500]-[Avg.Loss:0.525]-[Avg.Acc:0.400]\n",
      "[Epoch:600]-[Avg.Loss:0.504]-[Avg.Acc:0.454]\n",
      "[Epoch:700]-[Avg.Loss:0.454]-[Avg.Acc:0.481]\n",
      "[Epoch:800]-[Avg.Loss:0.456]-[Avg.Acc:0.481]\n",
      "[Epoch:900]-[Avg.Loss:0.435]-[Avg.Acc:0.489]\n",
      "[Epoch:1000]-[Avg.Loss:0.420]-[Avg.Acc:0.504]\n",
      "[Elapsed time :33.725]\n"
     ]
    }
   ],
   "source": [
    "net=Net()\n",
    "net.add_from_iter([Reshape(flatten=True),\n",
    "                   Linear(in_features=64, out_features=256),BatchNorm(256),ReLU(),\n",
    "                   Linear(in_features=256, out_features=num_labels),BatchNorm(num_labels),\n",
    "                   Softmax()])\n",
    "net.describe()\n",
    "net.train(X,y,epoch=1000,print_out_per_epoch=100,batchsize=1024)"
   ]
  },
  {
   "cell_type": "code",
   "execution_count": 12,
   "metadata": {},
   "outputs": [],
   "source": [
    "class ResidualBlock(Gate):\n",
    "    def __init__(self,in_features=None,out_features=None,res_flow=None,identity_flow=None):\n",
    "        super().__init__()\n",
    "        if res_flow is None :\n",
    "            self.a=[Linear(in_features, in_features), \n",
    "                    BatchNorm(in_features),\n",
    "                    ReLU(),\n",
    "                    Linear(in_features, out_features)]\n",
    "        else:\n",
    "            self.a=res_flow\n",
    "        \n",
    "        if identity_flow is None:\n",
    "            self.b=[Linear(in_features, out_features)]    \n",
    "        else:\n",
    "            self.b=identity_flow\n",
    "    @property\n",
    "    def param_size(self):\n",
    "        return sum([g.param_size for g in self.a+self.b])\n",
    "    \n",
    "    def __str__(self):\n",
    "        return f'ResidualBlock {self.param_size}'\n",
    "    \n",
    "    def __iter__(self):\n",
    "        for i in self.a+self.b:\n",
    "            yield i\n",
    "        \n",
    "    def forward(self, X):\n",
    "        \"\"\"\n",
    "        Parameters\n",
    "        ----------\n",
    "        X : shape=(N,in_features)\n",
    "        Returns\n",
    "        ----------\n",
    "        Z:shape(N,out_features)\n",
    "        \"\"\"\n",
    "        res_a= np.zeros(X.shape)+X \n",
    "        res_b= np.zeros(X.shape)+X\n",
    "        for g in self.a:\n",
    "            res_a=g.forward(res_a)\n",
    "            \n",
    "        for g in self.b:\n",
    "            res_b=g.forward(res_b)\n",
    "        return res_a+res_b\n",
    "        \n",
    "    def backward(self, dZ):\n",
    "        \"\"\"\n",
    "        Parameters\n",
    "        ----------\n",
    "        dZ : shape=(N,out_features)\n",
    "        ----------\n",
    "        Returns\n",
    "        -------\n",
    "        dX : shape (N,in_features)\n",
    "        \"\"\"\n",
    "        res_a  = np.ones(dZ.shape) *dZ\n",
    "        res_b  = np.ones(dZ.shape) *dZ\n",
    "        \n",
    "        for g in reversed(self.a):\n",
    "            res_a= g.backward(res_a)\n",
    "        for g in reversed(self.b):\n",
    "            res_b= g.backward(res_b)\n",
    "        return res_a+res_b"
   ]
  },
  {
   "cell_type": "code",
   "execution_count": 13,
   "metadata": {},
   "outputs": [
    {
     "name": "stdout",
     "output_type": "stream",
     "text": [
      "[1. layer] => Reshape: Flatten:True, OutShape: None\n",
      "[2. layer] => ResidualBlock 8448\n",
      "[3. layer] => ReLU\n",
      "[4. layer] => ResidualBlock 2176\n",
      "[5. layer] => ReLU\n",
      "[6. layer] => Linear: W:(16, 10):Params. 170\n",
      "[7. layer] => Softmax\n",
      "Total param.:10794\n",
      "<optim.ADAM object at 0x7f08d23c7790>\n",
      "Training starts.\n",
      "[Epoch:10]-[Avg.Loss:0.849]-[Avg.Acc:0.758]\n",
      "[Epoch:20]-[Avg.Loss:0.607]-[Avg.Acc:0.886]\n",
      "[Epoch:30]-[Avg.Loss:1.398]-[Avg.Acc:0.746]\n",
      "[Epoch:40]-[Avg.Loss:0.967]-[Avg.Acc:0.815]\n",
      "[Epoch:50]-[Avg.Loss:0.758]-[Avg.Acc:0.851]\n",
      "[Elapsed time :13.728]\n"
     ]
    }
   ],
   "source": [
    "net=Net()\n",
    "net.add_from_iter([Reshape(flatten=True),\n",
    "                   ResidualBlock(in_features=n,out_features=n//2),\n",
    "                   ReLU(),\n",
    "                   ResidualBlock(in_features=n//2,out_features=n//4),\n",
    "                   ReLU(),\n",
    "                   Linear(in_features=n//4, out_features=num_labels),\n",
    "                   Softmax()])\n",
    "net.describe()\n",
    "net.train(X,y,epoch=50,print_out_per_epoch=10,batchsize=32)"
   ]
  },
  {
   "cell_type": "code",
   "execution_count": 14,
   "metadata": {},
   "outputs": [
    {
     "name": "stdout",
     "output_type": "stream",
     "text": [
      "[1. layer] => Reshape: Flatten:True, OutShape: None\n",
      "[2. layer] => ResidualBlock 6368\n",
      "[3. layer] => ReLU\n",
      "[4. layer] => Linear: W:(16, 10):Params. 170\n",
      "[5. layer] => Softmax\n",
      "Total param.:6538\n",
      "<optim.ADAM object at 0x7f08d23c7790>\n",
      "Training starts.\n",
      "[Epoch:10]-[Avg.Loss:0.388]-[Avg.Acc:0.950]\n",
      "[Epoch:20]-[Avg.Loss:0.280]-[Avg.Acc:0.963]\n",
      "[Epoch:30]-[Avg.Loss:0.270]-[Avg.Acc:0.965]\n",
      "[Epoch:40]-[Avg.Loss:0.304]-[Avg.Acc:0.960]\n",
      "[Epoch:50]-[Avg.Loss:0.422]-[Avg.Acc:0.915]\n",
      "[Elapsed time :8.309]\n"
     ]
    }
   ],
   "source": [
    "net=Net()\n",
    "net.add_from_iter([Reshape(flatten=True),\n",
    "                   ResidualBlock(in_features=n,out_features=n//4),\n",
    "                   ReLU(),\n",
    "                   Linear(in_features=n//4, out_features=num_labels),\n",
    "                   Softmax()])\n",
    "net.describe()\n",
    "net.train(X,y,epoch=50,print_out_per_epoch=10,batchsize=32)"
   ]
  }
 ],
 "metadata": {
  "kernelspec": {
   "display_name": "Python [conda env:pDL] *",
   "language": "python",
   "name": "conda-env-pDL-py"
  },
  "language_info": {
   "codemirror_mode": {
    "name": "ipython",
    "version": 3
   },
   "file_extension": ".py",
   "mimetype": "text/x-python",
   "name": "python",
   "nbconvert_exporter": "python",
   "pygments_lexer": "ipython3",
   "version": "3.8.6"
  }
 },
 "nbformat": 4,
 "nbformat_minor": 4
}
