{
 "cells": [
  {
   "cell_type": "markdown",
   "metadata": {},
   "source": [
    "# Neural Networks\n",
    "\n",
    "This tutorial is based on [CS231n Winter 2016: Lecture 4: Backpropagation, Neural Networks 1](https://cs231n.github.io/neural-networks-1/), [video](https://www.youtube.com/watch?v=i94OvYb6noo&list=PLkt2uSq6rBVctENoVBg1TpCC7OQi31AlC&index=4)."
   ]
  },
  {
   "cell_type": "code",
   "execution_count": 1,
   "metadata": {},
   "outputs": [],
   "source": [
    "import numpy as np\n",
    "from sklearn.datasets import *\n",
    "from sklearn.metrics import classification_report\n",
    "import matplotlib.pyplot as plt\n",
    "\n",
    "\n",
    "def softmax(s,axis=0):\n",
    "    \"\"\"\n",
    "        Vectorized computation of softmax function\n",
    "        Parameters\n",
    "        ----------\n",
    "        s : shape=(N,K). s[i,j] represents the score of j.th class given i.th input.\n",
    "\n",
    "        Returns\n",
    "        -------\n",
    "        probs:shape=(N,K) probs[i,j] represents the predicted probability of j.th class given i.th input\n",
    "        \n",
    "        Examples\n",
    "        -------\n",
    "    \"\"\"\n",
    "    s-=np.max(s,axis=axis,keepdims=True)\n",
    "    exp_scores=np.exp(s)\n",
    "    probs=exp_scores/np.sum(exp_scores,axis=axis,keepdims=True)\n",
    "    return probs\n",
    "\n",
    "def spiral_data_gen(flag_plotting=False):\n",
    "\n",
    "    N = 100 # number of points per class\n",
    "    D = 2 # dimensionality\n",
    "    K = 3 # number of classes\n",
    "    X = np.zeros((N*K,D)) # data matrix (each row = single example)\n",
    "    y = np.zeros(N*K, dtype='uint8') # class labels\n",
    "    for j in range(K):\n",
    "        ix = range(N*j,N*(j+1))\n",
    "        r = np.linspace(0.0,1,N) # radius\n",
    "        t = np.linspace(j*4,(j+1)*4,N) + np.random.randn(N)*0.2 # theta\n",
    "        X[ix] = np.c_[r*np.sin(t), r*np.cos(t)]\n",
    "        y[ix] = j            \n",
    "    if flag_plotting:\n",
    "        # lets visualize the data:\n",
    "        plt.scatter(X[:, 0], X[:, 1], c=y, s=40, cmap=plt.cm.Spectral)\n",
    "        plt.show()\n",
    "    return X,y"
   ]
  },
  {
   "cell_type": "markdown",
   "metadata": {},
   "source": [
    "# Train a Vanilla Neural Network"
   ]
  },
  {
   "cell_type": "code",
   "execution_count": 2,
   "metadata": {},
   "outputs": [],
   "source": [
    "def NNClassifier(X,y,num_epoch=50_000,hidden_size=500,reg=0.0,step_size=.01,plot=False):\n",
    "    X=X.T\n",
    "    D,N=X.shape\n",
    "    K=len(np.unique(y))\n",
    "    \n",
    "    # initialize parameters randomly\n",
    "    h = hidden_size # size of hidden layer\n",
    "    W = 0.01 * np.random.randn(h,D)\n",
    "    b = np.zeros((h,1))\n",
    "    W2 = 0.01 * np.random.randn(K,h)\n",
    "    b2 = np.zeros((K,1))\n",
    "    \n",
    "    mode=num_epoch//10\n",
    "\n",
    "    \n",
    "    for i in range(num_epoch):\n",
    "    \n",
    "        # forward pass - compute predictions\n",
    "        Z = np.maximum(0, W.dot(X)+ b)# ReLU\n",
    "        S =softmax(W2.dot(Z) + b2)\n",
    "\n",
    "        # compute the loss: average cross-entropy loss and regularization\n",
    "        corect_logprobs = -np.log(S[y,range(N)])\n",
    "        data_loss = np.sum(corect_logprobs)/N\n",
    "        reg_loss = 0.5*reg*np.sum(W*W) + 0.5*reg*np.sum(W2*W2)\n",
    "        loss = data_loss + reg_loss\n",
    "        \n",
    "        if i % mode == 0:\n",
    "            print(\"Epoch %d: loss %f\" % (i, loss))\n",
    "\n",
    "\n",
    "        # compute the gradient on predicted probs\n",
    "        # Derivative of loss w.r.t. ouput of softmax.\n",
    "        dS = S\n",
    "        dS[y,range(N)] -= 1\n",
    "        dS /= N\n",
    "\n",
    "        # backpropate the gradient to the parameters\n",
    "        # first backprop into parameters W2 and b2  \n",
    "        dW2=dS.dot(Z.T)\n",
    "        db2 = np.sum(dS, axis=1, keepdims=True)\n",
    "\n",
    "\n",
    "        dZ=W2.T.dot(dS) \n",
    "        # backprop the ReLU non-linearity\n",
    "        dZ[Z <= 0] = 0\n",
    "\n",
    "        # finally into W,b\n",
    "\n",
    "        dW=dZ.dot(X.T)\n",
    "        db = np.sum(dZ, axis=1, keepdims=True)\n",
    "\n",
    "\n",
    "        # add regularization gradient contribution\n",
    "        dW2 += reg * W2\n",
    "        dW += reg * W\n",
    "\n",
    "        # perform a parameter update\n",
    "        W += -step_size * dW\n",
    "        b += -step_size * db\n",
    "        W2 += -step_size * dW2\n",
    "        b2 += -step_size * db2\n",
    "    \n",
    " \n",
    "    probs=softmax(W2.dot(np.maximum(0, W.dot(X)+ b)) + b2)    \n",
    "    predicted_class = np.argmax(probs, axis=0)\n",
    "    print(classification_report(y, predicted_class))\n",
    "\n",
    "    \n",
    "    if plot:\n",
    "        X=X.T\n",
    "        W=W.T\n",
    "        W2=W2.T\n",
    "        b2=b2.T\n",
    "        b=b.T\n",
    "        # plot the resulting classifier\n",
    "        h = 0.02\n",
    "        x_min, x_max = X[:, 0].min() - 1, X[:, 0].max() + 1\n",
    "        y_min, y_max = X[:, 1].min() - 1, X[:, 1].max() + 1\n",
    "        xx, yy = np.meshgrid(np.arange(x_min, x_max, h),np.arange(y_min, y_max, h))\n",
    "        Z = np.dot(np.maximum(0, np.dot(np.c_[xx.ravel(), yy.ravel()], W) + b), W2) + b2\n",
    "        Z = np.argmax(Z, axis=1)\n",
    "        Z = Z.reshape(xx.shape)\n",
    "        fig = plt.figure()\n",
    "        plt.contourf(xx, yy, Z, cmap=plt.cm.Spectral, alpha=0.8)\n",
    "        plt.scatter(X[:, 0], X[:, 1], c=y, s=40, cmap=plt.cm.Spectral)\n",
    "        plt.xlim(xx.min(), xx.max())\n",
    "        plt.ylim(yy.min(), yy.max())\n",
    "    "
   ]
  },
  {
   "cell_type": "code",
   "execution_count": 3,
   "metadata": {},
   "outputs": [
    {
     "name": "stdout",
     "output_type": "stream",
     "text": [
      "Epoch 0: loss 1.098431\n",
      "Epoch 5000: loss 0.690809\n",
      "Epoch 10000: loss 0.649676\n",
      "Epoch 15000: loss 0.598423\n",
      "Epoch 20000: loss 0.506088\n",
      "Epoch 25000: loss 0.393059\n",
      "Epoch 30000: loss 0.311223\n",
      "Epoch 35000: loss 0.259396\n",
      "Epoch 40000: loss 0.223997\n",
      "Epoch 45000: loss 0.198258\n",
      "              precision    recall  f1-score   support\n",
      "\n",
      "           0       0.92      0.93      0.93       100\n",
      "           1       0.92      0.94      0.93       100\n",
      "           2       0.94      0.91      0.92       100\n",
      "\n",
      "    accuracy                           0.93       300\n",
      "   macro avg       0.93      0.93      0.93       300\n",
      "weighted avg       0.93      0.93      0.93       300\n",
      "\n"
     ]
    },
    {
     "data": {
      "image/png": "[encoded data removed]",
      "text/plain": [
       "<Figure size 432x288 with 1 Axes>"
      ]
     },
     "metadata": {
      "needs_background": "light"
     },
     "output_type": "display_data"
    }
   ],
   "source": [
    "X,y=spiral_data_gen()\n",
    "NNClassifier(X,y,plot=True)"
   ]
  }
 ],
 "metadata": {
  "kernelspec": {
   "display_name": "Python (conex)",
   "language": "python",
   "name": "conex"
  },
  "language_info": {
   "codemirror_mode": {
    "name": "ipython",
    "version": 3
   },
   "file_extension": ".py",
   "mimetype": "text/x-python",
   "name": "python",
   "nbconvert_exporter": "python",
   "pygments_lexer": "ipython3",
   "version": "3.6.10"
  }
 },
 "nbformat": 4,
 "nbformat_minor": 2
}
