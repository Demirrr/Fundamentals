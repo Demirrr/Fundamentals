{
 "cells": [
  {
   "cell_type": "code",
   "execution_count": 1,
   "metadata": {},
   "outputs": [],
   "source": [
    "# resource https://nbviewer.jupyter.org/gist/yoavg/d76121dfde2618422139"
   ]
  },
  {
   "cell_type": "code",
   "execution_count": 37,
   "metadata": {},
   "outputs": [],
   "source": [
    "from collections import *\n",
    "\n",
    "def train_char_lm(fname, order=4):\n",
    "    #data = file(fname).read()\n",
    "    data=open(fname,\"r\").read()\n",
    "    lm = defaultdict(Counter)\n",
    "    pad = \"~\" * order\n",
    "    data = pad + data\n",
    "    for i in range(len(data)-order):\n",
    "        history, char = data[i:i+order], data[i+order]\n",
    "        lm[history][char]+=1\n",
    "    def normalize(counter):\n",
    "        s = float(sum(counter.values()))\n",
    "        return [(c,cnt/s) for c,cnt in counter.items()]\n",
    "    outlm = {hist:normalize(chars) for hist, chars in lm.items()}\n",
    "    return outlm"
   ]
  },
  {
   "cell_type": "code",
   "execution_count": 38,
   "metadata": {},
   "outputs": [],
   "source": [
    "#!wget http://cs.stanford.edu/people/karpathy/char-rnn/shakespeare_input.txt"
   ]
  },
  {
   "cell_type": "code",
   "execution_count": null,
   "metadata": {},
   "outputs": [],
   "source": []
  },
  {
   "cell_type": "code",
   "execution_count": 39,
   "metadata": {},
   "outputs": [],
   "source": [
    "lm = train_char_lm(\"shakespeare_input.txt\", order=4)"
   ]
  },
  {
   "cell_type": "code",
   "execution_count": 43,
   "metadata": {},
   "outputs": [
    {
     "data": {
      "text/plain": [
       "[('!', 0.06912442396313365),\n",
       " (' ', 0.22119815668202766),\n",
       " (\"'\", 0.018433179723502304),\n",
       " (',', 0.20276497695852536),\n",
       " ('-', 0.059907834101382486),\n",
       " ('.', 0.1336405529953917),\n",
       " ('i', 0.03225806451612903),\n",
       " ('\\n', 0.018433179723502304),\n",
       " (':', 0.018433179723502304),\n",
       " (';', 0.027649769585253458),\n",
       " ('?', 0.03225806451612903),\n",
       " ('s', 0.009216589861751152),\n",
       " ('o', 0.15668202764976957)]"
      ]
     },
     "execution_count": 43,
     "metadata": {},
     "output_type": "execute_result"
    }
   ],
   "source": [
    "lm['hell']"
   ]
  },
  {
   "cell_type": "code",
   "execution_count": 44,
   "metadata": {},
   "outputs": [],
   "source": [
    "from random import random\n",
    "\n",
    "def generate_letter(lm, history, order):\n",
    "        history = history[-order:]\n",
    "        dist = lm[history]\n",
    "        x = random()\n",
    "        for c,v in dist:\n",
    "            x = x - v\n",
    "            if x <= 0: return c"
   ]
  },
  {
   "cell_type": "code",
   "execution_count": 49,
   "metadata": {},
   "outputs": [],
   "source": [
    "def generate_text(lm, order, nletters=1000):\n",
    "    history = \"~\" * order\n",
    "    out = []\n",
    "    for i in range(nletters):\n",
    "        c = generate_letter(lm, history, order)\n",
    "        history = history[-order:] + c\n",
    "        out.append(c)\n",
    "    return \"\".join(out)"
   ]
  },
  {
   "cell_type": "code",
   "execution_count": 50,
   "metadata": {},
   "outputs": [],
   "source": [
    "lm = train_char_lm(\"shakespeare_input.txt\", order=7)"
   ]
  },
  {
   "cell_type": "code",
   "execution_count": 51,
   "metadata": {},
   "outputs": [
    {
     "name": "stdout",
     "output_type": "stream",
     "text": [
      "First Citizen:\n",
      "Certainly, while them will my father 'scape a brave Gaunt dead, what are they\n",
      "That any good brother, when he breach or lym,\n",
      "Or bobtail tike or trundle-tail,\n",
      "To lip a wanton with thy forlorn,\n",
      "In so high\n",
      "and placed,\n",
      "I give yourself assay him: I am Edward shall't be so obdurate\n",
      "To one way; for\n",
      "ever angry boar chafed lion\n",
      "Upon them: and all the 'orld: I\n",
      "need not\n",
      "able to rage,\n",
      "Catch in first be turn'd cowards, I think you as had milked; and wandering and vary of all dead\n",
      "And thou hast been perjury; to repeated infant, freely have I won of mine own part I have not\n",
      "truly, he hath drawn salt tears are they themselves\n",
      "for ever, as Diana,\n",
      "Where with reverence be strong and, 'twixt son\n",
      "and ceremonies.\n",
      "\n",
      "Mother:\n",
      "No villains the suburbs closet: he will;\n",
      "My lord, I could make you do wrong'd.\n",
      "\n",
      "GLOUCESTER:\n",
      "Naught rescued?\n",
      "\n",
      "CELIA:\n",
      "I thank you, widow, nor the flight. Now to gall a nettle-seed.\n",
      "\n",
      "TITUS ANDRONICUS:\n",
      "Aged sir, did he bear.\n",
      "\n",
      "CELIA:\n",
      "O good Grumio!\n",
      "\n",
      "NATHANIEL:\n",
      "And I, to find the k\n"
     ]
    }
   ],
   "source": [
    "print(generate_text(lm, 7))"
   ]
  },
  {
   "cell_type": "code",
   "execution_count": null,
   "metadata": {},
   "outputs": [],
   "source": []
  }
 ],
 "metadata": {
  "kernelspec": {
   "display_name": "Python (temp)",
   "language": "python",
   "name": "temp"
  },
  "language_info": {
   "codemirror_mode": {
    "name": "ipython",
    "version": 3
   },
   "file_extension": ".py",
   "mimetype": "text/x-python",
   "name": "python",
   "nbconvert_exporter": "python",
   "pygments_lexer": "ipython3",
   "version": "3.6.8"
  }
 },
 "nbformat": 4,
 "nbformat_minor": 2
}
