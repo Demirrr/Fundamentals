{
 "cells": [
  {
   "cell_type": "code",
   "execution_count": 24,
   "metadata": {},
   "outputs": [],
   "source": [
    "import numpy as np\n",
    "from scipy.special import expit\n",
    "from neural_network import neural_network_cost_gradient, flatten_cost_gradient\n",
    "from sgd import bind_cost_gradient, batch_sampler\n",
    "from gradient_descent import gradient_descent\n",
    "from gradient_check import gradient_check\n",
    "from utilities import softmax\n",
    "import matplotlib.pyplot as plt"
   ]
  },
  {
   "cell_type": "code",
   "execution_count": 25,
   "metadata": {},
   "outputs": [
    {
     "name": "stderr",
     "output_type": "stream",
     "text": [
      "/home/demir/anaconda3/envs/temp/lib/python3.6/site-packages/ipykernel_launcher.py:16: DeprecationWarning: Calling np.sum(generator) is deprecated, and in the future will give a different result. Use np.sum(np.fromiter(generator)) or the python sum builtin instead.\n",
      "  app.launch_new_instance()\n"
     ]
    }
   ],
   "source": [
    "\n",
    "np.random.seed(0)\n",
    "input_size = 2\n",
    "hidden_size = 2\n",
    "output_size = 2\n",
    "\n",
    "# Classic XOR test data\n",
    "inputs = np.array([[0, 0], [0, 1], [1, 0], [1, 1]])\n",
    "outputs = np.array([0, 1, 1, 0])\n",
    "\n",
    "# Create cost and gradient function for gradient descent\n",
    "shapes = [(hidden_size, (input_size)), (output_size, (hidden_size))]\n",
    "flatten_neural_network_cost_gradient = flatten_cost_gradient(neural_network_cost_gradient, shapes)\n",
    "cost_gradient = bind_cost_gradient(flatten_neural_network_cost_gradient, inputs, outputs, sampler=batch_sampler)\n",
    "\n",
    "# Check gradient with initial parameters\n",
    "parameters_size = np.sum(np.product(shape) for shape in shapes)\n",
    "initial_parameters = np.random.normal(size=parameters_size)\n",
    "result = gradient_check(cost_gradient, initial_parameters)\n",
    "assert [] ==result\n",
    "\n",
    "# Train neural network (this is slow even such a simple task!)\n",
    "final_parameters, cost_history = gradient_descent(cost_gradient, initial_parameters, 1000)\n",
    "\n",
    "# Check if cost monotonically decrease (no guarantee in theory, but works in practice)\n",
    "\"\"\"        \n",
    "previous_cost = None\n",
    "for cost in cost_history:\n",
    "    if previous_cost is not None:\n",
    "        assert cost == previous_cost\n",
    "    previous_cost = cost\n",
    "\"\"\"\n",
    "# TODO: extract duplicated code for prediction to reusable component\n",
    "split_index = hidden_size * (input_size)\n",
    "W1, W2 = np.split(final_parameters, [split_index])\n",
    "W1 = W1.reshape((hidden_size, input_size))\n",
    "W2 = W2.reshape((output_size, hidden_size ))\n",
    "\n",
    "for input, output in zip(inputs, outputs):\n",
    "    input = input.reshape(-1, 1)\n",
    "    hidden_layer = expit(W1.dot(input))\n",
    "    inside_softmax = W2.dot(hidden_layer)\n",
    "    prediction = softmax(inside_softmax.reshape(-1)).reshape(-1, 1)\n",
    "    label = np.argmax(prediction)\n",
    "\n",
    "    # Check if output is correctly predicted\n",
    "    assert output== label"
   ]
  },
  {
   "cell_type": "code",
   "execution_count": 26,
   "metadata": {},
   "outputs": [
    {
     "data": {
      "text/plain": [
       "[<matplotlib.lines.Line2D at 0x7fe89b2a2fd0>]"
      ]
     },
     "execution_count": 26,
     "metadata": {},
     "output_type": "execute_result"
    },
    {
     "data": {
      "image/png": "[encoded data removed]",
      "text/plain": [
       "<Figure size 432x288 with 1 Axes>"
      ]
     },
     "metadata": {
      "needs_background": "light"
     },
     "output_type": "display_data"
    }
   ],
   "source": [
    "plt.plot(cost_history)"
   ]
  },
  {
   "cell_type": "code",
   "execution_count": null,
   "metadata": {},
   "outputs": [],
   "source": []
  }
 ],
 "metadata": {
  "kernelspec": {
   "display_name": "Python (temp)",
   "language": "python",
   "name": "temp"
  },
  "language_info": {
   "codemirror_mode": {
    "name": "ipython",
    "version": 3
   },
   "file_extension": ".py",
   "mimetype": "text/x-python",
   "name": "python",
   "nbconvert_exporter": "python",
   "pygments_lexer": "ipython3",
   "version": "3.6.8"
  }
 },
 "nbformat": 4,
 "nbformat_minor": 2
}
