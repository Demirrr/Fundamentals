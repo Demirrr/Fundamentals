{
 "cells": [
  {
   "cell_type": "code",
   "execution_count": 2,
   "metadata": {},
   "outputs": [],
   "source": [
    "import unittest\n",
    "import numpy as np\n",
    "from nplm import NPLM\n",
    "\n",
    "\n",
    "\n",
    "np.random.seed(0)\n",
    "\n",
    "# Test settings\n",
    "vocabulary_size = 5\n",
    "context_size = 1\n",
    "hidden_size = 1\n",
    "feature_size = 2\n",
    "\n",
    "# Gradient check\n",
    "data_size = 4\n",
    "inputs = np.random.randint(0, vocabulary_size, size=(data_size, context_size))\n",
    "outputs = np.random.randint(0, vocabulary_size, size=(data_size, 1))\n",
    "nplm = NPLM(vocabulary_size, feature_size, context_size, hidden_size)\n",
    "result = nplm.gradient_check(inputs, outputs)"
   ]
  },
  {
   "cell_type": "code",
   "execution_count": 5,
   "metadata": {},
   "outputs": [
    {
     "name": "stdout",
     "output_type": "stream",
     "text": [
      "Prediction:am - True Val :am\n",
      "Prediction:are - True Val :are\n"
     ]
    }
   ],
   "source": [
    "# Train NPLM\n",
    "sentences = [['^', 'i', 'am'], ['^', 'you', 'are']]\n",
    "nplm = NPLM(vocabulary_size, feature_size, context_size, hidden_size)\n",
    "nplm.train(sentences, 100)\n",
    "\n",
    "# Check if next word is predicted from context\n",
    "for sentence in sentences:\n",
    "    context = sentence[:-1]\n",
    "    word = sentence[-1]\n",
    "    prediction = nplm.predict(context)\n",
    "    print('Prediction:{0} - True Val :{1}'.format(prediction,word))"
   ]
  },
  {
   "cell_type": "code",
   "execution_count": null,
   "metadata": {},
   "outputs": [],
   "source": []
  }
 ],
 "metadata": {
  "kernelspec": {
   "display_name": "Python (temp)",
   "language": "python",
   "name": "temp"
  },
  "language_info": {
   "codemirror_mode": {
    "name": "ipython",
    "version": 3
   },
   "file_extension": ".py",
   "mimetype": "text/x-python",
   "name": "python",
   "nbconvert_exporter": "python",
   "pygments_lexer": "ipython3",
   "version": "3.6.8"
  }
 },
 "nbformat": 4,
 "nbformat_minor": 2
}
