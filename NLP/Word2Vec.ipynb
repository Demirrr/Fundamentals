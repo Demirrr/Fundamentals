{
 "cells": [
  {
   "cell_type": "code",
   "execution_count": 12,
   "metadata": {},
   "outputs": [],
   "source": [
    "import unittest\n",
    "from word2vec import *\n",
    "from gradient_descent import *\n",
    "from sgd import *\n",
    "from gradient_check import *\n",
    "\n",
    "import matplotlib.pyplot as plt"
   ]
  },
  {
   "cell_type": "code",
   "execution_count": 7,
   "metadata": {},
   "outputs": [],
   "source": [
    "def softmax_cost_gradient_wrapper(parameters):\n",
    "    cost, gradient = softmax_cost_gradient(parameters, input, output)\n",
    "    return cost, gradient"
   ]
  },
  {
   "cell_type": "code",
   "execution_count": 8,
   "metadata": {},
   "outputs": [],
   "source": [
    "vocabulary_size = 5\n",
    "vector_size = 2\n",
    "input = np.random.randint(0, vocabulary_size)\n",
    "output = np.random.randint(0, vocabulary_size)\n",
    "\n",
    "\n",
    "\n",
    "initial_parameters = np.random.normal(size=(2, vocabulary_size, vector_size))\n",
    "result = gradient_check(softmax_cost_gradient_wrapper, initial_parameters)\n"
   ]
  },
  {
   "cell_type": "code",
   "execution_count": 9,
   "metadata": {},
   "outputs": [
    {
     "data": {
      "text/plain": [
       "[]"
      ]
     },
     "execution_count": 9,
     "metadata": {},
     "output_type": "execute_result"
    }
   ],
   "source": [
    "result"
   ]
  },
  {
   "cell_type": "code",
   "execution_count": 11,
   "metadata": {},
   "outputs": [],
   "source": [
    "vocabulary_size = 5\n",
    "vector_size = 2\n",
    "context_size = 3\n",
    "data_size = 4\n",
    "inputs = np.random.randint(0, vocabulary_size, size=data_size)\n",
    "outputs = np.random.randint(0, vocabulary_size, size=(data_size, context_size))\n",
    "initial_parameters = np.random.normal(size=(2, vocabulary_size, vector_size))\n",
    "\n",
    "# Create cost and gradient function for supervised SGD and check its gradient\n",
    "cost_gradient = bind_cost_gradient(skip_gram_cost_gradient, inputs, outputs, sampler=batch_sampler)\n",
    "result = gradient_check(cost_gradient, initial_parameters)\n",
    "final_parameters, cost_history = gradient_descent(cost_gradient, initial_parameters, 10)"
   ]
  },
  {
   "cell_type": "code",
   "execution_count": 13,
   "metadata": {},
   "outputs": [
    {
     "data": {
      "text/plain": [
       "[<matplotlib.lines.Line2D at 0x7f4fc0e8e908>]"
      ]
     },
     "execution_count": 13,
     "metadata": {},
     "output_type": "execute_result"
    },
    {
     "data": {
      "image/png": "[encoded data removed]",
      "text/plain": [
       "<Figure size 432x288 with 1 Axes>"
      ]
     },
     "metadata": {
      "needs_background": "light"
     },
     "output_type": "display_data"
    }
   ],
   "source": [
    "plt.plot(cost_history)"
   ]
  },
  {
   "cell_type": "code",
   "execution_count": null,
   "metadata": {},
   "outputs": [],
   "source": []
  },
  {
   "cell_type": "code",
   "execution_count": null,
   "metadata": {},
   "outputs": [],
   "source": []
  }
 ],
 "metadata": {
  "kernelspec": {
   "display_name": "Python (temp)",
   "language": "python",
   "name": "temp"
  },
  "language_info": {
   "codemirror_mode": {
    "name": "ipython",
    "version": 3
   },
   "file_extension": ".py",
   "mimetype": "text/x-python",
   "name": "python",
   "nbconvert_exporter": "python",
   "pygments_lexer": "ipython3",
   "version": "3.6.8"
  }
 },
 "nbformat": 4,
 "nbformat_minor": 2
}
