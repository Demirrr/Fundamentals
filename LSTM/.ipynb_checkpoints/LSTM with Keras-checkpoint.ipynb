{
 "cells": [
  {
   "cell_type": "code",
   "execution_count": 2,
   "metadata": {},
   "outputs": [],
   "source": [
    "import keras\n",
    "from keras.models import Sequential\n",
    "from keras.layers import Dense, Dropout\n",
    "from keras.layers.recurrent import LSTM\n",
    "import numpy as np\n",
    "\n",
    "def LoadText():\n",
    "    with open(\"eminem.txt\", \"r\") as text_file:\n",
    "        data = text_file.read()\n",
    "    text = list(data)\n",
    "    inputSize = len(text)\n",
    "    data = sorted(list(set(text)))\n",
    "    dataSize = len(data)\n",
    "    return text, inputSize, dataSize, data"
   ]
  },
  {
   "cell_type": "code",
   "execution_count": 3,
   "metadata": {},
   "outputs": [],
   "source": [
    "text, textSize, uniqueChars, chars = LoadText()\n",
    "ci = dict((c,i) for i, c in enumerate(chars))\n",
    "ic = dict((i,c) for i, c in enumerate(chars))"
   ]
  },
  {
   "cell_type": "code",
   "execution_count": 14,
   "metadata": {},
   "outputs": [
    {
     "name": "stdout",
     "output_type": "stream",
     "text": [
      "['L', 'o', 'o', 'k', ' ', 'i', 'f', ' ', 'y', 'o', 'u', ' ', 'h', 'a', 'd']\n"
     ]
    }
   ],
   "source": [
    "print(text[:15])\n",
    "assert uniqueChars == len(chars)"
   ]
  },
  {
   "cell_type": "code",
   "execution_count": 17,
   "metadata": {},
   "outputs": [],
   "source": [
    "seqLen = 10\n",
    "sentences = []\n",
    "nextChars= []\n",
    "for i in range(0,textSize-seqLen, 3):\n",
    "    sentences.append(text[i:i+seqLen])\n",
    "    nextChars.append(text[i+seqLen])"
   ]
  },
  {
   "cell_type": "code",
   "execution_count": 22,
   "metadata": {},
   "outputs": [
    {
     "name": "stdout",
     "output_type": "stream",
     "text": [
      "10 previous characters: ['L', 'o', 'o', 'k', ' ', 'i', 'f', ' ', 'y', 'o']\n",
      "Next character:u\n"
     ]
    }
   ],
   "source": [
    "print('{0} previous characters: {1}\\nNext character:{2}'.format(seqLen,sentences[0],nextChars[0])) "
   ]
  },
  {
   "cell_type": "code",
   "execution_count": 23,
   "metadata": {},
   "outputs": [],
   "source": [
    "x_train = np.zeros((len(sentences), seqLen, uniqueChars), dtype=np.bool)\n",
    "y_train = np.zeros((len(sentences), uniqueChars), dtype=np.bool)\n",
    "for i, sentence in enumerate(sentences):\n",
    "    for j, char in enumerate(sentence):\n",
    "        x_train[i, j, ci[char]] = 1\n",
    "    y_train[i, ci[nextChars[i]]] = 1"
   ]
  },
  {
   "cell_type": "code",
   "execution_count": 27,
   "metadata": {},
   "outputs": [],
   "source": [
    " model = Sequential()\n",
    "model.add(LSTM(150, input_shape=(seqLen, uniqueChars), return_sequences=True, implementation=1))\n",
    "model.add(Dropout(0.25))\n",
    "model.add(LSTM(150, input_shape=(seqLen, uniqueChars), implementation=1))\n",
    "model.add(Dropout(0.5))\n",
    "model.add(Dense(uniqueChars, activation='softmax'))\n",
    "model.compile(optimizer=keras.optimizers.rmsprop(lr=0.007), loss='categorical_crossentropy')"
   ]
  },
  {
   "cell_type": "code",
   "execution_count": 29,
   "metadata": {},
   "outputs": [
    {
     "name": "stdout",
     "output_type": "stream",
     "text": [
      "==================================================\n",
      "iteration:  0\n",
      "Epoch 1/1\n",
      "961/961 [==============================] - 0s - loss: 2.9530     \n",
      "generating with seed:   you call \n",
      "==================================================\n",
      "iteration:  1\n",
      "Epoch 1/1\n",
      "961/961 [==============================] - 0s - loss: 2.9323     \n",
      "generating with seed:  y shot\n",
      "pen\n",
      "==================================================\n",
      "iteration:  2\n",
      "Epoch 1/1\n",
      "961/961 [==============================] - 0s - loss: 2.8787     \n",
      "generating with seed:  % error\n",
      "bu\n",
      "==================================================\n",
      "iteration:  3\n",
      "Epoch 1/1\n",
      "961/961 [==============================] - 0s - loss: 2.8429     \n",
      "generating with seed:  , everybod\n",
      "==================================================\n",
      "iteration:  4\n",
      "Epoch 1/1\n",
      "961/961 [==============================] - 0s - loss: 2.7556     \n",
      "generating with seed:   the physi\n",
      "==================================================\n",
      "iteration:  5\n",
      "Epoch 1/1\n",
      "961/961 [==============================] - 0s - loss: 2.6445     \n",
      "generating with seed:  d mechanic\n",
      "==================================================\n",
      "iteration:  6\n",
      "Epoch 1/1\n",
      "961/961 [==============================] - 0s - loss: 2.6208     \n",
      "generating with seed:  n forgetti\n",
      "==================================================\n",
      "iteration:  7\n",
      "Epoch 1/1\n",
      "961/961 [==============================] - 0s - loss: 2.4540     \n",
      "generating with seed:  change wha\n",
      "==================================================\n",
      "iteration:  8\n",
      "Epoch 1/1\n",
      "961/961 [==============================] - 0s - loss: 2.4400     \n",
      "generating with seed:   his calcu\n",
      "==================================================\n",
      "iteration:  9\n",
      "Epoch 1/1\n",
      "961/961 [==============================] - 0s - loss: 2.3391     \n",
      "generating with seed:  dum ba dum\n"
     ]
    }
   ],
   "source": [
    "with open(\"output.txt\", \"w\") as text_file:\n",
    "    for it in range(10):\n",
    "        print('=' * 50)\n",
    "        print('iteration: ', it)\n",
    "        model.fit(x_train, y_train, batch_size=128, epochs=1, verbose=1)\n",
    "        startIndex = np.random.randint(0,textSize-seqLen-1)\n",
    "        generated = ''\n",
    "        sentence = text[startIndex:startIndex+seqLen]\n",
    "        generated = generated.join(sentence)\n",
    "        print(\"generating with seed: \", generated)\n",
    "\n",
    "        for i in range(4000):\n",
    "            x = np.zeros((1, seqLen, uniqueChars))\n",
    "            for j, char in enumerate(sentence):\n",
    "                x[0, j, ci[char]] = 1\n",
    "            prediction = model.predict(x, batch_size=1, verbose=0)[0]\n",
    "            index = np.random.choice(uniqueChars, p=prediction)\n",
    "            char = ic[index]\n",
    "            generated += char\n",
    "            sentence.append(char)\n",
    "            sentence.pop(0) \n",
    "        text_file.write(generated)"
   ]
  },
  {
   "cell_type": "code",
   "execution_count": null,
   "metadata": {},
   "outputs": [],
   "source": []
  }
 ],
 "metadata": {
  "kernelspec": {
   "display_name": "Python (temp)",
   "language": "python",
   "name": "temp"
  },
  "language_info": {
   "codemirror_mode": {
    "name": "ipython",
    "version": 3
   },
   "file_extension": ".py",
   "mimetype": "text/x-python",
   "name": "python",
   "nbconvert_exporter": "python",
   "pygments_lexer": "ipython3",
   "version": "3.6.8"
  }
 },
 "nbformat": 4,
 "nbformat_minor": 2
}
