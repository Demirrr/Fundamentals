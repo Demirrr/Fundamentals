{
 "cells": [
  {
   "cell_type": "markdown",
   "metadata": {},
   "source": [
    "## Poisson Distribution\n",
    "\n",
    "1. Why did Poisson invent Poisson Distribution?\n",
    "\n",
    "To predict the probability of a given number of events occurring in a fixed interval of time.\n",
    "\n",
    "If you ever sold something, this “event” can be defined, for example, as a customer purchases something from you (the moment of truth, not just browsing). It can be how many visitors you get on your website a day, how many clicks your ads get for the next month, how many phone calls you get during your shift, or even how many people will die from a fatal disease next year, etc.\n",
    "\n",
    "### Problem specification\n",
    "\n",
    "Number of people who read per week (n) = 59k/52 = 1134\n",
    "\n",
    "Number of people who clap read per week (x) = 888/52 = 17\n",
    "\n",
    "Success probability (p) : 888/59k = 0.015 = 1.5%\n",
    "\n",
    "Given these information what is the probability of getting exactly 20 claps next week ?\n",
    "https://medium.com/@aerinykim/poisson-distribution-intuition-and-derivation-1059aeab90d\n"
   ]
  },
  {
   "cell_type": "code",
   "execution_count": 52,
   "metadata": {},
   "outputs": [],
   "source": [
    "num_of_reader_per_week=59000//52\n",
    "num_of_reader_claps_per_week=888//52\n",
    "prob_of_clap=round(889/59000,5)"
   ]
  },
  {
   "cell_type": "markdown",
   "metadata": {},
   "source": [
    "## Lets calculate the probability of getting exactly 20 claps using the Binomial probability mass function\n",
    "\n",
    "\n",
    "$$ Binomial P(X=x) = {n \\choose x} p^x (1-p)^{n-x}$$"
   ]
  },
  {
   "cell_type": "code",
   "execution_count": 55,
   "metadata": {},
   "outputs": [],
   "source": [
    "from scipy.special import comb\n",
    "import math\n",
    "\n",
    "def binomial_pmf(n,x,p):\n",
    "    return round(comb(n,x)*(p**x)*(1-p)**(n-x),5)"
   ]
  },
  {
   "cell_type": "code",
   "execution_count": 54,
   "metadata": {},
   "outputs": [
    {
     "data": {
      "text/plain": [
       "0.06962"
      ]
     },
     "execution_count": 54,
     "metadata": {},
     "output_type": "execute_result"
    }
   ],
   "source": [
    "# Probability of getting 20 claps for next week is 6%\n",
    "binomial_pmf(1134,20,0.015)"
   ]
  },
  {
   "cell_type": "markdown",
   "metadata": {},
   "source": [
    "### The shortcomings of the Binomial Distribution\n",
    "\n",
    "A binomial random varliable s binary 0/1. \n",
    "\n",
    "+ Given we have 17/wk who clapped. \n",
    "    + 17 / 7 = 2.4 people clapped per day and \n",
    "    + 17 / (7*24) = 0.1 people clapping per hour.\n",
    "\n",
    "Modelling the success probability by hour (0.1 people/hr) using the binomial random variable means that mosts of the hours get zero claps but some hours will get **exactly 1 clap**. However, it is also very possible that certain hour will get more than 1 clap (2, 3, 5 claps, etc.)\n",
    "\n",
    "\n",
    "***The problem with binomial is that it can NOT contain more than 1 event in the unit time (in this case, 1 hr). The unit time can only have 0 or 1 event. Then, how about dividing 1 hour into 60 minutes, and make unit time smaller, for example, a minute? Then 1 hour can contain multiple events. (Still, one minute will contain exactly one or zero events.)***\n",
    "\n",
    "\n",
    "#### Provacative thoughts: What if, during that one minute, we get multiple claps? (i.e. someone shared your blog post on Twitter and the traffic spiked at that minute.) \n",
    "\n",
    "#### So what, we can divide a minute into seconds. \n",
    "\n",
    "+ Then our time unit becomes a second and again a minute can contain multiple events. But this binary container problem will always exist for ever-smaller time units.\n",
    "\n",
    "#### Then what to do ?\n",
    "\n",
    "The idea is, we can make ***the Binomial random variable handle multiple events by dividing a unit time into smaller units***. By using smaller divisions, we can make the original unit time contain more than one event.\n",
    "\n",
    "+ Mathematically, this means n → ∞. Since we assume the rate is fixed, we must have p → 0. Because otherwise, n*p, which is the number of events, will blow up.\n",
    "\n",
    "+ Using the limit, the unit times are now infinitesimal. We no longer have to worry about more than one event occurring within the same unit time. And this is how we derive ***Poisson distribution***.\n",
    "\n",
    "\n",
    "\n",
    "#### Briafly Binomial distribution vs Poisson distributionl\n",
    "\n",
    "***In the Binomial distribution***, the # of trials (n) should be known before hand. If you use Binomial, you cannot calculate the success probability only with the rate (i.e. 17 ppl/week). You need “more info” (n & p) in order to use the binomial PMF.\n",
    "\n",
    "\n",
    "***The Poisson Distribution***, on the other hand, doesn’t require you to know n nor p. We are assuming n is infinitely large and p is infinitesimal. The only parameter of the Poisson distribution is the rate λ (the expected value of x). In real life, only knowing the rate (i.e., during 2pm~4pm, I received 3 phone calls) is much more common than knowing both n & p."
   ]
  },
  {
   "cell_type": "markdown",
   "metadata": {},
   "source": [
    "### Let's derive the Poisson formula mathematically from the Binomial PMF\n",
    "\n",
    "\n",
    "$$ P(X=k)= L_{n\\rightarrow \\infty}  {n \\choose k} p^k (1-p)^{n-k}$$\n",
    "\n",
    "\n",
    "$ p=\\frac{\\lambda}{n} : n\\rightarrow \\infty, p\\rightarrow 0$\n",
    "\n",
    "\n",
    "\n",
    "$$ P(X=k)=L_{n\\rightarrow \\infty} {n \\choose k}  \\Big(\\frac{\\lambda}{n}\\Big)^k \\Big(1-\\frac{\\lambda}{n}\\Big)^{n-k}$$\n",
    "\n",
    "\n",
    "$$ P(X=k)= L_{n\\rightarrow \\infty} \\frac{n!}{(n-k)! k!} \\Big(\\frac{\\lambda}{n}\\Big)^k \\Big(1-\\frac{\\lambda}{n}\\Big)^n \\Big(1-\\frac{\\lambda}{n}\\Big)^{-k}$$\n",
    "\n",
    "\n",
    "\n",
    "$\\Big(1-\\frac{\\lambda}{n}\\Big)^{-k}=1$\n",
    "\n",
    "$\\Big(1-\\frac{\\lambda}{n}\\Big)^{n}=e^{-\\lambda}$\n",
    "\n",
    "\n",
    "\n",
    "$$ P(X=k)= L_{n\\rightarrow \\infty} \\frac{n!}{(n-k)!} \\frac{1}{n^k} \\frac{\\lambda^k}{k!} e^{\\lambda} 1 $$\n",
    "\n",
    "\n",
    "as $n\\rightarrow \\infty$ the first term becomes to **1**.\n",
    "\n",
    "#### Finally we get the Poisson distribution\n",
    "\n",
    "$$ Poisson Probability(k)= e^{-\\lambda} \\frac{\\lambda^k}{k!},$$\n",
    "\n",
    "where \n",
    "+ $\\lambda$ is the average number of events per interval\n",
    "+ $e$ (the Euler's number) is 2.71828 the base of natural logarithm \n",
    "+ k takes values of 0, 1, 2--"
   ]
  },
  {
   "cell_type": "code",
   "execution_count": 68,
   "metadata": {},
   "outputs": [],
   "source": [
    "def poisson_prob(k,_lambda):\n",
    "    return math.e**(-_lambda) * (_lambda**k/math.factorial(k))"
   ]
  },
  {
   "cell_type": "code",
   "execution_count": 69,
   "metadata": {},
   "outputs": [
    {
     "data": {
      "text/plain": [
       "0.06915882695522842"
      ]
     },
     "execution_count": 69,
     "metadata": {},
     "output_type": "execute_result"
    }
   ],
   "source": [
    "poisson_prob(20,17)"
   ]
  },
  {
   "cell_type": "code",
   "execution_count": 70,
   "metadata": {},
   "outputs": [
    {
     "data": {
      "text/plain": [
       "0.06962"
      ]
     },
     "execution_count": 70,
     "metadata": {},
     "output_type": "execute_result"
    }
   ],
   "source": [
    "binomial_pmf(1134,20,0.015)"
   ]
  },
  {
   "cell_type": "code",
   "execution_count": null,
   "metadata": {},
   "outputs": [],
   "source": []
  },
  {
   "cell_type": "code",
   "execution_count": null,
   "metadata": {},
   "outputs": [],
   "source": []
  },
  {
   "cell_type": "markdown",
   "metadata": {},
   "source": [
    "https://towardsdatascience.com/reducing-dimensionality-from-dimensionality-reduction-techniques-f658aec24dfe"
   ]
  },
  {
   "cell_type": "code",
   "execution_count": null,
   "metadata": {},
   "outputs": [],
   "source": []
  },
  {
   "cell_type": "code",
   "execution_count": null,
   "metadata": {},
   "outputs": [],
   "source": []
  },
  {
   "cell_type": "code",
   "execution_count": null,
   "metadata": {},
   "outputs": [],
   "source": []
  },
  {
   "cell_type": "code",
   "execution_count": 1,
   "metadata": {},
   "outputs": [],
   "source": [
    "import numpy as np\n",
    "import scipy.optimize as opt\n",
    "%matplotlib inline\n",
    "import matplotlib.pylab as mpl\n",
    "\n",
    "import scipy.special as ss"
   ]
  },
  {
   "cell_type": "code",
   "execution_count": 2,
   "metadata": {},
   "outputs": [],
   "source": [
    "objective=np.poly1d([1.3,4.0,0.6])"
   ]
  },
  {
   "cell_type": "markdown",
   "metadata": {},
   "source": [
    "$objective=1.3x^2+4x+0.6$"
   ]
  },
  {
   "cell_type": "code",
   "execution_count": 3,
   "metadata": {},
   "outputs": [
    {
     "name": "stdout",
     "output_type": "stream",
     "text": [
      "Optimization terminated successfully.\n",
      "         Current function value: -2.476923\n",
      "         Iterations: 20\n",
      "         Function evaluations: 40\n"
     ]
    },
    {
     "data": {
      "text/plain": [
       "'solved: x=[-1.53845215]'"
      ]
     },
     "execution_count": 3,
     "metadata": {},
     "output_type": "execute_result"
    }
   ],
   "source": [
    "x_=opt.fmin(objective,[3])\n",
    "\"solved: x={}\".format(x_)"
   ]
  },
  {
   "cell_type": "code",
   "execution_count": 4,
   "metadata": {},
   "outputs": [
    {
     "data": {
      "text/plain": [
       "[<matplotlib.lines.Line2D at 0x7f7dc5119e48>]"
      ]
     },
     "execution_count": 4,
     "metadata": {},
     "output_type": "execute_result"
    },
    {
     "data": {
      "image/png": "[encoded data removed]",
      "text/plain": [
       "<Figure size 432x288 with 1 Axes>"
      ]
     },
     "metadata": {
      "needs_background": "light"
     },
     "output_type": "display_data"
    }
   ],
   "source": [
    "x=np.linspace(-4,1,101)\n",
    "mpl.plot(x,objective(x))\n",
    "mpl.plot(x_,objective(x_),'ro')\n"
   ]
  },
  {
   "cell_type": "markdown",
   "metadata": {},
   "source": [
    "## Isn't it beautiful?"
   ]
  },
  {
   "cell_type": "markdown",
   "metadata": {},
   "source": [
    "## Box constrains"
   ]
  },
  {
   "cell_type": "code",
   "execution_count": 5,
   "metadata": {},
   "outputs": [
    {
     "data": {
      "text/plain": [
       "[<matplotlib.lines.Line2D at 0x7f7dc4dbfa90>]"
      ]
     },
     "execution_count": 5,
     "metadata": {},
     "output_type": "execute_result"
    },
    {
     "data": {
      "image/png": "[encoded data removed]",
      "text/plain": [
       "<Figure size 432x288 with 1 Axes>"
      ]
     },
     "metadata": {
      "needs_background": "light"
     },
     "output_type": "display_data"
    }
   ],
   "source": [
    "\n",
    "import scipy.special as ss\n",
    "import scipy.optimize as opt\n",
    "import numpy as np\n",
    "import matplotlib.pylab as mpl\n",
    "\n",
    "x = np.linspace(2, 7, 200)\n",
    "\n",
    "# 1st order Bessel\n",
    "j1x = ss.j1(x)\n",
    "mpl.plot(x, j1x)\n",
    "\n",
    "# use scipy.optimize's more modern \"results object\" interface\n",
    "result = opt.minimize_scalar(ss.j1, method=\"bounded\", bounds=[2, 4])\n",
    "\n",
    "j1_min = ss.j1(result.x)\n",
    "mpl.plot(result.x, j1_min,'ro')"
   ]
  },
  {
   "cell_type": "code",
   "execution_count": null,
   "metadata": {},
   "outputs": [],
   "source": []
  },
  {
   "cell_type": "markdown",
   "metadata": {},
   "source": [
    "# Variational Inference"
   ]
  },
  {
   "cell_type": "markdown",
   "metadata": {},
   "source": [
    "### Markov Chain Monte Carlo Algorithms\n",
    "\n",
    "+ Construct a Markov chain whose stationary distribution is the posterior distribution\n",
    "Sample from the Markov chain for a long time\n",
    "Approximate posterior quantities using the empirical distribution of the samples\n",
    "To produce an interesting MCMC animation, we simulate a linear regression data set and animate samples from the posteriors of the regression coefficients."
   ]
  },
  {
   "cell_type": "code",
   "execution_count": 6,
   "metadata": {},
   "outputs": [
    {
     "name": "stderr",
     "output_type": "stream",
     "text": [
      "WARNING (theano.configdefaults): install mkl with `conda install mkl-service`: No module named 'mkl'\n"
     ]
    }
   ],
   "source": [
    "#from edward.stats import bernoulli, normal, uniform\n",
    "#from edward.models import Normal\n",
    "from matplotlib import pyplot as plt\n",
    "from matplotlib.animation import ArtistAnimation\n",
    "from matplotlib.patches import Ellipse\n",
    "import numpy as np\n",
    "import pandas as pd\n",
    "import pymc3 as pm\n",
    "from pymc3.distributions import draw_values\n",
    "from pymc3.distributions.dist_math import bound\n",
    "from pymc3.math import logsumexp\n",
    "import scipy as sp\n",
    "import seaborn as sns\n",
    "import tensorflow as tf\n",
    "from theano import shared, tensor as tt\n",
    "\n",
    "sns.set()"
   ]
  },
  {
   "cell_type": "code",
   "execution_count": 7,
   "metadata": {},
   "outputs": [],
   "source": [
    "from IPython.display import HTML"
   ]
  },
  {
   "cell_type": "code",
   "execution_count": 8,
   "metadata": {},
   "outputs": [],
   "source": [
    "%matplotlib inline"
   ]
  },
  {
   "cell_type": "code",
   "execution_count": 9,
   "metadata": {},
   "outputs": [],
   "source": [
    "# configure pyplot for readability when rendered as a slideshow and projected\n",
    "plt.rc('figure', figsize=(8, 6))\n",
    "\n",
    "LABELSIZE = 14\n",
    "plt.rc('axes', labelsize=LABELSIZE)\n",
    "plt.rc('axes', titlesize=LABELSIZE)\n",
    "plt.rc('figure', titlesize=LABELSIZE)\n",
    "plt.rc('legend', fontsize=LABELSIZE)\n",
    "plt.rc('xtick', labelsize=LABELSIZE)\n",
    "plt.rc('ytick', labelsize=LABELSIZE)\n",
    "\n",
    "plt.rc('animation', writer='avconv')"
   ]
  },
  {
   "cell_type": "code",
   "execution_count": 10,
   "metadata": {},
   "outputs": [],
   "source": [
    "SEED = 69972 # from random.org, for reproducibility\n",
    "\n",
    "np.random.seed(SEED)"
   ]
  },
  {
   "cell_type": "markdown",
   "metadata": {},
   "source": [
    "# ### Modes of Bayesian Inference\n",
    "# \n",
    "# * Conjugate models with closed-form posteriors\n",
    "# * **Markov chain Monte Carlo algorithms**\n",
    "# * Approximate Bayesian computation\n",
    "# * Distributional approximations\n",
    "#     * Laplace approximations, INLA\n",
    "#     * **Variational inference**\n",
    "\n",
    "# ## Markov Chain Monte Carlo Algorithms\n",
    "# \n",
    "# * Construct a Markov chain whose stationary distribution is the posterior distribution\n",
    "# * Sample from the Markov chain for a long time\n",
    "# * Approximate posterior quantities using the empirical distribution of the samples\n",
    "\n",
    "# To produce an interesting MCMC animation, we simulate a linear regression data set and animate samples from the posteriors of the regression coefficients."
   ]
  },
  {
   "cell_type": "code",
   "execution_count": 11,
   "metadata": {},
   "outputs": [],
   "source": [
    "x_animation = np.linspace(0, 1, 100)\n",
    "y_animation = 1 - 2 * x_animation + np.random.normal(0., 0.25, size=100)"
   ]
  },
  {
   "cell_type": "code",
   "execution_count": 12,
   "metadata": {},
   "outputs": [
    {
     "data": {
      "image/png": "[encoded data removed]",
      "text/plain": [
       "<Figure size 576x432 with 1 Axes>"
      ]
     },
     "metadata": {
      "needs_background": "light"
     },
     "output_type": "display_data"
    }
   ],
   "source": [
    "fig, ax = plt.subplots(figsize=(8, 6))\n",
    "\n",
    "ax.scatter(x_animation, y_animation,\n",
    "           c='b');\n",
    "\n",
    "ax.set_title('MCMC Animation Data Set');"
   ]
  },
  {
   "cell_type": "markdown",
   "metadata": {},
   "source": [
    "### Beta-Binomial Model\n",
    "\n",
    "We observe three successes in ten trials, and want to infer the true success probability."
   ]
  },
  {
   "cell_type": "code",
   "execution_count": 13,
   "metadata": {},
   "outputs": [],
   "source": [
    "x_beta_binomial = np.array([1, 1, 1, 0, 0, 0, 0, 0, 0, 0])"
   ]
  },
  {
   "cell_type": "markdown",
   "metadata": {},
   "source": [
    "$$p \\sim U(0, 1)$$"
   ]
  },
  {
   "cell_type": "code",
   "execution_count": 14,
   "metadata": {},
   "outputs": [],
   "source": [
    "import pymc3 as pm\n",
    "\n",
    "with pm.Model() as beta_binomial_model:\n",
    "    p_beta_binomial = pm.Uniform('p', 0., 1.)"
   ]
  },
  {
   "cell_type": "markdown",
   "metadata": {},
   "source": [
    "Applied interval-transform to p and added transformed p_interval_ to model.\n",
    "\n",
    "$$\n",
    "\\begin{align*}\n",
    "P(X_i = 1\\ |\\ p)\n",
    "    & = p\n",
    "\\end{align*}\n",
    "$$"
   ]
  },
  {
   "cell_type": "code",
   "execution_count": 15,
   "metadata": {},
   "outputs": [],
   "source": [
    "with beta_binomial_model:\n",
    "    x_obs = pm.Bernoulli('y', p_beta_binomial,\n",
    "                         observed=x_beta_binomial)"
   ]
  },
  {
   "cell_type": "markdown",
   "metadata": {},
   "source": [
    "$$p\\ \\left|\\ \\sum_{i = 1}^{10} X_i \\right. = 3 \\sim \\textrm{Beta}(4, 8)$$"
   ]
  },
  {
   "cell_type": "code",
   "execution_count": 17,
   "metadata": {},
   "outputs": [
    {
     "data": {
      "image/png": "[encoded data removed]",
      "text/plain": [
       "<Figure size 576x432 with 1 Axes>"
      ]
     },
     "metadata": {
      "needs_background": "light"
     },
     "output_type": "display_data"
    }
   ],
   "source": [
    "# plot the true beta-binomial posterior distribution\n",
    "fig, ax = plt.subplots()\n",
    "\n",
    "prior = sp.stats.uniform(0, 1)\n",
    "posterior = sp.stats.beta(1 + x_beta_binomial.sum(), 1 + (1 - x_beta_binomial).sum())\n",
    "\n",
    "plot_x = np.linspace(0, 1, 100)\n",
    "ax.plot(plot_x, prior.pdf(plot_x),\n",
    "        '--', c='k', label='Prior');\n",
    "\n",
    "ax.plot(plot_x, posterior.pdf(plot_x),\n",
    "        c='b', label='Posterior');\n",
    "\n",
    "ax.set_xticks(np.linspace(0, 1, 5));\n",
    "ax.set_xlabel(r'$p$');\n",
    "\n",
    "ax.set_yticklabels([]);\n",
    "\n",
    "ax.legend(loc=1);"
   ]
  },
  {
   "cell_type": "code",
   "execution_count": 18,
   "metadata": {},
   "outputs": [],
   "source": [
    "BETA_BINOMIAL_SAMPLES = 50000\n",
    "BETA_BINOMIAL_BURN = 10000\n",
    "BETA_BINOMIAL_THIN = 20"
   ]
  },
  {
   "cell_type": "code",
   "execution_count": 19,
   "metadata": {},
   "outputs": [
    {
     "name": "stderr",
     "output_type": "stream",
     "text": [
      "Auto-assigning NUTS sampler...\n",
      "Initializing NUTS using jitter+adapt_diag...\n",
      "Multiprocess sampling (2 chains in 2 jobs)\n",
      "NUTS: [p]\n",
      "Sampling 2 chains: 100%|██████████| 101000/101000 [00:29<00:00, 3466.77draws/s]\n"
     ]
    }
   ],
   "source": [
    "with beta_binomial_model:\n",
    "    beta_binomial_trace_ = pm.sample(BETA_BINOMIAL_SAMPLES, random_seed=SEED)\n",
    "\n",
    "beta_binomial_trace = beta_binomial_trace_[BETA_BINOMIAL_BURN::BETA_BINOMIAL_THIN]"
   ]
  },
  {
   "cell_type": "code",
   "execution_count": 20,
   "metadata": {},
   "outputs": [
    {
     "name": "stderr",
     "output_type": "stream",
     "text": [
      "/home/demir/anaconda3/envs/pl2vec/lib/python3.6/site-packages/matplotlib/axes/_axes.py:6521: MatplotlibDeprecationWarning: \n",
      "The 'normed' kwarg was deprecated in Matplotlib 2.1 and will be removed in 3.1. Use 'density' instead.\n",
      "  alternative=\"'density'\", removal=\"3.1\")\n"
     ]
    }
   ],
   "source": [
    "bins = np.linspace(0, 1, 50)\n",
    "ax.hist(beta_binomial_trace['p'], bins=bins, normed=True,\n",
    "        color='g', lw=0., alpha=0.5,\n",
    "        label='MCMC approximate posterior');\n",
    "\n",
    "ax.legend();"
   ]
  },
  {
   "cell_type": "code",
   "execution_count": 21,
   "metadata": {},
   "outputs": [
    {
     "data": {
      "image/png": "[encoded data removed]",
      "text/plain": [
       "<Figure size 576x432 with 1 Axes>"
      ]
     },
     "execution_count": 21,
     "metadata": {},
     "output_type": "execute_result"
    }
   ],
   "source": [
    "fig"
   ]
  },
  {
   "cell_type": "markdown",
   "metadata": {},
   "source": [
    "## Variational Inference\n",
    "\n",
    "* Choose a class of approximating distributions\n",
    "* Find the best approximation to the true posterior"
   ]
  },
  {
   "cell_type": "markdown",
   "metadata": {},
   "source": [
    "Variational inference minimizes the [Kullback-Leibler divergence](https://en.wikipedia.org/wiki/Kullback%E2%80%93Leibler_divergence)\n",
    "\n",
    "$$\\mathbb{KL}(\\color{purple}{q(\\theta)} \\parallel \\color{red}{p(\\theta\\ |\\ \\mathcal{D})}) = \\mathbb{E}_q\\left(\\log\\left(\\frac{\\color{purple}{q(\\theta)}}{\\color{red}{p(\\theta\\ |\\ \\mathcal{D})}}\\right)\\right)$$\n",
    "\n",
    "from <font color='purple'>approximate distributons</font>, but we can't calculate the true <font color='red'>posterior distribution</font>."
   ]
  },
  {
   "cell_type": "markdown",
   "metadata": {},
   "source": [
    "Minimizing the Kullback-Leibler divergence\n",
    "\n",
    "$$\n",
    "\\mathbb{KL}(\\color{purple}{q(\\theta)} \\parallel \\color{red}{p(\\theta\\ |\\ \\mathcal{D})}) = -(\\underbrace{\\mathbb{E}_q(\\log \\color{blue}{p(\\mathcal{D}, \\theta))} - \\mathbb{E}_q(\\color{purple}{\\log q(\\theta)})}_{\\color{orange}{\\textrm{ELBO}}}) + \\log \\color{green}{p(\\mathcal{D})}\n",
    "$$\n",
    "\n",
    "is equivalent to maximizing the <font color='orange'>Evidence Lower BOund (ELBO)</font>, which only requires calculating the <font color='blue'>joint distribution</font>."
   ]
  },
  {
   "cell_type": "markdown",
   "metadata": {},
   "source": [
    "### Variational Inference Example"
   ]
  },
  {
   "cell_type": "markdown",
   "metadata": {},
   "source": [
    "In this example, we minimize the Kullback-Leibler divergence between a full-rank covariance Gaussian distribution and a diagonal covariance Gaussian distribution."
   ]
  },
  {
   "cell_type": "code",
   "execution_count": 22,
   "metadata": {},
   "outputs": [],
   "source": [
    "SIGMA_X = 1.\n",
    "SIGMA_Y = np.sqrt(0.5)\n",
    "CORR_COEF = 0.75\n",
    "\n",
    "true_cov = np.array([[SIGMA_X**2, CORR_COEF * SIGMA_X * SIGMA_Y],\n",
    "                     [CORR_COEF * SIGMA_X * SIGMA_Y, SIGMA_Y**2]])\n",
    "true_precision = np.linalg.inv(true_cov)\n",
    "\n",
    "approx_sigma_x, approx_sigma_y = 1. / np.sqrt(np.diag(true_precision))"
   ]
  },
  {
   "cell_type": "code",
   "execution_count": 25,
   "metadata": {},
   "outputs": [
    {
     "data": {
      "image/png": "[encoded data removed]",
      "text/plain": [
       "<Figure size 576x576 with 1 Axes>"
      ]
     },
     "metadata": {
      "needs_background": "light"
     },
     "output_type": "display_data"
    }
   ],
   "source": [
    "fig, ax  = plt.subplots(figsize=(8, 8))\n",
    "ax.set_aspect('equal');\n",
    "\n",
    "\n",
    "var, U = np.linalg.eig(true_cov)\n",
    "angle = 180. / np.pi * np.arccos(np.abs(U[0, 0]))\n",
    "\n",
    "e = Ellipse(np.zeros(2), 2 * np.sqrt(5.991 * var[0]), 2 * np.sqrt(5.991 * var[1]), angle=angle)\n",
    "e.set_alpha(0.5)\n",
    "e.set_facecolor('b')\n",
    "e.set_zorder(10);\n",
    "ax.add_artist(e);\n",
    "\n",
    "ax.set_xlim(-3, 3);\n",
    "ax.set_xticklabels([]);\n",
    "\n",
    "ax.set_ylim(-3, 3);\n",
    "ax.set_yticklabels([]);\n",
    "\n",
    "rect = plt.Rectangle((0, 0), 1, 1, fc='b', alpha=0.5)\n",
    "ax.legend([rect],\n",
    "          ['True distribution'],\n",
    "          bbox_to_anchor=(1.5, 1.));"
   ]
  },
  {
   "cell_type": "markdown",
   "metadata": {},
   "source": [
    "Approximate the true distribution using a diagonal covariance Gaussian from the class\n",
    "\n",
    "$$\\mathcal{Q} = \\left\\{\\left.N\\left(\\begin{pmatrix} \\mu_x \\\\ \\mu_y \\end{pmatrix},\n",
    "                              \\begin{pmatrix} \\sigma_x^2 & 0 \\\\ 0 & \\sigma_y^2\\end{pmatrix}\\ \\right|\\ \n",
    "                       \\mu_x, \\mu_y \\in \\mathbb{R}^2, \\sigma_x, \\sigma_y > 0\\right)\\right\\}$$"
   ]
  },
  {
   "cell_type": "code",
   "execution_count": 27,
   "metadata": {},
   "outputs": [],
   "source": [
    "blue='b'\n",
    "red='r'\n",
    "green='g'"
   ]
  },
  {
   "cell_type": "code",
   "execution_count": 28,
   "metadata": {},
   "outputs": [],
   "source": [
    "vi_e = Ellipse(np.zeros(2), 2 * np.sqrt(5.991) * approx_sigma_x, 2 * np.sqrt(5.991) * approx_sigma_y)\n",
    "vi_e.set_alpha(0.4)\n",
    "vi_e.set_facecolor(red)\n",
    "vi_e.set_zorder(11);\n",
    "ax.add_artist(vi_e);\n",
    "\n",
    "vi_rect = plt.Rectangle((0, 0), 1, 1, fc=red, alpha=0.75)\n",
    "\n",
    "ax.legend([rect, vi_rect],\n",
    "          ['Posterior distribution',\n",
    "           'Variational approximation'],\n",
    "          bbox_to_anchor=(1.55, 1.));"
   ]
  },
  {
   "cell_type": "code",
   "execution_count": 29,
   "metadata": {},
   "outputs": [
    {
     "data": {
      "image/png": "[encoded data removed]",
      "text/plain": [
       "<Figure size 576x576 with 1 Axes>"
      ]
     },
     "execution_count": 29,
     "metadata": {},
     "output_type": "execute_result"
    }
   ],
   "source": [
    "fig"
   ]
  },
  {
   "cell_type": "markdown",
   "metadata": {},
   "source": [
    "### Pros\n",
    "\n",
    "* A principled method to trade complexity for bias\n",
    "* Optimization theory is applicable\n",
    "    * Assesment of convergence\n",
    "    * Scalability\n",
    "    \n",
    "### Cons\n",
    "\n",
    "* Biased estimate of the true posterior\n",
    "    * Better for prediction than interpretation\n",
    "* Model-specific algorithms\n",
    "\n",
    "\n",
    "### Mean field variational inference\n",
    "\n",
    "Assume the variational distribution factors independently as $q(\\theta_1, \\ldots, \\theta_n) = q(\\theta_1) \\cdots q(\\theta_n)$\n",
    "\n",
    "The variational approximation can be found by **coordinate ascent**\n",
    "\n",
    "$$\n",
    "\\begin{align*}\n",
    "q(\\theta_i)\n",
    "    & \\propto \\exp\\left(\\mathbb{E}_{q_{-i}}(\\log(\\mathcal{D}, \\boldsymbol{\\theta}))\\right) \\\\\n",
    "q_{-i}(\\boldsymbol{\\theta})\n",
    "    & = q(\\theta_1) \\cdots q(\\theta_{i - 1})\\ q(\\theta_{i + 1}) \\cdots q(\\theta_n)\n",
    "\\end{align*}\n",
    "$$\n",
    "\n",
    "#### Coordinate Ascent Cons\n",
    "\n",
    "* Calculations are tedious, even when possible\n",
    "* Convergence is slow when the number of parameters is large\n",
    "\n",
    "\n",
    "\n",
    "## Automating Variational Inference in Python\n",
    "\n",
    "* Maximize <font color='orange'>ELBO</font> using gradient ascent instead of coordinate ascent\n",
    "* Tensor libraries calculate <font color='orange'>ELBO</font> gradients automatically\n",
    "\n",
    "\n",
    "<table>\n",
    "    <tr>\n",
    "        <th><center>Python Package</center></th>\n",
    "        <th><center>Tensor Library</center></th>\n",
    "        <th><center>Variational Inference Algorithm(s)</center></th>\n",
    "    <tr>\n",
    "    <tr>\n",
    "        <td><center><a href='http://edwardlib.org/'>Edward</a></center></td>\n",
    "        <td><center><a href='https://www.tensorflow.org/'>TensorFlow</a></center></td>\n",
    "        <td><center><a href='https://arxiv.org/abs/1401.0118'>Black Box Variational Inference</a> (BBVI)</center></td>\n",
    "    </tr>\n",
    "    <tr>\n",
    "        <td><center><a href='http://pymc-devs.github.io/pymc3/'>PyMC3</a></center></td>\n",
    "        <td><center><a href='http://deeplearning.net/software/theano/'>Theano</a></center></td>\n",
    "        <td><center><a href='http://arxiv.org/abs/1603.00788'>Automatic Differentiation Variational Inference</a> (ADVI)</center></td>\n",
    "    </tr>\n",
    "</table>"
   ]
  },
  {
   "cell_type": "markdown",
   "metadata": {},
   "source": [
    "### Common themes\n",
    "\n",
    "* Monte Carlo estimate of the <font color='orange'>ELBO</font> gradient\n",
    "* Minibatch estimates of the <font color='green'>joint distribution</font>\n",
    "\n",
    "BBVI and ADVI arise from different ways of calculating the <font color='orange'>ELBO</font> gradient\n",
    "\n",
    "\n",
    "#### Mathematical details\n",
    "\n",
    "* Monte Carlo estimate of the ELBO gradient\n",
    "    * For samples $\\tilde{\\theta}_1, \\ldots, \\tilde{\\theta}_K \\sim q(\\theta)$\n",
    "\n",
    "    $$\n",
    "    \\begin{align*}\n",
    "    \\nabla \\textrm{ELBO}\n",
    "        & = \\mathbb{E}_q \\left(\\nabla\\left(\\log p(\\mathcal{D}, \\theta) - \\log q(\\theta)\\right)\\right) \\\\\n",
    "        & \\approx \\frac{1}{K} \\sum_{i = 1}^K \\nabla\\left(\\log p(\\mathcal{D}, \\tilde{\\theta}_i) - \\log q(\\tilde{\\theta}_i)\\right)\n",
    "    \\end{align*}\n",
    "    $$\n",
    "\n",
    "* Minibatch estimate of joint distribution\n",
    "    * Sample data points $\\mathbf{x}_1, \\ldots, \\mathbf{x}_B$ from $\\mathcal{D}$\n",
    "\n",
    "    $$\\log p(\\mathcal{D}, \\theta) \\approx \\frac{N}{B} \\sum_{i = 1}^B \\log(\\mathbf{x}_i, \\theta)$$\n",
    "\n",
    "BBVI and ADVI arise from different ways of calculating $\\nabla \\left(\\log p(\\mathcal{D}, \\cdot) - \\log q(\\cdot)\\right)$"
   ]
  },
  {
   "cell_type": "code",
   "execution_count": null,
   "metadata": {},
   "outputs": [],
   "source": []
  }
 ],
 "metadata": {
  "kernelspec": {
   "display_name": "Python (pl2vec)",
   "language": "python",
   "name": "pl2vec"
  },
  "language_info": {
   "codemirror_mode": {
    "name": "ipython",
    "version": 3
   },
   "file_extension": ".py",
   "mimetype": "text/x-python",
   "name": "python",
   "nbconvert_exporter": "python",
   "pygments_lexer": "ipython3",
   "version": "3.6.8"
  }
 },
 "nbformat": 4,
 "nbformat_minor": 2
}
