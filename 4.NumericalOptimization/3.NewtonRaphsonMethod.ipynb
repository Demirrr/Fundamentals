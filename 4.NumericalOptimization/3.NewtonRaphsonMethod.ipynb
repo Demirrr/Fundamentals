{
 "cells": [
  {
   "cell_type": "markdown",
   "id": "d4bcb117",
   "metadata": {},
   "source": [
    "# Newton-Raphson Method\n",
    "\n",
    "The Newton's method is a root-finding algorithm.\n",
    "It iterativly produces better approximations to the roots of a real-valued function.\n",
    "\n",
    "\n",
    "\n",
    "+ Let $f$ be a single-variable function of a real variable x.\n",
    "+ Let $f'$ denotes the derivative of $f$.\n",
    "\n",
    "\n",
    "## Formula: $$ x_{t+1} = x_t - \\frac{f(x_t)}{f'(x_t)}$$\n",
    "\n",
    "\n",
    "$x_{t+1}$ is a better approximataion of the root of $f$ than $x_t$.\n",
    "\n",
    "\n",
    "<p><a href=\"https://commons.wikimedia.org/wiki/File:Newton_iteration.svg#/media/File:Newton_iteration.svg\"><img src=\"https://upload.wikimedia.org/wikipedia/commons/thumb/8/8c/Newton_iteration.svg/1200px-Newton_iteration.svg.png\" alt=\"Illustration of Newton's method\"></a><br>By &lt;span style=\"display:inline-block;padding:0 3px;background-color:#BDC\"&gt;&lt;a href=\"//commons.wikimedia.org/wiki/File:Newton_iteration.png\" title=\"File:Newton iteration.png\"&gt;Original: &lt;/a&gt;&lt;/span&gt; &lt;span style=\"display:inline-block;padding:3px 0;\"&gt;&lt;a href=\"//commons.wikimedia.org/wiki/User:Olegalexandrov\" class=\"mw-redirect\" title=\"User:Olegalexandrov\"&gt;Olegalexandrov&lt;/a&gt;&lt;/span&gt; &lt;span style=\"display:inline-block;padding:0 3px;background-color:#CCF\"&gt;Vector: &lt;/span&gt; &lt;span style=\"display:inline-block;\"&gt;&lt;a href=\"//commons.wikimedia.org/wiki/User:Pbroks13\" title=\"User:Pbroks13\"&gt;Pbroks13&lt;/a&gt;&lt;/span&gt; - Own work based on: &lt;a href=\"//commons.wikimedia.org/wiki/File:Newton_iteration.png\" title=\"File:Newton iteration.png\"&gt;Newton iteration.png&lt;/a&gt;, Public Domain, <a href=\"https://commons.wikimedia.org/w/index.php?curid=4150612\">Link</a></p>"
   ]
  },
  {
   "cell_type": "code",
   "execution_count": 1,
   "id": "7252f1a4",
   "metadata": {},
   "outputs": [],
   "source": [
    "# Defining Function\n",
    "def f(x):\n",
    "    return x**2\n",
    "# Defining derivative of function\n",
    "def g(x):\n",
    "    return 2*x"
   ]
  },
  {
   "cell_type": "code",
   "execution_count": 2,
   "id": "a1a692e0",
   "metadata": {},
   "outputs": [
    {
     "name": "stdout",
     "output_type": "stream",
     "text": [
      "Iteration-1, x1 = -1.500000 and f(x1) = 2.250000\n",
      "Iteration-2, x1 = -0.750000 and f(x1) = 0.562500\n",
      "Iteration-3, x1 = -0.375000 and f(x1) = 0.140625\n",
      "Iteration-4, x1 = -0.187500 and f(x1) = 0.035156\n",
      "Iteration-5, x1 = -0.093750 and f(x1) = 0.008789\n",
      "Iteration-6, x1 = -0.046875 and f(x1) = 0.002197\n",
      "Iteration-7, x1 = -0.023438 and f(x1) = 0.000549\n",
      "Iteration-8, x1 = -0.011719 and f(x1) = 0.000137\n",
      "Iteration-9, x1 = -0.005859 and f(x1) = 0.000034\n",
      "\n",
      "Required root is: -0.00585938\n"
     ]
    }
   ],
   "source": [
    "def newtonRaphson(x0,e,N):\n",
    "    step,flag,condition = 1, 1, True\n",
    "    \n",
    "    while condition:\n",
    "        if g(x0) == 0.0:\n",
    "            print('Divide by zero error!')\n",
    "            break\n",
    "        \n",
    "        x1 = x0 - f(x0)/g(x0)\n",
    "        print('Iteration-%d, x1 = %0.6f and f(x1) = %0.6f' % (step, x1, f(x1)))\n",
    "        x0 = x1\n",
    "        step = step + 1\n",
    "        \n",
    "        if step > N:\n",
    "            flag = 0\n",
    "            break\n",
    "        \n",
    "        condition = abs(f(x1)) > e\n",
    "    \n",
    "    if flag==1:\n",
    "        print('\\nRequired root is: %0.8f' % x1)\n",
    "    else:\n",
    "        print('\\nNot Convergent.')\n",
    "newtonRaphson(x0 = -3,e = 0.0001,N = 10)"
   ]
  },
  {
   "cell_type": "code",
   "execution_count": 3,
   "id": "bdf1338f",
   "metadata": {},
   "outputs": [
    {
     "name": "stdout",
     "output_type": "stream",
     "text": [
      "Iteration-1, x1 = 1.500000 and f(x1) = 2.250000\n",
      "Iteration-2, x1 = 0.750000 and f(x1) = 0.562500\n",
      "Iteration-3, x1 = 0.375000 and f(x1) = 0.140625\n",
      "Iteration-4, x1 = 0.187500 and f(x1) = 0.035156\n",
      "Iteration-5, x1 = 0.093750 and f(x1) = 0.008789\n",
      "Iteration-6, x1 = 0.046875 and f(x1) = 0.002197\n",
      "Iteration-7, x1 = 0.023438 and f(x1) = 0.000549\n",
      "Iteration-8, x1 = 0.011719 and f(x1) = 0.000137\n",
      "Iteration-9, x1 = 0.005859 and f(x1) = 0.000034\n",
      "\n",
      "Required root is: 0.00585938\n"
     ]
    }
   ],
   "source": [
    "newtonRaphson(x0 = 3,e = 0.0001,N = 10)"
   ]
  }
 ],
 "metadata": {
  "kernelspec": {
   "display_name": "Python (temp)",
   "language": "python",
   "name": "temp"
  },
  "language_info": {
   "codemirror_mode": {
    "name": "ipython",
    "version": 3
   },
   "file_extension": ".py",
   "mimetype": "text/x-python",
   "name": "python",
   "nbconvert_exporter": "python",
   "pygments_lexer": "ipython3",
   "version": "3.9.12"
  }
 },
 "nbformat": 4,
 "nbformat_minor": 5
}
