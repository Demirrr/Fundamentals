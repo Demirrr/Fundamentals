{
 "cells": [
  {
   "cell_type": "markdown",
   "id": "af7e69ef",
   "metadata": {},
   "source": [
    "# Optimization\n",
    "\n",
    "\n",
    "Optimization is the minimization or maximization of a\n",
    "function subject to constraints on its variables\n",
    "\n",
    "\n",
    "+ $x$ is the vector of variables, unknowns;\n",
    "+ $f$ is the objective function, a scalar function of $x$\n",
    "+ $c_i$ are constraint functions, scalar functions of $x$ that define certain equations and iequalities that are $x$ must satisfiy\n",
    "\n",
    "__from section one of Numerical optimziation__\n",
    "\n",
    "$$ \\text{minimize} \\;2x_1 + x_2 \\\\ \\text{subject to} \\\\ -x_1 + x_2 \\leq 1 \\\\ x_1 + x_2 \\leq 3 \\\\ -x_2 \\leq 0$$\n",
    "\n",
    "We have linear optimization problem with linear constraints. This can be equivalently expressed in matrix notation\n",
    "\n",
    "\n",
    "$$ c^T x =   \\begin{bmatrix}2 & 1  \\end{bmatrix} \\begin{bmatrix} x_1 \\\\ x_2 \\end{bmatrix} $$\n",
    "\n",
    "$$ Ax \\leq b = \\begin{bmatrix}-1 & -1 \\\\ 1 & 1 \\\\ 0 & -1\\end{bmatrix} \\begin{bmatrix} x_1 \\\\ x_2 \\end{bmatrix} \\leq \\begin{bmatrix} 1 \\\\ -3 \\\\ 0 \\end{bmatrix} $$"
   ]
  },
  {
   "cell_type": "markdown",
   "id": "d4cb9d8b",
   "metadata": {},
   "source": [
    "# Transportation Problem\n",
    "\n",
    "1. A chemical company has 2 factories $F_1$ and $F_2$  12 retail outlets $R_1, \\dots, R_{12}$. \n",
    "\n",
    "2. Each factory $F_i$ can produce $a_i$ ton of a certain chemical product each weak.\n",
    "\n",
    "3. Each retail outlet $R_j$ has a known weakly demand of $b_j$ tons of the product.\n",
    "\n",
    "4. The cost of shipping one ton of the product from $F_i$ to $R_j$ is $c_{ij}$.\n",
    "\n",
    "\n",
    "5. The problem is to __determine how much of the product to ship from each factory to each outlet so as to satisfy all the requirements and minimize cost__. x denotes $2 \\times 12$ parameters where $x_{ij}$ stands for the number of tons of the product shipped from $F_i$ to $R_j$.\n"
   ]
  },
  {
   "cell_type": "markdown",
   "id": "7c501ed2",
   "metadata": {},
   "source": [
    "\n",
    "\n",
    "$$ \\textrm{min} \\sum_{ij} c_{ij} x_{ij} \\\\ \\textrm{subject to}\\\\\n",
    "\\sum_{j=1} ^{12} x_{ij} \\leq a_i, \\; i=1,2 \\\\\n",
    "\\sum_{i=q} ^2 x_{ij} \\geq b_j, \\; j=1,\\dots,12$$\n",
    "\n",
    "\n",
    "This type of problem is known as a linear programming problem, since the objective function and the constraints are all linear functions."
   ]
  },
  {
   "cell_type": "markdown",
   "id": "a0c32d5c",
   "metadata": {},
   "source": [
    "\n",
    "\n",
    "$$ \\textrm{min} \\sum_{ij} c_{ij} x_{ij} \\\\ \\textrm{subject to}\\\\\n",
    "\\sum_{j=1} ^{12} x_{ij} \\leq a_i, \\; i=1,2 \\\\\n",
    "\\sum_{i=q} ^2 x_{ij} \\geq b_j, \\; j=1,\\dots,12$$\n",
    "\n",
    "\n",
    "This type of problem is known as a linear programming problem, since the objective function and the constraints are all linear functions."
   ]
  },
  {
   "cell_type": "markdown",
   "id": "61cdfc2d",
   "metadata": {},
   "source": [
    "$$ \\textrm{min} \\sum_{ij} x_{ij} \\\\ \\textrm{subject to}\\\\\n",
    "x_{1,1}+\\dots+x_{1,12} \\leq  a1\\\\\n",
    "x_{2,1}+\\dots+x_{2,12} \\leq a2 \\\\\n",
    "-x_i\\leq 0 $$\n"
   ]
  },
  {
   "cell_type": "code",
   "execution_count": 1,
   "id": "3bcb06c1",
   "metadata": {},
   "outputs": [],
   "source": [
    "from cvxopt import matrix, solvers\n",
    "import numpy as np"
   ]
  },
  {
   "cell_type": "code",
   "execution_count": 2,
   "id": "8d7e45a3",
   "metadata": {},
   "outputs": [],
   "source": [
    "# Goal is to minimize the linear cost, i.e,. c^T x\n",
    "c = matrix([1., 1.])"
   ]
  },
  {
   "cell_type": "code",
   "execution_count": 3,
   "id": "8acc7c5d",
   "metadata": {},
   "outputs": [],
   "source": [
    "# How much ton F1 and F2 can produce per week\n",
    "a1, a2=12., 12."
   ]
  },
  {
   "cell_type": "code",
   "execution_count": 4,
   "id": "1619b01d",
   "metadata": {},
   "outputs": [],
   "source": [
    "\n",
    "G = matrix([[1. , 1. , 0.  , -1. ], \n",
    "            [1. , 1. , -1. , 0. ]])\n",
    "h = matrix( [a1 , a2 , 0.  , 0. ])"
   ]
  },
  {
   "cell_type": "code",
   "execution_count": 5,
   "id": "ac0c167d",
   "metadata": {},
   "outputs": [
    {
     "name": "stdout",
     "output_type": "stream",
     "text": [
      "     pcost       dcost       gap    pres   dres   k/t\n",
      " 0:  9.6000e+00 -2.4000e+01  2e+01  0e+00  1e+00  1e+00\n",
      " 1:  7.7600e+00 -2.6922e-01  5e+00  3e-16  3e-01  4e-01\n",
      " 2:  1.1260e-01 -1.3355e+00  1e+00  5e-16  7e-02  3e-01\n",
      " 3:  1.3526e-03 -1.3416e-02  1e-02  5e-16  7e-04  3e-03\n",
      " 4:  1.3527e-05 -1.3416e-04  1e-04  6e-17  7e-06  3e-05\n",
      " 5:  1.3527e-07 -1.3416e-06  1e-06  2e-16  7e-08  3e-07\n",
      " 6:  1.3527e-09 -1.3416e-08  1e-08  3e-16  7e-10  3e-09\n",
      "Optimal solution found.\n"
     ]
    },
    {
     "data": {
      "text/plain": [
       "(6.76344417568226e-10, 6.763444175681996e-10)"
      ]
     },
     "execution_count": 5,
     "metadata": {},
     "output_type": "execute_result"
    }
   ],
   "source": [
    "sol = solvers.lp(c, G, h)\n",
    "x1,x2=sol['x']\n",
    "x1,x2"
   ]
  },
  {
   "cell_type": "code",
   "execution_count": 6,
   "id": "75a2b339",
   "metadata": {},
   "outputs": [
    {
     "data": {
      "text/plain": [
       "array([[-3.55271368e-15],\n",
       "       [-3.55271368e-15],\n",
       "       [-1.26145043e-23],\n",
       "       [ 9.20238431e-24]])"
      ]
     },
     "execution_count": 6,
     "metadata": {},
     "output_type": "execute_result"
    }
   ],
   "source": [
    "x=np.array(sol['x'])\n",
    "c=np.array(c)\n",
    "G=np.array(G)\n",
    "h=np.array(h)\n",
    "\n",
    "# all zeros\n",
    "(G@x)+np.array(sol['s'])-h"
   ]
  }
 ],
 "metadata": {
  "kernelspec": {
   "display_name": "pDL",
   "language": "python",
   "name": "pdl"
  },
  "language_info": {
   "codemirror_mode": {
    "name": "ipython",
    "version": 3
   },
   "file_extension": ".py",
   "mimetype": "text/x-python",
   "name": "python",
   "nbconvert_exporter": "python",
   "pygments_lexer": "ipython3",
   "version": "3.8.10"
  }
 },
 "nbformat": 4,
 "nbformat_minor": 5
}
