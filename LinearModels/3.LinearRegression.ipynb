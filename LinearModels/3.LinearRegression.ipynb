{
 "cells": [
  {
   "cell_type": "markdown",
   "id": "f57ff768",
   "metadata": {},
   "source": [
    "# Linear Regression\n",
    "\n",
    "Ordinary Least Squares\n",
    "\n",
    "## Setup\n",
    "\n",
    "$$\\mathcal D = \\{(x_i,y_i) \\}_{i=1} ^n s.t$$\n",
    "\n",
    "$$  \\mathcal D \\sim_{i.i.d} \\mathbb P(\\mathcal X , \\mathcal Y), \n",
    "\\mathcal X \\subseteq \\mathbb R^d \\text{ and } \\mathcal Y \\in \\mathbb R$$\n",
    "\n",
    "## Assumption\n",
    "\n",
    "$$ \\forall (x_i,y_i) \\in \\mathcal D : \\exists \\vec w \\in \\mathbb R^d s.t.$$\n",
    "\n",
    "$$ y_i = \\vec w x_i + \\epsilon_i \\text{ where } \\epsilon \\sim \\mathcal N (\\vec 0, \\sigma^2)$$\n",
    "\n",
    "\n",
    "Equivalently,\n",
    "\n",
    "\n",
    "$$ y_i \\sim \\mathcal N(\\vec w ^T x_i, \\sigma^2)$$\n",
    "\n",
    "\n",
    "\n",
    "We assume that the residual residual error $\\epsilon$ has a Gaussian distribution\n",
    "\n",
    "We would like to model probability of output takes a specific value via Gaussian distirbution\n",
    "$$ \\mathbb P (y_i | x_i; \\vec w) = \\frac{1}{\\sqrt{2 \\pi \\sigma^2}} exp\\Big(- \\frac{(w^T x_i - y_i)^2}{2\\sigma^2} \\Big)$$"
   ]
  },
  {
   "cell_type": "markdown",
   "id": "ee9f8f22",
   "metadata": {},
   "source": [
    "# Estimate $(w,b)$ via MLE\n",
    "\n",
    "**Setup** Maximize the conditional likelihood of $\\mathcal D$.\n",
    "\n",
    "\n",
    "### 1. $ argmax_{w} \\mathbb P (\\mathcal D ;w)$\n",
    "__Find $w$ that maximize the likelihood of seeing the data__\n",
    "\n",
    "\n",
    "### 2. $ argmax_{w} \\prod_{i=1} ^n \\mathbb P (x_i,y_i ; w)$\n",
    "__Data $\\mathcal D $ is sampled i.i.d.__\n",
    "\n",
    "### 3. $ argmax_{w} \\prod_{i=1} ^n \\mathbb P (y_i | x_i; w) \\mathbb P (x_i;w) $\n",
    "__Apply the conditional probability__\n",
    "\n",
    "### 4. $ argmax_{w} \\prod_{i=1} ^n \\mathbb P (y_i | x_i;w)$\n",
    "__Probability of an input $\\mathbb P (x_i;w)$ is constant__\n",
    "\n",
    "\n",
    "### 5. $ argmax_{w} \\prod_{i=1} ^n \\mathbb P (y_i | x_i; w)$\n",
    "\n",
    "\n",
    "### 6. $ argmax_{w} log\\Big(\\prod_{i=1} ^n \\mathbb P (y_i | x_i;w) \\Big)$\n",
    "__Instead of computing product of probabilities, compute sum of log probabilities__\n",
    "\n",
    "### 7. $ argmax_{w} \\sum_{i=1} ^n log(\\mathbb P (y_i | x_i;w))  $\n",
    "__Distribute the log__\n",
    "\n",
    "\n",
    "\n",
    "### 8. $argmax_w \\sum_i ^n \\log \\Big(\\frac{1}{\\sqrt{2 \\pi \\sigma^2}} exp\\Big(- \\frac{(w^T x_i - y_i)^2}{2\\sigma^2} \\Big)\\Big)$\n",
    "\n",
    "### 9. $argmax_w \\sum_i ^n \\log \\Big(\\frac{1}{\\sqrt{2 \\pi \\sigma^2}}\\Big) + \\log \\Big(exp\\Big(- \\frac{(w^T x_i - y_i)^2}{2\\sigma^2} \\Big)$\n",
    "\n",
    "### 10. $argmax_w \\sum_i ^n \\log \\Big(exp\\Big(- \\frac{(w^T x_i - y_i)^2}{2\\sigma^2} \\Big)$\n",
    "\n",
    "The first term is a constant. Stating the obvious, if adding a constant to a function does not its maximum.\n",
    "\n",
    "\n",
    "### 11. $argmax_w \\sum_i ^n - \\frac{(w^T x_i - y_i)^2}{2\\sigma^2}$\n",
    "\n",
    "Log(exp(x))=x\n",
    "\n",
    "### 12. $argmin_w \\frac{1}{n}\\sum_i ^n (w^T x_i - y_i)^2$\n",
    "\n",
    "+ The denominator is a constant.\n",
    "+ Instead of maximize, minimize it.\n",
    "+ Add $\\frac{1}{n}$ to make the loss interpretable\n",
    "__This is our objective. Squared loss__"
   ]
  },
  {
   "cell_type": "markdown",
   "id": "63dacd4a",
   "metadata": {},
   "source": [
    "# Finding Closed Form Solution\n",
    "\n",
    "### 1. $ (Xw -Y)^2 = (Xw - Y)^T ((Xw - Y))$\n",
    "Our objective in matrix notation\n",
    "\n",
    "### 2. $\\mathcal L(w)= w^TX^TXw - 2Y^TXw + Y^T Y$\n",
    "Completing the suqare\n"
   ]
  },
  {
   "cell_type": "markdown",
   "id": "c0bdf253",
   "metadata": {},
   "source": [
    "\n",
    "### 3. $\\frac{\\partial \\mathcal L(w)}{\\mathcal w} = 2 X^TXw- 2X^T Y$\n",
    "Take the deriative of the loss w.r.t. parameters \n",
    "\n",
    "\n",
    "### 4. $2 X^TXw- 2X^T Y=0$\n",
    "Set the derivative to zero\n",
    "\n",
    "\n",
    "### 5. $2X^TXw= 2X^T Y$\n",
    "\n",
    "\n",
    "### 6. $X^TXw= X^T Y$\n",
    "\n",
    "### 7. $w= (X^TX)^{-1} X^T Y $\n",
    "\n",
    "__The closed form solution for linear regression__"
   ]
  },
  {
   "cell_type": "code",
   "execution_count": 1,
   "id": "a040cfdf",
   "metadata": {},
   "outputs": [
    {
     "data": {
      "text/plain": [
       "[<matplotlib.lines.Line2D at 0x7f86ec1ea910>]"
      ]
     },
     "execution_count": 1,
     "metadata": {},
     "output_type": "execute_result"
    },
    {
     "data": {
      "image/png": "[encoded data removed]",
      "text/plain": [
       "<Figure size 640x480 with 1 Axes>"
      ]
     },
     "metadata": {},
     "output_type": "display_data"
    }
   ],
   "source": [
    "%matplotlib inline\n",
    "import numpy as np\n",
    "import matplotlib.pyplot as plt\n",
    "import seaborn as sns; sns.set()\n",
    "\n",
    "rng = np.random.RandomState(1)\n",
    "X = 10 * rng.rand(50)\n",
    "Y = 2 * X - 5 + rng.randn(50)\n",
    "plt.scatter(X, Y)\n",
    "plt.plot(X, 2 * X - 5,c='r')"
   ]
  },
  {
   "cell_type": "code",
   "execution_count": 2,
   "id": "6c50df5d",
   "metadata": {},
   "outputs": [
    {
     "name": "stdout",
     "output_type": "stream",
     "text": [
      "135.17436165867454\n",
      "1.5358339733883677\n"
     ]
    },
    {
     "data": {
      "text/plain": [
       "<matplotlib.legend.Legend at 0x7f871db5f940>"
      ]
     },
     "execution_count": 2,
     "metadata": {},
     "output_type": "execute_result"
    },
    {
     "data": {
      "image/png": "[encoded data removed]",
      "text/plain": [
       "<Figure size 640x480 with 1 Axes>"
      ]
     },
     "metadata": {},
     "output_type": "display_data"
    }
   ],
   "source": [
    "w=np.random.randn(1)\n",
    "b=np.random.randn(1)\n",
    "\n",
    "for i in range(200):\n",
    "    Y_hat=X*w+b\n",
    "    \n",
    "    sqrt_loss=((Y_hat-Y)**2).mean()\n",
    "    # Derivative of loss w.r.t. predictions\n",
    "    dloss=2*(Y_hat-Y)\n",
    "    # Derivative of loss w.r.t. parameters \n",
    "    dw=(dloss*X)\n",
    "    db=dloss\n",
    "    \n",
    "    # GRADIENT CHECKING\n",
    "    # Gradients must be negative, i.e., decreasing w would increase the loss\n",
    "    assert np.alltrue(dw[Y_hat<Y])\n",
    "    # Gradients must be positive, i.e., decreasing w would increase the loss\n",
    "    assert np.alltrue(dw[Y_hat>Y])\n",
    "    \n",
    "    w -= .01*dw.mean()\n",
    "    b -= .01*db.mean()\n",
    "    if i%100==0:\n",
    "        print(sqrt_loss)\n",
    "        \n",
    "plt.scatter(X, Y)\n",
    "plt.plot(X, 2*X-5,c='r',label='True')\n",
    "plt.plot(X, X*w+b,c='g',label='Prediction')\n",
    "plt.legend()"
   ]
  },
  {
   "cell_type": "code",
   "execution_count": 3,
   "id": "5bd10884",
   "metadata": {},
   "outputs": [
    {
     "data": {
      "text/plain": [
       "(array([1.89690198]), array([-4.1381892]))"
      ]
     },
     "execution_count": 3,
     "metadata": {},
     "output_type": "execute_result"
    }
   ],
   "source": [
    "w,b"
   ]
  },
  {
   "cell_type": "markdown",
   "id": "c3edacf1",
   "metadata": {},
   "source": [
    "## Estimate $(w,b)$ via MAP\n",
    "\n",
    "\n",
    "**Setup** Consider $w$ as a random variable: $ \\mathbb P(w | \\mathcal D) = \\mathbb P(w | X,y) \\propto \\mathbb P(y | X,w) \\mathbb P(w)$\n",
    "\n",
    "\n",
    "### 1 $ w = argmax_{w} \\mathbb P ( w | \\mathcal D) $\n",
    "\n",
    "### 2. $ argmax_{w} \\frac{\\mathbb P (\\mathcal D | w) \\mathbb P(w)}{\\mathbb P(\\mathcal D)}$\n",
    "Apply Bayes Rule\n",
    "\n",
    "### 3. $ argmax_{w} \\mathbb P (\\mathcal D | w) \\mathbb P(w)$\n",
    "$\\mathbb P(\\mathcal D)$ is a constant\n",
    "\n",
    "\n",
    "### 4. $ argmax_{w} \\Big[\\prod_{i=1} ^n P (x_i,y_i | w) \\Big] \\mathbb P(w)$\n",
    "$\\mathcal D = {(x_i,y_i)}_{i=1} ^n$\n",
    "\n",
    "### 5. $ argmax_{w} \\Big[\\prod_{i=1} ^n \\mathbb P (y_i | x_i, w) \\mathbb P (x_i| w) \\Big] \\mathbb P(w)$\n",
    "\n",
    "Apply Chain Rule\n",
    "\n",
    "### 6. $ argmax_{w} \\Big[\\prod_{i=1} ^n \\mathbb P (y_i | x_i, w) \\mathbb P (x_i) \\Big] \\mathbb P(w)$\n",
    "\n",
    "$\\mathbb P (x_i)$ does not depend on $w$.\n",
    "\n",
    "\n",
    "### 7. $ argmax_{w} \\Big[\\prod_{i=1} ^n \\mathbb P (y_i | x_i, w) \\Big] \\mathbb P(w)$\n",
    "\n",
    "$\\mathbb P (x_i)$ is constant\n",
    "\n",
    "\n",
    "### 8. $ argmax_{w} log\\Big(\\Big[\\prod_{i=1} ^n \\mathbb P (y_i | x_i, w) \\Big] \\mathbb P(w) \\Big)$\n",
    "Take the log\n",
    "\n",
    "### 9. $ argmax_{w} \\Big[\\sum_{i=1} ^n log(\\mathbb P (y_i | x_i, w)) \\Big] + log(\\mathbb P(w)) $\n",
    "Distribute the log. The first part is exactly same as in MLE. Let's focus on the second term\n",
    "\n"
   ]
  },
  {
   "cell_type": "markdown",
   "id": "24031830",
   "metadata": {},
   "source": [
    "\n",
    "\n",
    "$$ \\mathbb P (\\vec w) = \\frac{1}{\\sqrt{2 \\pi \\tau^2}} exp\\Big(- \\frac{\\vec w^T \\vec w}{2\\tau^2} \\Big)$$\n",
    "\n",
    "$\\mathbb P (\\vec w)$ has Gaussian distribution around $\\vec 0$ mean."
   ]
  },
  {
   "cell_type": "markdown",
   "id": "578d90fc",
   "metadata": {},
   "source": [
    "### 10. $argmin_w \\sum_i ^n (w^T x_i - y_i)^2 + \\lambda w^T w$\n",
    "where $\\lambda=\\frac{1}{2\\tau}$\n",
    "\n",
    "__Our objective squared loss with l2 normalization__"
   ]
  },
  {
   "cell_type": "code",
   "execution_count": 4,
   "id": "15b9608f",
   "metadata": {},
   "outputs": [
    {
     "name": "stdout",
     "output_type": "stream",
     "text": [
      "[326.22717668]\n",
      "[8.97693511]\n"
     ]
    },
    {
     "data": {
      "text/plain": [
       "<matplotlib.legend.Legend at 0x7f86ec0c4d30>"
      ]
     },
     "execution_count": 4,
     "metadata": {},
     "output_type": "execute_result"
    },
    {
     "data": {
      "image/png": "[encoded data removed]",
      "text/plain": [
       "<Figure size 640x480 with 1 Axes>"
      ]
     },
     "metadata": {},
     "output_type": "display_data"
    }
   ],
   "source": [
    "w=np.random.randn(1)\n",
    "b=np.random.randn(1)\n",
    "\n",
    "for i in range(200):\n",
    "    Y_hat=X*w+b\n",
    "    \n",
    "    sqrt_loss=((Y_hat-Y)**2).mean() + w*w + b*b\n",
    "    # Derivative of loss w.r.t. predictions\n",
    "    dloss=2*(Y_hat-Y) + w + b\n",
    "    # Derivative of loss w.r.t. parameters \n",
    "    dw=(dloss*X)\n",
    "    db=dloss\n",
    "    \n",
    "    # GRADIENT CHECKING\n",
    "    # Gradients must be negative, i.e., decreasing w would increase the loss\n",
    "    assert np.alltrue(dw[Y_hat<Y])\n",
    "    # Gradients must be positive, i.e., decreasing w would increase the loss\n",
    "    assert np.alltrue(dw[Y_hat>Y])\n",
    "    \n",
    "    w -= .01*dw.mean()\n",
    "    b -= .01*db.mean()\n",
    "    if i%100==0:\n",
    "        print(sqrt_loss)\n",
    "        \n",
    "plt.scatter(X, Y)\n",
    "plt.plot(X, 2*X-5,c='r',label='True')\n",
    "plt.plot(X, X*w+b,c='g',label='Prediction')\n",
    "plt.legend()"
   ]
  },
  {
   "cell_type": "code",
   "execution_count": 5,
   "id": "70e94eec",
   "metadata": {},
   "outputs": [
    {
     "data": {
      "text/plain": [
       "array([1.79165995])"
      ]
     },
     "execution_count": 5,
     "metadata": {},
     "output_type": "execute_result"
    }
   ],
   "source": [
    "w"
   ]
  },
  {
   "cell_type": "code",
   "execution_count": 6,
   "id": "2c45e27c",
   "metadata": {},
   "outputs": [
    {
     "data": {
      "text/plain": [
       "array([-2.89651123])"
      ]
     },
     "execution_count": 6,
     "metadata": {},
     "output_type": "execute_result"
    }
   ],
   "source": [
    "b"
   ]
  },
  {
   "cell_type": "markdown",
   "id": "b05f944c",
   "metadata": {},
   "source": [
    "## What is we have non linear true function?\n",
    "\n",
    "Go to section 6 :)"
   ]
  }
 ],
 "metadata": {
  "kernelspec": {
   "display_name": "pDL",
   "language": "python",
   "name": "pdl"
  },
  "language_info": {
   "codemirror_mode": {
    "name": "ipython",
    "version": 3
   },
   "file_extension": ".py",
   "mimetype": "text/x-python",
   "name": "python",
   "nbconvert_exporter": "python",
   "pygments_lexer": "ipython3",
   "version": "3.8.10"
  }
 },
 "nbformat": 4,
 "nbformat_minor": 5
}
