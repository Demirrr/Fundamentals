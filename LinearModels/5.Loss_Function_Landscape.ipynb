{
 "cells": [
  {
   "cell_type": "markdown",
   "id": "3cebea83",
   "metadata": {},
   "source": [
    "# Regression"
   ]
  },
  {
   "cell_type": "markdown",
   "id": "d08a3734",
   "metadata": {},
   "source": [
    "## Ordinary Least Squares, Linear Regression\n",
    "\n",
    "$$ \\min_w \\frac{1}{n} \\sum_{i=1} ^n (\\vec{w^T \\vec x_i y_i})^2$$\n",
    "\n",
    "Closed form solution $\\vec w = (X X^T)^{-1} X y^T$. __Recall Linear Regression with Maximum Likelihood Estimation__."
   ]
  },
  {
   "cell_type": "markdown",
   "id": "1996e3e9",
   "metadata": {},
   "source": [
    "## Ridge Regression\n",
    "\n",
    "$$ \\min_w \\frac{1}{n} \\sum_{i=1} ^n (\\vec{w^T \\vec x_i y_i})^2 + \\lambda ||w||_2 ^2$$\n",
    "\n",
    "Closed form solution $\\vec w = (X X^T + \\lambda I)^{-1} X y^T$\n",
    "__Recall Linear Regression with Maximum a Posteriori Estimation__"
   ]
  },
  {
   "cell_type": "markdown",
   "id": "ab779c13",
   "metadata": {},
   "source": [
    "## Lasso Regression\n",
    "$$ \\min_w \\frac{1}{n} \\sum_{i=1} ^n (\\vec{w^T \\vec x_i y_i})^2 + \\lambda ||w||_1$$\n",
    "\n",
    "No Closed form solution. Linear Regression with L1 regularization"
   ]
  },
  {
   "cell_type": "markdown",
   "id": "c47730c1",
   "metadata": {},
   "source": [
    "## Elastic Net \n",
    "$$ \\min_w \\frac{1}{n} \\sum_{i=1} ^n (\\vec{w^T \\vec x_i y_i})^2 + \\alpha ||w||_1 + (1-\\alpha) ||w||_2 ^2 ,$$\n",
    "where $\\alpha \\in [0,1)$\n",
    "No Closed form solution "
   ]
  },
  {
   "cell_type": "markdown",
   "id": "40eb2648",
   "metadata": {},
   "source": [
    "# Classification"
   ]
  },
  {
   "cell_type": "markdown",
   "id": "5d18ddbc",
   "metadata": {},
   "source": [
    "## Logistic Regression\n",
    "\n",
    "\n",
    "$$ min_{w,b} \\frac{1}{n} \\sum_i ^n \\log(1 + exp(-y_i(w^T x_i +b))$$\n",
    "\n",
    "$y_i={\\pm 1}$"
   ]
  },
  {
   "cell_type": "markdown",
   "id": "d602efae",
   "metadata": {},
   "source": [
    "## Linear Support Vector Machine\n",
    "\n",
    "\n",
    "$$ min_{w,b} C \\sum_i ^n max\\Big[1 - y_i (\\vec w x_i + b),0 \\Big] + || w ||_2 ^2$$\n",
    "\n",
    "$y_i={\\pm 1}$"
   ]
  }
 ],
 "metadata": {
  "kernelspec": {
   "display_name": "pDL",
   "language": "python",
   "name": "pdl"
  },
  "language_info": {
   "codemirror_mode": {
    "name": "ipython",
    "version": 3
   },
   "file_extension": ".py",
   "mimetype": "text/x-python",
   "name": "python",
   "nbconvert_exporter": "python",
   "pygments_lexer": "ipython3",
   "version": "3.8.10"
  }
 },
 "nbformat": 4,
 "nbformat_minor": 5
}
