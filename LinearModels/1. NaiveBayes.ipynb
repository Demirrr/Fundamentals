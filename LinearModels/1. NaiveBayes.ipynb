{
 "cells": [
  {
   "cell_type": "markdown",
   "id": "f3f1150b",
   "metadata": {},
   "source": [
    "# Naive Bayes"
   ]
  },
  {
   "cell_type": "markdown",
   "id": "4d000d9d",
   "metadata": {},
   "source": [
    "## Setup\n",
    "\n",
    "$\\mathcal D = \\{(x_i,y_i) \\}_{i=1} ^n s.t. \\mathcal D \\sim \\mathbb P(\\mathcal X , \\mathcal Y)$\n",
    "\n",
    "From $\\mathcal D$, we can estimate\n",
    "\n",
    "$$ \\hat{\\mathbb P}(\\mathcal X = x) = \\frac{\\sum_i I(x_i=x)}{n}$$\n",
    "\n",
    "\n",
    "$$ \\hat{\\mathbb P}(\\mathcal X = x , \\mathcal Y = y) = \\frac{\\sum_i I(x_i=x \\wedge y_i= y)}{n}$$\n",
    "\n",
    "\n",
    "$$ \\hat{\\mathbb P}(\\mathcal Y = x | \\mathcal X = x) = \\frac{\\hat{\\mathbb P}(\\mathcal X = x , \\mathcal Y = y)}{\\hat{\\mathbb P}(\\mathcal X = x)}=\\frac{\\sum_i I(x_i=x \\wedge y_i= y)}{\\sum_i I(x_i=x)}$$\n"
   ]
  },
  {
   "cell_type": "markdown",
   "id": "b8e530ff",
   "metadata": {},
   "source": [
    "## Model - Bayes Rule\n",
    "\n",
    "\n",
    "$$\\mathbb P(\\mathcal Y = x | \\mathcal X = x) = \\frac{\\mathbb P(\\mathcal X = x | \\mathcal Y = y)  \\mathbb P(\\mathcal Y = y)  }{\\mathbb P(\\mathcal X = x)}$$\n",
    "\n",
    "### Naive Bayes Assumption\n",
    "\n",
    "Feature $x_a$ taking value $j$ are independent given the label\n",
    "\n",
    "$$\\mathbb P(x | y) = \\prod_{a=1} ^d P(x_a |y)$$\n",
    "\n",
    "### 1. $$ h(x) = argmax_y \\mathbb P (y|x)$$  \n",
    "\n",
    "Bayes Classifier. Given x, assign most probable label.\n",
    "\n",
    "### 2. $$ h(x) = argmax_y \\frac{ \\mathbb P (x|y) \\mathbb P (y)}{ \\mathbb P(x)}$$ \n",
    "Apply Bayes Rule.\n",
    "\n",
    "### 3. $$ h(x) = argmax_y \\mathbb P (x|y) \\mathbb P (y)$$\n",
    "$\\mathbb P(x)$ does not depend on $y$.\n",
    "\n",
    "### 4. $$ h(x) = argmax_y \\prod_{a=1} ^d \\mathbb P (x_a |y) \\mathbb P (y)$$\n",
    "\n",
    "Apply naive bayes assumption\n",
    "\n",
    "### 5. $$ h(x) = argmax_y \\sum_{a=1} ^d log(P(x_a |y)) + log(P(y))$$"
   ]
  },
  {
   "cell_type": "markdown",
   "id": "d1418e2a",
   "metadata": {},
   "source": [
    "# Parameter Estimation in Action \n",
    "\n",
    "The above problem is actually a naive Bayes problem with Bernoulli distributed features\n",
    "\n",
    "what is the lael of  x=[H, H, T, H ] is Red or Blue"
   ]
  },
  {
   "cell_type": "code",
   "execution_count": 1,
   "id": "899b3435",
   "metadata": {},
   "outputs": [],
   "source": [
    "import pandas as pd\n",
    "import numpy as np"
   ]
  },
  {
   "cell_type": "code",
   "execution_count": 2,
   "id": "11e23ef7",
   "metadata": {},
   "outputs": [
    {
     "data": {
      "text/html": [
       "<div>\n",
       "<style scoped>\n",
       "    .dataframe tbody tr th:only-of-type {\n",
       "        vertical-align: middle;\n",
       "    }\n",
       "\n",
       "    .dataframe tbody tr th {\n",
       "        vertical-align: top;\n",
       "    }\n",
       "\n",
       "    .dataframe thead th {\n",
       "        text-align: right;\n",
       "    }\n",
       "</style>\n",
       "<table border=\"1\" class=\"dataframe\">\n",
       "  <thead>\n",
       "    <tr style=\"text-align: right;\">\n",
       "      <th></th>\n",
       "      <th>penny</th>\n",
       "      <th>nickel</th>\n",
       "      <th>dime</th>\n",
       "      <th>quarter</th>\n",
       "      <th>hat</th>\n",
       "    </tr>\n",
       "    <tr>\n",
       "      <th>game</th>\n",
       "      <th></th>\n",
       "      <th></th>\n",
       "      <th></th>\n",
       "      <th></th>\n",
       "      <th></th>\n",
       "    </tr>\n",
       "  </thead>\n",
       "  <tbody>\n",
       "    <tr>\n",
       "      <th>1</th>\n",
       "      <td>T</td>\n",
       "      <td>H</td>\n",
       "      <td>T</td>\n",
       "      <td>T</td>\n",
       "      <td>Red</td>\n",
       "    </tr>\n",
       "    <tr>\n",
       "      <th>2</th>\n",
       "      <td>T</td>\n",
       "      <td>T</td>\n",
       "      <td>H</td>\n",
       "      <td>T</td>\n",
       "      <td>Blue</td>\n",
       "    </tr>\n",
       "    <tr>\n",
       "      <th>3</th>\n",
       "      <td>T</td>\n",
       "      <td>H</td>\n",
       "      <td>T</td>\n",
       "      <td>H</td>\n",
       "      <td>Blue</td>\n",
       "    </tr>\n",
       "    <tr>\n",
       "      <th>4</th>\n",
       "      <td>H</td>\n",
       "      <td>H</td>\n",
       "      <td>H</td>\n",
       "      <td>T</td>\n",
       "      <td>Red</td>\n",
       "    </tr>\n",
       "    <tr>\n",
       "      <th>5</th>\n",
       "      <td>H</td>\n",
       "      <td>H</td>\n",
       "      <td>T</td>\n",
       "      <td>T</td>\n",
       "      <td>Red</td>\n",
       "    </tr>\n",
       "    <tr>\n",
       "      <th>6</th>\n",
       "      <td>T</td>\n",
       "      <td>T</td>\n",
       "      <td>H</td>\n",
       "      <td>H</td>\n",
       "      <td>Blue</td>\n",
       "    </tr>\n",
       "    <tr>\n",
       "      <th>7</th>\n",
       "      <td>H</td>\n",
       "      <td>H</td>\n",
       "      <td>T</td>\n",
       "      <td>T</td>\n",
       "      <td>Red</td>\n",
       "    </tr>\n",
       "    <tr>\n",
       "      <th>8</th>\n",
       "      <td>T</td>\n",
       "      <td>T</td>\n",
       "      <td>H</td>\n",
       "      <td>T</td>\n",
       "      <td>Blue</td>\n",
       "    </tr>\n",
       "    <tr>\n",
       "      <th>9</th>\n",
       "      <td>T</td>\n",
       "      <td>H</td>\n",
       "      <td>H</td>\n",
       "      <td>T</td>\n",
       "      <td>Blue</td>\n",
       "    </tr>\n",
       "    <tr>\n",
       "      <th>10</th>\n",
       "      <td>H</td>\n",
       "      <td>H</td>\n",
       "      <td>H</td>\n",
       "      <td>T</td>\n",
       "      <td>Red</td>\n",
       "    </tr>\n",
       "    <tr>\n",
       "      <th>11</th>\n",
       "      <td>T</td>\n",
       "      <td>T</td>\n",
       "      <td>H</td>\n",
       "      <td>T</td>\n",
       "      <td>Blue</td>\n",
       "    </tr>\n",
       "    <tr>\n",
       "      <th>12</th>\n",
       "      <td>T</td>\n",
       "      <td>H</td>\n",
       "      <td>H</td>\n",
       "      <td>T</td>\n",
       "      <td>Red</td>\n",
       "    </tr>\n",
       "    <tr>\n",
       "      <th>13</th>\n",
       "      <td>H</td>\n",
       "      <td>H</td>\n",
       "      <td>T</td>\n",
       "      <td>T</td>\n",
       "      <td>Red</td>\n",
       "    </tr>\n",
       "    <tr>\n",
       "      <th>14</th>\n",
       "      <td>T</td>\n",
       "      <td>T</td>\n",
       "      <td>H</td>\n",
       "      <td>H</td>\n",
       "      <td>Blue</td>\n",
       "    </tr>\n",
       "    <tr>\n",
       "      <th>15</th>\n",
       "      <td>T</td>\n",
       "      <td>H</td>\n",
       "      <td>H</td>\n",
       "      <td>T</td>\n",
       "      <td>Blue</td>\n",
       "    </tr>\n",
       "    <tr>\n",
       "      <th>16</th>\n",
       "      <td>T</td>\n",
       "      <td>T</td>\n",
       "      <td>H</td>\n",
       "      <td>H</td>\n",
       "      <td>Blue</td>\n",
       "    </tr>\n",
       "    <tr>\n",
       "      <th>17</th>\n",
       "      <td>H</td>\n",
       "      <td>T</td>\n",
       "      <td>H</td>\n",
       "      <td>H</td>\n",
       "      <td>Red</td>\n",
       "    </tr>\n",
       "    <tr>\n",
       "      <th>18</th>\n",
       "      <td>H</td>\n",
       "      <td>T</td>\n",
       "      <td>H</td>\n",
       "      <td>T</td>\n",
       "      <td>Blue</td>\n",
       "    </tr>\n",
       "  </tbody>\n",
       "</table>\n",
       "</div>"
      ],
      "text/plain": [
       "     penny nickel dime quarter   hat\n",
       "game                                \n",
       "1        T      H    T       T   Red\n",
       "2        T      T    H       T  Blue\n",
       "3        T      H    T       H  Blue\n",
       "4        H      H    H       T   Red\n",
       "5        H      H    T       T   Red\n",
       "6        T      T    H       H  Blue\n",
       "7        H      H    T       T   Red\n",
       "8        T      T    H       T  Blue\n",
       "9        T      H    H       T  Blue\n",
       "10       H      H    H       T   Red\n",
       "11       T      T    H       T  Blue\n",
       "12       T      H    H       T   Red\n",
       "13       H      H    T       T   Red\n",
       "14       T      T    H       H  Blue\n",
       "15       T      H    H       T  Blue\n",
       "16       T      T    H       H  Blue\n",
       "17       H      T    H       H   Red\n",
       "18       H      T    H       T  Blue"
      ]
     },
     "execution_count": 2,
     "metadata": {},
     "output_type": "execute_result"
    }
   ],
   "source": [
    "df = pd.read_table(\"coin_game.txt\",sep=' ',index_col=0)\n",
    "df"
   ]
  },
  {
   "cell_type": "markdown",
   "id": "3f8c0821",
   "metadata": {},
   "source": [
    "\\begin{align*}\n",
    "    P(y = R|\\vec{x} = [H,H,T,H]) &= \\frac{P(\\vec{x} = [H,H,T,H] | y = R) P(y=R)}{P(\\vec{x} = [H,H,T,H])} \\\\\n",
    "     &= \\frac{P(\\vec{x} = [H,H,T,H] | y = R) P(y=R)}{P(\\vec{x} = [H,H,T,H])} \\\\\n",
    "    &= \\frac{\\prod_{\\alpha = 1}^{k}[\\hat{\\theta}_{jR}]_{\\alpha}P(y = R)}{\\prod_{\\alpha = 1}^{k}[\\hat{\\theta}_{jR}]_{\\alpha}P(y=R) + \\prod_{\\alpha = 1}^{k}[\\hat{\\theta}_{jB}]_{\\alpha}P(y=B)} \\\\\n",
    "    &= \\frac{\\prod_{\\alpha = 1}^{k}[\\hat{\\theta}_{jR}]_{\\alpha}}{\\prod_{\\alpha = 1}^{k}[\\hat{\\theta}_{jR}]_{\\alpha} + \\prod_{\\alpha = 1}^{k}[\\hat{\\theta}_{jB}]_{\\alpha}}, \\text{where $j \\in [H,H,T,H]$}\n",
    "\\end{align*}\n",
    "\n",
    "## Estimate the probability of a feature $\\alpha$ has value $j$ given the label is $c$, $[\\hat{\\theta}_{jc}]_{\\alpha}$:\n",
    "\n",
    "\\begin{align*}\n",
    "[\\hat{\\theta}_{jc}]_{\\alpha} &= \\frac{\\sum_{i = 1}^{18}I(y_i = c)I(x_{ia} = j)}{\\sum_{i=1}^{18}I(y_i = c)} \\\\\n",
    "[\\hat{\\theta}_{HR}]_{penny} &= \\frac{3}{4} = 0.75 \\\\\n",
    "[\\hat{\\theta}_{HR}]_{nickel} &= \\frac{7}{8} = 0.875 \\\\\n",
    "[\\hat{\\theta}_{TR}]_{dime} &= \\frac{1}{2} = 0.5 \\\\\n",
    "[\\hat{\\theta}_{HR}]_{quarter} &= \\frac{1}{8} = 0.125 \\\\\n",
    "[\\hat{\\theta}_{HB}]_{penny} &= \\frac{1}{10} = 0.1 \\\\\n",
    "[\\hat{\\theta}_{HB}]_{nickel} &= \\frac{3}{10} = 0.3 \\\\\n",
    "[\\hat{\\theta}_{TB}]_{dime} &= \\frac{1}{10} = 0.1 \\\\\n",
    "[\\hat{\\theta}_{HB}]_{quarter} &= \\frac{4}{10} = 0.4\n",
    "\\end{align*}\n",
    "\n",
    "\n",
    "Finally, taking the products of the probabilities we get:\n",
    "$$\\frac{4375}{4503} = 0.972$$"
   ]
  },
  {
   "cell_type": "code",
   "execution_count": 3,
   "id": "d6a92a2e",
   "metadata": {},
   "outputs": [
    {
     "name": "stdout",
     "output_type": "stream",
     "text": [
      "P(penny=H | hat=Red) 0.75\n",
      "P(nickel=H | hat=Red) 0.875\n",
      "P(dime=T | hat=Red) 0.5\n",
      "P(quarter=H | hat=Red) 0.125\n"
     ]
    }
   ],
   "source": [
    "# x=[H,H,T,H]\n",
    "penny_h_given_red=sum(df[df.penny=='H'].hat=='Red')/sum(df.hat=='Red')\n",
    "print('P(penny=H | hat=Red)',penny_h_given_red)\n",
    "\n",
    "nickel_h_given_red=sum(df[df.nickel=='H'].hat=='Red')/sum(df.hat=='Red')\n",
    "print('P(nickel=H | hat=Red)',nickel_h_given_red)\n",
    "\n",
    "dime_t_given_red=sum(df[df.dime=='T'].hat=='Red')/sum(df.hat=='Red')\n",
    "print('P(dime=T | hat=Red)',dime_t_given_red)\n",
    "\n",
    "quarter_h_given_red=sum(df[df.quarter=='H'].hat=='Red')/sum(df.hat=='Red')\n",
    "print('P(quarter=H | hat=Red)',quarter_h_given_red)"
   ]
  },
  {
   "cell_type": "code",
   "execution_count": 4,
   "id": "4299f526",
   "metadata": {},
   "outputs": [
    {
     "data": {
      "text/plain": [
       "0.041015625"
      ]
     },
     "execution_count": 4,
     "metadata": {},
     "output_type": "execute_result"
    }
   ],
   "source": [
    "nominator=penny_h_given_red * nickel_h_given_red * dime_t_given_red * quarter_h_given_red\n",
    "nominator"
   ]
  },
  {
   "cell_type": "code",
   "execution_count": 5,
   "id": "03c0a20c",
   "metadata": {},
   "outputs": [
    {
     "name": "stdout",
     "output_type": "stream",
     "text": [
      "P(penny=H | hat=Blue) 0.1\n",
      "P(nickel=H | Hat=Blue) 0.3\n",
      "P(dime=T | Hat=Blue) 0.1\n",
      "P(quarter=H | hat=Blue) 0.4\n"
     ]
    }
   ],
   "source": [
    "penny_h_given_blue=sum(df[df.penny=='H'].hat=='Blue')/sum(df.hat=='Blue')\n",
    "print('P(penny=H | hat=Blue)',penny_h_given_blue)\n",
    "\n",
    "nickel_h_given_blue=sum(df[df.nickel=='H'].hat=='Blue')/sum(df.hat=='Blue')\n",
    "print('P(nickel=H | Hat=Blue)',nickel_h_given_blue)\n",
    "\n",
    "dime_t_given_blue=sum(df[df.dime=='T'].hat=='Blue')/sum(df.hat=='Blue')\n",
    "print('P(dime=T | Hat=Blue)',dime_t_given_blue)\n",
    "\n",
    "quarter_h_given_blue=sum(df[df.quarter=='H'].hat=='Blue')/sum(df.hat=='Blue')\n",
    "print('P(quarter=H | hat=Blue)',quarter_h_given_blue)"
   ]
  },
  {
   "cell_type": "code",
   "execution_count": 6,
   "id": "c5b70c28",
   "metadata": {},
   "outputs": [
    {
     "data": {
      "text/plain": [
       "0.9715745058849656"
      ]
     },
     "execution_count": 6,
     "metadata": {},
     "output_type": "execute_result"
    }
   ],
   "source": [
    "denominator= nominator +(penny_h_given_blue*nickel_h_given_blue*dime_t_given_blue*quarter_h_given_blue)\n",
    "prob_red_given_h_h_t_h=nominator/denominator\n",
    "prob_red_given_h_h_t_h"
   ]
  },
  {
   "cell_type": "code",
   "execution_count": 7,
   "id": "f3d9673f",
   "metadata": {},
   "outputs": [
    {
     "data": {
      "text/plain": [
       "{'Red': 0.9715745058849656, 'Blue': 0.028425494115034425}"
      ]
     },
     "execution_count": 7,
     "metadata": {},
     "output_type": "execute_result"
    }
   ],
   "source": [
    "class NaiveBayes:\n",
    "    def __init__(self):\n",
    "        self.conditional_probs=dict()\n",
    "        self.class_probs=dict()\n",
    "        \n",
    "    def fit(self,df):\n",
    "        # Number of points and dimensions\n",
    "        self.features=list(df.columns[:-1])\n",
    "        self.label_name=df.columns[-1]\n",
    "        self.unique_labels=df[self.label_name].unique()\n",
    "        \n",
    "        for c in self.unique_labels:\n",
    "            self.class_probs[c]=(df[self.label_name]==c).mean()\n",
    "            \n",
    "        # Dimensions\n",
    "        for x_a in self.features:\n",
    "            # Unique Values in a dimension\n",
    "            for j in df[x_a].unique():\n",
    "                # Prob of unique value given label\n",
    "                for c in self.unique_labels:\n",
    "                    # P(x_a = j | y) = P(x_a = j, y) / P(y)\n",
    "                    prob=sum(df[df[x_a]==j][self.label_name]==c)/sum(df[self.label_name]==c)\n",
    "                    \n",
    "                    self.conditional_probs[x_a+'_'+j+'_'+self.label_name+'_'+c]=prob\n",
    "\n",
    "\n",
    "    def predict_proba(self,x):\n",
    "        results={}\n",
    "        probs={}\n",
    "        for c in self.unique_labels:\n",
    "            probs_given_c=1\n",
    "            for x_a, j in zip(self.features,x):            \n",
    "                probs_given_c*=self.conditional_probs[x_a+'_'+j+'_'+self.label_name+'_'+c]\n",
    "            probs[c]=probs_given_c\n",
    "        \n",
    "        for c in self.unique_labels:\n",
    "            nominator=probs[c]\n",
    "            denominator=0\n",
    "            for cc in self.unique_labels:\n",
    "                if c == cc:\n",
    "                    continue\n",
    "                denominator+=probs[cc]\n",
    "            results[c]=nominator/(nominator+denominator)\n",
    "        return results\n",
    "        \n",
    "h=NaiveBayes()\n",
    "h.fit(df)\n",
    "h.predict_proba(['H','H','T','H'])"
   ]
  },
  {
   "cell_type": "markdown",
   "id": "e02a99c8",
   "metadata": {},
   "source": [
    "# Naive Bayes with Continues Features\n",
    "\n",
    "Naive Bayes with Gaussian distributed features. Gaussian Naive Bayes. The assumption is that data from each label is drawn from a simple Gaussian distribution\n",
    "\n",
    "Naive Bayes assumes that features are independent from the label.\n",
    "\n",
    "$$ \\mathbb p \\left(y|x\\right) = \\frac{\\prod^{d}_{\\alpha=1} \\mathbb p \\left(\\left[x\\right]_{\\alpha}|y\\right) \\mathbb p \\left(y\\right)}{ \\mathbb p \\left(x\\right)}$$\n",
    "with:\n",
    "$$p\\left(\\left[x\\right]_{\\alpha}|y\\right) = \\mathcal{N}\\left(\\left[\\mu_y\\right]_{\\alpha}, \\left[\\sigma\\right]_{\\alpha}\\right)$$\n",
    "\n",
    "That is, there is a separate mean value for each feature $\\left[x\\right]_{\\alpha}$ and each class $y \\in \\{0, 1\\}$. However, variances are shared across classes, so that there is only one variance $\\left[\\sigma\\right]_{\\alpha}$ per feature."
   ]
  },
  {
   "cell_type": "code",
   "execution_count": 8,
   "id": "d36d4693",
   "metadata": {},
   "outputs": [],
   "source": [
    "%matplotlib inline\n",
    "import numpy as np\n",
    "import matplotlib.pyplot as plt\n",
    "import seaborn as sns; sns.set()"
   ]
  },
  {
   "cell_type": "code",
   "execution_count": 9,
   "id": "124b0e5e",
   "metadata": {},
   "outputs": [],
   "source": [
    "from sklearn.datasets import make_blobs\n",
    "X, y = make_blobs(100, 2, centers=2, random_state=2, cluster_std=1.5)"
   ]
  },
  {
   "cell_type": "code",
   "execution_count": 10,
   "id": "6fbc4864",
   "metadata": {},
   "outputs": [
    {
     "data": {
      "text/plain": [
       "[(-8.0, 8.0), (-15.0, 5.0)]"
      ]
     },
     "execution_count": 10,
     "metadata": {},
     "output_type": "execute_result"
    },
    {
     "data": {
      "image/png": "[encoded data removed]",
      "text/plain": [
       "<Figure size 640x480 with 1 Axes>"
      ]
     },
     "metadata": {},
     "output_type": "display_data"
    }
   ],
   "source": [
    "class GaussianNaiveBayes:\n",
    "    def __init__(self):\n",
    "        self.mu=dict()\n",
    "        self.std=dict()\n",
    "        \n",
    "    def fit(self,X,y):\n",
    "        unique_labels=np.unique(y)\n",
    "        for c in np.unique(y):\n",
    "            self.mu[c]=X[y==c].mean(axis=0)\n",
    "            self.std[c]=X[y==c].std(axis=0)\n",
    "    def predict_prob(self,X,label):\n",
    "        return np.exp(-0.5 * (X - self.mu[label]) ** 2 / self.std[label] ** 2).prod(1)\n",
    "        \n",
    "\n",
    "h=GaussianNaiveBayes()\n",
    "h.fit(X,y)\n",
    "\n",
    "# Visualize\n",
    "\n",
    "\n",
    "fig, ax = plt.subplots()\n",
    "ax.scatter(X[:, 0], X[:, 1], c=y, s=50, cmap='RdBu')\n",
    "ax.set_title('Gaussian Naive Bayes Model', size=14)\n",
    "\n",
    "# Create GRID\n",
    "xlim,ylim = (-8, 8), (-15, 5)\n",
    "xg = np.linspace(xlim[0], xlim[1], 60)\n",
    "yg = np.linspace(ylim[0], ylim[1], 40)\n",
    "xx, yy = np.meshgrid(xg, yg)\n",
    "Xgrid = np.vstack([xx.ravel(), yy.ravel()]).T\n",
    "\n",
    "\n",
    "for label, color in enumerate(['red', 'blue']):\n",
    "    mask = (y == label)\n",
    "    # Predict P(y=label|X) \n",
    "    P=h.predict_prob(Xgrid,label)\n",
    "    Pm = np.ma.masked_array(P, P < 0.03)\n",
    "    ax.pcolorfast(xg, yg, Pm.reshape(xx.shape), alpha=0.5,cmap=color.title() + 's')\n",
    "    ax.contour(xx, yy, P.reshape(xx.shape),levels=[0.01, 0.1, 0.5, 0.9],colors=color, alpha=0.2)\n",
    "ax.set(xlim=xlim, ylim=ylim)"
   ]
  }
 ],
 "metadata": {
  "kernelspec": {
   "display_name": "pDL",
   "language": "python",
   "name": "pdl"
  },
  "language_info": {
   "codemirror_mode": {
    "name": "ipython",
    "version": 3
   },
   "file_extension": ".py",
   "mimetype": "text/x-python",
   "name": "python",
   "nbconvert_exporter": "python",
   "pygments_lexer": "ipython3",
   "version": "3.8.10"
  }
 },
 "nbformat": 4,
 "nbformat_minor": 5
}
