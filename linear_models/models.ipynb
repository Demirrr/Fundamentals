{
 "cells": [
  {
   "cell_type": "markdown",
   "metadata": {},
   "source": [
    "# Motivation of Tutorial\n",
    "\n",
    "In this tutorial, an overview of Linear Models is given along with two approach of finding model parameters,namely, Pseudo Inverse of a Matrix and Gradient Descent. By doing so, I aim to give something back to the phenomen of free online education."
   ]
  },
  {
   "cell_type": "markdown",
   "metadata": {},
   "source": [
    "# Linear Models"
   ]
  },
  {
   "cell_type": "markdown",
   "metadata": {},
   "source": [
    "In this tutorial, we give an overview of Linear Models.\n",
    "+ **Linear Models**\n",
    "    + Linear Regression\n",
    "    + Linear Classification\n",
    "    + Logistic Regression\n",
    "    + Ridge Regression\n",
    "\n",
    "+ **Learning parameters of models**\n",
    "    + Pseudo Inverse\n",
    "    + Gradient Descent\n",
    "    + Maximum Likelihood Estimation\n",
    "    "
   ]
  },
  {
   "cell_type": "markdown",
   "metadata": {},
   "source": [
    "# Linear Models"
   ]
  },
  {
   "cell_type": "markdown",
   "metadata": {},
   "source": [
    "Liner model refers to a model that is a linear combination of the input variables."
   ]
  },
  {
   "cell_type": "markdown",
   "metadata": {},
   "source": [
    "$$ s = \\sum_{i=0} ^M w_i x_i = w^T \\textbf{X}$$\n",
    "\n",
    "where $M$ denotes the number of coefficents/parameters of the model. Note that $\\epsilon$ noise is simply ignored."
   ]
  },
  {
   "cell_type": "markdown",
   "metadata": {},
   "source": [
    "In matrix form, the expression for the linear models is\n",
    "$y= w^T \\mathbf{X}$\n",
    "\n",
    "$$\\begin{bmatrix}\n",
    "    y_{1} \\\\\n",
    "    \\dots \\\\\n",
    "    y_{n}\n",
    "\\end{bmatrix}= \\begin{bmatrix}\n",
    "    w_1 & \\dots & w_d\n",
    "\\end{bmatrix}\n",
    "\\begin{bmatrix}\n",
    "    1 & \\dots & x_{1d}\\\\\n",
    "    \\vdots & \\dots &\\vdots \\\\\n",
    "    1& \\dots & x_{nd}\n",
    "\\end{bmatrix} $$\n",
    "\n",
    "+ 1s are simply for intercept in $X$ matrix"
   ]
  },
  {
   "cell_type": "markdown",
   "metadata": {},
   "source": [
    "## What does actually mean to say Linear model ?!\n",
    "\n",
    "+ Linear regression implements the following function as mentioned above\n",
    "$$ \\sum_{i=0} ^N w_i x_i $$\n",
    "it is imporant to realize that this function is linear in the $\\textbf{w}$ and $x_i$. As we go from the definition of a function to learning, being linear refers to be learn in the weights/parameters to be learned."
   ]
  },
  {
   "cell_type": "markdown",
   "metadata": {},
   "source": [
    "# How well does $ h(x)= w^T x $ approximate $ f(x) $ on a point ?\n",
    "\n",
    "\n",
    "+ The quality of the approximation is evaluated via **Squared Error** ,i.e. the difference between real value and our estimation on a point.\n",
    "\n",
    "$$ (h(x)-f(x))^2 $$\n",
    "\n",
    "# How well does $ h(x)= \\vec{w}^T x $ approximate $ f(x) $ on all seen data points ?\n",
    "\n",
    "$$ E_{in} (w) = \\frac{1}{N} \\sum_{x=1} ^N (h(x_i)-f(x_i))^2 $$\n",
    "\n",
    "$$E_{in} (w)= \\frac{1}{N} ||\\textbf{X}\\vec{w} - \\vec{y}||^2$$\n",
    "\n",
    "Therefore, the goal is to find such $w$ parameters of a model so that $E_{in}$ is minimum. "
   ]
  },
  {
   "cell_type": "markdown",
   "metadata": {},
   "source": [
    "# How to minimize $E_{in}$ ?\n",
    "+ Via Least Squares\n",
    "\n",
    "+ Via Regularized Least Squares\n",
    "\n",
    "+ Via Sequential Learning/ on-line algorithms\n",
    "    + Gradient Descent\n",
    "    + Stoachastic Gradient Descent"
   ]
  },
  {
   "cell_type": "markdown",
   "metadata": {},
   "source": [
    "## Least Squares"
   ]
  },
  {
   "cell_type": "markdown",
   "metadata": {},
   "source": [
    "$$ E_{in} (w)= \\frac{1}{N} ||\\textbf{X}\\vec{w} - \\vec{y}||^2$$\n",
    "\n",
    "$$ \\nabla E_{in} (w) = \\frac{2}{N} \\textbf{X}^T (\\textbf{X}\\vec{w} - \\vec{y}) = 0 $$"
   ]
  },
  {
   "cell_type": "markdown",
   "metadata": {},
   "source": [
    "$$ \\textbf{X}^T \\textbf{X} \\vec{w} = \\textbf{X}^T \\vec{y}$$"
   ]
  },
  {
   "cell_type": "markdown",
   "metadata": {},
   "source": [
    "\n",
    "$$\\textbf{X}^\\dagger = (\\textbf{X}^T \\textbf{X})^{-1} \\textbf{X}^T $$\n",
    "\n",
    "$$ \\text{where  }  \\textbf{X}^\\dagger \\text{is the }\\textbf{pseudo-inverse } \\text{of  }\\textbf{X} $$\n",
    "\n",
    "\n",
    "$$\\vec{w}= \\textbf{X}^\\dagger \\vec{y} $$\n",
    "\n"
   ]
  },
  {
   "cell_type": "markdown",
   "metadata": {},
   "source": [
    "### Regularized Least Squares\n",
    "\n",
    "$$\\mathbf{w}= \\big ( \\lambda \\mathbf{I} + \\textbf{X}^T \\textbf{X} \\big)^{-1} \\mathbf{X}^T \\mathbf{y} $$"
   ]
  },
  {
   "cell_type": "markdown",
   "metadata": {},
   "source": [
    "## Gradient Descent Algorithm\n",
    "\n",
    "**EXPLAIN LATER**\n",
    "a first-order iterative optimization algorithm for finding the minimum of a function"
   ]
  },
  {
   "cell_type": "markdown",
   "metadata": {},
   "source": [
    "# Let's implement it"
   ]
  },
  {
   "cell_type": "markdown",
   "metadata": {},
   "source": [
    "## Dot Product"
   ]
  },
  {
   "cell_type": "code",
   "execution_count": 1,
   "metadata": {},
   "outputs": [
    {
     "name": "stdout",
     "output_type": "stream",
     "text": [
      "[[ True]]\n"
     ]
    },
    {
     "data": {
      "text/plain": [
       "array([[ True]])"
      ]
     },
     "execution_count": 1,
     "metadata": {},
     "output_type": "execute_result"
    }
   ],
   "source": [
    "import numpy as np\n",
    "features = np.array([1,3,5]).reshape((1, 3))\n",
    "weights= np.array([4,-2,-1]).reshape((3,1))\n",
    "\n",
    "print(features@weights==np.dot(features,weights))\n",
    "features@weights==features.dot(weights)"
   ]
  },
  {
   "cell_type": "code",
   "execution_count": 2,
   "metadata": {},
   "outputs": [],
   "source": [
    "%matplotlib inline\n",
    "import numpy as np\n",
    "import matplotlib.pylab as plt\n",
    "import math\n",
    "import seaborn as sns\n",
    "sns.set(style=\"darkgrid\")\n",
    "from sklearn.metrics import mean_squared_error\n",
    "np.random.seed(2)"
   ]
  },
  {
   "cell_type": "code",
   "execution_count": 3,
   "metadata": {},
   "outputs": [],
   "source": [
    "class DataGeneratingProcess(object):\n",
    "    def __init__(self,f=lambda x: 5,noise=0):\n",
    "        # This is the true unknown function we are trying to approximate\n",
    "        self.f=f\n",
    "        self.s=noise # noise variance.\n",
    "        self.X=None\n",
    "        self.y=None\n",
    "    \n",
    "    def generate_regression(self,N,T=(-4,4)):\n",
    "        # Sample some input points and noisy versions of the function evaluated at  these points.\n",
    "        self.X = np.random.uniform(T[0], T[1], size=(N,1))\n",
    "        self.y = self.f(self.X) + self.s*np.random.randn(N)\n",
    "        return self.X,self.y\n",
    "\n",
    "    def generate_classification(self,N,T=(-4,4)):\n",
    "        # Sample some input points and noisy versions of the function evaluated at  these points.\n",
    "        self.X = np.random.uniform(T[0], T[1], size=(N,1))\n",
    "        #TODO include noise latter\n",
    "        self.y = self.f(self.X) #+ self.s*np.random.randn(N)\n",
    "        return self.X,self.y\n",
    "    \n",
    "    def plot(self):\n",
    "        plt.scatter(self.X, self.y)\n",
    "        plt.xlabel('observations')\n",
    "        plt.ylabel('unknown function')\n",
    "        plt.axis('tight')\n",
    "        plt.show()"
   ]
  },
  {
   "cell_type": "code",
   "execution_count": 213,
   "metadata": {},
   "outputs": [],
   "source": [
    "class LinearModel(object):\n",
    "    \n",
    "    def __init__(self,num_epoch=100,gradient_update=0.01):\n",
    "        self.weights=None\n",
    "        self.num_epoch=num_epoch\n",
    "        self.gradient_update=gradient_update\n",
    "        \n",
    "    def gradient_descent(self,X_t,y):\n",
    "        # initialize a list to store the loss value for each epoch\n",
    "        lossHistory = []\n",
    "\n",
    "        # loop over the desired number of epochs\n",
    "        for epoch in np.arange(0, self.num_epoch):\n",
    "            # take the dot product between our features `X` and the\n",
    "            # weight matrix `W`, then pass this value through the\n",
    "            # sigmoid activation function, thereby giving us our\n",
    "            # predictions on the dataset\n",
    "            #preds = sigmoid_activation(X.dot(W))\n",
    "            preds =X_t.dot(self.weights)\n",
    "\n",
    "            # now that we have our predictions, we need to determine\n",
    "            # our `error`, which is the difference between our predictions\n",
    "            # and the true values\n",
    "            error = preds - y\n",
    "\n",
    "            # given our `error`, we can compute the total loss value as\n",
    "            # the sum of squared loss -- ideally, our loss should\n",
    "            # decrease as we continue training\n",
    "            loss = np.sum(error ** 2)\n",
    "            lossHistory.append(loss)\n",
    "            #print(\"[INFO] epoch #{}, loss={:.7f}\".format(epoch + 1, loss))\n",
    "\n",
    "            # the gradient update is therefore the dot product between\n",
    "            # the transpose of `X` and our error, scaled by the total\n",
    "            # number of data points in `X`\n",
    "            gradient = X_t.T.dot(error) / X_t.shape[0]\n",
    "\n",
    "            # in the update stage, all we need to do is nudge our weight\n",
    "            # matrix in the opposite direction of the gradient (hence the\n",
    "            # term \"gradient descent\" by taking a small step towards a\n",
    "            # set of \"more optimal\" parameters\n",
    "            self.weights += -self.gradient_update * gradient\n",
    "        self.weights=np.around(self.weights,5)\n",
    "        print('Learned weights: ',self.weights)\n",
    "        \n",
    "    def fit_regression(self,X,y,init_pseudo_inverse=True):\n",
    "        if init_pseudo_inverse:\n",
    "            # Insert a column of 1's as the first entry in the feature vector.\n",
    "            # Hence, we can treat the bias as a parameter *within* the weight matrix rather than an entirely separate variable\n",
    "            X_t = np.column_stack( (np.ones((len(X),1)) , X ) ) \n",
    "            self.weights = np.dot( np.linalg.pinv(X_t), y)\n",
    "        else:\n",
    "            X_t= np.column_stack( (np.ones((len(X),1)) , X ) )\n",
    "            self.weights = np.random.uniform(size=(X_t.shape[1],))\n",
    "        print('Weights are initialized with pseudo inverse:',init_pseudo_inverse)\n",
    "        self.gradient_descent(X_t,y)\n",
    "        \n",
    "        print('Mean squared Error Logistic Regression: ',mean_squared_error(self.weights[0] + self.weights[1]*X,y))\n",
    "        \n",
    "    def fit_polynomial(self,X,y,d=3,plotting=False):\n",
    "        print('Fitting polynomials ',d)\n",
    "        p = np.poly1d(np.polyfit(X, y, d))\n",
    "        print('Mean squared Error Logistic Regression: ',mean_squared_error(p(X),y))\n",
    "        \n",
    "        if plotting:\n",
    "            plt.scatter(X, y)\n",
    "            _=np.linspace(X.min(), X.max(), num=10)\n",
    "\n",
    "            plt.plot(_, p(_),c='r')\n",
    "            plt.xlabel('observations')\n",
    "            plt.ylabel('Outputs')\n",
    "            plt.axis('tight')\n",
    "            plt.show()\n",
    "        \n",
    "    def fit_pseudo_inverse(self,X,y):\n",
    "        # 1s inserted into X as we have to also learn the intercept of function\n",
    "        X_t = np.column_stack( (np.ones((len(X),1)) , X ) ) \n",
    "        self.weights = np.dot( np.linalg.pinv(X_t), y) # weights \n",
    "        print( 'w0 = %.6f, w1 = %.6f ' %(self.weights[0],self.weights[1]) ) \n",
    "        print('Mean squared Error of Least Squares: ',mean_squared_error(self.weights[0] + self.weights[1]*X,y))\n",
    "    \n",
    "    def fit_regularized_least_squares(self,X,y,lambda_=0):\n",
    "        \"\"\"\n",
    "        #np.all(np.dot(X_t.T,X_t)==X_t.T@X_t)\n",
    "        #(X_t.T@X_t)**-1==(1/(X_t.T@X_t))\n",
    "        #(X_t.T@X_t)**-1 not equal =! np.linalg.inv(np.dot(X_t.T,X_t))\n",
    "\n",
    "        ## our scratch and pinv is almost same!\n",
    "        #pinv_scratc=np.linalg.inv(np.dot(X_t.T,X_t)).dot(X_t.T)\n",
    "        #np.allclose(pinv_scratc,np.linalg.pinv(X_t))\n",
    "        \"\"\"\n",
    "        \n",
    "        X_t = np.column_stack( (np.ones((len(X),1)) , X ) )\n",
    "        I=np.identity(X_t.shape[1])\n",
    "\n",
    "        pinv_scratc=np.linalg.inv(lambda_*I+np.dot(X_t.T,X_t)).dot(X_t.T)\n",
    "        self.weights=np.dot(pinv_scratc,y)\n",
    "        print( 'w0 = %.6f, w1 = %.6f ' %(self.weights[0],self.weights[1]) ) \n",
    "        print('Mean squared Error of Regularized Least Squares : ',mean_squared_error(self.weights[0] + self.weights[1]*X,y))\n",
    "    \n",
    "    def plot(self,X):\n",
    "        \n",
    "        plt.plot(X, self.weights[0] + self.weights[1]*X,c='r')# label='h(x) = %.2f + %.2f x' %(w[0], w[1]))\n",
    "        plt.scatter(X, y)\n",
    "        plt.xlabel('observations')\n",
    "        plt.ylabel('Outputs')\n",
    "        plt.axis('tight')\n",
    "        plt.show()"
   ]
  },
  {
   "cell_type": "code",
   "execution_count": 214,
   "metadata": {},
   "outputs": [
    {
     "name": "stdout",
     "output_type": "stream",
     "text": [
      "w0 = 5.000000, w1 = -0.000000 \n",
      "Mean squared Error of Least Squares:  7.888609052210118e-31\n"
     ]
    },
    {
     "data": {
      "image/png": "[encoded data removed]",
      "text/plain": [
       "<Figure size 432x288 with 1 Axes>"
      ]
     },
     "metadata": {
      "needs_background": "light"
     },
     "output_type": "display_data"
    },
    {
     "name": "stdout",
     "output_type": "stream",
     "text": [
      "Weights are initialized with pseudo inverse: True\n",
      "Learned weights:  [5. 0.]\n",
      "Mean squared Error Logistic Regression:  0.0\n",
      "Weights are initialized with pseudo inverse: False\n",
      "Learned weights:  [ 5. -0.]\n",
      "Mean squared Error Logistic Regression:  0.0\n",
      "w0 = 4.975034, w1 = -0.000678 \n",
      "Mean squared Error of Regularized Least Squares :  0.0006210372734443493\n"
     ]
    },
    {
     "data": {
      "image/png": "[encoded data removed]",
      "text/plain": [
       "<Figure size 432x288 with 1 Axes>"
      ]
     },
     "metadata": {
      "needs_background": "light"
     },
     "output_type": "display_data"
    }
   ],
   "source": [
    "g=DataGeneratingProcess()\n",
    "X,y=g.generate_regression(200)\n",
    "#g.plot()\n",
    "\n",
    "model=LinearModel()\n",
    "model.fit_pseudo_inverse(X.copy(),y.copy())\n",
    "model.plot(X.copy())\n",
    "\n",
    "model=LinearModel()\n",
    "model.fit_regression(X.copy(),y.copy())\n",
    "#model.plot(X.copy())\n",
    "\n",
    "model=LinearModel(num_epoch=20000)\n",
    "model.fit_regression(X.copy(),y.copy(),init_pseudo_inverse=False)\n",
    "#model.plot(X.copy())\n",
    "\n",
    "model=LinearModel()\n",
    "model.fit_regularized_least_squares(X.copy(),y,lambda_=1)\n",
    "model.plot(X.copy())"
   ]
  },
  {
   "cell_type": "code",
   "execution_count": 215,
   "metadata": {},
   "outputs": [
    {
     "data": {
      "image/png": "[encoded data removed]",
      "text/plain": [
       "<Figure size 432x288 with 1 Axes>"
      ]
     },
     "metadata": {
      "needs_background": "light"
     },
     "output_type": "display_data"
    },
    {
     "name": "stdout",
     "output_type": "stream",
     "text": [
      "w0 = -0.011149, w1 = 0.997999 \n",
      "Mean squared Error of Least Squares:  0.0025516588307597753\n"
     ]
    },
    {
     "data": {
      "image/png": "[encoded data removed]",
      "text/plain": [
       "<Figure size 432x288 with 1 Axes>"
      ]
     },
     "metadata": {
      "needs_background": "light"
     },
     "output_type": "display_data"
    },
    {
     "name": "stdout",
     "output_type": "stream",
     "text": [
      "Weights are initialized with pseudo inverse: True\n",
      "Learned weights:  [-0.01115  0.998  ]\n",
      "Mean squared Error Logistic Regression:  0.0025516588385867452\n"
     ]
    },
    {
     "data": {
      "image/png": "[encoded data removed]",
      "text/plain": [
       "<Figure size 432x288 with 1 Axes>"
      ]
     },
     "metadata": {
      "needs_background": "light"
     },
     "output_type": "display_data"
    },
    {
     "name": "stdout",
     "output_type": "stream",
     "text": [
      "Weights are initialized with pseudo inverse: False\n",
      "Learned weights:  [0.04654 0.99886]\n",
      "Mean squared Error Logistic Regression:  0.005868931719328353\n"
     ]
    },
    {
     "data": {
      "image/png": "[encoded data removed]",
      "text/plain": [
       "<Figure size 432x288 with 1 Axes>"
      ]
     },
     "metadata": {
      "needs_background": "light"
     },
     "output_type": "display_data"
    }
   ],
   "source": [
    "g=DataGeneratingProcess(f=lambda x:np.array(x).flatten(),noise=0.06)\n",
    "X,y=g.generate_regression(100)\n",
    "g.plot()\n",
    "\n",
    "model=LinearModel()\n",
    "model.fit_pseudo_inverse(X.copy(),y.copy())\n",
    "model.plot(X.copy())\n",
    "\n",
    "model=LinearModel()\n",
    "model.fit_regression(X.copy(),y.copy())\n",
    "model.plot(X.copy())\n",
    "\n",
    "model=LinearModel(num_epoch=100)\n",
    "model.fit_regression(X,y,init_pseudo_inverse=False)\n",
    "model.plot(X.copy())\n"
   ]
  },
  {
   "cell_type": "markdown",
   "metadata": {},
   "source": [
    "It is important to understand that the behaviour of learned weights/regression coefficents/weights. More specifically, if $w_1$ positive, then we expect the output to increase as the input increases. Hence, the input and output is positively correlated."
   ]
  },
  {
   "cell_type": "code",
   "execution_count": 216,
   "metadata": {},
   "outputs": [
    {
     "name": "stdout",
     "output_type": "stream",
     "text": [
      "w0 = 4.839415, w1 = -0.000564 \n",
      "Mean squared Error of Least Squares:  22.421319490470275\n",
      "Weights are initialized with pseudo inverse: True\n",
      "Learned weights:  [ 4.83942e+00 -5.60000e-04]\n",
      "Mean squared Error Logistic Regression:  22.421319490567015\n",
      "Weights are initialized with pseudo inverse: False\n",
      "Learned weights:  [3.42105 0.01445]\n",
      "Mean squared Error Logistic Regression:  24.43290143164878\n",
      "Fitting polynomials  1\n",
      "Mean squared Error Logistic Regression:  22.421319490470275\n",
      "Fitting polynomials  2\n",
      "Mean squared Error Logistic Regression:  4.923676037920557e-29\n"
     ]
    }
   ],
   "source": [
    "g=DataGeneratingProcess(f = lambda x: (x**2).flatten())\n",
    "X,y=g.generate_regression(100)\n",
    "\n",
    "model=LinearModel()\n",
    "model.fit_pseudo_inverse(X.copy(),y.copy())\n",
    "#model.plot(X.copy())\n",
    "\n",
    "model=LinearModel()\n",
    "model.fit_regression(X.copy(),y.copy())\n",
    "#model.plot(X.copy())\n",
    "\n",
    "model=LinearModel(num_epoch=100)\n",
    "model.fit_regression(X.copy(),y.copy(),init_pseudo_inverse=False)\n",
    "#model.plot(X.copy())\n",
    "\n",
    "\n",
    "model=LinearModel()\n",
    "model.fit_polynomial(X.copy().flatten(),y.copy(),d=1)\n",
    "\n",
    "model=LinearModel()\n",
    "model.fit_polynomial(X.copy().flatten(),y.copy(),d=2)\n",
    "\n"
   ]
  },
  {
   "cell_type": "code",
   "execution_count": 217,
   "metadata": {},
   "outputs": [
    {
     "name": "stdout",
     "output_type": "stream",
     "text": [
      "w0 = 0.004123, w1 = 0.329635 \n",
      "Mean squared Error of Least Squares:  0.1635837972938394\n",
      "Weights are initialized with pseudo inverse: True\n",
      "Learned weights:  [0.00412 0.32963]\n",
      "Mean squared Error Logistic Regression:  0.16358379737104545\n",
      "Weights are initialized with pseudo inverse: False\n",
      "Learned weights:  [0.35518 0.35712]\n",
      "Mean squared Error Logistic Regression:  0.28889273633419105\n"
     ]
    }
   ],
   "source": [
    "g=DataGeneratingProcess(f = lambda x: (np.sin(x)).flatten())\n",
    "X,y=g.generate_regression(1000,T=(-3,3))\n",
    "#g.plot()\n",
    "\n",
    "model=LinearModel()\n",
    "model.fit_pseudo_inverse(X.copy(),y.copy())\n",
    "#model.plot(X.copy())\n",
    "\n",
    "model=LinearModel()\n",
    "model.fit_regression(X.copy(),y.copy())\n",
    "#model.plot(X.copy())\n",
    "\n",
    "model=LinearModel(num_epoch=100)\n",
    "model.fit_regression(X.copy(),y.copy(),init_pseudo_inverse=False)\n",
    "#model.plot(X.copy())"
   ]
  },
  {
   "cell_type": "code",
   "execution_count": 218,
   "metadata": {},
   "outputs": [
    {
     "name": "stdout",
     "output_type": "stream",
     "text": [
      "Fitting polynomials  2\n",
      "Mean squared Error Logistic Regression:  0.16356775117988592\n",
      "Fitting polynomials  3\n",
      "Mean squared Error Logistic Regression:  0.003143734451055668\n"
     ]
    }
   ],
   "source": [
    "model=LinearModel()\n",
    "model.fit_polynomial(X.copy().flatten(),y.copy(),d=2)\n",
    "\n",
    "model=LinearModel()\n",
    "model.fit_polynomial(X.copy().flatten(),y.copy(),d=3)"
   ]
  },
  {
   "cell_type": "code",
   "execution_count": null,
   "metadata": {},
   "outputs": [],
   "source": []
  },
  {
   "cell_type": "code",
   "execution_count": 219,
   "metadata": {},
   "outputs": [
    {
     "name": "stdout",
     "output_type": "stream",
     "text": [
      "w0 = 5.741653, w1 = 0.123452 \n",
      "Mean squared Error of Least Squares:  23.428247346270712\n",
      "Fitting polynomials  2\n",
      "Mean squared Error Logistic Regression:  2.9572650594669393e-29\n"
     ]
    }
   ],
   "source": [
    "g=DataGeneratingProcess(f = lambda x: (x**2).flatten())\n",
    "X,y=g.generate_regression(100)\n",
    "\n",
    "model=LinearModel()\n",
    "model.fit_pseudo_inverse(X.copy(),y.copy())\n",
    "#model.plot(X.copy())\n",
    "\n",
    "model=LinearModel()\n",
    "model.fit_polynomial(X.copy().flatten(),y.copy(),d=2)"
   ]
  },
  {
   "cell_type": "code",
   "execution_count": null,
   "metadata": {},
   "outputs": [],
   "source": []
  },
  {
   "cell_type": "markdown",
   "metadata": {},
   "source": [
    "## The Gaussian distribution\n",
    "\n",
    "$$ \\mathcal{N}(x|\\mu,\\,\\sigma^{2}) =\\frac{1}{\\sqrt{2 \\pi \\sigma^2}} \\mathbf{e}^{-\\frac{1}{2\\sigma^2}(x-\\mu)^2}$$ where  \n",
    "+ $\\mu$ is expected value/mean\n",
    "+ $\\sigma$ is standard devation of mean\n",
    "+ $\\sigma^2$ is the variance.\n",
    "+ The recoprocal of the variance as $\\beta=\\frac{1}{\\sigma^2}$ is called the precision.\n",
    "\n",
    "From the from above, we see that the Gaussian distribution satisfies\n",
    "\n",
    "$$ \\mathcal{N}(x|\\mu,\\sigma^2) > 0$$ which is also shown below"
   ]
  },
  {
   "cell_type": "code",
   "execution_count": null,
   "metadata": {},
   "outputs": [],
   "source": []
  },
  {
   "cell_type": "code",
   "execution_count": null,
   "metadata": {},
   "outputs": [],
   "source": []
  },
  {
   "cell_type": "code",
   "execution_count": null,
   "metadata": {},
   "outputs": [],
   "source": []
  },
  {
   "cell_type": "code",
   "execution_count": null,
   "metadata": {},
   "outputs": [],
   "source": []
  },
  {
   "cell_type": "markdown",
   "metadata": {},
   "source": [
    "### Classification Problem"
   ]
  },
  {
   "cell_type": "code",
   "execution_count": 11,
   "metadata": {},
   "outputs": [
    {
     "name": "stdout",
     "output_type": "stream",
     "text": [
      "Learned weights:  [[0.50101]\n",
      " [0.64908]]\n"
     ]
    },
    {
     "data": {
      "text/plain": [
       "[<matplotlib.lines.Line2D at 0x11b1d39b0>]"
      ]
     },
     "execution_count": 11,
     "metadata": {},
     "output_type": "execute_result"
    },
    {
     "data": {
      "image/png": "[encoded data removed]",
      "text/plain": [
       "<Figure size 432x288 with 1 Axes>"
      ]
     },
     "metadata": {
      "needs_background": "light"
     },
     "output_type": "display_data"
    }
   ],
   "source": []
  },
  {
   "cell_type": "code",
   "execution_count": 12,
   "metadata": {},
   "outputs": [
    {
     "data": {
      "text/plain": [
       "True"
      ]
     },
     "execution_count": 12,
     "metadata": {},
     "output_type": "execute_result"
    }
   ],
   "source": [
    "mu, sigma, N = 1, 0.1,10000 # mean and standard deviation\n",
    "x = np.random.normal(mu, sigma, N)\n",
    "\n",
    "np.all(x>0)## all simulated variables from given Gaussian greater than o."
   ]
  },
  {
   "cell_type": "code",
   "execution_count": 13,
   "metadata": {},
   "outputs": [
    {
     "data": {
      "image/png": "[encoded data removed]",
      "text/plain": [
       "<Figure size 432x288 with 1 Axes>"
      ]
     },
     "metadata": {
      "needs_background": "light"
     },
     "output_type": "display_data"
    }
   ],
   "source": [
    "\n",
    "gaussian=lambda x,mu,sigma: 1/(sigma * np.sqrt(2 * np.pi)) *np.exp( - (x - mu)**2 / (2 * sigma**2) ) \n",
    "count, bins, ignored = plt.hist(x, 30, density=True)\n",
    "\n",
    "plt.plot(bins,gaussian(bins,mu,sigma),linewidth=2, color='r')\n",
    "\n",
    "plt.title('Univariate Gaussian Distribution')\n",
    "plt.ylabel('P(x)')\n",
    "plt.xlabel('x')\n",
    "plt.show()"
   ]
  },
  {
   "cell_type": "markdown",
   "metadata": {},
   "source": [
    "+ the Gaussian is normalized so that following holds;\n",
    "\n",
    "$$ \\int_{-\\infty} ^{+\\infty} \\mathcal{N}(x|\\mu,\\sigma^2) \\, dx=1$$\n",
    "\n",
    "So, we can find expectations of functions of $x$ under the Gaussian distribution. In particular, the average value of $x$ is given by\n",
    "\n",
    "$$\\mathbb{E}[x]= \\int_{-\\infty} ^{+\\infty} \\mathcal{N}(x|\\mu,\\sigma^2) \\, x \\, dx=\\mu $$\n",
    "\n",
    "Similarly, for the second order, following holds;\n",
    "\n",
    "$$\\mathbb{E}[x^2]= \\int_{-\\infty} ^{+\\infty} \\mathcal{N}(x|\\mu,\\sigma^2) \\, x^2 \\, dx=\\mu^2 + \\sigma^2$$\n",
    "\n",
    "Hence, the variance of $x$ is given by\n",
    "\n",
    "$$ var[x]= \\mathbb{E}[x^2]+ \\mathbb{E}[x]^2=\\sigma^2$$\n",
    "\n",
    "\n",
    "The Gaussian distribution defined over a D-dimensional vector $x$ of continous variables is given by \n",
    "\n",
    "\n",
    "$$ \\mathcal{N}(x|\\boldsymbol{\\mu},\\, \\mathbf{\\Sigma}) =\\frac{1}{\\sqrt{(2 \\pi)^{D/2} |\\mathbf{\\Sigma}|^{1/2} }} \\, \\mathbf{exp} \\Big\\{-\\frac{1}{2}(x-\\boldsymbol{\\mu})^T  \\mathbf{\\Sigma}^{-1} \\big(x- \\boldsymbol{\\mu} \\big) \\Big \\}$$ \n",
    "\n",
    "where the D-dimensional vector $\\boldsymbol{\\mu}$ is called the mean, the $D \\times D $ matrix $\\boldsymbol{\\Sigma}$ is called the covariance and $|\\boldsymbol{\\Sigma}|$ denotes the determinal of $\\boldsymbol{\\Sigma}$\n",
    "\n"
   ]
  },
  {
   "cell_type": "markdown",
   "metadata": {},
   "source": [
    "Suppose that we have a data set of observations $\\mathbf{x}=(x_1,...,2_N)^T$ each of wich is a scalar variable $x$. We shall suppose that the observations are drawn independently from a Gaussian distribution whose mean $\\mu$ and variance $\\sigma^2$ are unknown. We would like to determine these parameters from the data set.\n",
    "\n",
    "\n",
    "\n",
    "Data points that are drawn independently from the same distribution are said to be independent and identically distributed, which is often abbreviated to i.i.d. \n",
    "\n",
    "We have seen that the joint probability of two independent events is given by the product of the marginal probabilities for each event separately. \n",
    "\n",
    "Because our data set $x$ is i.i.d., we can therefore write the probability of the data set, given $\\mu$ and $\\sigma^2$, in the form\n",
    "\n",
    "$$ p(\\mathbf{x} | \\mu,\\sigma^2)=\\prod_{n=1} ^N \\mathcal{N}(x_n | \\mu, \\sigma^2)$$\n",
    "\n",
    "One common criterion for determining the parameters in a probability distribution using an observed data set is to find the parameter values that maximize the likelihood function. For now our goal is to find such $\\mu$ and $\\sigma^2$ so that $p(\\mathbf{x} | \\mu,\\sigma^2)$ is maximized.\n",
    "So the goal is to determine values for the unknown parameters\n",
    "$\\mu$ and $\\sigma^2$ in the Gaussian by maximizing the likelihood function written above.\n",
    "\n",
    "\n",
    "\n"
   ]
  },
  {
   "cell_type": "markdown",
   "metadata": {},
   "source": [
    "In practice, it is more convenient to maximize the log of the likelihood function. Because the logarithm is a monotonically increasing function of its argument, maximization of the log of a function is equivalent to maximization of the function itself. \n",
    "\n",
    "Taking the log not only simplifies the subsequent mathematical analysis, but it also helps numerically because the product of a large number of small probabilities can easily underflow the numerical precision of the computer, and this is resolved by computing instead the sum of the log probabilities.\n",
    "\n",
    "\n",
    "$$p(\\mathbf{x}|\\mu,\\sigma) = \\prod_{n=1} ^N \\frac{1}{\\sqrt{2 \\pi \\sigma^2}} \\mathbf{e}^{-\\frac{1}{2\\sigma^2}(x_i- \\mu)^2}$$\n",
    "\n",
    "\n",
    "\n",
    "\n",
    "$$ln \\Big ( p(\\mathbf{x}|\\mu,\\sigma) \\Big )= \\sum_{n=1} ^N ln \\Bigg (\\frac{1}{\\sqrt{2 \\pi \\sigma^2}} \\mathbf{e}^{-\\frac{1}{2\\sigma^2}(x_n- \\mu)^2} \\Bigg )$$\n",
    "\n",
    "\n",
    "Often $ln \\Big ( p(\\mathbf{x}|\\mu,\\sigma) \\Big )$ is represented by\n",
    "$\\mathcal{L}(\\mu,\\sigma)$.\n",
    "\n"
   ]
  },
  {
   "cell_type": "markdown",
   "metadata": {},
   "source": [
    "$$\\mathcal{L}(w,\\sigma)= - \\frac{1}{2\\sigma^2} \\sum_{n=1} ^N (x_n-\\mu )^2  - \\frac{N}{2} \\, ln \\, (\\sigma^2) - \\frac{N}{2} \\, ln \\, (2\\pi)$$\n",
    "\n",
    "Maximizing log likelihood function with respect to $\\mu$ we obtain the\n",
    "\n",
    "$$ \\mu_{ML}= \\frac{1}{N} \\sum_{n=1} ^N x_n$$\n",
    "which is the sample mean, i.e., the mean of the observed values $ \\{ x_n \\}$. Similarly maximizing with respect to $\\sigma^2$, we obtain the maximum likelihood solution for the variance form\n",
    "\n",
    "$$ \\sigma^2 _{ML} = \\frac{1}{N} \\sum_{n=1} ^N (x_n-\\mu_{ML})^2$$\n",
    "\n",
    "which is the sample variance measured with respect to the sample mean $\\mu_{ML}$.\n",
    "\n",
    "\n",
    "+ the maximum likelihood approach systematically underestimates the variance of the distribution. This is an example of a phenomenon called bias and is related to the problem of over-fitting encountered in the context of polynomial curve fitting.\n",
    "\n",
    "$$ \\mathbb{E}[\\mu_{ML}]=\\mu$$\n",
    "\n",
    "$$ \\mathbb{E}[\\sigma_{ML} ^2 ]= \\big(\\frac{N-1}{N} \\big) \\sigma^2$$\n",
    "\n",
    "On average the maximum likelihood estimate will obtain the correct mean but will underestimate the true variance by a factor of $(N-1)/N$.\n",
    "\n",
    "\n",
    "Note that the bias of the maximum likelihood solution becomes less significant as the number N of data points increases, and in the limit \n",
    "$N \\rightarrow \\infty$ the maximum likelihood solution for the variance equals the true variance of the distribution that generated the data. \n",
    "\n",
    "\n",
    "In practice, for anything other than small N, this bias will not prove to be a serious problem. However, throughout this book we shall be interested in more complex models with many parameters, for which the bias problems associated with maximum likelihood will be much more severe.\n",
    "\n",
    "In fact, as we shall see, the issue of bias in maximum likelihood lies at the root of the over-fitting problem that we encountered earlier in the context of polynomial curve fitting.\n"
   ]
  },
  {
   "cell_type": "code",
   "execution_count": null,
   "metadata": {},
   "outputs": [],
   "source": []
  },
  {
   "cell_type": "markdown",
   "metadata": {},
   "source": [
    "## The likelihood for liner regression\n",
    "\n",
    "\n",
    "Let us assume that, given the value of $x$, the corresponding value of t has a Gaussian distribution with a mean equal to the value $y(x,w)$.\n",
    "Let us assume that each label $t_i$ is Gaussian distributed with mean \n",
    "\n",
    "$$ p(t|x,w,\\beta) = \\mathcal{N}(t | y(x,w),\\beta^{-1})$$\n",
    "\n",
    "where $\\beta$ is the inverse variance of the distribution,i.e., $\\beta=\\frac{1}{\\sigma^2}$ called the precision.\n",
    "\n",
    "\n",
    "The goal is to to determine the values of the unknown\n",
    "parameters $w$ and $\\beta$ by maximum likelihood. If the data are assumed to be drawn independently from the distribution then the likelihood function is given by\n",
    "\n",
    "\n",
    "$$ p(\\mathbf{t}|\\mathbf{x},\\mathbf{w},\\beta)=\\prod_{n=1} ^N \\mathcal{N} \\big ( t_n \\, | \\,  y(x_n ,\\mathbf{w}), \\beta^{-1} \\big) $$.\n",
    "\n",
    "\n",
    "\n",
    "$$ ln \\, p (\\mathbf{t}|\\mathbf{x},\\mathbf{w},\\beta)= -\\frac{\\beta}{2} \\sum_{n=1} ^N \\{ y(x_n,\\mathbf{w})-t_n\\}^2 + \\frac{N}{2}ln \\, (\\beta) - \\frac{N}{2} ln (2\\pi) $$ \n",
    "\n",
    "\n",
    "Consider first the determination of the maximum likelihood solution for the polynomial coefficents, $\\mathbf{w}_{ML}$. $\\mathbf{w}_{ML}$ determined by maximizing above equation with respect to $\\mathbf{w}$. \n",
    "\n",
    "+ Hence we can omit $\\frac{N}{2}ln(\\beta)$ and $- \\frac{N}{2}ln(2\\pi)$ as they do not depend on $\\mathbf{w}$.\n",
    "\n",
    "\n",
    "$$ ln \\, p (\\mathbf{t}|\\mathbf{x},\\mathbf{w},\\beta)= -\\frac{\\beta}{2} \\sum_{n=1} ^N \\{ y(x_n,\\mathbf{w})-t_n\\}^2$$ \n",
    "\n",
    "+ We note that scaling the log likelihood by a positive constant coefficent does not alter the location of the maximim with respect to $w$ and so we can replace the coeffocent $\\beta /2$ with $1/2$.\n",
    "\n",
    "\n",
    "\n",
    "\n",
    "\n",
    "\n",
    "$$ ln \\, p (\\mathbf{t}|\\mathbf{x},\\mathbf{w},\\beta)= -\\frac{1}{2} \\sum_{n=1} ^N \\{ y(x_n,\\mathbf{w})-t_n\\}^2$$ \n",
    "\n",
    "\n",
    "\n",
    "+ Finally instead of maximizin the log likelihood we can equivalently minimize the negative log likelihood.\n",
    "\n",
    "$$E_D (\\mathbf{w})= \\frac{1}{2} \\sum_{n=1} ^N \\{y(x_n \\mathbf{w})-t_n) \\}^2$$\n",
    "\n",
    "\n",
    "Maximizing likelihood is equivalent, so far as to detemrmining w is concerned, to minimizing the sum of squares error function.\n",
    "\n",
    "\n",
    "\n",
    "\n",
    "\n"
   ]
  },
  {
   "cell_type": "markdown",
   "metadata": {},
   "source": [
    "The gradient of the log likelihood function takes the following form\n",
    "\n",
    "$$ \\, \\frac{\\partial ln \\, p (\\mathbf{t}|\\mathbf{x},\\mathbf{w},\\beta)}{\\partial W}=  \\sum_{n=1} ^{N} \\{t_n - \\mathbf{w}^T  x_n\\} x_n ^T$$\n",
    "\n",
    "Setting the gradient to zero gives us\n",
    "\n",
    "\n",
    "$$ 0= \\sum_{n=1} ^{N} t_n x_n^T - w^T \\big( \\sum_{n=1} ^{N} x_n x_n^T \\big)$$\n",
    "\n",
    "Solving for $\\mathbf{w}$ we obtain\n",
    "\n",
    "$$ \\mathbf{w}_{ML}= ( \\mathbf{x}^T \\mathbf{x} )^{-1} \\mathbf{x} ^T \\mathbf{t} $$\n",
    "\n",
    "The quantitiy is known as the Moore-Pensore pseudo-inverse of the matrix $\\mathbf{x}$.\n"
   ]
  },
  {
   "cell_type": "code",
   "execution_count": null,
   "metadata": {},
   "outputs": [],
   "source": []
  },
  {
   "cell_type": "markdown",
   "metadata": {},
   "source": [
    "## The likelihood for liner regression\n",
    "\n",
    "Let us assume that each label $y_i$ is Gaussian distributed with mean $\\mu=w^T x_i$ and variance $\\sigma^2$.\n",
    "\n",
    "$$ y_i=\\mathcal{N}(w^T x_i,\\sigma^2)$$\n",
    "$$ y_i=w^T x_i+\\mathcal{N}(0,\\sigma^2)$$\n",
    "\n",
    "\n",
    "\n",
    "\n"
   ]
  },
  {
   "cell_type": "markdown",
   "metadata": {},
   "source": [
    "$$ \\mathbf{P}(Y|X,\\Theta)= \\mathcal{N}(y|\\mu(x),\\sigma^2(x))$$In the simplest case, we assume $\\mu$ is a linear function of $x$, $\\mu=w^Tx$ and $\\Theta=(w,\\sigma^2)$. For example, suppose the input is 1 dimensional and we can represent the expected respond as follows: \n",
    "\n",
    "$$ \\mu(x)=w_0 + w_1 x = w^T x$$ where $w_0$ is the intercept or bias term while w_1 the slope hence x=(1,x) above."
   ]
  },
  {
   "cell_type": "markdown",
   "metadata": {},
   "source": [
    "hence\n",
    "\n",
    "$$ \\mathbf{P}(Y|X,\\Theta)= \\prod_{i=1} ^n \\mathbf{P}(y_i |x_i,\\Theta)$$\n",
    "\n",
    "\n",
    "+ Goal is to ***tweak*** $\\Theta$ so that probabilitiy of observing responses $Y$ given a dataset $X$ and $\\Theta$ is maximized."
   ]
  },
  {
   "cell_type": "markdown",
   "metadata": {},
   "source": [
    "\n",
    "As we assume that each data point comes from Gaussian distribution, we multuply gaussian probabties of each point as follows\n",
    "\n",
    "***equivalently*** likelihood function is in the following form\n",
    "$$\\mathbf{P}(Y|X,\\vec{w},\\sigma) = \\prod_{i=1} ^n \\frac{1}{\\sqrt{2 \\pi \\sigma^2}} \\mathbf{e}^{-\\frac{1}{2\\sigma^2}(y_i- w^T x_i)^2}$$\n",
    "where $w^T x_i=\\mu(x_i)$"
   ]
  },
  {
   "cell_type": "markdown",
   "metadata": {},
   "source": [
    "\n",
    "\n",
    "\n",
    "\n",
    "It is very similar to cost function $ J(\\vec{w})=\\sum_{i=1} ^n (y_i - w^T x_i)^2 $. \n",
    "\n",
    "+ Hence, as we maximize the likelihood function, we minimize cost function\n"
   ]
  },
  {
   "cell_type": "markdown",
   "metadata": {},
   "source": [
    "\n",
    "Moreover, we could write everything in matrix notation as follows \n",
    "\n",
    "$$= \\prod_{i=1} ^n (2\\pi \\sigma^2)^{-1/2} \\, \\mathbf{e}^{-\\frac{1}{2\\sigma^2}(y_i- w^T x_i)^2}$$\n",
    "\n",
    "\n",
    "$$= (2\\pi \\sigma^2)^{-n/2} \\, \\mathbf{e}^{-\\frac{1}{2\\sigma^2}\\sum_{i=1}(y_i- w^T x_i)^2}$$\n",
    "\n",
    "$$\\mathbf{P}(Y|X,w,\\sigma) = (2\\pi \\sigma^2)^{-n/2} \\, \\mathbf{e}^{-\\frac{1}{2\\sigma^2}(Y- w^T X)^T (Y- w^T X)}$$\n",
    "\n"
   ]
  },
  {
   "cell_type": "markdown",
   "metadata": {},
   "source": [
    "When we see the data, we do not known the true parameters $\\vec{w}$,\n",
    "but any guess at them gives us a probability density. Hence we aim to increase the probabilitiy densitiy function or ***increase the likelyhood***. Due to mathematical convenient ( not multplying very small probabilities), we work with ***log-likelihood*** function as log is monotonic function.\n",
    "\n",
    "\n",
    "$$\\mathcal{L}(w,\\sigma) = \\sum_{i=1} ^n log \\mathbf{P}(y_i |x_i,\\vec{w},\\sigma)$$\n",
    "\n",
    "\n",
    "$$\\mathcal{L}(w,\\sigma)= - \\frac{n}{2}log2\\pi -n log(\\sigma) - \\frac{1}{2 \\sigma^2} \\sum_{i=1} ^n (y_i-(\\vec{w}^T x_i))^2$$\n",
    "\n",
    "The maximum likelihood of $w$ is\n",
    "$$\\mathcal{L}(w,\\sigma)= - \\frac{n}{2}log(2\\pi\\sigma^2)- \\frac{1}{2 \\sigma^2} \\big(Y-(\\vec{w}^T X)\\big) \\big(Y-(\\vec{w}^T X) \\big)$$\n",
    "\n",
    "if you take the derivation of the above function with respect to w\n",
    "\n",
    "$$ \\frac{\\partial \\mathcal{L(W)}}{\\partial W}=0 - \\frac{1}{2\\sigma^2}\n",
    "[0-2X^T Y + 2X^T X W] $$\n",
    "\n",
    "equating to 0 gives us $w_{ML}=(X^TX)^{-1}X^TY$\n",
    "\n",
    "\n",
    "$$ \\frac{\\partial \\mathcal{L(\\sigma)}}{\\partial \\sigma}=1/n \\sum_{i=1} ^n (y_i-w^T x_i)^2$$\n",
    "\n"
   ]
  },
  {
   "cell_type": "code",
   "execution_count": null,
   "metadata": {},
   "outputs": [],
   "source": []
  },
  {
   "cell_type": "code",
   "execution_count": 14,
   "metadata": {},
   "outputs": [],
   "source": [
    "# http://dfm.io/emcee/current/user/line/"
   ]
  },
  {
   "cell_type": "code",
   "execution_count": 15,
   "metadata": {},
   "outputs": [],
   "source": [
    "\n",
    "# Choose the \"true\" parameters.\n",
    "m_true = -0.9594\n",
    "b_true = 4.294\n",
    "f_true = 0.534\n",
    "\n",
    "# Generate some synthetic data from the model.\n",
    "N = 100\n",
    "x = np.sort(10*np.random.rand(N))\n",
    "y = m_true*x+b_true"
   ]
  },
  {
   "cell_type": "code",
   "execution_count": 16,
   "metadata": {},
   "outputs": [],
   "source": [
    "y+=np.abs(f_true*y) * np.random.randn(N)"
   ]
  },
  {
   "cell_type": "code",
   "execution_count": 17,
   "metadata": {},
   "outputs": [],
   "source": [
    "yerr = 0.1+0.5*np.random.rand(N)\n",
    "y += yerr * np.random.randn(N)"
   ]
  },
  {
   "cell_type": "code",
   "execution_count": 18,
   "metadata": {},
   "outputs": [
    {
     "data": {
      "text/plain": [
       "[<matplotlib.lines.Line2D at 0x11b3e9550>]"
      ]
     },
     "execution_count": 18,
     "metadata": {},
     "output_type": "execute_result"
    },
    {
     "data": {
      "image/png": "[encoded data removed]",
      "text/plain": [
       "<Figure size 432x288 with 1 Axes>"
      ]
     },
     "metadata": {
      "needs_background": "light"
     },
     "output_type": "display_data"
    }
   ],
   "source": [
    "points=np.linspace(1, 10, num=1000)\n",
    "plt.scatter(x,y)\n",
    "plt.plot(points,m_true*points+b_true,c='r')"
   ]
  },
  {
   "cell_type": "markdown",
   "metadata": {},
   "source": [
    "The true model is shown as the thick grey line and the effect of the underestimated uncertainties is obvious when you look at this figure. The standard way to fit a line to these data (assuming independent Gaussian error bars) is linear least squares. Linear least squares is appealing because solving for the parameters—and their associated uncertainties—is simply a linear algebraic operation. Following the notation in Hogg, Bovy & Lang (2010), the linear least squares solution to these data is"
   ]
  },
  {
   "cell_type": "code",
   "execution_count": 19,
   "metadata": {},
   "outputs": [],
   "source": [
    "A = np.vstack((np.ones_like(x), x)).T\n",
    "C = np.diag(yerr * yerr)\n",
    "cov = np.linalg.inv(np.dot(A.T, np.linalg.solve(C, A)))\n",
    "b_ls, m_ls = np.dot(cov, np.dot(A.T, np.linalg.solve(C, y)))"
   ]
  },
  {
   "cell_type": "code",
   "execution_count": 20,
   "metadata": {},
   "outputs": [
    {
     "data": {
      "text/plain": [
       "-1.048502181590795"
      ]
     },
     "execution_count": 20,
     "metadata": {},
     "output_type": "execute_result"
    }
   ],
   "source": [
    "m_ls"
   ]
  },
  {
   "cell_type": "code",
   "execution_count": 21,
   "metadata": {},
   "outputs": [
    {
     "data": {
      "text/plain": [
       "4.873692247497791"
      ]
     },
     "execution_count": 21,
     "metadata": {},
     "output_type": "execute_result"
    }
   ],
   "source": [
    "b_ls"
   ]
  },
  {
   "cell_type": "code",
   "execution_count": 22,
   "metadata": {},
   "outputs": [
    {
     "data": {
      "text/plain": [
       "[<matplotlib.lines.Line2D at 0x11b10a9e8>]"
      ]
     },
     "execution_count": 22,
     "metadata": {},
     "output_type": "execute_result"
    },
    {
     "data": {
      "image/png": "[encoded data removed]",
      "text/plain": [
       "<Figure size 432x288 with 1 Axes>"
      ]
     },
     "metadata": {
      "needs_background": "light"
     },
     "output_type": "display_data"
    }
   ],
   "source": [
    "points=np.linspace(1, 10, num=1000)\n",
    "plt.scatter(x,y)\n",
    "plt.plot(points,m_true*points+b_true,c='r')\n",
    "plt.plot(points,m_ls*points+b_ls,c='c')"
   ]
  },
  {
   "cell_type": "code",
   "execution_count": 23,
   "metadata": {},
   "outputs": [],
   "source": [
    "def lnlike(theta, x, y, yerr):\n",
    "    m, b, lnf = theta\n",
    "    model = m * x + b\n",
    "    inv_sigma2 = 1.0/(yerr**2 + model**2*np.exp(2*lnf))\n",
    "    return -0.5*(np.sum((y-model)**2*inv_sigma2 - np.log(inv_sigma2)))\n"
   ]
  },
  {
   "cell_type": "code",
   "execution_count": 24,
   "metadata": {},
   "outputs": [],
   "source": [
    "import scipy.optimize as op\n",
    "nll = lambda *args: -lnlike(*args)\n",
    "# next time I could implement gradient ascent for given params!\n",
    "result = op.minimize(nll, [m_true, b_true, np.log(f_true)], args=(x, y, yerr))\n",
    "m_ml, b_ml, lnf_ml = result[\"x\"]"
   ]
  },
  {
   "cell_type": "markdown",
   "metadata": {},
   "source": [
    "It’s worth noting that the optimize module minimizes functions whereas we would like to maximize the likelihood. This goal is equivalent to minimizing the negative likelihood (or in this case, the negative log likelihood). The maximum likelihood result is plotted as a solid black line—compared to the true model (grey line) and linear least squares (dashed line)—in the following figure:"
   ]
  },
  {
   "cell_type": "code",
   "execution_count": null,
   "metadata": {},
   "outputs": [],
   "source": []
  },
  {
   "cell_type": "code",
   "execution_count": null,
   "metadata": {},
   "outputs": [],
   "source": []
  },
  {
   "cell_type": "code",
   "execution_count": null,
   "metadata": {},
   "outputs": [],
   "source": []
  },
  {
   "cell_type": "code",
   "execution_count": null,
   "metadata": {},
   "outputs": [],
   "source": []
  },
  {
   "cell_type": "markdown",
   "metadata": {},
   "source": [
    "## Maximum likelihood estimation linear regression"
   ]
  },
  {
   "cell_type": "code",
   "execution_count": 25,
   "metadata": {},
   "outputs": [],
   "source": [
    "x = np.linspace(0.0,10.0, num=100)\n",
    "a = 4.0\n",
    "b = -3.5\n",
    "c = 0.0\n",
    "y = (a*(x**2)) + (b*x) + c\n",
    "\n",
    "#   let's add noise to the data\n",
    "#   np.random.normal(mean, standardDeviation, num)\n",
    "noise = np.random.normal(0, 10., 100)\n",
    "y = y+noise"
   ]
  },
  {
   "cell_type": "code",
   "execution_count": 26,
   "metadata": {},
   "outputs": [
    {
     "data": {
      "text/plain": [
       "<matplotlib.collections.PathCollection at 0x11ab91ac8>"
      ]
     },
     "execution_count": 26,
     "metadata": {},
     "output_type": "execute_result"
    },
    {
     "data": {
      "image/png": "[encoded data removed]",
      "text/plain": [
       "<Figure size 432x288 with 1 Axes>"
      ]
     },
     "metadata": {
      "needs_background": "light"
     },
     "output_type": "display_data"
    }
   ],
   "source": [
    "plt.scatter(x,y)"
   ]
  },
  {
   "cell_type": "markdown",
   "metadata": {},
   "source": [
    "Linear regression is generally of some form\n",
    "\n",
    "$$ \\mathbf{Y}=\\mathbf{X}w+\\mathbf{r}$$\n",
    "\n",
    "for a true function $\\mathbf{Y}$,  the matrix of independent variable  $\\mathbf{X}$, the model coefficents $w$, and some residual difference between the true model and the model $r$.\n",
    "\n",
    "$$\\mathbf{r}=\\mathbf{Y}-\\mathbf{X}w$$\n",
    "\n",
    "If we assume that the data to be of an independent and identically distributed sample and the residual $r$ is from a Gaussian distribution, then we will get the folloding poribabilitiy densitiy function $f$.\n",
    "\n",
    "\n",
    "\n",
    "$$ f(x|,\\mu,\\sigma^2)= (2 \\pi \\sigma^2)^{-n/2} \\mathbf{e}^{-\\frac{1}{2\\sigma^2}(x-\\mu)^2}$$\n"
   ]
  },
  {
   "cell_type": "markdown",
   "metadata": {},
   "source": [
    "If we substitute the residual into the equation, and assume that the residual will have a mean of zero ($\\mu=0$) we get\n",
    "\n",
    "$$ f(r|0,\\sigma^2)= (2 \\pi \\sigma^2)^{-n/2} exp\\big(-\\frac{(y-xw)^2}{2\\sigma^2}\\big)$$\n",
    "\n",
    "The likelihood function $\\mathcal{L}$ is defined \n",
    "\n",
    "$$ \\mathcal{L}(w|x_1,...,x_n)=\\prod_{i=1} ^n f(x_i|w)$$ \n",
    "\n",
    "When we substitue the probabilitiy densitiy function into the definiton of maximim likelihood func we get"
   ]
  },
  {
   "cell_type": "markdown",
   "metadata": {},
   "source": [
    "When we substitue the probabilitiy densitiy function into the definiton of maximim likelihood func we get\n",
    "\n",
    "\n",
    "$$ \\mathcal{L}(w|x_1,...,x_n)=(2 \\pi \\sigma^2)^{-n/2} exp\\big(-\\frac{(Y-XW)^T (Y-XW)}{2\\sigma^2}\\big)$$ \n",
    "\n"
   ]
  },
  {
   "cell_type": "markdown",
   "metadata": {},
   "source": [
    "It is practical to work with the log-likelihood as opposed to the likelihood equation as the likelihood equation can be nearly zero. In Python we have created a function which returns the log-likelihood value given a set of ‘true’ values ($Y$) and a set of ‘guess’ values $XW$."
   ]
  },
  {
   "cell_type": "code",
   "execution_count": 27,
   "metadata": {},
   "outputs": [],
   "source": [
    "#   define a function to calculate the log likelihood\n",
    "def calcLogLikelihood(guess, true, n):\n",
    "    error = true-guess\n",
    "    sigma = np.std(error)\n",
    "    f = ((1.0/(2.0*math.pi*sigma*sigma))**(n/2))* \\\n",
    "        np.exp(-1*((np.dot(error.T,error))/(2*sigma*sigma)))\n",
    "    return np.log(f)"
   ]
  },
  {
   "cell_type": "markdown",
   "metadata": {},
   "source": [
    "Optimization is used to determine which parameters $W$ maximize the log-likelihood function.\n",
    "\n",
    "The optimization problem is expressed below.\n",
    "\n",
    "$$ \\{W_{MLE} \\} \\subseteq  \\{ arg max ln \\Big( \\mathcal{L}( W|x_1,...,x_n) \\Big) \\} $$"
   ]
  },
  {
   "cell_type": "code",
   "execution_count": 28,
   "metadata": {},
   "outputs": [],
   "source": [
    "#   define my function which will return the objective function to be minimized\n",
    "def myFunction(var):\n",
    "    #   load my  data\n",
    "    [x, y] = np.load('myData.npy')\n",
    "    yGuess = (var[2]*(x**2)) + (var[1]*x) + var[0]\n",
    "    f = calcLogLikelihood(yGuess, y, float(len(yGuess)))\n",
    "    return (-1*f)"
   ]
  },
  {
   "cell_type": "code",
   "execution_count": null,
   "metadata": {},
   "outputs": [],
   "source": []
  },
  {
   "cell_type": "code",
   "execution_count": null,
   "metadata": {},
   "outputs": [],
   "source": []
  },
  {
   "cell_type": "code",
   "execution_count": 29,
   "metadata": {},
   "outputs": [
    {
     "data": {
      "text/plain": [
       "<matplotlib.collections.PathCollection at 0x11aee9748>"
      ]
     },
     "execution_count": 29,
     "metadata": {},
     "output_type": "execute_result"
    },
    {
     "data": {
      "image/png": "[encoded data removed]",
      "text/plain": [
       "<Figure size 432x288 with 1 Axes>"
      ]
     },
     "metadata": {
      "needs_background": "light"
     },
     "output_type": "display_data"
    }
   ],
   "source": [
    "import numpy as np\n",
    "import math\n",
    "#   pefrom least squres fit using scikitlearn\n",
    "from sklearn.preprocessing import PolynomialFeatures\n",
    "from sklearn.linear_model import LinearRegression\n",
    "from sklearn.pipeline import Pipeline\n",
    "from scipy.optimize import minimize\n",
    "\n",
    "\n",
    "x = np.linspace(0.0,10.0, num=100)\n",
    "a = 4.0\n",
    "b = -3.5\n",
    "c = 0.0\n",
    "y = (a*(x**2)) + (b*x) + c\n",
    "\n",
    "#   let's add noise to the data\n",
    "#   np.random.normal(mean, standardDeviation, num)\n",
    "noise = np.random.normal(0, 10., 100)\n",
    "y = y+noise\n",
    "\n",
    "plt.scatter(x,y)\n"
   ]
  },
  {
   "cell_type": "code",
   "execution_count": 30,
   "metadata": {},
   "outputs": [],
   "source": [
    "#   define my function which will return the objective function to be minimized\n",
    "def myFunction(var):\n",
    "    yGuess = (var[2]*(x**2)) + (var[1]*x) + var[0]\n",
    "    f = calcLogLikelihood(yGuess, y, float(len(yGuess)))\n",
    "    return (-1*f)\n",
    "\n",
    "#   define my function which will return the objective function to be minimized\n",
    "def myFunction2(var):\n",
    "    yGuess =(var[1]*x) + var[0]\n",
    "    f = calcLogLikelihood(yGuess, y, float(len(yGuess)))\n",
    "    return (-1*f)\n"
   ]
  },
  {
   "cell_type": "code",
   "execution_count": null,
   "metadata": {},
   "outputs": [],
   "source": []
  },
  {
   "cell_type": "code",
   "execution_count": 31,
   "metadata": {},
   "outputs": [
    {
     "name": "stdout",
     "output_type": "stream",
     "text": [
      "Optimization terminated successfully.\n",
      "         Current function value: 490.522544\n",
      "         Iterations: 15\n",
      "         Function evaluations: 72\n",
      "         Gradient evaluations: 18\n"
     ]
    },
    {
     "data": {
      "image/png": "[encoded data removed]",
      "text/plain": [
       "<Figure size 432x288 with 1 Axes>"
      ]
     },
     "metadata": {
      "needs_background": "light"
     },
     "output_type": "display_data"
    }
   ],
   "source": [
    "#    Let's pick some random starting points for the optimizaiton    \n",
    "nvar = 2\n",
    "var = np.zeros(nvar)\n",
    "var[0] = -15.5\n",
    "var[1] = 19.5\n",
    "\n",
    "#   let's maximize the liklihood (minimize -1*max(likelihood)\n",
    "res = minimize(myFunction2, var, method='BFGS',\n",
    "                options={'disp': True})\n",
    "                \n",
    "model = Pipeline([('poly', PolynomialFeatures(degree=2)),\n",
    "    ('linear', LinearRegression(fit_intercept=False))])\n",
    "\n",
    "model = model.fit(x[:, np.newaxis], y)\n",
    "coefs = model.named_steps['linear'].coef_\n",
    "\n",
    "#   plot the data and model fits\n",
    "plt.figure()\n",
    "plt.plot(x,y, 'ok')\n",
    "plt.plot(x,model.predict(x[:,np.newaxis]), '-r', label='Least Squres')\n",
    "plt.plot(x,+ (res.x[1]*x) + res.x[0], '--b', label='Max Likelihood')\n",
    "plt.grid(True)\n",
    "plt.legend(loc=2)\n",
    "plt.show()\n",
    "                \n",
    "    "
   ]
  },
  {
   "cell_type": "code",
   "execution_count": 32,
   "metadata": {},
   "outputs": [
    {
     "name": "stdout",
     "output_type": "stream",
     "text": [
      "Optimization terminated successfully.\n",
      "         Current function value: 375.500035\n",
      "         Iterations: 14\n",
      "         Function evaluations: 130\n",
      "         Gradient evaluations: 26\n"
     ]
    },
    {
     "data": {
      "image/png": "[encoded data removed]",
      "text/plain": [
       "<Figure size 432x288 with 1 Axes>"
      ]
     },
     "metadata": {
      "needs_background": "light"
     },
     "output_type": "display_data"
    }
   ],
   "source": [
    "#    Let's pick some random starting points for the optimizaiton    \n",
    "nvar = 3\n",
    "var = np.zeros(nvar)\n",
    "var[0] = -15.5\n",
    "var[1] = 19.5\n",
    "var[2] = -1.0\n",
    "\n",
    "#   let's maximize the liklihood (minimize -1*max(likelihood)\n",
    "res = minimize(myFunction, var, method='BFGS',\n",
    "                options={'disp': True})\n",
    "                \n",
    "#   pefrom least squres fit using scikitlearn\n",
    "model = Pipeline([('poly', PolynomialFeatures(degree=2)),\n",
    "    ('linear', LinearRegression(fit_intercept=False))])\n",
    "\n",
    "model = model.fit(x[:, np.newaxis], y)\n",
    "coefs = model.named_steps['linear'].coef_\n",
    "\n",
    "#   plot the data and model fits\n",
    "plt.figure()\n",
    "plt.plot(x,y, 'ok')\n",
    "plt.plot(x,model.predict(x[:,np.newaxis]), '-r', label='Least Squres')\n",
    "plt.plot(x,(res.x[2]*(x**2)) + (res.x[1]*x) + res.x[0], '--b', label='Max Likelihood')\n",
    "plt.grid(True)\n",
    "plt.legend(loc=2)\n",
    "plt.show()\n",
    "\n",
    "                \n",
    "    "
   ]
  },
  {
   "cell_type": "code",
   "execution_count": null,
   "metadata": {},
   "outputs": [],
   "source": []
  },
  {
   "cell_type": "code",
   "execution_count": null,
   "metadata": {},
   "outputs": [],
   "source": []
  },
  {
   "cell_type": "code",
   "execution_count": null,
   "metadata": {},
   "outputs": [],
   "source": []
  },
  {
   "cell_type": "code",
   "execution_count": 10,
   "metadata": {},
   "outputs": [],
   "source": [
    "\n",
    "class LogisticReg(LinearModel):\n",
    "\n",
    "    def __init__(self,num_epoch=50):\n",
    "        LinearModel.__init__(self,num_epoch)\n",
    "        self.lossHistory=[]\n",
    "    \n",
    "    def sigmoid(self,x):\n",
    "        return 1 / (1 + np.exp(-x))\n",
    "\n",
    "    def fit(self,X,y):\n",
    "        X_t= np.column_stack( (np.ones((len(X),1)) , X ) )\n",
    "        self.weights = np.random.uniform(size=(X_t.shape[1],1))\n",
    "        self.gradient_descent(X_t,y)\n",
    "        \n",
    "    def predict(self,X):\n",
    "        X_t= np.column_stack( (np.ones((len(X),1)) , X ) )\n",
    "        return self.activation_func(X_t.dot(self.weights))\n",
    "            \n",
    "        \n",
    "    def gradient_descent(self,X_t,y):\n",
    "\n",
    "        for epoch in np.arange(0, self.num_epoch):\n",
    "            \n",
    "\n",
    "            activations = self.sigmoid(X_t@self.weights)\n",
    "\n",
    "            preds=(0.5<activations).astype(int)\n",
    "            \n",
    "            error=preds-y\n",
    "            loss=np.sum(np.absolute(error))\n",
    "   \n",
    "            self.lossHistory.append(loss)\n",
    "            #print(\"[INFO] epoch #{}, loss={:.7f}\".format(epoch + 1, loss))\n",
    "\n",
    "            gradient = X_t.T.dot(error) / X_t.shape[0]\n",
    "\n",
    "            self.weights += -self.gradient_update * gradient\n",
    "        \n",
    "        self.weights=np.around(self.weights,5)\n",
    "        print('Learned weights: ',self.weights)\n",
    "        \n",
    "        \n",
    "g=DataGeneratingProcess(f = lambda x:(x.mean()<x).astype(int))\n",
    "X,y=g.generate_classification(100,T=(-10,10))\n",
    "#g.plot()\n",
    "\n",
    "lr=LogisticReg(500)\n",
    "lr.fit(X.copy(),y.copy())\n",
    "\n",
    "plt.title('Loss function')\n",
    "plt.plot(lr.lossHistory)"
   ]
  },
  {
   "cell_type": "code",
   "execution_count": null,
   "metadata": {},
   "outputs": [],
   "source": []
  },
  {
   "cell_type": "markdown",
   "metadata": {},
   "source": [
    "### Lets see in action"
   ]
  },
  {
   "cell_type": "markdown",
   "metadata": {},
   "source": [
    "Observed datapoints... a random variable $X$ that is assumped to be normally distributed some mean $\\mu$ and standard deviation $\\sigma$. \n",
    "\n",
    "Our goal is to find estimations of $\\mu$ and $\\sigma$ from our sample which accurately represent the true $X$, not just the samples we’ve drawn out."
   ]
  },
  {
   "cell_type": "markdown",
   "metadata": {},
   "source": [
    "+ Let's say we have a set of data points and we find out that $\\mu=3$ and $\\sigma=1$. Then we randomly sample a datapoint from our set of datapoints and lets say that is $3$. Finally we would like to know what is the probabilitiy of observing 3 from our given set of datapoints "
   ]
  },
  {
   "cell_type": "code",
   "execution_count": 33,
   "metadata": {},
   "outputs": [
    {
     "data": {
      "text/plain": [
       "0.3989422804014327"
      ]
     },
     "execution_count": 33,
     "metadata": {},
     "output_type": "execute_result"
    }
   ],
   "source": [
    "from scipy.stats import norm\n",
    "norm.pdf(3,3,1)"
   ]
  },
  {
   "cell_type": "markdown",
   "metadata": {},
   "source": [
    "+ Let's say we have a set of data points and we find out that $\\mu=5$ and $\\sigma=1$. Then we randomly sample a datapoint from our set of datapoints and lets say that is $3$. Finally we would like to know what is the probabilitiy of observing 3 from our given set of datapoints "
   ]
  },
  {
   "cell_type": "code",
   "execution_count": 34,
   "metadata": {},
   "outputs": [
    {
     "data": {
      "text/plain": [
       "0.12098536225957168"
      ]
     },
     "execution_count": 34,
     "metadata": {},
     "output_type": "execute_result"
    }
   ],
   "source": [
    "norm.pdf(3,5,2)"
   ]
  },
  {
   "cell_type": "markdown",
   "metadata": {},
   "source": [
    "Observing $3$ in a set of datapoints whose $\\mu=3$ and $\\sigma=1$ is intiatively more probable. Let's assumed that we are given the following datapoints which are sampled from a function that we do not know but strive to know."
   ]
  },
  {
   "cell_type": "code",
   "execution_count": 35,
   "metadata": {},
   "outputs": [],
   "source": [
    "X=[4, 5, 7, 8, 8, 9, 10, 5, 2, 3, 5, 4, 8, 9]\n",
    "y=np.zeros(len(X))"
   ]
  },
  {
   "cell_type": "code",
   "execution_count": null,
   "metadata": {},
   "outputs": [],
   "source": []
  },
  {
   "cell_type": "code",
   "execution_count": 36,
   "metadata": {},
   "outputs": [
    {
     "data": {
      "text/plain": [
       "<matplotlib.collections.PathCollection at 0x11b2f1f28>"
      ]
     },
     "execution_count": 36,
     "metadata": {},
     "output_type": "execute_result"
    },
    {
     "data": {
      "image/png": "[encoded data removed]",
      "text/plain": [
       "<Figure size 432x288 with 1 Axes>"
      ]
     },
     "metadata": {
      "needs_background": "light"
     },
     "output_type": "display_data"
    }
   ],
   "source": [
    "points=np.linspace(0, 20, num=100)\n",
    "\n",
    "prob1=lambda x:norm.pdf(x,5,3)\n",
    "prob2=lambda x:norm.pdf(x,12,2)\n",
    "\n",
    "plt.plot(points,prob1(points))\n",
    "plt.plot(points,prob2(points))\n",
    "plt.scatter(X,y,c='r')"
   ]
  },
  {
   "cell_type": "markdown",
   "metadata": {},
   "source": [
    "Distribution in blue seems to be better at describing datapoints that other distribution. In otherwords,\n",
    "\n",
    "Given datapoints are more probable to be sampled from blue distrivution rather than orange one.\n"
   ]
  },
  {
   "cell_type": "markdown",
   "metadata": {},
   "source": [
    "We would like to find $P(2, 3, 4, 5, 7, 8, 9, 10| \\mu, \\sigma)$.\n",
    "So we estimate $ \\Theta$ which is $\\mu$ and $\\sigma$.\n",
    "\n",
    "More specifically, we would like to maximize the likelihood $\\Theta$"
   ]
  },
  {
   "cell_type": "code",
   "execution_count": 37,
   "metadata": {},
   "outputs": [
    {
     "name": "stdout",
     "output_type": "stream",
     "text": [
      "The LL of of x for mu = 5 and sd = 3 is: -33.9679\n",
      "The LL of of x for mu = 12 and sd = 2 is: -91.4442\n"
     ]
    }
   ],
   "source": [
    "# Compare the likelihood of the random samples to the two \n",
    "# distributions\n",
    "def compare_data_to_dist(x, mu_1=5, mu_2=12, sd_1=3, sd_2=2):\n",
    "    ll_1 = 0\n",
    "    ll_2 = 0\n",
    "    for i in x:\n",
    "        ll_1 += np.log(norm.pdf(i, mu_1, sd_1))\n",
    "        ll_2 += np.log(norm.pdf(i, mu_2, sd_2))\n",
    "    print (\"The LL of of x for mu = %d and sd = %d is: %.4f\" % (mu_1, sd_1, ll_1))\n",
    "    print (\"The LL of of x for mu = %d and sd = %d is: %.4f\" % (mu_2, sd_2, ll_2))\n",
    "compare_data_to_dist(X)"
   ]
  },
  {
   "cell_type": "code",
   "execution_count": 38,
   "metadata": {},
   "outputs": [
    {
     "name": "stdout",
     "output_type": "stream",
     "text": [
      "The max LL for sd 3.50 is -33.77\n"
     ]
    },
    {
     "data": {
      "image/png": "[encoded data removed]",
      "text/plain": [
       "<Figure size 360x576 with 1 Axes>"
      ]
     },
     "metadata": {
      "needs_background": "light"
     },
     "output_type": "display_data"
    }
   ],
   "source": [
    "# Plot the Maximum Likelihood Functions for different values of mu \n",
    "# and sigma\n",
    "def plot_ll(x):\n",
    "    plt.figure(figsize=(5,8))\n",
    "    plt.title(\"Maximim Likelihood Functions\")\n",
    "    plt.xlabel(\"Mean Estimate\")\n",
    "    plt.ylabel(\"Log Likelihood\")\n",
    "    plt.ylim(-40, -30)\n",
    "    plt.xlim(0, 12)\n",
    "    mu_set = np.linspace(0, 16, 1000)\n",
    "    sd_set = [.5, 1, 1.5, 2.5, 3, 3.5]\n",
    "    max_val = max_val_location = None\n",
    "    for i in sd_set:\n",
    "        ll_array = []\n",
    "        \n",
    "        for j in mu_set:\n",
    "            temp_mm = 0\n",
    "            \n",
    "            for k in x:\n",
    "                temp_mm += np.log(norm.pdf(k, j, i)) # The LL function\n",
    "            ll_array.append(temp_mm)\n",
    "        \n",
    "            if (max_val is None):\n",
    "                max_val = max(ll_array)\n",
    "            elif max(ll_array) > max_val:\n",
    "                max_val = max(ll_array)\n",
    "                max_val_location = j\n",
    "        \n",
    "        # Plot the results\n",
    "        plt.plot(mu_set, ll_array, label=\"sd: %.1f\" % i)\n",
    "        \n",
    "    print (\"The max LL for sd %.2f is %.2f\" % (i, max(ll_array)))    \n",
    "    plt.axvline(x=max_val_location, color='black', ls='-.')\n",
    "    plt.legend(loc='lower left')\n",
    "\n",
    "plot_ll(X);"
   ]
  },
  {
   "cell_type": "code",
   "execution_count": 39,
   "metadata": {},
   "outputs": [
    {
     "name": "stdout",
     "output_type": "stream",
     "text": [
      "6.214285714285714\n"
     ]
    },
    {
     "data": {
      "text/plain": [
       "2.425418120907092"
      ]
     },
     "execution_count": 39,
     "metadata": {},
     "output_type": "execute_result"
    }
   ],
   "source": [
    "print(np.mean(X))\n",
    "np.std(X)"
   ]
  },
  {
   "cell_type": "code",
   "execution_count": 40,
   "metadata": {},
   "outputs": [
    {
     "data": {
      "text/plain": [
       "<matplotlib.collections.PathCollection at 0x11bb0fba8>"
      ]
     },
     "execution_count": 40,
     "metadata": {},
     "output_type": "execute_result"
    },
    {
     "data": {
      "image/png": "[encoded data removed]",
      "text/plain": [
       "<Figure size 432x288 with 1 Axes>"
      ]
     },
     "metadata": {
      "needs_background": "light"
     },
     "output_type": "display_data"
    }
   ],
   "source": [
    "points=np.linspace(0, 20, num=1000)\n",
    "\n",
    "prob3=lambda x:norm.pdf(x,6.2,2.4)\n",
    "\n",
    "plt.plot(points,prob1(points))\n",
    "plt.plot(points,prob2(points))\n",
    "plt.plot(points,prob3(points))\n",
    "\n",
    "plt.scatter(X,y,c='r')"
   ]
  },
  {
   "cell_type": "markdown",
   "metadata": {},
   "source": [
    "## Regularized least squares\n",
    "\n",
    "\n",
    "The total error function to be minimized takes the following from\n",
    "\n",
    "$$ E_D(\\mathbf{w}) + \\lambda \\, E_w (\\mathbf{w})$$\n",
    "\n",
    "where $E_w (\\mathbf{w})=\\frac{1}{2} \\mathbf{w}^T \\mathbf{w}$ and $\\lambda$ is the reguarization coefficent that controls the relative important of the data-dependent error and the regularization term.\n",
    "\n",
    "The total error function becomes:\n",
    "\n",
    "$$ \\frac{1}{2} \\sum_{n=1} ^N \\{ t_n - \\mathbf{w}^T x_n\\}^2 + \\lambda \\mathbf{w}^T\\mathbf{w}$$.\n",
    "\n"
   ]
  },
  {
   "cell_type": "markdown",
   "metadata": {},
   "source": [
    "$$ \\mathbf{w}= ( \\lambda I + X^T X)^1 X^T y $$"
   ]
  },
  {
   "cell_type": "code",
   "execution_count": null,
   "metadata": {},
   "outputs": [],
   "source": []
  },
  {
   "cell_type": "code",
   "execution_count": null,
   "metadata": {},
   "outputs": [],
   "source": []
  },
  {
   "cell_type": "markdown",
   "metadata": {},
   "source": [
    "### Ridge regression as constrained optimization\n",
    "\n",
    "\n",
    "One problem with ML estimation is that it can result in overfitting. In this section, we discuss a\n",
    "way to ameliorate this problem by using MAP estimation with a Gaussian prior. For simplicity,\n",
    "we assume a Gaussian likelihood, rather than a robust likelihood.\n",
    "\n",
    "\n",
    "The reason that the MLE can overfit is that it is picking the parameter values that are the\n",
    "best for modeling the training data; but if the data is noisy, such parameters often result in\n",
    "complex functions. As a simple example, suppose we fit a degree 14 polynomial to N = 21 data\n",
    "points using least squares. The resulting curve is very “wiggly”, as shown in Figure 7.7(a). The\n",
    "corresponding least squares coefficients (excluding w0) are as follows:"
   ]
  },
  {
   "cell_type": "markdown",
   "metadata": {},
   "source": [
    "This technique is known as ridge regression, or penalized least squares. In general, adding\n",
    "a Gaussian prior to the parameters of a model to encourage them to be small is called \u00062\n",
    "regularization or weight decay. Note that the offset term w0 is not regularized, since this just\n",
    "affects the height of the function, not its complexity. By penalizing the sum of the magnitudes\n",
    "of the weights, we ensure the function is simple (since w = 0 corresponds to a straight line,\n",
    "which is the simplest possible function, corresponding to a constant.)\n",
    "We illustrate this idea in Figure 7.7, where we see that increasing"
   ]
  },
  {
   "cell_type": "code",
   "execution_count": null,
   "metadata": {},
   "outputs": [],
   "source": []
  },
  {
   "cell_type": "code",
   "execution_count": null,
   "metadata": {},
   "outputs": [],
   "source": []
  },
  {
   "cell_type": "code",
   "execution_count": null,
   "metadata": {},
   "outputs": [],
   "source": []
  },
  {
   "cell_type": "code",
   "execution_count": 41,
   "metadata": {},
   "outputs": [
    {
     "name": "stderr",
     "output_type": "stream",
     "text": [
      "/anaconda3/envs/tez/lib/python3.6/site-packages/ipykernel_launcher.py:21: DeprecationWarning: object of type <class 'numpy.float64'> cannot be safely interpreted as an integer.\n",
      "/anaconda3/envs/tez/lib/python3.6/site-packages/ipykernel_launcher.py:21: DeprecationWarning: object of type <class 'numpy.float64'> cannot be safely interpreted as an integer.\n",
      "/anaconda3/envs/tez/lib/python3.6/site-packages/ipykernel_launcher.py:21: DeprecationWarning: object of type <class 'numpy.float64'> cannot be safely interpreted as an integer.\n",
      "/anaconda3/envs/tez/lib/python3.6/site-packages/ipykernel_launcher.py:21: DeprecationWarning: object of type <class 'numpy.float64'> cannot be safely interpreted as an integer.\n",
      "/anaconda3/envs/tez/lib/python3.6/site-packages/ipykernel_launcher.py:21: DeprecationWarning: object of type <class 'numpy.float64'> cannot be safely interpreted as an integer.\n",
      "/anaconda3/envs/tez/lib/python3.6/site-packages/ipykernel_launcher.py:21: DeprecationWarning: object of type <class 'numpy.float64'> cannot be safely interpreted as an integer.\n",
      "/anaconda3/envs/tez/lib/python3.6/site-packages/ipykernel_launcher.py:21: DeprecationWarning: object of type <class 'numpy.float64'> cannot be safely interpreted as an integer.\n",
      "/anaconda3/envs/tez/lib/python3.6/site-packages/ipykernel_launcher.py:21: DeprecationWarning: object of type <class 'numpy.float64'> cannot be safely interpreted as an integer.\n",
      "/anaconda3/envs/tez/lib/python3.6/site-packages/ipykernel_launcher.py:21: DeprecationWarning: object of type <class 'numpy.float64'> cannot be safely interpreted as an integer.\n",
      "/anaconda3/envs/tez/lib/python3.6/site-packages/ipykernel_launcher.py:21: DeprecationWarning: object of type <class 'numpy.float64'> cannot be safely interpreted as an integer.\n",
      "/anaconda3/envs/tez/lib/python3.6/site-packages/ipykernel_launcher.py:21: DeprecationWarning: object of type <class 'numpy.float64'> cannot be safely interpreted as an integer.\n",
      "/anaconda3/envs/tez/lib/python3.6/site-packages/ipykernel_launcher.py:21: DeprecationWarning: object of type <class 'numpy.float64'> cannot be safely interpreted as an integer.\n",
      "/anaconda3/envs/tez/lib/python3.6/site-packages/ipykernel_launcher.py:21: DeprecationWarning: object of type <class 'numpy.float64'> cannot be safely interpreted as an integer.\n",
      "/anaconda3/envs/tez/lib/python3.6/site-packages/ipykernel_launcher.py:21: DeprecationWarning: object of type <class 'numpy.float64'> cannot be safely interpreted as an integer.\n",
      "/anaconda3/envs/tez/lib/python3.6/site-packages/ipykernel_launcher.py:21: DeprecationWarning: object of type <class 'numpy.float64'> cannot be safely interpreted as an integer.\n",
      "/anaconda3/envs/tez/lib/python3.6/site-packages/ipykernel_launcher.py:21: DeprecationWarning: object of type <class 'numpy.float64'> cannot be safely interpreted as an integer.\n",
      "/anaconda3/envs/tez/lib/python3.6/site-packages/ipykernel_launcher.py:21: DeprecationWarning: object of type <class 'numpy.float64'> cannot be safely interpreted as an integer.\n",
      "/anaconda3/envs/tez/lib/python3.6/site-packages/ipykernel_launcher.py:21: DeprecationWarning: object of type <class 'numpy.float64'> cannot be safely interpreted as an integer.\n",
      "/anaconda3/envs/tez/lib/python3.6/site-packages/ipykernel_launcher.py:21: DeprecationWarning: object of type <class 'numpy.float64'> cannot be safely interpreted as an integer.\n",
      "/anaconda3/envs/tez/lib/python3.6/site-packages/ipykernel_launcher.py:21: DeprecationWarning: object of type <class 'numpy.float64'> cannot be safely interpreted as an integer.\n",
      "/anaconda3/envs/tez/lib/python3.6/site-packages/ipykernel_launcher.py:21: DeprecationWarning: object of type <class 'numpy.float64'> cannot be safely interpreted as an integer.\n",
      "/anaconda3/envs/tez/lib/python3.6/site-packages/ipykernel_launcher.py:21: DeprecationWarning: object of type <class 'numpy.float64'> cannot be safely interpreted as an integer.\n",
      "/anaconda3/envs/tez/lib/python3.6/site-packages/ipykernel_launcher.py:21: DeprecationWarning: object of type <class 'numpy.float64'> cannot be safely interpreted as an integer.\n",
      "/anaconda3/envs/tez/lib/python3.6/site-packages/ipykernel_launcher.py:21: DeprecationWarning: object of type <class 'numpy.float64'> cannot be safely interpreted as an integer.\n",
      "/anaconda3/envs/tez/lib/python3.6/site-packages/ipykernel_launcher.py:21: DeprecationWarning: object of type <class 'numpy.float64'> cannot be safely interpreted as an integer.\n",
      "/anaconda3/envs/tez/lib/python3.6/site-packages/ipykernel_launcher.py:21: DeprecationWarning: object of type <class 'numpy.float64'> cannot be safely interpreted as an integer.\n",
      "/anaconda3/envs/tez/lib/python3.6/site-packages/ipykernel_launcher.py:21: DeprecationWarning: object of type <class 'numpy.float64'> cannot be safely interpreted as an integer.\n",
      "/anaconda3/envs/tez/lib/python3.6/site-packages/ipykernel_launcher.py:21: DeprecationWarning: object of type <class 'numpy.float64'> cannot be safely interpreted as an integer.\n",
      "/anaconda3/envs/tez/lib/python3.6/site-packages/ipykernel_launcher.py:21: DeprecationWarning: object of type <class 'numpy.float64'> cannot be safely interpreted as an integer.\n",
      "/anaconda3/envs/tez/lib/python3.6/site-packages/ipykernel_launcher.py:21: DeprecationWarning: object of type <class 'numpy.float64'> cannot be safely interpreted as an integer.\n",
      "/anaconda3/envs/tez/lib/python3.6/site-packages/ipykernel_launcher.py:21: DeprecationWarning: object of type <class 'numpy.float64'> cannot be safely interpreted as an integer.\n",
      "/anaconda3/envs/tez/lib/python3.6/site-packages/ipykernel_launcher.py:21: DeprecationWarning: object of type <class 'numpy.float64'> cannot be safely interpreted as an integer.\n",
      "/anaconda3/envs/tez/lib/python3.6/site-packages/ipykernel_launcher.py:21: DeprecationWarning: object of type <class 'numpy.float64'> cannot be safely interpreted as an integer.\n",
      "/anaconda3/envs/tez/lib/python3.6/site-packages/ipykernel_launcher.py:21: DeprecationWarning: object of type <class 'numpy.float64'> cannot be safely interpreted as an integer.\n",
      "/anaconda3/envs/tez/lib/python3.6/site-packages/ipykernel_launcher.py:21: DeprecationWarning: object of type <class 'numpy.float64'> cannot be safely interpreted as an integer.\n",
      "/anaconda3/envs/tez/lib/python3.6/site-packages/ipykernel_launcher.py:21: DeprecationWarning: object of type <class 'numpy.float64'> cannot be safely interpreted as an integer.\n",
      "/anaconda3/envs/tez/lib/python3.6/site-packages/ipykernel_launcher.py:21: DeprecationWarning: object of type <class 'numpy.float64'> cannot be safely interpreted as an integer.\n",
      "/anaconda3/envs/tez/lib/python3.6/site-packages/ipykernel_launcher.py:21: DeprecationWarning: object of type <class 'numpy.float64'> cannot be safely interpreted as an integer.\n",
      "/anaconda3/envs/tez/lib/python3.6/site-packages/ipykernel_launcher.py:21: DeprecationWarning: object of type <class 'numpy.float64'> cannot be safely interpreted as an integer.\n",
      "/anaconda3/envs/tez/lib/python3.6/site-packages/ipykernel_launcher.py:21: DeprecationWarning: object of type <class 'numpy.float64'> cannot be safely interpreted as an integer.\n",
      "/anaconda3/envs/tez/lib/python3.6/site-packages/ipykernel_launcher.py:21: DeprecationWarning: object of type <class 'numpy.float64'> cannot be safely interpreted as an integer.\n",
      "/anaconda3/envs/tez/lib/python3.6/site-packages/ipykernel_launcher.py:21: DeprecationWarning: object of type <class 'numpy.float64'> cannot be safely interpreted as an integer.\n",
      "/anaconda3/envs/tez/lib/python3.6/site-packages/ipykernel_launcher.py:21: DeprecationWarning: object of type <class 'numpy.float64'> cannot be safely interpreted as an integer.\n",
      "/anaconda3/envs/tez/lib/python3.6/site-packages/ipykernel_launcher.py:21: DeprecationWarning: object of type <class 'numpy.float64'> cannot be safely interpreted as an integer.\n",
      "/anaconda3/envs/tez/lib/python3.6/site-packages/ipykernel_launcher.py:21: DeprecationWarning: object of type <class 'numpy.float64'> cannot be safely interpreted as an integer.\n",
      "/anaconda3/envs/tez/lib/python3.6/site-packages/ipykernel_launcher.py:21: DeprecationWarning: object of type <class 'numpy.float64'> cannot be safely interpreted as an integer.\n",
      "/anaconda3/envs/tez/lib/python3.6/site-packages/ipykernel_launcher.py:21: DeprecationWarning: object of type <class 'numpy.float64'> cannot be safely interpreted as an integer.\n",
      "/anaconda3/envs/tez/lib/python3.6/site-packages/ipykernel_launcher.py:21: DeprecationWarning: object of type <class 'numpy.float64'> cannot be safely interpreted as an integer.\n",
      "/anaconda3/envs/tez/lib/python3.6/site-packages/ipykernel_launcher.py:21: DeprecationWarning: object of type <class 'numpy.float64'> cannot be safely interpreted as an integer.\n",
      "/anaconda3/envs/tez/lib/python3.6/site-packages/ipykernel_launcher.py:21: DeprecationWarning: object of type <class 'numpy.float64'> cannot be safely interpreted as an integer.\n",
      "/anaconda3/envs/tez/lib/python3.6/site-packages/ipykernel_launcher.py:21: DeprecationWarning: object of type <class 'numpy.float64'> cannot be safely interpreted as an integer.\n",
      "/anaconda3/envs/tez/lib/python3.6/site-packages/ipykernel_launcher.py:21: DeprecationWarning: object of type <class 'numpy.float64'> cannot be safely interpreted as an integer.\n",
      "/anaconda3/envs/tez/lib/python3.6/site-packages/ipykernel_launcher.py:21: DeprecationWarning: object of type <class 'numpy.float64'> cannot be safely interpreted as an integer.\n",
      "/anaconda3/envs/tez/lib/python3.6/site-packages/ipykernel_launcher.py:21: DeprecationWarning: object of type <class 'numpy.float64'> cannot be safely interpreted as an integer.\n",
      "/anaconda3/envs/tez/lib/python3.6/site-packages/ipykernel_launcher.py:21: DeprecationWarning: object of type <class 'numpy.float64'> cannot be safely interpreted as an integer.\n",
      "/anaconda3/envs/tez/lib/python3.6/site-packages/ipykernel_launcher.py:21: DeprecationWarning: object of type <class 'numpy.float64'> cannot be safely interpreted as an integer.\n",
      "/anaconda3/envs/tez/lib/python3.6/site-packages/ipykernel_launcher.py:21: DeprecationWarning: object of type <class 'numpy.float64'> cannot be safely interpreted as an integer.\n",
      "/anaconda3/envs/tez/lib/python3.6/site-packages/ipykernel_launcher.py:21: DeprecationWarning: object of type <class 'numpy.float64'> cannot be safely interpreted as an integer.\n",
      "/anaconda3/envs/tez/lib/python3.6/site-packages/ipykernel_launcher.py:21: DeprecationWarning: object of type <class 'numpy.float64'> cannot be safely interpreted as an integer.\n",
      "/anaconda3/envs/tez/lib/python3.6/site-packages/ipykernel_launcher.py:21: DeprecationWarning: object of type <class 'numpy.float64'> cannot be safely interpreted as an integer.\n"
     ]
    },
    {
     "name": "stderr",
     "output_type": "stream",
     "text": [
      "/anaconda3/envs/tez/lib/python3.6/site-packages/ipykernel_launcher.py:21: DeprecationWarning: object of type <class 'numpy.float64'> cannot be safely interpreted as an integer.\n",
      "/anaconda3/envs/tez/lib/python3.6/site-packages/ipykernel_launcher.py:21: DeprecationWarning: object of type <class 'numpy.float64'> cannot be safely interpreted as an integer.\n",
      "/anaconda3/envs/tez/lib/python3.6/site-packages/ipykernel_launcher.py:21: DeprecationWarning: object of type <class 'numpy.float64'> cannot be safely interpreted as an integer.\n",
      "/anaconda3/envs/tez/lib/python3.6/site-packages/ipykernel_launcher.py:21: DeprecationWarning: object of type <class 'numpy.float64'> cannot be safely interpreted as an integer.\n",
      "/anaconda3/envs/tez/lib/python3.6/site-packages/ipykernel_launcher.py:21: DeprecationWarning: object of type <class 'numpy.float64'> cannot be safely interpreted as an integer.\n",
      "/anaconda3/envs/tez/lib/python3.6/site-packages/ipykernel_launcher.py:21: DeprecationWarning: object of type <class 'numpy.float64'> cannot be safely interpreted as an integer.\n",
      "/anaconda3/envs/tez/lib/python3.6/site-packages/ipykernel_launcher.py:21: DeprecationWarning: object of type <class 'numpy.float64'> cannot be safely interpreted as an integer.\n",
      "/anaconda3/envs/tez/lib/python3.6/site-packages/ipykernel_launcher.py:21: DeprecationWarning: object of type <class 'numpy.float64'> cannot be safely interpreted as an integer.\n",
      "/anaconda3/envs/tez/lib/python3.6/site-packages/ipykernel_launcher.py:21: DeprecationWarning: object of type <class 'numpy.float64'> cannot be safely interpreted as an integer.\n",
      "/anaconda3/envs/tez/lib/python3.6/site-packages/ipykernel_launcher.py:21: DeprecationWarning: object of type <class 'numpy.float64'> cannot be safely interpreted as an integer.\n",
      "/anaconda3/envs/tez/lib/python3.6/site-packages/ipykernel_launcher.py:21: DeprecationWarning: object of type <class 'numpy.float64'> cannot be safely interpreted as an integer.\n",
      "/anaconda3/envs/tez/lib/python3.6/site-packages/ipykernel_launcher.py:21: DeprecationWarning: object of type <class 'numpy.float64'> cannot be safely interpreted as an integer.\n",
      "/anaconda3/envs/tez/lib/python3.6/site-packages/ipykernel_launcher.py:21: DeprecationWarning: object of type <class 'numpy.float64'> cannot be safely interpreted as an integer.\n",
      "/anaconda3/envs/tez/lib/python3.6/site-packages/ipykernel_launcher.py:21: DeprecationWarning: object of type <class 'numpy.float64'> cannot be safely interpreted as an integer.\n",
      "/anaconda3/envs/tez/lib/python3.6/site-packages/ipykernel_launcher.py:21: DeprecationWarning: object of type <class 'numpy.float64'> cannot be safely interpreted as an integer.\n",
      "/anaconda3/envs/tez/lib/python3.6/site-packages/ipykernel_launcher.py:21: DeprecationWarning: object of type <class 'numpy.float64'> cannot be safely interpreted as an integer.\n",
      "/anaconda3/envs/tez/lib/python3.6/site-packages/ipykernel_launcher.py:21: DeprecationWarning: object of type <class 'numpy.float64'> cannot be safely interpreted as an integer.\n",
      "/anaconda3/envs/tez/lib/python3.6/site-packages/ipykernel_launcher.py:21: DeprecationWarning: object of type <class 'numpy.float64'> cannot be safely interpreted as an integer.\n",
      "/anaconda3/envs/tez/lib/python3.6/site-packages/ipykernel_launcher.py:21: DeprecationWarning: object of type <class 'numpy.float64'> cannot be safely interpreted as an integer.\n",
      "/anaconda3/envs/tez/lib/python3.6/site-packages/ipykernel_launcher.py:21: DeprecationWarning: object of type <class 'numpy.float64'> cannot be safely interpreted as an integer.\n"
     ]
    },
    {
     "data": {
      "image/png": "[encoded data removed]",
      "text/plain": [
       "<Figure size 432x288 with 1 Axes>"
      ]
     },
     "metadata": {
      "needs_background": "light"
     },
     "output_type": "display_data"
    },
    {
     "data": {
      "image/png": "[encoded data removed]",
      "text/plain": [
       "<Figure size 432x288 with 1 Axes>"
      ]
     },
     "metadata": {
      "needs_background": "light"
     },
     "output_type": "display_data"
    },
    {
     "data": {
      "image/png": "[encoded data removed]",
      "text/plain": [
       "<Figure size 432x288 with 1 Axes>"
      ]
     },
     "metadata": {
      "needs_background": "light"
     },
     "output_type": "display_data"
    },
    {
     "data": {
      "image/png": "[encoded data removed]",
      "text/plain": [
       "<Figure size 432x288 with 1 Axes>"
      ]
     },
     "metadata": {
      "needs_background": "light"
     },
     "output_type": "display_data"
    }
   ],
   "source": [
    "\n",
    "# Based on https://github.com/probml/pmtk3/blob/master/demos/linregPolyVsN.m\n",
    "import os\n",
    "#from utils.util import poly_data_make\n",
    "from sklearn.linear_model import Ridge\n",
    "from sklearn.preprocessing import MinMaxScaler \n",
    "import matplotlib.pyplot as plt\n",
    "import numpy as np\n",
    "\n",
    "\n",
    "TrueDeg = 2 #The true degree of the model\n",
    "degrees = [1, 2, 14, 20] #The degrees of our design matrices\n",
    "    \n",
    "#Function to expand from x to design matrix of degree deg\n",
    "def ExpandtoDeg(x,deg):\n",
    "    return np.array([x**i for i in range(deg+1)]).transpose().reshape(-1,deg+1)\n",
    "\n",
    "def make_1dregression_data(n=21):\n",
    "    np.random.seed(0)\n",
    "    # Example from Romaine Thibaux\n",
    "    xtrain = np.linspace(0, 20, n)\n",
    "    xtest = np.arange(0, 20, 0.1)\n",
    "    sigma2 = 4\n",
    "    w = np.array([-1.5, 1/9.])\n",
    "    fun = lambda x: w[0]*x + w[1]*np.square(x)\n",
    "    # Apply function to make data\n",
    "    ytrain = fun(xtrain) + np.random.normal(0, 1, xtrain.shape) * \\\n",
    "        np.sqrt(sigma2)\n",
    "    ytestNoisefree = fun(xtest)\n",
    "    ytestNoisy = ytestNoisefree + np.random.normal(0, 1, xtest.shape) * \\\n",
    "        np.sqrt(sigma2)\n",
    "    return xtrain, ytrain, xtest, ytestNoisefree, ytestNoisy, sigma2\n",
    "    \n",
    "def make_poly_regression_data(deg=2, n=21):\n",
    "    np.random.seed(0)\n",
    "    xtrain = np.linspace(-1, 1, n)\n",
    "    xtest = np.arange(-1, 1, 0.01)\n",
    "    sigma2 = 4\n",
    "    fun = lambda x: (1 + x + np.power(x, deg))\n",
    "    # Apply function to make data\n",
    "    ytrain = fun(xtrain) + np.random.normal(0, 1, xtrain.shape) * \\\n",
    "        np.sqrt(sigma2)\n",
    "    ytestNoisefree = fun(xtest)\n",
    "    ytestNoisy = ytestNoisefree + np.random.normal(0, 1, xtest.shape) * \\\n",
    "        np.sqrt(sigma2)\n",
    "    return xtrain, ytrain, xtest, ytestNoisefree, ytestNoisy, sigma2\n",
    "    \n",
    "    \n",
    "for ModDeg in degrees:\n",
    "    \n",
    "    ns = np.round(np.linspace(10, 210, 20))\n",
    "    \n",
    "    err = []\n",
    "    errtrain = []\n",
    "    for n in ns:\n",
    "        #Forming data\n",
    "        #xtrain, ytrain, xtest, _, ytest, _ = poly_data_make(sampling='thibaux', deg=TrueDeg, n=n)\n",
    "        xtrain, ytrain, xtest, _, ytest, _ = make_1dregression_data(n=n)\n",
    "        #xtrain, ytrain, xtest, _, ytest, _ = make_poly_regression_data(deg=TrueDeg, n=n)\n",
    "        \n",
    "        #Rescaling data\n",
    "        scaler = MinMaxScaler(feature_range=(-1, 1))\n",
    "        xtrain = scaler.fit_transform(xtrain.reshape(-1, 1))\n",
    "        xtest = scaler.transform(xtest.reshape(-1, 1))\n",
    "\n",
    "        #Fitting ridge regression. Small differences in alpha near zero make a visual difference in the plot when n is close to 0.\n",
    "        regr = Ridge(alpha=0, fit_intercept=False) #Using ridge instead of ordinary least squares for numerical stability\n",
    "        XDesignTrain = ExpandtoDeg(xtrain, ModDeg)\n",
    "        XDesignTest = ExpandtoDeg(xtest, ModDeg)\n",
    "        regr.fit(XDesignTrain,ytrain)   \n",
    "        ypred = regr.predict(XDesignTest)\n",
    "        err.append(np.mean((ytest-ypred)**2))\n",
    "        errtrain.append(np.mean((ytrain-regr.predict(XDesignTrain))**2))\n",
    "    \n",
    "    #Plotting\n",
    "    fig, ax = plt.subplots()\n",
    "    ax.plot(ns, err, color = 'r', marker = 's',label='test')\n",
    "    ax.plot(ns, errtrain, marker = 'x', label='train')\n",
    "    ax.legend(loc='upper right', shadow=True)\n",
    "    ax.set_xlim([0,200])\n",
    "    ax.set_ylim([0,22])\n",
    "    plt.axhline(y=4, color='k', linewidth=2)\n",
    "    plt.xlabel('size of training set')\n",
    "    plt.ylabel('mse')\n",
    "    plt.title('truth = degree {}, model = degree {}'.format(TrueDeg, ModDeg))\n",
    "    plt.savefig(os.path.join('figures', 'polyfitN{}.pdf'.format(ModDeg)),orientation='landscape')\n",
    "    plt.draw()\n",
    "\n",
    "plt.show()"
   ]
  },
  {
   "cell_type": "code",
   "execution_count": 42,
   "metadata": {},
   "outputs": [],
   "source": [
    "#!/usr/bin/env python\n",
    "\n",
    "from utils import *\n",
    "import numpy as np\n",
    "\n",
    "def default_fit_options(reg_type, D):\n",
    "    \"\"\"returns an object with default linear regression fit options\n",
    "    \"\"\"\n",
    "    opts = {}\n",
    "    opts['Display'] = None\n",
    "    opts['verbose'] = False\n",
    "    opts['TolFun'] = 1e-3\n",
    "    opts['MaxIter'] = 200\n",
    "    opts['Method'] = 'lbfgs'\n",
    "    opts['MaxFunEvals'] = 2000\n",
    "    opts['TolX'] = 1e-3\n",
    "    if reg_type.lower() == 'l1':\n",
    "        opts['order'] = -1\n",
    "        if D > 1000:\n",
    "            opts['corrections'] = 10\n",
    "    return opts\n",
    "\n",
    "\n",
    "def preprocessor_apply_to_train(preproc, X):\n",
    "    \"\"\"\n",
    "    Apply Preprocessor to training data and memorize parameters\n",
    "\n",
    "    preproc is initially a struct with the following fields [default]\n",
    "\n",
    "    standardize_X - if True, makes columns of X zero mean and unit var. [True]\n",
    "    rescale_X - if True, scale columns of X to lie in [-1, +1] [False]\n",
    "    kernel_fn - if not None, apply kernel fn to X  default [None]\n",
    "\n",
    "    The returned preproc object has several more fields added to it,\n",
    "    which are used by  preprocessor_apply_to_test\n",
    "    \"\"\"\n",
    "\n",
    "    # Set defaults\n",
    "    try:\n",
    "        preproc.standardize_X\n",
    "    except AttributeError:\n",
    "        preproc.standardize_X = True\n",
    "    try:\n",
    "        preproc.rescale_X\n",
    "    except AttributeError:\n",
    "        preproc.rescale_X = False\n",
    "    try:\n",
    "        preproc.kernel_fn\n",
    "    except AttributeError:\n",
    "        preproc.kernel_fn = None\n",
    "    try:\n",
    "        preproc.poly\n",
    "    except AttributeError:\n",
    "        preproc.poly = None\n",
    "    try:\n",
    "        preproc.add_ones\n",
    "    except AttributeError:\n",
    "        preproc.add_ones = None\n",
    "\n",
    "    if preproc.standardize_X:\n",
    "        X, preproc.Xmu = util.center_cols(X)\n",
    "        X, preproc.Xstnd = util.mk_unit_variance(X)\n",
    "\n",
    "    if preproc.rescale_X:\n",
    "        try:\n",
    "            preproc.Xscale\n",
    "        except AttributeError:\n",
    "            preproc.Xscale = [-1, 1]\n",
    "        X = util.rescale_data(X, preproc.Xscale[0], preproc.Xscale[1])\n",
    "\n",
    "    if preproc.kernel_fn is not None:\n",
    "        preproc.basis = X\n",
    "        X = preproc.kernel_fn(X, preproc.basis)\n",
    "\n",
    "    if preproc.poly is not None:\n",
    "        assert preproc.poly > 0, 'polynomial degree must be greater than 0'\n",
    "        X = util.degexpand(X, preproc.poly, False)\n",
    "\n",
    "    if preproc.add_ones:\n",
    "        X = util.add_ones(X)\n",
    "\n",
    "    return preproc, X\n",
    "\n",
    "\n",
    "def preprocessor_apply_to_test(preproc, X):\n",
    "    \"\"\"Transform the test data in the same way as the training data\"\"\"\n",
    "\n",
    "    try:\n",
    "        X = util.center_cols(X, preproc.Xmu)\n",
    "    except AttributeError:\n",
    "        pass\n",
    "\n",
    "    try:\n",
    "        X = util.mk_unit_variance(X, preproc.Xstnd)\n",
    "    except AttributeError:\n",
    "        pass\n",
    "\n",
    "    try:\n",
    "        X = util.rescale_data(X, preproc.Xscale[0], preproc.Xscale[1])\n",
    "    except AttributeError:\n",
    "        pass\n",
    "\n",
    "    try:\n",
    "        if preproc.kernel_fn is not None:\n",
    "            X = preproc.kernel_fn(X, preproc.basis)\n",
    "    except AttributeError:\n",
    "        pass\n",
    "\n",
    "    try:\n",
    "        if preproc.poly is not None:\n",
    "            X = util.degexpand(X, preproc.poly, False)\n",
    "    except AttributeError:\n",
    "        pass\n",
    "\n",
    "    try:\n",
    "        if preproc.add_ones:\n",
    "            X = util.add_ones(X)\n",
    "    except AttributeError:\n",
    "        pass\n",
    "\n",
    "    return X\n",
    "\n",
    "\n",
    "def linreg_create():\n",
    "    pass\n",
    "\n",
    "\n",
    "def linreg_fit(X, y, **kwargs):\n",
    "    \"\"\"\n",
    "    Fit a linear regression model with MLE or MAP.\n",
    "    This is a port of linregFit.m from pmtk3.\n",
    "\n",
    "    :param X: N*D design matrix\n",
    "    :param y: N*1 response vector\n",
    "    \"\"\"\n",
    "    pp = util.preprocessor_create(add_ones=True, standardize_X=False)  # default\n",
    "\n",
    "    N = len(X)\n",
    "    D = 1 if len(X.shape) < 2 else X.shape[1]\n",
    "\n",
    "    weights = kwargs['weights'] if 'weights' in kwargs else np.ones(N)\n",
    "    reg_type = kwargs['reg_type'] if 'reg_type' in kwargs else None\n",
    "    likelihood = kwargs['likelihood'] if 'likelihood' in kwargs else 'gaussian'\n",
    "    lambda_ = kwargs['lambda_'] if 'lambda_' in kwargs else None\n",
    "    fit_options = kwargs['fit_options'] if 'fit_options' in kwargs else None\n",
    "    preproc = kwargs['preproc'] if 'preproc' in kwargs else pp\n",
    "    fit_fn_name = kwargs['fit_fn_name'] if 'fit_fn_name' in kwargs else None\n",
    "    winit = kwargs['winit'] if 'winit' in kwargs else None\n",
    "\n",
    "    if preproc is None:\n",
    "        preproc = util.preprocessor_create()\n",
    "\n",
    "    if preproc.add_ones:\n",
    "        D += 1\n",
    "\n",
    "    if winit is None:\n",
    "        winit = np.zeros(D)\n",
    "\n",
    "    if reg_type is None:\n",
    "        if lambda_ is None:\n",
    "            # MLE\n",
    "            reg_type = 'l2'\n",
    "            lambda_ = 0\n",
    "        else:\n",
    "            #L2\n",
    "            reg_type = 'l2'\n",
    "\n",
    "    if fit_options is None:\n",
    "        fit_options = default_fit_options(reg_type, D)\n",
    "\n",
    "    if fit_fn_name is None:\n",
    "        if reg_type.lower() == 'l1':\n",
    "            fit_fn_name = 'l1GeneralProjection'\n",
    "        elif reg_type.lower() == 'l2':\n",
    "            fit_fn_name = 'qr'\n",
    "\n",
    "    model = {}\n",
    "\n",
    "    if likelihood.lower() == 'huber':\n",
    "        raise NotImplementedError\n",
    "    elif likelihood.lower() == 'student':\n",
    "        raise NotImplementedError\n",
    "    elif likelihood.lower() == 'gaussian':\n",
    "        preproc, X = preprocessor_apply_to_train(preproc, X)\n",
    "        N = len(X)\n",
    "        D = 1 if len(X.shape) < 2 else X.shape[1]\n",
    "        model['lambda_'] = lambda_\n",
    "        lambda_vec = lambda_ * np.ones(D)\n",
    "\n",
    "        if preproc.add_ones:\n",
    "            lambda_vec[0] = 0  # don't penalize bias term\n",
    "\n",
    "        winit = np.zeros(D)\n",
    "        opts = fit_options\n",
    "\n",
    "        if reg_type == 'l1':\n",
    "            raise NotImplementedError\n",
    "        elif reg_type == 'l2':\n",
    "            if fit_fn_name == 'qr':\n",
    "                if lambda_ == 0:\n",
    "                    R = np.diag(np.sqrt(weights))\n",
    "                    RX = R.dot(X)\n",
    "                    # Attempt tp emulate matlab's w = (R*X) \\ (R*y);\n",
    "                    # Note that backslash operator uses QR, not pinv...\n",
    "                    w = np.linalg.pinv(RX.T.dot(RX)).dot(RX.T).dot(R.dot(y))\n",
    "                else:\n",
    "                    raise NotImplementedError\n",
    "            elif fit_fn_name == 'minfunc':\n",
    "                raise NotImplementedError\n",
    "            else:\n",
    "                raise ValueError('Invalid fit function')\n",
    "        elif reg_type == 'scad':\n",
    "            raise NotImplementedError\n",
    "        else:\n",
    "            raise ValueError('Invalid regression type')\n",
    "    else:\n",
    "        raise ValueError('Invalid likelihood')\n",
    "\n",
    "    model['w'] = w\n",
    "    yhat = X.dot(w)\n",
    "\n",
    "    if weights.sum() == 0:\n",
    "        model['sigma2'] = np.spacing(1)\n",
    "    else:\n",
    "        model['sigma2'] = np.sum(weights * np.square(y - yhat)) / \\\n",
    "            np.sum(weights)\n",
    "\n",
    "    model['preproc'] = preproc\n",
    "    model['model_type'] = 'linreg'\n",
    "    model['likelihood'] = likelihood\n",
    "\n",
    "    return model\n",
    "\n",
    "\n",
    "def linreg_fit_bayes(X, y, **kwargs):\n",
    "    \"\"\"\n",
    "    Fit a Bayesian linear regression model.\n",
    "    This is a port of linregFit.m from pmtk3.\n",
    "\n",
    "    :param X: N*D design matrix\n",
    "    :param y: N*1 response vector\n",
    "    \"\"\"\n",
    "    pp = util.preprocessor_create(add_ones=True, standardize_X=False)  # default\n",
    "\n",
    "    prior = kwargs['prior'] if 'prior' in kwargs else 'uninf'\n",
    "    preproc = kwargs['preproc'] if 'preproc' in kwargs else pp\n",
    "    beta = kwargs['beta'] if 'beta' in kwargs else None\n",
    "    alpha = kwargs['alpha'] if 'alpha' in kwargs else None\n",
    "    g = kwargs['g'] if 'g' in kwargs else None\n",
    "    use_ARD = kwargs['use_ARD'] if 'use_ARD' in kwargs else False\n",
    "    verbose = kwargs['verbose'] if 'verbose' in kwargs else False\n",
    "\n",
    "    if prior.lower() == 'eb':\n",
    "        prior = 'ebnetlab'\n",
    "\n",
    "    if prior.lower() == 'uninf':\n",
    "        raise NotImplementedError\n",
    "    elif prior.lower() == 'gauss':\n",
    "        raise NotImplementedError\n",
    "    elif prior.lower() == 'zellner':\n",
    "        raise NotImplementedError\n",
    "    elif prior.lower() == 'vb':\n",
    "        raise NotImplementedError\n",
    "    elif prior.lower() == 'ebnetlab':\n",
    "        model, logev = linreg_fit_eb_netlab(X, y, preproc)\n",
    "    elif prior.lower() == 'ebchen':\n",
    "        raise NotImplementedError\n",
    "    else:\n",
    "        raise ValueError('Invalid prior')\n",
    "\n",
    "    model['model_type'] = 'linreg_bayes'\n",
    "    model['prior'] = prior\n",
    "\n",
    "    return model, logev\n",
    "\n",
    "\n",
    "def linreg_fit_path_cv():\n",
    "    pass\n",
    "\n",
    "\n",
    "def linreg_logprob():\n",
    "    pass\n",
    "\n",
    "\n",
    "def linreg_predict(model, X, v=False):\n",
    "    \"\"\"\n",
    "    Prediction with linear regression\n",
    "    yhat[i] = E[y|X[i, :]], model]\n",
    "    v[i] = Var[y|X[i, :], model]\n",
    "    \"\"\"\n",
    "    if 'preproc' in model:\n",
    "        X = preprocessor_apply_to_test(model['preproc'], X)\n",
    "\n",
    "    yhat = X.dot(model['w'])\n",
    "    return yhat\n",
    "\n",
    "\n",
    "def linreg_predict_bayes():\n",
    "    pass"
   ]
  },
  {
   "cell_type": "code",
   "execution_count": 43,
   "metadata": {},
   "outputs": [
    {
     "data": {
      "image/png": "[encoded data removed]",
      "text/plain": [
       "<Figure size 432x288 with 1 Axes>"
      ]
     },
     "metadata": {
      "needs_background": "light"
     },
     "output_type": "display_data"
    },
    {
     "data": {
      "image/png": "[encoded data removed]",
      "text/plain": [
       "<Figure size 432x288 with 1 Axes>"
      ]
     },
     "metadata": {
      "needs_background": "light"
     },
     "output_type": "display_data"
    },
    {
     "data": {
      "image/png": "[encoded data removed]",
      "text/plain": [
       "<Figure size 432x288 with 1 Axes>"
      ]
     },
     "metadata": {
      "needs_background": "light"
     },
     "output_type": "display_data"
    },
    {
     "data": {
      "image/png": "[encoded data removed]",
      "text/plain": [
       "<Figure size 432x288 with 1 Axes>"
      ]
     },
     "metadata": {
      "needs_background": "light"
     },
     "output_type": "display_data"
    },
    {
     "data": {
      "image/png": "[encoded data removed]",
      "text/plain": [
       "<Figure size 432x288 with 1 Axes>"
      ]
     },
     "metadata": {
      "needs_background": "light"
     },
     "output_type": "display_data"
    }
   ],
   "source": [
    "\n",
    "#       Author:    J. Benjamin Cook\n",
    "#       E-mail:    jbenjamincook@gmail.com\n",
    "#\n",
    "\n",
    "\n",
    "# Based on https://github.com/probml/pmtk3/blob/master/demos/linregPolyVsDegree.m\n",
    "\n",
    "import os\n",
    "import numpy as np\n",
    "import matplotlib.pyplot as plt\n",
    "from utils.util import preprocessor_create\n",
    "#from utils.util import poly_data_make\n",
    "from examples.linregPmtkEmulator import linreg_fit\n",
    "from examples.linregPmtkEmulator import linreg_predict\n",
    "#from examples.linearRegression import linreg_fit_bayes\n",
    "\n",
    "def make_1dregression_data(n=21):\n",
    "    np.random.seed(0)\n",
    "    # Example from Romaine Thibaux\n",
    "    xtrain = np.linspace(0, 20, n)\n",
    "    xtest = np.arange(0, 20, 0.1)\n",
    "    sigma2 = 4\n",
    "    w = np.array([-1.5, 1/9.])\n",
    "    fun = lambda x: w[0]*x + w[1]*np.square(x)\n",
    "    # Apply function to make data\n",
    "    ytrain = fun(xtrain) + np.random.normal(0, 1, xtrain.shape) * \\\n",
    "        np.sqrt(sigma2)\n",
    "    ytestNoisefree = fun(xtest)\n",
    "    ytestNoisy = ytestNoisefree + np.random.normal(0, 1, xtest.shape) * \\\n",
    "        np.sqrt(sigma2)\n",
    "    return xtrain, ytrain, xtest, ytestNoisefree, ytestNoisy, sigma2\n",
    "    \n",
    "N = 21\n",
    "#xtrain, ytrain, xtest, _, ytest, _ = poly_data_make(sampling='thibaux', n=N)\n",
    "xtrain, ytrain, xtest, _, ytest, _ = make_1dregression_data(n=N)\n",
    "\n",
    "\n",
    "degs = np.arange(1, 22)\n",
    "Nm = len(degs)\n",
    "\n",
    "# Plot error vs degree\n",
    "mseTrain = np.zeros(Nm)\n",
    "mseTest = np.zeros(Nm)\n",
    "for m in range(len(degs)):\n",
    "    deg = degs[m]\n",
    "    pp = preprocessor_create(rescale_X=True, poly=deg, add_ones=True)\n",
    "    model = linreg_fit(xtrain, ytrain, preproc=pp)\n",
    "    ypredTrain = linreg_predict(model, xtrain)\n",
    "    ypredTest = linreg_predict(model, xtest)\n",
    "    mseTrain[m] = np.mean(np.square(ytrain - ypredTrain))\n",
    "    mseTest[m] = np.mean(np.square(ytest - ypredTest))\n",
    "\n",
    "ndx = degs <= 16\n",
    "fig = plt.figure()\n",
    "plt.plot(degs[ndx], mseTrain[ndx], 'bs-', lw=3)\n",
    "plt.plot(degs[ndx], mseTest[ndx], 'r*-', lw=3)\n",
    "plt.xlabel('degree')\n",
    "plt.ylabel('mse')\n",
    "leg = plt.legend(('train', 'test'), loc='upper left')\n",
    "leg.draw_frame(False)\n",
    "plt.savefig(os.path.join('figures','linregPolyVsDegreeUcurve.pdf'))\n",
    "plt.show()\n",
    "\n",
    "degs = [1, 2, 14, 20]\n",
    "mseTrain = np.zeros(len(degs))\n",
    "mseTest = np.zeros(len(degs))\n",
    "\n",
    "for m, deg in enumerate(degs):\n",
    "    pp = preprocessor_create(rescale_X=True, poly=deg, add_ones=True)\n",
    "    model = linreg_fit(xtrain, ytrain, preproc=pp)\n",
    "    ypredTrain = linreg_predict(model, xtrain)\n",
    "    ypredTest = linreg_predict(model, xtest)\n",
    "    mseTrain[m] = np.mean(np.square(ytrain - ypredTrain))\n",
    "    mseTest[m] = np.mean(np.square(ytest - ypredTest))\n",
    "\n",
    "    plt.figure()\n",
    "    plt.plot(xtrain, ytrain, 'o')\n",
    "    plt.plot(xtest, ypredTest, 'k', lw=3)\n",
    "    plt.title(\"degree %d\" % deg)\n",
    "    plt.xlim([-1, 21])\n",
    "    #plt.xlim([min(xtest), max(xtest)])\n",
    "    plt.ylim([-10, 15])\n",
    "    plt.savefig(os.path.join('figures','polyfitDemo%d.pdf' % deg))\n",
    "    plt.show()\n"
   ]
  },
  {
   "cell_type": "code",
   "execution_count": null,
   "metadata": {},
   "outputs": [],
   "source": []
  },
  {
   "cell_type": "markdown",
   "metadata": {},
   "source": [
    "## Bayesian Learning\n",
    "\n",
    "### Bayesian Learning for model parameters\n",
    "\n",
    "+ Given $n$ data $D=X_{1_n}= \\{x_1,...,x_n \\}$ write down the expression for likelihood\n",
    "\n",
    "$$ p(D|\\Theta)$$ where $\\Theta$ is model parameters\n",
    "\n",
    "+ Specify a prior $p(\\Theta)$\n",
    "\n",
    "+ Compute the posterior $$ p(\\Theta | D) = \\frac{p(D|\\Theta)p(\\Theta)}{p(D)}$$"
   ]
  },
  {
   "cell_type": "markdown",
   "metadata": {},
   "source": [
    "## Note to me.\n",
    "\n",
    "Maximum Likelihood Estimate at prediction gives always the same sigm\n",
    "same variance apply to each point\n",
    "\n",
    "However Baysian anssure that where we have more data\n",
    "variance will be smaller and where less or no data variance will be high.\n",
    "Telling us our confident.\n"
   ]
  },
  {
   "cell_type": "code",
   "execution_count": null,
   "metadata": {},
   "outputs": [],
   "source": []
  },
  {
   "cell_type": "code",
   "execution_count": null,
   "metadata": {},
   "outputs": [],
   "source": []
  }
 ],
 "metadata": {
  "kernelspec": {
   "display_name": "tez",
   "language": "python",
   "name": "tez"
  },
  "language_info": {
   "codemirror_mode": {
    "name": "ipython",
    "version": 3
   },
   "file_extension": ".py",
   "mimetype": "text/x-python",
   "name": "python",
   "nbconvert_exporter": "python",
   "pygments_lexer": "ipython3",
   "version": "3.6.4"
  }
 },
 "nbformat": 4,
 "nbformat_minor": 2
}
